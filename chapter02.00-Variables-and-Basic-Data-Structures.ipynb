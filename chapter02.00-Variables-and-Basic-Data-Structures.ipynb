{
 "cells": [
  {
   "cell_type": "markdown",
   "metadata": {
    "button": false,
    "new_sheet": false,
    "run_control": {
     "read_only": false
    }
   },
   "source": [
    "<!--BOOK_INFORMATION-->\n",
    "<img align=\"left\" style=\"padding-right:10px;\" src=\"images/book_cover.jpg\" width=\"120\">\n",
    "\n",
    "*Ce cahier contient un extrait de [Programmation Python et méthodes numériques - Un guide pour les ingénieurs et les scientifiques](https://pythonnumericalmethods.berkeley.edu/notebooks/Index.html), le contenu est également disponible sur [Berkeley Python Numerical Methods](https://pythonnumericalmethods.berkeley.edu/notebooks/Index.html).*\n",
    "\n",
    "*Les droits d'auteur du livre appartiennent à Elsevier. Nous avons également ce livre interactif en ligne pour une meilleure expérience d'apprentissage. Le code est publié sous la [licence MIT](https://opensource.org/licenses/MIT). Si vous trouvez ce contenu utile, pensez à soutenir le travail sur [Elsevier](https://www.elsevier.com/books/python-programming-and-numerical-methods/kong/978-0-12-819549-9) ou [Amazon](https://www.amazon.com/Python-Programming-Numerical-Methods-Scientists/dp/0128195495/ref=sr_1_1?dchild=1&keywords=Python+Programming+and+Numerical+Methods+-+A+Guide+for+Engineers+and+Scientists&qid=1604761352&sr=8-1) !*"
   ]
  },
  {
   "cell_type": "markdown",
   "metadata": {
    "button": false,
    "new_sheet": false,
    "run_control": {
     "read_only": false
    }
   },
   "source": [
    "<!--NAVIGATION-->\n",
    "< [Chapter 1 Summary and Problems](chapter01.06-Summary-and-Problems.ipynb) | [Contents](Index.ipynb) | [2.1 Python as A Calculator](chapter02.01-Variables-and-Assignment.ipynb) >"
   ]
  },
  {
   "cell_type": "markdown",
   "metadata": {
    "lang": "fr"
   },
   "source": [
    "# Chapitre 2. Variables et structures de données de base"
   ]
  },
  {
   "cell_type": "markdown",
   "metadata": {
    "lang": "fr"
   },
   "source": [
    "#### SOMMAIRE\n",
    "\n",
    "---\n",
    "\n",
    "* [**2.1 Variables et affectation**](chapitre02.01-Variables-and-Assignment.ipynb)\n",
    "* [**2.2 Structure des données - Chaînes**](chapter02.02-Data-Structure-Strings.ipynb)\n",
    "* [**2.3 Structure de données - Listes**](chapter02.03-Data-Structure-Lists.ipynb)\n",
    "* [**2.4 Structure de données - Tuples**](chapter02.04-Data-Structure-Tuples.ipynb)\n",
    "* [**2.5 Structure de données - Ensembles**](chapter02.05-Data-Structure-Sets.ipynb)\n",
    "* [**2.6 Structure des données - Dictionnaires**](chapter02.06-Data-Structure-Dictionaries.ipynb)\n",
    "* [**2.7 Présentation des tableaux Numpy**](chapter02.07-Introducing_numpy_arrays.ipynb)\n",
    "* [**2.8 Résumé et problèmes**](chapter02.08-Summary-and-Problems.ipynb)"
   ]
  },
  {
   "cell_type": "markdown",
   "metadata": {
    "lang": "fr"
   },
   "source": [
    "---\n",
    "\n",
    "## Motivation\n",
    "\n",
    "Actuellement, la technologie peut acquérir des informations du monde physique à un rythme effréné. Par exemple, il existe des capteurs capables d'effectuer des dizaines de milliers de mesures de pression, de température et d'accélération par seconde. Pour donner un sens à toutes ces données et les traiter de manière à aider à résoudre des problèmes scientifiques et techniques, il faut stocker les informations dans des structures de données avec lesquelles vous et Python pouvez facilement travailler.\n",
    "\n",
    "Les variables sont utilisées en Python pour stocker et utiliser des données. Cependant, les données peuvent prendre plusieurs formes. Par exemple, les données peuvent être des nombres, des mots ou avoir une structure plus complexe. Il est tout à fait naturel que Python dispose de différents types de variables pour contenir différents types de données. Dans ce chapitre, vous apprendrez à créer et à manipuler les types de variables les plus courants de Python.\n",
    "\n",
    "---"
   ]
  }
 ],
 "metadata": {
  "kernelspec": {
   "display_name": "Python 3 (ipykernel)",
   "language": "python",
   "name": "python3"
  },
  "language_info": {
   "codemirror_mode": {
    "name": "ipython",
    "version": 3
   },
   "file_extension": ".py",
   "mimetype": "text/x-python",
   "name": "python",
   "nbconvert_exporter": "python",
   "pygments_lexer": "ipython3",
   "version": "3.11.7"
  },
  "nbTranslate": {
   "displayLangs": [
    "*"
   ],
   "hotkey": "alt-t",
   "langInMainMenu": true,
   "sourceLang": "en",
   "targetLang": "fr",
   "useGoogleTranslate": true
  }
 },
 "nbformat": 4,
 "nbformat_minor": 2
}
