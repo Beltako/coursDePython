{
 "cells": [
  {
   "cell_type": "markdown",
   "metadata": {
    "button": false,
    "new_sheet": false,
    "run_control": {
     "read_only": false
    }
   },
   "source": [
    "<!--BOOK_INFORMATION-->\n",
    "<img align=\"left\" style=\"padding-right:10px;\" src=\"images/book_cover.jpg\" width=\"120\">\n",
    "\n",
    "*Ce cahier contient un extrait de [Programmation Python et méthodes numériques - Un guide pour les ingénieurs et les scientifiques](https://pythonnumericalmethods.berkeley.edu/notebooks/Index.html), le contenu est également disponible sur [Berkeley Python Numerical Methods](https://pythonnumericalmethods.berkeley.edu/notebooks/Index.html).*\n",
    "\n",
    "*Les droits d'auteur du livre appartiennent à Elsevier. Nous avons également ce livre interactif en ligne pour une meilleure expérience d'apprentissage. Le code est publié sous la [licence MIT](https://opensource.org/licenses/MIT). Si vous trouvez ce contenu utile, pensez à soutenir le travail sur [Elsevier](https://www.elsevier.com/books/python-programming-and-numerical-methods/kong/978-0-12-819549-9) ou [Amazon](https://www.amazon.com/Python-Programming-Numerical-Methods-Scientists/dp/0128195495/ref=sr_1_1?dchild=1&keywords=Python+Programming+and+Numerical+Methods+-+A+Guide+for+Engineers+and+Scientists&qid=1604761352&sr=8-1) !*"
   ]
  },
  {
   "cell_type": "markdown",
   "metadata": {
    "button": false,
    "new_sheet": false,
    "run_control": {
     "read_only": false
    }
   },
   "source": [
    "<!--NAVIGATION-->\n",
    "< [20.2 Finite Difference Approximating Derivatives](chapter20.02-Finite-Difference-Approximating-Derivatives.ipynb) | [Contents](Index.ipynb) | [20.4 Numerical Differentiation with Noise](chapter20.04-Numerical-Differentiation-with-Noise.ipynb) >"
   ]
  },
  {
   "cell_type": "markdown",
   "metadata": {
    "lang": "fr"
   },
   "source": [
    "# Rapprochement des dérivés d'ordre supérieur"
   ]
  },
  {
   "cell_type": "markdown",
   "metadata": {
    "lang": "fr"
   },
   "source": [
    "Il est également possible d'utiliser des séries de Taylor pour approximer des dérivées d'ordre supérieur (par exemple, $f''(x_j), f'''(x_j)$, etc.). Par exemple, prendre la série de Taylor autour de $a = x_j$ puis la calculer à $x = x_{j-1}$ et $x_{j+1}$ donne\n",
    "\n",
    "$$\n",
    "f(x_{j-1}) = f(x_j) - hf^{\\prime}(x_j) + \\frac{h^2f''(x_j)}{2} - \\frac{h^3f'''(x_j)}{6} + \\cdots$$\n",
    "\n",
    "et\n",
    "\n",
    "$$f(x_{j+1}) = f(x_j) + hf^{\\prime}(x_j) + \\frac{h^2f''(x_j)}{2} + \\frac{h^3f'''(x_j)}{6} + \\cdots.$$\n",
    "\n",
    "Si on additionne ces deux équations, on obtient\n",
    "\n",
    "$$f(x_{j-1}) + f(x_{j+1}) = 2f(x_j) + h^2f''(x_j) + \\frac{h^4f''''(x_j)}{24} + \\cdots,$$\n",
    "\n",
    "et avec quelques réarrangements donne l'approximation\n",
    "$$f''(x_j) \\approx \\frac{f(x_{j+1}) - 2f(x_j) + f(x_{j-1})}{h^2},$$\n",
    "et c'est $O(h^2)$."
   ]
  },
  {
   "cell_type": "markdown",
   "metadata": {
    "button": false,
    "new_sheet": false,
    "run_control": {
     "read_only": false
    }
   },
   "source": [
    "<!--NAVIGATION-->\n",
    "< [20.2 Finite Difference Approximating Derivatives](chapter20.02-Finite-Difference-Approximating-Derivatives.ipynb) | [Contents](Index.ipynb) | [20.4 Numerical Differentiation with Noise](chapter20.04-Numerical-Differentiation-with-Noise.ipynb) >"
   ]
  }
 ],
 "metadata": {
  "kernelspec": {
   "display_name": "Python 3 (ipykernel)",
   "language": "python",
   "name": "python3"
  },
  "language_info": {
   "codemirror_mode": {
    "name": "ipython",
    "version": 3
   },
   "file_extension": ".py",
   "mimetype": "text/x-python",
   "name": "python",
   "nbconvert_exporter": "python",
   "pygments_lexer": "ipython3",
   "version": "3.11.7"
  },
  "nbTranslate": {
   "displayLangs": [
    "*"
   ],
   "hotkey": "alt-t",
   "langInMainMenu": true,
   "sourceLang": "en",
   "targetLang": "fr",
   "useGoogleTranslate": true
  }
 },
 "nbformat": 4,
 "nbformat_minor": 2
}
