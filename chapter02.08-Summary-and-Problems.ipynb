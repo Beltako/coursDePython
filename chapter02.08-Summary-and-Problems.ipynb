{
 "cells": [
  {
   "cell_type": "markdown",
   "metadata": {
    "button": false,
    "new_sheet": false,
    "run_control": {
     "read_only": false
    }
   },
   "source": [
    "<!--BOOK_INFORMATION-->\n",
    "<img align=\"left\" style=\"padding-right:10px;\" src=\"images/book_cover.jpg\" width=\"120\">\n",
    "\n",
    "*Ce cahier contient un extrait de [Programmation Python et méthodes numériques - Un guide pour les ingénieurs et les scientifiques](https://pythonnumericalmethods.berkeley.edu/notebooks/Index.html), le contenu est également disponible sur [Berkeley Python Numerical Methods](https://pythonnumericalmethods.berkeley.edu/notebooks/Index.html).*\n",
    "\n",
    "*Les droits d'auteur du livre appartiennent à Elsevier. Nous avons également ce livre interactif en ligne pour une meilleure expérience d'apprentissage. Le code est publié sous la [licence MIT](https://opensource.org/licenses/MIT). Si vous trouvez ce contenu utile, pensez à soutenir le travail sur [Elsevier](https://www.elsevier.com/books/python-programming-and-numerical-methods/kong/978-0-12-819549-9) ou [Amazon](https://www.amazon.com/Python-Programming-Numerical-Methods-Scientists/dp/0128195495/ref=sr_1_1?dchild=1&keywords=Python+Programming+and+Numerical+Methods+-+A+Guide+for+Engineers+and+Scientists&qid=1604761352&sr=8-1) !*"
   ]
  },
  {
   "cell_type": "markdown",
   "metadata": {
    "button": false,
    "new_sheet": false,
    "run_control": {
     "read_only": false
    }
   },
   "source": [
    "<!--NAVIGATION-->\n",
    "< [2.7 Introducing Numpy Arrays](chapter02.07-Introducing_numpy_arrays.ipynb) | [Contents](Index.ipynb) | [3.0 Functions](chapter03.00-Functions.ipynb) >"
   ]
  },
  {
   "cell_type": "markdown",
   "metadata": {
    "lang": "fr"
   },
   "source": [
    "# Résumé\n",
    "\n",
    "1. Le stockage, la récupération et la manipulation d’informations et de données sont importants dans tout domaine scientifique et technique.\n",
    "2. Les variables sont un outil important pour gérer les valeurs des données.\n",
    "3. Il existe différents types de données pour stocker des informations en Python : int, float, boolean pour une valeur unique et chaînes, listes, tuples, ensembles, dictionnaires pour les données séquentielles.\n",
    "4. Le tableau Numpy est un objet puissant très utilisé en calcul scientifique."
   ]
  },
  {
   "cell_type": "markdown",
   "metadata": {
    "lang": "fr"
   },
   "source": [
    "# Problèmes\n",
    "\n",
    "1. Attribuez la valeur 2 à la variable x et la valeur 3 à la variable y. Effacez uniquement la variable x.\n",
    "\n",
    "2. Écrivez une ligne de code qui génère l'erreur suivante :\n",
    "```\n",
    "NameError : le nom « x » n'est pas défini\n",
    "```\n",
    "\n",
    "3. Soit x = 10 et y = 3. Écrivez une ligne de code qui effectuera chacune des affectations suivantes.\n",
    "\n",
    "```\n",
    "u = x + y\n",
    "v = xy\n",
    "w = x/y\n",
    "z = péché(x)\n",
    "r = 8 péché (x)\n",
    "s = 5sin(xy)\n",
    "p = x**y\n",
    "```\n",
    "\n",
    "4. Affichez toutes les variables dans le notebook Jupyter après avoir terminé le problème 3.\n",
    "\n",
    "5. Attribuez la chaîne '123' à la variable S. Convertissez la chaîne en type float et affectez la sortie à la variable N. Vérifiez que S est une chaîne et N est un float à l'aide de la fonction *type*.\n",
    "\n",
    "6. Affectez la chaîne 'HELLO' à la variable s1 et la chaîne 'hello' à la variable s2. Utilisez l'opérateur *==* pour montrer qu'ils ne sont pas égaux. Utilisez l'opérateur *==* pour montrer que s1 et s2 sont égaux si la méthode *lower* est utilisée sur s1. Utilisez l'opérateur**==** pour montrer que s1 et s2 sont égaux si la méthode *upper* est utilisée sur s2.\n",
    "\n",
    "7. Utilisez la fonction *print* pour générer les chaînes suivantes.\n",
    "    *Le monde « Ingénierie » comporte 11 lettres.* Le mot « Livre » comporte 4 lettres.\n",
    "    \n",
    "8. Vérifiez si « Python » est dans « Python est génial ! ».\n",
    "\n",
    "9. Obtenez le dernier mot « génial » de « Python est génial ! »\n",
    "\n",
    "10. Attribuez la liste [1, 8, 9, 15] à une variable *list_a* et insérez 2 à l'index 1 à l'aide de la méthode *insert*. Ajoutez 4 à *list_a* à l'aide de la méthode *append*.\n",
    "\n",
    "11. Triez le *list_a* du problème 10 par ordre croissant.\n",
    "\n",
    "12. Activez « Python est génial ! » à une liste.\n",
    "\n",
    "13. Créez un tuple avec l'élément 'One', 1 et affectez-le au tuple_a\n",
    "\n",
    "14. Récupérez le 2ème élément du tuple_a dans le problème 13.\n",
    "\n",
    "15. Obtenez l'élément unique de (2, 3, 2, 3, 1, 2, 5).\n",
    "\n",
    "16. Attribuez (2, 3, 2) à set_a et (1, 2, 3) à set_b. Obtenez ce qui suit :\n",
    "    *union de set_a et set_b* intersection de l'ensemble_a et de l'ensemble_b\n",
    "    *différence de set_a à set_b en utilisant la méthode*difference*17. Créez un dictionnaire contenant les clés « A », « B », « C » avec les valeurs « a », « b », « c » individuellement. Imprimez toutes les clés du dictionnaire.\n",
    "\n",
    "18. Vérifiez si la clé « B » se trouve dans le dictionnaire défini dans le problème 17.\n",
    "\n",
    "19. Créez un tableau x et y, où x = [1, 4, 3, 2, 9, 4] et y=[2, 3, 4, 1, 2, 3]. Calculez les affectations du problème 3.\n",
    "\n",
    "20. Générez un tableau de taille 100 régulièrement espacé entre -10 et 10 à l'aide de la fonction*linspace* dans Numpy.\n",
    "\n",
    "21. Soit array_a un tableau [-1, 0, 1, 2, 0, 3]. Écrivez une commande qui renverra un tableau composé de tous les éléments de array_a qui sont supérieurs à zéro. Astuce : utilisez une expression logique comme index du tableau.\n",
    "\n",
    "22. Créez un tableau $y = \\begin{pmatrix} \n",
    "3 & 5 & 3 \\\\\n",
    "2 & 2 & 5 \\\\\n",
    "3 & 8 & 9 \\\\\n",
    "\\end{pmatrix}$ et calculez la transposition du tableau.\n",
    "\n",
    "23. Créez un tableau nul de taille (2, 4).\n",
    "\n",
    "24. Remplacez la 2ème colonne du tableau ci-dessus par 1.\n",
    "\n",
    "25. Écrivez une magie de cellule pour effacer toutes les variables du notebook Jupyter"
   ]
  },
  {
   "cell_type": "markdown",
   "metadata": {
    "button": false,
    "new_sheet": false,
    "run_control": {
     "read_only": false
    }
   },
   "source": [
    "<!--NAVIGATION-->\n",
    "< [2.7 Introducing Numpy Arrays](chapter02.07-Introducing_numpy_arrays.ipynb) | [Contents](Index.ipynb) | [3.0 Functions](chapter03.00-Functions.ipynb) >"
   ]
  }
 ],
 "metadata": {
  "kernelspec": {
   "display_name": "Python 3 (ipykernel)",
   "language": "python",
   "name": "python3"
  },
  "language_info": {
   "codemirror_mode": {
    "name": "ipython",
    "version": 3
   },
   "file_extension": ".py",
   "mimetype": "text/x-python",
   "name": "python",
   "nbconvert_exporter": "python",
   "pygments_lexer": "ipython3",
   "version": "3.11.7"
  },
  "nbTranslate": {
   "displayLangs": [
    "*"
   ],
   "hotkey": "alt-t",
   "langInMainMenu": true,
   "sourceLang": "en",
   "targetLang": "fr",
   "useGoogleTranslate": true
  }
 },
 "nbformat": 4,
 "nbformat_minor": 2
}
