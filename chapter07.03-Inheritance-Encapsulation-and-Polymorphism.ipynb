{
 "cells": [
  {
   "cell_type": "markdown",
   "metadata": {
    "button": false,
    "new_sheet": false,
    "run_control": {
     "read_only": false
    }
   },
   "source": [
    "<!--BOOK_INFORMATION-->\n",
    "<img align=\"left\" style=\"padding-right:10px;\" src=\"images/book_cover.jpg\" width=\"120\">\n",
    "\n",
    "*Ce cahier contient un extrait de [Programmation Python et méthodes numériques - Un guide pour les ingénieurs et les scientifiques](https://pythonnumericalmethods.berkeley.edu/notebooks/Index.html), le contenu est également disponible sur [Berkeley Python Numerical Methods](https://pythonnumericalmethods.berkeley.edu/notebooks/Index.html).*\n",
    "\n",
    "*Les droits d'auteur du livre appartiennent à Elsevier. Nous avons également ce livre interactif en ligne pour une meilleure expérience d'apprentissage. Le code est publié sous la [licence MIT](https://opensource.org/licenses/MIT). Si vous trouvez ce contenu utile, pensez à soutenir le travail sur [Elsevier](https://www.elsevier.com/books/python-programming-and-numerical-methods/kong/978-0-12-819549-9) ou [Amazon](https://www.amazon.com/Python-Programming-Numerical-Methods-Scientists/dp/0128195495/ref=sr_1_1?dchild=1&keywords=Python+Programming+and+Numerical+Methods+-+A+Guide+for+Engineers+and+Scientists&qid=1604761352&sr=8-1) !*"
   ]
  },
  {
   "cell_type": "markdown",
   "metadata": {
    "button": false,
    "new_sheet": false,
    "run_control": {
     "read_only": false
    }
   },
   "source": [
    "<!--NAVIGATION-->\n",
    "< [7.2 Class and Object](chapter07.02-Class-and-Object.ipynb) | [Contents](Index.ipynb) | [7.4 Summary and Problems](chapter07.04-Summary-and-Problems.ipynb) >"
   ]
  },
  {
   "cell_type": "markdown",
   "metadata": {
    "lang": "fr"
   },
   "source": [
    "# Héritage, Encapsulation et Polymorphisme"
   ]
  },
  {
   "cell_type": "markdown",
   "metadata": {
    "lang": "fr"
   },
   "source": [
    "Nous avons déjà vu la puissance de modélisation de la POO en utilisant les fonctions de classe et d'objet en combinant données et méthodes. Il existe trois concepts plus importants, **l'héritage**, qui rendent le code POO plus modulaire,\n",
    "plus facile à réutiliser et à construire une relation entre les classes. L'**Encapsulation** peut masquer certains détails privés d'une classe à d'autres objets, tandis que le **polymorphisme** peut nous permettre d'utiliser une opération courante de différentes manières. Dans cette section, nous les aborderons brièvement.\n",
    "\n",
    "## Héritage"
   ]
  },
  {
   "cell_type": "markdown",
   "metadata": {
    "lang": "fr"
   },
   "source": [
    "L'héritage nous permet de définir une classe qui hérite de toutes les méthodes et attributs d'une autre classe. La convention désigne la nouvelle classe comme **classe enfant**, et celle dont elle hérite est appelée **classe parent** ou **superclasse**. Si nous revenons à la définition de la structure de classe, nous pouvons voir que la structure de l'héritage de base est **class ClassName(superclass)**, ce qui signifie que la nouvelle classe peut accéder à tous les attributs et méthodes de la superclasse. L'héritage construit une relation entre la classe enfant et la classe parent, généralement de telle manière que la classe parent est un type général tandis que la classe enfant est un type spécifique. Essayons de voir un exemple.\n",
    "\n",
    "**ESSAYEZ-LE !** Définissez une classe nommée `Sensor` avec les attributs `name`, `location` et `record_date` qui passent de la création d'un objet et un attribut `data` comme un dictionnaire vide pour stocker des données. Créez une méthode *add_data* avec `t` et `data` comme paramètres d'entrée pour prendre en compte l'horodatage et les tableaux de données. Dans cette méthode, attribuez « t » et « data » à l'attribut « data » avec « time » et « data » comme clés. De plus, il doit avoir une méthode `clear_data` pour supprimer les données."
   ]
  },
  {
   "cell_type": "code",
   "execution_count": 1,
   "metadata": {},
   "outputs": [],
   "source": [
    "class Sensor():\n",
    "    def __init__(self, name, location, record_date):\n",
    "        self.name = name\n",
    "        self.location = location\n",
    "        self.record_date = record_date\n",
    "        self.data = {}\n",
    "        \n",
    "    def add_data(self, t, data):\n",
    "        self.data['time'] = t\n",
    "        self.data['data'] = data\n",
    "        print(f'We have {len(data)} points saved')        \n",
    "        \n",
    "    def clear_data(self):\n",
    "        self.data = {}\n",
    "        print('Data cleared!')"
   ]
  },
  {
   "cell_type": "markdown",
   "metadata": {
    "lang": "fr"
   },
   "source": [
    "Nous avons maintenant une classe pour stocker les informations générales du capteur, nous pouvons créer un objet capteur pour stocker certaines données.\n",
    "\n",
    "**EXEMPLE :** Créez un objet capteur."
   ]
  },
  {
   "cell_type": "code",
   "execution_count": 2,
   "metadata": {},
   "outputs": [
    {
     "name": "stdout",
     "output_type": "stream",
     "text": [
      "We have 10 points saved\n"
     ]
    },
    {
     "data": {
      "text/plain": [
       "{'time': array([0, 1, 2, 3, 4, 5, 6, 7, 8, 9]),\n",
       " 'data': array([-4, -7,  2, -3, -8,  6,  4,  3,  5, -9])}"
      ]
     },
     "execution_count": 2,
     "metadata": {},
     "output_type": "execute_result"
    }
   ],
   "source": [
    "import numpy as np\n",
    "\n",
    "sensor1 = Sensor('sensor1', 'Berkeley', '2019-01-01')\n",
    "data = np.random.randint(-10, 10, 10)\n",
    "sensor1.add_data(np.arange(10), data)\n",
    "sensor1.data"
   ]
  },
  {
   "cell_type": "markdown",
   "metadata": {
    "lang": "fr"
   },
   "source": [
    "### Hériter et étendre une nouvelle méthode\n",
    "\n",
    "Supposons que nous ayons un type différent de capteur : un accéléromètre. Il partage les mêmes attributs et méthodes que la classe « Sensor », mais il a également des attributs ou des méthodes différents qui doivent être ajoutés ou modifiés par rapport à la classe d'origine. Que devrions nous faire? Devons-nous créer une classe différente à partir de zéro ? C’est là que l’héritage peut être utilisé pour faciliter la vie. Cette nouvelle classe héritera de la classe `Sensor` avec tous les attributs et\n",
    "méthodes. Nous pouvons si nous voulons étendre les attributs ou les méthodes. Créons d'abord cette nouvelle classe, « Accéléromètre », et ajoutons une nouvelle méthode, « show_type », pour signaler de quel type de capteur il s'agit."
   ]
  },
  {
   "cell_type": "code",
   "execution_count": 3,
   "metadata": {},
   "outputs": [
    {
     "name": "stdout",
     "output_type": "stream",
     "text": [
      "I am an accelerometer!\n",
      "We have 10 points saved\n"
     ]
    },
    {
     "data": {
      "text/plain": [
       "{'time': array([0, 1, 2, 3, 4, 5, 6, 7, 8, 9]),\n",
       " 'data': array([ -2,   2, -10,   6,   2,  -8,   2,   3,   7,  -6])}"
      ]
     },
     "execution_count": 3,
     "metadata": {},
     "output_type": "execute_result"
    }
   ],
   "source": [
    "class Accelerometer(Sensor):\n",
    "    \n",
    "    def show_type(self):\n",
    "        print('I am an accelerometer!')\n",
    "        \n",
    "acc = Accelerometer('acc1', 'Oakland', '2019-02-01')\n",
    "acc.show_type()\n",
    "data = np.random.randint(-10, 10, 10)\n",
    "acc.add_data(np.arange(10), data)\n",
    "acc.data"
   ]
  },
  {
   "cell_type": "markdown",
   "metadata": {
    "lang": "fr"
   },
   "source": [
    "Créer cette nouvelle classe `Accéléromètre` est très simple. Nous héritons de « Sensor » (désigné comme une superclasse), et la nouvelle classe contient en fait tous les attributs et méthodes de la superclasse. Nous ajoutons ensuite une nouvelle méthode, `show_type`, qui n'existe pas dans la classe `Sensor`, mais nous pouvons réussir à étendre l'enfant\n",
    "classe en ajoutant la nouvelle méthode. Cela montre la puissance de l'héritage : nous avons réutilisé la majeure partie de la classe `Sensor` dans une nouvelle classe et étendu les fonctionnalités. De plus, l'héritage établit une relation logique pour la modélisation des entités du monde réel : la classe `Sensor` en tant que classe parent est plus générale et transmet toutes les caractéristiques à la classe enfant `Accelerometer`.\n",
    "\n",
    "### Héritage et remplacement de méthode\n",
    "\n",
    "Lorsque nous héritons d'une classe parent, nous pouvons modifier l'implémentation d'une méthode fournie par la classe parent, c'est ce qu'on appelle le remplacement de méthode. Voyons l'exemple suivant.\n",
    "\n",
    "**EXEMPLE :** Créez une classe `UCBAcc` (un type spécifique d'accéléromètre créé à l'UC Berkeley) qui hérite de `Accelerometer` mais remplacez la méthode `show_type` qui imprime le nom du capteur."
   ]
  },
  {
   "cell_type": "code",
   "execution_count": 4,
   "metadata": {},
   "outputs": [
    {
     "name": "stdout",
     "output_type": "stream",
     "text": [
      "I am UCBAcc, created at UC Berkeley!\n"
     ]
    }
   ],
   "source": [
    "class UCBAcc(Accelerometer):\n",
    "    \n",
    "    def show_type(self):\n",
    "        print(f'I am {self.name}, created at UC Berkeley!')\n",
    "        \n",
    "acc_ucb = UCBAcc('UCBAcc', 'Berkeley', '2019-03-01')\n",
    "acc_ucb.show_type()"
   ]
  },
  {
   "cell_type": "markdown",
   "metadata": {
    "lang": "fr"
   },
   "source": [
    "Nous voyons que notre nouvelle classe `UCBAcc` remplace en fait la méthode `show_type` avec de nouvelles fonctionnalités. Dans cet exemple, nous héritons non seulement des fonctionnalités de notre classe parent, mais nous modifions/améliorons également certaines méthodes.\n",
    "\n",
    "### Hériter et mettre à jour les attributs avec super"
   ]
  },
  {
   "cell_type": "markdown",
   "metadata": {
    "lang": "fr"
   },
   "source": [
    "Créons une classe `NewSensor` qui hérite de la classe `Sensor`, mais avec les attributs mis à jour en ajoutant un nouvel attribut `brand`. Bien sûr, nous pouvons redéfinir l'ensemble de la méthode `__init__` comme indiqué ci-dessous et en remplaçant la fonction parent."
   ]
  },
  {
   "cell_type": "code",
   "execution_count": 5,
   "metadata": {},
   "outputs": [
    {
     "data": {
      "text/plain": [
       "'XYZ'"
      ]
     },
     "execution_count": 5,
     "metadata": {},
     "output_type": "execute_result"
    }
   ],
   "source": [
    "class NewSensor(Sensor):\n",
    "    def __init__(self, name, location, record_date, brand):\n",
    "        self.name = name\n",
    "        self.location = location\n",
    "        self.record_date = record_date\n",
    "        self.brand = brand\n",
    "        self.data = {}\n",
    "        \n",
    "new_sensor = NewSensor('OK', 'SF', '2019-03-01', 'XYZ')\n",
    "new_sensor.brand"
   ]
  },
  {
   "cell_type": "markdown",
   "metadata": {
    "lang": "fr"
   },
   "source": [
    "Cependant, il existe une meilleure façon d’y parvenir. Nous pouvons utiliser la méthode `super` pour éviter de faire explicitement référence à la classe parent. Voyons comment procéder dans l'exemple suivant :\n",
    "\n",
    "**EXEMPLE :** Redéfinir les attributs en héritage."
   ]
  },
  {
   "cell_type": "code",
   "execution_count": 6,
   "metadata": {},
   "outputs": [
    {
     "data": {
      "text/plain": [
       "'XYZ'"
      ]
     },
     "execution_count": 6,
     "metadata": {},
     "output_type": "execute_result"
    }
   ],
   "source": [
    "class NewSensor(Sensor):\n",
    "    def __init__(self, name, location, record_date, brand):\n",
    "        super().__init__(name, location, record_date)\n",
    "        self.brand = brand\n",
    "        \n",
    "new_sensor = NewSensor('OK', 'SF', '2019-03-01', 'XYZ')\n",
    "new_sensor.brand"
   ]
  },
  {
   "cell_type": "markdown",
   "metadata": {
    "lang": "fr"
   },
   "source": [
    "Maintenant, nous pouvons voir qu'avec la méthode *super*, nous évitons de lister toutes les définitions des attributs, cela permet de garder votre code maintenable dans un avenir prévisible. Mais c'est vraiment utile lorsque vous faites de l'héritage multiple, ce qui dépasse le cadre de ce livre.\n",
    "\n",
    "## Encapsulation\n",
    "\n",
    "**Encapsulation** est l'un des concepts fondamentaux de la POO. Il décrit l'idée de restreindre l'accès aux méthodes et aux attributs d'une classe. Cela masquera les détails complexes aux utilisateurs et empêchera les données d'être modifiées par accident. En Python, ceci est réalisé en utilisant des méthodes ou des attributs privés utilisant le trait de soulignement comme préfixe, c'est-à-dire un simple \"\\_\" ou un double \"\\_\\_\". Voyons l'exemple suivant.\n",
    "\n",
    "**EXEMPLE :**"
   ]
  },
  {
   "cell_type": "code",
   "execution_count": 7,
   "metadata": {},
   "outputs": [],
   "source": [
    "class Sensor():\n",
    "    def __init__(self, name, location):\n",
    "        self.name = name\n",
    "        self._location = location\n",
    "        self.__version = '1.0'\n",
    "    \n",
    "    # a getter function\n",
    "    def get_version(self):\n",
    "        print(f'The sensor version is {self.__version}')\n",
    "    \n",
    "    # a setter function\n",
    "    def set_version(self, version):\n",
    "        self.__version = version"
   ]
  },
  {
   "cell_type": "code",
   "execution_count": 8,
   "metadata": {},
   "outputs": [
    {
     "name": "stdout",
     "output_type": "stream",
     "text": [
      "Acc\n",
      "Berkeley\n"
     ]
    },
    {
     "ename": "AttributeError",
     "evalue": "'Sensor' object has no attribute '__version'",
     "output_type": "error",
     "traceback": [
      "\u001b[0;31m---------------------------------------------------------------------------\u001b[0m",
      "\u001b[0;31mAttributeError\u001b[0m                            Traceback (most recent call last)",
      "\u001b[0;32m<ipython-input-8-ca9b481690ba>\u001b[0m in \u001b[0;36m<module>\u001b[0;34m\u001b[0m\n\u001b[1;32m      2\u001b[0m \u001b[0mprint\u001b[0m\u001b[0;34m(\u001b[0m\u001b[0msensor1\u001b[0m\u001b[0;34m.\u001b[0m\u001b[0mname\u001b[0m\u001b[0;34m)\u001b[0m\u001b[0;34m\u001b[0m\u001b[0;34m\u001b[0m\u001b[0m\n\u001b[1;32m      3\u001b[0m \u001b[0mprint\u001b[0m\u001b[0;34m(\u001b[0m\u001b[0msensor1\u001b[0m\u001b[0;34m.\u001b[0m\u001b[0m_location\u001b[0m\u001b[0;34m)\u001b[0m\u001b[0;34m\u001b[0m\u001b[0;34m\u001b[0m\u001b[0m\n\u001b[0;32m----> 4\u001b[0;31m \u001b[0mprint\u001b[0m\u001b[0;34m(\u001b[0m\u001b[0msensor1\u001b[0m\u001b[0;34m.\u001b[0m\u001b[0m__version\u001b[0m\u001b[0;34m)\u001b[0m\u001b[0;34m\u001b[0m\u001b[0;34m\u001b[0m\u001b[0m\n\u001b[0m",
      "\u001b[0;31mAttributeError\u001b[0m: 'Sensor' object has no attribute '__version'"
     ]
    }
   ],
   "source": [
    "sensor1 = Sensor('Acc', 'Berkeley')\n",
    "print(sensor1.name)\n",
    "print(sensor1._location)\n",
    "print(sensor1.__version)"
   ]
  },
  {
   "cell_type": "markdown",
   "metadata": {
    "lang": "fr"
   },
   "source": [
    "L'exemple ci-dessus montre comment fonctionne l'encapsulation. Avec un seul trait de soulignement, nous avons défini une variable privée et il ne faut pas y accéder directement. Mais ce n’est qu’une convention, rien ne vous empêche de le faire. Vous pouvez toujours y accéder si vous le souhaitez. Avec le double trait de soulignement, on peut voir que l'attribut `__version` n'est pas accessible ni modifiable directement. Par conséquent, pour accéder aux attributs de double trait de soulignement, nous devons utiliser les fonctions getter et setter pour y accéder en interne, comme le montre l'exemple suivant."
   ]
  },
  {
   "cell_type": "code",
   "execution_count": 9,
   "metadata": {},
   "outputs": [
    {
     "name": "stdout",
     "output_type": "stream",
     "text": [
      "The sensor version is 1.0\n"
     ]
    }
   ],
   "source": [
    "sensor1.get_version()"
   ]
  },
  {
   "cell_type": "code",
   "execution_count": 10,
   "metadata": {},
   "outputs": [
    {
     "name": "stdout",
     "output_type": "stream",
     "text": [
      "The sensor version is 2.0\n"
     ]
    }
   ],
   "source": [
    "sensor1.set_version('2.0')\n",
    "sensor1.get_version()"
   ]
  },
  {
   "cell_type": "markdown",
   "metadata": {
    "lang": "fr"
   },
   "source": [
    "Les traits de soulignement simple et double s'appliquent également aux méthodes privées, nous n'en discuterons pas car ils sont similaires aux attributs privés.\n",
    "\n",
    "## Polymorphisme\n",
    "\n",
    "**Polymorphisme** est un autre concept fondamental de la POO, qui signifie plusieurs formes. Le polymorphisme nous permet d'utiliser une seule interface avec différentes formes sous-jacentes telles que des types de données ou des classes. Par exemple, nous pouvons avoir des méthodes nommées communément dans toutes les classes ou classes enfants. Nous avons déjà vu un exemple ci-dessus, lorsque nous redéfinissons la méthode `show_type` dans `UCBAcc`. Pour la classe parent `Accelerometer` et la classe enfant `UCBAcc`, elles ont toutes deux une méthode nommée `show_type`, mais elles ont une implémentation différente. Cette capacité à utiliser un seul nom avec de nombreuses formes agissant différemment dans différentes situations réduit considérablement nos complexités. Nous ne développerons pas davantage le polymorphisme. Si vous êtes intéressé, consultez davantage en ligne pour mieux comprendre."
   ]
  },
  {
   "cell_type": "markdown",
   "metadata": {
    "button": false,
    "new_sheet": false,
    "run_control": {
     "read_only": false
    }
   },
   "source": [
    "<!--NAVIGATION-->\n",
    "< [7.2 Class and Object](chapter07.02-Class-and-Object.ipynb) | [Contents](Index.ipynb) | [7.4 Summary and Problems](chapter07.04-Summary-and-Problems.ipynb) >"
   ]
  }
 ],
 "metadata": {
  "kernelspec": {
   "display_name": "Python 3 (ipykernel)",
   "language": "python",
   "name": "python3"
  },
  "language_info": {
   "codemirror_mode": {
    "name": "ipython",
    "version": 3
   },
   "file_extension": ".py",
   "mimetype": "text/x-python",
   "name": "python",
   "nbconvert_exporter": "python",
   "pygments_lexer": "ipython3",
   "version": "3.11.7"
  },
  "nbTranslate": {
   "displayLangs": [
    "*"
   ],
   "hotkey": "alt-t",
   "langInMainMenu": true,
   "sourceLang": "en",
   "targetLang": "fr",
   "useGoogleTranslate": true
  }
 },
 "nbformat": 4,
 "nbformat_minor": 2
}
