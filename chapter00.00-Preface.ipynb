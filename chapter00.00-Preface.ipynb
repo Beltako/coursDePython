{
 "cells": [
  {
   "cell_type": "markdown",
   "metadata": {
    "lang": "fr"
   },
   "source": [
    "<!--BOOK_INFORMATION-->\n",
    "<img align=\"left\" style=\"padding-right:10px;\" src=\"images/book_cover.jpg\" width=\"120\">\n",
    "\n",
    "*Ce cahier contient un extrait de [Programmation Python et méthodes numériques - Un guide pour les ingénieurs et les scientifiques](https://pythonnumericalmethods.berkeley.edu/notebooks/Index.html), le contenu est également disponible sur [Berkeley Python Numerical Methods](https://pythonnumericalmethods.berkeley.edu/notebooks/Index.html).*\n",
    "\n",
    "*Les droits d'auteur du livre appartiennent à Elsevier. Nous avons également ce livre interactif en ligne pour une meilleure expérience d'apprentissage. Le code est publié sous la [licence MIT](https://opensource.org/licenses/MIT). Si vous trouvez ce contenu utile, pensez à soutenir le travail sur [Elsevier](https://www.elsevier.com/books/python-programming-and-numerical-methods/kong/978-0-12-819549-9) ou [Amazon](https://www.amazon.com/Python-Programming-Numerical-Methods-Scientists/dp/0128195495/ref=sr_1_1?dchild=1&keywords=Python+Programming+and+Numerical+Methods+-+A+Guide+for+Engineers+and+Scientists&qid=1604761352&sr=8-1) !*"
   ]
  },
  {
   "cell_type": "markdown",
   "metadata": {
    "lang": "fr"
   },
   "source": [
    "<!--NAVIGATION-->\n",
    " [Contenu](Index.ipynb)  [Accusé de réception](chapter00.01-Acknowledgment.ipynb) >"
   ]
  },
  {
   "cell_type": "markdown",
   "metadata": {
    "lang": "fr"
   },
   "source": [
    "# Préface\n",
    "\n",
    "---\n",
    "\n",
    "## But\n",
    "\n",
    "La programmation étant devenue une composante essentielle de l’ingénierie, des sciences, de la médecine, des médias, des affaires, de la finance et de nombreux autres domaines, il est important que les scientifiques et les ingénieurs disposent de bases en programmation informatique pour être compétitifs. Ce livre présente la programmation à des étudiants issus d'horizons très divers et leur donne des outils de programmation et de mathématiques qui leur seront utiles tout au long de leur carrière.\n",
    "\n",
    "Pour l'essentiel, ce livre suit la matière standard enseignée à l'Université de Californie à Berkeley, dans la classe *E7 : Introduction à la programmation informatique pour les scientifiques et les ingénieurs*. Ce cours est suivi par la plupart des étudiants de première année en sciences et en ingénierie du College of Engineering, ainsi que par des étudiants de premier cycle d'autres disciplines, notamment la physique, la biologie, la Terre et les sciences cognitives. Le cours était à l'origine enseigné dans Matlab, mais avec la tendance récente du mouvement de science des données à Berkeley, la Division des sciences des données a accepté et soutenu la transformation de ce cours en un cours orienté Python pour préparer les étudiants de différents domaines à d'autres cours de science des données. . Le cours a deux objectifs fondamentaux :\n",
    "\n",
    "*Enseigner la programmation Python à des étudiants en sciences et en ingénierie qui n'ont pas d'exposition préalable à la programmation.* Présenter une variété d'outils d'analyse numérique utiles pour résoudre des problèmes scientifiques et techniques.\n",
    "\n",
    "Ces deux objectifs se reflètent dans les deux parties de ce livre :\n",
    "\n",
    "*Introduction à la programmation pour les scientifiques et les ingénieurs* Introduction aux méthodes numériques\n",
    "\n",
    "Ce livre est écrit sur la base du livre *An Introduction to MATLABÂ® Programming and Numerical Methods for Engineers* de Timmy Siauw et Alexandre Bayen. Le livre actuel a d'abord été écrit dans Jupyter Notebook à des fins interactives, puis converti en LaTeX. La plupart des codes présentés dans ce livre proviennent des cellules de code du Jupyter Notebook, qui peuvent être exécutées directement dans la cellule du notebook.\n",
    "\n",
    "Parce que ce livre couvre un très large éventail de sujets, aucun sujet n’est abordé en profondeur. Chaque\n",
    "Ce chapitre a été conçu pour être couvert en deux heures de cours au maximum, même s'il existe des cours semestriels entiers dédiés à ces mêmes chapitres. Plutôt qu'un traitement en profondeur, ce livre est destiné à donner aux étudiants un large éventail de connaissances en programmation et un vocabulaire mathématique qu'ils peuvent développer.\n",
    "\n",
    "Nous pensons que, tout comme l’apprentissage d’une nouvelle langue étrangère, apprendre à programmer peut être amusant et instructif. Nous espérons qu’en parcourant ce livre, vous serez d’accord.\n",
    "\n",
    "\n",
    "---\n",
    "\n",
    "## Conditions préalables\n",
    "\n",
    "Ce livre est conçu pour présenter la programmation et les méthodes numériques aux étudiants qui n'ont *absolument aucune* expérience préalable en programmation, ce qui, nous l'espérons, se reflète dans le rythme, le ton et le contenu du texte. Aux fins de la programmation, nous supposons que le lecteur possède les connaissances préalables suivantes :\n",
    "\n",
    "*Compréhension de l'écran de l'ordinateur et des périphériques de saisie clavier/souris* Compréhension de la structure des dossiers utilisée pour stocker les fichiers dans la plupart des systèmes d'exploitation\n",
    "\n",
    "Pour les parties mathématiques du texte, nous supposons que le lecteur possède les connaissances préalables suivantes :\n",
    "\n",
    "*Algèbre et trigonométrie niveau secondaire* Introduction au calcul de niveau collégial\n",
    "\n",
    "C'est ça! Tout ce qui dans le texte suppose plus que cela est notre erreur, et nous nous excusons par avance pour tout cas qui pourrait surgir.\n",
    "\n",
    "---\n",
    "\n",
    "## Organisation\n",
    "\n",
    "La première partie enseigne les concepts fondamentaux de la programmation. Le chapitre 1 présente au lecteur Python et Jupyter Notebook. Les chapitres 2 à 7 enseignent les principes fondamentaux de la programmation. La maîtrise du contenu de ces chapitres devrait fournir suffisamment de connaissances pour vous permettre de programmer presque tout ce que vous imaginez. Le chapitre 8 présente la théorie qui caractérise les programmes informatiques en fonction de leur vitesse d'exécution, et le chapitre 9 donne un aperçu de la façon dont les ordinateurs représentent les nombres et de leur effet sur l'arithmétique. Le chapitre 10 fournit des conseils utiles sur les bonnes pratiques de programmation pour limiter l'apparition d'erreurs dans le code informatique et indique à l'utilisateur comment les trouver lorsqu'elles se produisent. Le chapitre 11 explique comment stocker des données sur le long terme et comment rendre les résultats de Python utiles en dehors de Python (c'est-à-dire pour d'autres programmes). Le chapitre 12 présente les fonctionnalités graphiques de Python qui vous permettent de produire des tracés et des graphiques, ce qui constitue une fonctionnalité très utile pour les ingénieurs et les scientifiques pour visualiser les résultats. Enfin, le chapitre 13 présente les bases de la programmation parallèle en Python pour tirer parti de la conception multicœur des ordinateurs actuels.\n",
    "\n",
    "\n",
    "La partie 2 donne un aperçu d'une variété de méthodes numériques utiles aux ingénieurs. Le chapitre 14 donne un cours intensif d'algèbre linéaire. Bien que de nature théorique, l’algèbre linéaire constitue le concept le plus essentiel pour comprendre de nombreux sujets d’ingénierie avancés. Le chapitre 15 traite des valeurs propres et des vecteurs propres, qui sont des outils importants en ingénierie et en science, et de la manière dont nous pouvons les utiliser. Le chapitre 16 porte sur la régression, un terme mathématique qui est simplement une méthode permettant d'ajuster des modèles théoriques aux données observées. Le chapitre 17 concerne la déduction de la valeur d'une fonction entre des points de données, un cadre connu sous le nom d'« interpolation ». Le chapitre 18 introduit l'idée d'approcher des fonctions avec des polynômes, ce qui peut être utile pour simplifier des fonctions compliquées. Le chapitre 19 enseigne deux algorithmes pour trouver les racines des fonctions, c'est-à-dire trouver un x tel que f (x) = 0, où f est une fonction. Les chapitres 20 et 21 couvrent respectivement les méthodes d'approximation de la dérivée et de l'intégrale d'une fonction. Les chapitres 22 et 23 présentent un type de modèle mathématique appelé « équations différentielles ordinaires ». Ces deux chapitres se concentrent sur différents problèmes, c'est-à-dire les problèmes de valeur initiale et les problèmes de valeurs limites, et présentent plusieurs méthodes pour trouver leurs solutions. Le chapitre 24 présente les concepts de « transformée de Fourier discrète » et de « transformée de Fourier rapide » et leur utilisation dans le traitement du signal numérique. La science des données étant populaire de nos jours, à la fin de ce livre, le chapitre 25 donne un bref aperçu de l'apprentissage automatique pour vous motiver à en apprendre davantage après avoir terminé ce livre.\n",
    "\n",
    "\n",
    "---\n",
    "\n",
    "## Comment lire ce livre ?\n",
    "\n",
    "Apprendre à programmer est une question de pratique, de pratique et de pratique. Tout comme l’apprentissage d’une nouvelle langue, vous ne pourrez pas apprendre à bien programmer sans vous engager dans le matériel, l’intérioriser et l’utiliser constamment.\n",
    "\n",
    "Au fur et à mesure que vous parcourez le texte, vous devriez idéalement avoir Jupyter Notebook ouvert ou le site Web interactif devant vous, et exécuter tous les nombreux exemples fournis. Va lentement. Prendre le temps de vraiment comprendre ce que fait Python dans chaque exemple rapportera de gros dividendes par rapport au fait de « parcourir » le texte comme un roman.\n",
    "\n",
    "En ce qui concerne le texte lui-même, les chapitres 1 à 5 doivent être lus et compris en premier car ils couvrent les principes fondamentaux de la programmation. Les chapitres 6 à 11 peuvent être abordés dans n'importe quel ordre. Les chapitres 12 et 13 sur le traçage et la programmation parallèle sont des chapitres incontournables qui amélioreront vos compétences pour mieux résoudre les problèmes. Dans la partie II, le chapitre 14 doit être lu en premier puisque les chapitres suivants s'appuient sur des concepts algébriques linéaires. Les chapitres restants peuvent être lus dans n’importe quel ordre. Cependant, il sera utile de lire les chapitres 17 et 18 avant les chapitres 19 et 20.\n",
    "\n",
    "Tout au long du texte, des mots seront écrits en gras. Lorsque vous rencontrez l’un de ces mots, vous devez prendre le temps de le mémoriser et de comprendre sa signification dans le contexte du matériel présenté.\n",
    "\n",
    "Pour éviter que le texte ne s'étende, nous ponctuons le matériel avec des blocs plus petits. Voici une description de chaque type de bloc.\n",
    "\n",
    "**ESSAYEZ-LE !** C'est le bloc le plus courant dans le texte. Il contiendra généralement une brève description d’un problème et/ou d’une activité. Nous vous recommandons fortement d'essayer tout cela en Python.\n",
    "**CONSEIL !** Ce bloc donne quelques conseils qui, selon nous, vous faciliteront la programmation. Cependant, les blocs ne contiennent aucun élément nouveau indispensable à la compréhension des concepts clés du texte.\n",
    "**EXEMPLE :** Ces sections sont des exemples concrets de nouveaux concepts. Ils sont conçus pour vous aider à réfléchir à de nouveaux concepts. Cependant, il n’est pas nécessairement nécessaire de les essayer.\n",
    "**ATTENTION !** Apprendre à programmer peut comporter de nombreux pièges. Ces sections contiennent des informations qui vous aideront à éviter toute confusion, à prendre de mauvaises habitudes ou à mal comprendre les concepts clés.\n",
    "**QUE SE PASSE-T-IL ?** Ces sections suivent Python en détail pour vous aider à comprendre ce qui se passe lorsque Python exécute des programmes.\n",
    "**CONSTRUCTION :** En programmation, il existe des architectures standards qui sont réservées à l'exécution de tâches courantes et importantes. Ces sections décrivent ces architectures et comment les utiliser.\n",
    "\n",
    "Il y a deux sections pour terminer chaque chapitre. La section Résumé donne une liste des principaux points du chapitre. Ces points devraient vous être intuitifs à la fin du chapitre. La section Problèmes propose des exercices qui renforceront les concepts du chapitre.\n",
    "\n",
    "Pour terminer, il existe trop de façons de faire la même chose en Python. Bien qu’au premier abord, cela puisse sembler une fonctionnalité utile, cela peut rendre l’apprentissage de Python confus ou vous surcharger de possibilités alors que la tâche est en réalité simple. Ce livre présente une manière unique d'effectuer une tâche afin de structurer votre expérience d'apprentissage et de vous éviter d'être inondé d'informations superflues. Vous découvrirez peut-être des solutions différentes de celles du texte, mais résolvez le problème de la même manière, voire mieux ! Nous vous encourageons à trouver ces méthodes alternatives et à laisser à votre expérience et à votre propre jugement le soin de décider quelle est la meilleure.\n",
    "\n",
    "Nous espérons que vous apprécierez le livre !\n",
    "\n",
    "---\n",
    "\n",
    "## Pourquoi Python ?\n",
    "\n",
    "Python est un langage de haut niveau et polyvalent avec lequel vous pouvez faire beaucoup de choses. Il est vraiment convivial pour les débutants, de sorte que vous vous sentirez facile à apprendre et amusant à jouer avec. Le langage lui-même est très flexible, ce qui signifie qu'il n'y a pas de règles strictes sur la façon de créer des fonctionnalités, et vous aurez plus de flexibilité pour résoudre les problèmes avec différentes méthodes. La chose la plus importante pour Python est qu'il bénéficie d'une excellente communauté qui le soutient et fournit de nombreux packages que vous pouvez essentiellement brancher et utiliser avec très peu d'efforts. De nos jours, avec la tendance populaire actuelle de la science des données, Python est l'un des langages qui conviennent très bien à l'objectif de la science des données. De plus, Python est gratuit et la plupart des packages sont également gratuits pour vous. L'idée de l'open source fait vraiment la différence : non seulement vous pouvez utiliser ces packages gratuitement et facilement, mais vous pouvez également acquérir de nombreuses compétences avancées à partir du code source de ces packages. Nous espérons que vous pourrez profiter de votre apprentissage de Python et l’utiliser dans votre travail et votre vie.\n",
    "\n",
    "---\n",
    "## Python et versions de packages\n",
    "\n",
    "Ce livre a été écrit en utilisant Python 3. Voici une liste des packages avec leurs versions utilisés dans ce livre. Comme ces packages sont constamment en développement, certaines fonctionnalités peuvent être ajoutées, supprimées ou modifiées dans les versions présentes sur votre ordinateur.\n",
    "\n",
    "* jupyter - 1.0.0\n",
    "* Python - 7.5.0\n",
    "* numpy - 1.16.4\n",
    "* scipy-1.2.1\n",
    "* h5py - 2.9.0\n",
    "* matplotlib - 3.1.0\n",
    "* cartopie - 0.17.0\n",
    "* joblib - 0.13.2\n",
    "* scikit-learn-0.20.1"
   ]
  }
 ],
 "metadata": {
  "kernelspec": {
   "display_name": "Python 3 (ipykernel)",
   "language": "python",
   "name": "python3"
  },
  "language_info": {
   "codemirror_mode": {
    "name": "ipython",
    "version": 3
   },
   "file_extension": ".py",
   "mimetype": "text/x-python",
   "name": "python",
   "nbconvert_exporter": "python",
   "pygments_lexer": "ipython3",
   "version": "3.11.7"
  },
  "nbTranslate": {
   "displayLangs": [
    "*"
   ],
   "hotkey": "alt-t",
   "langInMainMenu": true,
   "sourceLang": "en",
   "targetLang": "fr",
   "useGoogleTranslate": true
  }
 },
 "nbformat": 4,
 "nbformat_minor": 4
}
