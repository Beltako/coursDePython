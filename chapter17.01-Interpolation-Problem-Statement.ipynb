{
 "cells": [
  {
   "cell_type": "markdown",
   "metadata": {},
   "source": [
    "<!--BOOK_INFORMATION-->\n",
    "<img align=\"left\" style=\"padding-right:10px;\" src=\"images/book_cover.jpg\" width=\"120\">\n",
    "\n",
    "*Ce cahier contient un extrait de [Programmation Python et méthodes numériques - Un guide pour les ingénieurs et les scientifiques](https://pythonnumericalmethods.berkeley.edu/notebooks/Index.html), le contenu est également disponible sur [Berkeley Python Numerical Methods](https://pythonnumericalmethods.berkeley.edu/notebooks/Index.html).*\n",
    "\n",
    "*Les droits d'auteur du livre appartiennent à Elsevier. Nous avons également ce livre interactif en ligne pour une meilleure expérience d'apprentissage. Le code est publié sous la [licence MIT](https://opensource.org/licenses/MIT). Si vous trouvez ce contenu utile, pensez à soutenir le travail sur [Elsevier](https://www.elsevier.com/books/python-programming-and-numerical-methods/kong/978-0-12-819549-9) ou [Amazon](https://www.amazon.com/Python-Programming-Numerical-Methods-Scientists/dp/0128195495/ref=sr_1_1?dchild=1&keywords=Python+Programming+and+Numerical+Methods+-+A+Guide+for+Engineers+and+Scientists&qid=1604761352&sr=8-1) !*"
   ]
  },
  {
   "cell_type": "markdown",
   "metadata": {},
   "source": [
    "<!--NAVIGATION-->\n",
    "< [CHAPTER 17. Interpolation](chapter17.00-Interpolation.ipynb) | [Contents](Index.ipynb) | [17.2 Linear Interpolation](chapter17.02-Linear-Interpolation.ipynb)  >"
   ]
  },
  {
   "cell_type": "markdown",
   "metadata": {
    "lang": "fr"
   },
   "source": [
    "# Énoncé du problème d'interpolation"
   ]
  },
  {
   "cell_type": "markdown",
   "metadata": {
    "lang": "fr"
   },
   "source": [
    "Supposons que nous ayons un ensemble de données composé de valeurs de données indépendantes, $x_i$, et de valeurs de données dépendantes, $y_i$, où $i = 1,\\ldots, n$. Nous aimerions trouver une fonction d'estimation $\\hat{y}(x)$ telle que $\\hat{y}(x_i) = y_i$ pour chaque point de notre ensemble de données. Cela signifie que la fonction d'estimation passe par nos points de données. Étant donné un nouveau $x{\\ast}$, nous pouvons **interpoler** la valeur de sa fonction en utilisant $\\hat{y}(x{\\ast})$. Dans ce contexte, $\\hat{y}(x)$ est appelée une **fonction d'interpolation**. La figure suivante montre l'énoncé du problème d'interpolation.\n",
    "\n",
    "<img src=\"./images/17.01.01-Illustration_of_Interpolation.jpg\" alt=\"Interpolation\" title=\"Illustration of the interpolation problem: estimate the value of a function in between data points.\" width=\"200\"/>\n",
    "\n",
    "Contrairement à la régression, l'interpolation ne nécessite pas que l'utilisateur dispose d'un modèle sous-jacent pour les données, en particulier lorsqu'il existe de nombreux points de données fiables. Cependant, les processus qui sous-tendent les données doivent quand même informer l'utilisateur sur la qualité de l'interpolation. Par exemple, nos données peuvent être constituées des coordonnées $(x,y)$ d'une voiture au fil du temps. Puisque le mouvement est limité à la physique des manœuvres de la voiture, nous pouvons nous attendre à ce que les points situés entre les coordonnées $(x,y)$ de notre ensemble soient « lisses » plutôt que irréguliers.\n",
    "\n",
    "Dans les sections suivantes, nous dérivons plusieurs méthodes d'interpolation courantes."
   ]
  },
  {
   "cell_type": "markdown",
   "metadata": {},
   "source": [
    "<!--NAVIGATION-->\n",
    "< [CHAPTER 17. Interpolation](chapter17.00-Interpolation.ipynb) | [Contents](Index.ipynb) | [17.2 Linear Interpolation](chapter17.02-Linear-Interpolation.ipynb)  >"
   ]
  }
 ],
 "metadata": {
  "kernelspec": {
   "display_name": "Python 3 (ipykernel)",
   "language": "python",
   "name": "python3"
  },
  "language_info": {
   "codemirror_mode": {
    "name": "ipython",
    "version": 3
   },
   "file_extension": ".py",
   "mimetype": "text/x-python",
   "name": "python",
   "nbconvert_exporter": "python",
   "pygments_lexer": "ipython3",
   "version": "3.11.7"
  },
  "nbTranslate": {
   "displayLangs": [
    "*"
   ],
   "hotkey": "alt-t",
   "langInMainMenu": true,
   "sourceLang": "en",
   "targetLang": "fr",
   "useGoogleTranslate": true
  }
 },
 "nbformat": 4,
 "nbformat_minor": 2
}
