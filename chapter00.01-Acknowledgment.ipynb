{
 "cells": [
  {
   "cell_type": "markdown",
   "metadata": {},
   "source": [
    "<!--BOOK_INFORMATION-->\n",
    "<img align=\"left\" style=\"padding-right:10px;\" src=\"images/book_cover.jpg\" width=\"120\">\n",
    "\n",
    "*Ce cahier contient un extrait de [Programmation Python et méthodes numériques - Un guide pour les ingénieurs et les scientifiques](https://pythonnumericalmethods.berkeley.edu/notebooks/Index.html), le contenu est également disponible sur [Berkeley Python Numerical Methods](https://pythonnumericalmethods.berkeley.edu/notebooks/Index.html).*\n",
    "\n",
    "*Les droits d'auteur du livre appartiennent à Elsevier. Nous avons également ce livre interactif en ligne pour une meilleure expérience d'apprentissage. Le code est publié sous la [licence MIT](https://opensource.org/licenses/MIT). Si vous trouvez ce contenu utile, pensez à soutenir le travail sur [Elsevier](https://www.elsevier.com/books/python-programming-and-numerical-methods/kong/978-0-12-819549-9) ou [Amazon](https://www.amazon.com/Python-Programming-Numerical-Methods-Scientists/dp/0128195495/ref=sr_1_1?dchild=1&keywords=Python+Programming+and+Numerical+Methods+-+A+Guide+for+Engineers+and+Scientists&qid=1604761352&sr=8-1) !*"
   ]
  },
  {
   "cell_type": "markdown",
   "metadata": {
    "lang": "fr"
   },
   "source": [
    "<!--NAVIGATION-->\n",
    "< [Préface](chapter00.00-Preface.ipynb) | [Contenu](Index.ipynb) | [1.1 Bases de Python](chapter01.00-Python-Basics.ipynb) >"
   ]
  },
  {
   "cell_type": "markdown",
   "metadata": {
    "lang": "fr"
   },
   "source": [
    "# Reconnaissance\n",
    "\n",
    "---\n",
    "\n",
    "La première version de ce livre a été écrite à une époque où le langage généraliste standard enseigné en ingénierie (et au-delà) à l'UC Berkeley était Matlab. Sa genèse remonte au milieu des années 2000, qui précèdent l'ère actuelle de la science des données, l'apprentissage automatique, dans laquelle Python est devenu un langage couramment utilisé dans la profession d'ingénieur. La première version a ainsi été écrite dans le cadre du cours E7 de l'UC Berkeley, qui initie de nombreux étudiants à la programmation et à l'analyse numérique. Il n'aurait jamais été rédigé sans l'aide de collègues, d'équipes d'instructeurs d'étudiants diplômés (GSI), d'évaluateurs et de membres du personnel administratif qui nous ont aidés à travers le processus difficile d'enseignement de l'E7 à plusieurs centaines d'étudiants chaque semestre à l'UC Berkeley. De plus, la première édition de ce livre n'aurait jamais été achevée sans l'aide des étudiants qui ont eu la patience de lire le livre et de nous faire part de leurs commentaires. Au cours du processus d'enseignement de l'E7 à de nombreuses reprises, nous avons interagi avec des milliers d'étudiants, des dizaines de GSI et d'évaluateurs, ainsi qu'une douzaine de collègues et d'administrateurs, et nous nous excusons auprès de ceux que nous oublierons inévitablement compte tenu du nombre de personnes impliquées. Nous sommes extrêmement reconnaissants des conseils de nos collègues, les professeurs Panos Papadopoulos, Roberto Horowitz, Michael Frenklach, Andy Packard, Tad Patzek, Jamie Rector, Raja Sengupta, Mike Cassidy et Samer Madanat. Nous devons particulièrement remercier les professeurs Roberto Horowitz, Andy Packard, Sanjay Govindjee et Tad Patzek pour avoir partagé le matériel qu'ils ont utilisé pour le cours, qui a contribué au matériel de ce livre. Nous remercions également les professeurs Rob Harley et Sanjay Govindjee d'avoir utilisé une ébauche de ce livre au cours des semestres où ils ont enseigné à l'E7 et de nous avoir fait part de leurs commentaires qui ont contribué à améliorer le manuscrit. Le bon déroulement du cours semestriel a donné aux auteurs le temps et l’énergie nécessaires pour réaliser ce livre. La gestion du cours a été grandement facilitée par de nombreux membres du personnel administratif qui ont supporté une grande partie de la charge logistique. Nous sommes particulièrement reconnaissants envers Joan Chamberlain, Shelley Okimoto, Jenna Tower et Donna Craig. Bill Nazaroff, vice-président du génie civil et environnemental, mérite une reconnaissance particulière pour avoir chargé le deuxième auteur d'enseigner le cours en 2011. Sans cette mission, les deux auteurs de ce livre n'auraient pas eu l'occasion de travailler ensemble et d'écrire ce livre. E7 est notoirement la classe la plus difficile à enseigner à l'UC Berkeley au College of Engineering. Cependant, cela a continué à se dérouler sans problème au cours des nombreux semestres où nous avons appris à enseigner cette classe, principalement grâce à l'aide des talentueux GSI avec lesquels nous avons eu le plaisir de travailler. Au fil des années où les coauteurs ont enseigné le cours, une série de chefs légendaires des GSI ont contribué à façonner le cours et à en faire une expérience significative pour les étudiants. En particulier, Scott Payne, James Lew, Claire Saint-Pierre, Kristen Parish, Brian McDonald et Travis Walter ont, dans leurs rôles respectifs, dirigé une équipe de GSI dédiée pour dépasser les attentes. L'équipe du GSI et de la niveleuse au printemps 2011 a grandement influencé le contenu de ce livre. Pour leur contribution au cours de ce semestre critique, nous remercions Jon Beard, Leah Anderson, Marc Lipoff, Sébastien Blandin, Sam Chiu, Rob Hansen, Jiangchuan Huang, Brad Adams, Ryan Swick, Pranthik Samal, Matthieu Lewandowski et Romain Bourcier. Nous remercions également Claire Johnson et Katherine Mellis d'avoir trouvé des erreurs dans le texte et de nous avoir aidés à intégrer les modifications dans le manuscrit. Nous sommes redevables aux étudiants E7 pour leur patience envers nous et leur lecture approfondie du matériel. Après en avoir vu des milliers au fil des années, nous sommes désolés de ne pouvoir en citer que quelques-uns pour leurs retours et performances extraordinaires : Gursham-njot Singh, Sabrina Nicolle Atienza, Yi Lu, Nicole Schauser, Harrison Lee, Don Mai, Robin Parrish. , et Mara Minner. En 2018, alors que le campus de l'UC Berkeley était déjà profondément engagé dans la transition menant à la naissance de la Division Informatique, Science des Données et Société, de nombreuses conversations ont commencé sur la nécessité pour les étudiants de l'UC Berkeley d'apprendre Python, ce qui entre-temps était devenu un produit de choix pour l’emploi dans la plupart des entreprises technologiques. Ainsi, ce livre a commencé avec l'intention de préparer les étudiants en ingénierie et en sciences aux outils de base de la science des données. La Division Informatique, Science des Données et Société de l'UC Berkeley a joué un rôle actif dans la création de ce livre pour un cours de division inférieure afin de préparer les étudiants à des études plus approfondies. Nous remercions Cathryn Carson et David Culler pour leur soutien dans la rédaction de ce livre et pour les discussions sur la façon de l'améliorer. Leur aide s'est produite parallèlement aux efforts herculéens qu'ils ont menés pour créer la Division Informatique, Science des Données et Société. C'est l'une des nombreuses expressions de leur générosité scientifique et de leur dévouement à la construction d'un environnement de science des données riche et innovant à l'UC Berkeley. Nous apprécions également les soins et l'aide d'Eric Van Dusen et de Keeley Takimoto. Environ les deux tiers du livre sont adaptés de la version originale de Matlab – Une introduction à la programmation MATLAB® et aux méthodes numériques pour les ingénieurs par les deux derniers auteurs. Nous remercions Jennifer Grannen, Brian Mickel, Nick Bourlier et Austin Chang pour leur aide dans la conversion d'une partie du code Matlab en Python, et remercions Christopher Pyles pour la création du site Web interactif à l'aide du [livre Jupyter](https://jupyterbook.org/intro.html). Nous sommes (encore une fois !) reconnaissants à Claire Johnson pour son aide avec la deuxième version du livre, et à Jennifer Taggart pour avoir trouvé des erreurs dans le texte et nous avoir aidés à intégrer les modifications dans le manuscrit. Enfin, nous remercions également le Berkeley Seismsology Lab pour son soutien à la rédaction de ce livre et à la formation Python au fil des années."
   ]
  }
 ],
 "metadata": {
  "kernelspec": {
   "display_name": "Python 3 (ipykernel)",
   "language": "python",
   "name": "python3"
  },
  "language_info": {
   "codemirror_mode": {
    "name": "ipython",
    "version": 3
   },
   "file_extension": ".py",
   "mimetype": "text/x-python",
   "name": "python",
   "nbconvert_exporter": "python",
   "pygments_lexer": "ipython3",
   "version": "3.11.7"
  },
  "nbTranslate": {
   "displayLangs": [
    "*"
   ],
   "hotkey": "alt-t",
   "langInMainMenu": true,
   "sourceLang": "en",
   "targetLang": "fr",
   "useGoogleTranslate": true
  }
 },
 "nbformat": 4,
 "nbformat_minor": 2
}
