{
 "cells": [
  {
   "cell_type": "markdown",
   "metadata": {
    "button": false,
    "new_sheet": false,
    "run_control": {
     "read_only": false
    }
   },
   "source": [
    "<!--BOOK_INFORMATION-->\n",
    "<img align=\"left\" style=\"padding-right:10px;\" src=\"images/book_cover.jpg\" width=\"120\">\n",
    "\n",
    "*Ce cahier contient un extrait de [Programmation Python et méthodes numériques - Un guide pour les ingénieurs et les scientifiques](https://pythonnumericalmethods.berkeley.edu/notebooks/Index.html), le contenu est également disponible sur [Berkeley Python Numerical Methods](https://pythonnumericalmethods.berkeley.edu/notebooks/Index.html).*\n",
    "\n",
    "*Les droits d'auteur du livre appartiennent à Elsevier. Nous avons également ce livre interactif en ligne pour une meilleure expérience d'apprentissage. Le code est publié sous la [licence MIT](https://opensource.org/licenses/MIT). Si vous trouvez ce contenu utile, pensez à soutenir le travail sur [Elsevier](https://www.elsevier.com/books/python-programming-and-numerical-methods/kong/978-0-12-819549-9) ou [Amazon](https://www.amazon.com/Python-Programming-Numerical-Methods-Scientists/dp/0128195495/ref=sr_1_1?dchild=1&keywords=Python+Programming+and+Numerical+Methods+-+A+Guide+for+Engineers+and+Scientists&qid=1604761352&sr=8-1) !*"
   ]
  },
  {
   "cell_type": "markdown",
   "metadata": {
    "button": false,
    "new_sheet": false,
    "run_control": {
     "read_only": false
    }
   },
   "source": [
    "<!--NAVIGATION-->\n",
    "< [14.7 Summary and Problems](chapter14.07-Summary-and-Problems.ipynb) | [Contents](Index.ipynb) | [15.1 Eigenvalues and Eigenvectors Problem Statement](chapter15.01-Eigenvalues-and-Eigenvectors-Problem-Statement.ipynb)   >"
   ]
  },
  {
   "cell_type": "markdown",
   "metadata": {
    "lang": "fr"
   },
   "source": [
    "# Chapitre 15. Valeurs propres et vecteurs propres"
   ]
  },
  {
   "cell_type": "markdown",
   "metadata": {
    "lang": "fr"
   },
   "source": [
    "#### SOMMAIRE\n",
    "\n",
    "---\n",
    "\n",
    "* [**15.1 Énoncé du problème des valeurs propres et des vecteurs propres**](chapter15.01-Eigenvalues-and-Eigenvectors-Problem-Statement.ipynb)\n",
    "* [**15.2 La méthode Power**](chapter15.02-The-Power-Method.ipynb)\n",
    "* [**15.3 La méthode QR**](chapter15.03-La-méthode-QR.ipynb)\n",
    "* [**15.4 Valeurs propres et vecteurs propres en Python**](chapter15.04-Eigenvalues-and-Eigenvectors-in-Python.ipynb) \n",
    "* [**15.5 Résumé et problèmes**](chapter15.05-Summary-and-Problems.ipynb)"
   ]
  },
  {
   "cell_type": "markdown",
   "metadata": {
    "lang": "fr"
   },
   "source": [
    "---\n",
    "\n",
    "## Motivation\n",
    "\n",
    "Dans ce chapitre, nous allons vous présenter les valeurs propres et les vecteurs propres qui jouent un rôle très important dans de nombreuses applications en science et en ingénierie. Le préfixe eigen- est adopté du mot allemand eigen pour « propre », « caractéristique » et il peut sembler vraiment abstrait et effrayant au début. Mais lorsque vous commencerez à les comprendre, vous constaterez qu’ils apportent de nombreuses informations et commodités sur nos problèmes.\n",
    "\n",
    "Ils ont de nombreuses applications, pour n'en nommer que quelques-unes, trouver les fréquences naturelles et les formes modales dans les systèmes dynamiques, résoudre des équations différentielles (nous le verrons dans les chapitres suivants), réduire les dimensions à l'aide de l'analyse en composantes principales, obtenir les contraintes principales dans la mécanique, et bientôt. Même le célèbre algorithme du moteur de recherche de Google, PageRank, utilise les valeurs propres et les vecteurs propres pour attribuer des scores aux pages et les classer dans la recherche.\n",
    "\n",
    "Ce chapitre vous apprend à utiliser certaines méthodes courantes pour trouver les valeurs propres et les vecteurs propres. À la fin de ce chapitre, vous devriez comprendre la méthode power, la méthode QR et comment utiliser Python pour les trouver.\n",
    "\n",
    "---"
   ]
  }
 ],
 "metadata": {
  "kernelspec": {
   "display_name": "Python 3 (ipykernel)",
   "language": "python",
   "name": "python3"
  },
  "language_info": {
   "codemirror_mode": {
    "name": "ipython",
    "version": 3
   },
   "file_extension": ".py",
   "mimetype": "text/x-python",
   "name": "python",
   "nbconvert_exporter": "python",
   "pygments_lexer": "ipython3",
   "version": "3.11.7"
  },
  "nbTranslate": {
   "displayLangs": [
    "*"
   ],
   "hotkey": "alt-t",
   "langInMainMenu": true,
   "sourceLang": "en",
   "targetLang": "fr",
   "useGoogleTranslate": true
  }
 },
 "nbformat": 4,
 "nbformat_minor": 2
}
