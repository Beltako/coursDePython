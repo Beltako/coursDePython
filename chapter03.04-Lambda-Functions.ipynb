{
 "cells": [
  {
   "cell_type": "markdown",
   "metadata": {
    "button": false,
    "new_sheet": false,
    "run_control": {
     "read_only": false
    }
   },
   "source": [
    "<!--BOOK_INFORMATION-->\n",
    "<img align=\"left\" style=\"padding-right:10px;\" src=\"images/book_cover.jpg\" width=\"120\">\n",
    "\n",
    "*Ce cahier contient un extrait de [Programmation Python et méthodes numériques - Un guide pour les ingénieurs et les scientifiques](https://pythonnumericalmethods.berkeley.edu/notebooks/Index.html), le contenu est également disponible sur [Berkeley Python Numerical Methods](https://pythonnumericalmethods.berkeley.edu/notebooks/Index.html).*\n",
    "\n",
    "*Les droits d'auteur du livre appartiennent à Elsevier. Nous avons également ce livre interactif en ligne pour une meilleure expérience d'apprentissage. Le code est publié sous la [licence MIT](https://opensource.org/licenses/MIT). Si vous trouvez ce contenu utile, pensez à soutenir le travail sur [Elsevier](https://www.elsevier.com/books/python-programming-and-numerical-methods/kong/978-0-12-819549-9) ou [Amazon](https://www.amazon.com/Python-Programming-Numerical-Methods-Scientists/dp/0128195495/ref=sr_1_1?dchild=1&keywords=Python+Programming+and+Numerical+Methods+-+A+Guide+for+Engineers+and+Scientists&qid=1604761352&sr=8-1) !*"
   ]
  },
  {
   "cell_type": "markdown",
   "metadata": {
    "button": false,
    "new_sheet": false,
    "run_control": {
     "read_only": false
    }
   },
   "source": [
    "<!--NAVIGATION-->\n",
    "< [3.3 Nested Functions](chapter03.03-Nested-Functions.ipynb) | [Contents](Index.ipynb) | [3.5 Functions as Arguments to Functions ](chapter03.05-Functions-as-Arguments-to-Functions.ipynb) >"
   ]
  },
  {
   "cell_type": "markdown",
   "metadata": {
    "lang": "fr"
   },
   "source": [
    "# Fonctions Lambda"
   ]
  },
  {
   "cell_type": "markdown",
   "metadata": {
    "lang": "fr"
   },
   "source": [
    "Parfois, nous ne voulons pas utiliser la manière normale de définir une fonction, surtout si notre fonction ne comporte qu'une seule ligne. Dans ce cas, nous pouvons utiliser une fonction anonyme en Python, qui est une fonction définie sans nom. Ce type de fonctions est également appelé **fonction labmda**, car elles sont définies à l'aide du mot-clé *labmda*. Une fonction lambda typique est définie :\n",
    "\n",
    "```python\n",
    "arguments lambda : expression\n",
    "```\n",
    "\n",
    "Il peut avoir n'importe quel nombre d'arguments, mais avec une seule expression.\n",
    "\n",
    "**ESSAYEZ-LE !** Définissez une fonction labmda, qui met au carré le nombre saisi. Et appelez la fonction avec les entrées 2 et 5."
   ]
  },
  {
   "cell_type": "code",
   "execution_count": 1,
   "metadata": {},
   "outputs": [
    {
     "name": "stdout",
     "output_type": "stream",
     "text": [
      "4\n",
      "25\n"
     ]
    }
   ],
   "source": [
    "square = lambda x: x**2\n",
    "\n",
    "print(square(2))\n",
    "print(square(5))"
   ]
  },
  {
   "cell_type": "markdown",
   "metadata": {
    "lang": "fr"
   },
   "source": [
    "Dans la fonction lambda ci-dessus, _x_ est l'argument et _x\\**2_ est l'expression qui est évaluée et renvoyée. La fonction elle-même n'a pas de nom et elle renvoie un objet fonction (dont nous parlerons plus en détail dans le chapitre suivant) à *square*. Une fois défini, nous pouvons l’appeler comme une fonction normale. La fonction lambda équivaut à :\n",
    "\n",
    "```python\n",
    "def carré(x):\n",
    "    retourner x**2\n",
    "```"
   ]
  },
  {
   "cell_type": "markdown",
   "metadata": {
    "lang": "fr"
   },
   "source": [
    "**ESSAYEZ-LE !** Définissez une fonction labmda, qui ajoute *x* et *y*."
   ]
  },
  {
   "cell_type": "code",
   "execution_count": 2,
   "metadata": {},
   "outputs": [
    {
     "name": "stdout",
     "output_type": "stream",
     "text": [
      "6\n"
     ]
    }
   ],
   "source": [
    "my_adder = lambda x, y: x + y\n",
    "\n",
    "print(my_adder(2, 4))"
   ]
  },
  {
   "cell_type": "markdown",
   "metadata": {
    "lang": "fr"
   },
   "source": [
    "Les fonctions Lambda peuvent être utiles dans mon cas, nous verrons plus d'utilisation dans les chapitres suivants. Ici, nous montrons simplement un cas d'utilisation courant de la fonction lambda.\n",
    "\n",
    "**EXEMPLE :** Trier *[(1, 2), (2, 0), (4, 1)]* en fonction du 2ème élément du tuple."
   ]
  },
  {
   "cell_type": "code",
   "execution_count": 3,
   "metadata": {},
   "outputs": [
    {
     "data": {
      "text/plain": [
       "[(2, 0), (4, 1), (1, 2)]"
      ]
     },
     "execution_count": 3,
     "metadata": {},
     "output_type": "execute_result"
    }
   ],
   "source": [
    "sorted([(1, 2), (2, 0), (4, 1)], key=lambda x: x[1])"
   ]
  },
  {
   "cell_type": "markdown",
   "metadata": {
    "lang": "fr"
   },
   "source": [
    "Ce qui se produit? La fonction *sorted* a un argument *key*, où une fonction clé personnalisée peut être fournie pour personnaliser l'ordre de tri. Nous utilisons la fonction lambda comme raccourci pour cette fonction clé personnalisée."
   ]
  },
  {
   "cell_type": "markdown",
   "metadata": {
    "button": false,
    "new_sheet": false,
    "run_control": {
     "read_only": false
    }
   },
   "source": [
    "<!--NAVIGATION-->\n",
    "< [3.3 Nested Functions](chapter03.03-Nested-Functions.ipynb) | [Contents](Index.ipynb) | [3.5 Functions as Arguments to Functions ](chapter03.05-Functions-as-Arguments-to-Functions.ipynb) >"
   ]
  }
 ],
 "metadata": {
  "kernelspec": {
   "display_name": "Python 3 (ipykernel)",
   "language": "python",
   "name": "python3"
  },
  "language_info": {
   "codemirror_mode": {
    "name": "ipython",
    "version": 3
   },
   "file_extension": ".py",
   "mimetype": "text/x-python",
   "name": "python",
   "nbconvert_exporter": "python",
   "pygments_lexer": "ipython3",
   "version": "3.11.7"
  },
  "nbTranslate": {
   "displayLangs": [
    "*"
   ],
   "hotkey": "alt-t",
   "langInMainMenu": true,
   "sourceLang": "en",
   "targetLang": "fr",
   "useGoogleTranslate": true
  }
 },
 "nbformat": 4,
 "nbformat_minor": 2
}
