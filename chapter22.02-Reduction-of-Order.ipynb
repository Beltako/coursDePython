{
 "cells": [
  {
   "cell_type": "markdown",
   "metadata": {
    "button": false,
    "new_sheet": false,
    "run_control": {
     "read_only": false
    }
   },
   "source": [
    "<!--BOOK_INFORMATION-->\n",
    "<img align=\"left\" style=\"padding-right:10px;\" src=\"images/book_cover.jpg\" width=\"120\">\n",
    "\n",
    "*Ce cahier contient un extrait de [Programmation Python et méthodes numériques - Un guide pour les ingénieurs et les scientifiques](https://pythonnumericalmethods.berkeley.edu/notebooks/Index.html), le contenu est également disponible sur [Berkeley Python Numerical Methods](https://pythonnumericalmethods.berkeley.edu/notebooks/Index.html).*\n",
    "\n",
    "*Les droits d'auteur du livre appartiennent à Elsevier. Nous avons également ce livre interactif en ligne pour une meilleure expérience d'apprentissage. Le code est publié sous la [licence MIT](https://opensource.org/licenses/MIT). Si vous trouvez ce contenu utile, pensez à soutenir le travail sur [Elsevier](https://www.elsevier.com/books/python-programming-and-numerical-methods/kong/978-0-12-819549-9) ou [Amazon](https://www.amazon.com/Python-Programming-Numerical-Methods-Scientists/dp/0128195495/ref=sr_1_1?dchild=1&keywords=Python+Programming+and+Numerical+Methods+-+A+Guide+for+Engineers+and+Scientists&qid=1604761352&sr=8-1) !*"
   ]
  },
  {
   "cell_type": "markdown",
   "metadata": {
    "button": false,
    "new_sheet": false,
    "run_control": {
     "read_only": false
    }
   },
   "source": [
    "<!--NAVIGATION-->\n",
    "< [22.1 ODE Initial Value Problem Statement](chapter22.01-ODE-Initial-Value-Problem-Statement.ipynb) | [Contents](Index.ipynb) | [22.3 The Euler Method](chapter22.03-The-Euler-Method.ipynb) >"
   ]
  },
  {
   "cell_type": "markdown",
   "metadata": {
    "lang": "fr"
   },
   "source": [
    "# Réduction de commande"
   ]
  },
  {
   "cell_type": "markdown",
   "metadata": {
    "lang": "fr"
   },
   "source": [
    "De nombreuses méthodes numériques de résolution de problèmes de valeurs initiales sont conçues spécifiquement pour résoudre des équations différentielles du premier ordre. Pour rendre ces solveurs utiles à la résolution d’équations différentielles d’ordre supérieur, nous devons souvent **réduire l’ordre** de l’équation différentielle au premier ordre. Pour réduire l'ordre d'une équation différentielle, considérons un vecteur, $S(t)$, qui est l'**état** du système en fonction du temps. En général, l’état d’un système est un ensemble de toutes les variables dépendantes pertinentes pour le comportement du système. Rappelant que les EDO intéressantes dans ce livre peuvent être exprimées comme\n",
    "\n",
    "$$\n",
    "f^{(n)}(t) = F\\left(t, f(t), f^{(1)}(t), f^{(2)}(t), f^{(3)}(t),\\ldots, f^{(n-1)}(t)\\right),\n",
    "$$\n",
    "\n",
    "pour les problèmes de valeur initiale, il est utile de prendre l’état comme étant\n",
    "\n",
    "$$\n",
    "S(t) =\\left[\\begin{array}{c}\n",
    "f(t) \\\\\n",
    "f^{(1)}(t) \\\\\n",
    "f^{(2)}(t) \\\\\n",
    "f^{(3)}(t) \\\\\n",
    "\\cdots \\\\\n",
    "f^{(n-1)}(t)\n",
    "\\end{array}\\right].\n",
    "$$\n",
    "\n",
    "Alors la dérivée de l’état est\n",
    "\n",
    "$$\n",
    "\\frac{dS(t)}{dt} =\\!\\left[\\begin{array}{c}\n",
    "f^{(1)}(t) \\\\\n",
    "f^{(2)}(t) \\\\\n",
    "f^{(3)}(t) \\\\\n",
    "f^{(4)}(t) \\\\\n",
    "\\cdots \\\\\n",
    "f^{(n)}(t)\n",
    "\\end{array}\\right]\\!=\\!\\left[\\begin{array}{c}\n",
    "f^{(1)}(t) \\\\\n",
    "f^{(2)}(t) \\\\\n",
    "f^{(3)}(t) \\\\\n",
    "f^{(4)}(t) \\\\\n",
    "\\cdots \\\\\n",
    "F\\left(t, f(t), f^{(1)}(t),\\ldots, f^{(n-1)}(t)\\right)\n",
    "\\end{array}\\right]\\!=\\!\\left[\\begin{array}{c}\n",
    "S_2(t) \\\\\n",
    "S_3(t) \\\\\n",
    "S_4(t) \\\\\n",
    "S_5(t) \\\\\n",
    "\\cdots \\\\\n",
    "F\\left(t, S_1(t), S_2(t),\\ldots, S_{n-1}(t)\\right)\n",
    "\\end{array}\\right]\\!,\n",
    "$$\n",
    "\n",
    "où $S_i(t)$ est l'élément $i^{\\mathrm{th}}$ de $S(t)$. Avec l'état écrit de cette manière, $\\frac{dS(t)}{dt}$ peut être écrit en utilisant uniquement $S(t)$ (c'est-à-dire pas de $f(t)$) ou ses dérivés. En particulier, $\\frac{dS(t)}{dt} = {\\mathcal{F}}(t,S(t))$, où ${\\mathcal{F}}$ est une fonction qui assemble de manière appropriée le vecteur décrivant la dérivée de l'état. Cette équation se présente sous la forme d’une équation différentielle du premier ordre dans $S$. Essentiellement, ce que nous avons fait est de transformer une ODE d'ordre $n^{\\mathrm{th}}$ en ODE de premier ordre $n$ qui sont **couplées** ensemble, ce qui signifie qu'elles partagent les mêmes termes."
   ]
  },
  {
   "cell_type": "markdown",
   "metadata": {
    "lang": "fr"
   },
   "source": [
    "**ESSAYEZ-LE !** Réduisez l'équation du pendule du deuxième ordre au premier ordre, où\n",
    "\n",
    "$$\n",
    "S(t) =\\left[\\begin{array}{c}\n",
    "\\Theta(t) \\\\\n",
    "\\dot{\\Theta}(t)\n",
    "\\end{array}\\right].\n",
    "$$\n",
    "\n",
    "Prendre le dérivé de $S(t)$ et le remplacer donne l'expression correcte.\n",
    "\n",
    "$$\n",
    "\\frac{dS(t)}{dt} =\\left[\\begin{array}{c}\n",
    "S_2(t) \\\\\n",
    "-\\frac{g}{l}S_1(t)\n",
    "\\end{array}\\right]\n",
    "$$\n",
    "\n",
    "Il arrive que cette ODE puisse s'écrire sous forme matricielle :\n",
    "\n",
    "$$\n",
    "\\frac{dS(t)}{dt} =\\left[\\begin{array}{cc}\n",
    "0 & 1 \\\\\n",
    "-\\frac{g}{l} & 0\n",
    "\\end{array}\\right]S(t)\n",
    "$$\n",
    "\n",
    "Les EDO qui peuvent être écrites de cette manière sont dites **EDO linéaires**."
   ]
  },
  {
   "cell_type": "markdown",
   "metadata": {
    "lang": "fr"
   },
   "source": [
    "Bien que réduire l'ordre d'une ODE au premier ordre aboutisse à une ODE avec plusieurs variables, toutes les dérivées sont toujours prises par rapport à la même variable indépendante, $t$. Par conséquent, le caractère ordinaire de l’équation différentielle est conservé.\n",
    "\n",
    "Il convient de noter que l’État peut détenir plusieurs variables dépendantes et leurs dérivées tant que les dérivées se rapportent à la même variable indépendante."
   ]
  },
  {
   "cell_type": "markdown",
   "metadata": {
    "lang": "fr"
   },
   "source": [
    "**ESSAYEZ-LE !** Un modèle très simple pour décrire le changement de population de lapins, $r(t)$, et de loups, $w(t)$, pourrait être\n",
    "\n",
    "$$\n",
    "\\frac{dr(t)}{dt} = 4r(t) - 2w(t)\n",
    "$$\n",
    "\n",
    "et\n",
    "\n",
    "$$\n",
    "\\frac{dw(t)}{dt} = r(t) + w(t).\n",
    "$$\n",
    "\n",
    "La première ODE dit qu'à chaque pas de temps, la population de lapins se multiplie par 4, mais chaque loup mange deux lapins. La deuxième ODE dit qu'à chaque pas de temps, la population de loups augmente du nombre de lapins et de loups dans le système. Écrivez ce système d'équations différentielles sous la forme d'une équation différentielle équivalente dans $S(t)$ où\n",
    "\n",
    "$$\n",
    "S(t) =\\left[\\begin{array}{c}\n",
    "r(t) \\\\\n",
    "w(t)\n",
    "\\end{array}\\right].\n",
    "$$\n",
    "\n",
    "L’ODE de premier ordre suivante est équivalente à la paire d’ODE.\n",
    "\n",
    "$$\n",
    "\\frac{dS(t)}{dt} = \\left[\\begin{array}{cc}\n",
    "4 & -2 \\\\\n",
    "1 & 1\n",
    "\\end{array}\\right]S(t).\n",
    "$$"
   ]
  },
  {
   "cell_type": "markdown",
   "metadata": {
    "button": false,
    "new_sheet": false,
    "run_control": {
     "read_only": false
    }
   },
   "source": [
    "<!--NAVIGATION-->\n",
    "< [22.1 ODE Initial Value Problem Statement](chapter22.01-ODE-Initial-Value-Problem-Statement.ipynb) | [Contents](Index.ipynb) | [22.3 The Euler Method](chapter22.03-The-Euler-Method.ipynb) >"
   ]
  }
 ],
 "metadata": {
  "kernelspec": {
   "display_name": "Python 3 (ipykernel)",
   "language": "python",
   "name": "python3"
  },
  "language_info": {
   "codemirror_mode": {
    "name": "ipython",
    "version": 3
   },
   "file_extension": ".py",
   "mimetype": "text/x-python",
   "name": "python",
   "nbconvert_exporter": "python",
   "pygments_lexer": "ipython3",
   "version": "3.11.7"
  },
  "nbTranslate": {
   "displayLangs": [
    "*"
   ],
   "hotkey": "alt-t",
   "langInMainMenu": true,
   "sourceLang": "en",
   "targetLang": "fr",
   "useGoogleTranslate": true
  }
 },
 "nbformat": 4,
 "nbformat_minor": 2
}
