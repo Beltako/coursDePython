{
 "cells": [
  {
   "cell_type": "markdown",
   "metadata": {
    "button": false,
    "new_sheet": false,
    "run_control": {
     "read_only": false
    }
   },
   "source": [
    "<!--BOOK_INFORMATION-->\n",
    "<img align=\"left\" style=\"padding-right:10px;\" src=\"images/book_cover.jpg\" width=\"120\">\n",
    "\n",
    "*Ce cahier contient un extrait de [Programmation Python et méthodes numériques - Un guide pour les ingénieurs et les scientifiques](https://pythonnumericalmethods.berkeley.edu/notebooks/Index.html), le contenu est également disponible sur [Berkeley Python Numerical Methods](https://pythonnumericalmethods.berkeley.edu/notebooks/Index.html).*\n",
    "\n",
    "*Les droits d'auteur du livre appartiennent à Elsevier. Nous avons également ce livre interactif en ligne pour une meilleure expérience d'apprentissage. Le code est publié sous la [licence MIT](https://opensource.org/licenses/MIT). Si vous trouvez ce contenu utile, pensez à soutenir le travail sur [Elsevier](https://www.elsevier.com/books/python-programming-and-numerical-methods/kong/978-0-12-819549-9) ou [Amazon](https://www.amazon.com/Python-Programming-Numerical-Methods-Scientists/dp/0128195495/ref=sr_1_1?dchild=1&keywords=Python+Programming+and+Numerical+Methods+-+A+Guide+for+Engineers+and+Scientists&qid=1604761352&sr=8-1) !*"
   ]
  },
  {
   "cell_type": "markdown",
   "metadata": {
    "button": false,
    "new_sheet": false,
    "run_control": {
     "read_only": false
    }
   },
   "source": [
    "<!--NAVIGATION-->\n",
    "< [18.2 Approximations with Taylor Series](chapter18.02-Approximations-with-Taylor-Series.ipynb) | [Contents](Index.ipynb) | [18.4 Summary and Problems](chapter18.04-Summary-and-Problems.ipynb)  >"
   ]
  },
  {
   "cell_type": "markdown",
   "metadata": {
    "lang": "fr"
   },
   "source": [
    "# Discussion sur les erreurs"
   ]
  },
  {
   "cell_type": "markdown",
   "metadata": {
    "lang": "fr"
   },
   "source": [
    "## Erreurs de troncature pour les séries de Taylor\n",
    "\n",
    "Lorsque nous effectuons une analyse numérique, il existe généralement deux sources d'erreur, l'erreur d'**arrondi** et de **troncation**. Les erreurs d'arrondi sont dues à l'inexactitude de la représentation des nombres réels sur un ordinateur et des opérations arithmétiques effectuées avec ceux-ci. Bien que les erreurs de troncature soient dues à la nature approximative de la méthode utilisée, elles proviennent généralement de l'utilisation d'une approximation à la place d'une procédure mathématique exacte, par exemple lorsque nous utilisons la série de Taylor pour approximer une fonction. Par exemple, nous pouvons utiliser les séries de Taylor pour approximer la fonction $e^x$ :\n",
    "\n",
    "$$e^x = 1+x+\\frac{x^2}{2!} + \\frac{x^3}{3!} + \\frac{x^4}{4!} + \\dots$$\n",
    "\n",
    "Puisqu’il faut une séquence infinie pour approximer la fonction, si nous ne prenons que quelques éléments, nous aurons une erreur de troncature. Par exemple, si nous utilisons uniquement les 4 premiers éléments pour approximer $e^2$, ce qui sera :\n",
    "\n",
    "$$e^2 \\approx 1+2+\\frac{2^2}{2!} + \\frac{2^3}{3!} = 6.3333$$,\n",
    "\n",
    "Nous voyons qu'il y a une erreur qui y est associée, puisque nous tronquons le reste des termes de la série de Taylor. Par conséquent, la fonction $f(x)$ peut être écrite sous la forme d’une approximation de la série de Taylor plus un terme d’erreur de troncature :\n",
    "\n",
    "$$f(x) = f_n(x) + E_n(x)$$\n",
    "\n",
    "plus nous utilisons de termes, plus l’approximation sera proche de la valeur exacte. Utilisons Python pour voir l'exemple ci-dessus.\n",
    "\n",
    "**ESSAYEZ-LE !** Approchez $e^2$ en utilisant différents ordres de séries de Taylor et imprimez les résultats."
   ]
  },
  {
   "cell_type": "code",
   "execution_count": 1,
   "metadata": {
    "button": false,
    "collapsed": true,
    "new_sheet": false,
    "run_control": {
     "read_only": false
    }
   },
   "outputs": [],
   "source": [
    "import numpy as np"
   ]
  },
  {
   "cell_type": "code",
   "execution_count": 2,
   "metadata": {
    "button": false,
    "new_sheet": false,
    "run_control": {
     "read_only": false
    }
   },
   "outputs": [
    {
     "name": "stdout",
     "output_type": "stream",
     "text": [
      "Using 0-term, 1.0\n",
      "Using 1-term, 3.0\n",
      "Using 2-term, 5.0\n",
      "Using 3-term, 6.333333333333333\n",
      "Using 4-term, 7.0\n",
      "Using 5-term, 7.266666666666667\n",
      "Using 6-term, 7.355555555555555\n",
      "Using 7-term, 7.3809523809523805\n",
      "Using 8-term, 7.387301587301587\n",
      "Using 9-term, 7.3887125220458545\n",
      "The true e^2 is: \n",
      "7.38905609893065\n"
     ]
    }
   ],
   "source": [
    "exp = 0\n",
    "x = 2\n",
    "for i in range(10):\n",
    "    exp = exp + \\\n",
    "       ((x**i)/np.math.factorial(i))\n",
    "    print(f'Using {i}-term, {exp}')\n",
    "    \n",
    "print(f'The true e^2 is: \\n{np.exp(2)}')"
   ]
  },
  {
   "cell_type": "markdown",
   "metadata": {
    "lang": "fr"
   },
   "source": [
    "## Estimer les erreurs de troncature\n",
    "\n",
    "Nous pouvons voir que plus nous utilisons un ordre élevé pour approximer la fonction à la valeur, plus nous nous rapprochons de la vraie valeur. Pour chaque ordre que nous choisissons, une erreur est associée, et l’approximation n’est utile que si nous avons une idée de sa précision. C'est la motivation dont nous avons besoin pour mieux comprendre les erreurs.\n",
    "\n",
    "À partir de la série de Taylor, si l’on utilise uniquement les premiers termes $n$, on peut voir :\n",
    "\n",
    "$$ f(x) = f_n(x) + E_n(x) = \\sum_{k = 0}^{n} \\frac{f^{(k)}(a)(x-a)^k}{k!} + E_n(x)\n",
    "$$\n",
    "\n",
    "Le $E_n(x)$ est le reste de la série de Taylor, ou l'erreur de troncature qui mesure la distance entre l'approximation $f_n(x)$ et $f(x)$. Nous pouvons estimer l’erreur en utilisant le **Théorème d’estimation du reste de Taylor**, qui stipule :\n",
    "\n",
    "Si la fonction $f(x)$ a des dérivées $n+1$ pour tous $x$ dans un intervalle $I$ contenant $a$, alors, pour chaque x dans $I$, il existe $z$ entre $x$ et $a$ tel que\n",
    "\n",
    "$$ E_n(x) = \\frac{f^{(n+1)}(z)(x-a)^{(n+1)}}{(n+1)!}\n",
    "$$\n",
    "\n",
    "Dans de nombreux cas, si nous savons que $M$ est la valeur maximale de $|f^{(n+1)}|$ dans l'intervalle, nous aurons :\n",
    "\n",
    "$$ |E_n(x)| \\le \\frac{M|x-a|^{(n+1)}}{(n+1)!}\n",
    "$$\n",
    "\n",
    "Par conséquent, nous pouvons obtenir une limite pour l’erreur de troncature en utilisant ce théorème. Voyons l'exemple.\n",
    "\n",
    "**ESSAYEZ-LE !** Estimez la limite du reste pour l'approximation en utilisant la série Taylor pour $e^2$ en utilisant n = 9.\n",
    "\n",
    "Travaillons sur l'erreur lorsque nous utilisons n = 9. Nous savons que $(e^x)' = e^x$, et, a = 0. Par conséquent, l'erreur liée à x = 2 est :\n",
    "\n",
    "$$ E_n(x) = \\frac{f^{(9+1)}(z)(x)^{(9+1)}}{(9+1)!} = \\frac{e^{z}2^{10}}{10!}\n",
    "$$\n",
    "\n",
    "Rappelons que $ 0 \\le z \\le 2$, et $e < 3$, on aura\n",
    "\n",
    "$$ |E_n(x)| \\le \\frac{3^{2}2^{10}}{10!} = 0.00254\n",
    "$$\n",
    "\n",
    "Par conséquent, si nous utilisons la série de Taylor avec n = 9 pour approximer $e^2$, notre erreur absolue devrait être inférieure à 0,00254. Vérifions-le également ci-dessous."
   ]
  },
  {
   "cell_type": "code",
   "execution_count": 3,
   "metadata": {
    "button": false,
    "new_sheet": false,
    "run_control": {
     "read_only": false
    }
   },
   "outputs": [
    {
     "data": {
      "text/plain": [
       "0.0003435768847959153"
      ]
     },
     "execution_count": 3,
     "metadata": {},
     "output_type": "execute_result"
    }
   ],
   "source": [
    "abs(7.3887125220458545-np.exp(2))"
   ]
  },
  {
   "cell_type": "code",
   "execution_count": 4,
   "metadata": {
    "button": false,
    "new_sheet": false,
    "run_control": {
     "read_only": false
    }
   },
   "outputs": [
    {
     "name": "stdout",
     "output_type": "stream",
     "text": [
      "Using 199-term, our result is -8.553016433669241e-05\n",
      "The true e^2 is: 9.357622968840175e-14\n"
     ]
    }
   ],
   "source": [
    "exp = 0\n",
    "x = -30\n",
    "for i in range(200):\n",
    "    exp = exp + \\\n",
    "       ((x**i)/np.math.factorial(i))\n",
    "    \n",
    "print(f'Using {i}-term, our result is {exp}')    \n",
    "print(f'The true e^2 is: {np.exp(x)}')"
   ]
  },
  {
   "cell_type": "markdown",
   "metadata": {
    "lang": "fr"
   },
   "source": [
    "D'après l'exemple ci-dessus, il est clair que nos estimations utilisant les séries de Taylor ne sont plus proches de la vraie valeur, quel que soit le nombre de termes que vous incluez dans le calcul. Cela est dû aux erreurs d’arrondi dont nous avons parlé précédemment. Lors de l'utilisation de grands arguments négatifs, afin d'obtenir un petit résultat, la série de Taylor doit alterner de grands nombres à annuler pour y parvenir. Nous avons besoin de nombreux chiffres de précision dans la série pour capturer à la fois les grands et les petits nombres avec suffisamment de chiffres restants pour obtenir le résultat avec la précision de sortie souhaitée. Nous avons donc cette erreur dans l'exemple ci-dessus."
   ]
  },
  {
   "cell_type": "markdown",
   "metadata": {
    "button": false,
    "new_sheet": false,
    "run_control": {
     "read_only": false
    }
   },
   "source": [
    "<!--NAVIGATION-->\n",
    "< [18.2 Approximations with Taylor Series](chapter18.02-Approximations-with-Taylor-Series.ipynb) | [Contents](Index.ipynb) | [18.4 Summary and Problems](chapter18.04-Summary-and-Problems.ipynb)  >"
   ]
  }
 ],
 "metadata": {
  "kernelspec": {
   "display_name": "Python 3 (ipykernel)",
   "language": "python",
   "name": "python3"
  },
  "language_info": {
   "codemirror_mode": {
    "name": "ipython",
    "version": 3
   },
   "file_extension": ".py",
   "mimetype": "text/x-python",
   "name": "python",
   "nbconvert_exporter": "python",
   "pygments_lexer": "ipython3",
   "version": "3.11.7"
  },
  "nbTranslate": {
   "displayLangs": [
    "*"
   ],
   "hotkey": "alt-t",
   "langInMainMenu": true,
   "sourceLang": "en",
   "targetLang": "fr",
   "useGoogleTranslate": true
  }
 },
 "nbformat": 4,
 "nbformat_minor": 2
}
