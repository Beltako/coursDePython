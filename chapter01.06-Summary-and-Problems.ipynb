{
 "cells": [
  {
   "cell_type": "markdown",
   "metadata": {
    "lang": "fr"
   },
   "source": [
    "# 1.6.a Résumé\n",
    "\n",
    "1. Vous avez appris les bases de Python pour configurer l'environnement de travail et les méthodes d'exécution de Python.\n",
    "2. Python peut être utilisé comme calculatrice. Il possède toutes les fonctions et opérations arithmétiques couramment utilisées avec une calculatrice scientifique.\n",
    "3. Vous pouvez gérer les packages Python.\n",
    "4. Vous avez appris à interagir avec le notebook Jupyter.\n",
    "5. Vous pouvez également utiliser Python pour effectuer des opérations logiques.\n",
    "6. Vous rencontrez maintenant des types de données int, float, complexes, string, boolean en Python."
   ]
  },
  {
   "cell_type": "markdown",
   "metadata": {
    "lang": "fr"
   },
   "source": [
    "# 1.6.b Problèmes\n",
    "\n",
    "1. Imprimez \"J'aime Python\" à l'aide de Python Shell.\n",
    "\n",
    "2. Imprimez « J'aime Python » en le tapant dans un fichier .py et exécutez-le à partir de la ligne de commande.\n",
    "\n",
    "3. Tapez *import antigravity* dans le shell Ipython, cela vous mènera à xkcd et verrez le génial Python.\n",
    "\n",
    "4. Lancez un nouveau serveur de notebook Jupyter dans un dossier appelé « excercis » et créez un nouveau notebook Python avec le nom « excercis_1 », vous pourrez ensuite résoudre le reste des problèmes dans ce notebook.\n",
    "\n",
    "5. Calculez l'aire d'un triangle de base 10 et de hauteur 12. Rappelez-vous que l'aire d'un triangle est égale à la moitié de la base multipliée par la hauteur.\n",
    "\n",
    "6. Calculez la surface et le volume d’un cylindre de rayon 5 et de hauteur 3.\n",
    "\n",
    "7. Calculez la pente entre les points $(3,4)$ et $(5,9)$. Rappelons que la pente entre les points $(x_1,y_1)$ et $(x_2, y_2)$ est $\\frac{y_2 - y_1}{x_2 - x_1}$.\n",
    "\n",
    "8. Calculez la distance entre les points $(3,4)$ et $(5,9)$. Rappelons que la distance entre les points en deux dimensions est $\\sqrt{(x_2 - x_1)^2 + (y_2 - y_1)^2}$.\n",
    "\n",
    "9. Utilisez la fonction *factorial* de Python pour calculer $6!$\n",
    "\n",
    "10. Une année est considérée comme longue de 365 jours. Cependant, un chiffre plus précis est de 365,24 jours. En conséquence, si nous nous en tenions à l’année standard de 365 jours, nous perdrions progressivement cette fraction de jour au fil du temps, et les saisons et autres événements astronomiques ne se produiraient pas comme prévu. Une année bissextile est une année qui comporte un jour supplémentaire, le 29 février, pour maintenir le calendrier sur la bonne voie. Les années bissextiles surviennent les années qui sont exactement divisibles par 4, à moins qu'elles ne soient exactement divisibles par 100, à moins qu'elles ne soient divisibles par 400. Par exemple, l'année 2004 est une année bissextile, l'année 1900 n'est pas une année bissextile et l'année 2000 est une année bissextile.<br>\n",
    "Calculez le nombre d'années bissextiles entre les années 1500 et 2010.\n",
    "\n",
    "11. Une approximation très puissante de $\\pi$ a été développée par un brillant mathématicien nommé Srinivasa Ramanujan. L'approximation est la suivante :<br>\n",
    "$\\frac{1}{\\pi} \\approx \\frac{2\\sqrt{2}}{9801} \\sum_{k=0}^{N} \\frac{(4k)!(1103 + 26390k)}{(k!)^4 396^{4k}}$.<br>\n",
    "Utilisez la formule de Ramanujan pour $N = 0$ et $N = 1$ pour vous rapprocher de $\\pi$. Assurez-vous d'utiliser le format long. Comparez votre approximation avec la valeur stockée par Python pour *pi*. Indice : $0! = 1$ par définition.\n",
    "\n",
    "12. Le $sin$ hyperbolique ou $sinh$ est défini en termes d'exponentielles comme $sinh(x) = \\frac{\\exp(x) - \\exp(-x)}{2}$.<br>\n",
    "Calculez $sinh$ pour $x = 2$ en utilisant des exponentielles. Vérifiez que le résultat est bien le $sin$ hyperbolique en utilisant la fonction *sinh* de Python dans le module math.\n",
    "\n",
    "13. Vérifiez que $\\sin^2(x) + \\cos^2(x) = 1$ pour $x = \\pi, \\frac{\\pi}{2}, \\frac{\\pi}{4}, \\frac{\\pi}{6}$.\n",
    "\n",
    "14. Calculez le $\\sin87$°.\n",
    "\n",
    "15. Écrivez une instruction Python qui génère l'erreur suivante :<br>\n",
    "\"AttributeError : le module 'math' n'a pas d'attribut 'sni'\"<br>\n",
    "Indice : sni est une faute d'orthographe de la fonction *sin*.\n",
    "\n",
    "16. Écrivez une instruction Python qui génère l'erreur suivante :<br>\n",
    "\"TypeError : sin() prend exactement un argument (0 donné)\"<br>\n",
    "Astuce : les arguments d'entrée font référence à l'entrée d'une fonction (n'importe quelle fonction) ; par exemple, l'entrée dans $sin(pi/2)$ est $pi/2$.\n",
    "\n",
    "17. Si $P$ est une expression logique, la loi de non-contradiction stipule que $P\\ AND\\ (NOT\\ P)$ est toujours fausse. Vérifiez cela pour $P$ true et $P$ false.\n",
    "\n",
    "18. Soient P et Q des expressions logiques. La règle de De Morgan stipule que $NOT\\ (P\\ OR\\ Q)\\ =\\ (NOT\\ P)\\ AND\\\n",
    "(NOT\\ Q)$ et $NOT\\ (P\\ AND\\ Q)\\ =\\ (NOT\\ P)\\ OR\\ (NOT\\ Q)$. Générez les tables de vérité pour chaque affirmation afin de montrer que la règle de De Morgan est toujours vraie.\n",
    "\n",
    "19. Dans quelles conditions pour $P$ et $Q$ ($P\\ AND\\ Q)\\ OR\\ (P\\ AND\\ (NOT\\ Q)$) est-il faux ?\n",
    "\n",
    "20. Construisez une expression logique équivalente pour OU en utilisant uniquement AND et NOT.\n",
    "\n",
    "21. Construisez une expression logique équivalente pour AND en utilisant uniquement OR et NOT.\n",
    "\n",
    "22. L'opérateur logique XOR a la table de vérité suivante :<br>\n",
    "Construisez une expression logique équivalente pour XOR en utilisant uniquement AND, OR et NOT qui a la même table de vérité (voir la figure suivante)\n",
    "\n",
    "![XOR](./images/01.06.01-truth_table.png \"Table de vérité XOR\")\n",
    "\n",
    "23. Effectuez le calcul suivant à l'invite de commande Python.<br>\n",
    "$e^{2}\\sin{\\pi/6} + log_e(3)\\cos{\\pi/9}-5^3$\n",
    "\n",
    "24. Effectuez les opérations logiques et de comparaison suivantes à l'invite de commande Python. Vous pouvez supposer que P et Q sont des expressions logiques.<br>\n",
    "Pour P = 1 et Q = 1 ; Calculer $NOT(P)\\ AND\\ NOT(Q)$.<br>\n",
    "Pour a = 10 et b = 25 ; Calculez $(a<b)\\ AND\\ (a=b)$."
   ]
  }
 ],
 "metadata": {
  "kernelspec": {
   "display_name": "Python 3 (ipykernel)",
   "language": "python",
   "name": "python3"
  },
  "language_info": {
   "codemirror_mode": {
    "name": "ipython",
    "version": 3
   },
   "file_extension": ".py",
   "mimetype": "text/x-python",
   "name": "python",
   "nbconvert_exporter": "python",
   "pygments_lexer": "ipython3",
   "version": "3.12.2"
  },
  "nbTranslate": {
   "displayLangs": [
    "*"
   ],
   "hotkey": "alt-t",
   "langInMainMenu": true,
   "sourceLang": "en",
   "targetLang": "fr",
   "useGoogleTranslate": true
  }
 },
 "nbformat": 4,
 "nbformat_minor": 2
}
