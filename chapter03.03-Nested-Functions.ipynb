{
 "cells": [
  {
   "cell_type": "markdown",
   "metadata": {
    "button": false,
    "new_sheet": false,
    "run_control": {
     "read_only": false
    }
   },
   "source": [
    "<!--BOOK_INFORMATION-->\n",
    "<img align=\"left\" style=\"padding-right:10px;\" src=\"images/book_cover.jpg\" width=\"120\">\n",
    "\n",
    "*Ce cahier contient un extrait de [Programmation Python et méthodes numériques - Un guide pour les ingénieurs et les scientifiques](https://pythonnumericalmethods.berkeley.edu/notebooks/Index.html), le contenu est également disponible sur [Berkeley Python Numerical Methods](https://pythonnumericalmethods.berkeley.edu/notebooks/Index.html).*\n",
    "\n",
    "*Les droits d'auteur du livre appartiennent à Elsevier. Nous avons également ce livre interactif en ligne pour une meilleure expérience d'apprentissage. Le code est publié sous la [licence MIT](https://opensource.org/licenses/MIT). Si vous trouvez ce contenu utile, pensez à soutenir le travail sur [Elsevier](https://www.elsevier.com/books/python-programming-and-numerical-methods/kong/978-0-12-819549-9) ou [Amazon](https://www.amazon.com/Python-Programming-Numerical-Methods-Scientists/dp/0128195495/ref=sr_1_1?dchild=1&keywords=Python+Programming+and+Numerical+Methods+-+A+Guide+for+Engineers+and+Scientists&qid=1604761352&sr=8-1) !*"
   ]
  },
  {
   "cell_type": "markdown",
   "metadata": {
    "button": false,
    "new_sheet": false,
    "run_control": {
     "read_only": false
    }
   },
   "source": [
    "<!--NAVIGATION-->\n",
    "< [3.2 Local Variables and Global Variables](chapter03.02-Local-Variables-and-Global-Variables.ipynb) | [Contents](Index.ipynb) | [3.4 Lambda Functions](chapter03.04-Lambda-Functions.ipynb) >"
   ]
  },
  {
   "cell_type": "markdown",
   "metadata": {
    "lang": "fr"
   },
   "source": [
    "# Fonctions imbriquées"
   ]
  },
  {
   "cell_type": "markdown",
   "metadata": {
    "lang": "fr"
   },
   "source": [
    "Une fois que vous avez créé et enregistré une nouvelle fonction, elle se comporte comme n'importe quelle autre fonction intégrée de Python. Vous pouvez appeler la fonction depuis n'importe où dans le bloc-notes, et toute autre fonction peut également faire appel à la fonction. Une **fonction imbriquée** est une fonction définie dans une autre fonction - **fonction parent**. Seule la fonction parent est capable d'appeler la fonction imbriquée. Cependant, la fonction imbriquée conserve un bloc mémoire distinct de sa fonction parent.\n",
    "\n",
    "**ESSAYEZ-LE !** Considérez la fonction suivante et la fonction imbriquée."
   ]
  },
  {
   "cell_type": "code",
   "execution_count": 1,
   "metadata": {},
   "outputs": [],
   "source": [
    "import numpy as np\n",
    "\n",
    "def my_dist_xyz(x, y, z):\n",
    "    \"\"\"\n",
    "    x, y, z are 2D coordinates contained in a tuple\n",
    "    output:\n",
    "    d - list, where\n",
    "        d[0] is the distance between x and y\n",
    "        d[1] is the distance between x and z\n",
    "        d[2] is the distance between y and z\n",
    "    \"\"\"\n",
    "    \n",
    "    def my_dist(x, y):\n",
    "        \"\"\"\n",
    "        subfunction for my_dist_xyz\n",
    "        Output is the distance between x and y, \n",
    "        computed using the distance formula\n",
    "        \"\"\"\n",
    "        out = np.sqrt((x[0]-y[0])**2+(x[1]-y[1])**2)\n",
    "        return out\n",
    "    \n",
    "    d0 = my_dist(x, y)\n",
    "    d1 = my_dist(x, z)\n",
    "    d2 = my_dist(y, z)\n",
    "    \n",
    "    return [d0, d1, d2]"
   ]
  },
  {
   "cell_type": "markdown",
   "metadata": {
    "lang": "fr"
   },
   "source": [
    "Notez que les variables *x* et *y* apparaissent à la fois dans *my_dist_xyz* et *my_dist*. Ceci est autorisé car une fonction imbriquée possède un bloc mémoire distinct de sa fonction parent. Les fonctions imbriquées sont utiles lorsqu'une tâche doit être exécutée plusieurs fois au sein de la fonction mais pas en dehors de la fonction. De cette manière, les fonctions imbriquées aident la fonction parent à effectuer sa tâche tout en se cachant dans la fonction parent.\n",
    "\n",
    "**ESSAYEZ-LE !** Appelez la fonction *my_dist_xyz* pour x = (0, 0), y = (0, 1), z = (1, 1). Essayez d'appeler la fonction imbriquée *my_dist* dans la cellule suivante."
   ]
  },
  {
   "cell_type": "code",
   "execution_count": 2,
   "metadata": {},
   "outputs": [
    {
     "name": "stdout",
     "output_type": "stream",
     "text": [
      "[1.0, 1.4142135623730951, 1.0]\n"
     ]
    },
    {
     "ename": "NameError",
     "evalue": "name 'my_dist' is not defined",
     "output_type": "error",
     "traceback": [
      "\u001b[0;31m---------------------------------------------------------------------------\u001b[0m",
      "\u001b[0;31mNameError\u001b[0m                                 Traceback (most recent call last)",
      "\u001b[0;32m<ipython-input-2-1bec838581d7>\u001b[0m in \u001b[0;36m<module>\u001b[0;34m\u001b[0m\n\u001b[1;32m      1\u001b[0m \u001b[0md\u001b[0m \u001b[0;34m=\u001b[0m \u001b[0mmy_dist_xyz\u001b[0m\u001b[0;34m(\u001b[0m\u001b[0;34m(\u001b[0m\u001b[0;36m0\u001b[0m\u001b[0;34m,\u001b[0m \u001b[0;36m0\u001b[0m\u001b[0;34m)\u001b[0m\u001b[0;34m,\u001b[0m \u001b[0;34m(\u001b[0m\u001b[0;36m0\u001b[0m\u001b[0;34m,\u001b[0m \u001b[0;36m1\u001b[0m\u001b[0;34m)\u001b[0m\u001b[0;34m,\u001b[0m \u001b[0;34m(\u001b[0m\u001b[0;36m1\u001b[0m\u001b[0;34m,\u001b[0m \u001b[0;36m1\u001b[0m\u001b[0;34m)\u001b[0m\u001b[0;34m)\u001b[0m\u001b[0;34m\u001b[0m\u001b[0;34m\u001b[0m\u001b[0m\n\u001b[1;32m      2\u001b[0m \u001b[0mprint\u001b[0m\u001b[0;34m(\u001b[0m\u001b[0md\u001b[0m\u001b[0;34m)\u001b[0m\u001b[0;34m\u001b[0m\u001b[0;34m\u001b[0m\u001b[0m\n\u001b[0;32m----> 3\u001b[0;31m \u001b[0md\u001b[0m \u001b[0;34m=\u001b[0m \u001b[0mmy_dist\u001b[0m\u001b[0;34m(\u001b[0m\u001b[0;34m(\u001b[0m\u001b[0;36m0\u001b[0m\u001b[0;34m,\u001b[0m \u001b[0;36m0\u001b[0m\u001b[0;34m)\u001b[0m\u001b[0;34m,\u001b[0m \u001b[0;34m(\u001b[0m\u001b[0;36m0\u001b[0m\u001b[0;34m,\u001b[0m \u001b[0;36m1\u001b[0m\u001b[0;34m)\u001b[0m\u001b[0;34m)\u001b[0m\u001b[0;34m\u001b[0m\u001b[0;34m\u001b[0m\u001b[0m\n\u001b[0m",
      "\u001b[0;31mNameError\u001b[0m: name 'my_dist' is not defined"
     ]
    }
   ],
   "source": [
    "d = my_dist_xyz((0, 0), (0, 1), (1, 1))\n",
    "print(d)\n",
    "d = my_dist((0, 0), (0, 1))"
   ]
  },
  {
   "cell_type": "markdown",
   "metadata": {
    "lang": "fr"
   },
   "source": [
    "Voici le code répété sans utiliser de fonction imbriquée. Remarquez à quel point la fonction semble plus chargée et encombrée et combien il est plus difficile de comprendre ce qui se passe. Notez également que cette version est beaucoup plus sujette aux erreurs car vous avez trois chances de mal saisir la formule de distance. Il convient de noter que cette fonction pourrait être écrite de manière plus compacte en utilisant des opérations vectorielles. Nous laissons cela comme un exercice."
   ]
  },
  {
   "cell_type": "code",
   "execution_count": null,
   "metadata": {},
   "outputs": [],
   "source": [
    "import numpy as np\n",
    "\n",
    "def my_dist_xyz(x, y, z):\n",
    "    \"\"\"\n",
    "    x, y, z are 2D coordinates contained in a tuple\n",
    "    output:\n",
    "    d - list, where\n",
    "        d[0] is the distance between x and y\n",
    "        d[1] is the distance between x and z\n",
    "        d[2] is the distance between y and z\n",
    "    \"\"\"\n",
    "    \n",
    "    d0 = np.sqrt((x[0]-y[0])**2+(x[1]-y[1])**2)\n",
    "    d1 = np.sqrt((x[0]-z[0])**2+(x[1]-z[1])**2)\n",
    "    d2 = np.sqrt((y[0]-z[0])**2+(y[1]-z[1])**2)\n",
    "    \n",
    "    return [d0, d1, d2]"
   ]
  },
  {
   "cell_type": "markdown",
   "metadata": {
    "button": false,
    "new_sheet": false,
    "run_control": {
     "read_only": false
    }
   },
   "source": [
    "<!--NAVIGATION-->\n",
    "< [3.2 Local Variables and Global Variables](chapter03.02-Local-Variables-and-Global-Variables.ipynb) | [Contents](Index.ipynb) | [3.4 Lambda Functions](chapter03.04-Lambda-Functions.ipynb) >"
   ]
  }
 ],
 "metadata": {
  "kernelspec": {
   "display_name": "Python 3 (ipykernel)",
   "language": "python",
   "name": "python3"
  },
  "language_info": {
   "codemirror_mode": {
    "name": "ipython",
    "version": 3
   },
   "file_extension": ".py",
   "mimetype": "text/x-python",
   "name": "python",
   "nbconvert_exporter": "python",
   "pygments_lexer": "ipython3",
   "version": "3.11.7"
  },
  "nbTranslate": {
   "displayLangs": [
    "*"
   ],
   "hotkey": "alt-t",
   "langInMainMenu": true,
   "sourceLang": "en",
   "targetLang": "fr",
   "useGoogleTranslate": true
  }
 },
 "nbformat": 4,
 "nbformat_minor": 4
}
