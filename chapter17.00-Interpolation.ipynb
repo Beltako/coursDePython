{
 "cells": [
  {
   "cell_type": "markdown",
   "metadata": {
    "button": false,
    "new_sheet": false,
    "run_control": {
     "read_only": false
    }
   },
   "source": [
    "<!--BOOK_INFORMATION-->\n",
    "<img align=\"left\" style=\"padding-right:10px;\" src=\"images/book_cover.jpg\" width=\"120\">\n",
    "\n",
    "*Ce cahier contient un extrait de [Programmation Python et méthodes numériques - Un guide pour les ingénieurs et les scientifiques](https://pythonnumericalmethods.berkeley.edu/notebooks/Index.html), le contenu est également disponible sur [Berkeley Python Numerical Methods](https://pythonnumericalmethods.berkeley.edu/notebooks/Index.html).*\n",
    "\n",
    "*Les droits d'auteur du livre appartiennent à Elsevier. Nous avons également ce livre interactif en ligne pour une meilleure expérience d'apprentissage. Le code est publié sous la [licence MIT](https://opensource.org/licenses/MIT). Si vous trouvez ce contenu utile, pensez à soutenir le travail sur [Elsevier](https://www.elsevier.com/books/python-programming-and-numerical-methods/kong/978-0-12-819549-9) ou [Amazon](https://www.amazon.com/Python-Programming-Numerical-Methods-Scientists/dp/0128195495/ref=sr_1_1?dchild=1&keywords=Python+Programming+and+Numerical+Methods+-+A+Guide+for+Engineers+and+Scientists&qid=1604761352&sr=8-1) !*"
   ]
  },
  {
   "cell_type": "markdown",
   "metadata": {
    "button": false,
    "new_sheet": false,
    "run_control": {
     "read_only": false
    }
   },
   "source": [
    "<!--NAVIGATION-->\n",
    "< [16.6 Summary and Problems](chapter16.06-Summary-and-Problems.ipynb) | [Contents](Index.ipynb) | [17.1 Interpolation Problem Statement](chapter17.01-Interpolation-Problem-Statement.ipynb)   >"
   ]
  },
  {
   "cell_type": "markdown",
   "metadata": {
    "lang": "fr"
   },
   "source": [
    "# Chapitre 17. Interpolation"
   ]
  },
  {
   "cell_type": "markdown",
   "metadata": {
    "lang": "fr"
   },
   "source": [
    "#### SOMMAIRE\n",
    "\n",
    "---\n",
    "\n",
    "* [**17.1 Énoncé du problème d'interpolation**](chapitre17.01-Interpolation-Problem-Statement.ipynb)\n",
    "* [**17.2 Interpolation linéaire**](chapitre17.02-Linear-Interpolation.ipynb)\n",
    "* [**17.3 Interpolation de spline cubique**](chapitre17.03-Cubic-Spline-Interpolation.ipynb)\n",
    "* [**17.4 Interpolation polynomiale de Lagrange**](chapter17.04-Lagrange-Polynomial-Interpolation.ipynb)\n",
    "* [**17.5 Interpolation polynomiale de Newton**](chapter17.05-Newtons-Polynomial-Interpolation.ipynb)\n",
    "* [**17.6 Résumé et problèmes**](chapitre17.06-Résumé-et-problèmes.ipynb)"
   ]
  },
  {
   "cell_type": "markdown",
   "metadata": {
    "lang": "fr"
   },
   "source": [
    "---\n",
    "\n",
    "## Motivation\n",
    "\n",
    "Le chapitre précédent a utilisé la régression pour trouver les paramètres d'une fonction qui a le mieux estimé un ensemble de points de données. La régression suppose que l'ensemble de données comporte des erreurs de mesure et que vous devez trouver un ensemble de paramètres de modèle qui minimisent l'erreur entre votre modèle et les données. Cependant, vous disposez parfois de mesures supposées très fiables ; dans ces cas, vous souhaitez une fonction d’estimation qui passe en revue les points de données dont vous disposez. Cette technique est communément appelée interpolation.\n",
    "\n",
    "À la fin du chapitre, vous devriez être capable de comprendre et de calculer certaines de ces fonctions d'interpolation les plus courantes.\n",
    "\n",
    "---"
   ]
  }
 ],
 "metadata": {
  "kernelspec": {
   "display_name": "Python 3 (ipykernel)",
   "language": "python",
   "name": "python3"
  },
  "language_info": {
   "codemirror_mode": {
    "name": "ipython",
    "version": 3
   },
   "file_extension": ".py",
   "mimetype": "text/x-python",
   "name": "python",
   "nbconvert_exporter": "python",
   "pygments_lexer": "ipython3",
   "version": "3.11.7"
  },
  "nbTranslate": {
   "displayLangs": [
    "*"
   ],
   "hotkey": "alt-t",
   "langInMainMenu": true,
   "sourceLang": "en",
   "targetLang": "fr",
   "useGoogleTranslate": true
  }
 },
 "nbformat": 4,
 "nbformat_minor": 2
}
