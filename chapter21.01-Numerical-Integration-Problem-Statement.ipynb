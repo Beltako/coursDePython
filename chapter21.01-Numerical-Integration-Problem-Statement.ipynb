{
 "cells": [
  {
   "cell_type": "markdown",
   "metadata": {
    "button": false,
    "new_sheet": false,
    "run_control": {
     "read_only": false
    }
   },
   "source": [
    "<!--BOOK_INFORMATION-->\n",
    "<img align=\"left\" style=\"padding-right:10px;\" src=\"images/book_cover.jpg\" width=\"120\">\n",
    "\n",
    "*Ce cahier contient un extrait de [Programmation Python et méthodes numériques - Un guide pour les ingénieurs et les scientifiques](https://pythonnumericalmethods.berkeley.edu/notebooks/Index.html), le contenu est également disponible sur [Berkeley Python Numerical Methods](https://pythonnumericalmethods.berkeley.edu/notebooks/Index.html).*\n",
    "\n",
    "*Les droits d'auteur du livre appartiennent à Elsevier. Nous avons également ce livre interactif en ligne pour une meilleure expérience d'apprentissage. Le code est publié sous la [licence MIT](https://opensource.org/licenses/MIT). Si vous trouvez ce contenu utile, pensez à soutenir le travail sur [Elsevier](https://www.elsevier.com/books/python-programming-and-numerical-methods/kong/978-0-12-819549-9) ou [Amazon](https://www.amazon.com/Python-Programming-Numerical-Methods-Scientists/dp/0128195495/ref=sr_1_1?dchild=1&keywords=Python+Programming+and+Numerical+Methods+-+A+Guide+for+Engineers+and+Scientists&qid=1604761352&sr=8-1) !*"
   ]
  },
  {
   "cell_type": "markdown",
   "metadata": {
    "button": false,
    "new_sheet": false,
    "run_control": {
     "read_only": false
    }
   },
   "source": [
    "<!--NAVIGATION-->\n",
    "< [CHAPTER 21. Numerical Integration](chapter21.00-Numerical-Integration.ipynb) | [Contents](Index.ipynb) | [21.2 Riemann's Integral](chapter21.02-Riemanns-Integral.ipynb) >"
   ]
  },
  {
   "cell_type": "markdown",
   "metadata": {
    "lang": "fr"
   },
   "source": [
    "# Énoncé du problème d'intégration numérique"
   ]
  },
  {
   "cell_type": "markdown",
   "metadata": {
    "lang": "fr"
   },
   "source": [
    "Étant donné une fonction $f(x)$, nous voulons approximer l'intégrale de $f(x)$ sur l'**intervalle** total, $[a,b]$. La figure suivante illustre ce domaine. Pour atteindre cet objectif, nous supposons que l'intervalle a été discrétisé en une grille numérique, $x$, composée de points $n+1$ avec un espacement, $h = \\frac{b - a}{n}$. Ici, nous désignons chaque point de $x$ par $x_i$, où $x_0 = a$ et $x_n = b$. Remarque : Il existe des points de grille $n+1$ car le décompte commence à $x_0$. Nous supposons également que nous disposons d’une fonction, $f(x)$, qui peut être calculée pour n’importe lequel des points de la grille, ou que la fonction nous a été implicitement donnée sous la forme $f(x_i)$. L'intervalle $[x_i, x_{i+1}]$ est appelé **sous-intervalle**.\n",
    "\n",
    "<img src=\"images/21.01.1-Illustration_integral.png\" alt=\"Illustration integral\" title=\"Illustration of the integral. The integral from a to b of the function f is the area below the curve (shaded in grey).\" width=\"200\"/>\n",
    "\n",
    "Les sections suivantes donnent certaines des méthodes les plus courantes d'approximation de $\\int_a^b f(x) dx$. Chaque méthode approxime l'aire sous $f(x)$ pour chaque sous-intervalle par une forme pour laquelle il est facile de calculer l'aire exacte, puis additionne les contributions d'aire de chaque sous-intervalle."
   ]
  },
  {
   "cell_type": "markdown",
   "metadata": {
    "button": false,
    "new_sheet": false,
    "run_control": {
     "read_only": false
    }
   },
   "source": [
    "<!--NAVIGATION-->\n",
    "< [CHAPTER 21. Numerical Integration](chapter21.00-Numerical-Integration.ipynb) | [Contents](Index.ipynb) | [21.2 Riemann's Integral](chapter21.02-Riemanns-Integral.ipynb) >"
   ]
  }
 ],
 "metadata": {
  "kernelspec": {
   "display_name": "Python 3 (ipykernel)",
   "language": "python",
   "name": "python3"
  },
  "language_info": {
   "codemirror_mode": {
    "name": "ipython",
    "version": 3
   },
   "file_extension": ".py",
   "mimetype": "text/x-python",
   "name": "python",
   "nbconvert_exporter": "python",
   "pygments_lexer": "ipython3",
   "version": "3.11.7"
  },
  "nbTranslate": {
   "displayLangs": [
    "*"
   ],
   "hotkey": "alt-t",
   "langInMainMenu": true,
   "sourceLang": "en",
   "targetLang": "fr",
   "useGoogleTranslate": true
  }
 },
 "nbformat": 4,
 "nbformat_minor": 2
}
