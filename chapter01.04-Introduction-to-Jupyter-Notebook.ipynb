{
 "cells": [
  {
   "cell_type": "markdown",
   "metadata": {
    "button": false,
    "new_sheet": false,
    "run_control": {
     "read_only": false
    }
   },
   "source": [
    "<!--BOOK_INFORMATION-->\n",
    "<img align=\"left\" style=\"padding-right:10px;\" src=\"images/book_cover.jpg\" width=\"120\">\n",
    "\n",
    "*Ce cahier contient un extrait de [Programmation Python et méthodes numériques - Un guide pour les ingénieurs et les scientifiques](https://pythonnumericalmethods.berkeley.edu/notebooks/Index.html), le contenu est également disponible sur [Berkeley Python Numerical Methods](https://pythonnumericalmethods.berkeley.edu/notebooks/Index.html).*\n",
    "\n",
    "*Les droits d'auteur du livre appartiennent à Elsevier. Nous avons également ce livre interactif en ligne pour une meilleure expérience d'apprentissage. Le code est publié sous la [licence MIT](https://opensource.org/licenses/MIT). Si vous trouvez ce contenu utile, pensez à soutenir le travail sur [Elsevier](https://www.elsevier.com/books/python-programming-and-numerical-methods/kong/978-0-12-819549-9) ou [Amazon](https://www.amazon.com/Python-Programming-Numerical-Methods-Scientists/dp/0128195495/ref=sr_1_1?dchild=1&keywords=Python+Programming+and+Numerical+Methods+-+A+Guide+for+Engineers+and+Scientists&qid=1604761352&sr=8-1) !*"
   ]
  },
  {
   "cell_type": "markdown",
   "metadata": {
    "button": false,
    "new_sheet": false,
    "run_control": {
     "read_only": false
    }
   },
   "source": [
    "<!--NAVIGATION-->\n",
    "< [1.3 Managing Packages](chapter01.03-Managing-Packages.ipynb) | [Contents](Index.ipynb) | [1.5 Logical Expressions and Operators](chapter01.05-Logial-Expressions-and-Operators.ipynb) >"
   ]
  },
  {
   "cell_type": "markdown",
   "metadata": {
    "lang": "fr"
   },
   "source": [
    "# Introduction au bloc-notes Jupyter"
   ]
  },
  {
   "cell_type": "markdown",
   "metadata": {
    "lang": "fr"
   },
   "source": [
    "Vous avez déjà utilisé le shell IPython pour exécuter le code ligne par ligne. C'est bien, mais si vous avez plus de lignes de codes et que vous souhaitez l'exécuter bloc par bloc et le partager facilement avec d'autres, le shell Ipython n'est pas une bonne option. Dans cette section, nous présenterons une autre option : le notebook Jupyter, que nous utiliserons pour le reste du livre. Depuis le [site Web du notebook Jupyter](http://jupyter.org/) :\n",
    "\n",
    "> Le Jupyter Notebook est une application Web open source qui vous permet de créer et de partager des documents contenant du code en direct, des équations, des visualisations et du texte narratif. Les utilisations incluent : le nettoyage et la transformation des données, la simulation numérique, la modélisation statistique, la visualisation des données, l'apprentissage automatique et bien plus encore.\n",
    "\n",
    "Le notebook Jupyter s'exécute à l'aide de votre navigateur, il peut s'exécuter localement sur votre ordinateur en tant que serveur local ou à distance sur un serveur. La raison pour laquelle on l'appelle bloc-notes est qu'il peut contenir du code dynamique, des éléments de texte enrichi tels que des équations, des liens, des images, des tableaux, etc. Par conséquent, vous pourriez avoir un très joli cahier pour décrire votre idée et le code en direct dans un seul document. Ainsi, le notebook Jupyter devient un moyen très populaire de tester des idées, d'écrire des blogs, des articles et même des livres. Par exemple, ce livre est entièrement écrit dans le notebook Jupyter. Bien entendu, il présente de nombreux autres avantages, et nous ne couvrirons que les bases du notebook Jupyter pour vous aider à démarrer."
   ]
  },
  {
   "cell_type": "markdown",
   "metadata": {
    "lang": "fr"
   },
   "source": [
    "## Démarrer le notebook Jupyter\n",
    "\n",
    "Nous avons vu précédemment que nous pouvions démarrer le notebook Jupyter en tapant la commande suivante dans notre terminal dans le dossier où vous souhaitez que les notebooks se trouvent :\n",
    "\n",
    "```bash\n",
    "cahier jupyter\n",
    "```\n",
    "\n",
    "Ensuite, vous verrez le tableau de bord du notebook Jupyter dans le navigateur, l'adresse par défaut est : http://localhost:8888, c'est-à-dire sur l'hôte local avec le port 8888, comme indiqué dans la figure suivante (si le port 8888 est utilisé par d'autres notebooks Jupyter , alors il utilisera automatiquement un autre port). Il s'agit essentiellement de créer un serveur local à exécuter dans votre navigateur. Lorsque vous accédez au navigateur, vous verrez un tableau de bord. Dans ce tableau de bord, vous pouvez voir certaines fonctionnalités importantes marquées en rouge : vous pouvez voir tous les fichiers du dossier actuel, afficher tous les blocs-notes en cours d'exécution et créer un nouveau bloc-notes ou d'autres tels qu'un fichier texte, un dossier et un terminal. Nous pouvons créer un nouveau notebook Python en sélectionnant Python 3, généralement appelé noyau Python. Vous pouvez également utiliser Jupyter pour exécuter d'autres noyaux. Par exemple, dans la figure suivante, il existe des noyaux Bash et Julia que vous pouvez exécuter en tant que bloc-notes, mais vous devez d'abord les installer. Nous utiliserons le noyau Python, choisissez donc le noyau Python 3.\n",
    "\n",
    "![Jupyter_dashboard](./images/01.04.01-jupyter_dashboard.png \"Le tableau de bord du notebook Jupyter après le lancement du serveur\")"
   ]
  },
  {
   "cell_type": "markdown",
   "metadata": {
    "lang": "fr"
   },
   "source": [
    "## Dans le carnet\n",
    "\n",
    "Après avoir créé un nouveau notebook Python, il ressemblera à la figure suivante. La barre d'outils et le menu sont explicites lorsque vous passez votre curseur sur la barre d'outils, il vous montrera la fonction de l'outil et appuyez sur le menu, il vous montrera la liste déroulante. Les choses les plus importantes à connaître sur le notebook Jupyter sont les cellules et les différents types. Dans le bloc-notes, une cellule est un endroit où vous pouvez y écrire votre code ou votre texte, et exécuter cette cellule pour exécuter uniquement le code dans ce bloc de cellules. Deux types de cellules importants sont le code et le markdown, la cellule de code est l'endroit où vous tapez votre code et pouvez y exécuter le code. La cellule de démarque est un endroit où vous pouvez saisir la description au format texte enrichi, voir la figure suivante à titre d'exemple. Vous pouvez rechercher « Aide-mémoire Markdown » pour démarrer rapidement avec Markdown. Pour exécuter le code ou saisir la démarque dans le bloc-notes, c'est simple, appuyez simplement sur Shift + Enter.\n",
    "\n",
    "![Notebook_view](./images/01.04.02-within_notebook.png \"Un aperçu rapide d'un notebook\")\n",
    "\n",
    "Dans le bloc-notes, vous pouvez déplacer la cellule vers le haut ou vers le bas, insérer ou supprimer une cellule, etc. Il existe de nombreuses autres fonctionnalités intéressantes sur le notebook Jupyter, nous n'en parlerons pas trop ici, mais vous pouvez trouver de nombreux tutoriels en ligne pour en savoir plus."
   ]
  },
  {
   "cell_type": "markdown",
   "metadata": {
    "lang": "fr"
   },
   "source": [
    "## Arrêtez le notebook Jupyter\n",
    "\n",
    "La fermeture du navigateur ne fermera pas le notebook Jupyter, puisque le serveur est toujours en cours d'exécution. Vous pouvez rouvrir l'adresse précédente dans un navigateur. Pour l'arrêter complètement, nous devons fermer le terminal associé auquel vous lancez le Jupyter noteobok."
   ]
  },
  {
   "cell_type": "markdown",
   "metadata": {
    "lang": "fr"
   },
   "source": [
    "## Fermer un carnet\n",
    "\n",
    "Lorsque vous fermez l'onglet du navigateur du bloc-notes, le bloc-notes n'est pas fermé, il s'exécute toujours en arrière-plan. Si vous avez besoin de fermer complètement un bloc-notes, accédez au tableau de bord et cochez la case devant le bloc-notes. Vous pouvez voir une option d'arrêt dans la barre d'outils ci-dessus. C'est la bonne façon de fermer complètement un bloc-notes."
   ]
  },
  {
   "cell_type": "markdown",
   "metadata": {
    "lang": "fr"
   },
   "source": [
    "Ok, vous avez maintenant les connaissances de base pour lancer et exécuter un notebook Jupyter, et il est temps de continuer à apprendre Python."
   ]
  },
  {
   "cell_type": "markdown",
   "metadata": {
    "button": false,
    "new_sheet": false,
    "run_control": {
     "read_only": false
    }
   },
   "source": [
    "<!--NAVIGATION-->\n",
    "< [1.3 Managing Packages](chapter01.03-Managing-Packages.ipynb) | [Contents](Index.ipynb) | [1.5 Logical Expressions and Operators](chapter01.05-Logial-Expressions-and-Operators.ipynb) >"
   ]
  }
 ],
 "metadata": {
  "kernelspec": {
   "display_name": "Python 3 (ipykernel)",
   "language": "python",
   "name": "python3"
  },
  "language_info": {
   "codemirror_mode": {
    "name": "ipython",
    "version": 3
   },
   "file_extension": ".py",
   "mimetype": "text/x-python",
   "name": "python",
   "nbconvert_exporter": "python",
   "pygments_lexer": "ipython3",
   "version": "3.11.7"
  },
  "nbTranslate": {
   "displayLangs": [
    "*"
   ],
   "hotkey": "alt-t",
   "langInMainMenu": true,
   "sourceLang": "en",
   "targetLang": "fr",
   "useGoogleTranslate": true
  }
 },
 "nbformat": 4,
 "nbformat_minor": 2
}
