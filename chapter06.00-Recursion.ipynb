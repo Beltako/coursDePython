{
 "cells": [
  {
   "cell_type": "markdown",
   "metadata": {
    "button": false,
    "new_sheet": false,
    "run_control": {
     "read_only": false
    }
   },
   "source": [
    "<!--BOOK_INFORMATION-->\n",
    "<img align=\"left\" style=\"padding-right:10px;\" src=\"images/book_cover.jpg\" width=\"120\">\n",
    "\n",
    "*Ce cahier contient un extrait de [Programmation Python et méthodes numériques - Un guide pour les ingénieurs et les scientifiques](https://pythonnumericalmethods.berkeley.edu/notebooks/Index.html), le contenu est également disponible sur [Berkeley Python Numerical Methods](https://pythonnumericalmethods.berkeley.edu/notebooks/Index.html).*\n",
    "\n",
    "*Les droits d'auteur du livre appartiennent à Elsevier. Nous avons également ce livre interactif en ligne pour une meilleure expérience d'apprentissage. Le code est publié sous la [licence MIT](https://opensource.org/licenses/MIT). Si vous trouvez ce contenu utile, pensez à soutenir le travail sur [Elsevier](https://www.elsevier.com/books/python-programming-and-numerical-methods/kong/978-0-12-819549-9) ou [Amazon](https://www.amazon.com/Python-Programming-Numerical-Methods-Scientists/dp/0128195495/ref=sr_1_1?dchild=1&keywords=Python+Programming+and+Numerical+Methods+-+A+Guide+for+Engineers+and+Scientists&qid=1604761352&sr=8-1) !*"
   ]
  },
  {
   "cell_type": "markdown",
   "metadata": {
    "button": false,
    "new_sheet": false,
    "run_control": {
     "read_only": false
    }
   },
   "source": [
    "<!--NAVIGATION-->\n",
    "< [Chapter 5 Summary and Problems](chapter05.03-Summary-and-Problems.ipynb) | [Contents](Index.ipynb) | [6.1 Recursive Functions](chapter06.01-Recursive-Functions.ipynb) >"
   ]
  },
  {
   "cell_type": "markdown",
   "metadata": {
    "lang": "fr"
   },
   "source": [
    "# Chapitre 6. Récursion"
   ]
  },
  {
   "cell_type": "markdown",
   "metadata": {
    "button": false,
    "new_sheet": false,
    "run_control": {
     "read_only": false
    }
   },
   "source": [
    "#### CHAPTER OUTLINE\n",
    "\n",
    "---\n",
    "\n",
    "* [**6.1 Recursive Functions**](chapter06.01-Recursive-Functions.ipynb)\n",
    "* [**6.2 Divide and Conquer**](chapter06.02-Divide-and-Conquer.ipynb)\n",
    "* [**6.3 Summary and Problems**](chapter06.03-Summary_and_Problems.ipynb)\n"
   ]
  },
  {
   "cell_type": "markdown",
   "metadata": {
    "lang": "fr"
   },
   "source": [
    "---\n",
    "\n",
    "## Motivation\n",
    "\n",
    "Imaginez qu’un PDG d’une grande entreprise veuille savoir combien de personnes travaillent pour lui. Une option consiste à consacrer d’énormes efforts personnels à compter le nombre de personnes inscrites sur la liste de paie. Cependant, le PDG a d’autres choses plus importantes à faire et met donc en œuvre une autre option, plus intelligente. Lors de la prochaine réunion avec ses directeurs de département, il demande à chacun de lui dire combien de personnes travaillent pour eux. Chaque directeur rencontre ensuite tous ses managers, qui rencontrent ensuite leurs supérieurs hiérarchiques qui accomplissent la même tâche. Les superviseurs savent combien de personnes travaillent sous leurs ordres et transmettent volontiers cette information à leurs managers (plus un pour se compter eux-mêmes), qui transmettent les informations agrégées aux directeurs de département, qui transmettent les informations pertinentes au PDG. De cette manière, le PDG accomplit une tâche difficile (pour lui-même) en déléguant des tâches similaires, mais plus simples, à ses subordonnés.\n",
    "\n",
    "Cette méthode de résolution de problèmes difficiles en les décomposant en problèmes plus simples est naturellement modélisée par des relations récursives, qui constituent le sujet de ce chapitre et qui constituent la base d'importantes techniques de résolution de problèmes en ingénierie et en sciences. À la fin de ce chapitre, vous devriez être capable de reconnaître les relations récursives et de les programmer à l'aide de fonctions récursives.\n",
    "\n",
    "---"
   ]
  }
 ],
 "metadata": {
  "kernelspec": {
   "display_name": "Python 3 (ipykernel)",
   "language": "python",
   "name": "python3"
  },
  "language_info": {
   "codemirror_mode": {
    "name": "ipython",
    "version": 3
   },
   "file_extension": ".py",
   "mimetype": "text/x-python",
   "name": "python",
   "nbconvert_exporter": "python",
   "pygments_lexer": "ipython3",
   "version": "3.11.7"
  },
  "nbTranslate": {
   "displayLangs": [
    "*"
   ],
   "hotkey": "alt-t",
   "langInMainMenu": true,
   "sourceLang": "en",
   "targetLang": "fr",
   "useGoogleTranslate": true
  }
 },
 "nbformat": 4,
 "nbformat_minor": 2
}
