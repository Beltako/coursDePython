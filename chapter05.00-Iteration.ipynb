{
 "cells": [
  {
   "cell_type": "markdown",
   "metadata": {
    "button": false,
    "new_sheet": false,
    "run_control": {
     "read_only": false
    }
   },
   "source": [
    "<!--BOOK_INFORMATION-->\n",
    "<img align=\"left\" style=\"padding-right:10px;\" src=\"images/book_cover.jpg\" width=\"120\">\n",
    "\n",
    "*Ce cahier contient un extrait de [Programmation Python et méthodes numériques - Un guide pour les ingénieurs et les scientifiques](https://pythonnumericalmethods.berkeley.edu/notebooks/Index.html), le contenu est également disponible sur [Berkeley Python Numerical Methods](https://pythonnumericalmethods.berkeley.edu/notebooks/Index.html).*\n",
    "\n",
    "*Les droits d'auteur du livre appartiennent à Elsevier. Nous avons également ce livre interactif en ligne pour une meilleure expérience d'apprentissage. Le code est publié sous la [licence MIT](https://opensource.org/licenses/MIT). Si vous trouvez ce contenu utile, pensez à soutenir le travail sur [Elsevier](https://www.elsevier.com/books/python-programming-and-numerical-methods/kong/978-0-12-819549-9) ou [Amazon](https://www.amazon.com/Python-Programming-Numerical-Methods-Scientists/dp/0128195495/ref=sr_1_1?dchild=1&keywords=Python+Programming+and+Numerical+Methods+-+A+Guide+for+Engineers+and+Scientists&qid=1604761352&sr=8-1) !*"
   ]
  },
  {
   "cell_type": "markdown",
   "metadata": {
    "button": false,
    "new_sheet": false,
    "run_control": {
     "read_only": false
    }
   },
   "source": [
    "<!--NAVIGATION-->\n",
    "< [Chapter 4 Summary and Problems](chapter04.03-Summary-and-Problems.ipynb) | [Contents](Index.ipynb) | [5.1 For Loops](chapter05.01-For-Loops.ipynb) >"
   ]
  },
  {
   "cell_type": "markdown",
   "metadata": {
    "lang": "fr"
   },
   "source": [
    "# Chapitre 5. Itération"
   ]
  },
  {
   "cell_type": "markdown",
   "metadata": {
    "lang": "fr"
   },
   "source": [
    "#### SOMMAIRE\n",
    "\n",
    "---\n",
    "\n",
    "* [**5.1 Pour les boucles**](chapitre05.01-For-Loops.ipynb)\n",
    "* [**5.2 Boucles While**](chapitre05.02-While-Loops.ipynb)\n",
    "* [**5.3 Compréhensions**](chapter05.03-Comprehensions.ipynb)\n",
    "* [**5.4 Résumé et problèmes**](chapitre05.04-Résumé_et_Problèmes.ipynb)"
   ]
  },
  {
   "cell_type": "markdown",
   "metadata": {
    "lang": "fr"
   },
   "source": [
    "---\n",
    "\n",
    "## Motivation\n",
    "\n",
    "De nombreuses tâches dans la vie sont ennuyeuses ou fastidieuses parce qu’elles nécessitent de répéter encore et encore les mêmes actions de base – en les répétant – dans des contextes légèrement différents. Par exemple, envisagez de rechercher la définition de 20 mots dans le dictionnaire, de remplir un grand tableau de nombres avec des données, de classer par ordre alphabétique de nombreuses piles de papier ou de dépoussiérer chaque objet et chaque étagère de votre chambre. Étant donné que les tâches répétitives apparaissent si fréquemment, il est tout à fait naturel que les langages de programmation comme Python disposent de méthodes directes pour effectuer des itérations.\n",
    "\n",
    "Ce chapitre vous apprend à programmer des tâches itératives. Grâce au branchement et à l'itération, il est possible de programmer à peu près n'importe quelle tâche que vous pouvez imaginer.\n",
    "\n",
    "---"
   ]
  }
 ],
 "metadata": {
  "kernelspec": {
   "display_name": "Python 3 (ipykernel)",
   "language": "python",
   "name": "python3"
  },
  "language_info": {
   "codemirror_mode": {
    "name": "ipython",
    "version": 3
   },
   "file_extension": ".py",
   "mimetype": "text/x-python",
   "name": "python",
   "nbconvert_exporter": "python",
   "pygments_lexer": "ipython3",
   "version": "3.11.7"
  },
  "nbTranslate": {
   "displayLangs": [
    "*"
   ],
   "hotkey": "alt-t",
   "langInMainMenu": true,
   "sourceLang": "en",
   "targetLang": "fr",
   "useGoogleTranslate": true
  }
 },
 "nbformat": 4,
 "nbformat_minor": 2
}
