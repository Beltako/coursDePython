{
 "cells": [
  {
   "cell_type": "markdown",
   "metadata": {
    "lang": "fr"
   },
   "source": [
    "# 1.3 Gestion des packages"
   ]
  },
  {
   "cell_type": "markdown",
   "metadata": {
    "lang": "fr"
   },
   "source": [
    "Une fonctionnalité qui rend Python vraiment génial réside dans les différents packages/modules développés par la communauté. La plupart du temps, lorsque vous souhaitez utiliser certaines fonctions ou algorithmes, vous y trouverez peut-être déjà plusieurs packages de la communauté codés pour vous, et tout ce que vous avez à faire est d'installer les packages et de les utiliser dans votre code. Par conséquent, la gestion des packages est l’une des compétences les plus importantes que vous devez acquérir pour tirer pleinement parti de Python. Dans cette section, nous allons vous montrer comment gérer les packages en Python."
   ]
  },
  {
   "cell_type": "markdown",
   "metadata": {
    "lang": "fr"
   },
   "source": [
    "## Gestion des packages à l'aide des gestionnaires de packages\n",
    "\n",
    "Au début de ce livre, nous avons installé certains packages à l'aide de pip en tapant *pip install package_name*. C’est de nos jours le moyen le plus courant et le plus simple d’installer des packages Python. Pip est un gestionnaire de packages qui automatise le processus d'installation, de mise à jour et de suppression des packages. Il pourrait installer des packages publiés sur [Python Package Index (PyPI)](https://pypi.org/). Lorsque nous avons installé le programme d'installation de Miniconda, il a également installé pip pour que vous puissiez l'utiliser.\n",
    "\n",
    "Tout d'abord, vous pouvez utiliser *pip help* pour obtenir de l'aide sur différentes commandes, comme indiqué ci-dessous.\n",
    "\n",
    "![Pip_help](./images/01.03.01-pip_help.png \"Le document d'aide de pip\")\n",
    "\n",
    "Mais les commandes les plus utilisées incluent généralement : l’installation, la mise à niveau et la désinstallation d’un package.\n",
    "\n",
    "### Installer un package\n",
    "\n",
    "Pour installer la dernière version du package_name :\n",
    "```bash\n",
    "package d'installation pip_nom\n",
    "\n",
    "```\n",
    "\n",
    "Pour installer une version spécifique :\n",
    "\n",
    "```bash\n",
    "package d'installation pip_name==1.5\n",
    "\n",
    "```\n",
    "\n",
    "Pip installera le package ainsi que les dépendances que vous pourrez utiliser.\n",
    "\n",
    "### Mettre à niveau un package\n",
    "\n",
    "Pour mettre à niveau un package installé vers la dernière version de PyPI.\n",
    "\n",
    "```bash\n",
    "pip install --upgrade package_nom\n",
    "```\n",
    "ou simplement\n",
    "\n",
    "```bash\n",
    "pip install -U package_nom\n",
    "```\n",
    "\n",
    "### Désinstaller un package\n",
    "\n",
    "```bash\n",
    "package de désinstallation pip_nom\n",
    "```\n",
    "\n",
    "### Autres commandes utiles\n",
    "\n",
    "Il existe d'autres commandes utiles que vous utilisez habituellement pour obtenir des informations sur les packages installés. Par exemple, si vous souhaitez obtenir une liste de tous les packages installés, vous pouvez utiliser la commande :\n",
    "\n",
    "```bash\n",
    "liste de pépins\n",
    "```\n",
    "![Pip_list](./images/01.03.02-pip_list.png \"Utiliser pip list pour afficher tous les packages installés sur votre machine\")\n",
    "\n",
    "Si vous souhaitez en savoir plus sur un package installé, comme l'emplacement du package, les dépendances requises, etc., vous pouvez utiliser :\n",
    "\n",
    "```bash\n",
    "pip show package_nom\n",
    "```\n",
    "![Pip_show](./images/01.03.03-pip_show.png \"Utiliser pip show pour obtenir des informations détaillées sur un package installé\")\n",
    "\n",
    "\n",
    "Il existe d'autres gestionnaires de paquets, comme conda fourni avec la distribution Anaconda, mais pour l'utilisation, il est similaire à pip, donc nous n'en parlerons pas trop ici, vous pouvez trouver plus d'informations en lisant la [documentation](https : //conda.io/docs/user-guide/getting-started.html)."
   ]
  },
  {
   "cell_type": "markdown",
   "metadata": {
    "lang": "fr"
   },
   "source": [
    "## Installer les packages à partir des sources\n",
    "\n",
    "Parfois, vous devez télécharger le fichier source d'un projet qui ne se trouve pas dans PyPI, vous avez alors besoin d'une manière différente pour installer le package. Après avoir décompressé le fichier que vous avez téléchargé, vous pouvez généralement voir que le dossier contient un script d'installation *setup.py* et un fichier nommé README, qui explique comment créer et installer le module. Dans la plupart des cas, il vous suffit d'exécuter une commande depuis le terminal pour installer le package :\n",
    "\n",
    "```bash\n",
    "installation de python setup.py\n",
    "```\n",
    "\n",
    "Notez que pour les utilisateurs Windows, vous devez exécuter votre commande à partir d'une fenêtre d'invite de commande :\n",
    "\n",
    "```\n",
    "installation setup.py\n",
    "```"
   ]
  },
  {
   "cell_type": "markdown",
   "metadata": {
    "lang": "fr"
   },
   "source": [
    "Vous savez maintenant comment gérer les packages en Python, ce qui constitue un grand pas en avant pour utiliser correctement Python, et dans la section suivante, nous parlerons davantage du notebook Jupyter que nous utiliserons pour le reste du livre."
   ]
  }
 ],
 "metadata": {
  "kernelspec": {
   "display_name": "Python 3 (ipykernel)",
   "language": "python",
   "name": "python3"
  },
  "language_info": {
   "codemirror_mode": {
    "name": "ipython",
    "version": 3
   },
   "file_extension": ".py",
   "mimetype": "text/x-python",
   "name": "python",
   "nbconvert_exporter": "python",
   "pygments_lexer": "ipython3",
   "version": "3.12.2"
  },
  "nbTranslate": {
   "displayLangs": [
    "*"
   ],
   "hotkey": "alt-t",
   "langInMainMenu": true,
   "sourceLang": "en",
   "targetLang": "fr",
   "useGoogleTranslate": true
  }
 },
 "nbformat": 4,
 "nbformat_minor": 2
}
