{
 "cells": [
  {
   "cell_type": "markdown",
   "metadata": {
    "button": false,
    "new_sheet": false,
    "run_control": {
     "read_only": false
    }
   },
   "source": [
    "<!--BOOK_INFORMATION-->\n",
    "<img align=\"left\" style=\"padding-right:10px;\" src=\"images/book_cover.jpg\" width=\"120\">\n",
    "\n",
    "*Ce cahier contient un extrait de [Programmation Python et méthodes numériques - Un guide pour les ingénieurs et les scientifiques](https://pythonnumericalmethods.berkeley.edu/notebooks/Index.html), le contenu est également disponible sur [Berkeley Python Numerical Methods](https://pythonnumericalmethods.berkeley.edu/notebooks/Index.html).*\n",
    "\n",
    "*Les droits d'auteur du livre appartiennent à Elsevier. Nous avons également ce livre interactif en ligne pour une meilleure expérience d'apprentissage. Le code est publié sous la [licence MIT](https://opensource.org/licenses/MIT). Si vous trouvez ce contenu utile, pensez à soutenir le travail sur [Elsevier](https://www.elsevier.com/books/python-programming-and-numerical-methods/kong/978-0-12-819549-9) ou [Amazon](https://www.amazon.com/Python-Programming-Numerical-Methods-Scientists/dp/0128195495/ref=sr_1_1?dchild=1&keywords=Python+Programming+and+Numerical+Methods+-+A+Guide+for+Engineers+and+Scientists&qid=1604761352&sr=8-1) !*"
   ]
  },
  {
   "cell_type": "markdown",
   "metadata": {
    "button": false,
    "new_sheet": false,
    "run_control": {
     "read_only": false
    }
   },
   "source": [
    "<!--NAVIGATION-->\n",
    "< [6.2 Divide and Conquer](chapter06.02-Divide-and-Conquer.ipynb) | [Contents](Index.ipynb) | [7.0 Objects and Classes](chapter07.00-Objects-and-Classes.ipynb) >"
   ]
  },
  {
   "cell_type": "markdown",
   "metadata": {
    "lang": "fr"
   },
   "source": [
    "# Résumé\n",
    "\n",
    "\n",
    "1. Une fonction récursive est une fonction qui s'appelle elle-même.\n",
    "2. Les fonctions récursives sont utiles lorsque les problèmes ont une structure hiérarchique plutôt qu'itérative.\n",
    "3. Diviser pour mieux régner est une stratégie puissante de résolution de problèmes qui peut être utilisée pour résoudre des problèmes difficiles."
   ]
  },
  {
   "cell_type": "markdown",
   "metadata": {
    "lang": "fr"
   },
   "source": [
    "# Problèmes\n",
    "\n",
    "1. Écrivez une fonction *my_sum(lst)* où *lst* est une liste et la sortie est la somme de tous les éléments de *lst*. Vous pouvez utiliser la récursivité ou l'itération pour résoudre le problème, mais n'utilisez pas la fonction *sum* de Python."
   ]
  },
  {
   "cell_type": "code",
   "execution_count": null,
   "metadata": {
    "button": false,
    "collapsed": true,
    "new_sheet": false,
    "run_control": {
     "read_only": false
    }
   },
   "outputs": [],
   "source": [
    "def my_sum(lst):\n",
    "    # Write your function code here\n",
    "    \n",
    "    return out"
   ]
  },
  {
   "cell_type": "code",
   "execution_count": null,
   "metadata": {
    "button": false,
    "collapsed": true,
    "new_sheet": false,
    "run_control": {
     "read_only": false
    }
   },
   "outputs": [],
   "source": [
    "# Output: 6\n",
    "my_sum([1, 2, 3])"
   ]
  },
  {
   "cell_type": "code",
   "execution_count": null,
   "metadata": {
    "button": false,
    "collapsed": true,
    "new_sheet": false,
    "run_control": {
     "read_only": false
    }
   },
   "outputs": [],
   "source": [
    "# Output: 5050\n",
    "my_sum(range(1,101))"
   ]
  },
  {
   "cell_type": "markdown",
   "metadata": {
    "lang": "fr"
   },
   "source": [
    "2. Les polynômes de Chebyshev sont définis de manière récursive. Les polynômes de Chebyshev sont divisés en deux types : premier et deuxième. Les polynômes de Chebyshev du premier type, $T_n(x)$, et du deuxième type, $U_n(x)$, sont définis par les relations de récurrence suivantes :\n",
    "\n",
    "\\begin{equation}\n",
    "T_n(x) = \\begin{cases}\n",
    "    1 & \\text{if $n=0$}\\\\\n",
    "    x & \\text{if $n=1$}\\\\\n",
    "    2xT_{n-1}(x)-T_{n-2}(x) & \\text{otherwise}\\\\\n",
    "    \\end{cases}\n",
    "\\end{equation}\n",
    "\n",
    " \\begin{equation}\n",
    "U_n(x) = \\begin{cases}\n",
    "    1 & \\text{if $n=0$}\\\\\n",
    "    2x & \\text{if $n=1$}\\\\\n",
    "    2xU_{n-1}(x)-U_{n-2}(x) & \\text{otherwise}\\\\\n",
    "    \\end{cases}\n",
    "\\end{equation}\n",
    "\n",
    " Écrivez une fonction *my_chebyshev_poly1(n,x)*, où la sortie *y* est le n-ième polynôme de Chebyshev du premier type évalué à *x*. Assurez-vous que votre fonction peut accepter des entrées de liste pour *x*. Vous pouvez supposer que *x* est une liste. La variable de sortie, *y*, doit également être une liste."
   ]
  },
  {
   "cell_type": "code",
   "execution_count": null,
   "metadata": {
    "button": false,
    "collapsed": true,
    "new_sheet": false,
    "run_control": {
     "read_only": false
    }
   },
   "outputs": [],
   "source": [
    "def my_chebyshev_poly1(n,x):\n",
    "    # Write your function code here\n",
    "    \n",
    "    return y"
   ]
  },
  {
   "cell_type": "code",
   "execution_count": null,
   "metadata": {
    "button": false,
    "collapsed": true,
    "new_sheet": false,
    "run_control": {
     "read_only": false
    }
   },
   "outputs": [],
   "source": [
    "x = [1, 2, 3, 4, 5]"
   ]
  },
  {
   "cell_type": "code",
   "execution_count": null,
   "metadata": {
    "button": false,
    "collapsed": true,
    "new_sheet": false,
    "run_control": {
     "read_only": false
    }
   },
   "outputs": [],
   "source": [
    "# Output: [1, 1, 1, 1, 1]\n",
    "my_chebyshev_poly1(0,x)"
   ]
  },
  {
   "cell_type": "code",
   "execution_count": null,
   "metadata": {
    "button": false,
    "collapsed": true,
    "new_sheet": false,
    "run_control": {
     "read_only": false
    }
   },
   "outputs": [],
   "source": [
    "# Output: [1, 2, 3, 4, 5]\n",
    "my_chebyshev_poly1(1,x)"
   ]
  },
  {
   "cell_type": "code",
   "execution_count": null,
   "metadata": {
    "button": false,
    "collapsed": true,
    "new_sheet": false,
    "run_control": {
     "read_only": false
    }
   },
   "outputs": [],
   "source": [
    "# Output: [1, 26, 99, 244, 485]\n",
    "my_chebyshev_poly1(3,x)"
   ]
  },
  {
   "cell_type": "markdown",
   "metadata": {
    "lang": "fr"
   },
   "source": [
    "3. La fonction Ackermann, *A*, est une fonction à croissance rapide définie par la relation récursive :\n",
    "\n",
    " \\begin{equation}\n",
    "A(m, n) = \\begin{cases}\n",
    "    n+1 &\\text{if $m=0$}\\\\\n",
    "    A(m-1,1) &\\text{if  $m>0$ and $n=1$}\\\\\n",
    "    A(m-1,A(m,n-1)) & \\text{if  $m>0$ and $n>0$}\\\\\n",
    "    \\end{cases}\n",
    "\\end{equation}\n",
    "\n",
    " Écrivez une fonction *my_ackermann(m,n)*, où la sortie est la fonction Ackermann calculée pour *m* et *n*.\n",
    "    \n",
    " *my_ackermann(4,4)* est si grand qu'il serait difficile de l'écrire. Bien que la fonction Ackermann n'ait pas de nombreuses utilisations pratiques, la fonction Ackermann inverse a plusieurs utilisations dans la planification des mouvements robotiques."
   ]
  },
  {
   "cell_type": "code",
   "execution_count": null,
   "metadata": {
    "button": false,
    "collapsed": true,
    "new_sheet": false,
    "run_control": {
     "read_only": false
    }
   },
   "outputs": [],
   "source": [
    "def my_ackermann(m,n):\n",
    "    # write your own function code here\n",
    "    return out"
   ]
  },
  {
   "cell_type": "code",
   "execution_count": null,
   "metadata": {
    "button": false,
    "collapsed": true,
    "new_sheet": false,
    "run_control": {
     "read_only": false
    }
   },
   "outputs": [],
   "source": [
    "# Output: 3\n",
    "my_ackermann(1,1)"
   ]
  },
  {
   "cell_type": "code",
   "execution_count": null,
   "metadata": {
    "button": false,
    "collapsed": true,
    "new_sheet": false,
    "run_control": {
     "read_only": false
    }
   },
   "outputs": [],
   "source": [
    "# Output: 4\n",
    "my_ackermann(1,2)"
   ]
  },
  {
   "cell_type": "code",
   "execution_count": null,
   "metadata": {
    "button": false,
    "collapsed": true,
    "new_sheet": false,
    "run_control": {
     "read_only": false
    }
   },
   "outputs": [],
   "source": [
    "# Output: 9\n",
    "my_ackermann(2,3)"
   ]
  },
  {
   "cell_type": "code",
   "execution_count": null,
   "metadata": {
    "button": false,
    "collapsed": true,
    "new_sheet": false,
    "run_control": {
     "read_only": false
    }
   },
   "outputs": [],
   "source": [
    "# Output: 61\n",
    "my_ackermann(3,3)"
   ]
  },
  {
   "cell_type": "code",
   "execution_count": null,
   "metadata": {
    "button": false,
    "collapsed": true,
    "new_sheet": false,
    "run_control": {
     "read_only": false
    }
   },
   "outputs": [],
   "source": [
    "# Output: 125\n",
    "my_ackermann(3,4)"
   ]
  },
  {
   "cell_type": "markdown",
   "metadata": {
    "lang": "fr"
   },
   "source": [
    "4. Une fonction, *C(n,k)*, qui calcule le nombre de façons différentes de choisir de manière unique *k* objets parmi *n* sans répétition, est couramment utilisée dans de nombreuses applications statistiques. Par exemple, combien y a-t-il de coupes glacées à trois parfums s’il y a 10 parfums de glace ? Pour résoudre ce problème, nous devrions calculer *C(10,3)*, le nombre de façons de choisir trois saveurs de glace uniques parmi 10. La fonction *C* est communément appelée \"<*>n*choisissez*k*.\" Vous pouvez supposer que*n*et*k*sont des nombres entiers.\n",
    "\n",
    " Si*n = k*, alors clairement*C(n,k) = 1*car il n'y a qu'un seul moyen de choisir*n*objets parmi*n*objets.\n",
    "\n",
    " Si*k = 1*, alors*C(n,k) = n*car choisir chacun des*n*objets est une manière de choisir un objet parmi*n*. Pour tous les autres cas,*C(n,k) = C(n-1,k) + C(n-1,k-1)*. Voyez-vous pourquoi ?\n",
    "\n",
    " Écrivez une fonction*my_n_choose_k(n,k)<*> qui calcule le nombre de fois où les objets $k$ peuvent être choisis de manière unique parmi les objets $n$ sans répétition."
   ]
  },
  {
   "cell_type": "code",
   "execution_count": null,
   "metadata": {
    "button": false,
    "collapsed": true,
    "new_sheet": false,
    "run_control": {
     "read_only": false
    }
   },
   "outputs": [],
   "source": [
    "def my_n_choose_k(n,k):\n",
    "    # Write your own function code here\n",
    "    return out"
   ]
  },
  {
   "cell_type": "code",
   "execution_count": null,
   "metadata": {
    "button": false,
    "collapsed": true,
    "new_sheet": false,
    "run_control": {
     "read_only": false
    }
   },
   "outputs": [],
   "source": [
    "# Output: 10\n",
    "my_n_choose_k(10,1)"
   ]
  },
  {
   "cell_type": "code",
   "execution_count": null,
   "metadata": {
    "button": false,
    "collapsed": true,
    "new_sheet": false,
    "run_control": {
     "read_only": false
    }
   },
   "outputs": [],
   "source": [
    "# Output: 1\n",
    "my_n_choose_k(10,10)"
   ]
  },
  {
   "cell_type": "code",
   "execution_count": null,
   "metadata": {
    "button": false,
    "collapsed": true,
    "new_sheet": false,
    "run_control": {
     "read_only": false
    }
   },
   "outputs": [],
   "source": [
    "# Output: 120\n",
    "my_n_choose_k(10,3)"
   ]
  },
  {
   "cell_type": "markdown",
   "metadata": {
    "lang": "fr"
   },
   "source": [
    "5. Pour les achats payés en espèces, le vendeur doit restituer l'argent payé en trop. C'est ce qu'on appelle communément « donner de la monnaie ». Les billets et les pièces nécessaires pour rendre correctement la monnaie peuvent être définis par une relation récursive. Si le montant payé est supérieur à \\undefined, soustrait du montant payé. Si le montant payé est supérieur à \\undefined soustrait. Des clauses similaires peuvent être données pour chaque dénomination de la monnaie américaine. Les coupures de la monnaie américaine, en dollars, sont 100, 50, 20, 10, 5, 1, 0,25, 0,10, 0,05 et 0,01. Pour ce problème, nous ignorerons le billet de deux dollars, qui n’est pas en circulation courante. Vous pouvez supposer que le *coût* et\n",
    "*payé* sont des scalaires, et ce *payé >= coût*. Le résultat\n",
    "La variable, *change*, doit être une liste comme indiqué dans\n",
    "le cas de test.\n",
    "\n",
    " Utilisez la récursivité pour programmer une fonction *my_change(cost,paid)* où *cost* est le coût de l'article, *paid* est le montant payé et le résultat <*>change<*> est une liste de billets et de pièces qui doivent être restitués au vendeur. Remarque : Attention au cas de base !"
   ]
  },
  {
   "cell_type": "code",
   "execution_count": null,
   "metadata": {
    "button": false,
    "collapsed": true,
    "new_sheet": false,
    "run_control": {
     "read_only": false
    }
   },
   "outputs": [],
   "source": [
    "def my_change(cost, paid):\n",
    "    # Write your own function code here\n",
    "    return change"
   ]
  },
  {
   "cell_type": "code",
   "execution_count": null,
   "metadata": {
    "button": false,
    "collapsed": true,
    "new_sheet": false,
    "run_control": {
     "read_only": false
    }
   },
   "outputs": [],
   "source": [
    "# Output: [50.0, 20.0, 1.0, 1.0, 0.25, 0.10, 0.05, 0.01, 0.01, 0.01]\n",
    "my_change(27.57, 100)"
   ]
  },
  {
   "cell_type": "markdown",
   "metadata": {
    "lang": "fr"
   },
   "source": [
    "6. Le nombre d'or, $\\phi$, est la limite de $\\frac{F(n+1)}{F(n)}$ lorsque *n* va vers l'infini et *F(n)* est le *n*-ième nombre de Fibonacci, qui peut être montré comme étant exactement $\\frac{1 + \\sqrt{5}}{2}$ et est d'environ 1,62. On dit que $G(n) = \\frac{F(n+1)}{F(n)}$ est la *n*-ième approximation du nombre d'or, et $G(1) = 1$.\n",
    "\n",
    " On peut montrer que $\\phi$ est aussi la limite de la fraction continue :\n",
    " \n",
    " $$\\varphi = 1 + \\dfrac{1}{1 + \\dfrac{1}{1 + \\dfrac{1}{1 + \\ddots}}}.$$\n",
    "\n",
    " Écrivez une fonction récursive avec l'en-tête *my_golden_ratio(n)*, où la sortie est la *n*-ième approximation du nombre d'or selon la relation récursive de fraction continue. Vous devez utiliser l'approximation de fraction continue pour le nombre d'or, pas la définition $G(n) = F(n+1)/F(n)$. Cependant, pour les deux définitions, $G(1) = 1$.\n",
    " \n",
    " Des études ont montré que les rectangles dont le rapport hauteur/largeur (c'est-à-dire la longueur divisée par la largeur) est proche du nombre d'or sont plus agréables que les rectangles qui ne le sont pas. Quel est le rapport hauteur/largeur de nombreux écrans de télévision et de cinéma grand écran ?"
   ]
  },
  {
   "cell_type": "code",
   "execution_count": null,
   "metadata": {
    "button": false,
    "collapsed": true,
    "new_sheet": false,
    "run_control": {
     "read_only": false
    }
   },
   "outputs": [],
   "source": [
    "def my_golden_ratio(n):\n",
    "    # Write your own function code here\n",
    "    return out"
   ]
  },
  {
   "cell_type": "code",
   "execution_count": null,
   "metadata": {
    "button": false,
    "collapsed": true,
    "new_sheet": false,
    "run_control": {
     "read_only": false
    }
   },
   "outputs": [],
   "source": [
    "# Output: 1.618181818181818\n",
    "my_golden_ratio(10)"
   ]
  },
  {
   "cell_type": "code",
   "execution_count": null,
   "metadata": {
    "button": false,
    "collapsed": true,
    "new_sheet": false,
    "run_control": {
     "read_only": false
    }
   },
   "outputs": [],
   "source": [
    "import numpy as np\n",
    "(1 + np.sqrt(5))/2"
   ]
  },
  {
   "cell_type": "markdown",
   "metadata": {
    "lang": "fr"
   },
   "source": [
    "7. Le plus grand commun diviseur de deux entiers *a* et *b* est le plus grand entier qui divise les deux nombres sans reste, et la fonction pour le calculer est notée *gcd(a ,b)*. La fonction *gcd* peut être écrite de manière récursive. Si *b* est égal à 0, alors *a* est le plus grand diviseur commun. Sinon, *gcd(a,b) = gcd(b,a%b)* où *a%b* est le reste de *a* divisé par *b*. Supposons que *a* et *b* soient des nombres entiers.\n",
    "\n",
    " Écrivez une fonction récursive *my_gcd(a,b)* qui calcule le plus grand diviseur commun de *a* et *b*. Supposons que *a* et *b* soient des nombres entiers."
   ]
  },
  {
   "cell_type": "code",
   "execution_count": null,
   "metadata": {
    "button": false,
    "collapsed": true,
    "new_sheet": false,
    "run_control": {
     "read_only": false
    }
   },
   "outputs": [],
   "source": [
    "def my_gcd(a, b):\n",
    "    # Write your own function code here\n",
    "    return gcd"
   ]
  },
  {
   "cell_type": "code",
   "execution_count": null,
   "metadata": {
    "button": false,
    "collapsed": true,
    "new_sheet": false,
    "run_control": {
     "read_only": false
    }
   },
   "outputs": [],
   "source": [
    "# Output: 2\n",
    "my_gcd(10, 4)"
   ]
  },
  {
   "cell_type": "code",
   "execution_count": null,
   "metadata": {
    "button": false,
    "collapsed": true,
    "new_sheet": false,
    "run_control": {
     "read_only": false
    }
   },
   "outputs": [],
   "source": [
    "# Output: 11\n",
    "my_gcd(33, 121)"
   ]
  },
  {
   "cell_type": "code",
   "execution_count": null,
   "metadata": {
    "button": false,
    "collapsed": true,
    "new_sheet": false,
    "run_control": {
     "read_only": false
    }
   },
   "outputs": [],
   "source": [
    "# Output: 1\n",
    "my_gcd(18, 1)"
   ]
  },
  {
   "cell_type": "markdown",
   "metadata": {
    "lang": "fr"
   },
   "source": [
    "8. Le triangle de Pascal est un arrangement de nombres tel que chaque ligne est équivalente aux coefficients du développement binomial de $(x + y)^{(p-1)}$, où *p* est un entier positif supérieur ou égal à 1. Par exemple, $(x+y)^2 = 1 x^2 + 2 xy + 1 y^2$ donc le la troisième rangée du triangle de Pascal est 1 2 1.\n",
    "\n",
    " Soit $R_{m}$ représente la *m*-ème ligne du triangle de Pascal, et $R_m(n)$ soit le $n$-ème élément de la ligne. Par définition, $R_m$ a m éléments, et $R_m(1) = R_m(n) = 1$. Les éléments restants sont calculés par la relation récursive suivante : $R_m(i) = R_{m-1}(i-1) + R_{m-1}(i)$ pour $i = 2,\\ldots,m-1$. Les premières lignes du triangle de Pascal sont représentées dans la figure suivante. Vous pouvez supposer que *m* est un entier strictement positif. La variable de sortie, *row*, doit être une liste.\n",
    " \n",
    " idhtml1\n",
    " \n",
    " Écrivez une fonction avec *my_pascal_row(m)* où la variable de sortie *row* est la *m*-ième ligne du triangle Pascal. Vous pouvez supposer que *m* est un entier strictement positif."
   ]
  },
  {
   "cell_type": "code",
   "execution_count": null,
   "metadata": {
    "button": false,
    "collapsed": true,
    "new_sheet": false,
    "run_control": {
     "read_only": false
    }
   },
   "outputs": [],
   "source": [
    "def my_pascal_row(m):\n",
    "    # Write your own function code here\n",
    "    return row"
   ]
  },
  {
   "cell_type": "code",
   "execution_count": null,
   "metadata": {
    "button": false,
    "collapsed": true,
    "new_sheet": false,
    "run_control": {
     "read_only": false
    }
   },
   "outputs": [],
   "source": [
    "# Output: [1]\n",
    "my_pascal_row(1)"
   ]
  },
  {
   "cell_type": "code",
   "execution_count": null,
   "metadata": {
    "button": false,
    "collapsed": true,
    "new_sheet": false,
    "run_control": {
     "read_only": false
    }
   },
   "outputs": [],
   "source": [
    "# Output: [1, 1]\n",
    "my_pascal_row(2)"
   ]
  },
  {
   "cell_type": "code",
   "execution_count": null,
   "metadata": {
    "button": false,
    "collapsed": true,
    "new_sheet": false,
    "run_control": {
     "read_only": false
    }
   },
   "outputs": [],
   "source": [
    "# Output: [1, 2, 1]\n",
    "my_pascal_row(3)"
   ]
  },
  {
   "cell_type": "code",
   "execution_count": null,
   "metadata": {
    "button": false,
    "collapsed": true,
    "new_sheet": false,
    "run_control": {
     "read_only": false
    }
   },
   "outputs": [],
   "source": [
    "# Output: [1, 3, 3, 1]\n",
    "my_pascal_row(4)"
   ]
  },
  {
   "cell_type": "code",
   "execution_count": null,
   "metadata": {
    "button": false,
    "collapsed": true,
    "new_sheet": false,
    "run_control": {
     "read_only": false
    }
   },
   "outputs": [],
   "source": [
    "# Output: [1, 4, 6, 4, 1]\n",
    "my_pascal_row(5)"
   ]
  },
  {
   "cell_type": "markdown",
   "metadata": {
    "lang": "fr"
   },
   "source": [
    "9. Considérons une matrice $n\\times{n}$ de la forme suivante :\n",
    "\n",
    " $$A =\n",
    "\\left[{\\begin{array}{l@{\\quad}l@{\\quad}l@{\\quad}l@{\\quad}l}\n",
    "1 & 1 & 1 & 1 & 1\\\\ \n",
    "1 & 0 & 0 & 0 & 0\\\\ \n",
    "1 & 0 & 1 & 1 & 0\\\\\n",
    "1 & 0 & 0 & 1 & 0\\\\\n",
    "1 & 1 & 1 & 1 & 0\n",
    "\\end{array}}\\right]\n",
    "$$\n",
    "\n",
    " où ceux-ci forment une spirale droite. Écrivez une fonction *my_spiral_ones(n)* qui produit une matrice $n\\times{n}$ de la forme donnée. Assurez-vous que les étapes récursives sont dans le bon ordre (c'est-à-dire qu'elles vont à droite, puis en bas, puis à gauche, puis en haut, puis à droite, etc.)."
   ]
  },
  {
   "cell_type": "code",
   "execution_count": null,
   "metadata": {
    "button": false,
    "collapsed": true,
    "new_sheet": false,
    "run_control": {
     "read_only": false
    }
   },
   "outputs": [],
   "source": [
    "def my_spiral_ones(n):\n",
    "    # Write your own function code here\n",
    "    return A"
   ]
  },
  {
   "cell_type": "code",
   "execution_count": null,
   "metadata": {
    "button": false,
    "collapsed": true,
    "new_sheet": false,
    "run_control": {
     "read_only": false
    }
   },
   "outputs": [],
   "source": [
    "# Output: 1\n",
    "my_spiral_ones(1)"
   ]
  },
  {
   "cell_type": "code",
   "execution_count": null,
   "metadata": {
    "button": false,
    "collapsed": true,
    "new_sheet": false,
    "run_control": {
     "read_only": false
    }
   },
   "outputs": [],
   "source": [
    "# Output: \n",
    "# array([[1, 1],\n",
    "#       [0, 1]])\n",
    "my_spiral_ones(2)"
   ]
  },
  {
   "cell_type": "code",
   "execution_count": null,
   "metadata": {
    "button": false,
    "collapsed": true,
    "new_sheet": false,
    "run_control": {
     "read_only": false
    }
   },
   "outputs": [],
   "source": [
    "# Output:\n",
    "#array([[0, 1, 1],\n",
    "#       [0, 0, 1],\n",
    "#       [1, 1, 1]])\n",
    "my_spiral_ones(3)"
   ]
  },
  {
   "cell_type": "code",
   "execution_count": null,
   "metadata": {
    "button": false,
    "collapsed": true,
    "new_sheet": false,
    "run_control": {
     "read_only": false
    }
   },
   "outputs": [],
   "source": [
    "# Output:\n",
    "#array([[1, 0, 0, 0],\n",
    "#       [1, 0, 1, 1],\n",
    "#       [1, 0, 0, 1],\n",
    "#       [1, 1, 1, 1]])\n",
    "my_spiral_ones(4)"
   ]
  },
  {
   "cell_type": "code",
   "execution_count": null,
   "metadata": {
    "button": false,
    "collapsed": true,
    "new_sheet": false,
    "run_control": {
     "read_only": false
    }
   },
   "outputs": [],
   "source": [
    "# Output:\n",
    "#array([[1, 1, 1, 1, 1],\n",
    "#       [1, 0, 0, 0, 0],\n",
    "#       [1, 0, 1, 1, 0],\n",
    "#       [1, 0, 0, 1, 0],\n",
    "#       [1, 1, 1, 1, 0]])\n",
    "my_spiral_ones(5)"
   ]
  },
  {
   "cell_type": "markdown",
   "metadata": {
    "lang": "fr"
   },
   "source": [
    "10. Réécrivez *my_spiral_ones* sans utiliser la récursivité.\n",
    "11. Dessinez l'arbre de récursivité pour *my_towers(4)*.\n",
    "12. Réécrivez la fonction Tours de Hanoï dans ce chapitre sans utiliser la récursivité.\n",
    "13. Dessinez l'arbre de récursivité pour *my_quicksort([5 4 6 2 9 1 7 3])*.\n",
    "14. Réécrivez la fonction *quicksort* dans ce chapitre sans utiliser la récursivité."
   ]
  },
  {
   "cell_type": "markdown",
   "metadata": {
    "button": false,
    "new_sheet": false,
    "run_control": {
     "read_only": false
    }
   },
   "source": [
    "<!--NAVIGATION-->\n",
    "< [6.2 Divide and Conquer](chapter06.02-Divide-and-Conquer.ipynb) | [Contents](Index.ipynb) | [7.0 Objects and Classes](chapter07.00-Objects-and-Classes.ipynb) >"
   ]
  }
 ],
 "metadata": {
  "kernelspec": {
   "display_name": "Python 3 (ipykernel)",
   "language": "python",
   "name": "python3"
  },
  "language_info": {
   "codemirror_mode": {
    "name": "ipython",
    "version": 3
   },
   "file_extension": ".py",
   "mimetype": "text/x-python",
   "name": "python",
   "nbconvert_exporter": "python",
   "pygments_lexer": "ipython3",
   "version": "3.11.7"
  },
  "nbTranslate": {
   "displayLangs": [
    "*"
   ],
   "hotkey": "alt-t",
   "langInMainMenu": true,
   "sourceLang": "en",
   "targetLang": "fr",
   "useGoogleTranslate": true
  }
 },
 "nbformat": 4,
 "nbformat_minor": 2
}
