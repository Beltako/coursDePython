{
 "cells": [
  {
   "cell_type": "markdown",
   "metadata": {
    "button": false,
    "new_sheet": false,
    "run_control": {
     "read_only": false
    }
   },
   "source": [
    "<!--BOOK_INFORMATION-->\n",
    "<img align=\"left\" style=\"padding-right:10px;\" src=\"images/book_cover.jpg\" width=\"120\">\n",
    "\n",
    "*Ce cahier contient un extrait de [Programmation Python et méthodes numériques - Un guide pour les ingénieurs et les scientifiques](https://pythonnumericalmethods.berkeley.edu/notebooks/Index.html), le contenu est également disponible sur [Berkeley Python Numerical Methods](https://pythonnumericalmethods.berkeley.edu/notebooks/Index.html).*\n",
    "\n",
    "*Les droits d'auteur du livre appartiennent à Elsevier. Nous avons également ce livre interactif en ligne pour une meilleure expérience d'apprentissage. Le code est publié sous la [licence MIT](https://opensource.org/licenses/MIT). Si vous trouvez ce contenu utile, pensez à soutenir le travail sur [Elsevier](https://www.elsevier.com/books/python-programming-and-numerical-methods/kong/978-0-12-819549-9) ou [Amazon](https://www.amazon.com/Python-Programming-Numerical-Methods-Scientists/dp/0128195495/ref=sr_1_1?dchild=1&keywords=Python+Programming+and+Numerical+Methods+-+A+Guide+for+Engineers+and+Scientists&qid=1604761352&sr=8-1) !*"
   ]
  },
  {
   "cell_type": "markdown",
   "metadata": {
    "button": false,
    "new_sheet": false,
    "run_control": {
     "read_only": false
    }
   },
   "source": [
    "<!--NAVIGATION-->\n",
    "< [15.1 Mathematical Characteristics of Eigen-problems](chapter15.01-Mathematical-Characteristics-of-Eigen-problems.ipynb) | [Contents](Index.ipynb) | [15.3 The QR Method](chapter15.03-The-QR-Method.ipynb)  >"
   ]
  },
  {
   "cell_type": "markdown",
   "metadata": {
    "lang": "fr"
   },
   "source": [
    "# La méthode de puissance"
   ]
  },
  {
   "cell_type": "markdown",
   "metadata": {
    "lang": "fr"
   },
   "source": [
    "## Trouver la plus grande valeur propre\n",
    "\n",
    "Dans certains problèmes, il suffit de trouver la plus grande valeur propre dominante et son vecteur propre correspondant. Dans ce cas, nous pouvons utiliser la méthode des puissances - une méthode itérative qui convergera vers la plus grande valeur propre. Voyons ci-dessous comment fonctionne la méthode de puissance.\n",
    "\n",
    "Considérons une matrice $n\\times{n}$ $A$ qui a $n$ des valeurs propres réelles linéairement indépendantes $\\lambda_1, \\lambda_2, \\dots, \\lambda_n$ et les vecteurs propres correspondants $v_1, v_2, \\dots, v_n$. Puisque les valeurs propres sont scalaires, nous pouvons les classer de telle sorte que $|\\lambda_1| > |\\lambda_2| > \\dots > |\\lambda_n| $ (en fait, nous n'avons besoin que de $|\\lambda_1| > |\\lambda_2|$, les autres valeurs propres peuvent être égales les unes aux autres).\n",
    "\n",
    "Étant donné que les vecteurs propres sont indépendants, ils constituent un ensemble de vecteurs de base, ce qui signifie que tout vecteur se trouvant dans le même espace peut être écrit comme une combinaison linéaire des vecteurs de base. Autrement dit, pour tout vecteur $x_0$, il peut s’écrire :\n",
    "\n",
    "$$ x_0 = c_1v_1+c_2v_2+\\dots+c_nv_n$$\n",
    "\n",
    "où $c_1\\ne0$ est la contrainte. S'il est nul, alors nous devons choisir un autre vecteur initial pour que $c_1\\ne0$.\n",
    "\n",
    "Multiplions maintenant les deux côtés par $A$ :\n",
    "\n",
    "$$ Ax_0 = c_1Av_1+c_2Av_2+\\dots+c_nAv_n$$\n",
    "\n",
    "Depuis $Av_i = \\lambda{v_i}$, nous aurons :\n",
    "\n",
    "$$ Ax_0 = c_1\\lambda_1v_1+c_2\\lambda_2v_2+\\dots+c_n\\lambda_nv_n$$\n",
    "\n",
    "Nous pouvons changer l'équation ci-dessus en :\n",
    "\n",
    "$$ Ax_0 = c_1\\lambda_1[v_1+\\frac{c_2}{c_1}\\frac{\\lambda_2}{\\lambda_1}v_2+\\dots+\\frac{c_n}{c_1}\\frac{\\lambda_n}{\\lambda_1}v_n]= c_1\\lambda_1x_1$$\n",
    "\n",
    "où $x_1$ est un nouveau vecteur et $x_1 = v_1+\\frac{c_2}{c_1}\\frac{\\lambda_2}{\\lambda_1}v_2+\\dots+\\frac{c_n}{c_1}\\frac{\\lambda_n}{\\lambda_1}v_n$.\n",
    "\n",
    "Ceci termine la première itération. Et on peut multiplier $A$ par $x_1$ pour démarrer la 2ème itération :\n",
    "\n",
    "$$ Ax_1 = \\lambda_1{v_1}+\\frac{c_2}{c_1}\\frac{\\lambda_2^2}{\\lambda_1}v_2+\\dots+\\frac{c_n}{c_1}\\frac{\\lambda_n^2}{\\lambda_1}v_n $$\n",
    "\n",
    "De même, nous pouvons réorganiser l’équation ci-dessus comme suit :\n",
    "\n",
    "$$ Ax_1 = \\lambda_1[v_1+\\frac{c_2}{c_1}\\frac{\\lambda_2^2}{\\lambda_1^2}v_2+\\dots+\\frac{c_n}{c_1}\\frac{\\lambda_n^2}{\\lambda_1^2}v_n] = \\lambda_1x_2$$\n",
    "\n",
    "où $x_2$ est un autre nouveau vecteur et $x_2 = v_1+\\frac{c_2}{c_1}\\frac{\\lambda_2^2}{\\lambda_1^2}v_2+\\dots+\\frac{c_n}{c_1}\\frac{\\lambda_n^2}{\\lambda_1^2}v_n$.\n",
    "\n",
    "Nous pouvons continuer à multiplier $A$ avec le nouveau vecteur que nous obtenons à chaque itération $k$ fois :\n",
    "\n",
    "$$ Ax_{k-1} = \\lambda_1[v_1+\\frac{c_2}{c_1}\\frac{\\lambda_2^k}{\\lambda_1^k}v_2+\\dots+\\frac{c_n}{c_1}\\frac{\\lambda_n^k}{\\lambda_1^k}v_n] = \\lambda_1x_k$$\n",
    "\n",
    "Parce que $\\lambda_1$ est la plus grande valeur propre, donc le rapport $\\frac{\\lambda_i}{\\lambda_1}<1$ pour tous les $i>1$. Ainsi, lorsque nous augmentons $k$ jusqu'à une valeur suffisamment grande, le rapport de $(\\frac{\\lambda_n}{\\lambda_1})^{k}$ sera proche de 0. De sorte que tous les termes qui contiennent ce rapport peuvent être négligés à mesure que $k$ grandit :\n",
    "\n",
    "$$ Ax_{k-1} = {\\lambda_1}v_1 $$\n",
    "\n",
    "Essentiellement, comme $k$ est suffisamment grand, nous obtiendrons la plus grande valeur propre et son vecteur propre correspondant. Lors de la mise en œuvre de cette méthode de puissance, nous normalisons généralement le vecteur résultant à chaque itération. Cela peut être fait en factorisant le plus grand élément du vecteur, ce qui rendra le plus grand élément du vecteur égal à 1. Cette normalisation nous obtiendra en même temps la plus grande valeur propre et son vecteur propre correspondant. Jetons un coup d'oeil à l'exemple suivant.\n",
    "\n",
    "Vous vous demandez peut-être quand devrions-nous arrêter l’itération ? Les critères d'arrêt de base doivent être l'un des trois : dans les itérations consécutives, (1) la différence entre les valeurs propres est inférieure à une certaine tolérance spécifiée ; (2) l'angle entre vecteurs propres est inférieur à un seuil ; soit la norme du vecteur résiduel est suffisamment petite.\n",
    "\n",
    "**ESSAYEZ-LE !** Nous savons grâce à la dernière section que la plus grande valeur propre est 4 pour la matrice $A = \\begin{bmatrix}\n",
    "0 & 2\\\\\n",
    "2 & 3\\\\\n",
    "\\end{bmatrix}$, utilisez maintenant la méthode de puissance pour trouver la plus grande valeur propre et le vecteur propre associé. Vous pouvez utiliser le vecteur initial [1, 1] pour démarrer l'itération."
   ]
  },
  {
   "cell_type": "markdown",
   "metadata": {
    "lang": "fr"
   },
   "source": [
    "1ère itération : $$\n",
    "\\begin{bmatrix}\n",
    "0 & 2\\\\\n",
    "2 & 3\\\\\n",
    "\\end{bmatrix}\n",
    "\\begin{bmatrix}\n",
    "1\\\\1\\\\\n",
    "\\end{bmatrix}\n",
    "=\\begin{bmatrix}\n",
    "2\\\\5\\\\\n",
    "\\end{bmatrix}\n",
    "=5\\begin{bmatrix}\n",
    "0.4\\\\1\\\\\n",
    "\\end{bmatrix}\n",
    "$$\n",
    "\n",
    "2ème itération :\n",
    "$$\n",
    "\\begin{bmatrix}\n",
    "0 & 2\\\\\n",
    "2 & 3\\\\\n",
    "\\end{bmatrix}\n",
    "\\begin{bmatrix}\n",
    "0.4\\\\1\\\\\n",
    "\\end{bmatrix}\n",
    "=\\begin{bmatrix}\n",
    "2\\\\3.8\\\\\n",
    "\\end{bmatrix}\n",
    "=3.8\\begin{bmatrix}\n",
    "0.5263\\\\1\\\\\n",
    "\\end{bmatrix}\n",
    "$$\n",
    "\n",
    "3ème itération :\n",
    "$$\n",
    "\\begin{bmatrix}\n",
    "0 & 2\\\\\n",
    "2 & 3\\\\\n",
    "\\end{bmatrix}\n",
    "\\begin{bmatrix}\n",
    "0.5263\\\\1\\\\\n",
    "\\end{bmatrix}\n",
    "=\\begin{bmatrix}\n",
    "2\\\\ 4.0526\\\\\n",
    "\\end{bmatrix}\n",
    "= 4.0526\\begin{bmatrix}\n",
    "0.4935\\\\1\\\\\n",
    "\\end{bmatrix}\n",
    "$$\n",
    "\n",
    "4ème itération :\n",
    "$$\n",
    "\\begin{bmatrix}\n",
    "0 & 2\\\\\n",
    "2 & 3\\\\\n",
    "\\end{bmatrix}\n",
    "\\begin{bmatrix}\n",
    "0.4935\\\\1\\\\\n",
    "\\end{bmatrix}\n",
    "=\\begin{bmatrix}\n",
    "2\\\\ 3.987\\\\\n",
    "\\end{bmatrix}\n",
    "= 3.987\\begin{bmatrix}\n",
    "0.5016\\\\1\\\\\n",
    "\\end{bmatrix}\n",
    "$$\n",
    "\n",
    "5ème itération :\n",
    "$$\n",
    "\\begin{bmatrix}\n",
    "0 & 2\\\\\n",
    "2 & 3\\\\\n",
    "\\end{bmatrix}\n",
    "\\begin{bmatrix}\n",
    "0.5016\\\\1\\\\\n",
    "\\end{bmatrix}\n",
    "=\\begin{bmatrix}\n",
    "2\\\\ 4.0032\\\\\n",
    "\\end{bmatrix}\n",
    "= 4.0032\\begin{bmatrix}\n",
    "0.4996\\\\1\\\\\n",
    "\\end{bmatrix}\n",
    "$$\n",
    "\n",
    "6ème itération :\n",
    "$$\n",
    "\\begin{bmatrix}\n",
    "0 & 2\\\\\n",
    "2 & 3\\\\\n",
    "\\end{bmatrix}\n",
    "\\begin{bmatrix}\n",
    "0.4996\\\\1\\\\\n",
    "\\end{bmatrix}\n",
    "=\\begin{bmatrix}\n",
    "2\\\\ 3.9992\\\\\n",
    "\\end{bmatrix}\n",
    "= 3.9992\\begin{bmatrix}\n",
    "0.5001\\\\1\\\\\n",
    "\\end{bmatrix}\n",
    "$$\n",
    "\n",
    "7ème itération :\n",
    "$$\n",
    "\\begin{bmatrix}\n",
    "0 & 2\\\\\n",
    "2 & 3\\\\\n",
    "\\end{bmatrix}\n",
    "\\begin{bmatrix}\n",
    "0.5001\\\\1\\\\\n",
    "\\end{bmatrix}\n",
    "=\\begin{bmatrix}\n",
    "2\\\\ 4.0002\\\\\n",
    "\\end{bmatrix}\n",
    "= 4.0002\\begin{bmatrix}\n",
    "0.5000\\\\1\\\\\n",
    "\\end{bmatrix}\n",
    "$$\n",
    "\n",
    "On peut voir qu'après 7 itérations, la valeur propre a convergé vers 4 avec [0.5, 1] ​​comme vecteur propre correspondant.\n",
    "\n",
    "**ESSAYEZ-LE !** Implémentez la méthode power en Python"
   ]
  },
  {
   "cell_type": "code",
   "execution_count": 1,
   "metadata": {
    "button": false,
    "collapsed": true,
    "new_sheet": false,
    "run_control": {
     "read_only": false
    }
   },
   "outputs": [],
   "source": [
    "import numpy as np"
   ]
  },
  {
   "cell_type": "code",
   "execution_count": 2,
   "metadata": {
    "button": false,
    "collapsed": true,
    "new_sheet": false,
    "run_control": {
     "read_only": false
    }
   },
   "outputs": [],
   "source": [
    "def normalize(x):\n",
    "    fac = abs(x).max()\n",
    "    x_n = x / x.max()\n",
    "    return fac, x_n"
   ]
  },
  {
   "cell_type": "code",
   "execution_count": 3,
   "metadata": {
    "button": false,
    "new_sheet": false,
    "run_control": {
     "read_only": false
    }
   },
   "outputs": [
    {
     "name": "stdout",
     "output_type": "stream",
     "text": [
      "Eigenvalue: 3.999949137887188\n",
      "Eigenvector: [0.50000636 1.        ]\n"
     ]
    }
   ],
   "source": [
    "x = np.array([1, 1])\n",
    "a = np.array([[0, 2], \n",
    "              [2, 3]])\n",
    "\n",
    "for i in range(8):\n",
    "    x = np.dot(a, x)\n",
    "    lambda_1, x = normalize(x)\n",
    "    \n",
    "print('Eigenvalue:', lambda_1)\n",
    "print('Eigenvector:', x)"
   ]
  },
  {
   "cell_type": "markdown",
   "metadata": {
    "lang": "fr"
   },
   "source": [
    "## La méthode de puissance inverse\n",
    "\n",
    "Les valeurs propres de la matrice inverse $A^{-1}$ sont les réciproques des valeurs propres de $A$. Nous pouvons profiter de cette fonctionnalité ainsi que de la méthode de puissance pour obtenir la plus petite valeur propre de $A$, ce sera la base de la méthode de puissance inverse. Les étapes sont très simples, au lieu de multiplier $A$ comme décrit ci-dessus, nous multiplions simplement $A^{-1}$ pour notre itération afin de trouver la plus grande valeur de $\\frac{1}{\\lambda_1}$, qui sera la plus petite valeur propre de $A$. Quant à l’inverse de la matrice, en pratique, on peut utiliser les méthodes que nous avons abordées dans le chapitre précédent pour le calculer. Nous n'entrerons pas dans les détails ici, mais voyons un exemple.\n",
    "\n",
    "**ESSAYEZ-LE !** Trouvez la plus petite valeur propre et le plus petit vecteur propre pour $A = \\begin{bmatrix}\n",
    "0 & 2\\\\\n",
    "2 & 3\\\\\n",
    "\\end{bmatrix}$."
   ]
  },
  {
   "cell_type": "code",
   "execution_count": 4,
   "metadata": {
    "button": false,
    "collapsed": true,
    "new_sheet": false,
    "run_control": {
     "read_only": false
    }
   },
   "outputs": [],
   "source": [
    "from numpy.linalg import inv"
   ]
  },
  {
   "cell_type": "code",
   "execution_count": 5,
   "metadata": {
    "button": false,
    "new_sheet": false,
    "run_control": {
     "read_only": false
    }
   },
   "outputs": [
    {
     "name": "stdout",
     "output_type": "stream",
     "text": [
      "Eigenvalue: 0.20000000000003912\n",
      "Eigenvector: [1. 1.]\n"
     ]
    }
   ],
   "source": [
    "a_inv = inv(a)\n",
    "\n",
    "for i in range(8):\n",
    "    x = np.dot(a_inv, x)\n",
    "    lambda_1, x = normalize(x)\n",
    "    \n",
    "print('Eigenvalue:', lambda_1)\n",
    "print('Eigenvector:', x)"
   ]
  },
  {
   "cell_type": "markdown",
   "metadata": {
    "lang": "fr"
   },
   "source": [
    "## La méthode du pouvoir décalé\n",
    "\n",
    "Dans certains cas, nous devons trouver toutes les valeurs propres et vecteurs propres au lieu du plus grand et du plus petit. Une méthode simple mais inefficace consiste à utiliser la méthode de puissance décalée (nous vous présenterons une méthode efficace dans la section suivante). Étant donné que $Ax = \\lambda{x}$ et $\\lambda_1$ sont la plus grande valeur propre obtenue par la méthode des puissances, alors nous pouvons avoir :\n",
    "\n",
    "$$[A - \\lambda_1I]x = \\alpha{x}$$\n",
    "\n",
    "où $\\alpha$ sont les valeurs propres de la matrice décalée $A - \\lambda_1I$, qui sera $0, \\lambda_2-\\lambda_1, \\lambda_3-\\lambda_1, \\dots, \\lambda_n-\\lambda_1$.\n",
    "\n",
    "Maintenant, si nous appliquons la méthode de puissance à la matrice décalée, nous pouvons alors déterminer la plus grande valeur propre de la matrice décalée, c'est-à-dire $\\alpha_k$. Depuis $\\alpha_k = \\lambda_k - \\lambda_1$, nous pouvons obtenir facilement la valeur propre $\\lambda_k$. Nous pouvons répéter ce processus plusieurs fois pour trouver toutes les autres valeurs propres. Mais vous voyez, cela demande beaucoup de travail ! Une meilleure méthode pour trouver toutes les valeurs propres est d'utiliser la méthode QR, voyons dans la section suivante comment cela fonctionne !"
   ]
  },
  {
   "cell_type": "markdown",
   "metadata": {
    "button": false,
    "new_sheet": false,
    "run_control": {
     "read_only": false
    }
   },
   "source": [
    "<!--NAVIGATION-->\n",
    "< [15.1 Mathematical Characteristics of Eigen-problems](chapter15.01-Mathematical-Characteristics-of-Eigen-problems.ipynb) | [Contents](Index.ipynb) | [15.3 The QR Method](chapter15.03-The-QR-Method.ipynb)  >"
   ]
  }
 ],
 "metadata": {
  "kernelspec": {
   "display_name": "Python 3 (ipykernel)",
   "language": "python",
   "name": "python3"
  },
  "language_info": {
   "codemirror_mode": {
    "name": "ipython",
    "version": 3
   },
   "file_extension": ".py",
   "mimetype": "text/x-python",
   "name": "python",
   "nbconvert_exporter": "python",
   "pygments_lexer": "ipython3",
   "version": "3.11.7"
  },
  "nbTranslate": {
   "displayLangs": [
    "*"
   ],
   "hotkey": "alt-t",
   "langInMainMenu": true,
   "sourceLang": "en",
   "targetLang": "fr",
   "useGoogleTranslate": true
  }
 },
 "nbformat": 4,
 "nbformat_minor": 2
}
