{
 "cells": [
  {
   "cell_type": "markdown",
   "metadata": {},
   "source": [
    "<!--BOOK_INFORMATION-->\n",
    "<img align=\"left\" style=\"padding-right:10px;\" src=\"images/book_cover.jpg\" width=\"120\">\n",
    "\n",
    "*Ce cahier contient un extrait de [Programmation Python et méthodes numériques - Un guide pour les ingénieurs et les scientifiques](https://pythonnumericalmethods.berkeley.edu/notebooks/Index.html), le contenu est également disponible sur [Berkeley Python Numerical Methods](https://pythonnumericalmethods.berkeley.edu/notebooks/Index.html).*\n",
    "\n",
    "*Les droits d'auteur du livre appartiennent à Elsevier. Nous avons également ce livre interactif en ligne pour une meilleure expérience d'apprentissage. Le code est publié sous la [licence MIT](https://opensource.org/licenses/MIT). Si vous trouvez ce contenu utile, pensez à soutenir le travail sur [Elsevier](https://www.elsevier.com/books/python-programming-and-numerical-methods/kong/978-0-12-819549-9) ou [Amazon](https://www.amazon.com/Python-Programming-Numerical-Methods-Scientists/dp/0128195495/ref=sr_1_1?dchild=1&keywords=Python+Programming+and+Numerical+Methods+-+A+Guide+for+Engineers+and+Scientists&qid=1604761352&sr=8-1) !*"
   ]
  },
  {
   "cell_type": "markdown",
   "metadata": {},
   "source": [
    "<!--NAVIGATION-->\n",
    "< [CHAPTER 4. Branching Statements](chapter04.00-Branching-Statements.ipynb) | [Contents](Index.ipynb) | [4.2 Ternary Operators](chapter04.02-Ternary-Operators.ipynb) >"
   ]
  },
  {
   "cell_type": "markdown",
   "metadata": {
    "lang": "fr"
   },
   "source": [
    "# Déclarations If-Else\n",
    "\n",
    "Une **instruction de branchement**, **If-Else Statement** ou **If-Statement** en abrégé, est une construction de code qui exécute uniquement des blocs de code. si certaines conditions sont remplies. Ces conditions sont représentées sous forme d'expressions logiques. Soit $P$, $Q$ et $R$ des expressions logiques en Python. Ce qui suit montre une construction d'instruction if."
   ]
  },
  {
   "cell_type": "markdown",
   "metadata": {
    "lang": "fr"
   },
   "source": [
    "**CONSTRUCTION** : Syntaxe simple de l'instruction If-Else\n",
    "\n",
    "```pseudocode\n",
    "si expression logique :\n",
    "    bloc de code\n",
    "```"
   ]
  },
  {
   "cell_type": "markdown",
   "metadata": {
    "lang": "fr"
   },
   "source": [
    "Le mot « si » est un mot-clé. Lorsque Python voit une instruction if, il détermine si l'expression logique associée est vraie. Si c'est vrai, alors le code du *code block* sera exécuté. Si c'est faux, alors le code de l'instruction if ne sera pas exécuté. La façon de lire ceci est \"Si l'expression logique est vraie, alors effectuez un bloc de code.\"\n",
    "\n",
    "Lorsqu'il y a plusieurs conditions à prendre en compte, vous pouvez inclure des déclarations elif ; si vous souhaitez une condition qui couvre tout autre cas, vous pouvez utiliser une instruction else.\n",
    "\n",
    "**Remarque !** Python donne le même niveau d'indentation à chaque ligne de code dans une instruction conditionnelle."
   ]
  },
  {
   "cell_type": "markdown",
   "metadata": {
    "lang": "en"
   },
   "source": [
    "**CONSTRUCTION**: Extended If-Else Statement Syntax\n",
    "\n",
    "```pseudocode\n",
    "if logical expression P:\n",
    "    code block 1\n",
    "elif logical expression Q:\n",
    "    code block 2\n",
    "elif logical expression R:\n",
    "    code block 3\n",
    "else:\n",
    "    code block 4\n",
    "   \n",
    "```"
   ]
  },
  {
   "cell_type": "markdown",
   "metadata": {
    "lang": "fr"
   },
   "source": [
    "Dans le code précédent, Python vérifiera d'abord si $\\textit{P}$ est vrai. Si $\\textit{P}$ est vrai, alors le bloc de code 1 sera exécuté, puis $\\textit{if-statement}$ se terminera. En d’autres termes, Python ne vérifiera *pas* le reste des instructions une fois qu’il aura atteint une instruction vraie. Cependant, si $\\textit{P}$ est faux, alors Python vérifiera si $\\textit{Q}$ est vrai. Si $\\textit{Q}$ est vrai, alors le bloc de code 2 sera exécuté et l'instruction if se terminera. Si c'est faux, alors $\\textit{R}$ sera exécuté, et ainsi de suite. Si $\\textit{P}$, $\\textit{Q}$ et $\\textit{R}$ sont tous faux, alors le bloc de code 4 sera exécuté. Vous pouvez avoir n'importe quel nombre d'instructions elif (ou aucune) tant qu'il y a au moins une instruction if (la première instruction). Vous n'avez pas besoin d'une instruction else, mais vous pouvez avoir au plus une instruction else. Les expressions logiques après if et elif (c'est-à-dire telles que P, Q et R) seront appelées instructions conditionnelles."
   ]
  },
  {
   "cell_type": "markdown",
   "metadata": {
    "lang": "fr"
   },
   "source": [
    "**ESSAYEZ-LE !** Écrivez une fonction *my_thermo_stat(temp, wanted_temp)*. La valeur de retour de la fonction doit être la chaîne *'Heat'* si la température est inférieure à la température souhaitée_temp moins 5 degrés, *'AC'* si la température est supérieure à la température souhaitée_temp plus 5, et *'off'* sinon."
   ]
  },
  {
   "cell_type": "code",
   "execution_count": 1,
   "metadata": {},
   "outputs": [],
   "source": [
    "def my_thermo_stat(temp, desired_temp):\n",
    "    \"\"\"\n",
    "    Changes the status of the thermostat based on \n",
    "    temperature and desired temperature\n",
    "    author\n",
    "    date\n",
    "    :type temp: Int\n",
    "    :type desiredTemp: Int\n",
    "    :rtype: String\n",
    "    \"\"\"\n",
    "    if temp < desired_temp - 5:\n",
    "        status = 'Heat'\n",
    "    elif temp > desired_temp + 5:\n",
    "        status = 'AC'\n",
    "    else:\n",
    "        status = 'off'\n",
    "    return status"
   ]
  },
  {
   "cell_type": "code",
   "execution_count": 2,
   "metadata": {},
   "outputs": [
    {
     "name": "stdout",
     "output_type": "stream",
     "text": [
      "Heat\n"
     ]
    }
   ],
   "source": [
    "status = my_thermo_stat(65,75)\n",
    "print(status)"
   ]
  },
  {
   "cell_type": "code",
   "execution_count": 3,
   "metadata": {},
   "outputs": [
    {
     "name": "stdout",
     "output_type": "stream",
     "text": [
      "AC\n"
     ]
    }
   ],
   "source": [
    "status = my_thermo_stat(75,65)\n",
    "print(status)"
   ]
  },
  {
   "cell_type": "code",
   "execution_count": 4,
   "metadata": {},
   "outputs": [
    {
     "name": "stdout",
     "output_type": "stream",
     "text": [
      "off\n"
     ]
    }
   ],
   "source": [
    "status = my_thermo_stat(65,63)\n",
    "print(status)"
   ]
  },
  {
   "cell_type": "markdown",
   "metadata": {
    "lang": "fr"
   },
   "source": [
    "**EXEMPLE** : Quelle sera la valeur de y après l'exécution du script suivant ?"
   ]
  },
  {
   "cell_type": "code",
   "execution_count": 5,
   "metadata": {},
   "outputs": [
    {
     "name": "stdout",
     "output_type": "stream",
     "text": [
      "2\n"
     ]
    }
   ],
   "source": [
    "x = 3\n",
    "if x > 1:\n",
    "    y = 2\n",
    "elif x > 2:\n",
    "    y = 4\n",
    "else:\n",
    "    y = 0\n",
    "print(y)"
   ]
  },
  {
   "cell_type": "markdown",
   "metadata": {
    "lang": "fr"
   },
   "source": [
    "Nous pouvons également insérer des instructions conditionnelles plus compliquées à l’aide d’opérateurs logiques."
   ]
  },
  {
   "cell_type": "markdown",
   "metadata": {
    "lang": "fr"
   },
   "source": [
    "**EXEMPLE :** Quelle sera la valeur de y après l'exécution du code suivant ?"
   ]
  },
  {
   "cell_type": "code",
   "execution_count": 6,
   "metadata": {},
   "outputs": [
    {
     "name": "stdout",
     "output_type": "stream",
     "text": [
      "4\n"
     ]
    }
   ],
   "source": [
    "x = 3\n",
    "if x > 1 and x < 2:\n",
    "    y = 2\n",
    "elif x > 2 and x < 4:\n",
    "    y = 4\n",
    "else:\n",
    "    y = 0\n",
    "print(y)"
   ]
  },
  {
   "cell_type": "code",
   "execution_count": 7,
   "metadata": {},
   "outputs": [
    {
     "name": "stdout",
     "output_type": "stream",
     "text": [
      "4\n"
     ]
    }
   ],
   "source": [
    "x = 3\n",
    "if 1 < x < 2:\n",
    "    y = 2\n",
    "elif 2 < x < 4:\n",
    "    y = 4\n",
    "else:\n",
    "    y = 0\n",
    "print(y)"
   ]
  },
  {
   "cell_type": "markdown",
   "metadata": {
    "lang": "fr"
   },
   "source": [
    "Une instruction est appelée **nested** si elle est entièrement contenue dans une autre instruction du même type qu'elle. Par exemple, une **instruction if imbriquée** est une instruction if entièrement contenue dans une clause d'une autre instruction if."
   ]
  },
  {
   "cell_type": "markdown",
   "metadata": {
    "lang": "fr"
   },
   "source": [
    "**EXEMPLE :** Pensez à ce qui se passera lorsque le code suivant sera exécuté. Quels sont tous les résultats possibles basés sur les valeurs d’entrée de x et y ?"
   ]
  },
  {
   "cell_type": "code",
   "execution_count": 8,
   "metadata": {},
   "outputs": [],
   "source": [
    "def my_nested_branching(x,y):\n",
    "    \"\"\"\n",
    "    Nested Branching Statement Example\n",
    "    author\n",
    "    date\n",
    "    :type x: Int\n",
    "    :type y: Int\n",
    "    :rtype: Int\n",
    "    \"\"\"\n",
    "    if x > 2:\n",
    "        if y < 2:\n",
    "            out = x + y\n",
    "        else:\n",
    "            out = x - y\n",
    "    else:\n",
    "        if y > 2:\n",
    "            out = x*y\n",
    "        else:\n",
    "            out = 0\n",
    "    return out"
   ]
  },
  {
   "cell_type": "markdown",
   "metadata": {
    "lang": "fr"
   },
   "source": [
    "**Remarque !** Comme auparavant, Python donne le même niveau d'indentation à chaque ligne de code dans une instruction conditionnelle. L'instruction if imbriquée a une indentation plus profonde en augmentant quatre espaces blancs. Vous obtiendrez un **IndentationError** si l'indentation n'est pas correcte, comme nous l'avons vu dans la définition des fonctions."
   ]
  },
  {
   "cell_type": "code",
   "execution_count": 9,
   "metadata": {},
   "outputs": [],
   "source": [
    "import numpy as np"
   ]
  },
  {
   "cell_type": "code",
   "execution_count": 10,
   "metadata": {},
   "outputs": [
    {
     "data": {
      "text/plain": [
       "False"
      ]
     },
     "execution_count": 10,
     "metadata": {},
     "output_type": "execute_result"
    }
   ],
   "source": [
    "all([1, 1, 0])"
   ]
  },
  {
   "cell_type": "markdown",
   "metadata": {
    "lang": "fr"
   },
   "source": [
    "Il existe de nombreuses fonctions logiques conçues pour vous aider à créer des instructions de branchement. Par exemple, vous pouvez demander si une variable a un certain type de données avec la fonction *isinstance*. Il existe également des fonctions qui peuvent vous fournir des informations sur les tableaux de logiques comme *any*, qui calcule true si un élément d'un tableau est vrai, et false sinon, et *all*, qui calcule à true uniquement si tous les éléments d'un tableau sont vrais.\n",
    "\n",
    "Parfois, vous souhaiterez peut-être concevoir votre fonction pour vérifier les entrées d'une fonction afin de garantir que votre fonction sera utilisée correctement. Par exemple, la fonction *my_adder* du chapitre précédent attend des doubles en entrée. Si l'utilisateur saisit une *list* ou une *string* comme l'une des variables d'entrée, la fonction générera une erreur ou aura des résultats inattendus. Pour éviter cela, vous pouvez cocher la case pour indiquer à l'utilisateur que la fonction n'a pas été utilisée correctement. Cette technique et d'autres techniques de contrôle des erreurs sont explorées plus en détail dans le [Chapitre 10] (chapter10.00-Errors-Practices-Debugging.ipynb). Pour le moment, il suffit de savoir que l'on pourrait utiliser l'instruction $\\texttt{raise}$ avec une exception $\\texttt{TypeError}$ pour arrêter l'exécution d'une fonction et renvoyer une erreur avec un texte spécifique."
   ]
  },
  {
   "cell_type": "markdown",
   "metadata": {
    "lang": "fr"
   },
   "source": [
    "**EXEMPLE** : modifiez *my_adder* pour émettre un avertissement si l'utilisateur ne saisit pas de valeurs numériques. Essayez votre fonction pour les entrées non numériques pour montrer que la vérification fonctionne. Lorsqu'une instruction est trop longue, nous pouvons utiliser le symbole '\\' pour diviser une ligne en plusieurs lignes."
   ]
  },
  {
   "cell_type": "code",
   "execution_count": 11,
   "metadata": {},
   "outputs": [],
   "source": [
    "def my_adder(a, b, c):\n",
    "    \"\"\"\n",
    "    Calculate the sum of three numbers\n",
    "    author\n",
    "    date\n",
    "    \"\"\"\n",
    "    \n",
    "    # Check for erroneous input\n",
    "    if not (isinstance(a, (int, float)) \\\n",
    "            or isinstance(b, (int, float)) \\\n",
    "            or isinstance(c, (int, float))):\n",
    "        raise TypeError('Inputs must be numbers.')\n",
    "    # Return output\n",
    "    return a + b + c"
   ]
  },
  {
   "cell_type": "code",
   "execution_count": 12,
   "metadata": {},
   "outputs": [
    {
     "name": "stdout",
     "output_type": "stream",
     "text": [
      "6\n"
     ]
    }
   ],
   "source": [
    "x = my_adder(1,2,3)\n",
    "print(x)"
   ]
  },
  {
   "cell_type": "code",
   "execution_count": 13,
   "metadata": {},
   "outputs": [
    {
     "ename": "TypeError",
     "evalue": "Inputs must be numbers.",
     "output_type": "error",
     "traceback": [
      "\u001b[0;31m---------------------------------------------------------------------------\u001b[0m",
      "\u001b[0;31mTypeError\u001b[0m                                 Traceback (most recent call last)",
      "\u001b[0;32m<ipython-input-13-c3e353c636b0>\u001b[0m in \u001b[0;36m<module>\u001b[0;34m\u001b[0m\n\u001b[0;32m----> 1\u001b[0;31m \u001b[0mx\u001b[0m \u001b[0;34m=\u001b[0m \u001b[0mmy_adder\u001b[0m\u001b[0;34m(\u001b[0m\u001b[0;34m'1'\u001b[0m\u001b[0;34m,\u001b[0m\u001b[0;34m'2'\u001b[0m\u001b[0;34m,\u001b[0m\u001b[0;34m'3'\u001b[0m\u001b[0;34m)\u001b[0m\u001b[0;34m\u001b[0m\u001b[0;34m\u001b[0m\u001b[0m\n\u001b[0m\u001b[1;32m      2\u001b[0m \u001b[0mprint\u001b[0m\u001b[0;34m(\u001b[0m\u001b[0mx\u001b[0m\u001b[0;34m)\u001b[0m\u001b[0;34m\u001b[0m\u001b[0;34m\u001b[0m\u001b[0m\n",
      "\u001b[0;32m<ipython-input-11-0f3d29eecee0>\u001b[0m in \u001b[0;36mmy_adder\u001b[0;34m(a, b, c)\u001b[0m\n\u001b[1;32m     10\u001b[0m             \u001b[0;32mor\u001b[0m \u001b[0misinstance\u001b[0m\u001b[0;34m(\u001b[0m\u001b[0mb\u001b[0m\u001b[0;34m,\u001b[0m \u001b[0;34m(\u001b[0m\u001b[0mint\u001b[0m\u001b[0;34m,\u001b[0m \u001b[0mfloat\u001b[0m\u001b[0;34m)\u001b[0m\u001b[0;34m)\u001b[0m\u001b[0;31m \u001b[0m\u001b[0;31m\\\u001b[0m\u001b[0;34m\u001b[0m\u001b[0;34m\u001b[0m\u001b[0m\n\u001b[1;32m     11\u001b[0m             or isinstance(c, (int, float))):\n\u001b[0;32m---> 12\u001b[0;31m         \u001b[0;32mraise\u001b[0m \u001b[0mTypeError\u001b[0m\u001b[0;34m(\u001b[0m\u001b[0;34m'Inputs must be numbers.'\u001b[0m\u001b[0;34m)\u001b[0m\u001b[0;34m\u001b[0m\u001b[0;34m\u001b[0m\u001b[0m\n\u001b[0m\u001b[1;32m     13\u001b[0m     \u001b[0;31m# Return output\u001b[0m\u001b[0;34m\u001b[0m\u001b[0;34m\u001b[0m\u001b[0;34m\u001b[0m\u001b[0m\n\u001b[1;32m     14\u001b[0m     \u001b[0;32mreturn\u001b[0m \u001b[0ma\u001b[0m \u001b[0;34m+\u001b[0m \u001b[0mb\u001b[0m \u001b[0;34m+\u001b[0m \u001b[0mc\u001b[0m\u001b[0;34m\u001b[0m\u001b[0;34m\u001b[0m\u001b[0m\n",
      "\u001b[0;31mTypeError\u001b[0m: Inputs must be numbers."
     ]
    }
   ],
   "source": [
    "x = my_adder('1','2','3')\n",
    "print(x)"
   ]
  },
  {
   "cell_type": "markdown",
   "metadata": {
    "lang": "fr"
   },
   "source": [
    "Il existe une grande variété d'entrées erronées que votre fonction peut rencontrer de la part des utilisateurs, et il n'est pas raisonnable de s'attendre à ce que votre fonction les détecte toutes. Par conséquent, sauf indication contraire, écrivez vos fonctions en supposant qu'elles seront utilisées correctement.\n",
    "\n",
    "Le reste de la section donne quelques exemples supplémentaires d'instructions de branchement."
   ]
  },
  {
   "cell_type": "markdown",
   "metadata": {
    "lang": "fr"
   },
   "source": [
    "**ESSAYEZ-LE !** Écrivez une fonction appelée is_odd qui renvoie « impair » si l'entrée est impaire et « paire » si elle est paire. Vous pouvez supposer que l’entrée sera un entier positif."
   ]
  },
  {
   "cell_type": "code",
   "execution_count": 14,
   "metadata": {},
   "outputs": [],
   "source": [
    "def is_odd(number):\n",
    "    \"\"\"\n",
    "    function returns 'odd' if the input is odd, \n",
    "       'even' otherwise\n",
    "    author\n",
    "    date\n",
    "    :type number: Int\n",
    "    :rtype: String\n",
    "    \"\"\"\n",
    "    # use modulo to check if the input is divisible by 2\n",
    "    if number % 2 == 0:\n",
    "        # if it is divisible by 2, then input is not odd\n",
    "        return 'even'\n",
    "    else:\n",
    "        return 'odd'"
   ]
  },
  {
   "cell_type": "code",
   "execution_count": 15,
   "metadata": {},
   "outputs": [
    {
     "data": {
      "text/plain": [
       "'odd'"
      ]
     },
     "execution_count": 15,
     "metadata": {},
     "output_type": "execute_result"
    }
   ],
   "source": [
    "is_odd(11)"
   ]
  },
  {
   "cell_type": "code",
   "execution_count": 16,
   "metadata": {},
   "outputs": [
    {
     "data": {
      "text/plain": [
       "'even'"
      ]
     },
     "execution_count": 16,
     "metadata": {},
     "output_type": "execute_result"
    }
   ],
   "source": [
    "is_odd(2)"
   ]
  },
  {
   "cell_type": "markdown",
   "metadata": {
    "lang": "fr"
   },
   "source": [
    "**ESSAYEZ-LE !** Écrivez une fonction appelée *my_circ_calc* qui prend un nombre numérique, *r*, et une chaîne, *calc* comme arguments d'entrée. . Vous pouvez supposer que r est positif et que *calc* est soit la chaîne « zone » ou « circonférence ». La fonction *my_circ_calc* doit calculer l'aire d'un cercle de rayon, *r*, si la chaîne *calc* est 'aire', et la circonférence d'un cercle de rayon , *r*, si *calc* est 'circonférence'."
   ]
  },
  {
   "cell_type": "code",
   "execution_count": 17,
   "metadata": {},
   "outputs": [
    {
     "data": {
      "text/plain": [
       "3.141592653589793"
      ]
     },
     "execution_count": 17,
     "metadata": {},
     "output_type": "execute_result"
    }
   ],
   "source": [
    "np.pi"
   ]
  },
  {
   "cell_type": "code",
   "execution_count": 18,
   "metadata": {},
   "outputs": [],
   "source": [
    "def my_circ_calc(r, calc):\n",
    "    \"\"\"\n",
    "    Calculate various circle measurements\n",
    "    author\n",
    "    date\n",
    "    :type r: Int or Float\n",
    "    :type calc: String\n",
    "    :rtype: Int or Float\n",
    "    \"\"\"\n",
    "    if calc == 'area':\n",
    "        return np.pi*r**2\n",
    "    elif calc == 'circumference':\n",
    "        return 2*np.pi*r"
   ]
  },
  {
   "cell_type": "code",
   "execution_count": 19,
   "metadata": {},
   "outputs": [
    {
     "data": {
      "text/plain": [
       "19.634954084936208"
      ]
     },
     "execution_count": 19,
     "metadata": {},
     "output_type": "execute_result"
    }
   ],
   "source": [
    "my_circ_calc(2.5, 'area')"
   ]
  },
  {
   "cell_type": "code",
   "execution_count": 20,
   "metadata": {},
   "outputs": [
    {
     "data": {
      "text/plain": [
       "18.84955592153876"
      ]
     },
     "execution_count": 20,
     "metadata": {},
     "output_type": "execute_result"
    }
   ],
   "source": [
    "my_circ_calc(3, 'circumference')"
   ]
  },
  {
   "cell_type": "markdown",
   "metadata": {
    "lang": "fr"
   },
   "source": [
    "**Remarque !** La fonction que nous écrivons fonctionne non seulement sur une valeur unique, mais également sur les tableaux Numpy (c'est-à-dire que la même opération s'appliquera à chaque élément du tableau). Voir l'exemple suivant, où nous pourrions calculer les circonférences du rayon comme [2, 3, 4] à l'aide d'un tableau Numpy."
   ]
  },
  {
   "cell_type": "code",
   "execution_count": 21,
   "metadata": {},
   "outputs": [
    {
     "data": {
      "text/plain": [
       "array([12.56637061, 18.84955592, 25.13274123])"
      ]
     },
     "execution_count": 21,
     "metadata": {},
     "output_type": "execute_result"
    }
   ],
   "source": [
    "my_circ_calc(np.array([2, 3, 4]), 'circumference')"
   ]
  },
  {
   "cell_type": "markdown",
   "metadata": {},
   "source": [
    "<!--NAVIGATION-->\n",
    "< [CHAPTER 4. Branching Statements](chapter04.00-Branching-Statements.ipynb) | [Contents](Index.ipynb) | [4.2 Ternary Operators](chapter04.02-Ternary-Operators.ipynb) >"
   ]
  }
 ],
 "metadata": {
  "kernelspec": {
   "display_name": "Python 3 (ipykernel)",
   "language": "python",
   "name": "python3"
  },
  "language_info": {
   "codemirror_mode": {
    "name": "ipython",
    "version": 3
   },
   "file_extension": ".py",
   "mimetype": "text/x-python",
   "name": "python",
   "nbconvert_exporter": "python",
   "pygments_lexer": "ipython3",
   "version": "3.11.7"
  },
  "nbTranslate": {
   "displayLangs": [
    "*"
   ],
   "hotkey": "alt-t",
   "langInMainMenu": true,
   "sourceLang": "en",
   "targetLang": "fr",
   "useGoogleTranslate": true
  }
 },
 "nbformat": 4,
 "nbformat_minor": 2
}
