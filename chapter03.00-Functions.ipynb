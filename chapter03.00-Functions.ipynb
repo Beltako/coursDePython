{
 "cells": [
  {
   "cell_type": "markdown",
   "metadata": {
    "button": false,
    "new_sheet": false,
    "run_control": {
     "read_only": false
    }
   },
   "source": [
    "<!--BOOK_INFORMATION-->\n",
    "<img align=\"left\" style=\"padding-right:10px;\" src=\"images/book_cover.jpg\" width=\"120\">\n",
    "\n",
    "*Ce cahier contient un extrait de [Programmation Python et méthodes numériques - Un guide pour les ingénieurs et les scientifiques](https://pythonnumericalmethods.berkeley.edu/notebooks/Index.html), le contenu est également disponible sur [Berkeley Python Numerical Methods](https://pythonnumericalmethods.berkeley.edu/notebooks/Index.html).*\n",
    "\n",
    "*Les droits d'auteur du livre appartiennent à Elsevier. Nous avons également ce livre interactif en ligne pour une meilleure expérience d'apprentissage. Le code est publié sous la [licence MIT](https://opensource.org/licenses/MIT). Si vous trouvez ce contenu utile, pensez à soutenir le travail sur [Elsevier](https://www.elsevier.com/books/python-programming-and-numerical-methods/kong/978-0-12-819549-9) ou [Amazon](https://www.amazon.com/Python-Programming-Numerical-Methods-Scientists/dp/0128195495/ref=sr_1_1?dchild=1&keywords=Python+Programming+and+Numerical+Methods+-+A+Guide+for+Engineers+and+Scientists&qid=1604761352&sr=8-1) !*"
   ]
  },
  {
   "cell_type": "markdown",
   "metadata": {
    "button": false,
    "new_sheet": false,
    "run_control": {
     "read_only": false
    }
   },
   "source": [
    "<!--NAVIGATION-->\n",
    "< [Chapter 2 Summary and Problems](chapter02.08-Summary-and-Problems.ipynb) | [Contents](Index.ipynb) | [3.1 Function Basics](chapter03.01-Function-Basics.ipynb) >"
   ]
  },
  {
   "cell_type": "markdown",
   "metadata": {
    "lang": "fr"
   },
   "source": [
    "# Chapitre 3. Fonctions"
   ]
  },
  {
   "cell_type": "markdown",
   "metadata": {
    "lang": "fr"
   },
   "source": [
    "#### SOMMAIRE\n",
    "\n",
    "---\n",
    "\n",
    "* [**3.1 Bases des fonctions**](chapter03.01-Function-Basics.ipynb)\n",
    "* [**3.2 Variables locales et variables globales**](chapter03.02-Local-Variables-and-Global-Variables.ipynb)\n",
    "* [**3.3 Fonctions imbriquées**](chapter03.03-Nested-Functions.ipynb)\n",
    "* [**3.4 Fonctions Lambda**](chapter03.04-Lambda-Functions.ipynb)\n",
    "* [**3.5 Fonctions comme arguments des fonctions**](chapitre03.05-Functions-as-Arguments-to-Functions.ipynb)\n",
    "* [**3.6 Résumé et problèmes**](chapter03.06-Summary-and-Problems.ipynb)"
   ]
  },
  {
   "cell_type": "markdown",
   "metadata": {
    "lang": "fr"
   },
   "source": [
    "---\n",
    "\n",
    "## Motivation\n",
    "\n",
    "La programmation nécessite souvent de répéter un ensemble de tâches encore et encore. Par exemple, la fonction *math.sin* en Python est un ensemble de tâches (c'est-à-dire des opérations mathématiques) qui calcule une approximation de *sin (x)*. Plutôt que de devoir retaper ou copier ces instructions à chaque fois que vous souhaitez utiliser la fonction *sin*, il est utile de stocker cette séquence d'instructions sous forme de fonction que vous pouvez appeler encore et encore.\n",
    "\n",
    "L'écriture de vos propres fonctions est au centre de ce chapitre et constitue l'utilisation la plus puissante de la programmation informatique. À la fin de ce chapitre, vous devriez être capable de déclarer, écrire, stocker et appeler vos propres fonctions.\n",
    "\n",
    "---"
   ]
  }
 ],
 "metadata": {
  "kernelspec": {
   "display_name": "Python 3 (ipykernel)",
   "language": "python",
   "name": "python3"
  },
  "language_info": {
   "codemirror_mode": {
    "name": "ipython",
    "version": 3
   },
   "file_extension": ".py",
   "mimetype": "text/x-python",
   "name": "python",
   "nbconvert_exporter": "python",
   "pygments_lexer": "ipython3",
   "version": "3.11.7"
  },
  "nbTranslate": {
   "displayLangs": [
    "*"
   ],
   "hotkey": "alt-t",
   "langInMainMenu": true,
   "sourceLang": "en",
   "targetLang": "fr",
   "useGoogleTranslate": true
  }
 },
 "nbformat": 4,
 "nbformat_minor": 2
}
