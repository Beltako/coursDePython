{
 "cells": [
  {
   "cell_type": "markdown",
   "metadata": {
    "button": false,
    "new_sheet": false,
    "run_control": {
     "read_only": false
    }
   },
   "source": [
    "<!--BOOK_INFORMATION-->\n",
    "<img align=\"left\" style=\"padding-right:10px;\" src=\"images/book_cover.jpg\" width=\"120\">\n",
    "\n",
    "*Ce cahier contient un extrait de [Programmation Python et méthodes numériques - Un guide pour les ingénieurs et les scientifiques](https://pythonnumericalmethods.berkeley.edu/notebooks/Index.html), le contenu est également disponible sur [Berkeley Python Numerical Methods](https://pythonnumericalmethods.berkeley.edu/notebooks/Index.html).*\n",
    "\n",
    "*Les droits d'auteur du livre appartiennent à Elsevier. Nous avons également ce livre interactif en ligne pour une meilleure expérience d'apprentissage. Le code est publié sous la [licence MIT](https://opensource.org/licenses/MIT). Si vous trouvez ce contenu utile, pensez à soutenir le travail sur [Elsevier](https://www.elsevier.com/books/python-programming-and-numerical-methods/kong/978-0-12-819549-9) ou [Amazon](https://www.amazon.com/Python-Programming-Numerical-Methods-Scientists/dp/0128195495/ref=sr_1_1?dchild=1&keywords=Python+Programming+and+Numerical+Methods+-+A+Guide+for+Engineers+and+Scientists&qid=1604761352&sr=8-1) !*"
   ]
  },
  {
   "cell_type": "markdown",
   "metadata": {
    "button": false,
    "new_sheet": false,
    "run_control": {
     "read_only": false
    }
   },
   "source": [
    "<!--NAVIGATION-->\n",
    "< [3.1 Function Basics](chapter03.01-Function-Basics.ipynb) | [Contents](Index.ipynb) | [3.3 Nested Functions](chapter03.03-Nested-Functions.ipynb) >"
   ]
  },
  {
   "cell_type": "markdown",
   "metadata": {
    "lang": "fr"
   },
   "source": [
    "# Variables locales et variables globales"
   ]
  },
  {
   "cell_type": "markdown",
   "metadata": {
    "lang": "fr"
   },
   "source": [
    "Le chapitre 2 a introduit l'idée de la mémoire associée au notebook où sont stockées les variables créées dans le notebook. Une fonction possède également son propre bloc mémoire réservé aux variables créées dans cette fonction. Ce bloc de mémoire n'est pas partagé avec l'ensemble du bloc de mémoire du portable. Par conséquent, une variable portant un nom donné peut être affectée au sein d’une fonction sans modifier une variable portant le même nom en dehors de la fonction. Le bloc mémoire associé à la fonction est ouvert à chaque utilisation d'une fonction.\n",
    "\n",
    "**ESSAYEZ-LE !** Quelle sera la valeur de *out* une fois les lignes de code suivantes exécutées ? Notez qu'il ne s'agit pas de 6, qui est la valeur *out* qui est attribuée à l'intérieur de *my_adder*."
   ]
  },
  {
   "cell_type": "code",
   "execution_count": 1,
   "metadata": {},
   "outputs": [
    {
     "name": "stdout",
     "output_type": "stream",
     "text": [
      "The value out within the function is 6\n",
      "The value out outside the function is 1\n"
     ]
    }
   ],
   "source": [
    "def my_adder(a, b, c):\n",
    "    out = a + b + c\n",
    "    print(f'The value out within the function is {out}')\n",
    "    return out\n",
    "\n",
    "out = 1\n",
    "d = my_adder(1, 2, 3)\n",
    "print(f'The value out outside the function is {out}')"
   ]
  },
  {
   "cell_type": "markdown",
   "metadata": {
    "lang": "fr"
   },
   "source": [
    "Dans *my_adder*, la variable *out* est une **variable locale**. Autrement dit, il n'est défini que dans la fonction de *my_adder*. Par conséquent, cela ne peut pas affecter les variables en dehors de la fonction, et les actions entreprises dans le notebook en dehors de la fonction ne peuvent pas l'affecter, même si elles portent le même nom. Ainsi, dans l'exemple précédent, il existe une variable, *out*, définie dans la cellule du notebook. Lorsque *my_adder* est appelé sur la ligne suivante, Python ouvre un nouveau bloc mémoire pour les variables de cette fonction. L'une des variables créées dans la fonction est une autre variable, *out*. Cependant, comme ils se trouvent dans des blocs de mémoire différents, l'affectation à *out* à l'intérieur de *my_adder* ne modifie pas la valeur attribuée à *out* en dehors de la fonction.\n",
    "\n",
    "Pourquoi avoir des blocs de mémoire de fonctions séparés plutôt qu'un seul bloc de mémoire ? Bien que cela puisse sembler très difficile pour Python de séparer les blocs de mémoire, cette méthode est très efficace pour les grands projets composés de nombreuses fonctions travaillant ensemble. Si un programmeur est chargé de créer une fonction et un autre de créer une fonction différente, nous ne voudrions pas que chaque programmeur ait à se soucier des noms de variables que l'autre utilise. Nous voulons qu'ils soient capables de travailler de manière indépendante et qu'ils soient sûrs que leur propre travail n'interfère pas avec celui des autres et vice versa. Par conséquent, des blocs de mémoire séparés protègent une fonction des influences extérieures. Les seules choses extérieures au bloc mémoire de la fonction qui peuvent affecter ce qui se passe à l'intérieur d'une fonction sont les arguments d'entrée, et les seules choses qui peuvent s'échapper vers le monde extérieur depuis le bloc mémoire d'une fonction lorsque la fonction se termine sont les arguments de sortie.\n",
    "\n",
    "Les exemples suivants sont conçus pour être des exercices sur le concept de variables locales. Ils sont intentionnellement très déroutants, mais si vous parvenez à les démêler, vous comprendrez probablement la variable locale au sein d'une fonction. Concentrez-vous exactement sur ce que fait Python, dans l'ordre dans lequel Python le fait.\n",
    "\n",
    "**EXEMPLE :** Considérez la fonction suivante :"
   ]
  },
  {
   "cell_type": "code",
   "execution_count": 2,
   "metadata": {},
   "outputs": [],
   "source": [
    "def my_test(a, b):\n",
    "    x = a + b\n",
    "    y = x * b\n",
    "    z = a + b\n",
    "    \n",
    "    m = 2\n",
    "    \n",
    "    print(f'Within function: x={x}, y={y}, z={z}')\n",
    "    return x, y"
   ]
  },
  {
   "cell_type": "markdown",
   "metadata": {
    "lang": "fr"
   },
   "source": [
    "**ESSAYEZ-LE !** Quelle sera la valeur de a, b, x, y et z une fois le code suivant exécuté ?"
   ]
  },
  {
   "cell_type": "code",
   "execution_count": 3,
   "metadata": {},
   "outputs": [
    {
     "name": "stdout",
     "output_type": "stream",
     "text": [
      "Within function: x=5, y=10, z=5\n",
      "Outside function: x=10, y=5, z=1\n"
     ]
    }
   ],
   "source": [
    "a = 2\n",
    "b = 3\n",
    "z = 1\n",
    "y, x = my_test(b, a)\n",
    "\n",
    "print(f'Outside function: x={x}, y={y}, z={z}')"
   ]
  },
  {
   "cell_type": "markdown",
   "metadata": {
    "lang": "fr"
   },
   "source": [
    "**ESSAYEZ-LE !** Quelle sera la valeur de a, b, x, y et z une fois le code suivant exécuté ?"
   ]
  },
  {
   "cell_type": "code",
   "execution_count": 4,
   "metadata": {},
   "outputs": [
    {
     "name": "stdout",
     "output_type": "stream",
     "text": [
      "Within function: x=8, y=24, z=8\n",
      "Outside function: x=5, y=3, z=1\n"
     ]
    }
   ],
   "source": [
    "x = 5\n",
    "y = 3\n",
    "b, a = my_test(x, y)\n",
    "\n",
    "print(f'Outside function: x={x}, y={y}, z={z}')"
   ]
  },
  {
   "cell_type": "markdown",
   "metadata": {
    "lang": "fr"
   },
   "source": [
    "**ESSAYEZ-LE !** Quelle sera la valeur de m si vous imprimez *m* en dehors de la fonction ?"
   ]
  },
  {
   "cell_type": "code",
   "execution_count": 5,
   "metadata": {},
   "outputs": [
    {
     "ename": "NameError",
     "evalue": "name 'm' is not defined",
     "output_type": "error",
     "traceback": [
      "\u001b[0;31m---------------------------------------------------------------------------\u001b[0m",
      "\u001b[0;31mNameError\u001b[0m                                 Traceback (most recent call last)",
      "\u001b[0;32m<ipython-input-5-9a40b379906c>\u001b[0m in \u001b[0;36m<module>\u001b[0;34m\u001b[0m\n\u001b[0;32m----> 1\u001b[0;31m \u001b[0mm\u001b[0m\u001b[0;34m\u001b[0m\u001b[0;34m\u001b[0m\u001b[0m\n\u001b[0m",
      "\u001b[0;31mNameError\u001b[0m: name 'm' is not defined"
     ]
    }
   ],
   "source": [
    "m"
   ]
  },
  {
   "cell_type": "markdown",
   "metadata": {
    "lang": "fr"
   },
   "source": [
    "On voit que la valeur *m* n'est pas définie en dehors de la fonction, puisqu'elle est définie au sein de la fonction. L'inverse est similaire, par exemple, si vous définissez une variable en dehors d'une fonction, mais que vous souhaitez l'utiliser à l'intérieur de la fonction et modifier la valeur, vous obtiendrez la même erreur.\n",
    "\n",
    "**EXEMPLE :** Essayez d'utiliser et de modifier la valeur *n* dans la fonction."
   ]
  },
  {
   "cell_type": "code",
   "execution_count": 6,
   "metadata": {},
   "outputs": [
    {
     "ename": "UnboundLocalError",
     "evalue": "local variable 'n' referenced before assignment",
     "output_type": "error",
     "traceback": [
      "\u001b[0;31m---------------------------------------------------------------------------\u001b[0m",
      "\u001b[0;31mUnboundLocalError\u001b[0m                         Traceback (most recent call last)",
      "\u001b[0;32m<ipython-input-6-85f3215553ae>\u001b[0m in \u001b[0;36m<module>\u001b[0;34m\u001b[0m\n\u001b[1;32m      6\u001b[0m     \u001b[0mprint\u001b[0m\u001b[0;34m(\u001b[0m\u001b[0;34mf'Within function: change n to {n}'\u001b[0m\u001b[0;34m)\u001b[0m\u001b[0;34m\u001b[0m\u001b[0;34m\u001b[0m\u001b[0m\n\u001b[1;32m      7\u001b[0m \u001b[0;34m\u001b[0m\u001b[0m\n\u001b[0;32m----> 8\u001b[0;31m \u001b[0mfunc\u001b[0m\u001b[0;34m(\u001b[0m\u001b[0;34m)\u001b[0m\u001b[0;34m\u001b[0m\u001b[0;34m\u001b[0m\u001b[0m\n\u001b[0m\u001b[1;32m      9\u001b[0m \u001b[0mprint\u001b[0m\u001b[0;34m(\u001b[0m\u001b[0;34mf'Outside function: Value of n is {n}'\u001b[0m\u001b[0;34m)\u001b[0m\u001b[0;34m\u001b[0m\u001b[0;34m\u001b[0m\u001b[0m\n",
      "\u001b[0;32m<ipython-input-6-85f3215553ae>\u001b[0m in \u001b[0;36mfunc\u001b[0;34m()\u001b[0m\n\u001b[1;32m      2\u001b[0m \u001b[0;34m\u001b[0m\u001b[0m\n\u001b[1;32m      3\u001b[0m \u001b[0;32mdef\u001b[0m \u001b[0mfunc\u001b[0m\u001b[0;34m(\u001b[0m\u001b[0;34m)\u001b[0m\u001b[0;34m:\u001b[0m\u001b[0;34m\u001b[0m\u001b[0;34m\u001b[0m\u001b[0m\n\u001b[0;32m----> 4\u001b[0;31m     \u001b[0mprint\u001b[0m\u001b[0;34m(\u001b[0m\u001b[0;34mf'Within function: n is {n}'\u001b[0m\u001b[0;34m)\u001b[0m\u001b[0;34m\u001b[0m\u001b[0;34m\u001b[0m\u001b[0m\n\u001b[0m\u001b[1;32m      5\u001b[0m     \u001b[0mn\u001b[0m \u001b[0;34m=\u001b[0m \u001b[0;36m3\u001b[0m\u001b[0;34m\u001b[0m\u001b[0;34m\u001b[0m\u001b[0m\n\u001b[1;32m      6\u001b[0m     \u001b[0mprint\u001b[0m\u001b[0;34m(\u001b[0m\u001b[0;34mf'Within function: change n to {n}'\u001b[0m\u001b[0;34m)\u001b[0m\u001b[0;34m\u001b[0m\u001b[0;34m\u001b[0m\u001b[0m\n",
      "\u001b[0;31mUnboundLocalError\u001b[0m: local variable 'n' referenced before assignment"
     ]
    }
   ],
   "source": [
    "n = 42\n",
    "\n",
    "def func():\n",
    "    print(f'Within function: n is {n}')\n",
    "    n = 3\n",
    "    print(f'Within function: change n to {n}')\n",
    "\n",
    "func()\n",
    "print(f'Outside function: Value of n is {n}')"
   ]
  },
  {
   "cell_type": "markdown",
   "metadata": {
    "lang": "fr"
   },
   "source": [
    "La solution consiste à utiliser le mot-clé **global** pour faire savoir à Python que cette variable est une variable globale et qu'elle peut être utilisée à la fois à l'extérieur et à l'intérieur de la fonction.\n",
    "\n",
    "**EXEMPLE :** Définissez n comme variable globale, puis utilisez et modifiez la valeur n dans la fonction."
   ]
  },
  {
   "cell_type": "code",
   "execution_count": 7,
   "metadata": {},
   "outputs": [
    {
     "name": "stdout",
     "output_type": "stream",
     "text": [
      "Within function: n is 42\n",
      "Within function: change n to 3\n",
      "Outside function: Value of n is 3\n"
     ]
    }
   ],
   "source": [
    "n = 42\n",
    "\n",
    "def func():\n",
    "    global n\n",
    "    print(f'Within function: n is {n}')\n",
    "    n = 3\n",
    "    print(f'Within function: change n to {n}')\n",
    "\n",
    "func()\n",
    "print(f'Outside function: Value of n is {n}')"
   ]
  },
  {
   "cell_type": "markdown",
   "metadata": {
    "button": false,
    "new_sheet": false,
    "run_control": {
     "read_only": false
    }
   },
   "source": [
    "<!--NAVIGATION-->\n",
    "< [3.1 Function Basics](chapter03.01-Function-Basics.ipynb) | [Contents](Index.ipynb) | [3.3 Nested Functions](chapter03.03-Nested-Functions.ipynb) >"
   ]
  }
 ],
 "metadata": {
  "kernelspec": {
   "display_name": "Python 3 (ipykernel)",
   "language": "python",
   "name": "python3"
  },
  "language_info": {
   "codemirror_mode": {
    "name": "ipython",
    "version": 3
   },
   "file_extension": ".py",
   "mimetype": "text/x-python",
   "name": "python",
   "nbconvert_exporter": "python",
   "pygments_lexer": "ipython3",
   "version": "3.11.7"
  },
  "nbTranslate": {
   "displayLangs": [
    "*"
   ],
   "hotkey": "alt-t",
   "langInMainMenu": true,
   "sourceLang": "en",
   "targetLang": "fr",
   "useGoogleTranslate": true
  }
 },
 "nbformat": 4,
 "nbformat_minor": 2
}
