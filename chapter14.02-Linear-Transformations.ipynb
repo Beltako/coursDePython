{
 "cells": [
  {
   "cell_type": "markdown",
   "metadata": {
    "button": false,
    "new_sheet": false,
    "run_control": {
     "read_only": false
    }
   },
   "source": [
    "<!--BOOK_INFORMATION-->\n",
    "<img align=\"left\" style=\"padding-right:10px;\" src=\"images/book_cover.jpg\" width=\"120\">\n",
    "\n",
    "*Ce cahier contient un extrait de [Programmation Python et méthodes numériques - Un guide pour les ingénieurs et les scientifiques](https://pythonnumericalmethods.berkeley.edu/notebooks/Index.html), le contenu est également disponible sur [Berkeley Python Numerical Methods](https://pythonnumericalmethods.berkeley.edu/notebooks/Index.html).*\n",
    "\n",
    "*Les droits d'auteur du livre appartiennent à Elsevier. Nous avons également ce livre interactif en ligne pour une meilleure expérience d'apprentissage. Le code est publié sous la [licence MIT](https://opensource.org/licenses/MIT). Si vous trouvez ce contenu utile, pensez à soutenir le travail sur [Elsevier](https://www.elsevier.com/books/python-programming-and-numerical-methods/kong/978-0-12-819549-9) ou [Amazon](https://www.amazon.com/Python-Programming-Numerical-Methods-Scientists/dp/0128195495/ref=sr_1_1?dchild=1&keywords=Python+Programming+and+Numerical+Methods+-+A+Guide+for+Engineers+and+Scientists&qid=1604761352&sr=8-1) !*"
   ]
  },
  {
   "cell_type": "markdown",
   "metadata": {
    "button": false,
    "new_sheet": false,
    "run_control": {
     "read_only": false
    }
   },
   "source": [
    "<!--NAVIGATION-->\n",
    "< [14.1 Basics of Linear Algebra](chapter14.01-Basics-of-Linear-Algebra.ipynb) | [Contents](Index.ipynb) | [14.3 Systems of Linear Equations](chapter14.03-Systems-of-Linear-Equations.ipynb) >"
   ]
  },
  {
   "cell_type": "markdown",
   "metadata": {
    "lang": "fr"
   },
   "source": [
    "# Transformations linéaires"
   ]
  },
  {
   "cell_type": "markdown",
   "metadata": {
    "lang": "fr"
   },
   "source": [
    "Pour les vecteurs $x$ et $y$, et les scalaires $a$ et $b$, il suffit de dire qu'une fonction, $F$, est une **transformation linéaire** si\n",
    "\n",
    "$$\n",
    "F(ax + by) = aF(x) + bF(y).\n",
    "$$\n",
    "\n",
    "On peut montrer que la multiplication d’une matrice ${m} \\times {n}$, $A$, et d’un vecteur ${n} \\times {1}$, $v$, de taille compatible est une transformation linéaire de $v$. Par conséquent, à partir de maintenant, une matrice sera synonyme de fonction de transformation linéaire.\n",
    "\n",
    "**ESSAYEZ-LE !** Laissez $x$ être un vecteur et laissez $F(x)$ être défini par $F(x) = Ax$ où $A$ est une matrice rectangulaire de taille appropriée. Montrer que $F(x)$ est une transformation linéaire.\n",
    "\n",
    "Preuve:\n",
    "Depuis $F(x) = Ax$, alors\n",
    "pour les vecteurs $v$ et $w$, et les scalaires $a$ et $b$, $F(av +\n",
    "bw) = A(av + bw)$ (par définition de $F$) $=$$aAv + bAw$ (by\n",
    "distributive property of matrix multiplication)$=$$aF(v) +\n",
    "bF(w)$ (par définition de $F$).\n",
    "\n",
    "Si $A$ est une matrice ${m} \\times {n}$, alors il y a deux sous-espaces importants associés à $A$, l'un est ${\\mathbb{R}}^n$, l'autre est ${\\mathbb{R}}^m$. Le **domain** de $A$ est un sous-espace de ${\\mathbb{R}}^n$. C'est l'ensemble de tous les vecteurs pouvant être multipliés par $A$ à droite. La **range** de $A$ est un sous-espace de ${\\mathbb{R}}^m$. C'est l'ensemble de tous les vecteurs $y$ tels que $y=Ax$. Il peut être noté $\\mathcal{R}(\\mathbf{A})$, où $\\mathcal{R}(\\mathbf{A}) = \\{y \\in {\\mathbb{R}}^m: Ax = y\\}$. Une autre façon de considérer la plage de $A$ est l'ensemble de toutes les combinaisons linéaires des colonnes de $A$, où $x_i$ est le coefficient de la ième colonne de $A$. L'**espace nul** de $A$, défini comme $\\mathcal{N}(\\mathbf{A}) = \\{x \\in {\\mathbb{R}}^n: Ax = 0_m\\}$, est le sous-ensemble de vecteurs dans le domaine de $A, x$, tel que $Ax = 0_m$, où $0_m$ est le **vecteur zéro** (c'est-à-dire, un vecteur dans ${\\mathbb{R}}^m$ avec tous des zéros).\n",
    "\n",
    "**ESSAYEZ-LE !** Laissez $A = [[1, 0, 0], [0, 1, 0], [0, 0, 0]]$ et laissez le domaine de $A$ être ${\\mathbb{R}}^3$. Caractérisez la plage et l'espace nul de $A$.\n",
    "  \n",
    "Soit $v = [x,y,z]$ un vecteur dans ${\\mathbb{R}}^3$. Alors $u = Av$ est le vecteur $u = [x,y,0]$. Depuis $x,y\\in {\\mathbb{R}}$, la plage de $A$ est le plan $x$-$y$ en $z = 0$.\n",
    "\n",
    "Laissez $v = [0,0,z]$ pour $z\\in {\\mathbb{R}}$. Alors $u = Av$ est le vecteur $u = [0, 0, 0]$. Par conséquent, l’espace nul de $A$ est l’axe $z$ (c’est-à-dire l’ensemble des vecteurs $[0,0,z]$ $z\\in {\\mathbb{R}}$).\n",
    "\n",
    "Par conséquent, cette transformation linéaire « aplatit » toute composante $z$ d’un vecteur."
   ]
  },
  {
   "cell_type": "markdown",
   "metadata": {
    "button": false,
    "new_sheet": false,
    "run_control": {
     "read_only": false
    }
   },
   "source": [
    "<!--NAVIGATION-->\n",
    "< [14.1 Basics of Linear Algebra](chapter14.01-Basics-of-Linear-Algebra.ipynb) | [Contents](Index.ipynb) | [14.3 Systems of Linear Equations](chapter14.03-Systems-of-Linear-Equations.ipynb) >"
   ]
  }
 ],
 "metadata": {
  "kernelspec": {
   "display_name": "Python 3 (ipykernel)",
   "language": "python",
   "name": "python3"
  },
  "language_info": {
   "codemirror_mode": {
    "name": "ipython",
    "version": 3
   },
   "file_extension": ".py",
   "mimetype": "text/x-python",
   "name": "python",
   "nbconvert_exporter": "python",
   "pygments_lexer": "ipython3",
   "version": "3.11.7"
  },
  "nbTranslate": {
   "displayLangs": [
    "*"
   ],
   "hotkey": "alt-t",
   "langInMainMenu": true,
   "sourceLang": "en",
   "targetLang": "fr",
   "useGoogleTranslate": true
  }
 },
 "nbformat": 4,
 "nbformat_minor": 2
}
