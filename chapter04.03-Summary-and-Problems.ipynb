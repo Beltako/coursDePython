{
 "cells": [
  {
   "cell_type": "markdown",
   "metadata": {},
   "source": [
    "<!--BOOK_INFORMATION-->\n",
    "<img align=\"left\" style=\"padding-right:10px;\" src=\"images/book_cover.jpg\" width=\"120\">\n",
    "\n",
    "*Ce cahier contient un extrait de [Programmation Python et méthodes numériques - Un guide pour les ingénieurs et les scientifiques](https://pythonnumericalmethods.berkeley.edu/notebooks/Index.html), le contenu est également disponible sur [Berkeley Python Numerical Methods](https://pythonnumericalmethods.berkeley.edu/notebooks/Index.html).*\n",
    "\n",
    "*Les droits d'auteur du livre appartiennent à Elsevier. Nous avons également ce livre interactif en ligne pour une meilleure expérience d'apprentissage. Le code est publié sous la [licence MIT](https://opensource.org/licenses/MIT). Si vous trouvez ce contenu utile, pensez à soutenir le travail sur [Elsevier](https://www.elsevier.com/books/python-programming-and-numerical-methods/kong/978-0-12-819549-9) ou [Amazon](https://www.amazon.com/Python-Programming-Numerical-Methods-Scientists/dp/0128195495/ref=sr_1_1?dchild=1&keywords=Python+Programming+and+Numerical+Methods+-+A+Guide+for+Engineers+and+Scientists&qid=1604761352&sr=8-1) !*"
   ]
  },
  {
   "cell_type": "markdown",
   "metadata": {},
   "source": [
    "<!--NAVIGATION-->\n",
    "< [4.2 Ternary Operators](chapter04.02-Ternary-Operators.ipynb)| [Contents](Index.ipynb) | [5.0 Iteration](chapter05.00-Iteration.ipynb) >"
   ]
  },
  {
   "cell_type": "markdown",
   "metadata": {
    "lang": "fr"
   },
   "source": [
    "# Résumé\n",
    "\n",
    "1. Les instructions de branchement (if-else) permettent aux fonctions d'effectuer différentes actions dans différentes circonstances.\n",
    "2. Les opérateurs ternaires autorisent les instructions de branchement sur une seule ligne"
   ]
  },
  {
   "cell_type": "markdown",
   "metadata": {
    "lang": "fr"
   },
   "source": [
    "# Problèmes\n",
    "\n",
    "1. Écrivez une fonction `my_tip_calc(bill, party)`, où `bill` est le coût total d'un repas et `party` est le nombre de personnes dans le groupe. Le pourboire doit être calculé à 15 % pour une fête de moins de six personnes, 18 % pour une fête de moins de huit personnes, 20 % pour une fête de moins de 11 personnes et 25 % pour une fête de 11 personnes ou plus. Quelques cas de test sont donnés ci-dessous."
   ]
  },
  {
   "cell_type": "code",
   "execution_count": null,
   "metadata": {},
   "outputs": [],
   "source": [
    "def my_tip_calc(bill, party):\n",
    "    # write your function code here\n",
    "    \n",
    "    return tips"
   ]
  },
  {
   "cell_type": "code",
   "execution_count": null,
   "metadata": {},
   "outputs": [],
   "source": [
    "# t = 16.3935\n",
    "t = my_tip_calc(109.29,3) \n",
    "print(t)"
   ]
  },
  {
   "cell_type": "code",
   "execution_count": null,
   "metadata": {},
   "outputs": [],
   "source": [
    "# t = 19.6722\n",
    "t = my_tip_calc(109.29,7) \n",
    "print(t)"
   ]
  },
  {
   "cell_type": "code",
   "execution_count": null,
   "metadata": {},
   "outputs": [],
   "source": [
    "# t = 21.8580\n",
    "t = my_tip_calc(109.29,9)\n",
    "print(t)"
   ]
  },
  {
   "cell_type": "code",
   "execution_count": null,
   "metadata": {},
   "outputs": [],
   "source": [
    "# t = 27.3225\n",
    "t = my_tip_calc(109.29,12)\n",
    "print(t)"
   ]
  },
  {
   "cell_type": "markdown",
   "metadata": {
    "lang": "fr"
   },
   "source": [
    "2. Écrivez une fonction `my_mult_opération(a,b,opération)`. L'argument d'entrée, `operation`, est une chaîne qui est soit `plus`, ` moins `, ` mult `, ` div ` ou ` pow `, et la fonction doit calculer : $a+b$, $a-b$, $a∗b$, $a/b$ et $a^b$ pour les valeurs respectives de ' opération '. Quelques cas de test sont donnés ci-dessous."
   ]
  },
  {
   "cell_type": "code",
   "execution_count": null,
   "metadata": {},
   "outputs": [],
   "source": [
    "def my_mult_operation(a,b,operation):\n",
    "    # write your function code here\n",
    "    \n",
    "    return out"
   ]
  },
  {
   "cell_type": "code",
   "execution_count": null,
   "metadata": {},
   "outputs": [],
   "source": [
    "x = np.array([1,2,3,4])\n",
    "y = np.array([2,3,4,5])"
   ]
  },
  {
   "cell_type": "code",
   "execution_count": null,
   "metadata": {},
   "outputs": [],
   "source": [
    "# Output: [3,5,7,9]\n",
    "my_mult_operation(x,y,'plus')"
   ]
  },
  {
   "cell_type": "code",
   "execution_count": null,
   "metadata": {},
   "outputs": [],
   "source": [
    "# Output: [-1,-1,-1,-1]\n",
    "my_mult_operation(x,y,'minus')"
   ]
  },
  {
   "cell_type": "code",
   "execution_count": null,
   "metadata": {},
   "outputs": [],
   "source": [
    "# Output: [2,6,12,20]\n",
    "my_mult_operation(x,y,'mult')"
   ]
  },
  {
   "cell_type": "code",
   "execution_count": null,
   "metadata": {},
   "outputs": [],
   "source": [
    "# Output: [0.5,0.66666667,0.75,0.8]\n",
    "my_mult_operation(x,y,'div')"
   ]
  },
  {
   "cell_type": "code",
   "execution_count": null,
   "metadata": {},
   "outputs": [],
   "source": [
    "# Output: [1,8,81,1024]\n",
    "my_mult_operation(x,y,'pow')"
   ]
  },
  {
   "cell_type": "markdown",
   "metadata": {
    "lang": "fr"
   },
   "source": [
    "3. Considérons un triangle dont les sommets sont $(0,0)$, $(1,0)$ et $(0,1)$. Écrivez une fonction *my_inside_triangle(x,y)* où la sortie est la chaîne 'outside' si le point $(x,y)$ est à l'extérieur du triangle, 'border' si le point est exactement sur la bordure du triangle, et 'à l'intérieur' si le point est à l'intérieur du triangle."
   ]
  },
  {
   "cell_type": "code",
   "execution_count": null,
   "metadata": {},
   "outputs": [],
   "source": [
    "def my_inside_triangle(x,y):\n",
    "    # write your function code here\n",
    "    \n",
    "    return position"
   ]
  },
  {
   "cell_type": "code",
   "execution_count": null,
   "metadata": {},
   "outputs": [],
   "source": [
    "# Output: 'border'\n",
    "my_inside_triangle(.5,.5)"
   ]
  },
  {
   "cell_type": "code",
   "execution_count": null,
   "metadata": {},
   "outputs": [],
   "source": [
    "# Output: 'inside'\n",
    "my_inside_triangle(.25,.25)"
   ]
  },
  {
   "cell_type": "code",
   "execution_count": null,
   "metadata": {},
   "outputs": [],
   "source": [
    "# Output: 'outside'\n",
    "my_inside_triangle(5,5)"
   ]
  },
  {
   "cell_type": "markdown",
   "metadata": {
    "lang": "fr"
   },
   "source": [
    "4. Écrivez une fonction *my_make_size10(x)*, où *x* est un tableau et la sortie correspond aux 10 premiers éléments de *x* si *x* a plus de 10 éléments, et la sortie est le tableau *x* complété avec suffisamment de zéros pour lui donner une longueur de 10 si *x* a moins de 10 éléments."
   ]
  },
  {
   "cell_type": "code",
   "execution_count": null,
   "metadata": {},
   "outputs": [],
   "source": [
    "def my_make_size10(x):\n",
    "    # write your function code here\n",
    "    \n",
    "    return size10"
   ]
  },
  {
   "cell_type": "code",
   "execution_count": null,
   "metadata": {},
   "outputs": [],
   "source": [
    "# Output: [1,2,0,0,0,0,0,0,0,0]\n",
    "my_make_size10(range(1,2))"
   ]
  },
  {
   "cell_type": "code",
   "execution_count": null,
   "metadata": {},
   "outputs": [],
   "source": [
    "# Output: [1,2,3,4,5,6,7,8,9,10]\n",
    "my_make_size10(range(1,15))"
   ]
  },
  {
   "cell_type": "code",
   "execution_count": null,
   "metadata": {},
   "outputs": [],
   "source": [
    "# Output: [3,6,13,4,0,0,0,0,0,0]\n",
    "my_make_size10(5,5)"
   ]
  },
  {
   "cell_type": "markdown",
   "metadata": {
    "lang": "fr"
   },
   "source": [
    "5. Pouvez-vous écrire my_make_size10 sans utiliser d'instructions if (c'est-à-dire en utilisant uniquement des opérations logiques et matricielles) ?"
   ]
  },
  {
   "cell_type": "markdown",
   "metadata": {
    "lang": "fr"
   },
   "source": [
    "6. Écrivez une fonction *my_letter_grader(percent)*, où note est la chaîne 'A+' si *percent* est supérieur à 97, 'A' si *percent* est supérieur supérieur à 93, 'A-' si *pourcentage* est supérieur à 90, 'B+' si *pourcentage* est supérieur à 87, 'B' si *pourcentage* est supérieur à 83, 'B-' si *pourcentage* est supérieur à 80, 'C+' si *pourcentage* est supérieur à 77, 'C' si *pourcentage* est supérieur à 73 , 'C-' si *pourcentage* est supérieur à 70, 'D+' si *pourcentage* est supérieur à 67, 'D' si *pourcentage* est supérieur à 63, « D- » si *pourcentage* est supérieur à 60, et « F » pour tout *pourcentage* inférieur à 60. Les notes exactes de la division doivent être incluses dans la catégorie de notes supérieure."
   ]
  },
  {
   "cell_type": "code",
   "execution_count": null,
   "metadata": {},
   "outputs": [],
   "source": [
    "def my_letter_grader(percent):\n",
    "    # write your function code here\n",
    "    \n",
    "    return grade"
   ]
  },
  {
   "cell_type": "code",
   "execution_count": null,
   "metadata": {},
   "outputs": [],
   "source": [
    "# Output: 'A+'\n",
    "my_letter_grader(97)"
   ]
  },
  {
   "cell_type": "code",
   "execution_count": null,
   "metadata": {},
   "outputs": [],
   "source": [
    "# Output: 'B'\n",
    "my_letter_grader(84)"
   ]
  },
  {
   "cell_type": "markdown",
   "metadata": {
    "lang": "fr"
   },
   "source": [
    "7. La plupart des systèmes d'ingénierie sont redondants. Autrement dit, un système d’ingénierie possède plus que ce qui est nécessaire pour atteindre son objectif. Prenons un réacteur nucléaire dont la température est surveillée par trois capteurs. Une alarme devrait se déclencher si deux des lectures du capteur sont en désaccord. Écrivez une fonction *my_nuke_alarm(s1,s2,s3)* où *s1*, *s2* et *s3* sont les lectures de température du capteur 1, capteur 2 et capteur 3, respectivement. La sortie doit être la chaîne « alarme ! » si deux des relevés de température diffèrent de strictement plus de 10 degrés et « normal » dans le cas contraire."
   ]
  },
  {
   "cell_type": "code",
   "execution_count": null,
   "metadata": {},
   "outputs": [],
   "source": [
    "def my_nuke_alarm(s1,s2,s3):\n",
    "    # write your function code here\n",
    "    \n",
    "    return response"
   ]
  },
  {
   "cell_type": "code",
   "execution_count": null,
   "metadata": {},
   "outputs": [],
   "source": [
    "#Output: 'normal'\n",
    "my_nuke_alarm(94,96,90)"
   ]
  },
  {
   "cell_type": "code",
   "execution_count": null,
   "metadata": {},
   "outputs": [],
   "source": [
    "#Output: 'alarm!'\n",
    "my_nuke_alarm(94,96,80)"
   ]
  },
  {
   "cell_type": "code",
   "execution_count": null,
   "metadata": {},
   "outputs": [],
   "source": [
    "#Output: 'normal'\n",
    "my_nuke_alarm(100,96,90)"
   ]
  },
  {
   "cell_type": "markdown",
   "metadata": {
    "lang": "fr"
   },
   "source": [
    "8. Soit Q(x) l'équation quadratique $Q(x) = ax^2 + bx + c$ pour certaines valeurs scalaires *a*, *b* et *c*. Une racine de $Q(x)$ est un *r* tel que $Q(r) = 0$. Les deux racines d’une équation quadratique peuvent être décrites par la formule quadratique, qui est\n",
    "\n",
    "$$r = \\frac{-b\\pm\\sqrt{b^2-4ac}}{2a}$$\n",
    "\n",
    "Une équation quadratique a soit deux racines réelles (c'est-à-dire $b^2 > 4ac$), deux racines imaginaires (c'est-à-dire $b^2 < 4ac$) ou une racine, $r = − \\frac{b}{2a}$.\n",
    "\n",
    "Écrivez une fonction *my_n_roots(a,b,c)*, où *a*, *b* et *c* sont les coefficients du mathid quadratique8 , la fonction doit renvoyer deux valeurs : *n_roots* et *r*. *n_roots* vaut 2 si *Q* a deux racines réelles, 1 si *Q* a une racine, −2 si *Q* a deux racines imaginaires, et *r* est un tableau contenant les racines de *Q*."
   ]
  },
  {
   "cell_type": "code",
   "execution_count": null,
   "metadata": {},
   "outputs": [],
   "source": [
    "def my_n_roots(a,b,c):\n",
    "    # write your function code here\n",
    "    \n",
    "    return n_roots, r"
   ]
  },
  {
   "cell_type": "code",
   "execution_count": null,
   "metadata": {},
   "outputs": [],
   "source": [
    "# Output: n_roots = 2, r = [3, -3]\n",
    "n_roots, r = my_n_roots(1,0,-9)\n",
    "print(n_roots, r)"
   ]
  },
  {
   "cell_type": "code",
   "execution_count": null,
   "metadata": {},
   "outputs": [],
   "source": [
    "# Output: n_roots = -2, r = [-0.6667 + 1.1055i, -0.6667 - 1.1055i]\n",
    "my_n_roots(3,4,5)"
   ]
  },
  {
   "cell_type": "code",
   "execution_count": null,
   "metadata": {},
   "outputs": [],
   "source": [
    "# Output: n_roots = 1, r = [1]\n",
    "my_n_roots(2,4,2)"
   ]
  },
  {
   "cell_type": "markdown",
   "metadata": {
    "lang": "fr"
   },
   "source": [
    "9. Écrivez une fonction *my_split_function(f,g,a,b,x)*, où *f* et *g* sont des handles vers les fonctions $f(x)$ et $g(x)$, respectivement. La sortie doit être $f(x)$ si $x≤a$, $g(x)$ si $x≥b$ et $0$ sinon. Vous pouvez supposer que $b>a$."
   ]
  },
  {
   "cell_type": "code",
   "execution_count": null,
   "metadata": {},
   "outputs": [],
   "source": [
    "def my_split_function(f,g,a,b,x):\n",
    "    \n",
    "    if x<=a:\n",
    "        return f(x)\n",
    "    elif x>=b:\n",
    "        return g(x)\n",
    "    else:\n",
    "        return 0"
   ]
  },
  {
   "cell_type": "code",
   "execution_count": null,
   "metadata": {},
   "outputs": [],
   "source": [
    "# Output: 2.713\n",
    "my_split_function(np.exp,np.sin,2,4,1)"
   ]
  },
  {
   "cell_type": "code",
   "execution_count": null,
   "metadata": {},
   "outputs": [],
   "source": [
    "# Output: 0\n",
    "my_split_function(np.exp,np.sin,2,4,3)"
   ]
  },
  {
   "cell_type": "code",
   "execution_count": null,
   "metadata": {},
   "outputs": [],
   "source": [
    "# Output: -0.9589\n",
    "my_split_function(np.exp,np.sin,2,4,5)"
   ]
  },
  {
   "cell_type": "markdown",
   "metadata": {},
   "source": [
    "<!--NAVIGATION-->\n",
    "< [4.2 Ternary Operators](chapter04.02-Ternary-Operators.ipynb)| [Contents](Index.ipynb) | [5.0 Iteration](chapter05.00-Iteration.ipynb) >"
   ]
  }
 ],
 "metadata": {
  "kernelspec": {
   "display_name": "Python 3 (ipykernel)",
   "language": "python",
   "name": "python3"
  },
  "language_info": {
   "codemirror_mode": {
    "name": "ipython",
    "version": 3
   },
   "file_extension": ".py",
   "mimetype": "text/x-python",
   "name": "python",
   "nbconvert_exporter": "python",
   "pygments_lexer": "ipython3",
   "version": "3.11.7"
  },
  "nbTranslate": {
   "displayLangs": [
    "*"
   ],
   "hotkey": "alt-t",
   "langInMainMenu": true,
   "sourceLang": "en",
   "targetLang": "fr",
   "useGoogleTranslate": true
  }
 },
 "nbformat": 4,
 "nbformat_minor": 2
}
