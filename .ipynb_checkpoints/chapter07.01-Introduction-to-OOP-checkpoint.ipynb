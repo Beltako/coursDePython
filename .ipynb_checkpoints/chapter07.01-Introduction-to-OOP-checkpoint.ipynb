{
 "cells": [
  {
   "cell_type": "markdown",
   "metadata": {
    "lang": "fr"
   },
   "source": [
    "# 7.1 Introduction à la POO"
   ]
  },
  {
   "cell_type": "markdown",
   "metadata": {
    "lang": "fr"
   },
   "source": [
    "Jusqu'à présent, tous les codes que nous avons écrits appartiennent à la catégorie de la **programmation orientée procédures (POP)**, qui consiste en une liste d'instructions pour indiquer à l'ordinateur quoi faire ; ces instructions sont ensuite organisées en fonctions. Le programme est divisé en un ensemble de variables, de structures de données et de routines pour accomplir différentes tâches. Python est un langage de programmation multi-paradigmes, ce qui signifie qu'il prend en charge différentes approches de programmation. Une manière différente de programmer en Python est la **programmation orientée objet (POO)**. La courbe d'apprentissage est plus raide, mais elle est extrêmement puissante et vaut le temps investi pour la maîtriser. Remarque : vous n'êtes pas obligé d'utiliser la POO lors de la programmation en Python. Vous pouvez toujours écrire des programmes très puissants en utilisant POP. Cela dit, le POP convient aux programmes simples et petits, tandis que la POO est mieux adaptée aux grands programmes. Examinons de plus près la programmation orientée objet.\n",
    "\n",
    "La programmation orientée objet divise la tâche de programmation en **objets**, qui combinent des données (appelées attributs) et des comportements/fonctions (appelés méthodes). Par conséquent, il existe deux composants principaux de la POO : **class** et **object**.\n",
    "\n",
    "La classe est un modèle pour définir un regroupement logique de données et de fonctions. Il permet de créer des structures de données qui modélisent des entités du monde réel. Par exemple, nous pouvons créer une classe « people » qui contient des données telles que le nom, l'âge et certaines fonctions de comportement pour imprimer l'âge et le sexe d'un groupe de personnes. Alors que la classe est le modèle, un objet est une « instance » de la classe avec des valeurs réelles. Par exemple, une personne nommée « Iron Man » âgée de 35 ans. En d’autres termes, une classe est comme un modèle permettant de définir les informations nécessaires, et un objet est une copie spécifique qui remplit le modèle. De plus, les objets instanciés à partir de la même classe sont **indépendants** les uns des autres. Par exemple, si nous avons une autre personne - \"Batman\" âgée de 33 ans, elle peut être instanciée à partir de la classe \"people\", mais il s'agit d'une instance indépendante.\n",
    "\n",
    "Implémentons l'exemple ci-dessus en Python. Ne vous inquiétez pas si vous ne comprenez pas la syntaxe ci-dessous ; la section suivante fournit des exemples plus utiles."
   ]
  },
  {
   "cell_type": "code",
   "execution_count": 1,
   "metadata": {
    "button": false,
    "collapsed": true,
    "new_sheet": false,
    "run_control": {
     "read_only": false
    }
   },
   "outputs": [],
   "source": [
    "class People():\n",
    "    def __init__(self, name, age):\n",
    "        self.name = name\n",
    "        self.age = age\n",
    "        \n",
    "    def greet(self):\n",
    "        print(\"Greetings, \" + self.name)"
   ]
  },
  {
   "cell_type": "code",
   "execution_count": 2,
   "metadata": {
    "button": false,
    "new_sheet": false,
    "run_control": {
     "read_only": false
    }
   },
   "outputs": [
    {
     "name": "stdout",
     "output_type": "stream",
     "text": [
      "Greetings, Iron Man\n",
      "Iron Man\n",
      "35\n"
     ]
    }
   ],
   "source": [
    "person1 = People(name = 'Iron Man', age = 35)\n",
    "person1.greet()\n",
    "print(person1.name)\n",
    "print(person1.age)"
   ]
  },
  {
   "cell_type": "code",
   "execution_count": 3,
   "metadata": {
    "button": false,
    "new_sheet": false,
    "run_control": {
     "read_only": false
    }
   },
   "outputs": [
    {
     "name": "stdout",
     "output_type": "stream",
     "text": [
      "Greetings, Batman\n",
      "Batman\n",
      "33\n"
     ]
    }
   ],
   "source": [
    "person2 = People(name = 'Batman', age = 33)\n",
    "person2.greet()\n",
    "print(person2.name)\n",
    "print(person2.age)"
   ]
  },
  {
   "cell_type": "markdown",
   "metadata": {
    "lang": "fr"
   },
   "source": [
    "Dans l'exemple de code ci-dessus, nous avons d'abord défini une classe - People, avec *name* et *age* comme données, et une méthode *greet*. Nous avons ensuite initialisé un objet - `person1` avec le nom et l'âge spécifiques. Nous pouvons clairement voir que la *class* définit la structure entière, alors que l'objet n'est qu'une « instance » de la « classe ». Plus tard, nous avons instancié un autre objet, « personne2 ». Il est clair que « personne1 » et « personne2 » sont indépendantes l'une de l'autre, bien qu'elles soient toutes instanciées à partir de la même classe.\n",
    "\n",
    "Le concept de la POO est de créer du code réutilisable. Il existe trois principes clés dans l'utilisation de la POO :\n",
    "\n",
    "* **Héritage**- un moyen de créer de nouvelles classes à partir d'une classe existante sans la modifier.\n",
    "* **Encapsulation**- un moyen de masquer certains détails privés d'une classe à d'autres objets.\n",
    "* **Polymorphisme** - une manière d'utiliser une opération commune de différentes manières pour différentes entrées de données.\n",
    "\n",
    "Avec les principes ci-dessus, l'utilisation de la POO présente de nombreux avantages : elle fournit une structure modulaire claire pour les programmes qui améliore la réutilisation du code. Il fournit un moyen simple de résoudre des problèmes complexes. Il permet de définir des types de données plus abstraits pour modéliser des scénarios du monde réel. Il cache les détails de mise en œuvre, laissant un champ clairement défini\n",
    "interface. Il combine des données et des opérations.\n",
    "\n",
    "Il existe également d’autres avantages à utiliser la POO dans un grand projet. Nous vous encourageons à effectuer une recherche en ligne pour en savoir plus. À ce stade, vous ne comprendrez peut-être pas encore pleinement les avantages de la POO tant que vous ne serez pas impliqué dans de grands projets complexes. Nous continuerons à en apprendre davantage sur la POO au cours de ce livre, et son utilité deviendra évidente."
   ]
  }
 ],
 "metadata": {
  "kernelspec": {
   "display_name": "Python 3 (ipykernel)",
   "language": "python",
   "name": "python3"
  },
  "language_info": {
   "codemirror_mode": {
    "name": "ipython",
    "version": 3
   },
   "file_extension": ".py",
   "mimetype": "text/x-python",
   "name": "python",
   "nbconvert_exporter": "python",
   "pygments_lexer": "ipython3",
   "version": "3.12.2"
  },
  "nbTranslate": {
   "displayLangs": [
    "*"
   ],
   "hotkey": "alt-t",
   "langInMainMenu": true,
   "sourceLang": "en",
   "targetLang": "fr",
   "useGoogleTranslate": true
  }
 },
 "nbformat": 4,
 "nbformat_minor": 2
}
