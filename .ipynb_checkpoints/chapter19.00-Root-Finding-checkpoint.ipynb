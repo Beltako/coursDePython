{
 "cells": [
  {
   "cell_type": "markdown",
   "metadata": {
    "lang": "fr"
   },
   "source": [
    "# Chapitre 15. Recherche de racine"
   ]
  },
  {
   "cell_type": "markdown",
   "metadata": {
    "lang": "fr"
   },
   "source": [
    "#### SOMMAIRE\n",
    "\n",
    "---\n",
    "\n",
    "* [**15.1 Énoncé du problème de recherche de racine**](chapter19.01-Root-Finding-Problem-Statement.ipynb)\n",
    "* [**15.2 Tolérance**](chapitre19.02-Tolerance.ipynb)  \n",
    "* [**15.3 Méthode de bissection**](chapter19.03-Bisection-Method.ipynb)\n",
    "* [**15.4 Méthode Newton-Raphson**](chapter19.04-Newton-Raphson-Method.ipynb) \n",
    "* [**15.5 Recherche de racine en Python**](chapter19.05-Root-Finding-in-Python.ipynb)* [**19.6 Résumé et problèmes**](chapitre19.06-Résumé-et-problèmes.ipynb)"
   ]
  },
  {
   "cell_type": "markdown",
   "metadata": {
    "button": false,
    "new_sheet": false,
    "run_control": {
     "read_only": false
    }
   },
   "source": [
    "--- \n",
    "\n",
    "## Motivation\n",
    "\n",
    "As the name suggests, the roots of a function are one of its most important properties. Finding the roots of functions is important in many engineering applications such as signal processing and optimization. For simple\n",
    "functions such as $f(x) = ax^2 + bx + c$, you may already be familiar with the ''quadratic formula,''\n",
    "\n",
    "$$\n",
    "x_r=\\frac{-b\\pm\\sqrt{b^2-4ac}}{2a},\n",
    "$$\n",
    "\n",
    "which gives $x_r$, the two roots of $f$ exactly. However for more complicated functions, the roots can rarely be computed using such explicit, or exact, means.\n",
    "\n",
    "By the end of this chapter, you should understand the root finding problem, and two algorithms for finding roots to functions, their properties, and their limitations.\n",
    "\n",
    "\n",
    "---"
   ]
  }
 ],
 "metadata": {
  "kernelspec": {
   "display_name": "Python 3 (ipykernel)",
   "language": "python",
   "name": "python3"
  },
  "language_info": {
   "codemirror_mode": {
    "name": "ipython",
    "version": 3
   },
   "file_extension": ".py",
   "mimetype": "text/x-python",
   "name": "python",
   "nbconvert_exporter": "python",
   "pygments_lexer": "ipython3",
   "version": "3.12.2"
  },
  "nbTranslate": {
   "displayLangs": [
    "*"
   ],
   "hotkey": "alt-t",
   "langInMainMenu": true,
   "sourceLang": "en",
   "targetLang": "fr",
   "useGoogleTranslate": true
  }
 },
 "nbformat": 4,
 "nbformat_minor": 2
}
