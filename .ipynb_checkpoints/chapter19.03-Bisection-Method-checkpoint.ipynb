{
 "cells": [
  {
   "cell_type": "markdown",
   "metadata": {
    "lang": "fr"
   },
   "source": [
    "# 19.3 Méthode de bissection"
   ]
  },
  {
   "cell_type": "markdown",
   "metadata": {
    "lang": "fr"
   },
   "source": [
    "Le **Théorème des valeurs intermédiaires** dit que si $f(x)$ est une fonction continue entre $a$ et $b$, et ${\\text{sign}}(f(a)) \\ne {\\text{sign}}(f(b))$, alors il doit y avoir un $c$, tel que $a < c < b$ et $f(c) = 0$. Ceci est illustré dans la figure suivante.\n",
    "\n",
    "<img src=\"images/19.03.01-Intermediate-value-theorem.png\" alt=\"Intermediate value theorem\" title=\"Illustration of intermediate value theorem. If sign(f (a)) and sign(f (b)) are not equale, then ∃c ∈ (a, b) such that f (c) = 0.\" width=\"200\"/>\n",
    "\n",
    "La **méthode de bissection** utilise le théorème des valeurs intermédiaires de manière itérative pour trouver des racines. Soit $f(x)$ une fonction continue, et $a$ et $b$ des valeurs scalaires réelles telles que $a < b$. Supposons, sans perte de généralité, que $f(a) > 0$ et $f(b) < 0$. Alors d'après le théorème des valeurs intermédiaires, il doit y avoir une racine sur l'intervalle ouvert $(a,b)$. Maintenant, prenons $m = \\frac{b + a}{2}$, le point médian entre $a$ et $b$. Si $f(m) = 0$ ou est suffisamment proche, alors $m$ est une racine. Si $f(m) > 0$, alors $m$ est une amélioration sur la limite gauche, $a$, et il est garanti qu'il y a une racine sur l'intervalle ouvert $(m,b)$. Si $f(m) < 0$, alors $m$ est une amélioration par rapport à la limite droite, $b$, et il est garanti qu'il y a une racine sur l'intervalle ouvert $(a,m)$. Ce scénario est représenté dans la figure suivante.\n",
    "\n",
    "\n",
    "<img src=\"images/19.03.02-Bisection-method.png\" alt=\"Bisection method\" title=\"Illustration of the bisection method. The sign of f(m) is checked to determine if the root is contained in the interval (a, m) or (m, b). This new interval is used in the next iteration of the bisection method In the case depicted in the figure, the root is in the interval (m, b).\" width=\"200\"/>\n",
    "\n",
    "Le processus de mise à jour de $a$ et $b$ peut être répété jusqu'à ce que l'erreur soit suffisamment faible.\n",
    "\n",
    "**ESSAYEZ-LE !** Programmez une fonction *my_bisection(f, a, b, tol)* qui se rapproche d'une racine $r$ de $f$, délimitée par $a$ et $b$ à l'intérieur de $|f(\\frac{a + b}{2})| < {\\text{tol}}$."
   ]
  },
  {
   "cell_type": "code",
   "execution_count": 1,
   "metadata": {
    "button": false,
    "collapsed": true,
    "new_sheet": false,
    "run_control": {
     "read_only": false
    }
   },
   "outputs": [],
   "source": [
    "import numpy as np\n",
    "\n",
    "def my_bisection(f, a, b, tol): \n",
    "    # approximates a root, R, of f bounded \n",
    "    # by a and b to within tolerance \n",
    "    # | f(m) | < tol with m the midpoint \n",
    "    # between a and b Recursive implementation\n",
    "    \n",
    "    # check if a and b bound a root\n",
    "    if np.sign(f(a)) == np.sign(f(b)):\n",
    "        raise Exception(\n",
    "         \"The scalars a and b do not bound a root\")\n",
    "        \n",
    "    # get midpoint\n",
    "    m = (a + b)/2\n",
    "    \n",
    "    if np.abs(f(m)) < tol:\n",
    "        # stopping condition, report m as root\n",
    "        return m\n",
    "    elif np.sign(f(a)) == np.sign(f(m)):\n",
    "        # case where m is an improvement on a. \n",
    "        # Make recursive call with a = m\n",
    "        return my_bisection(f, m, b, tol)\n",
    "    elif np.sign(f(b)) == np.sign(f(m)):\n",
    "        # case where m is an improvement on b. \n",
    "        # Make recursive call with b = m\n",
    "        return my_bisection(f, a, m, tol)"
   ]
  },
  {
   "cell_type": "markdown",
   "metadata": {
    "lang": "fr"
   },
   "source": [
    "**ESSAYEZ-LE !** Le $\\sqrt{2}$ peut être calculé comme la racine de la fonction $f(x) = x^2 - 2$. À partir de $a = 0$ et $b = 2$, utilisez *my\\_bisection* pour rapprocher le $\\sqrt{2}$ d'une tolérance de $|f(x)| < 0.1$ et $|f(x)| < 0.01$. Vérifiez que les résultats sont proches d'une racine en rebranchant la racine dans la fonction."
   ]
  },
  {
   "cell_type": "code",
   "execution_count": 2,
   "metadata": {
    "button": false,
    "new_sheet": false,
    "run_control": {
     "read_only": false
    }
   },
   "outputs": [
    {
     "name": "stdout",
     "output_type": "stream",
     "text": [
      "r1 = 1.4375\n",
      "r01 = 1.4140625\n",
      "f(r1) = 0.06640625\n",
      "f(r01) = -0.00042724609375\n"
     ]
    }
   ],
   "source": [
    "f = lambda x: x**2 - 2\n",
    "\n",
    "r1 = my_bisection(f, 0, 2, 0.1)\n",
    "print(\"r1 =\", r1)\n",
    "r01 = my_bisection(f, 0, 2, 0.01)\n",
    "print(\"r01 =\", r01)\n",
    "\n",
    "print(\"f(r1) =\", f(r1))\n",
    "print(\"f(r01) =\", f(r01))"
   ]
  },
  {
   "cell_type": "markdown",
   "metadata": {
    "lang": "fr"
   },
   "source": [
    "**ESSAYEZ-LE !** Voyez ce qui se passera si vous utilisez $a = 2$ et $b = 4$ pour la fonction ci-dessus."
   ]
  },
  {
   "cell_type": "code",
   "execution_count": 3,
   "metadata": {
    "button": false,
    "new_sheet": false,
    "run_control": {
     "read_only": false
    }
   },
   "outputs": [
    {
     "ename": "Exception",
     "evalue": "The scalars a and b do not bound a root",
     "output_type": "error",
     "traceback": [
      "\u001b[0;31m---------------------------------------------------------------------------\u001b[0m",
      "\u001b[0;31mException\u001b[0m                                 Traceback (most recent call last)",
      "\u001b[0;32m<ipython-input-3-4158b7a9ae67>\u001b[0m in \u001b[0;36m<module>\u001b[0;34m\u001b[0m\n\u001b[0;32m----> 1\u001b[0;31m \u001b[0mmy_bisection\u001b[0m\u001b[0;34m(\u001b[0m\u001b[0mf\u001b[0m\u001b[0;34m,\u001b[0m \u001b[0;36m2\u001b[0m\u001b[0;34m,\u001b[0m \u001b[0;36m4\u001b[0m\u001b[0;34m,\u001b[0m \u001b[0;36m0.01\u001b[0m\u001b[0;34m)\u001b[0m\u001b[0;34m\u001b[0m\u001b[0;34m\u001b[0m\u001b[0m\n\u001b[0m",
      "\u001b[0;32m<ipython-input-1-36f06123e87c>\u001b[0m in \u001b[0;36mmy_bisection\u001b[0;34m(f, a, b, tol)\u001b[0m\n\u001b[1;32m     10\u001b[0m     \u001b[0;32mif\u001b[0m \u001b[0mnp\u001b[0m\u001b[0;34m.\u001b[0m\u001b[0msign\u001b[0m\u001b[0;34m(\u001b[0m\u001b[0mf\u001b[0m\u001b[0;34m(\u001b[0m\u001b[0ma\u001b[0m\u001b[0;34m)\u001b[0m\u001b[0;34m)\u001b[0m \u001b[0;34m==\u001b[0m \u001b[0mnp\u001b[0m\u001b[0;34m.\u001b[0m\u001b[0msign\u001b[0m\u001b[0;34m(\u001b[0m\u001b[0mf\u001b[0m\u001b[0;34m(\u001b[0m\u001b[0mb\u001b[0m\u001b[0;34m)\u001b[0m\u001b[0;34m)\u001b[0m\u001b[0;34m:\u001b[0m\u001b[0;34m\u001b[0m\u001b[0;34m\u001b[0m\u001b[0m\n\u001b[1;32m     11\u001b[0m         raise Exception(\n\u001b[0;32m---> 12\u001b[0;31m          \"The scalars a and b do not bound a root\")\n\u001b[0m\u001b[1;32m     13\u001b[0m \u001b[0;34m\u001b[0m\u001b[0m\n\u001b[1;32m     14\u001b[0m     \u001b[0;31m# get midpoint\u001b[0m\u001b[0;34m\u001b[0m\u001b[0;34m\u001b[0m\u001b[0;34m\u001b[0m\u001b[0m\n",
      "\u001b[0;31mException\u001b[0m: The scalars a and b do not bound a root"
     ]
    }
   ],
   "source": [
    "my_bisection(f, 2, 4, 0.01)"
   ]
  }
 ],
 "metadata": {
  "kernelspec": {
   "display_name": "Python 3 (ipykernel)",
   "language": "python",
   "name": "python3"
  },
  "language_info": {
   "codemirror_mode": {
    "name": "ipython",
    "version": 3
   },
   "file_extension": ".py",
   "mimetype": "text/x-python",
   "name": "python",
   "nbconvert_exporter": "python",
   "pygments_lexer": "ipython3",
   "version": "3.12.2"
  },
  "nbTranslate": {
   "displayLangs": [
    "*"
   ],
   "hotkey": "alt-t",
   "langInMainMenu": true,
   "sourceLang": "en",
   "targetLang": "fr",
   "useGoogleTranslate": true
  }
 },
 "nbformat": 4,
 "nbformat_minor": 2
}
