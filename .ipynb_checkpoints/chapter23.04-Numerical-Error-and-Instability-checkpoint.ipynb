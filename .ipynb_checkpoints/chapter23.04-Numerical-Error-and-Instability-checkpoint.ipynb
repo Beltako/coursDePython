{
 "cells": [
  {
   "cell_type": "markdown",
   "metadata": {
    "lang": "fr"
   },
   "source": [
    "# 19.4 Erreur numérique et instabilité (BVP)"
   ]
  },
  {
   "cell_type": "markdown",
   "metadata": {
    "lang": "fr"
   },
   "source": [
    "Les problèmes de valeurs limites ont également les deux problèmes principaux dont nous avons parlé dans le chapitre précédent, l'**erreur numérique - précision** et la **stabilité**. Selon les différentes méthodes utilisées, qu'il s'agisse de la méthode de prise de vue ou de la méthode des différences finies, elles sont différentes.\n",
    "\n",
    "Pour la méthode de tir, l'*erreur numérique* est similaire à ce que nous avons décrit pour les problèmes de valeur initiale, puisque la méthode de tir consiste essentiellement à transformer le problème de valeur limite en une série de problèmes de valeur initiale. En termes de stabilité de la méthode, nous pouvons voir dans l'exemple du chapitre 23.02 que même nos suppositions initiales ne sont pas proches de la vraie réponse, la méthode renvoie une solution numérique précise. Cela est dû au fait que l’ajout de la contrainte la plus à droite empêche les erreurs d’augmenter de manière illimitée.\n",
    "\n",
    "Dans le cas des méthodes aux différences finies, l’erreur numérique est déterminée par l’ordre de précision du schéma numérique utilisé. La précision des différents schémas utilisés pour les approximations dérivées est discutée au chapitre 20.02. La précision de la méthode des différences finies est déterminée par la plus grande des deux erreurs de troncature, le schéma de différences utilisé pour l'équation différentielle ou celui du schéma de différences utilisé pour discrétiser les conditions aux limites (on voit que la taille du pas a un fort effet sur la méthode des différences finies). précision de la méthode des différences finies). Étant donné que les méthodes des différences finies transforment essentiellement le BVP en résolution d'un système d'équations, sa stabilité dépend donc de la stabilité du schéma utilisé pour résoudre simultanément le système d'équations résultant."
   ]
  }
 ],
 "metadata": {
  "kernelspec": {
   "display_name": "Python 3 (ipykernel)",
   "language": "python",
   "name": "python3"
  },
  "language_info": {
   "codemirror_mode": {
    "name": "ipython",
    "version": 3
   },
   "file_extension": ".py",
   "mimetype": "text/x-python",
   "name": "python",
   "nbconvert_exporter": "python",
   "pygments_lexer": "ipython3",
   "version": "3.12.2"
  },
  "nbTranslate": {
   "displayLangs": [
    "*"
   ],
   "hotkey": "alt-t",
   "langInMainMenu": true,
   "sourceLang": "en",
   "targetLang": "fr",
   "useGoogleTranslate": true
  }
 },
 "nbformat": 4,
 "nbformat_minor": 2
}
