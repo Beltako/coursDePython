{
 "cells": [
  {
   "cell_type": "markdown",
   "metadata": {
    "lang": "fr"
   },
   "source": [
    "# Chapitre 10. Algèbre linéaire et systèmes d'équations linéaires"
   ]
  },
  {
   "cell_type": "markdown",
   "metadata": {
    "lang": "fr"
   },
   "source": [
    "#### SOMMAIRE\n",
    "\n",
    "---\n",
    "* [**10.1 Bases de l'algèbre linéaire**](chapitre14.01-Basics-of-Linear-Algebra.ipynb)\n",
    "* [**14.2 Transformations linéaires**](chapitre14.02-Linear-Transformations.ipynb)  \n",
    "* [**10.3 Systèmes d'équations linéaires**](chapitre14.03-Systems-of-Linear-Equations.ipynb)\n",
    "* [**14.4 Solutions aux systèmes d'équations linéaires**](chapitre14.04-Solutions-to-Systems-of-Linear-Equations.ipynb)   \n",
    "* [**10.5 Résoudre des systèmes d'équations linéaires en Python**](chapter14.05-Solve-Systems-of-Linear-Equations-in-Python.ipynb)\n",
    "* [**10.6 Inversion matricielle**](chapitre14.06-Matrix-Inversion.ipynb) \n",
    "* [**10.7 Résumé et problèmes**](chapitre14.07-Résumé-et-problèmes.ipynb)"
   ]
  },
  {
   "cell_type": "markdown",
   "metadata": {
    "lang": "fr"
   },
   "source": [
    "--- \n",
    "\n",
    "## Motivation\n",
    "\n",
    "De nombreux problèmes en ingénierie et en sciences peuvent être décrits ou approximés par des relations linéaires. Par exemple, si vous combinez des résistances dans un circuit compliqué, vous obtiendrez un système de relations linéaires. De même, si vous étudiez les petites déformations de structures rigides, vous obtiendrez également un système de relations. En fait, il est difficile d’imaginer un domaine scientifique ou technique dans lequel de telles relations ne seraient pas fondamentales.\n",
    "\n",
    "L'étude des relations linéaires est contenue dans le domaine de l'algèbre linéaire, et ce chapitre fournit un aperçu de base de certains vocabulaires et concepts algébriques linéaires de base qui sont importants pour les chapitres ultérieurs. Étant donné que ce texte ne suppose aucune connaissance préalable de l'algèbre linéaire, certains des concepts mathématiques et des preuves les plus abstraits sur ce sujet ont été omis pour rendre le matériel plus accessible. Cependant, les informations contenues dans ce chapitre ne sont en aucun cas exhaustives et ne doivent pas être considérées comme un substitut à un cours complet d'algèbre linéaire.\n",
    "\n",
    "À la fin de ce chapitre, vous devriez comprendre une variété de concepts et de calculs d’algèbre linéaire. Vous devez connaître les fonctions de Python pour ces concepts et calculs. Vous devez savoir ce que sont les systèmes d’équations linéaires et leur relation avec les matrices et les transformations linéaires. Enfin, vous devez savoir comment utiliser Python pour calculer des solutions à des systèmes d'équations linéaires.\n",
    "\n",
    "---"
   ]
  }
 ],
 "metadata": {
  "kernelspec": {
   "display_name": "Python 3 (ipykernel)",
   "language": "python",
   "name": "python3"
  },
  "language_info": {
   "codemirror_mode": {
    "name": "ipython",
    "version": 3
   },
   "file_extension": ".py",
   "mimetype": "text/x-python",
   "name": "python",
   "nbconvert_exporter": "python",
   "pygments_lexer": "ipython3",
   "version": "3.12.2"
  },
  "nbTranslate": {
   "displayLangs": [
    "*"
   ],
   "hotkey": "alt-t",
   "langInMainMenu": true,
   "sourceLang": "en",
   "targetLang": "fr",
   "useGoogleTranslate": true
  }
 },
 "nbformat": 4,
 "nbformat_minor": 2
}
