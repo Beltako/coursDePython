{
 "cells": [
  {
   "cell_type": "markdown",
   "metadata": {
    "lang": "fr"
   },
   "source": [
    "# Chapitre 16. Différenciation numérique"
   ]
  },
  {
   "cell_type": "markdown",
   "metadata": {
    "lang": "fr"
   },
   "source": [
    "#### SOMMAIRE\n",
    "\n",
    "---\n",
    "\n",
    "* [**16.1 Énoncé du problème de différenciation numérique**](chapter20.01-Numerical-Differentiation-Problem-Statement.ipynb)\n",
    "* [**16.2 Dérivés approximatifs par différence finie**](chapter20.02-Finite-Difference-Approximating-Derivatives.ipynb)\n",
    "* [**16.3 Approximation des dérivés d'ordre supérieur**](chapter20.04-Numerical-Differentiation-with-Noise.ipynb)\n",
    "* [**16.4 Différenciation numérique avec bruit**](chapitre20.04-Numerical-Differentiation-with-Noise.ipynb)\n",
    "* [**16.5 Résumé et problèmes**](chapter20.05-Summary-and-Problems.ipynb)"
   ]
  },
  {
   "cell_type": "markdown",
   "metadata": {
    "lang": "fr"
   },
   "source": [
    "---\n",
    "\n",
    "## Motivation\n",
    "\n",
    "De nombreux systèmes d’ingénierie et scientifiques évoluent au fil du temps, de l’espace et de nombreuses autres dimensions d’intérêt. En mathématiques, les dérivées de fonctions sont souvent utilisées pour modéliser ces changements. Cependant, en pratique, la fonction peut ne pas être explicitement\n",
    "connue, ou la fonction peut être implicitement représentée par un ensemble de points de données. Dans ces cas et dans d’autres, il peut être souhaitable de calculer les dérivées numériquement plutôt qu’analytiquement.\n",
    "\n",
    "L’objet de ce chapitre est la différenciation numérique. À la fin de ce chapitre, vous devriez être capable de dériver quelques schémas de différenciation numérique de base et leur précision.\n",
    "\n",
    "---"
   ]
  }
 ],
 "metadata": {
  "kernelspec": {
   "display_name": "Python 3 (ipykernel)",
   "language": "python",
   "name": "python3"
  },
  "language_info": {
   "codemirror_mode": {
    "name": "ipython",
    "version": 3
   },
   "file_extension": ".py",
   "mimetype": "text/x-python",
   "name": "python",
   "nbconvert_exporter": "python",
   "pygments_lexer": "ipython3",
   "version": "3.12.2"
  },
  "nbTranslate": {
   "displayLangs": [
    "*"
   ],
   "hotkey": "alt-t",
   "langInMainMenu": true,
   "sourceLang": "en",
   "targetLang": "fr",
   "useGoogleTranslate": true
  }
 },
 "nbformat": 4,
 "nbformat_minor": 2
}
