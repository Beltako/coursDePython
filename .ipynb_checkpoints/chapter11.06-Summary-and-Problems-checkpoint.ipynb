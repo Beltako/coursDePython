{
 "cells": [
  {
   "cell_type": "markdown",
   "metadata": {
    "lang": "fr"
   },
   "source": [
    "# 8.6 Résumé\n",
    "\n",
    "\n",
    "1. Les données doivent souvent être stockées sur le disque pour une session Python ultérieure ou pour être lues par d'autres programmes.\n",
    "2. Les données créées par d'autres programmes devront peut-être être lues par Python.\n",
    "3. Python dispose de fonctions pour lire et écrire des données sous plusieurs formes standard : txt, csv, pickle et hdf5."
   ]
  },
  {
   "cell_type": "markdown",
   "metadata": {
    "lang": "fr"
   },
   "source": [
    "# Problèmes\n",
    "\n",
    "1. Créez une liste et enregistrez-la dans un fichier texte afin que chacun des éléments de la liste occupe une ligne.\n",
    "2. Enregistrez la même liste du problème 1 dans un fichier CSV.\n",
    "3. Créez un tableau `numpy` 2D, enregistrez-le dans un fichier CSV et relisez-le dans un tableau 2D.\n",
    "4. Enregistrez le même tableau du problème 2 dans un fichier pickle et chargez-le à nouveau.\n",
    "5. Créez un dictionnaire et enregistrez-le dans un fichier JSON.\n",
    "6. Créez un tableau `numpy` 1D et enregistrez-le dans un fichier JSON avec la clé nommée 'data'. Puis rechargez-le."
   ]
  }
 ],
 "metadata": {
  "kernelspec": {
   "display_name": "Python 3 (ipykernel)",
   "language": "python",
   "name": "python3"
  },
  "language_info": {
   "codemirror_mode": {
    "name": "ipython",
    "version": 3
   },
   "file_extension": ".py",
   "mimetype": "text/x-python",
   "name": "python",
   "nbconvert_exporter": "python",
   "pygments_lexer": "ipython3",
   "version": "3.12.2"
  },
  "nbTranslate": {
   "displayLangs": [
    "*"
   ],
   "hotkey": "alt-t",
   "langInMainMenu": true,
   "sourceLang": "en",
   "targetLang": "fr",
   "useGoogleTranslate": true
  }
 },
 "nbformat": 4,
 "nbformat_minor": 2
}
