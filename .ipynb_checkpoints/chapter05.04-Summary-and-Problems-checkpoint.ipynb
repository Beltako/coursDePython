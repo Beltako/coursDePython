{
 "cells": [
  {
   "cell_type": "markdown",
   "metadata": {
    "lang": "fr"
   },
   "source": [
    "# 5.4 Résumé\n",
    "\n",
    "\n",
    "1. Les boucles fournissent un mécanisme permettant au code d'effectuer des tâches répétitives ; c'est-à-dire l'itération.\n",
    "2. Il existe deux types de boucles : les boucles for et les boucles while.\n",
    "3. Les boucles sont importantes pour construire des solutions itératives aux problèmes.\n",
    "4. Les compréhensions fournissent une autre façon concise de parcourir une séquence."
   ]
  },
  {
   "cell_type": "markdown",
   "metadata": {
    "lang": "fr"
   },
   "source": [
    "# Problèmes\n",
    "\n",
    "1. Quelle sera la valeur de y après l’exécution du code suivant ?"
   ]
  },
  {
   "cell_type": "code",
   "execution_count": null,
   "metadata": {},
   "outputs": [],
   "source": [
    "y = 0\n",
    "for i in range(1000):\n",
    "    for j in range(1000):\n",
    "        if i == j:\n",
    "            y += 1"
   ]
  },
  {
   "cell_type": "markdown",
   "metadata": {
    "lang": "en"
   },
   "source": [
    "2. Écrivez une fonction *my_max(x)* pour renvoyer la valeur maximale (la plus grande) dans *x*. N'utilisez pas la fonction Python intégrée *max*."
   ]
  },
  {
   "cell_type": "markdown",
   "metadata": {
    "lang": "fr"
   },
   "source": [
    "3. Écrivez une fonction *my_n_max(x, n)* pour renvoyer une liste composée des n plus grands éléments de *x*. Vous pouvez utiliser la fonction *max* de Python. Vous pouvez également supposer que *x* est une liste unidimensionnelle sans entrées en double et que *n* est un entier strictement positif plus petit que la longueur de *x*"
   ]
  },
  {
   "cell_type": "code",
   "execution_count": null,
   "metadata": {},
   "outputs": [],
   "source": [
    "x = [7, 9, 10, 5, 8, 3, 4, 6, 2, 1]\n",
    "\n",
    "def my_n_max(x, n):\n",
    "    # write your function code here\n",
    "    \n",
    "    return out"
   ]
  },
  {
   "cell_type": "code",
   "execution_count": null,
   "metadata": {},
   "outputs": [],
   "source": [
    "# Output = [10, 9, 8]\n",
    "out = my_n_max(x, n)\n",
    "print(out)"
   ]
  },
  {
   "cell_type": "markdown",
   "metadata": {
    "lang": "fr"
   },
   "source": [
    "4. Soit *m* une matrice d'entiers positifs. Écrivez une fonction *my_trig_odd_even(m)* pour renvoyer un tableau *q*, où q[i, j] = sin (m[i, j]) si m[i, j] est pair, et q[i, j] = cos (m[i, j]) si m[i, j] est impair."
   ]
  },
  {
   "cell_type": "markdown",
   "metadata": {
    "lang": "fr"
   },
   "source": [
    "5. Soit *P* un tableau $m \\times p$ et Q un tableau $p \\times n$. Comme vous le découvrirez plus loin dans ce livre, $M = P \\times Q$ est défini comme $M[i, j] = \\sum_{k=1}^{p}P[i, k]\\cdot Q[k, j]$. Écrivez une fonction *my_mat_mult(P, Q) qui utilise des boucles for pour calculer*M*, le produit matriciel de*P*et*Q*. Astuce : vous aurez peut-être besoin de jusqu'à trois boucles for imbriquées. N'utilisez pas la fonction*np.dot*."
   ]
  },
  {
   "cell_type": "code",
   "execution_count": null,
   "metadata": {},
   "outputs": [],
   "source": [
    "import numpy as np\n",
    "\n",
    "def my_mat_mult(P, Q):\n",
    "    # write your function code here\n",
    "    \n",
    "    return M"
   ]
  },
  {
   "cell_type": "code",
   "execution_count": null,
   "metadata": {},
   "outputs": [],
   "source": [
    "# Output:\n",
    "#  array([[3., 3., 3.],\n",
    "#        [3., 3., 3.],\n",
    "#        [3., 3., 3.]])\n",
    "\n",
    "P = np.ones((3, 3))\n",
    "my_mat_mult(P, P)"
   ]
  },
  {
   "cell_type": "code",
   "execution_count": null,
   "metadata": {},
   "outputs": [],
   "source": [
    "# Output:\n",
    "# array([[30, 30, 30],\n",
    "#       [70, 70, 70]])\n",
    "\n",
    "P = np.array([[1, 2, 3, 4], [5, 6, 7, 8]])\n",
    "Q = np.array([[1, 1, 1], [2, 2, 2], [3, 3, 3], [4, 4, 4]])\n",
    "my_mat_mult(P, Q)"
   ]
  },
  {
   "cell_type": "markdown",
   "metadata": {
    "lang": "fr"
   },
   "source": [
    "6. Les intérêts, $i$, en principe, $P_0$, sont un paiement permettant à la banque d'utiliser votre argent. Les intérêts composés sont accumulés selon la formule $P_n = (1 + i)P_{n-1}$, où n est la période de composition, généralement en mois ou en années. Écrivez une fonction *my_ saving_plan(P0, i, goal)* où le résultat est le nombre d'années qu'il faudra à $P_0$ pour devenir un objectif avec un intérêt $i\\%$ composé annuellement."
   ]
  },
  {
   "cell_type": "code",
   "execution_count": null,
   "metadata": {},
   "outputs": [],
   "source": [
    "def my_saving_plan(P0, i, goal):\n",
    "    # write your function code here\n",
    "    \n",
    "    return years"
   ]
  },
  {
   "cell_type": "code",
   "execution_count": null,
   "metadata": {},
   "outputs": [],
   "source": [
    "# Output: 15\n",
    "my_saving_plan(1000, 0.05, 2000)"
   ]
  },
  {
   "cell_type": "code",
   "execution_count": null,
   "metadata": {},
   "outputs": [],
   "source": [
    "# Output: 11\n",
    "my_saving_plan(1000, 0.07, 2000)"
   ]
  },
  {
   "cell_type": "code",
   "execution_count": null,
   "metadata": {},
   "outputs": [],
   "source": [
    "# Output: 21\n",
    "my_saving_plan(500, 0.07, 2000)"
   ]
  },
  {
   "cell_type": "markdown",
   "metadata": {
    "lang": "fr"
   },
   "source": [
    "7. Écrivez une fonction avec *my_find(M)*, où la sortie est une liste d'indices *i* où M[i] est 1. Vous pouvez supposer que *M* est une liste de seulement des uns et des zéros. N'utilisez pas la fonction Python intégrée find."
   ]
  },
  {
   "cell_type": "code",
   "execution_count": null,
   "metadata": {},
   "outputs": [],
   "source": [
    "# Output: [0, 2, 3]\n",
    "\n",
    "M = [1, 0, 1, 1, 0]\n",
    "\n",
    "my_find(M)"
   ]
  },
  {
   "cell_type": "markdown",
   "metadata": {
    "lang": "fr"
   },
   "source": [
    "8. Supposons que vous lancez deux dés à six faces, chaque face ayant une chance égale de se produire. Écrivez une fonction *my_monopoly_dice()*, où le résultat est la somme des valeurs des deux dés lancés mais avec la règle supplémentaire suivante : si les deux lancers de dés sont identiques, alors un autre lancer est effectué, et la nouvelle somme ajoutée au total cumulé. Par exemple, si les deux dés affichent 3 et 4, alors le total cumulé devrait être 7. Si les deux dés affichent 1 et 1, alors le total cumulé devrait être 2 plus le total d'un autre lancer. Les lancers s’arrêtent lorsque les lancers de dés sont différents."
   ]
  },
  {
   "cell_type": "markdown",
   "metadata": {
    "lang": "fr"
   },
   "source": [
    "9. Un nombre est premier s'il est divisible sans reste uniquement par lui-même et 1. Le nombre 1 n'est pas premier. Écrivez une fonction *my_is_prime(n)*, où la sortie est 1 si *n* est premier et 0 sinon. Supposons que *n* soit un entier strictement positif."
   ]
  },
  {
   "cell_type": "markdown",
   "metadata": {
    "lang": "fr"
   },
   "source": [
    "10. Écrivez une fonction *my_n_primes(n)* où primes est une liste des premiers *n* nombres premiers. Supposons que *n* soit un entier strictement positif."
   ]
  },
  {
   "cell_type": "markdown",
   "metadata": {
    "lang": "fr"
   },
   "source": [
    "11. Écrivez une fonction *my_n_fib_primes(n)*, où la sortie *fib_primes* est une liste des premiers *n* nombres qui sont à la fois un nombre de Fibonacci et un nombre premier. Remarque : 1 n’est pas premier. Astuce : n'utilisez pas l'implémentation récursive des nombres de Fibonacci. Une fonction pour calculer les nombres de Fibonacci est présentée dans la section 6.1. Vous pouvez utiliser le code librement."
   ]
  },
  {
   "cell_type": "code",
   "execution_count": null,
   "metadata": {},
   "outputs": [],
   "source": [
    "def my_n_fib_primes(n):\n",
    "    # write your function code here\n",
    "    \n",
    "    return fib_primes"
   ]
  },
  {
   "cell_type": "code",
   "execution_count": null,
   "metadata": {},
   "outputs": [],
   "source": [
    "# Output: [3, 5, 13, 89, 233, 1597, 28657, 514229]\n",
    "\n",
    "my_n_fib_primes(3)"
   ]
  },
  {
   "cell_type": "code",
   "execution_count": null,
   "metadata": {},
   "outputs": [],
   "source": [
    "# Output: [3, 5, 13]\n",
    "\n",
    "my_n_fib_primes(8)"
   ]
  },
  {
   "cell_type": "markdown",
   "metadata": {
    "lang": "fr"
   },
   "source": [
    "12. Écrivez une fonction *my_trig_odd_even(M)*, où la sortie $Q[i, j] = sin (\\pi/M[i, j])$ si $M[i,j]$ est impair, et $Q[i, j] = cos (\\pi/M[i, j])$ si $M[i, j]$ est pair. Supposons que M soit un tableau bidimensionnel d’entiers strictement positifs."
   ]
  },
  {
   "cell_type": "code",
   "execution_count": null,
   "metadata": {},
   "outputs": [],
   "source": [
    "def my_trig_odd_even(M):\n",
    "    # write your function code here\n",
    "    \n",
    "    return Q"
   ]
  },
  {
   "cell_type": "code",
   "execution_count": null,
   "metadata": {},
   "outputs": [],
   "source": [
    "# Output: [[0.8660, 0.7071], [0.8660, 0.4339]]\n",
    "M = [[3, 4], [6, 7]]\n",
    "my_trig_odd_even(M)"
   ]
  },
  {
   "cell_type": "markdown",
   "metadata": {
    "lang": "fr"
   },
   "source": [
    "13. Soit $C$ un tableau de connectivité carré contenant des zéros et des uns. On dit que le point $i$ a une connexion au point $j$ , ou $i$ est connecté à $j$ , si $C [i , j ] = 1$. Notez que les connexions dans ce contexte sont unidirectionnelles, ce qui signifie que $C [i , j]$ n'est pas nécessairement le même que $C [ j , i ]$. Par exemple, pensez à une rue à sens unique allant d’un point A à un point B. Si A est connecté à B, alors B n’est pas nécessairement connecté à A.\n",
    "\n",
    "Écrivez une fonction *my_connectivity_mat_2_dict(C, names)*, où *C* est un tableau de connectivité et *names* est une liste de chaînes qui désignent le nom d'un point. Autrement dit, *names[i]* est le nom du nom du *i-th* point.\n",
    "\n",
    "La variable de sortie *node* doit être un dict avec la clé comme chaîne dans *names* et la valeur est un vecteur contenant les indices, j, tels que $C[i,j] = 1$. En d’autres termes, il s’agit d’une liste de points auxquels le point i est connecté."
   ]
  },
  {
   "cell_type": "code",
   "execution_count": null,
   "metadata": {},
   "outputs": [],
   "source": [
    "def my_connectivity_mat_2_dict(C, names):\n",
    "    # write your function code here\n",
    "    return node"
   ]
  },
  {
   "cell_type": "code",
   "execution_count": null,
   "metadata": {},
   "outputs": [],
   "source": [
    "C = [[0, 1, 0, 1], [1, 0, 0, 1], [0, 0, 0, 1], [1, 1, 1, 0]]\n",
    "names = ['Los Angeles', 'New York', 'Miami', 'Dallas']"
   ]
  },
  {
   "cell_type": "code",
   "execution_count": null,
   "metadata": {},
   "outputs": [],
   "source": [
    "# Output: node['Los Angeles'] = [2, 4]\n",
    "#         node['New York'] = [1, 4]\n",
    "#         node['Miami'] = [4]\n",
    "#         node['Dallas'] = [1, 2, 3]\n",
    "\n",
    "node = my_connectivity_mat_2_dict(C, names)"
   ]
  },
  {
   "cell_type": "markdown",
   "metadata": {
    "lang": "fr"
   },
   "source": [
    "14. Transformez la liste de *mots* de caractères minuscules en majuscules à l'aide de la compréhension de liste."
   ]
  },
  {
   "cell_type": "code",
   "execution_count": null,
   "metadata": {},
   "outputs": [],
   "source": [
    "words = ['test', 'data', 'analyze']"
   ]
  }
 ],
 "metadata": {
  "kernelspec": {
   "display_name": "Python 3 (ipykernel)",
   "language": "python",
   "name": "python3"
  },
  "language_info": {
   "codemirror_mode": {
    "name": "ipython",
    "version": 3
   },
   "file_extension": ".py",
   "mimetype": "text/x-python",
   "name": "python",
   "nbconvert_exporter": "python",
   "pygments_lexer": "ipython3",
   "version": "3.12.2"
  },
  "nbTranslate": {
   "displayLangs": [
    "*"
   ],
   "hotkey": "alt-t",
   "langInMainMenu": true,
   "sourceLang": "en",
   "targetLang": "fr",
   "useGoogleTranslate": true
  }
 },
 "nbformat": 4,
 "nbformat_minor": 2
}
