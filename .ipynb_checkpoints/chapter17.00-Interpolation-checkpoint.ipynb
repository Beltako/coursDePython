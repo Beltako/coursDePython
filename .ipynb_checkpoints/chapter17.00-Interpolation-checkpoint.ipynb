{
 "cells": [
  {
   "cell_type": "markdown",
   "metadata": {
    "lang": "fr"
   },
   "source": [
    "# Chapitre 13. Interpolation"
   ]
  },
  {
   "cell_type": "markdown",
   "metadata": {
    "lang": "fr"
   },
   "source": [
    "#### SOMMAIRE\n",
    "\n",
    "---\n",
    "\n",
    "* [**13.1 Énoncé du problème d'interpolation**](chapitre17.01-Interpolation-Problem-Statement.ipynb)\n",
    "* [**13.2 Interpolation linéaire**](chapitre17.02-Linear-Interpolation.ipynb)\n",
    "* [**13.3 Interpolation de spline cubique**](chapitre17.03-Cubic-Spline-Interpolation.ipynb)\n",
    "* [**13.4 Interpolation polynomiale de Lagrange**](chapter17.04-Lagrange-Polynomial-Interpolation.ipynb)\n",
    "* [**13.5 Interpolation polynomiale de Newton**](chapter17.05-Newtons-Polynomial-Interpolation.ipynb)\n",
    "* [**13.6 Résumé et problèmes**](chapitre17.06-Résumé-et-problèmes.ipynb)"
   ]
  },
  {
   "cell_type": "markdown",
   "metadata": {
    "lang": "fr"
   },
   "source": [
    "---\n",
    "\n",
    "## Motivation\n",
    "\n",
    "Le chapitre précédent a utilisé la régression pour trouver les paramètres d'une fonction qui a le mieux estimé un ensemble de points de données. La régression suppose que l'ensemble de données comporte des erreurs de mesure et que vous devez trouver un ensemble de paramètres de modèle qui minimisent l'erreur entre votre modèle et les données. Cependant, vous disposez parfois de mesures supposées très fiables ; dans ces cas, vous souhaitez une fonction d’estimation qui passe en revue les points de données dont vous disposez. Cette technique est communément appelée interpolation.\n",
    "\n",
    "À la fin du chapitre, vous devriez être capable de comprendre et de calculer certaines de ces fonctions d'interpolation les plus courantes.\n",
    "\n",
    "---"
   ]
  }
 ],
 "metadata": {
  "kernelspec": {
   "display_name": "Python 3 (ipykernel)",
   "language": "python",
   "name": "python3"
  },
  "language_info": {
   "codemirror_mode": {
    "name": "ipython",
    "version": 3
   },
   "file_extension": ".py",
   "mimetype": "text/x-python",
   "name": "python",
   "nbconvert_exporter": "python",
   "pygments_lexer": "ipython3",
   "version": "3.12.2"
  },
  "nbTranslate": {
   "displayLangs": [
    "*"
   ],
   "hotkey": "alt-t",
   "langInMainMenu": true,
   "sourceLang": "en",
   "targetLang": "fr",
   "useGoogleTranslate": true
  }
 },
 "nbformat": 4,
 "nbformat_minor": 2
}
