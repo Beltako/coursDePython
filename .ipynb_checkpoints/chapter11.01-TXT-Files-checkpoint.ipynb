{
 "cells": [
  {
   "cell_type": "markdown",
   "metadata": {
    "lang": "fr"
   },
   "source": [
    "# 8.1 Fichiers TXT"
   ]
  },
  {
   "cell_type": "markdown",
   "metadata": {
    "lang": "fr"
   },
   "source": [
    "Jusqu'à présent, nous avons utilisé la fonction *print* pour afficher les données à l'écran. Mais il existe de nombreuses façons de stocker des données sur votre disque et de les partager avec d'autres programmes ou collègues. Par exemple, si j'ai des chaînes dans ce bloc-notes, mais que je souhaite les utiliser dans un autre bloc-notes, le moyen le plus simple consiste à stocker les chaînes dans un fichier texte, puis à l'ouvrir dans un autre bloc-notes. Un fichier **text**, souvent avec une extension **.txt**, est un fichier contenant uniquement du texte brut. Cependant, les programmes que vous écrivez et les programmes qui lisent votre fichier texte s'attendent généralement à ce que le fichier texte soit dans un certain format ; c'est-à-dire organisé d'une manière spécifique.\n",
    "\n",
    "Pour travailler avec des fichiers texte, nous devons utiliser la fonction *open* qui renvoie un *objet fichier*. Il est couramment utilisé avec deux arguments :\n",
    "```python\n",
    "f = open (nom de fichier, mode)\n",
    "```\n",
    "*f* est l'objet fichier renvoyé. Le nom de fichier est une chaîne où se trouve l'emplacement du fichier que vous souhaitez ouvrir, et le *mode* est une autre chaîne contenant quelques caractères décrivant la manière dont le fichier sera utilisé, les modes courants sont :\n",
    "\n",
    "*'r', c'est le mode par défaut, qui ouvre un fichier en lecture* 'w', ce mode ouvre un fichier en écriture, si le fichier n'existe pas, il crée un nouveau fichier.\n",
    "*'a', ouvre un fichier en mode ajout, ajoute les données à la fin du fichier. Si le fichier n'existe pas, il crée un nouveau fichier.* 'b', ouvre un fichier en mode binaire.\n",
    "*'r+', ouvre un fichier (ne pas créer) en lecture et en écriture.* 'w+', ouvrez ou créez un fichier pour l'écriture et la lecture, supprimez le contenu existant.\n",
    "*'a+', ouvrez ou créez un fichier pour la lecture et l'écriture, et ajoutez les données à la fin du fichier.\n",
    "\n",
    "### Écrire un fichier\n",
    "**ESSAYEZ-LE !** Créez un fichier texte appelé*test.txt* et écrivez-y quelques lignes."
   ]
  },
  {
   "cell_type": "code",
   "execution_count": 1,
   "metadata": {
    "button": false,
    "new_sheet": false,
    "run_control": {
     "read_only": false
    }
   },
   "outputs": [],
   "source": [
    "f = open('test.txt', 'w')\n",
    "for i in range(5):\n",
    "    f.write(f\"This is line {i}\\n\")\n",
    "    \n",
    "f.close()"
   ]
  },
  {
   "cell_type": "markdown",
   "metadata": {
    "lang": "fr"
   },
   "source": [
    "Nous avons pu voir le code ci-dessus indiquant que nous avons d'abord ouvert un objet fichier *f* avec le nom de fichier 'test.txt'. Nous avons utilisé \"w+\" pour le mode, qui indique l'écriture. Nous écrivons ensuite 5 lignes (notez la nouvelle ligne '\n",
    "' à la fin de la chaîne), puis nous fermons l'objet fichier. Nous pourrions voir le contenu du fichier dans la figure suivante.\n",
    "\n",
    "![Write_text](images/11.01.01-Write_text_file.png \"Le contenu du fichier texte que nous écrivons\")\n",
    "\n",
    "**REMARQUE !** Il est recommandé de fermer le fichier en utilisant `f.close()` à la fin. Si vous ne les fermez pas vous-même, Python finira par les fermer pour vous. Mais parfois, lors de l'écriture dans un fichier, les données peuvent ne pas être écrites sur le disque tant que vous n'avez pas fermé le fichier. Par conséquent, plus vous gardez le fichier ouvert longtemps, plus vous risquez de perdre vos données.\n",
    "\n",
    "### Ajouter à un fichier\n",
    "\n",
    "Maintenant, ajoutons une chaîne au fichier *test.txt*. C'est très similaire à la façon dont nous écrivons le fichier, avec une seule différence : changez le mode en « a » à la place."
   ]
  },
  {
   "cell_type": "code",
   "execution_count": 2,
   "metadata": {
    "button": false,
    "new_sheet": false,
    "run_control": {
     "read_only": false
    }
   },
   "outputs": [],
   "source": [
    "f = open('test.txt', 'a')\n",
    "f.write(f\"This is another line\\n\")\n",
    "f.close()"
   ]
  },
  {
   "cell_type": "markdown",
   "metadata": {
    "lang": "fr"
   },
   "source": [
    "![Append_text](images/11.01.02-Append_text_file.png \"Ajouter une ligne à la fin d'un fichier existant\")\n",
    "\n",
    "### Lire un fichier\n",
    "\n",
    "Nous pourrions lire un fichier à partir du disque et stocker tout le contenu dans une variable. Lisons le fichier *test.txt* que nous avons créé ci-dessus et stockons tout le contenu du fichier dans une variable *content*."
   ]
  },
  {
   "cell_type": "code",
   "execution_count": 3,
   "metadata": {
    "button": false,
    "new_sheet": false,
    "run_control": {
     "read_only": false
    }
   },
   "outputs": [
    {
     "name": "stdout",
     "output_type": "stream",
     "text": [
      "This is line 0\n",
      "This is line 1\n",
      "This is line 2\n",
      "This is line 3\n",
      "This is line 4\n",
      "This is another line\n",
      "\n"
     ]
    }
   ],
   "source": [
    "f = open('./test.txt', 'r')\n",
    "content = f.read()\n",
    "f.close()\n",
    "print(content)"
   ]
  },
  {
   "cell_type": "markdown",
   "metadata": {
    "lang": "fr"
   },
   "source": [
    "De cette manière, nous pourrions stocker toutes les lignes du fichier dans une variable chaîne, nous pourrions vérifier que la variable *content* est une chaîne."
   ]
  },
  {
   "cell_type": "code",
   "execution_count": 4,
   "metadata": {
    "button": false,
    "new_sheet": false,
    "run_control": {
     "read_only": false
    }
   },
   "outputs": [
    {
     "data": {
      "text/plain": [
       "str"
      ]
     },
     "execution_count": 4,
     "metadata": {},
     "output_type": "execute_result"
    }
   ],
   "source": [
    "type(content)"
   ]
  },
  {
   "cell_type": "markdown",
   "metadata": {
    "lang": "fr"
   },
   "source": [
    "Mais parfois, nous souhaitons lire le contenu des fichiers ligne par ligne et le stocker dans une liste. Nous pourrions utiliser *f.readlines()* pour y parvenir."
   ]
  },
  {
   "cell_type": "code",
   "execution_count": 5,
   "metadata": {
    "button": false,
    "new_sheet": false,
    "run_control": {
     "read_only": false
    },
    "scrolled": true
   },
   "outputs": [
    {
     "name": "stdout",
     "output_type": "stream",
     "text": [
      "['This is line 0\\n', 'This is line 1\\n', 'This is line 2\\n', 'This is line 3\\n', 'This is line 4\\n', 'This is another line\\n']\n"
     ]
    }
   ],
   "source": [
    "f = open('./test.txt', 'r')\n",
    "contents = f.readlines()\n",
    "f.close()\n",
    "print(contents)"
   ]
  },
  {
   "cell_type": "code",
   "execution_count": 6,
   "metadata": {
    "button": false,
    "new_sheet": false,
    "run_control": {
     "read_only": false
    }
   },
   "outputs": [
    {
     "data": {
      "text/plain": [
       "list"
      ]
     },
     "execution_count": 6,
     "metadata": {},
     "output_type": "execute_result"
    }
   ],
   "source": [
    "type(contents)"
   ]
  },
  {
   "cell_type": "markdown",
   "metadata": {
    "lang": "fr"
   },
   "source": [
    "### Gérer les nombres et les tableaux\n",
    "\n",
    "Puisque nous travaillons plus tard avec des méthodes numériques, et souvent, nous travaillons avec des nombres ou des tableaux. Nous pourrions utiliser les méthodes ci-dessus pour enregistrer les nombres ou les tableaux dans un fichier et le relire dans la mémoire. Mais ce n’est pas si pratique de cette façon. Au lieu de cela, nous utilisons généralement le package *numpy* pour enregistrer/lire directement un tableau. Voyons un exemple.\n",
    "\n",
    "**ESSAYEZ-LE !** Stockez un tableau [[1.20, 2.20, 3.00], [4.14, 5.65, 6.42]] dans un fichier nommé *my_array.txt* et relisez-le dans un variable appelée *my_arr*."
   ]
  },
  {
   "cell_type": "code",
   "execution_count": 7,
   "metadata": {
    "button": false,
    "collapsed": true,
    "new_sheet": false,
    "run_control": {
     "read_only": false
    }
   },
   "outputs": [],
   "source": [
    "import numpy as np"
   ]
  },
  {
   "cell_type": "code",
   "execution_count": 8,
   "metadata": {
    "button": false,
    "new_sheet": false,
    "run_control": {
     "read_only": false
    },
    "scrolled": false
   },
   "outputs": [
    {
     "data": {
      "text/plain": [
       "array([[1.2 , 2.2 , 3.  ],\n",
       "       [4.14, 5.65, 6.42]])"
      ]
     },
     "execution_count": 8,
     "metadata": {},
     "output_type": "execute_result"
    }
   ],
   "source": [
    "arr = np.array([[1.20, 2.20, 3.00], [4.14, 5.65, 6.42]])\n",
    "arr"
   ]
  },
  {
   "cell_type": "code",
   "execution_count": 9,
   "metadata": {
    "button": false,
    "collapsed": true,
    "new_sheet": false,
    "run_control": {
     "read_only": false
    }
   },
   "outputs": [],
   "source": [
    "np.savetxt('my_arr.txt', arr, fmt='%.2f', header = 'Col1 Col2 Col3')"
   ]
  },
  {
   "cell_type": "markdown",
   "metadata": {
    "lang": "fr"
   },
   "source": [
    "Nous pouvons voir dans l'exemple ci-dessus comment enregistrer un tableau 2D dans un fichier texte en utilisant *np.savetxt*. Le premier argument est le nom du fichier, le deuxième argument est l'objet arr que nous souhaitons enregistrer et le troisième argument est de définir le format de la sortie (j'utilise '%.2f' pour indiquer que nous voulons les nombres de sortie avec 2 décimales) . Le quatrième argument est l'en-tête que nous voulons écrire dans le fichier.\n",
    "\n",
    "![Write_array](images/11.01.03-Write_array.png \"Le tableau numpy que nous avons enregistré dans le fichier\")"
   ]
  },
  {
   "cell_type": "code",
   "execution_count": 10,
   "metadata": {
    "button": false,
    "new_sheet": false,
    "run_control": {
     "read_only": false
    },
    "scrolled": true
   },
   "outputs": [
    {
     "data": {
      "text/plain": [
       "array([[1.2 , 2.2 , 3.  ],\n",
       "       [4.14, 5.65, 6.42]])"
      ]
     },
     "execution_count": 10,
     "metadata": {},
     "output_type": "execute_result"
    }
   ],
   "source": [
    "my_arr = np.loadtxt('my_arr.txt')\n",
    "my_arr"
   ]
  },
  {
   "cell_type": "markdown",
   "metadata": {
    "lang": "fr"
   },
   "source": [
    "Nous pouvons voir que lire le fichier directement dans un tableau est très simple en utilisant la fonction *np.loadtxt*. Et il saute également le premier en-tête. Il existe de nombreux arguments différents qui pourraient contrôler la lecture, nous n'entrerons pas dans trop de détails ici, vous pouvez consulter la documentation ou utiliser le point d'interrogation pour obtenir de l'aide. Nous l'utiliserons également davantage dans la section suivante du chapitre."
   ]
  }
 ],
 "metadata": {
  "kernelspec": {
   "display_name": "Python 3 (ipykernel)",
   "language": "python",
   "name": "python3"
  },
  "language_info": {
   "codemirror_mode": {
    "name": "ipython",
    "version": 3
   },
   "file_extension": ".py",
   "mimetype": "text/x-python",
   "name": "python",
   "nbconvert_exporter": "python",
   "pygments_lexer": "ipython3",
   "version": "3.12.2"
  },
  "nbTranslate": {
   "displayLangs": [
    "*"
   ],
   "hotkey": "alt-t",
   "langInMainMenu": true,
   "sourceLang": "en",
   "targetLang": "fr",
   "useGoogleTranslate": true
  }
 },
 "nbformat": 4,
 "nbformat_minor": 2
}
