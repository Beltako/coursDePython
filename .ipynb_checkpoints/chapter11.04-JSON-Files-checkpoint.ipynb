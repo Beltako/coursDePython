{
 "cells": [
  {
   "cell_type": "markdown",
   "metadata": {
    "lang": "fr"
   },
   "source": [
    "# 8.4 Fichiers JSON"
   ]
  },
  {
   "cell_type": "markdown",
   "metadata": {
    "lang": "fr"
   },
   "source": [
    "**JSON** est un autre format que nous allons présenter. Cela signifie **JavaScript Object Notation**. Un fichier JSON se termine généralement par l'extension « .json ». Contrairement à Pickle, qui dépend de Python, JSON est un format de données indépendant du langage, ce qui le rend attrayant à utiliser. De plus, cela prend généralement moins de place sur le disque et la manipulation est plus rapide que le cornichon (si vous êtes intéressé, recherchez en ligne pour trouver plus de documents à ce sujet). C'est donc une bonne option de stocker vos données en utilisant JSON. Dans cette section, nous explorerons brièvement comment gérer les fichiers JSON en Python.\n",
    "\n",
    "##Format JSON\n",
    "\n",
    "Le texte en JSON est rédigé via une chaîne entre guillemets contenant une valeur dans des paires clé-valeur dans {}. Il est en fait très similaire au dictionnaire que nous avons vu en Python. Par exemple:\n",
    "\n",
    "```json\n",
    "{\n",
    "  \"école\": \"UC Berkeley\",\n",
    "  \"adresse\": {\n",
    "    \"ville\": \"Berkeley\",\n",
    "    \"state\": \"Californie\",\n",
    "    \"postal\": \"94720\"\n",
    "  },\n",
    "    \n",
    "  \"liste\":[\n",
    "      \"étudiant 1\",\n",
    "      \"étudiant 2\",\n",
    "      \"étudiant 3\"\n",
    "      ]\n",
    "}\n",
    "```\n",
    "\n",
    "## Écrire un fichier JSON\n",
    "\n",
    "En Python, le moyen le plus simple de gérer JSON est d'utiliser la bibliothèque « json ». Il existe d'autres bibliothèques telles que « simplejson », « jyson », etc. Dans cette section, nous utiliserons « json » qui est nativement pris en charge par Python pour écrire et charger des fichiers JSON.\n",
    "\n",
    "**ESSAYEZ-LE !** Créez un dictionnaire et enregistrez-le dans un fichier JSON sur le disque. Pour utiliser un cornichon, nous devons d'abord importer le module."
   ]
  },
  {
   "cell_type": "code",
   "execution_count": 1,
   "metadata": {
    "button": false,
    "new_sheet": false,
    "run_control": {
     "read_only": false
    }
   },
   "outputs": [],
   "source": [
    "import json"
   ]
  },
  {
   "cell_type": "code",
   "execution_count": 2,
   "metadata": {
    "button": false,
    "new_sheet": false,
    "run_control": {
     "read_only": false
    }
   },
   "outputs": [],
   "source": [
    "school = {\n",
    "  \"school\": \"UC Berkeley\",\n",
    "  \"address\": {\n",
    "    \"city\": \"Berkeley\", \n",
    "    \"state\": \"California\",\n",
    "    \"postal\": \"94720\"\n",
    "  }, \n",
    "    \n",
    "  \"list\":[\n",
    "      \"student 1\",\n",
    "      \"student 2\",\n",
    "      \"student 3\"\n",
    "      ],\n",
    "    \n",
    "  \"array\":[1, 2, 3]\n",
    "}\n",
    "json.dump(school, open('school.json', 'w'))"
   ]
  },
  {
   "cell_type": "markdown",
   "metadata": {
    "lang": "fr"
   },
   "source": [
    "Pour utiliser json pour sérialiser un objet, nous utilisons la fonction `json.dump`, qui prend deux arguments : le premier est l'objet et le deuxième argument est un objet fichier renvoyé par la fonction `open`. Notez ici que le mode de la fonction « open » est « w », ce qui indique l'écriture du fichier.\n",
    "\n",
    "## Lire un fichier JSON\n",
    "\n",
    "Maintenant, chargeons le fichier JSON que nous venons de sauvegarder sur le disque à l'aide de la fonction `json.load`."
   ]
  },
  {
   "cell_type": "code",
   "execution_count": 3,
   "metadata": {
    "button": false,
    "new_sheet": false,
    "run_control": {
     "read_only": false
    }
   },
   "outputs": [],
   "source": [
    "my_school = json.load(open('./school.json', 'r'))\n",
    "my_school"
   ]
  },
  {
   "cell_type": "markdown",
   "metadata": {
    "lang": "fr"
   },
   "source": [
    "Nous pouvons voir que l'utilisation de « json » est en fait très similaire à « pickle » dans la dernière section. JSON prend en charge différents types, comme les chaînes et les nombres, ainsi que les listes imbriquées, les tuples et les objets, nous vous laissons explorer davantage."
   ]
  }
 ],
 "metadata": {
  "kernelspec": {
   "display_name": "Python 3 (ipykernel)",
   "language": "python",
   "name": "python3"
  },
  "language_info": {
   "codemirror_mode": {
    "name": "ipython",
    "version": 3
   },
   "file_extension": ".py",
   "mimetype": "text/x-python",
   "name": "python",
   "nbconvert_exporter": "python",
   "pygments_lexer": "ipython3",
   "version": "3.12.2"
  },
  "nbTranslate": {
   "displayLangs": [
    "*"
   ],
   "hotkey": "alt-t",
   "langInMainMenu": true,
   "sourceLang": "en",
   "targetLang": "fr",
   "useGoogleTranslate": true
  }
 },
 "nbformat": 4,
 "nbformat_minor": 2
}
