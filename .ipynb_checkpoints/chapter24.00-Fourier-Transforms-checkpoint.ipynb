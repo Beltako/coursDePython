{
 "cells": [
  {
   "cell_type": "markdown",
   "metadata": {
    "lang": "fr"
   },
   "source": [
    "# Chapitre 20. Transformée de Fourier"
   ]
  },
  {
   "cell_type": "markdown",
   "metadata": {
    "lang": "fr"
   },
   "source": [
    "#### SOMMAIRE\n",
    "\n",
    "---\n",
    "\n",
    "* [**20.1 Les bases des vagues**](chapitre24.01-Les-bases-des-ondes.ipynb)\n",
    "* [**20.2 Transformée de Fourier discrète (DFT)**](chapter24.02-Discrete-Fourier-Transform.ipynb)\n",
    "* [**20.3 Transformation de Fourier rapide (FFT)**](chapitre24.03-Fast-Fourier-Transform.ipynb)\n",
    "* [**20.4 FFT en Python**](chapitre24.04-FFT-in-Python.ipynb)\n",
    "* [**20.5 Résumé et problèmes**](chapitre24.05-Résumé-et-problèmes.ipynb)"
   ]
  },
  {
   "cell_type": "markdown",
   "metadata": {
    "lang": "fr"
   },
   "source": [
    "---\n",
    "\n",
    "## Motivation\n",
    "\n",
    "Dans ce chapitre, nous allons commencer à vous présenter la méthode de Fourier qui doit son nom au mathématicien et physicien français Joseph Fourier, qui a utilisé ce type de méthode pour étudier le transfert de chaleur. L'idée de base de cette méthode est d'exprimer certaines fonctions complexes sous la forme d'une somme infinie d'ondes sinusoïdales et cosinusoïdales. Nous avons vu dans les chapitres précédents que l'on peut décomposer une fonction à l'aide des séries de Taylor, qui expriment la fonction avec une somme infinie de polynômes.\n",
    "\n",
    "La méthode de Fourier a de nombreuses applications en ingénierie et en sciences, telles que le traitement du signal, les équations aux dérivées partielles, le traitement d'images, etc. La transformée de Fourier rapide est choisie comme l'un des 10 algorithmes ayant la plus grande influence sur le développement et la pratique de la science et de l'ingénierie au 20e siècle dans le numéro de janvier/février 2000 de *Computing in Science and Engineering*. Dans ce chapitre, nous considérons la transformée de Fourier comme un chapitre indépendant en nous concentrant davantage sur le traitement du signal, que nous rencontrerons dans de nombreux problèmes en science et en ingénierie. À la fin de ce chapitre, vous devriez être capable de connaître les bases de la transformée de Fourier, ainsi que de savoir comment effectuer une analyse simple du signal avec celle-ci.\n",
    "\n",
    "---"
   ]
  }
 ],
 "metadata": {
  "kernelspec": {
   "display_name": "Python 3 (ipykernel)",
   "language": "python",
   "name": "python3"
  },
  "language_info": {
   "codemirror_mode": {
    "name": "ipython",
    "version": 3
   },
   "file_extension": ".py",
   "mimetype": "text/x-python",
   "name": "python",
   "nbconvert_exporter": "python",
   "pygments_lexer": "ipython3",
   "version": "3.12.2"
  },
  "nbTranslate": {
   "displayLangs": [
    "*"
   ],
   "hotkey": "alt-t",
   "langInMainMenu": true,
   "sourceLang": "en",
   "targetLang": "fr",
   "useGoogleTranslate": true
  }
 },
 "nbformat": 4,
 "nbformat_minor": 2
}
