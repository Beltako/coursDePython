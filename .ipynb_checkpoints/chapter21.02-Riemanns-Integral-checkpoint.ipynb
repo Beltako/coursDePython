{
 "cells": [
  {
   "cell_type": "markdown",
   "metadata": {
    "lang": "fr"
   },
   "source": [
    "# 17.2 Intégrale de Riemann"
   ]
  },
  {
   "cell_type": "markdown",
   "metadata": {
    "lang": "fr"
   },
   "source": [
    "La méthode la plus simple pour approximer les intégrales consiste à additionner l’aire des rectangles définis pour chaque sous-intervalle. La largeur du rectangle est $x_{i+1} - x_i = h$ et la hauteur est définie par une valeur de fonction $f(x)$ pour certains $x$ du sous-intervalle. Un choix évident pour la hauteur est la valeur de la fonction au point d'extrémité gauche, $x_i$, ou au point d'extrémité droit, $x_{i+1}$, car ces valeurs peuvent être utilisées même si la fonction elle-même n'est pas connue. Cette méthode donne l’approximation **Riemann Integral**, qui est\n",
    "\n",
    "$$\\int_a^b f(x) dx \\approx \\sum_{i = 0}^{n-1} hf(x_i),$$\n",
    "\n",
    "ou\n",
    "\n",
    "$$\\int_a^b f(x) dx \\approx \\sum_{i = 1}^{n} hf(x_i),$$\n",
    "\n",
    "selon que l'extrémité gauche ou droite est choisie.\n",
    "\n",
    "Comme pour la différenciation numérique, nous souhaitons caractériser la manière dont la précision s'améliore à mesure que $h$ devient petit. Pour déterminer cette caractérisation, nous réécrivons d’abord l’intégrale de $f(x)$ sur un sous-intervalle arbitraire en termes de série de Taylor. La série de Taylor de $f(x)$ autour de $a = x_i$ est\n",
    "\n",
    "$$f(x) = f(x_i) + f^{\\prime}(x_i)(x-x_i) + \\cdots$$\n",
    "\n",
    "Ainsi\n",
    "\n",
    "$$\\int_{x_i}^{x_{i+1}} f(x) dx = \\int_{x_i}^{x_{i+1}} (f(x_i) + f^{\\prime}(x_i)(x-x_i) + \\cdots)\\ dx$$\n",
    "\n",
    "par substitution de la série de Taylor à la fonction. Puisque l’intégrale se distribue, nous pouvons réorganiser le côté droit sous la forme suivante :\n",
    "\n",
    "$$\\int_{x_i}^{x_{i+1}} f(x_i) dx + \\int_{x_i}^{x_{i+1}} f^{\\prime}(x_i)(x-x_i)dx + \\cdots.\\$$\n",
    "\n",
    "La résolution de chaque intégrale séparément donne l’approximation\n",
    "\n",
    "$$\\int_{x_i}^{x_{i+1}} f(x) dx = hf(x_i) + \\frac{h^2}{2}f^{\\prime}(x_i) + O(h^3),$$\n",
    "\n",
    "ce qui est juste\n",
    "\n",
    "$$\\int_{x_i}^{x_{i+1}} f(x) dx = hf(x_i) + O(h^2).$$\n",
    "\n",
    "Puisque le terme $hf(x_i)$ est notre approximation intégrale de Riemann pour un seul sous-intervalle, l'approximation intégrale de Riemann sur un seul intervalle est $O(h^2)$.\n",
    "\n",
    "Si nous additionnons l’erreur $O(h^2)$ sur toute la somme de Riemann, nous obtenons $nO(h^2)$. La relation entre $n$ et $h$ est\n",
    "\n",
    "$$h = \\frac{b - a}{n},$$\n",
    "\n",
    "et ainsi notre erreur totale devient $\\frac{b - a}{h}O(h^2) = O(h)$ sur tout l'intervalle. La précision globale est donc $O(h)$.\n",
    "\n",
    "La **Règle du point médian** prend la hauteur du rectangle à chaque sous-intervalle comme étant la valeur de la fonction au point médian entre $x_i$ et $x_{i+1}$, que nous désignons par compacité par $y_i = \\frac{x_{i+1} + x_i}{2}$. La règle du point médian dit\n",
    "\n",
    "$$\\int_a^b f(x)dx \\approx \\sum_{i = 0}^{n-1} hf(y_i).$$\n",
    "\n",
    "De la même manière que l'intégrale de Riemann, nous prenons la série de Taylor de $f(x)$ autour de $y_i$, qui est\n",
    "\n",
    "$$f(x) = f(y_i) + f^{\\prime}(y_i)(x - y_i) + \\frac{f''(y_i)(x - y_i)^2}{2!} + \\cdots$$\n",
    "\n",
    "Alors l’intégrale sur un sous-intervalle est\n",
    "\n",
    "$$\\int_{x_i}^{x_{i+1}} f(x) dx= \\int_{x_i}^{x_{i+1}} \\left(f(y_i) + f^{\\prime}(y_i)(x - y_i) + \\frac{f''(y_i)(x - y_i)^2}{2!} + \\cdots\\right) dx,$$\n",
    "\n",
    "qui distribue à\n",
    "\n",
    "$$\\int_{x_i}^{x_{i+1}} f(x) dx= \\int_{x_i}^{x_{i+1}} f(y_i)dx + \\int_{x_i}^{x_{i+1}} f^{\\prime}(y_i)(x - y_i)dx + \\int_{x_i}^{x_{i+1}} \\frac{f''(y_i)(x - y_i)^2}{2!}dx + \\cdots.$$\n",
    "\n",
    "\n",
    "Reconnaissant que puisque $x_i$ et $x_{i+1}$ sont symétriques autour de $y_i$, alors $\\int_{x_i}^{x_{i+1}} f^{\\prime}(y_i)(x - y_i)dx = 0$. Cela est vrai pour l’intégrale de $(x - y_i)^p$ pour tout $p$ impair. Pour l'intégrale de $(x - y_i)^p$ et même avec $p$, il suffit de dire que $\\int_{x_i}^{x_{i+1}} (x - y_i)^p dx = \\int_{-\\frac{h}{2}}^{\\frac{h}{2}} x^p dx$, ce qui entraînera un multiple de $h^{p+1}$ sans puissances d'ordre inférieur de $h$.\n",
    "\n",
    "\n",
    "L'utilisation de ces faits réduit l'expression de l'intégrale de $f(x)$ à\n",
    "\n",
    "$$\\int_{x_i}^{x_{i+1}} f(x) dx= hf(y_i) + O(h^3).$$\n",
    "\n",
    "Puisque $hf(y_i)$ est l'approximation de l'intégrale sur le sous-intervalle, la règle du point médian est $O(h^3)$ pour un sous-intervalle, et en utilisant des arguments similaires à ceux de l'intégrale de Riemann, elle est $O(h^2)$ sur tout l'intervalle. Étant donné que la règle du point médian nécessite le même nombre de calculs que l’intégrale de Riemann, nous obtenons essentiellement un ordre de précision supplémentaire gratuitement ! Cependant, si $f(x_i)$ est donné sous forme de points de données, alors nous ne pourrons pas calculer $f(y_i)$ pour ce schéma d'intégration.\n",
    "\n",
    "**ESSAYEZ-LE !** Utilisez l'intégrale de Riemann gauche, l'intégrale de Riemann droite et la règle du point médian pour approximer $\\int_{0}^{\\pi} \\text{sin}(x) dx$ avec 11 points de grille uniformément espacés sur tout l'intervalle. Comparez cette valeur à la valeur exacte de 2."
   ]
  },
  {
   "cell_type": "code",
   "execution_count": 1,
   "metadata": {
    "button": false,
    "new_sheet": false,
    "run_control": {
     "read_only": false
    }
   },
   "outputs": [
    {
     "name": "stdout",
     "output_type": "stream",
     "text": [
      "1.9835235375094546\n",
      "0.01647646249054535\n",
      "1.9835235375094546\n",
      "0.01647646249054535\n",
      "2.0082484079079745\n",
      "-0.008248407907974542\n"
     ]
    }
   ],
   "source": [
    "import numpy as np\n",
    "\n",
    "a = 0\n",
    "b = np.pi\n",
    "n = 11\n",
    "h = (b - a) / (n - 1)\n",
    "x = np.linspace(a, b, n)\n",
    "f = np.sin(x)\n",
    "\n",
    "I_riemannL = h * sum(f[:n-1])\n",
    "err_riemannL = 2 - I_riemannL\n",
    "\n",
    "I_riemannR = h * sum(f[1::])\n",
    "err_riemannR = 2 - I_riemannR\n",
    "\n",
    "I_mid = h * sum(np.sin((x[:n-1] \\\n",
    "        + x[1:])/2))\n",
    "err_mid = 2 - I_mid\n",
    "\n",
    "print(I_riemannL)\n",
    "print(err_riemannL)\n",
    "\n",
    "print(I_riemannR)\n",
    "print(err_riemannR)\n",
    "\n",
    "print(I_mid)\n",
    "print(err_mid)"
   ]
  }
 ],
 "metadata": {
  "kernelspec": {
   "display_name": "Python 3 (ipykernel)",
   "language": "python",
   "name": "python3"
  },
  "language_info": {
   "codemirror_mode": {
    "name": "ipython",
    "version": 3
   },
   "file_extension": ".py",
   "mimetype": "text/x-python",
   "name": "python",
   "nbconvert_exporter": "python",
   "pygments_lexer": "ipython3",
   "version": "3.12.2"
  },
  "nbTranslate": {
   "displayLangs": [
    "*"
   ],
   "hotkey": "alt-t",
   "langInMainMenu": true,
   "sourceLang": "en",
   "targetLang": "fr",
   "useGoogleTranslate": true
  }
 },
 "nbformat": 4,
 "nbformat_minor": 2
}
