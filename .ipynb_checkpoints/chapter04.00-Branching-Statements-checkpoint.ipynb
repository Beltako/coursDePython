{
 "cells": [
  {
   "cell_type": "markdown",
   "metadata": {
    "lang": "fr"
   },
   "source": [
    "# Chapitre 4. Déclarations de branchement"
   ]
  },
  {
   "cell_type": "markdown",
   "metadata": {
    "lang": "fr"
   },
   "source": [
    "#### SOMMAIRE\n",
    "\n",
    "---\n",
    "\n",
    "* [**4.1 Déclarations If-Else**](chapter04.01-If-Else-Statements.ipynb)\n",
    "* [**4.2 Opérateurs ternaires**](chapter04.02-Ternary-Operators.ipynb)\n",
    "* [**4.3 Résumé et problèmes**](chapter04.03-Summary-and-Problems.ipynb)"
   ]
  },
  {
   "cell_type": "markdown",
   "metadata": {
    "lang": "fr"
   },
   "source": [
    "---\n",
    "\n",
    "## Motivation\n",
    "\n",
    "Lors de l’écriture de fonctions, il est très courant de vouloir que certaines parties du corps de la fonction ne soient exécutées que sous certaines conditions. Par exemple, si l'argument d'entrée est impair, vous souhaiterez peut-être que la fonction effectue une opération dessus et une autre si l'argument d'entrée est pair. Cet effet peut être obtenu en Python à l'aide d'instructions de branchement (c'est-à-dire l'exécution de branches de fonction sous certaines conditions), qui font l'objet de ce chapitre.\n",
    "\n",
    "À la fin de ce chapitre, vous devriez être capable de programmer des instructions de branchement dans vos fonctions et scripts, ce qui devrait considérablement augmenter la portée des tâches pour lesquelles vous pourrez créer des fonctions.\n",
    "\n",
    "---"
   ]
  }
 ],
 "metadata": {
  "kernelspec": {
   "display_name": "Python 3 (ipykernel)",
   "language": "python",
   "name": "python3"
  },
  "language_info": {
   "codemirror_mode": {
    "name": "ipython",
    "version": 3
   },
   "file_extension": ".py",
   "mimetype": "text/x-python",
   "name": "python",
   "nbconvert_exporter": "python",
   "pygments_lexer": "ipython3",
   "version": "3.12.2"
  },
  "nbTranslate": {
   "displayLangs": [
    "*"
   ],
   "hotkey": "alt-t",
   "langInMainMenu": true,
   "sourceLang": "en",
   "targetLang": "fr",
   "useGoogleTranslate": true
  }
 },
 "nbformat": 4,
 "nbformat_minor": 2
}
