{
 "cells": [
  {
   "cell_type": "markdown",
   "metadata": {
    "lang": "fr"
   },
   "source": [
    "# 11.3 La méthode QR\n",
    "\n",
    "La méthode QR est une méthode itérative privilégiée pour trouver toutes les valeurs propres d'une matrice (mais pas les vecteurs propres en même temps). L'idée est basée sur les deux concepts suivants\n",
    "\n",
    "1. des matrices similaires auront les mêmes valeurs propres et les mêmes vecteurs propres associés. Deux matrices carrées $A$ et $B$ sont similaires si :\n",
    "\n",
    " $$A = C^{-1}BC$$\n",
    "\n",
    " où $C$ est une matrice inversible. \n",
    "\n",
    "2. La méthode QR est un moyen de décomposer une matrice en deux matrices $Q$ et $R$, où $Q$ est une matrice orthogonale et $R$ est une matrice triangulaire supérieure. Une matrice orthogonale a les caractéristiques : $Q^{-1} = Q^T$, ce qui signifie $Q^{-1}Q=Q^TQ=I$. \n",
    "\n",
    "Comment relier ces deux concepts pour trouver les valeurs propres ? Disons que nous\n",
    "avoir une matrice $A_0$ dont les valeurs propres doivent être déterminées. À la $k$-ème étape (en commençant par $k = 0$), nous pouvons effectuer la décomposition QR et obtenir $A_k = Q_kR_k$, où $Q_k$ est une matrice orthogonale et $R_k$ est une matrice triangulaire supérieure. On forme alors $A_{k+1} = R_kQ_k$, dont on note que \n",
    "\n",
    "$$A_{k+1} = R_kQ_k = Q^{-1}_kQ_kR_kQ_k = Q^{-1}_kA_kQ_k$$\n",
    "par conséquent, tous les $A_k$ sont similaires, comme nous l’avons vu ci-dessus, ils ont tous les mêmes valeurs propres. \n",
    "\n",
    "Au fur et à mesure de l'itération, nous finirons par converger vers une forme matricielle triangulaire supérieure :\n",
    "\n",
    "$$ A_k = R_kQ_k = \\begin{bmatrix}\n",
    "\\lambda_1 & X & \\dots & X\\\\\n",
    "0 & \\lambda_2 & \\dots & X\\\\\n",
    "& &\\dots &\\\\\n",
    "0 & 0 & \\dots & \\lambda_n\\\\\n",
    "\\end{bmatrix}$$\n",
    "\n",
    "où les valeurs diagonales sont les valeurs propres de la matrice. À chaque itération de la méthode QR, la factorisation d'une matrice en une matrice orthogonale et une matrice triangulaire supérieure peut être effectuée en utilisant une matrice spéciale appelée **Matrice de ménage**. Nous n'entrerons pas dans les détails mathématiques de la façon dont vous obtenez les $Q$ et $R$ à partir de la matrice, nous utiliserons plutôt la fonction Python pour obtenir directement les deux matrices.\n",
    "\n",
    "**ESSAYEZ-LE !** Utilisez la fonction *qr* dans numpy.linalg pour décomposer la matrice $A = \\begin{bmatrix}\n",
    "0 & 2\\\\\n",
    "2 & 3\\\\\n",
    "\\end{bmatrix}$. Et vérifiez les résultats."
   ]
  },
  {
   "cell_type": "code",
   "execution_count": 1,
   "metadata": {
    "button": false,
    "collapsed": true,
    "new_sheet": false,
    "run_control": {
     "read_only": false
    }
   },
   "outputs": [],
   "source": [
    "import numpy as np\n",
    "from numpy.linalg import qr"
   ]
  },
  {
   "cell_type": "code",
   "execution_count": 2,
   "metadata": {
    "button": false,
    "new_sheet": false,
    "run_control": {
     "read_only": false
    }
   },
   "outputs": [
    {
     "name": "stdout",
     "output_type": "stream",
     "text": [
      "Q: [[ 0. -1.]\n",
      " [-1.  0.]]\n",
      "R: [[-2. -3.]\n",
      " [ 0. -2.]]\n",
      "QR: [[0. 2.]\n",
      " [2. 3.]]\n"
     ]
    }
   ],
   "source": [
    "a = np.array([[0, 2], \n",
    "              [2, 3]])\n",
    "\n",
    "q, r = qr(a)\n",
    "\n",
    "print('Q:', q)\n",
    "print('R:', r)\n",
    "\n",
    "b = np.dot(q, r)\n",
    "print('QR:', b)"
   ]
  },
  {
   "cell_type": "markdown",
   "metadata": {
    "lang": "fr"
   },
   "source": [
    "**ESSAYEZ-LE !** Utilisez la méthode QR pour obtenir les valeurs propres de la matrice $A = \\begin{bmatrix}\n",
    "0 & 2\\\\\n",
    "2 & 3\\\\\n",
    "\\end{bmatrix}$. Faites 20 itérations et imprimez la 1ère, la 5ème, la 10ème et la 20ème itération."
   ]
  },
  {
   "cell_type": "code",
   "execution_count": 3,
   "metadata": {
    "button": false,
    "new_sheet": false,
    "run_control": {
     "read_only": false
    }
   },
   "outputs": [
    {
     "name": "stdout",
     "output_type": "stream",
     "text": [
      "Iteration 1:\n",
      "[[3. 2.]\n",
      " [2. 0.]]\n",
      "Iteration 5:\n",
      "[[ 3.99998093  0.00976559]\n",
      " [ 0.00976559 -0.99998093]]\n",
      "Iteration 10:\n",
      "[[ 4.00000000e+00  9.53674316e-06]\n",
      " [ 9.53674316e-06 -1.00000000e+00]]\n",
      "Iteration 20:\n",
      "[[ 4.00000000e+00  9.09484250e-12]\n",
      " [ 9.09494702e-12 -1.00000000e+00]]\n"
     ]
    }
   ],
   "source": [
    "a = np.array([[0, 2], \n",
    "              [2, 3]])\n",
    "p = [1, 5, 10, 20]\n",
    "for i in range(20):\n",
    "    q, r = qr(a)\n",
    "    a = np.dot(r, q)\n",
    "    if i+1 in p:\n",
    "        print(f'Iteration {i+1}:')\n",
    "        print(a)"
   ]
  },
  {
   "cell_type": "markdown",
   "metadata": {
    "lang": "fr"
   },
   "source": [
    "On peut voir après la 5ème itération, les valeurs propres convergent vers les bonnes. \n",
    "\n",
    "Dans la section suivante, nous verrons comment obtenir facilement les valeurs propres et les vecteurs propres en Python à l'aide de la fonction intégrée."
   ]
  }
 ],
 "metadata": {
  "kernelspec": {
   "display_name": "Python 3 (ipykernel)",
   "language": "python",
   "name": "python3"
  },
  "language_info": {
   "codemirror_mode": {
    "name": "ipython",
    "version": 3
   },
   "file_extension": ".py",
   "mimetype": "text/x-python",
   "name": "python",
   "nbconvert_exporter": "python",
   "pygments_lexer": "ipython3",
   "version": "3.12.2"
  },
  "nbTranslate": {
   "displayLangs": [
    "*"
   ],
   "hotkey": "alt-t",
   "langInMainMenu": true,
   "sourceLang": "en",
   "targetLang": "fr",
   "useGoogleTranslate": true
  }
 },
 "nbformat": 4,
 "nbformat_minor": 2
}
