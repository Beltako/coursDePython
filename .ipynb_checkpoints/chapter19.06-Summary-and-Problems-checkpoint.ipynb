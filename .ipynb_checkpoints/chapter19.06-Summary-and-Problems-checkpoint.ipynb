{
 "cells": [
  {
   "cell_type": "markdown",
   "metadata": {
    "lang": "fr"
   },
   "source": [
    "# 15.6 Résumé\n",
    "\n",
    "\n",
    "1. Les racines sont une propriété importante des fonctions.\n",
    "2. La méthode de bissection est une manière de trouver des racines basée sur le principe diviser pour mieux régner. Bien que stable, elle pourrait converger lentement par rapport à la méthode de Newton-Raphson.\n",
    "3. La méthode de Newton-Raphson est une manière différente de trouver des racines basée sur une approximation de la fonction. La méthode de Newton-Raphson converge rapidement vers la racine réelle, mais peut avoir un comportement instable."
   ]
  },
  {
   "cell_type": "markdown",
   "metadata": {
    "lang": "fr"
   },
   "source": [
    "# Problèmes\n",
    "\n",
    "1. Écrivez une fonction $my\\_nth\\_root(x, n, tol)$, où $x$ et $tol$ sont des scalaires strictement positifs et $n$ est un entier strictement supérieur à 1. L'argument de sortie, $r$, doit être une approximation $r = \\sqrt[N]{x}$, la $N$-ème racine de $x$. Cette approximation doit être calculée en utilisant la méthode de Newton Raphson pour trouver la racine de la fonction $f(y) = y^N - x$. La métrique d’erreur doit être $|f(y)|$.\n",
    "\n",
    "2. Écrivez une fonction $my\\_fixed\\_point(f, g, tol, max_iter)$, où $f$ et $g$ sont des objets fonction et $tol$ et $max\\_iter$ sont des scalaires strictement positifs. L'argument d'entrée, $max\\_iter$, est également un entier. L'argument de sortie, $X$, doit être un scalaire satisfaisant $|f(X) - g(X)| < tol$ ; c'est-à-dire que $X$ est un point qui satisfait (presque) $f(X) = g(X)$. Pour trouver $X$, vous devez utiliser la méthode Bisection avec une métrique d'erreur, $|F(m)| < tol$. La fonction $my\\_fixed\\_point$ devrait \"abandonner\" après le nombre d'itérations $max\\_iter$ et renvoyer $X = []$ si cela se produit.\n",
    "\n",
    "3. Pourquoi la méthode de bissection échoue-t-elle pour $f(x) = 1/x$ avec l'erreur donnée par $|b-a|$ ? Indice : comment $f(x)$ viole-t-il le théorème des valeurs intermédiaires ?\n",
    "\n",
    "4. Écrivez une fonction $my\\_bisection(f, a, b, tol)$, qui renvoie $[R, E]$, où $f$ est un objet fonction, $a$ et $b$ sont des scalaires tels que $a < b$ et $tol$ est une valeur scalaire strictement positive. La fonction doit renvoyer un tableau, $R$, où $R[i]$ est l'estimation de la racine de $f$ définie par $(a + b)/2$ pour la $i$-ème itération de la méthode de bissection. N'oubliez pas d'inclure l'estimation initiale. La fonction doit également renvoyer un tableau, $E$, où $E[i]$ est la valeur de $| f(R[i]) |$ pour la $i$-ème itération de la méthode de bissection. La fonction doit se terminer lorsque $E(i) < tol$. Vous pouvez supposer que ${\\text{sign}}(f(a)) \\neq {\\text{sign}}(f(b))$.\n",
    "\n",
    " Clarification : Les entrées $a$ et $b$ constituent la première itération de la bissection, et donc $R$ et $E$ ne doivent jamais être vides.\n",
    " \n",
    " Cas de tests :\n",
    " \n",
    " ```python\n",
    " Dans : f = lambda x : x**2 - 2\n",
    "     [R, E] = ma_bisection(f, 0, 2, 1e-1)\n",
    " Sortie : R = [1, 1,5, 1,25, 1,375, 1,4375]\n",
    "      E = [1, 0,25, 0,4375, 0,109375, 0,06640625]\n",
    "        \n",
    " Dans : f = lambda x : np.sin(x) - np.cos(x)\n",
    "     [R, E] = ma_bisection(f, 0, 2, 1e-2)\n",
    " Sortie : R = [1, 0,5, 0,75, 0,875, 0,8125, 0,78125]\n",
    "      E = [0,30116867893975674, 0,39815702328616975, 0,05005010885048666, 0,12654664407270177, 0,038323093040207645, 0,0058663721115 45948]\n",
    " ```\n",
    "\n",
    "5. Écrivez une fonction $my\\_newton(f, df, x0, tol)$, qui renvoie $[R, E]$, où $f$ est un objet fonction, $df$ est un objet fonction de la dérivée de $f$, $x0$ est une estimation initiale de la racine et $tol$ est un scalaire strictement positif. La fonction doit renvoyer un tableau, $R$, où $R[i)]$ est l'estimation Newton-Raphson de la racine de $f$ pour la $i$-ème itération. N'oubliez pas d'inclure l'estimation initiale. La fonction doit également renvoyer un tableau, $E$, où $E[i]$ est la valeur de $| f(R[i]) |$ pour la $i$-ème itération de la méthode Newton-Raphson. La fonction doit se terminer lorsque $E(i) < tol$. Vous pouvez supposer que la dérivée de $f$ n'atteindra pas 0 lors d'une itération pour aucun des cas de test donnés.\n",
    "\n",
    " Cas de tests :\n",
    " \n",
    " ```python\n",
    " Dans : f = lambda x : x**2 - 2\n",
    "    df = lambda x : 2*x\n",
    "     [R, E] = mon_newton(f, df, 1, 1e-5)\n",
    " Sortie : R = [1, 1,5, 1,4166666666666667, 1,4142156862745099]\n",
    "      E = [1, 0,25, 0,0069444444444444642, 6,007304882871267e-06]\n",
    "        \n",
    " Dans : f = lambda x : np.sin(x) - np.cos(x)\n",
    "    df = lambda x : np.cos(x) + np.sin(x)\n",
    "     [R, E] = mon_newton(f, df, 1, 1e-5)\n",
    " Sortie : R = [1, 0,782041901539138, 0,7853981759997019]\n",
    "      E = [0,30116867893975674, 0,004746462127804163, 1,7822277875723103e-08]\n",
    " ```\n",
    "\n",
    "6. Considérez le problème de la construction d'un pipeline depuis une plate-forme pétrolière offshore, à une distance de $H$ milles du rivage, jusqu'à une station de raffinage de pétrole sur terre, à une distance de $L$ milles le long du rivage. Le coût de construction du tuyau est de $C_{\\text{ocean}/\\text{mile}}$ lorsque le tuyau est sous l'océan et de $C_{\\text{land}/\\text{mile}}$ lorsque le tuyau est sur terre. Le tuyau sera construit en ligne droite vers le rivage où il entrera en contact à un moment donné, $x$, entre 0 et $L$. Il continuera le long du rivage à terre jusqu'à atteindre la raffinerie de pétrole. Voir la figure pour plus de précisions.\n",
    "\n",
    "<img src=\"./images/19.05.01-Oil-platform.png\" alt=\"Problem 6\" title=\"\" width=\"300\"/>\n",
    " \n",
    " Écrivez une fonction $my\\_pipe\\_builder(C\\_ocean, C\\_land, L, H)$, où les arguments d'entrée sont tels que décrits précédemment et $x$ est la valeur x qui minimise le coût total du pipeline. Vous devez utiliser la méthode de bissection pour déterminer cette valeur dans une tolérance de $1\\times10^{-6}$ en commençant par une limite initiale de $a=0$ et $b=L$.\n",
    " \n",
    "  Cas de tests :\n",
    "  \n",
    "  ```python\n",
    "  Dans : mon_pipe_builder(20, 10, 100, 50)\n",
    "  Sortant : 28.867512941360474\n",
    "    \n",
    "  Dans : mon_pipe_builder(30, 10, 100, 50)\n",
    "  Sortie : 17.677670717239380\n",
    "    \n",
    "  Dans : mon_pipe_builder(30, 10, 100, 20)\n",
    "  Sortie : 7.071067392826080\n",
    " ```\n",
    " \n",
    "7. Trouvez une fonction $f(x)$ et devinez la racine de $f, x_0$, de telle sorte que la méthode de Newton-Raphson oscille indéfiniment entre $x_0$ et $-x_0$."
   ]
  }
 ],
 "metadata": {
  "kernelspec": {
   "display_name": "Python 3 (ipykernel)",
   "language": "python",
   "name": "python3"
  },
  "language_info": {
   "codemirror_mode": {
    "name": "ipython",
    "version": 3
   },
   "file_extension": ".py",
   "mimetype": "text/x-python",
   "name": "python",
   "nbconvert_exporter": "python",
   "pygments_lexer": "ipython3",
   "version": "3.12.2"
  },
  "nbTranslate": {
   "displayLangs": [
    "*"
   ],
   "hotkey": "alt-t",
   "langInMainMenu": true,
   "sourceLang": "en",
   "targetLang": "fr",
   "useGoogleTranslate": true
  }
 },
 "nbformat": 4,
 "nbformat_minor": 2
}
