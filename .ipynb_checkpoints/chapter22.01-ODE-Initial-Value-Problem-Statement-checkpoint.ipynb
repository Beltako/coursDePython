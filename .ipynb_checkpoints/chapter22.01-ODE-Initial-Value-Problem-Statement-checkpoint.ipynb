{
 "cells": [
  {
   "cell_type": "markdown",
   "metadata": {
    "lang": "fr"
   },
   "source": [
    "# 18.1 Énoncé du problème de valeur initiale de l'ODE"
   ]
  },
  {
   "cell_type": "markdown",
   "metadata": {
    "lang": "fr"
   },
   "source": [
    "Une **équation différentielle** est une relation entre une fonction, $f(x)$, sa variable indépendante, $x$, et un nombre quelconque de ses dérivées. Une **équation différentielle ordinaire** ou **ODE** est une équation différentielle où la variable indépendante, et donc aussi les dérivées, est à une dimension. Pour les besoins de ce livre, nous supposons qu'une ODE peut être écrite\n",
    "\n",
    "$$\n",
    "F\\left(x, f(x), \\frac{df(x)}{dx}, \\frac{d^2f(x)}{dx^2}, \\frac{d^3f(x)}{dx^3}, \\ldots, \\frac{d^{n-1}f(x)}{dx^{n-1}}\\right) = \\frac{d^{n}f(x)}{dx^{n}},\n",
    "$$\n",
    "\n",
    "où $F$ est une fonction arbitraire qui incorpore un ou tous les arguments d'entrée, et $n$ est l'**ordre** de l'équation différentielle. Cette équation est appelée une ODE d'ordre **$n^{\\mathrm{th}}$**.\n",
    "\n",
    "\n",
    "<img src=\"images/22.01.01-pendulum.png\" alt=\"Pendulum system\" title=\"Pendulum system.\" width=\"200\"/>idhtml1\n",
    "\n",
    "Pour donner un exemple d'ODE, considérons un pendule de longueur $l$ avec une masse, $m$, à son extrémité (voir la figure ci-dessus). L'angle que fait le pendule avec l'axe vertical au fil du temps, $\\Theta(t)$, en présence de gravité verticale, $g$, peut être décrit par l'équation du pendule, qui est l'ODE.\n",
    "\n",
    "$$\n",
    "ml\\frac{d^2\\Theta(t)}{dt^2} = -mg \\sin(\\Theta(t)).\n",
    "$$\n",
    "\n",
    "Cette équation peut être dérivée en additionnant les forces dans les directions $x$ et $y$, puis en passant aux coordonnées polaires.\n",
    "\n",
    "En revanche, une **équation différentielle partielle** ou **PDE** est une équation différentielle de forme générale où $x$ est un vecteur contenant les variables indépendantes $x_1, x_2, x_3, \\ldots, x_m$, et les dérivées partielles peuvent être de n'importe quel type. ordre et par rapport à toute combinaison de variables. Un exemple d’EDP est l’équation de la chaleur, qui décrit l’évolution de la température dans l’espace au fil du temps :\n",
    "\n",
    "$$\n",
    "\\frac{\\partial u(t, x, y, z)}{\\partial t} = \\alpha\\left(\\frac{\\partial u(t, x, y, z)}{\\partial x} + \\frac{\\partial u(t, x, y, z)}{\\partial y} + \\frac{\\partial u(t, x, y, z)}{\\partial z}\\right).\n",
    "$$\n",
    "\n",
    "Ici, $u(t, x, y, z)$ est la température à $(x,y,z)$ au temps $t$, et $\\alpha$ est une constante de diffusion thermique.\n",
    "\n",
    "Une **solution générale** d'une équation différentielle est un $g(x)$ qui satisfait l'équation différentielle. Bien qu’il existe généralement de nombreuses solutions à une équation différentielle, elles restent difficiles à trouver. Pour une EDO d'ordre $n$, une **solution particulière** est une $p(x)$ qui satisfait l'équation différentielle *et n* explicitement **valeurs connues** de la solution, ou ses dérivés, à certains moments. De manière générale, $p(x)$ doit satisfaire l'équation différentielle et $p^{(j)}(x_i) = p_i$, où $p^{(j)}$ est le dérivé $j^{\\mathrm{th}}$ de $p$, pour les triplets $n$, $(j, x_i, p_i)$. Pour les besoins de ce texte, nous appelons simplement la solution particulière la **solution**.\n",
    "\n",
    "**ESSAYEZ-LE !** Pour revenir à l'exemple du pendule, si nous supposons que les angles sont très petits (c'est-à-dire $\\sin(\\Theta(t)) \\approx \\Theta(t)$), alors l'équation du pendule se réduit à\n",
    "\n",
    "$$\n",
    "l\\frac{d^2\\Theta(t)}{dt^2} = -g\\Theta(t).\n",
    "$$\n",
    "\n",
    "Vérifiez que $\\Theta(t) = \\cos\\left(\\sqrt{\\frac{g}{l}}t\\right)$ est une solution générale de l'équation du pendule. Si l'angle et les vitesses angulaires à $t = 0$ sont les valeurs connues, $\\Theta_0$ et 0, respectivement, vérifiez que $\\Theta(t) = \\Theta_0\\cos\\left(\\sqrt{\\frac{g}{l}}t\\right)$ est une solution particulière pour ces valeurs connues.\n",
    "\n",
    "Pour la solution générale, les dérivées de $\\Theta(t)$ sont\n",
    "\n",
    "$$\n",
    "\\frac{d\\Theta(t)}{dt} = -\\sqrt{\\frac{g}{l}}\\sin\\left(\\sqrt{\\frac{g}{l}}t\\right)\n",
    "$$\n",
    "\n",
    "et\n",
    "\n",
    "$$\n",
    "\\frac{d^2\\Theta(t)}{dt^2} = -\\frac{g}{l}\\cos\\left(\\sqrt{\\frac{g}{l}}t\\right).\n",
    "$$\n",
    "\n",
    "En rebranchant la dérivée seconde dans l’équation différentielle du côté gauche, il est facile de vérifier que $\\Theta(t)$ satisfait l’équation et est donc une solution générale.\n",
    "\n",
    "Pour la solution particulière, le coefficient $\\Theta_0$ portera sur les dérivées, et on peut vérifier que l'équation est satisfaite. $\\Theta(0) = \\Theta_0 \\cos(0) = \\Theta_0$ et $0 = -\\Theta_0 \\sqrt{\\frac{g}{l}}\\sin(0) = 0$, donc la solution particulière satisfait également les valeurs connues.\n",
    "\n",
    "Un pendule oscillant selon de petits angles est en effet un pendule très inintéressant. Malheureusement, il n’existe pas de solution explicite pour l’équation du pendule avec de grands angles qui soit aussi simple algébriquement. Étant donné que ce système est beaucoup plus simple que la plupart des systèmes d’ingénierie pratiques et n’a pas de solution analytique évidente, le besoin de solutions numériques aux ODE est clair.\n",
    "\n",
    "\n",
    "Un ensemble commun de valeurs connues pour une solution ODE est la **valeur initiale**. Pour une ODE d'ordre $n$, la valeur initiale est une valeur connue pour les dérivées $0^{\\mathrm{th}}$ à $(n-1)^{\\mathrm{th}}$ en $x = 0, f(0), f^{(1)}(0), f^{(2)}(0),\\ldots, f^{(n-1)}(0)$. Pour une certaine classe d’équations différentielles ordinaires, la valeur initiale est suffisante pour trouver une solution particulière unique. Trouver une solution à une ODE à partir d'une valeur initiale est appelé le **problème de valeur initiale**. Bien que le nom suggère que nous ne couvrirons que les ODE qui évoluent dans le temps, les problèmes de valeur initiale peuvent également inclure des systèmes qui évoluent dans d'autres dimensions telles que l'espace. Intuitivement, l’équation du pendule peut être résolue comme un problème de valeur initiale car sous la seule force de gravité, une position et une vitesse initiales devraient être suffisantes pour décrire le mouvement du pendule pour toujours.\n",
    "\n",
    "Le reste de ce chapitre couvre plusieurs méthodes d'approximation numérique de la solution de problèmes de valeur initiale sur une grille numérique. Bien que les problèmes de valeurs initiales englobent plus que de simples équations différentielles dans le temps, nous utilisons le temps comme variable indépendante. Nous utilisons également plusieurs notations pour la dérivée de $f(t): f^{\\prime}(t), f^{(1)}(t), \\frac{df(t)}{dt}$ et $\\dot{f}$, selon celle qui convient le mieux au contexte."
   ]
  }
 ],
 "metadata": {
  "kernelspec": {
   "display_name": "Python 3 (ipykernel)",
   "language": "python",
   "name": "python3"
  },
  "language_info": {
   "codemirror_mode": {
    "name": "ipython",
    "version": 3
   },
   "file_extension": ".py",
   "mimetype": "text/x-python",
   "name": "python",
   "nbconvert_exporter": "python",
   "pygments_lexer": "ipython3",
   "version": "3.12.2"
  },
  "nbTranslate": {
   "displayLangs": [
    "*"
   ],
   "hotkey": "alt-t",
   "langInMainMenu": true,
   "sourceLang": "en",
   "targetLang": "fr",
   "useGoogleTranslate": true
  }
 },
 "nbformat": 4,
 "nbformat_minor": 2
}
