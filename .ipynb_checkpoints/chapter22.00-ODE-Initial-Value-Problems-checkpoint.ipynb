{
 "cells": [
  {
   "cell_type": "markdown",
   "metadata": {
    "lang": "fr"
   },
   "source": [
    "# Chapitre 18. Équation différentielle ordinaire - Problèmes de valeur initiale"
   ]
  },
  {
   "cell_type": "markdown",
   "metadata": {
    "lang": "fr"
   },
   "source": [
    "#### SOMMAIRE\n",
    "\n",
    "---\n",
    "\n",
    "* [**18.1 Énoncé du problème de valeur initiale de l'ODE**](chapter22.01-ODE-Initial-Value-Problem-Statement.ipynb)\n",
    "* [**18.2 Réduction de la commande**](chapter22.02-Reduction-of-Order.ipynb)\n",
    "* [**18.3 La méthode Euler**](chapter22.03-La-Méthode-Euler.ipynb)\n",
    "* [**18.4 Erreur numérique et instabilité**](chapter22.04-Numerical-Error-and-Instability.ipynb)\n",
    "* [**18.5 Méthodes de prédicteur-correcteur**](chapter22.05-Predictor-Corrector-Methods.ipynb)\n",
    "* [**18.6 Solveurs ODE Python**](chapter22.06-Python-ODE-Solvers.ipynb)\n",
    "* [**18.7 Sujets avancés**](chapter22.07-Advanced-Topics.ipynb)\n",
    "* [**18.8 Résumé et problèmes**](chapitre22.08-Résumé-et-problèmes.ipynb)"
   ]
  },
  {
   "cell_type": "markdown",
   "metadata": {
    "lang": "fr"
   },
   "source": [
    "--- \n",
    "\n",
    "## Motivation\n",
    "\n",
    "Les équations différentielles sont des relations entre une fonction et ses dérivées, et elles sont utilisées pour modéliser des systèmes dans *tous* domaines de l'ingénierie et des sciences. Par exemple, une simple équation différentielle relie l’accélération d’une voiture à sa position. Contrairement à la différenciation où des solutions analytiques peuvent généralement être calculées, il est généralement très difficile de trouver des solutions exactes aux équations différentielles. Par conséquent, les solutions numériques sont essentielles pour rendre ces équations utiles à la conception et à la compréhension des systèmes d’ingénierie et scientifiques. \n",
    "\n",
    "Les équations différentielles étant si courantes en ingénierie, en physique et en mathématiques, leur étude constitue un domaine vaste et riche qui ne peut être couvert dans ce texte d’introduction. Ce chapitre couvre les équations différentielles ordinaires avec des valeurs initiales spécifiées, une sous-classe de problèmes d'équations différentielles appelés problèmes de valeurs initiales. Pour refléter l’importance de cette classe de problèmes, Python dispose de toute une suite de fonctions pour résoudre ce type de problèmes. À la fin de ce chapitre, vous devriez comprendre ce que sont les problèmes de valeur initiale d'équation différentielle ordinaires, comment poser ces problèmes à Python et comment fonctionnent ces solveurs Python. \n",
    "\n",
    "---"
   ]
  }
 ],
 "metadata": {
  "kernelspec": {
   "display_name": "Python 3 (ipykernel)",
   "language": "python",
   "name": "python3"
  },
  "language_info": {
   "codemirror_mode": {
    "name": "ipython",
    "version": 3
   },
   "file_extension": ".py",
   "mimetype": "text/x-python",
   "name": "python",
   "nbconvert_exporter": "python",
   "pygments_lexer": "ipython3",
   "version": "3.12.2"
  },
  "nbTranslate": {
   "displayLangs": [
    "*"
   ],
   "hotkey": "alt-t",
   "langInMainMenu": true,
   "sourceLang": "en",
   "targetLang": "fr",
   "useGoogleTranslate": true
  }
 },
 "nbformat": 4,
 "nbformat_minor": 2
}
