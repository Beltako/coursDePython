{
 "cells": [
  {
   "cell_type": "markdown",
   "metadata": {
    "lang": "fr"
   },
   "source": [
    "# 21.5 Résumé\n",
    "\n",
    "\n",
    "1. L’apprentissage automatique est un algorithme qui a la capacité d’apprendre à partir des données et de généraliser aux nouvelles données.\n",
    "2. L’apprentissage automatique comprend deux catégories principales : l’apprentissage supervisé et l’apprentissage non supervisé. Dans l'apprentissage supervisé, il y a classification et régression, tandis que dans l'apprentissage non supervisé, il y a regroupement et réduction de dimensionnalité.\n",
    "3. Les résultats des tâches de classification sont des données catégorielles.\n",
    "4. Les résultats des tâches de régression sont des données quantitatives.\n",
    "5. Les algorithmes de clustering travaillant sur les données qui n'ont pas d'étiquettes, placent les données dans différents groupes en trouvant les modèles de la structure cachée des données ou les similitudes."
   ]
  },
  {
   "cell_type": "markdown",
   "metadata": {
    "lang": "fr"
   },
   "source": [
    "# Problèmes\n",
    "\n",
    "Aucun"
   ]
  }
 ],
 "metadata": {
  "kernelspec": {
   "display_name": "Python 3 (ipykernel)",
   "language": "python",
   "name": "python3"
  },
  "language_info": {
   "codemirror_mode": {
    "name": "ipython",
    "version": 3
   },
   "file_extension": ".py",
   "mimetype": "text/x-python",
   "name": "python",
   "nbconvert_exporter": "python",
   "pygments_lexer": "ipython3",
   "version": "3.11.7"
  },
  "nbTranslate": {
   "displayLangs": [
    "*"
   ],
   "hotkey": "alt-t",
   "langInMainMenu": true,
   "sourceLang": "en",
   "targetLang": "fr",
   "useGoogleTranslate": true
  }
 },
 "nbformat": 4,
 "nbformat_minor": 4
}
