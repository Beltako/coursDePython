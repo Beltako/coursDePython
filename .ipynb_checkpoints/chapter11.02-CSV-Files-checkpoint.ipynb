{
 "cells": [
  {
   "cell_type": "markdown",
   "metadata": {
    "button": false,
    "new_sheet": false,
    "run_control": {
     "read_only": false
    }
   },
   "source": [
    "# 8.2 CSV Files"
   ]
  },
  {
   "cell_type": "markdown",
   "metadata": {
    "lang": "fr"
   },
   "source": [
    "De nombreuses données scientifiques sont stockées au format de fichier **valeurs séparées par des virgules** (CSV), un fichier texte délimité qui utilise une virgule pour séparer les valeurs. C'est un format très utile qui permet de stocker de grands tableaux de données (chiffres et texte) en texte brut. Chaque ligne (ligne) des données constitue un enregistrement de données et chaque enregistrement se compose d'un ou plusieurs champs, séparés par des virgules. Il peut également être ouvert à l'aide de Microsoft Excel et visualiser les lignes et les colonnes.\n",
    "\n",
    "Python possède son propre module csv qui peut gérer la lecture et l'écriture du fichier csv, vous pouvez voir les détails dans la [documentation](https://docs.python.org/3/library/csv.html). Mais nous n’allons pas présenter ici ce module csv. Au lieu de cela, nous utiliserons le package numpy pour gérer le fichier csv car nous lirons souvent le fichier csv directement dans un tableau numpy.\n",
    "\n",
    "### Écrivez et ouvrez un fichier CSV\n",
    "\n",
    "Voyons un exemple simple de génération de 100 lignes et 5 colonnes de données."
   ]
  },
  {
   "cell_type": "code",
   "execution_count": 1,
   "metadata": {
    "button": false,
    "collapsed": true,
    "new_sheet": false,
    "run_control": {
     "read_only": false
    }
   },
   "outputs": [],
   "source": [
    "import numpy as np"
   ]
  },
  {
   "cell_type": "code",
   "execution_count": 2,
   "metadata": {
    "button": false,
    "collapsed": true,
    "new_sheet": false,
    "run_control": {
     "read_only": false
    }
   },
   "outputs": [],
   "source": [
    "data = np.random.random((100,5))"
   ]
  },
  {
   "cell_type": "code",
   "execution_count": 3,
   "metadata": {
    "button": false,
    "collapsed": true,
    "new_sheet": false,
    "run_control": {
     "read_only": false
    }
   },
   "outputs": [],
   "source": [
    "np.savetxt('test.csv', data, fmt = '%.2f', delimiter=',', header = 'c1, c2, c3, c4, c5')"
   ]
  },
  {
   "cell_type": "markdown",
   "metadata": {
    "lang": "fr"
   },
   "source": [
    "Nous générons d’abord les données aléatoires pour 100 lignes et 5 colonnes à l’aide de la fonction *np.random* et les attribuons à la variable *data*. Nous utilisons la fonction *np.savetxt* pour enregistrer les données dans un fichier csv. Nous pouvons voir que les 3 premiers arguments sont les mêmes que ceux utilisés dans la section précédente, mais ici nous définissons l'argument délimiteur sur ',', ce qui indique que nous voulons séparer les données par une virgule.\n",
    "\n",
    "Nous pouvons ouvrir le fichier csv à l'aide de Microsoft Excel.\n",
    "\n",
    "![Open_csv](images/11.02.01-Write_csv.png \"Ouvrir le fichier csv à l'aide de Microsoft Excel\")\n",
    "\n",
    "On peut également ouvrir le fichier csv à l'aide d'un éditeur de texte, on peut voir que les valeurs sont séparées par des virgules.\n",
    "\n",
    "![Open_csv_text](images/11.02.02-Open_csv_text.png \"Ouvrir le fichier csv à l'aide d'un éditeur de texte\")"
   ]
  },
  {
   "cell_type": "markdown",
   "metadata": {
    "lang": "fr"
   },
   "source": [
    "### Lire un fichier CSV\n",
    "\n",
    "Comme auparavant, nous pouvions lire le fichier csv à l'aide de la fonction *np.loadtxt*. Lisons le fichier csv que nous venons d'enregistrer sur le disque dans une variable *my_csv* et affichons les 5 premières lignes. Notez ici que nous utilisons à nouveau le *délimiteur* pour spécifier que les données du fichier sont séparées par des virgules."
   ]
  },
  {
   "cell_type": "code",
   "execution_count": 4,
   "metadata": {
    "button": false,
    "new_sheet": false,
    "run_control": {
     "read_only": false
    }
   },
   "outputs": [
    {
     "data": {
      "text/plain": [
       "array([[0.84, 0.99, 0.56, 0.24, 0.71],\n",
       "       [0.33, 0.8 , 0.32, 0.28, 0.83],\n",
       "       [0.89, 0.19, 0.25, 0.63, 0.84],\n",
       "       [0.08, 0.49, 0.76, 0.34, 0.69],\n",
       "       [0.66, 0.65, 0.73, 0.48, 0.12]])"
      ]
     },
     "execution_count": 4,
     "metadata": {},
     "output_type": "execute_result"
    }
   ],
   "source": [
    "my_csv = np.loadtxt('./test.csv', delimiter=',')\n",
    "my_csv[:5, :]"
   ]
  },
  {
   "cell_type": "markdown",
   "metadata": {
    "lang": "fr"
   },
   "source": [
    "### Au-delà de Numpy\n",
    "\n",
    "Numpy est très pratique pour gérer les fichiers csv, mais il existe certainement plus de packages capables de gérer les fichiers csv. Le package *Pandas* est très populaire et peut facilement gérer les données tabulaires du Dataframe. Vous pouvez le consulter si vous souhaitez en savoir plus."
   ]
  }
 ],
 "metadata": {
  "kernelspec": {
   "display_name": "Python 3 (ipykernel)",
   "language": "python",
   "name": "python3"
  },
  "language_info": {
   "codemirror_mode": {
    "name": "ipython",
    "version": 3
   },
   "file_extension": ".py",
   "mimetype": "text/x-python",
   "name": "python",
   "nbconvert_exporter": "python",
   "pygments_lexer": "ipython3",
   "version": "3.12.2"
  },
  "nbTranslate": {
   "displayLangs": [
    "*"
   ],
   "hotkey": "alt-t",
   "langInMainMenu": true,
   "sourceLang": "en",
   "targetLang": "fr",
   "useGoogleTranslate": true
  }
 },
 "nbformat": 4,
 "nbformat_minor": 2
}
