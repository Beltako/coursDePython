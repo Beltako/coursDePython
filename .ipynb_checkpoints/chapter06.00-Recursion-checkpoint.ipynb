{
 "cells": [
  {
   "cell_type": "markdown",
   "metadata": {
    "lang": "fr"
   },
   "source": [
    "# Chapitre 6. Récursion"
   ]
  },
  {
   "cell_type": "markdown",
   "metadata": {
    "lang": "fr"
   },
   "source": [
    "#### SOMMAIRE\n",
    "\n",
    "---\n",
    "\n",
    "* [**6.1 Fonctions récursives**](chapter06.01-Recursive-Functions.ipynb)\n",
    "* [**6.2 Diviser et conquérir**](chapter06.02-Divide-and-Conquer.ipynb)\n",
    "* [**6.3 Résumé et problèmes**](chapitre06.03-Résumé_et_Problèmes.ipynb)"
   ]
  },
  {
   "cell_type": "markdown",
   "metadata": {
    "lang": "fr"
   },
   "source": [
    "---\n",
    "\n",
    "## Motivation\n",
    "\n",
    "Imaginez qu’un PDG d’une grande entreprise veuille savoir combien de personnes travaillent pour lui. Une option consiste à consacrer d’énormes efforts personnels à compter le nombre de personnes inscrites sur la liste de paie. Cependant, le PDG a d’autres choses plus importantes à faire et met donc en œuvre une autre option, plus intelligente. Lors de la prochaine réunion avec ses directeurs de département, il demande à chacun de lui dire combien de personnes travaillent pour eux. Chaque directeur rencontre ensuite tous ses managers, qui rencontrent ensuite leurs supérieurs hiérarchiques qui accomplissent la même tâche. Les superviseurs savent combien de personnes travaillent sous leurs ordres et transmettent volontiers cette information à leurs managers (plus un pour se compter eux-mêmes), qui transmettent les informations agrégées aux directeurs de département, qui transmettent les informations pertinentes au PDG. De cette manière, le PDG accomplit une tâche difficile (pour lui-même) en déléguant des tâches similaires, mais plus simples, à ses subordonnés.\n",
    "\n",
    "Cette méthode de résolution de problèmes difficiles en les décomposant en problèmes plus simples est naturellement modélisée par des relations récursives, qui constituent le sujet de ce chapitre et qui constituent la base d'importantes techniques de résolution de problèmes en ingénierie et en sciences. À la fin de ce chapitre, vous devriez être capable de reconnaître les relations récursives et de les programmer à l'aide de fonctions récursives.\n",
    "\n",
    "---"
   ]
  }
 ],
 "metadata": {
  "kernelspec": {
   "display_name": "Python 3 (ipykernel)",
   "language": "python",
   "name": "python3"
  },
  "language_info": {
   "codemirror_mode": {
    "name": "ipython",
    "version": 3
   },
   "file_extension": ".py",
   "mimetype": "text/x-python",
   "name": "python",
   "nbconvert_exporter": "python",
   "pygments_lexer": "ipython3",
   "version": "3.12.2"
  },
  "nbTranslate": {
   "displayLangs": [
    "*"
   ],
   "hotkey": "alt-t",
   "langInMainMenu": true,
   "sourceLang": "en",
   "targetLang": "fr",
   "useGoogleTranslate": true
  }
 },
 "nbformat": 4,
 "nbformat_minor": 2
}
