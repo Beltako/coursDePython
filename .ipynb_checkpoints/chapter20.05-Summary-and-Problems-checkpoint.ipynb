{
 "cells": [
  {
   "cell_type": "markdown",
   "metadata": {
    "lang": "fr"
   },
   "source": [
    "# 16.5 Résumé\n",
    "\n",
    "\n",
    "1. La dérivation explicite de fonctions étant parfois fastidieuse pour les applications d’ingénierie, les approches numériques peuvent être préférables.\n",
    "2. L'approximation numérique des dérivées peut être effectuée à l'aide d'une grille sur laquelle la dérivée est approchée par différences finies.\n",
    "3. Les différences finies se rapprochent de la dérivée par des rapports de différences dans la valeur de la fonction sur de petits intervalles.\n",
    "4. Les schémas aux différences finies ont des ordres d'approximation différents selon la méthode utilisée.\n",
    "5. Il existe des problèmes liés aux différences finies pour l'approximation des dérivées lorsque les données sont bruitées."
   ]
  },
  {
   "cell_type": "markdown",
   "metadata": {
    "lang": "fr"
   },
   "source": [
    "# Problèmes\n",
    "\n",
    "1. Écrivez une fonction $my\\_der\\_calc(f, a, b, N, option)$, avec la sortie $[df, X]$, où $f$ est un objet fonction, $a$ et $b$ sont des scalaires tels que a < b, $N$ est un entier supérieur à 10 et $option$ est la chaîne $forward$, $backward$ ou $central$. . Soit $x$ un tableau commençant à $a$, se terminant à $b$, contenant $N$ éléments régulièrement espacés, et soit $y$ le tableau $f(x)$. L'argument de sortie, $df$, doit être les dérivées numériques calculées pour $x$ et $y$ selon la méthode définie par l'argument d'entrée, $option$. L'argument de sortie $X$ doit être un tableau de la même taille que $df$ contenant les points de $x$ pour lesquels $df$ est valide. Plus précisément, la méthode de différence directe « perd » le dernier point, la méthode de différence arrière perd le premier point et la méthode de différence centrale perd le premier et le dernier points.\n",
    "\n",
    "2. Écrivez une fonction $my\\_num\\_diff(f, a, b, n, option)$, avec la sortie $[df, X]$, où $f$ est un objet fonction. La fonction $my\\_num\\_diff$ doit calculer la dérivée numérique de $f$ pour $n$ points régulièrement espacés commençant à $a$ et se terminant à $b$ selon la méthode définie par $option$. L'argument d'entrée $option$ est l'une des chaînes suivantes : 'forward', 'backward', 'central'. Notez que pour la méthode avant et arrière, l'argument de sortie, $dy$, doit être un tableau 1D $(n-1)$, et pour la méthode de différence centrale, $dy$ doit être un tableau 1D $(n-2)$. La fonction doit également générer un vecteur $X$ de la même taille que $dy$ et désignant les valeurs x pour lesquelles $dy$ est valide.\n",
    "\n",
    " Cas de tests :\n",
    " \n",
    " ```python\n",
    " x = np.linspace(0, 2*np.pi, 100)\n",
    " f = lambda x : np.sin(x)\n",
    " [dyf, Xf] = my_num_diff(f, 0, 2*np.pi, 10, 'forward')\n",
    " [dyb, Xb] = mon_num_diff(f, 0, 2*np.pi, 10, 'en arrière')\n",
    " [dyc, Xc] = mon_num_diff(f, 0, 2*np.pi, 10, 'central')\n",
    " plt.figure (taille de la figure = (12, 8))\n",
    " plt.plot(x, np.cos(x), label = 'analytic')\n",
    " plt.plot(Xf, dyf, label = 'en avant')\n",
    " plt.plot(Xb, dyb, label = 'en arrière')\n",
    " plt.plot(Xc, dyc, étiquette = 'central')\n",
    " plt.legend()\n",
    " plt.title('Dérivées analytiques et numériques du sinus')\n",
    " plt.xlabel('x')\n",
    " plt.ylabel('y')\n",
    " plt.show()\n",
    " ```\n",
    " \n",
    " ![](images/20.05.01-Q2-1.png \"Cas de test pour la question 2\")\n",
    " \n",
    " ```python\n",
    " x = np.linspace(0, np.pi, 1000)\n",
    " f = lambda x : np.sin(np.exp(x))\n",
    " [dy10, X10] = mon_num_diff(f, 0, np.pi, 10, 'central')\n",
    " [dy20, X20] = mon_num_diff(f, 0, np.pi, 20, 'central')\n",
    " [dy100, X100] = mon_num_diff(f, 0, np.pi, 100, 'central')\n",
    " plt.figure (taille de la figure = (12, 8))\n",
    " plt.plot(x, np.cos(np.exp(x)), label = 'analytic')\n",
    " plt.plot(X10, dy10, étiquette = '10 points')\n",
    " plt.plot(X20, dy20, étiquette = '20 points')\n",
    " plt.plot(X100, dy100, étiquette = '100 points')\n",
    " plt.legend()\n",
    " plt.title('Dérivées analytiques et numériques du sinus')\n",
    " plt.xlabel('x')\n",
    " plt.ylabel('y')\n",
    " plt.show()\n",
    " ```\n",
    " \n",
    " ![](images/20.05.01-Q2-2.png \"Cas de test pour la question 2\")\n",
    " \n",
    "3. Écrivez une fonction $my\\_num\\_diff\\_w\\_smoothing(x, y, n)$, avec la sortie $[dy, X], $où $x$ et $y$ sont un tableau numpy 1D de même longueur, et $n$ est un scalaire strictement positif. La fonction doit d'abord créer un vecteur de points de données $y$ \"lissés\" où $y\\_smooth[i] = np.mean(y[i-n:i+n])$. La fonction doit ensuite calculer $dy$, la dérivée du vecteur $y$ lissé en utilisant la méthode de la différence centrale. La fonction doit également générer un tableau 1D $X$ de la même taille que $dy$ et désignant les valeurs x pour lesquelles $dy$ est valide.\n",
    "\n",
    " Supposons que les données contenues dans $x$ soient classées par ordre croissant sans entrées en double. Cependant, il est possible que les éléments de $x$ ne soient pas régulièrement espacés. Notez que la sortie $dy$ aura $2n + 2$ de moins de points que $y$. Supposons que la longueur de $y$ soit beaucoup plus grande que celle de $2n + 2$.\n",
    " \n",
    " Cas de tests :\n",
    " \n",
    " ```python\n",
    " x = np.linspace(0, 2*np.pi, 100)\n",
    " y = np.sin(x) + np.random.randn(len(x))/100\n",
    " [dy, X] = mon_num_diff_w_lissage(x, y, 4)\n",
    " plt.figure (taille de la figure = (12, 12))\n",
    " plt.subplot(211)\n",
    " plt.plot(x, y)\n",
    " plt.title('Fonction sinusoïdale bruyante')\n",
    " plt.xlabel('x')\n",
    " plt.ylabel('y')\n",
    " plt.subplot(212)\n",
    " plt.plot(x, np.cos(x), 'b', étiquette = 'cosinus')\n",
    " plt.plot(x[:-1], (y[1:] - y[:-1])/(x[1]-x[0]), 'g', \\\n",
    "     label = 'diff avant non lissé')\n",
    " plt.plot(X, dy, 'r', label = 'lissé')\n",
    " plt.title('Dérivée analytique et dérivée lissée')\n",
    " plt.xlabel('x')\n",
    " plt.ylabel('y')\n",
    " plt.legend()\n",
    " plt.tight_layout()\n",
    " plt.show()\n",
    " ```\n",
    " \n",
    "  ![](images/20.05.01-Q3.png \"Cas de test pour la question 3\")\n",
    "  \n",
    "4. Utilisez la série de Taylor pour montrer les approximations suivantes et leur précision.\n",
    "$$\n",
    "\\begin{eqnarray*}\n",
    "f''(x_j) &=& \\frac{-f(x_{j+3})+4f(x_{j+2}) - 5f(x_{j+1}) + 2f(x_j)}{h^2} + O(h^2),\\\\\n",
    "f'''(x_j) &=& \\frac{f(x_{j+3})-3f(x_{j+2}) +3f(x_{j+1}) - f(x_j)}{h^3} + O(h).\n",
    "\\end{eqnarray*}\n",
    "$$"
   ]
  }
 ],
 "metadata": {
  "kernelspec": {
   "display_name": "Python 3 (ipykernel)",
   "language": "python",
   "name": "python3"
  },
  "language_info": {
   "codemirror_mode": {
    "name": "ipython",
    "version": 3
   },
   "file_extension": ".py",
   "mimetype": "text/x-python",
   "name": "python",
   "nbconvert_exporter": "python",
   "pygments_lexer": "ipython3",
   "version": "3.12.2"
  },
  "nbTranslate": {
   "displayLangs": [
    "*"
   ],
   "hotkey": "alt-t",
   "langInMainMenu": true,
   "sourceLang": "en",
   "targetLang": "fr",
   "useGoogleTranslate": true
  }
 },
 "nbformat": 4,
 "nbformat_minor": 2
}
