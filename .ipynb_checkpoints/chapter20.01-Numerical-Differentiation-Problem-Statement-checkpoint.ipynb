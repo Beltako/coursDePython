{
 "cells": [
  {
   "cell_type": "markdown",
   "metadata": {
    "lang": "fr"
   },
   "source": [
    "# 16.1 Énoncé du problème de différenciation numérique"
   ]
  },
  {
   "cell_type": "markdown",
   "metadata": {
    "lang": "fr"
   },
   "source": [
    "Une **grille numérique** est un ensemble de points régulièrement espacés sur le domaine d'une fonction (c'est-à-dire la variable indépendante), sur un certain intervalle. L'**espacement** ou **taille de pas** d'une grille numérique est la distance entre les points adjacents sur la grille. Pour les besoins de ce texte, si $x$ est une grille numérique, alors $x_j$ est le point $j^{\\mathrm{th}}$ dans la grille numérique et $h$ est l'espacement entre $x_{j-1}$ et $x_j$. La figure suivante montre un exemple de grille numérique.\n",
    "\n",
    "\n",
    "<img src=\"images/20.01.01-Numerical_grid.png\" alt=\"Numerical grid\" title=\"Numerical grid used to approximate functions.\" width=\"400\"/>\n",
    "\n",
    "Il existe plusieurs fonctions en Python qui peuvent être utilisées pour générer des grilles numériques. Pour les grilles numériques à une dimension, il suffit d'utiliser la fonction *linspace*, que vous avez déjà utilisée pour créer des tableaux régulièrement espacés.\n",
    "\n",
    "En Python, une fonction $f(x)$ peut être représentée sur un intervalle en calculant sa valeur sur une grille. Bien que la fonction elle-même puisse être continue, cette représentation **discrète** ou **discrétisée** est utile pour les calculs numériques et correspond à des ensembles de données qui peuvent être acquis dans la pratique de l'ingénierie et des sciences. Plus précisément, la valeur de la fonction ne peut être connue qu'à des points discrets. Par exemple, un capteur de température peut fournir des paires température/temps à intervalles de temps réguliers. Bien que la température soit une fonction régulière et continue du temps, le capteur ne fournit des valeurs qu'à des intervalles de temps discrets et, dans ce cas particulier, la fonction sous-jacente ne serait même pas connue.\n",
    "\n",
    "Que $f$ soit une fonction analytique ou une représentation discrète d'une fonction, nous aimerions dériver des méthodes d'approximation de la dérivée de $f$ sur une grille numérique et déterminer leur précision."
   ]
  }
 ],
 "metadata": {
  "kernelspec": {
   "display_name": "Python 3 (ipykernel)",
   "language": "python",
   "name": "python3"
  },
  "language_info": {
   "codemirror_mode": {
    "name": "ipython",
    "version": 3
   },
   "file_extension": ".py",
   "mimetype": "text/x-python",
   "name": "python",
   "nbconvert_exporter": "python",
   "pygments_lexer": "ipython3",
   "version": "3.12.2"
  },
  "nbTranslate": {
   "displayLangs": [
    "*"
   ],
   "hotkey": "alt-t",
   "langInMainMenu": true,
   "sourceLang": "en",
   "targetLang": "fr",
   "useGoogleTranslate": true
  }
 },
 "nbformat": 4,
 "nbformat_minor": 2
}
