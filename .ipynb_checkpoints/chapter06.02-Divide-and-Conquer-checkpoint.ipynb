{
 "cells": [
  {
   "cell_type": "markdown",
   "metadata": {
    "lang": "fr"
   },
   "source": [
    "# 6.2 Diviser et conquérir"
   ]
  },
  {
   "cell_type": "markdown",
   "metadata": {
    "lang": "fr"
   },
   "source": [
    "**Diviser pour régner** est une stratégie utile pour résoudre des problèmes difficiles. En utilisant diviser pour régner, des problèmes difficiles sont résolus à partir de solutions à de nombreux problèmes faciles similaires. De cette façon, les problèmes difficiles sont divisés et plus faciles à gérer. Dans cette section, nous abordons deux exemples classiques de diviser pour régner : le problème des tours de Hanoï et l’algorithme de tri rapide."
   ]
  },
  {
   "cell_type": "markdown",
   "metadata": {
    "lang": "fr"
   },
   "source": [
    "## Tours de Hanoï\n",
    "\n",
    "Le problème des Tours de Hanoï se compose de trois tiges verticales, ou tours, et de *N* disques de différentes tailles, chacun avec un trou au centre pour que la tige puisse glisser à travers lui. Les disques sont initialement empilés sur l’une des tours par ordre décroissant de taille (c’est-à-dire que le plus grand disque se trouve en bas). Le but du problème est de déplacer tous les disques vers une tige différente en respectant les trois règles suivantes :\n",
    "\n",
    "\n",
    "1. Un seul disque peut être déplacé à la fois.\n",
    "2. Seul le disque situé en haut d'une pile peut être déplacé.\n",
    "3. Un disque ne peut pas être placé sur un disque plus petit.\n",
    "\n",
    "La figure suivante montre les étapes de la solution au problème de la Tour de Hanoï avec trois disques.\n",
    "\n",
    "![Tour](images/06.02.01-Illustration_Towers_of_Hanoi.png\" Illustration des tours de Hanoï : En huit étapes, tous les disques sont transportés du pôle 1 au pôle 3, un à la fois, en déplaçant uniquement le disque en haut de la pile actuelle et en plaçant uniquement les disques plus petits au-dessus des disques plus grands.\")"
   ]
  },
  {
   "cell_type": "markdown",
   "metadata": {
    "lang": "fr"
   },
   "source": [
    "Une légende raconte qu'un groupe de moines indiens travaillent dans un monastère pour résoudre un problème des Tours de Hanoï avec 64 disques. Lorsqu’ils auront résolu le problème, le monde prendra fin. Heureusement, le nombre de mouvements requis est mathématique1, donc même s'ils pouvaient déplacer un disque par milliseconde, il leur faudrait plus de 584 millions d'années pour terminer.\n",
    "\n",
    "La clé du problème des Tours de Hanoï est de le décomposer en problèmes plus petits et plus faciles à gérer que nous appellerons des **sous-problèmes**. Pour ce problème, il est relativement facile de voir que déplacer un disque est facile (qui n'a que trois règles) mais déplacer une tour est difficile (on ne voit pas immédiatement comment le faire). Nous allons donc attribuer le déplacement d'une pile de taille *N* à plusieurs sous-problèmes de déplacement d'une pile de taille *N − 1*.\n",
    "\n",
    "Considérons une pile de *N* disques que nous souhaitons déplacer de la tour 1 à la tour 3, et laissez *my_tower(N)* déplacer une pile de taille *N* vers la tour 3. tour souhaitée (c'est-à-dire afficher les mouvements). Comment écrire *my_tower* n'est peut-être pas immédiatement clair. Cependant, si nous réfléchissons au problème en termes de sous-problèmes, nous pouvons voir que nous devons déplacer les disques supérieurs *N-1* vers la tour du milieu, puis le disque du bas vers la tour de droite, puis le disque du bas vers la tour de droite. *N-1* disques de la tour du milieu à la tour de droite. *my_tower* peut afficher l'instruction pour déplacer le disque *N*, puis effectuer des appels récursifs à *my_tower(N-1)* pour gérer le déplacement des petites tours. Les appels à *my_tower(N-1)* effectuent des appels récursifs à *my_tower(N-2)* et ainsi de suite. Une répartition des trois étapes est illustrée dans la figure suivante.\n",
    "\n",
    "<img src=\"images/06.02.02-Break_down.png\" alt=\"breakdown\" title=\"Breakdown of one iteration of the recursive solution of the Towers of Hanoi problem.\" width=\"400\"/>\n",
    "\n",
    "Voici une solution récursive au problème des tours de Hanoï. Notez sa compacité et sa simplicité. Le code reflète exactement notre intuition sur la nature récursive de la solution : Nous déplaçons d'abord une pile de taille *N-1* de la tour d'origine 'from_tower' vers la tour alternative 'alt_ la tour'. C'est une tâche difficile, c'est pourquoi nous effectuons à la place un appel récursif qui effectuera des appels récursifs ultérieurs, mais qui, à la fin, déplacera la pile comme souhaité. Ensuite, nous déplaçons le disque inférieur vers la tour cible 'to_tower'. Enfin, nous déplaçons la pile de taille *N-1* vers la tour cible en effectuant un autre appel récursif.\n",
    "\n",
    "**ESSAYEZ-LE !** Utilisez la fonction *mes_tours*pour résoudre le problème des tours de Hanoï pour*N = 3*. Vérifiez que la solution est correcte par inspection."
   ]
  },
  {
   "cell_type": "code",
   "execution_count": 1,
   "metadata": {
    "button": false,
    "collapsed": true,
    "new_sheet": false,
    "run_control": {
     "read_only": false
    }
   },
   "outputs": [],
   "source": [
    "def my_towers(N, from_tower, to_tower, alt_tower):\n",
    "    \"\"\"\n",
    "    Displays the moves required to move a tower of size N from the\n",
    "    'from_tower' to the 'to_tower'. \n",
    "    \n",
    "    'from_tower', 'to_tower' and 'alt_tower' are uniquely either \n",
    "    1, 2, or 3 referring to tower 1, tower 2, and tower 3. \n",
    "    \"\"\"\n",
    "    \n",
    "    if N != 0:\n",
    "        # recursive call that moves N-1 stack from starting tower\n",
    "        # to alternate tower\n",
    "        my_towers(N-1, from_tower, alt_tower, to_tower)\n",
    "        \n",
    "        # display to screen movement of bottom disk from starting\n",
    "        # tower to final tower\n",
    "        print(\"Move disk %d from tower %d to tower %d.\"\\\n",
    "                  %(N, from_tower, to_tower))\n",
    "        \n",
    "        # recursive call that moves N-1 stack from alternate tower\n",
    "        # to final tower\n",
    "        my_towers(N-1, alt_tower, to_tower, from_tower)"
   ]
  },
  {
   "cell_type": "code",
   "execution_count": 2,
   "metadata": {
    "button": false,
    "new_sheet": false,
    "run_control": {
     "read_only": false
    }
   },
   "outputs": [
    {
     "name": "stdout",
     "output_type": "stream",
     "text": [
      "Move disk 1 from tower 1 to tower 3.\n",
      "Move disk 2 from tower 1 to tower 2.\n",
      "Move disk 1 from tower 3 to tower 2.\n",
      "Move disk 3 from tower 1 to tower 3.\n",
      "Move disk 1 from tower 2 to tower 1.\n",
      "Move disk 2 from tower 2 to tower 3.\n",
      "Move disk 1 from tower 1 to tower 3.\n"
     ]
    }
   ],
   "source": [
    "my_towers(3, 1, 3, 2)"
   ]
  },
  {
   "cell_type": "markdown",
   "metadata": {
    "lang": "fr"
   },
   "source": [
    "En utilisant Divide and Conquer, nous avons résolu le problème des Tours de Hanoï en effectuant des appels récursifs à des problèmes de Tours de Hanoï légèrement plus petits qui, à leur tour, effectuent des appels récursifs à des problèmes de Tours de Hanoï encore plus petits. Ensemble, les solutions constituent la solution à l’ensemble du problème. Le travail réel effectué par un seul appel de fonction est en réalité assez réduit : deux appels récursifs et le déplacement d'un disque. En d’autres termes, un appel de fonction effectue très peu de travail (déplacer un disque), puis transmet le reste du travail à d’autres appels, une compétence que vous trouverez probablement très utile tout au long de votre carrière d’ingénieur."
   ]
  },
  {
   "cell_type": "markdown",
   "metadata": {
    "lang": "fr"
   },
   "source": [
    "## Tri rapide\n",
    "\n",
    "Une liste de nombres, *A*, est **triée** si les éléments sont classés par ordre croissant ou décroissant. Bien qu'il existe de nombreuses façons de trier une liste, le *tri rapide* est une approche diviser pour régner qui est un algorithme très rapide pour trier à l'aide d'un seul processeur (il existe des algorithmes plus rapides pour plusieurs processeurs).\n",
    "\n",
    "L'algorithme *quicksort* part du constat que le tri d'une liste est difficile, mais que la comparaison est facile. Ainsi, au lieu de trier une liste, nous séparons la liste en la comparant à un **pivot**. A chaque appel récursif à *quicksort*, la liste d'entrée est divisée en trois parties : les éléments plus petits que le pivot, les éléments égaux au pivot et les éléments plus grands que le pivot. Puis un appel récursif à *quicksort* est effectué sur les deux sous-problèmes : la liste des éléments plus petits que le pivot et la liste des éléments plus grands que le pivot. Finalement, les sous-problèmes sont suffisamment petits (c'est-à-dire une taille de liste de longueur 1 ou 0) pour que le tri de la liste soit trivial.\n",
    "\n",
    "Considérez l’implémentation récursive suivante de *quicksort*."
   ]
  },
  {
   "cell_type": "code",
   "execution_count": 3,
   "metadata": {
    "button": false,
    "collapsed": true,
    "new_sheet": false,
    "run_control": {
     "read_only": false
    }
   },
   "outputs": [],
   "source": [
    "def my_quicksort(lst):\n",
    "    \n",
    "    if len(lst) <= 1:\n",
    "        # list of length 1 is easiest to sort \n",
    "        # because it is already sorted\n",
    "        \n",
    "        sorted_list = lst    \n",
    "    else:\n",
    "        \n",
    "        # select pivot as teh first element of the list\n",
    "        pivot = lst[0]\n",
    "        \n",
    "        # initialize lists for bigger and smaller elements \n",
    "        # as well those equal to the pivot\n",
    "        bigger = []\n",
    "        smaller = []\n",
    "        same = []\n",
    "        \n",
    "        # loop through list and put elements into appropriate array\n",
    "        \n",
    "        for item in lst:\n",
    "            if item > pivot:\n",
    "                bigger.append(item)\n",
    "            elif item < pivot:\n",
    "                smaller.append(item)\n",
    "            else:\n",
    "                same.append(item)\n",
    "        \n",
    "        sorted_list = my_quicksort(smaller) + same + my_quicksort(bigger)\n",
    "        \n",
    "    return sorted_list"
   ]
  },
  {
   "cell_type": "code",
   "execution_count": 4,
   "metadata": {
    "button": false,
    "new_sheet": false,
    "run_control": {
     "read_only": false
    }
   },
   "outputs": [
    {
     "data": {
      "text/plain": [
       "[1, 2, 3, 3, 5, 6, 8, 10]"
      ]
     },
     "execution_count": 4,
     "metadata": {},
     "output_type": "execute_result"
    }
   ],
   "source": [
    "my_quicksort([2, 1, 3, 5, 6, 3, 8, 10])"
   ]
  },
  {
   "cell_type": "markdown",
   "metadata": {
    "lang": "fr"
   },
   "source": [
    "Comme pour les Tours de Hanoï, nous avons divisé le problème du tri (difficile) en plusieurs comparaisons (faciles)."
   ]
  }
 ],
 "metadata": {
  "kernelspec": {
   "display_name": "Python 3 (ipykernel)",
   "language": "python",
   "name": "python3"
  },
  "language_info": {
   "codemirror_mode": {
    "name": "ipython",
    "version": 3
   },
   "file_extension": ".py",
   "mimetype": "text/x-python",
   "name": "python",
   "nbconvert_exporter": "python",
   "pygments_lexer": "ipython3",
   "version": "3.12.2"
  },
  "nbTranslate": {
   "displayLangs": [
    "*"
   ],
   "hotkey": "alt-t",
   "langInMainMenu": true,
   "sourceLang": "en",
   "targetLang": "fr",
   "useGoogleTranslate": true
  }
 },
 "nbformat": 4,
 "nbformat_minor": 2
}
