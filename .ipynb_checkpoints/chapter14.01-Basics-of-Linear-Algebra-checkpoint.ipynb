{
 "cells": [
  {
   "cell_type": "markdown",
   "metadata": {
    "lang": "fr"
   },
   "source": [
    "# 10.1 Bases de l'algèbre linéaire"
   ]
  },
  {
   "cell_type": "markdown",
   "metadata": {
    "lang": "fr"
   },
   "source": [
    "Avant de présenter les systèmes d'équations linéaires, introduisons d'abord quelques bases de l'algèbre linéaire, qui seront utilisées pour décrire et résoudre les équations linéaires. Nous n’en couvrirons que les bases dans ce chapitre, et vous pourrez en explorer davantage en lisant un livre d’algèbre linéaire.\n",
    "\n",
    "## Ensembles\n",
    "\n",
    "Nous avons déjà discuté de la structure des données - les ensembles au chapitre 2, nous l'examinerons ici du point de vue mathématique en utilisant les langages mathématiques. En mathématiques, un **ensemble** est une collection d'objets. Comme nous l'avons montré précédemment, les ensembles sont généralement désignés par des accolades {}. Par exemple, $S = {orange, apple, banana}$ signifie \"S est l'ensemble contenant 'orange', 'pomme' et 'banane'\".\n",
    "\n",
    "L'**ensemble vide** est l'ensemble ne contenant aucun objet et est généralement désigné par des accolades vides telles que $\\{\\}$ ou $\\emptyset$. Étant donné deux ensembles, $A$ et $B$, l'**union** de $A$ et $B$ est notée $A \\cup B$ et égale à l'ensemble contenant tous les éléments de $A$ et $B$. L'**intersection** de $A$ et $B$ est notée $A \\cap B$ et égale à l'ensemble contenant tous les éléments qui appartiennent à la fois à $A$ et $B$. En notation ensembliste, les deux points sont utilisés pour signifier **\"tel que\"**. L’utilisation de ces termes deviendra apparente sous peu. Le symbole **$\\in$** est utilisé pour indiquer qu'un objet est contenu dans un ensemble. Par exemple, $a \\in A$ signifie « $a$ est membre de $A$ » ou « $a$ est dans $A$ ». Une barre oblique inverse, $\\backslash$, en notation set signifie **set moins**. Donc si $a\\in A$ alors $A\\backslash a$ signifie \"$A$ moins l'élément, $a$\".\n",
    "\n",
    "Il existe plusieurs ensembles standards liés aux nombres, par exemple les **nombres naturels**, **nombres entiers**, **entiers**, **nombres rationnels<**>,**nombres irrationnels**,**nombres réels**et**nombres complexes**. Une description de chaque ensemble et le symbole utilisé pour les désigner sont présentés dans le tableau suivant.\n",
    "\n",
    "non défini Nom de l'ensemble non défini Symbole non défini Description non défini\n",
    "non défini------non défini------non défini------------non défini\n",
    "undéfini Naturels undéfini $\\mathbb{N}$undéfini ${\\mathbb{N}} = \\{1, 2, 3, 4, \\cdots\\}$undéfini\n",
    "non défini $\\mathbb{W}$non défini ${\\mathbb{W}} = \\mathbb{N} \\cup \\{0\\}$undéfini\n",
    "non défini Entiers non défini $\\mathbb{Z}$undéfini ${\\mathbb{Z}} = \\mathbb{W} \\cup \\{-1, -2, -3, \\cdots\\}$undéfini\n",
    "non défini Rationnels non défini $\\mathbb{Q}$undéfini ${\\mathbb{Q}} = \\{\\frac{p}{q} : p\\in {\\mathbb{Z}}, q\\in {\\mathbb{Z}} \\backslash \\{0\\}\\}$undéfini\n",
    "undéfini Irrationnels undéfini $\\mathbb{I}$undéfini ${\\mathbb{I}}$ est l'ensemble des nombres réels non exprimables sous forme de fraction d'entiers.undéfini\n",
    "undéfini Réels undéfini $\\mathbb{R}$undéfini ${\\mathbb{R}} = \\mathbb{Q} \\cup \\mathbb{I}$undéfini\n",
    "nombres complexes non défini $\\mathbb{C}$undéfini ${\\mathbb{C}} = \\{a + bi : a,b\\in {\\mathbb{R}}, i = \\sqrt{-1}\\}$undéfini**ESSAYEZ-LE !<**> Soit $S$ l'ensemble de toutes les vraies paires $(x,y)$ telles que $x^2 + y^2 = 1$. Écrivez $S$ en utilisant la notation ensembliste.\n",
    "\n",
    "\n",
    "$S = \\{(x,y) : x,y \\in {\\mathbb{R}}, x^2 + y^2 = 1\\}$"
   ]
  },
  {
   "cell_type": "markdown",
   "metadata": {
    "lang": "fr"
   },
   "source": [
    "## Vecteurs\n",
    "\n",
    "L'ensemble ${\\mathbb{R}}^n$ est l'ensemble de tous les tuples $n$ de nombres réels. En notation ensembliste, c'est ${\\mathbb{R}}^n = \\{(x_1, x_2, x_3, \\cdots, x_n): x_1, x_2, x_3, \\cdots, x_n \\in {\\mathbb{R}}\\}$. Par exemple, l'ensemble ${\\mathbb{R}}^3$ représente l'ensemble des triplets réels, coordonnées $(x,y,z)$, dans un espace tridimensionnel.\n",
    "\n",
    "Un **vecteur** dans ${\\mathbb{R}}^n$ est un tuple $n$, ou point, dans ${\\mathbb{R}}^n$. Les vecteurs peuvent être écrits horizontalement (c'est-à-dire avec les éléments du vecteur les uns à côté des autres) dans un **vecteur de ligne**, ou verticalement (c'est-à-dire avec les éléments du vecteur les uns sur les autres) dans un **vecteur colonne**. Si le contexte d'un vecteur est ambigu, cela signifie généralement que le vecteur est un vecteur colonne. Le $i$-ème élément d'un vecteur, $v$, est noté $v_i$. La transposée d'un vecteur colonne est un vecteur ligne de même longueur, et la transposée d'un vecteur ligne est un vecteur colonne. En mathématiques, la transposition est désignée par un exposant $T$, ou $v^T$. Le **vecteur zéro** est le vecteur de ${\\mathbb{R}}^n$ contenant tous les zéros.\n",
    "\n",
    "La **norme** d'un vecteur est une mesure de sa longueur. Il existe de nombreuses façons de définir la longueur d'un vecteur en fonction de la métrique utilisée (c'est-à-dire la formule de distance choisie). La plus courante s'appelle la norme $L_2$, qui est calculée selon la formule de distance que vous connaissez probablement à l'école primaire. La **norme $L_2$** d'un vecteur $v$ est notée $\\Vert v \\Vert_{2}$ et $\\Vert v \\Vert_{2} = \\sqrt{\\sum_i v_i^2}$. Ceci est parfois également appelé longueur euclidienne et fait référence à la longueur « physique » d'un vecteur dans un espace à une, deux ou trois dimensions. La norme $L_1$, ou « Distance de Manhattan », est calculée comme $\\Vert v \\Vert_{1} = \\sum_i |v_i|$ et doit son nom à la structure routière en forme de grille de la ville de New York. En général, la **p-norm**, $L_p$, d'un vecteur est $\\Vert v \\Vert_{p} = \\sqrt[p]{(\\sum_i v_i^p)}$. La **norme $L_\\infty$** est la norme $p$, où $p = \\infty$. La norme $L_\\infty$ s'écrit $||v||_\\infty$ et elle est égale à la valeur absolue maximale dans $v$.\n",
    "\n",
    "**ESSAYEZ-LE !** Créez un vecteur de ligne et un vecteur de colonne et affichez la forme des vecteurs."
   ]
  },
  {
   "cell_type": "code",
   "execution_count": 1,
   "metadata": {
    "button": false,
    "new_sheet": false,
    "run_control": {
     "read_only": false
    }
   },
   "outputs": [
    {
     "name": "stdout",
     "output_type": "stream",
     "text": [
      "(1, 5)\n",
      "(4, 1)\n"
     ]
    }
   ],
   "source": [
    "import numpy as np\n",
    "vector_row = np.array([[1, -5, 3, 2, 4]])\n",
    "vector_column = np.array([[1], \n",
    "                          [2], \n",
    "                          [3], \n",
    "                          [4]])\n",
    "print(vector_row.shape)\n",
    "print(vector_column.shape)"
   ]
  },
  {
   "cell_type": "markdown",
   "metadata": {
    "lang": "fr"
   },
   "source": [
    "**Remarque !** En Python, le vecteur ligne et le vecteur colonne sont un peu délicats. Vous pouvez voir ci-dessus pour obtenir les vecteurs 1 ligne et 4 colonnes ou 4 lignes et 1 colonne, nous devons utiliser la liste de liste pour le spécifier. Vous pouvez définir np.array([1,2,3,4]), mais vous remarquerez bientôt qu'il ne contient pas d'informations sur la ligne ou la colonne.\n",
    "\n",
    "**ESSAYEZ-LE !** Transposez le vecteur ligne que nous avons défini ci-dessus en un vecteur colonne et calculez-en la norme $L_1$, $L_2$ et $L_\\infty$. Vérifiez que la norme $L_\\infty$ d'un vecteur est équivalente à la valeur maximale des éléments du vecteur."
   ]
  },
  {
   "cell_type": "code",
   "execution_count": 2,
   "metadata": {
    "button": false,
    "new_sheet": false,
    "run_control": {
     "read_only": false
    }
   },
   "outputs": [
    {
     "name": "stdout",
     "output_type": "stream",
     "text": [
      "[[ 1]\n",
      " [-5]\n",
      " [ 3]\n",
      " [ 2]\n",
      " [ 4]]\n",
      "L_1 is: 15.0\n",
      "L_2 is: 7.4\n",
      "L_inf is: 5.0\n"
     ]
    }
   ],
   "source": [
    "from numpy.linalg import norm\n",
    "new_vector = vector_row.T\n",
    "print(new_vector)\n",
    "norm_1 = norm(new_vector, 1)\n",
    "norm_2 = norm(new_vector, 2)\n",
    "norm_inf = norm(new_vector, np.inf)\n",
    "print('L_1 is: %.1f'%norm_1)\n",
    "print('L_2 is: %.1f'%norm_2)\n",
    "print('L_inf is: %.1f'%norm_inf)"
   ]
  },
  {
   "cell_type": "markdown",
   "metadata": {
    "lang": "fr"
   },
   "source": [
    "**L'addition de vecteurs** est définie comme l'addition par paire de chacun des éléments des vecteurs ajoutés. Par exemple, si $v$ et $w$ sont des vecteurs dans ${\\mathbb{R}}^n$, alors $u = v + w$ est défini comme $u_i = v_i + w_i$.\n",
    "\n",
    "La **Multiplication vectorielle** peut être définie de plusieurs manières selon le contexte. La **multiplication scalaire** d'un vecteur est le produit d'un vecteur et d'un **scalaire** (c'est-à-dire un nombre dans ${\\mathbb{R}}$). La multiplication scalaire est définie comme le produit de chaque élément du vecteur par le scalaire. Plus précisément, si $\\alpha$ est un scalaire et $v$ est un vecteur, alors $u = \\alpha v$ est défini comme $u_i = \\alpha v_i$. Notez que c'est exactement ainsi que Python implémente la multiplication scalaire avec un vecteur.\n",
    "\n",
    "**ESSAYEZ-LE !** Montrez que $a(v + w) = av + aw$ (c'est-à-dire que la multiplication scalaire d'un vecteur se répartit sur l'addition de vecteurs).\n",
    "\n",
    "Par addition de vecteur, $u = v + w$ est le vecteur avec $u_i = v_i + w_i$. Par multiplication scalaire d'un vecteur, $x = \\alpha u$ est le vecteur avec $x_i = \\alpha(v_i + w_i)$. Puisque $\\alpha, v_i$ et $w_i$ sont des scalaires, la multiplication distribue et $x_i = \\alpha v_i + \\alpha w_i$. Donc $a(v + w) = av + aw$.\n",
    "\n",
    "Le **produit scalaire** de deux vecteurs est la somme du produit des éléments respectifs dans chaque vecteur et est noté $\\cdot$, et $v \\cdot w$ se lit \"v dot w\". Par conséquent, pour $v$ et $w$, $\\in {\\mathbb{R}}^n, d = v\\cdot w$ est défini comme $d = \\sum_{i = 1}^{n} v_iw_i$. L'**angle entre deux vecteurs**, $\\theta$, est défini par la formule :\n",
    "\n",
    "$$\n",
    "v \\cdot w = \\Vert v \\Vert_{2} \\Vert w \\Vert_{2} \\cos{\\theta}\n",
    "$$\n",
    "\n",
    "Le produit scalaire est une mesure de la manière dont les deux vecteurs sont orientés de manière similaire. Par exemple, les vecteurs (1,1) et (2,2) sont parallèles. Si vous calculez l’angle entre eux en utilisant le produit scalaire, vous trouverez cela $\\theta = 0$. Si l'angle entre les vecteurs est $\\theta = \\pi/2$, alors les vecteurs sont dits perpendiculaires ou **orthogonaux**, et le produit scalaire est 0.\n",
    "\n",
    "**ESSAYEZ-LE !** Calculez l'angle entre les vecteurs $v = [10, 9, 3]$ et $w = [2, 5, 12]$."
   ]
  },
  {
   "cell_type": "code",
   "execution_count": 3,
   "metadata": {
    "button": false,
    "new_sheet": false,
    "run_control": {
     "read_only": false
    }
   },
   "outputs": [
    {
     "name": "stdout",
     "output_type": "stream",
     "text": [
      "[[0.97992471]]\n"
     ]
    }
   ],
   "source": [
    "from numpy import arccos, dot\n",
    "\n",
    "v = np.array([[10, 9, 3]])\n",
    "w = np.array([[2, 5, 12]])\n",
    "theta = \\\n",
    "    arccos(dot(v, w.T)/(norm(v)*norm(w)))\n",
    "print(theta)"
   ]
  },
  {
   "cell_type": "markdown",
   "metadata": {
    "lang": "fr"
   },
   "source": [
    "Enfin, le **produit vectoriel** entre deux vecteurs, $v$ et $w$, s'écrit $v \\times w$. Il est défini par $v \\times w = \\Vert v \\Vert_{2}\\Vert w \\Vert_{2}\\sin{(\\theta)} \\textit{n}$, où $\\theta$ est l'angle entre $v$ et $w$ (qui peut être calculé à partir du produit scalaire) et **$n$** est un vecteur perpendiculaire à $v$ et $w$ avec une longueur unitaire (c'est-à-dire , la longueur est un). L'interprétation géométrique du produit vectoriel est un vecteur perpendiculaire à $v$ et $w$ de longueur égale à l'aire délimitée par le parallélogramme créé par les deux vecteurs.\n",
    "\n",
    "**ESSAYEZ-LE !** Étant donné les vecteurs $v = [0, 2, 0]$ et $w = [3, 0, 0]$, utilisez la fonction Numpy cross pour calculer le produit vectoriel de v et w."
   ]
  },
  {
   "cell_type": "code",
   "execution_count": 4,
   "metadata": {
    "button": false,
    "new_sheet": false,
    "run_control": {
     "read_only": false
    }
   },
   "outputs": [
    {
     "name": "stdout",
     "output_type": "stream",
     "text": [
      "[[ 0  0 -6]]\n"
     ]
    }
   ],
   "source": [
    "v = np.array([[0, 2, 0]])\n",
    "w = np.array([[3, 0, 0]])\n",
    "print(np.cross(v, w))"
   ]
  },
  {
   "cell_type": "markdown",
   "metadata": {
    "lang": "fr"
   },
   "source": [
    "En supposant que $S$ est un ensemble dans lequel l'addition et la multiplication scalaire sont définies, une **combinaison linéaire** de $S$ est définie comme\n",
    "$$\n",
    "\\sum \\alpha_i s_i,\n",
    "$$\n",
    "\n",
    "où $\\alpha_i$ est n'importe quel nombre réel et $s_i$ est l'objet $i^{\\text{th}}$ dans $S$. Parfois, les valeurs $\\alpha_i$ sont appelées les **coefficients** de $s_i$. Les combinaisons linéaires peuvent être utilisées pour décrire de nombreuses choses. Par exemple, une facture d'épicerie peut s'écrire $\\displaystyle{\\sum c_i n_i}$, où $c_i$ est le coût de l'article $i$ et $n_i$ est le nombre d'articles $i$ achetés. Ainsi, le coût total est une combinaison linéaire des articles achetés.\n",
    "\n",
    "Un ensemble est appelé **linéairement indépendant** si aucun objet de l'ensemble ne peut être écrit comme une combinaison linéaire des autres objets de l'ensemble. Pour les besoins de ce livre, nous considérerons uniquement l’indépendance linéaire d’un ensemble de vecteurs. Un ensemble de vecteurs qui n'est pas linéairement indépendant est **linéairement dépendant**.\n",
    "\n",
    "**ESSAYEZ-LE !** Étant donné les vecteurs de ligne $v = [0, 3, 2]$, $w = [4, 1, 1]$ et $u = [0, -2, 0]$, écrivez le vecteur $x = [-8, -1, 4]$ comme une combinaison linéaire de $v$, $w$ et $u$."
   ]
  },
  {
   "cell_type": "code",
   "execution_count": 5,
   "metadata": {
    "button": false,
    "new_sheet": false,
    "run_control": {
     "read_only": false
    }
   },
   "outputs": [
    {
     "name": "stdout",
     "output_type": "stream",
     "text": [
      "[[-8 -1  4]]\n"
     ]
    }
   ],
   "source": [
    "v = np.array([[0, 3, 2]])\n",
    "w = np.array([[4, 1, 1]])\n",
    "u = np.array([[0, -2, 0]])\n",
    "x = 3*v-2*w+4*u\n",
    "print(x)"
   ]
  },
  {
   "cell_type": "markdown",
   "metadata": {
    "lang": "fr"
   },
   "source": [
    "**ESSAYEZ-LE !** Déterminez par inspection si l'ensemble de vecteurs suivant est linéairement indépendant : $v = [1, 1, 0]$, $w = [1, 0, 0]$, $u = [0, 0, 1]$.\n",
    "\n",
    "Il est clair que $u$ est linéairement indépendant de $v$ et $w$ car seul $u$ a un troisième élément différent de zéro. Les vecteurs $v$ et $w$ sont également linéairement indépendants car seul $v$ a un deuxième élément non nul. Par conséquent, $v, w$ et $u$ sont linéairement indépendants.\n",
    "\n",
    "## Matrices\n",
    "\n",
    "Une **matrix** ${m} \\times {n}$ est un tableau rectangulaire de nombres composé de lignes $m$ et de colonnes $n$. La norme d'une matrice peut être considérée comme un type particulier de norme vectorielle, si nous traitons les éléments ${m} \\times {n}$ de $M$ comme les éléments d'un vecteur dimensionnel $mn$, alors la norme p de ce vecteur peut s'écrire comme :\n",
    "\n",
    "$$\\Vert M \\Vert_{p} = \\sqrt[p]{(\\sum_i^m \\sum_j^n |a_{ij}|^p)}$$\n",
    "\n",
    "Vous pouvez calculer la norme matricielle en utilisant la même fonction « norme » dans « Numpy » que celle du vecteur.\n",
    "\n",
    "L'addition matricielle et la multiplication scalaire pour les matrices fonctionnent de la même manière que pour les vecteurs. Cependant, la **multiplication matricielle** entre deux matrices, $P$ et $Q$, est définie lorsque $P$ est une matrice ${m} \\times {p}$ et $Q$ est une matrice ${p} \\times {n}$. Le résultat de $M = PQ$ est une matrice $M$ qui est $m \\times n$. La dimension de taille $p$ est appelée **dimension de la matrice interne**, et les dimensions de la matrice interne doivent correspondre (c'est-à-dire que le nombre de colonnes dans $P$ et le nombre de lignes dans $Q$ doivent être les mêmes) pour la matrice multiplication à définir. Les dimensions $m$ et $n$ sont appelées les **dimensions de la matrice externe**. Formellement, si $P$ est ${m} \\times {p}$ et Q est ${p} \\times {n}$, alors $M = PQ$ est défini comme\n",
    "\n",
    "$$\n",
    "M_{ij} = \\sum_{k=1}^p P_{ik}Q_{kj}\n",
    "$$\n",
    "\n",
    "Le produit de deux matrices $P$ et $Q$ en Python est obtenu en utilisant la méthode **dot** dans Numpy. La **transpose** d'une matrice est une inversion de ses lignes avec ses colonnes. La transposition est indiquée par un exposant, $T$, tel que $M^T$ est la transposée de la matrice $M$. En Python, la méthode **T** pour un tableau Numpy est utilisée pour obtenir la transposition. Par exemple, si $M$ est une matrice, alors $M.T$ est sa transposée.\n",
    "\n",
    "**ESSAYEZ-LE !** Laissez les matrices Python $P = [[1, 7], [2, 3], [5, 0]]$ et $Q = [[2, 6, 3, 1], [1, 2, 3, 4]]$. Calculez le produit matriciel de $P$ et $Q$. Montrez que le produit de $Q$ et $P$ produira une erreur."
   ]
  },
  {
   "cell_type": "code",
   "execution_count": 6,
   "metadata": {
    "button": false,
    "new_sheet": false,
    "run_control": {
     "read_only": false
    }
   },
   "outputs": [
    {
     "name": "stdout",
     "output_type": "stream",
     "text": [
      "[[1 7]\n",
      " [2 3]\n",
      " [5 0]]\n",
      "[[2 6 3 1]\n",
      " [1 2 3 4]]\n",
      "[[ 9 20 24 29]\n",
      " [ 7 18 15 14]\n",
      " [10 30 15  5]]\n"
     ]
    },
    {
     "ename": "ValueError",
     "evalue": "shapes (2,4) and (3,2) not aligned: 4 (dim 1) != 3 (dim 0)",
     "output_type": "error",
     "traceback": [
      "\u001b[0;31m---------------------------------------------------------------------------\u001b[0m",
      "\u001b[0;31mValueError\u001b[0m                                Traceback (most recent call last)",
      "\u001b[0;32m<ipython-input-6-29a4b2da4cb8>\u001b[0m in \u001b[0;36m<module>\u001b[0;34m\u001b[0m\n\u001b[1;32m      4\u001b[0m \u001b[0mprint\u001b[0m\u001b[0;34m(\u001b[0m\u001b[0mQ\u001b[0m\u001b[0;34m)\u001b[0m\u001b[0;34m\u001b[0m\u001b[0;34m\u001b[0m\u001b[0m\n\u001b[1;32m      5\u001b[0m \u001b[0mprint\u001b[0m\u001b[0;34m(\u001b[0m\u001b[0mnp\u001b[0m\u001b[0;34m.\u001b[0m\u001b[0mdot\u001b[0m\u001b[0;34m(\u001b[0m\u001b[0mP\u001b[0m\u001b[0;34m,\u001b[0m \u001b[0mQ\u001b[0m\u001b[0;34m)\u001b[0m\u001b[0;34m)\u001b[0m\u001b[0;34m\u001b[0m\u001b[0;34m\u001b[0m\u001b[0m\n\u001b[0;32m----> 6\u001b[0;31m \u001b[0mnp\u001b[0m\u001b[0;34m.\u001b[0m\u001b[0mdot\u001b[0m\u001b[0;34m(\u001b[0m\u001b[0mQ\u001b[0m\u001b[0;34m,\u001b[0m \u001b[0mP\u001b[0m\u001b[0;34m)\u001b[0m\u001b[0;34m\u001b[0m\u001b[0;34m\u001b[0m\u001b[0m\n\u001b[0m",
      "\u001b[0;31mValueError\u001b[0m: shapes (2,4) and (3,2) not aligned: 4 (dim 1) != 3 (dim 0)"
     ]
    }
   ],
   "source": [
    "P = np.array([[1, 7], [2, 3], [5, 0]])\n",
    "Q = np.array([[2, 6, 3, 1], [1, 2, 3, 4]])\n",
    "print(P)\n",
    "print(Q)\n",
    "print(np.dot(P, Q))\n",
    "np.dot(Q, P)"
   ]
  },
  {
   "cell_type": "markdown",
   "metadata": {
    "lang": "fr"
   },
   "source": [
    "Une **matrice carrée** est une matrice ${n} \\times {n}$ ; c'est-à-dire qu'il comporte le même nombre de lignes que de colonnes. Le **déterminant** est une propriété importante des matrices carrées. Le déterminant est noté $det(M)$, à la fois en mathématiques et dans le package `linalg` de Numpy, parfois il est également noté $|M|$. Quelques exemples d'utilisation d'un déterminant seront décrits plus loin.\n",
    "\n",
    "Dans le cas d'une matrice $2 \\times 2$, le déterminant est :\n",
    "\n",
    "$$\n",
    "|M| = \\begin{bmatrix}\n",
    "a & b \\\\\n",
    "c & d\\\\\n",
    "\\end{bmatrix} = ad - bc$$\n",
    "\n",
    "De même, dans le cas d’une matrice $3 \\times 3$, le déterminant est :\n",
    "\n",
    "$$\n",
    "\\begin{eqnarray*}\n",
    "|M| = \\begin{bmatrix}\n",
    "a & b & c \\\\\n",
    "d & e & f \\\\\n",
    "g & h & i \\\\\n",
    "\\end{bmatrix} & = & a\\begin{bmatrix}\n",
    "\\Box &\\Box  &\\Box  \\\\\n",
    "\\Box & e & f \\\\\n",
    "\\Box & h & i \\\\\n",
    "\\end{bmatrix} - b\\begin{bmatrix}\n",
    "\\Box &\\Box  &\\Box  \\\\\n",
    "d & \\Box & f \\\\\n",
    "g & \\Box & i \\\\\n",
    "\\end{bmatrix}+c\\begin{bmatrix}\n",
    "\\Box &\\Box  &\\Box  \\\\\n",
    "d & e & \\Box \\\\\n",
    "g & h & \\Box \\\\\n",
    "\\end{bmatrix} \\\\\n",
    "&&\\\\\n",
    "& = & a\\begin{bmatrix}\n",
    "e & f \\\\\n",
    "h & i \\\\\n",
    "\\end{bmatrix} - b\\begin{bmatrix}\n",
    "d & f \\\\\n",
    "g & i \\\\\n",
    "\\end{bmatrix}+c\\begin{bmatrix}\n",
    "d & e \\\\\n",
    "g & h \\\\\n",
    "\\end{bmatrix} \\\\ \n",
    "&&\\\\\n",
    "& = & aei + bfg + cdh - ceg - bdi - afh\n",
    "\\end{eqnarray*}$$\n",
    "\n",
    "Nous pouvons utiliser une approche similaire pour calculer le déterminant pour une dimension plus élevée de la matrice, mais il est beaucoup plus facile de calculer en utilisant Python. Nous verrons ci-dessous un exemple comment calculer le déterminant en Python.\n",
    "\n",
    "\n",
    "La **matrice identité** est une matrice carrée avec des uns en diagonale et des zéros ailleurs. La matrice d'identité est généralement désignée par $I$ et est analogue au nombre réel d'identité, 1. Autrement dit, multiplier n'importe quelle matrice par $I$ (de taille compatible) produira la même matrice.\n",
    "\n",
    "**ESSAYEZ-LE !** Utilisez Python pour trouver le déterminant de la matrice $M = [[0, 2, 1, 3], [3, 2, 8, 1], [1, 0, 0, 3], [0, 3, 2, 1]]$. Utilisez la fonction *np.eye* pour produire une matrice d'identité ${4} \\times {4}$, $I$. Multipliez $M$ par $I$ pour montrer que le résultat est $M$."
   ]
  },
  {
   "cell_type": "code",
   "execution_count": 7,
   "metadata": {
    "button": false,
    "new_sheet": false,
    "run_control": {
     "read_only": false
    }
   },
   "outputs": [
    {
     "name": "stdout",
     "output_type": "stream",
     "text": [
      "M:\n",
      " [[0 2 1 3]\n",
      " [3 2 8 1]\n",
      " [1 0 0 3]\n",
      " [0 3 2 1]]\n",
      "Determinant: -38.0\n",
      "I:\n",
      " [[1. 0. 0. 0.]\n",
      " [0. 1. 0. 0.]\n",
      " [0. 0. 1. 0.]\n",
      " [0. 0. 0. 1.]]\n",
      "M*I:\n",
      " [[0. 2. 1. 3.]\n",
      " [3. 2. 8. 1.]\n",
      " [1. 0. 0. 3.]\n",
      " [0. 3. 2. 1.]]\n"
     ]
    }
   ],
   "source": [
    "from numpy.linalg import det\n",
    "\n",
    "M = np.array([[0,2,1,3], \n",
    "             [3,2,8,1], \n",
    "             [1,0,0,3],\n",
    "             [0,3,2,1]])\n",
    "print('M:\\n', M)\n",
    "\n",
    "print('Determinant: %.1f'%det(M))\n",
    "I = np.eye(4)\n",
    "print('I:\\n', I)\n",
    "print('M*I:\\n', np.dot(M, I))"
   ]
  },
  {
   "cell_type": "markdown",
   "metadata": {
    "lang": "fr"
   },
   "source": [
    "L'**inverse** d'une matrice carrée $M$ est une matrice de même taille, $N$, telle que $M \\cdot N = I$. L'inverse d'une matrice est analogue à l'inverse des nombres réels. Par exemple, l'inverse de 3 est $\\frac{1}{3}$ car $(3)(\\frac{1}{3}) = 1$. Une matrice est dite **inversible** si elle possède un inverse. L'inverse d'une matrice est unique ; c'est-à-dire que pour une matrice inversible, il n'y a qu'un seul inverse pour cette matrice. Si $M$ est une matrice carrée, son inverse est noté $M^{-1}$ en mathématiques, et il peut être calculé en Python à l'aide de la fonction *inv* du package *linalg* de Numpy.\n",
    "\n",
    "Pour une matrice $2 \\times 2$, la solution analytique de la matrice inverse est :\n",
    "\n",
    "$$\n",
    "M^{-1} = \\begin{bmatrix}\n",
    "a & b \\\\\n",
    "c & d\\\\\n",
    "\\end{bmatrix}^{-1} = \\frac{1}{|M|}\\begin{bmatrix}\n",
    "d & -b \\\\\n",
    "-c & a\\\\\n",
    "\\end{bmatrix}$$\n",
    "\n",
    "Le calcul de l'inverse de la matrice pour la solution analytique se complique avec l'augmentation de la dimension de la matrice. Il existe de nombreuses autres méthodes qui peuvent faciliter les choses, telles que l'élimination gaussienne, la méthode de Newton, la composition propre, etc. Nous présenterons certaines de ces méthodes après avoir appris à résoudre un système d’équations linéaires, car le processus est essentiellement le même.\n",
    "\n",
    "Rappelez-vous que 0 n'a pas d'inverse pour la multiplication dans le paramètre de nombres réels. De même, il existe des matrices qui n’ont pas d’inverses. Ces matrices sont appelées **singulières**. Les matrices qui ont un inverse sont appelées **non singulières**.\n",
    "\n",
    "Une façon de déterminer si une matrice est singulière consiste à calculer son déterminant. Si le déterminant est 0, alors la matrice est singulière ; sinon, la matrice n'est pas singulière.\n",
    "\n",
    "**ESSAYEZ-LE !** La matrice $M$ (dans l'exemple précédent) a un déterminant non nul. Calculez l’inverse de $M$. Montrer que la matrice $P = [[0, 1, 0], [0, 0, 0], [1, 0, 1]]$ a une valeur déterminante de 0 et n'a donc pas d'inverse."
   ]
  },
  {
   "cell_type": "code",
   "execution_count": 8,
   "metadata": {
    "button": false,
    "new_sheet": false,
    "run_control": {
     "read_only": false
    }
   },
   "outputs": [
    {
     "name": "stdout",
     "output_type": "stream",
     "text": [
      "Inv M:\n",
      " [[-1.57894737 -0.07894737  1.23684211  1.10526316]\n",
      " [-0.63157895 -0.13157895  0.39473684  0.84210526]\n",
      " [ 0.68421053  0.18421053 -0.55263158 -0.57894737]\n",
      " [ 0.52631579  0.02631579 -0.07894737 -0.36842105]]\n",
      "det(p):\n",
      " 0.0\n"
     ]
    }
   ],
   "source": [
    "from numpy.linalg import inv\n",
    "\n",
    "print('Inv M:\\n', inv(M))\n",
    "P = np.array([[0,1,0],\n",
    "              [0,0,0],\n",
    "              [1,0,1]])\n",
    "print('det(p):\\n', det(P))"
   ]
  },
  {
   "cell_type": "markdown",
   "metadata": {
    "button": false,
    "new_sheet": false,
    "run_control": {
     "read_only": false
    }
   },
   "source": [
    "A matrix that is close to being singular (i.e., the determinant is close to 0) is called **ill-conditioned**. Although ill-conditioned matrices have inverses, they are problematic numerically in the same way that dividing a number by a very, very small number is problematic. That is, it can result in computations that result in overflow, underflow, or numbers small enough to result in significant round-off errors (If you forget these concepts, refresh yourself with materials in chapter 9). The **condition number** is a measure of how ill-conditioned a matrix is, and it can be computed using Numpy's function *cond* from *linalg*. The higher the condition number, the closer the matrix is to being singular.\n",
    "\n",
    "The **rank**. of an ${m} \\times {n}$ matrix $A$ is the number of linearly independent columns or rows of $A$, and is denoted by rank($A$). It can be shown that the number of linearly independent rows is always equal to the number of linearly independent columns\n",
    "for any matrix. A matrix is called **full rank**. if rank $(A)=\\min(m,n)$. The matrix, $A$, is also full rank if all of its columns are linearly independent. An **augmented matrix**. is a matrix, $A$, concatenated with a vector, $y$, and is written $[A,y]$. This is commonly read \"$A$ augmented with $y$.\" You can use *np.concatenate* to concatenate the them. If $rank([A,y]) = {rank}(A) + 1$, then the vector, $y$, is \"new\" information. That is, it cannot be created as a linear combination of the columns in $A$. The rank is an important property of matrices because of its relationship to solutions of linear equations, which is discussed in the last section of this chapter.\n",
    "\n",
    "**TRY IT!** Matrix $A = [[1, 1, 0], [0, 1, 0], [1, 0, 1]]$, compute the condition number and rank for this matrix. If $y = [[1], [2], [1]]$, get the augmented matrix [A, y]. "
   ]
  },
  {
   "cell_type": "code",
   "execution_count": 9,
   "metadata": {
    "button": false,
    "new_sheet": false,
    "run_control": {
     "read_only": false
    }
   },
   "outputs": [
    {
     "name": "stdout",
     "output_type": "stream",
     "text": [
      "Condition number:\n",
      " 4.048917339522305\n",
      "Rank:\n",
      " 3\n",
      "Augmented matrix:\n",
      " [[1 1 0 1]\n",
      " [0 1 0 2]\n",
      " [1 0 1 1]]\n"
     ]
    }
   ],
   "source": [
    "from numpy.linalg import \\\n",
    "             cond, matrix_rank\n",
    "\n",
    "A = np.array([[1,1,0],\n",
    "              [0,1,0],\n",
    "              [1,0,1]])\n",
    "\n",
    "print('Condition number:\\n', cond(A))\n",
    "print('Rank:\\n', matrix_rank(A))\n",
    "y = np.array([[1], [2], [1]])\n",
    "A_y = np.concatenate((A, y), axis = 1)\n",
    "print('Augmented matrix:\\n', A_y)"
   ]
  }
 ],
 "metadata": {
  "kernelspec": {
   "display_name": "Python 3 (ipykernel)",
   "language": "python",
   "name": "python3"
  },
  "language_info": {
   "codemirror_mode": {
    "name": "ipython",
    "version": 3
   },
   "file_extension": ".py",
   "mimetype": "text/x-python",
   "name": "python",
   "nbconvert_exporter": "python",
   "pygments_lexer": "ipython3",
   "version": "3.12.2"
  },
  "nbTranslate": {
   "displayLangs": [
    "*"
   ],
   "hotkey": "alt-t",
   "langInMainMenu": true,
   "sourceLang": "en",
   "targetLang": "fr",
   "useGoogleTranslate": true
  }
 },
 "nbformat": 4,
 "nbformat_minor": 2
}
