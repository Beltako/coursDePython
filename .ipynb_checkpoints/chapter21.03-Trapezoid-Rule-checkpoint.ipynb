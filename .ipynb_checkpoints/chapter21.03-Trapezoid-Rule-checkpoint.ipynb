{
 "cells": [
  {
   "cell_type": "markdown",
   "metadata": {
    "lang": "fr"
   },
   "source": [
    "# 17.3 Règle du trapèze"
   ]
  },
  {
   "cell_type": "markdown",
   "metadata": {
    "lang": "fr"
   },
   "source": [
    "La **Règle du trapèze** ajuste un trapèze dans chaque sous-intervalle et additionne les aires du trapèze pour se rapprocher de l'intégrale totale. Cette approximation de l'intégrale d'une fonction arbitraire est illustrée dans la figure suivante. Pour chaque sous-intervalle, la règle du trapèze calcule l'aire d'un trapèze dont les coins sont $(x_i, 0), (x_{i+1}, 0), (x_i, f(x_i))$ et $(x_{i+1}, f(x_{i+1}))$, qui est $h\\frac{f(x_i) + f(x_{i+1})}{2}$. Ainsi, la règle du trapèze se rapproche des intégrales selon l'expression\n",
    "\n",
    "$$\\int_a^b f(x) dx \\approx \\sum_{i=0}^{n-1} h\\frac{f(x_i) + f(x_{i+1})}{2}.$$\n",
    "\n",
    "<img src=\"images/21.03.1-Trapezoid_integral.png\" alt=\"Trapezoid integral\" title=\"Illustration of the trapezoid integral procedure. The area below the curve is approximated by a summation of trapezoids that approximate the function.\" width=\"200\"/>\n",
    "\n",
    "**ESSAYEZ-LE !** Vous remarquerez peut-être que la règle du trapèze « compte double » la plupart des termes de la série. Pour illustrer ce fait, considérons l’expansion de la règle du trapèze :\n",
    "\n",
    "\\begin{eqnarray*}\\sum_{i=0}^{n-1} h\\frac{f(x_i) + f(x_{i+1})}{2} &=& \\frac{h}{2} \\left[(f(x_0) + f(x_1)) + (f(x_1) + f(x_2)) + (f(x_2)\\right. \\\\\n",
    "&&\\left. + f(x_3)) + \\cdots + (f(x_{n-1}) + f(x_n))\\right].\\end{eqnarray*}\n",
    "\n",
    "D'un point de vue informatique, cela représente beaucoup plus d'ajouts et d'appels à $f(x)$ que ce qui est réellement nécessaire. Nous pouvons être plus efficaces sur le plan informatique en utilisant l’expression suivante.\n",
    "\n",
    "$$\\int_a^b f(x) dx \\approx \\frac{h}{2} \\left(f(x_0) + 2 \\left(\\sum_{i=1}^{n-1} f(x_i)\\right) + f(x_n)\\right).$$\n",
    "\n",
    "Pour déterminer l'exactitude de l'approximation de la règle du trapèze, nous prenons d'abord le développement en série de Taylor de $f(x)$ autour de $y_i = \\frac{x_{i+1} + x_i}{2}$, qui est le point médian entre $x_i$ et $x_{i+1}$. Cette extension de la série Taylor est\n",
    "\n",
    "$$f(x) = f(y_i) + f^{\\prime}(y_i)(x - y_i) + \\frac{f''(y_i)(x - y_i)^2}{2!} + \\cdots$$\n",
    "\n",
    "Le calcul de la série de Taylor en $x_i$ et $x_{i+1}$ et en notant que $x_i - y_i = -\\frac{h}{2}$ et $x_{i+1} - y_i = \\frac{h}{2}$ donne les expressions suivantes :\n",
    "\n",
    "$$f(x_i) = f(y_i) - \\frac{hf^{\\prime}(y_i)}{2} + \\frac{h^2f''(y_i)}{8} - \\cdots$$\n",
    "\n",
    "et\n",
    "\n",
    "$$f(x_{i+1}) = f(y_i) + \\frac{hf^{\\prime}(y_i)}{2} + \\frac{h^2f''(y_i)}{8} + \\cdots.$$\n",
    "\n",
    "En faisant la moyenne de ces deux expressions, on obtient la nouvelle expression,\n",
    "\n",
    "$$\\frac{f(x_{i+1})+f(x_i)}{2} = f(y_i) + O(h^2).$$\n",
    "\n",
    "La résolution de cette expression pour $f(y_i)$ donne\n",
    "\n",
    "$$f(y_i) = \\frac{f(x_{i+1})+f(x_i)}{2} + O(h^2).$$\n",
    "\n",
    "Revenons maintenant au développement de Taylor pour $f(x)$, l'intégrale de $f(x)$ sur un sous-intervalle est\n",
    "\n",
    "$$\\int_{x_i}^{x_{i+1}} f(x) dx = \\int_{x_i}^{x_{i+1}} \\left(f(y_i) + f^{\\prime}(y_i)(x - y_i) + \\frac{f''(y_i)(x - y_i)^2}{2!} + \\cdots\\right) dx.$$\n",
    "\n",
    "Distribuer les résultats intégraux dans l'expression\n",
    "\n",
    "$$\\int_{x_i}^{x_{i+1}} f(x) dx = \\int_{x_i}^{x_{i+1}} f(y_i) dx + \\int_{x_i}^{x_{i+1}} f^{\\prime}(y_i)(x - y_i)dx + \\int_{x_i}^{x_{i+1}} \\frac{f''(y_i)(x - y_i)^2}{2!} dx + \\cdots$$\n",
    "\n",
    "Maintenant que $x_i$ et $x_{i+1}$ sont symétriques autour de $y_i$, les intégrales des puissances impaires de $(x - y_i)^p$ disparaissent et les puissances paires se résolvent en un multiple $h^{p+1}$.\n",
    "\n",
    "$$\\int_{x_i}^{x_{i+1}} f(x) dx = hf(y_i) + O(h^3).$$\n",
    "\n",
    "Maintenant, si nous remplaçons $f(y_i)$ par l’expression dérivée explicitement en termes de $f(x_i)$ et $f(x_{i+1})$, nous obtenons\n",
    "\n",
    "$$\\int_{x_i}^{x_{i+1}} f(x) dx = h \\left(\\frac{f(x_{i+1})+f(x_i)}{2} + O(h^2)\\right) + O(h^3), $$\n",
    "\n",
    "ce qui équivaut à\n",
    "\n",
    "$$h \\left(\\frac{f(x_{i+1})+f(x_i)}{2}\\right) + hO(h^2) + O(h^3)$$\n",
    "\n",
    "et donc,\n",
    "\n",
    "$$\\int_{x_i}^{x_{i+1}} f(x) dx = h \\left(\\frac{f(x_{i+1})+f(x_i)}{2}\\right) + O(h^3).$$\n",
    "\n",
    "Puisque $\\frac{h}{2}(f(x_{i+1}) + f(x_i))$ est l'approximation de la règle du trapèze pour l'intégrale sur le sous-intervalle, c'est $O(h^3)$ pour un seul sous-intervalle et $O(h^2)$ sur tout l'intervalle.\n",
    "\n",
    "**ESSAYEZ-LE !** Utilisez la règle du trapèze pour approximer $\\int_0^{\\pi} \\sin(x) dx$ avec 11 points de grille uniformément espacés sur\n",
    "tout l'intervalle. Comparez cette valeur à la valeur exacte de 2."
   ]
  },
  {
   "cell_type": "code",
   "execution_count": 1,
   "metadata": {
    "button": false,
    "new_sheet": false,
    "run_control": {
     "read_only": false
    }
   },
   "outputs": [
    {
     "name": "stdout",
     "output_type": "stream",
     "text": [
      "1.9835235375094546\n",
      "0.01647646249054535\n"
     ]
    }
   ],
   "source": [
    "import numpy as np\n",
    "\n",
    "a = 0\n",
    "b = np.pi\n",
    "n = 11\n",
    "h = (b - a) / (n - 1)\n",
    "x = np.linspace(a, b, n)\n",
    "f = np.sin(x)\n",
    "\n",
    "I_trap = (h/2)*(f[0] + \\\n",
    "          2 * sum(f[1:n-1]) + f[n-1])\n",
    "err_trap = 2 - I_trap\n",
    "\n",
    "print(I_trap)\n",
    "print(err_trap)"
   ]
  }
 ],
 "metadata": {
  "kernelspec": {
   "display_name": "Python 3 (ipykernel)",
   "language": "python",
   "name": "python3"
  },
  "language_info": {
   "codemirror_mode": {
    "name": "ipython",
    "version": 3
   },
   "file_extension": ".py",
   "mimetype": "text/x-python",
   "name": "python",
   "nbconvert_exporter": "python",
   "pygments_lexer": "ipython3",
   "version": "3.12.2"
  },
  "nbTranslate": {
   "displayLangs": [
    "*"
   ],
   "hotkey": "alt-t",
   "langInMainMenu": true,
   "sourceLang": "en",
   "targetLang": "fr",
   "useGoogleTranslate": true
  }
 },
 "nbformat": 4,
 "nbformat_minor": 2
}
