{
 "cells": [
  {
   "cell_type": "markdown",
   "metadata": {
    "lang": "fr"
   },
   "source": [
    "# Chapitre 7. Programmation Orientée Objet (POO)"
   ]
  },
  {
   "cell_type": "markdown",
   "metadata": {
    "lang": "fr"
   },
   "source": [
    "#### SOMMAIRE\n",
    "\n",
    "---\n",
    "\n",
    "* [**7.1 Introduction à la POO**](chapitre07.01-Introduction-to-OOP.ipynb)\n",
    "* [**7.2 Classe et objet**](chapitre07.02-Class-and-Object.ipynb)\n",
    "* [**7.3 Héritage, encapsulation et polymorphisme**](chapter07.03-Inheritance-Encapsulation-and-Polymorphism.ipynb)\n",
    "* [**7.4 Résumé et problèmes**](chapter07.04-Summary-and-Problems.ipynb)"
   ]
  },
  {
   "cell_type": "markdown",
   "metadata": {
    "lang": "fr"
   },
   "source": [
    "---\n",
    "\n",
    "## Motivation\n",
    "\n",
    "Comme démontré précédemment, nous devons souvent utiliser d'autres packages, tels que\n",
    "`scipy`, `numpy` ou d'autres packages spécifiés par le domaine.\n",
    "Lorsque vous vérifiez le code source de ces packages, vous pouvez voir de nouveaux\n",
    "des mots-clés dans le code, tels que **class**. Que sont les cours et pourquoi les utilisons-nous ? Ceci est une nouvelle programmation\n",
    "paradigme - **Programmation orientée objet** (POO) qui est couramment utilisée dans\n",
    "écrire de gros programmes ou packages. Lors de l'écriture d'un grand programme,\n",
    "La POO présente de nombreux avantages : elle simplifie le code pour mieux\n",
    "lisibilité, décrit mieux l'objectif final du projet, est réutilisable et réduit le nombre de potentiels\n",
    "bugs dans le code. Compte tenu de ces fonctionnalités, vous verrez la POO dans la plupart des packages standard du\n",
    "champ. Comprendre ses bases vous aidera à écrire un meilleur code. Ce\n",
    "Le chapitre présente les bases de la POO, en mettant l'accent sur le noyau\n",
    "composants : objet, classe et héritage, . Python est un outil hautement\n",
    "Le langage de programmation orienté objet et la compréhension de ces concepts vous aideront à programmer avec un minimum de maux de tête.\n",
    "\n",
    "---"
   ]
  }
 ],
 "metadata": {
  "kernelspec": {
   "display_name": "Python 3 (ipykernel)",
   "language": "python",
   "name": "python3"
  },
  "language_info": {
   "codemirror_mode": {
    "name": "ipython",
    "version": 3
   },
   "file_extension": ".py",
   "mimetype": "text/x-python",
   "name": "python",
   "nbconvert_exporter": "python",
   "pygments_lexer": "ipython3",
   "version": "3.12.2"
  },
  "nbTranslate": {
   "displayLangs": [
    "*"
   ],
   "hotkey": "alt-t",
   "langInMainMenu": true,
   "sourceLang": "en",
   "targetLang": "fr",
   "useGoogleTranslate": true
  }
 },
 "nbformat": 4,
 "nbformat_minor": 2
}
