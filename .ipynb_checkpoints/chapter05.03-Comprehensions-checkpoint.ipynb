{
 "cells": [
  {
   "cell_type": "markdown",
   "metadata": {
    "lang": "fr"
   },
   "source": [
    "# 5.3 Compréhensions"
   ]
  },
  {
   "cell_type": "markdown",
   "metadata": {
    "lang": "fr"
   },
   "source": [
    "En Python, il existe d'autres façons d'effectuer des itérations, les compréhensions de listes (dictionnaire, ensemble) sont un moyen important et populaire que vous utiliserez fréquemment dans votre travail. Les compréhensions permettent de créer des séquences à partir d'autres séquences avec une syntaxe très compacte. Commençons par examiner la compréhension de la liste.\n",
    "\n",
    "## Compréhension de la liste"
   ]
  },
  {
   "cell_type": "markdown",
   "metadata": {
    "lang": "fr"
   },
   "source": [
    "**CONSTRUCTION :** Compréhension de la liste\n",
    "\n",
    "```python\n",
    "[Conditions de séquence d'entrée de sortie]\n",
    "```"
   ]
  },
  {
   "cell_type": "markdown",
   "metadata": {
    "lang": "fr"
   },
   "source": [
    "**EXEMPLE !** Si x = range(5), mettez chaque nombre au carré dans x et stockez-le dans une liste y.\n",
    "\n",
    "Si nous n'utilisons pas la compréhension de liste, cela ressemblera à ceci :"
   ]
  },
  {
   "cell_type": "code",
   "execution_count": 1,
   "metadata": {},
   "outputs": [
    {
     "name": "stdout",
     "output_type": "stream",
     "text": [
      "[0, 1, 4, 9, 16]\n"
     ]
    }
   ],
   "source": [
    "x = range(5)\n",
    "y = []\n",
    "\n",
    "for i in x:\n",
    "    y.append(i**2)\n",
    "print(y)"
   ]
  },
  {
   "cell_type": "markdown",
   "metadata": {
    "lang": "fr"
   },
   "source": [
    "Mais avec la compréhension de liste, nous pouvons écrire avec une seule ligne."
   ]
  },
  {
   "cell_type": "code",
   "execution_count": 2,
   "metadata": {},
   "outputs": [
    {
     "name": "stdout",
     "output_type": "stream",
     "text": [
      "[0, 1, 4, 9, 16]\n"
     ]
    }
   ],
   "source": [
    "y = [i**2 for i in x]\n",
    "print(y)"
   ]
  },
  {
   "cell_type": "markdown",
   "metadata": {
    "lang": "fr"
   },
   "source": [
    "En outre, nous pouvons également avoir des conditions dans la compréhension de la liste. Par exemple, si nous voulons simplement stocker les nombres pairs dans l'exemple ci-dessus, nous pouvons le faire en ajoutant une condition dans la compréhension de la liste."
   ]
  },
  {
   "cell_type": "code",
   "execution_count": 3,
   "metadata": {},
   "outputs": [
    {
     "name": "stdout",
     "output_type": "stream",
     "text": [
      "[0, 4, 16]\n"
     ]
    }
   ],
   "source": [
    "y = [i**2 for i in x if i%2 == 0]\n",
    "print(y)"
   ]
  },
  {
   "cell_type": "markdown",
   "metadata": {
    "lang": "fr"
   },
   "source": [
    "Si nous avons deux boucles for imbriquées, nous pouvons également utiliser les compréhensions de liste. Par exemple, nous avons les deux niveaux de boucles suivants que nous pouvons faire dans la compréhension de liste."
   ]
  },
  {
   "cell_type": "code",
   "execution_count": 4,
   "metadata": {},
   "outputs": [
    {
     "name": "stdout",
     "output_type": "stream",
     "text": [
      "[0, 1, 1, 2, 2, 3, 3, 4, 4, 5]\n"
     ]
    }
   ],
   "source": [
    "y = []\n",
    "for i in range(5):\n",
    "    for j in range(2):\n",
    "        y.append(i + j)\n",
    "print(y)"
   ]
  },
  {
   "cell_type": "code",
   "execution_count": 5,
   "metadata": {},
   "outputs": [
    {
     "name": "stdout",
     "output_type": "stream",
     "text": [
      "[0, 1, 1, 2, 2, 3, 3, 4, 4, 5]\n"
     ]
    }
   ],
   "source": [
    "y = [i + j for i in range(5) for j in range(2)]\n",
    "print(y)"
   ]
  },
  {
   "cell_type": "markdown",
   "metadata": {
    "lang": "fr"
   },
   "source": [
    "## Compréhension du dictionnaire"
   ]
  },
  {
   "cell_type": "markdown",
   "metadata": {
    "lang": "fr"
   },
   "source": [
    "De même, nous pouvons également faire la compréhension du dictionnaire. Voir l'exemple suivant."
   ]
  },
  {
   "cell_type": "code",
   "execution_count": 6,
   "metadata": {},
   "outputs": [
    {
     "data": {
      "text/plain": [
       "{'a': 1, 'b': 8, 'c': 27}"
      ]
     },
     "execution_count": 6,
     "metadata": {},
     "output_type": "execute_result"
    }
   ],
   "source": [
    "x = {'a': 1, 'b': 2, 'c': 3}\n",
    "\n",
    "{key:v**3 for (key, v) in x.items()}"
   ]
  },
  {
   "cell_type": "markdown",
   "metadata": {
    "lang": "fr"
   },
   "source": [
    "Nous pouvons faire de la compréhension d'ensembles en Python, cela vous laissera explorer."
   ]
  }
 ],
 "metadata": {
  "kernelspec": {
   "display_name": "Python 3 (ipykernel)",
   "language": "python",
   "name": "python3"
  },
  "language_info": {
   "codemirror_mode": {
    "name": "ipython",
    "version": 3
   },
   "file_extension": ".py",
   "mimetype": "text/x-python",
   "name": "python",
   "nbconvert_exporter": "python",
   "pygments_lexer": "ipython3",
   "version": "3.12.2"
  },
  "nbTranslate": {
   "displayLangs": [
    "*"
   ],
   "hotkey": "alt-t",
   "langInMainMenu": true,
   "sourceLang": "en",
   "targetLang": "fr",
   "useGoogleTranslate": true
  }
 },
 "nbformat": 4,
 "nbformat_minor": 2
}
