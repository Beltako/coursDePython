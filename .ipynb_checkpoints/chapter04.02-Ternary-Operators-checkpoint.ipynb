{
 "cells": [
  {
   "cell_type": "markdown",
   "metadata": {
    "lang": "fr"
   },
   "source": [
    "# 4.2 Opérateurs ternaires\n",
    "\n",
    "La plupart des langages de programmation ont des **opérateurs ternaires**, généralement appelés **expressions conditionnelles**. Il fournit un moyen d'utiliser du code sur une ligne pour évaluer la première expression si la condition est vraie, sinon il évalue la deuxième expression. Python a sa manière d'implémenter l'opérateur ternaire, qui peut être construit comme ci-dessous :"
   ]
  },
  {
   "cell_type": "markdown",
   "metadata": {
    "lang": "fr"
   },
   "source": [
    "**CONSTRUCTION** : opérateur ternaire en Python\n",
    "\n",
    "```pseudocode\n",
    "expression_if_vrai si condition sinon expression_if_faux\n",
    "```\n",
    "\n",
    "**EXEMPLE :** Opérateur ternaire"
   ]
  },
  {
   "cell_type": "code",
   "execution_count": 1,
   "metadata": {},
   "outputs": [
    {
     "name": "stdout",
     "output_type": "stream",
     "text": [
      "student\n"
     ]
    }
   ],
   "source": [
    "is_student = True\n",
    "person = 'student' if is_student else 'not student'\n",
    "print(person)"
   ]
  },
  {
   "cell_type": "markdown",
   "metadata": {
    "lang": "fr"
   },
   "source": [
    "À partir de l’exemple ci-dessus, nous pouvons voir que ce code sur une ligne est équivalent au bloc de codes suivant."
   ]
  },
  {
   "cell_type": "code",
   "execution_count": 2,
   "metadata": {},
   "outputs": [
    {
     "name": "stdout",
     "output_type": "stream",
     "text": [
      "student\n"
     ]
    }
   ],
   "source": [
    "is_student = True\n",
    "if is_student:\n",
    "    person = 'student'\n",
    "else:\n",
    "    person = 'not student'\n",
    "print(person)"
   ]
  },
  {
   "cell_type": "markdown",
   "metadata": {
    "lang": "fr"
   },
   "source": [
    "L'opérateur ternaire fournit un moyen simple de créer des branches et peut rendre nos codes concis. En outre, dans le chapitre suivant, vous le verrez également couramment utilisé dans la compréhension de listes, ce qui est très utile."
   ]
  }
 ],
 "metadata": {
  "kernelspec": {
   "display_name": "Python 3 (ipykernel)",
   "language": "python",
   "name": "python3"
  },
  "language_info": {
   "codemirror_mode": {
    "name": "ipython",
    "version": 3
   },
   "file_extension": ".py",
   "mimetype": "text/x-python",
   "name": "python",
   "nbconvert_exporter": "python",
   "pygments_lexer": "ipython3",
   "version": "3.12.2"
  },
  "nbTranslate": {
   "displayLangs": [
    "*"
   ],
   "hotkey": "alt-t",
   "langInMainMenu": true,
   "sourceLang": "en",
   "targetLang": "fr",
   "useGoogleTranslate": true
  }
 },
 "nbformat": 4,
 "nbformat_minor": 2
}
