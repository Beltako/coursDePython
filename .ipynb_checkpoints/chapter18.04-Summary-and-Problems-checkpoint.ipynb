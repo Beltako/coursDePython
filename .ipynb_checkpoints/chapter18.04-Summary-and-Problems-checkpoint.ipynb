{
 "cells": [
  {
   "cell_type": "markdown",
   "metadata": {
    "lang": "fr"
   },
   "source": [
    "# 14.4 Résumé\n",
    "\n",
    "\n",
    "1. Certaines fonctions peuvent être parfaitement représentées par une série de Taylor, une somme infinie de polynômes.\n",
    "2. Les fonctions qui ont un développement en série de Taylor peuvent être approximées en tronquant sa série de Taylor.\n",
    "3. L'approximation linéaire est une approximation locale courante pour les fonctions.\n",
    "4. L'erreur de troncature peut être estimée à l'aide du théorème d'estimation du reste de Taylor.\n",
    "5. Soyez conscient de l’erreur d’arrondi dans la série de Taylor."
   ]
  },
  {
   "cell_type": "markdown",
   "metadata": {
    "lang": "fr"
   },
   "source": [
    "# Problèmes\n",
    "\n",
    "1. Utilisez les extensions de séries de Taylor pour montrer que $e^{ix} = \\cos(x) + i\\sin(x)$, où $i = \\sqrt{-1}$.\n",
    "2. Utilisez l'approximation linéaire de $\\sin(x)$ autour de $a = 0$ pour montrer que $\\frac{\\sin(x)}{x} \\approx 1$ est un petit $x$.\n",
    "3. Écrivez l'expansion de la série de Taylor pour $e^{x^2}$ autour de $a = 0$. Écrivez une fonction *my_double_exp(x, n)*, qui calcule une approximation de $e^{x^2}$ en utilisant les premiers termes $n$ du développement en série de Taylor. Assurez-vous que *my_double_exp* peut prendre des entrées de tableau.\n",
    "4. Écrivez une fonction qui donne l'approximation de la série de Taylor à la fonction *np.exp* autour de 0 pour l'ordre 1 à 7. Calculez la limite d'erreur de troncature pour l'ordre 7.\n",
    "5. Calculez le développement de Taylor du quatrième ordre pour $\\sin(x)$ et $\\cos(x)$ et $\\sin(x)\\cos(x)$ autour de 0. Ce qui produit moins d'erreurs pour $x = \\pi/2$ : calculer le développement de Taylor pour $\\sin$ et $\\cos$ séparément puis multiplier le résultat ensemble, ou calculer d'abord le développement de Taylor pour le produit puis brancher en $x$ ?\n",
    "6. Utilisez la série de Taylor du 4ème ordre pour approximer $cos(0.2)$ et déterminer la limite d'erreur de troncature.\n",
    "7. Écrivez une fonction *my_cosh_approximator(x, n)*, où la sortie est l'approximation de la série Taylor d'ordre 20 de $\\text{cosh}(x)$ pour $\\text{cosh}(x)$, le cosinus hyperbolique de $x$, pris autour de $a = 0$. Vous pouvez supposer que $x$ est un tableau et $n$ est un entier positif (y compris 0). Rappeler que\n",
    "$$\n",
    "{\\rm cosh}(x) = (e^x + e^{-x})/2.\n",
    "$$\n",
    " Attention : les approximations pour $n = 0$ et $n = 1$ seront équivalentes, les approximations pour $n = 2$ et $n = 3$ seront équivalentes, et ainsi de suite."
   ]
  }
 ],
 "metadata": {
  "kernelspec": {
   "display_name": "Python 3 (ipykernel)",
   "language": "python",
   "name": "python3"
  },
  "language_info": {
   "codemirror_mode": {
    "name": "ipython",
    "version": 3
   },
   "file_extension": ".py",
   "mimetype": "text/x-python",
   "name": "python",
   "nbconvert_exporter": "python",
   "pygments_lexer": "ipython3",
   "version": "3.12.2"
  },
  "nbTranslate": {
   "displayLangs": [
    "*"
   ],
   "hotkey": "alt-t",
   "langInMainMenu": true,
   "sourceLang": "en",
   "targetLang": "fr",
   "useGoogleTranslate": true
  }
 },
 "nbformat": 4,
 "nbformat_minor": 2
}
