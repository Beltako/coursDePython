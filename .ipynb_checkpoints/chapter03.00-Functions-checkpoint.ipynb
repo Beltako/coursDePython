{
 "cells": [
  {
   "cell_type": "markdown",
   "metadata": {
    "lang": "fr"
   },
   "source": [
    "# Chapitre 3. Fonctions"
   ]
  },
  {
   "cell_type": "markdown",
   "metadata": {
    "lang": "fr"
   },
   "source": [
    "#### SOMMAIRE\n",
    "\n",
    "---\n",
    "\n",
    "* [**3.1 Bases des fonctions**](chapter03.01-Function-Basics.ipynb)\n",
    "* [**3.2 Variables locales et variables globales**](chapter03.02-Local-Variables-and-Global-Variables.ipynb)\n",
    "* [**3.3 Fonctions imbriquées**](chapter03.03-Nested-Functions.ipynb)\n",
    "* [**3.4 Fonctions Lambda**](chapter03.04-Lambda-Functions.ipynb)\n",
    "* [**3.5 Fonctions comme arguments des fonctions**](chapitre03.05-Functions-as-Arguments-to-Functions.ipynb)\n",
    "* [**3.6 Résumé et problèmes**](chapter03.06-Summary-and-Problems.ipynb)"
   ]
  },
  {
   "cell_type": "markdown",
   "metadata": {
    "lang": "fr"
   },
   "source": [
    "---\n",
    "\n",
    "## Motivation\n",
    "\n",
    "La programmation nécessite souvent de répéter un ensemble de tâches encore et encore. Par exemple, la fonction *math.sin* en Python est un ensemble de tâches (c'est-à-dire des opérations mathématiques) qui calcule une approximation de *sin (x)*. Plutôt que de devoir retaper ou copier ces instructions à chaque fois que vous souhaitez utiliser la fonction *sin*, il est utile de stocker cette séquence d'instructions sous forme de fonction que vous pouvez appeler encore et encore.\n",
    "\n",
    "L'écriture de vos propres fonctions est au centre de ce chapitre et constitue l'utilisation la plus puissante de la programmation informatique. À la fin de ce chapitre, vous devriez être capable de déclarer, écrire, stocker et appeler vos propres fonctions.\n",
    "\n",
    "---"
   ]
  }
 ],
 "metadata": {
  "kernelspec": {
   "display_name": "Python 3 (ipykernel)",
   "language": "python",
   "name": "python3"
  },
  "language_info": {
   "codemirror_mode": {
    "name": "ipython",
    "version": 3
   },
   "file_extension": ".py",
   "mimetype": "text/x-python",
   "name": "python",
   "nbconvert_exporter": "python",
   "pygments_lexer": "ipython3",
   "version": "3.12.2"
  },
  "nbTranslate": {
   "displayLangs": [
    "*"
   ],
   "hotkey": "alt-t",
   "langInMainMenu": true,
   "sourceLang": "en",
   "targetLang": "fr",
   "useGoogleTranslate": true
  }
 },
 "nbformat": 4,
 "nbformat_minor": 2
}
