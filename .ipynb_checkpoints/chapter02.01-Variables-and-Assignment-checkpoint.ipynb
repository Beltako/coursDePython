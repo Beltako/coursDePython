{
 "cells": [
  {
   "cell_type": "markdown",
   "metadata": {
    "lang": "fr"
   },
   "source": [
    "# 2.1 Variables et affectation"
   ]
  },
  {
   "cell_type": "markdown",
   "metadata": {
    "lang": "fr"
   },
   "source": [
    "Lors de la programmation, il est utile de pouvoir stocker des informations dans des variables. Une **variable** est une chaîne de caractères et de chiffres associée à une information. L'**opérateur d'affectation**, désigné par le symbole \"=\", est l'opérateur utilisé pour attribuer des valeurs aux variables en Python. La ligne `x=1` prend la valeur connue, 1, et **attribue** cette valeur à la variable portant le nom \"x\". Après avoir exécuté cette ligne, ce numéro sera stocké dans cette variable. Jusqu'à ce que la valeur soit modifiée ou la variable supprimée, le caractère x se comporte comme la valeur 1."
   ]
  },
  {
   "cell_type": "code",
   "execution_count": 1,
   "metadata": {
    "button": false,
    "new_sheet": false,
    "run_control": {
     "read_only": false
    }
   },
   "outputs": [
    {
     "data": {
      "text/plain": [
       "1"
      ]
     },
     "execution_count": 1,
     "metadata": {},
     "output_type": "execute_result"
    }
   ],
   "source": [
    "x = 1\n",
    "x"
   ]
  },
  {
   "cell_type": "markdown",
   "metadata": {
    "lang": "fr"
   },
   "source": [
    "**ESSAYEZ-LE !** Attribuez la valeur 2 à la variable y. Multipliez y par 3 pour montrer qu'il se comporte comme le\n",
    "valeur 2."
   ]
  },
  {
   "cell_type": "code",
   "execution_count": 2,
   "metadata": {
    "button": false,
    "new_sheet": false,
    "run_control": {
     "read_only": false
    }
   },
   "outputs": [
    {
     "data": {
      "text/plain": [
       "2"
      ]
     },
     "execution_count": 2,
     "metadata": {},
     "output_type": "execute_result"
    }
   ],
   "source": [
    "y = 2\n",
    "y"
   ]
  },
  {
   "cell_type": "code",
   "execution_count": 3,
   "metadata": {
    "button": false,
    "new_sheet": false,
    "run_control": {
     "read_only": false
    }
   },
   "outputs": [
    {
     "data": {
      "text/plain": [
       "6"
      ]
     },
     "execution_count": 3,
     "metadata": {},
     "output_type": "execute_result"
    }
   ],
   "source": [
    "y*3"
   ]
  },
  {
   "cell_type": "markdown",
   "metadata": {
    "lang": "fr"
   },
   "source": [
    "Une variable ressemble plus à un conteneur pour stocker les données dans la mémoire de l'ordinateur, le nom de la variable indique à l'ordinateur où trouver cette valeur dans la mémoire. Pour l'instant, il suffit de savoir que le notebook dispose de son propre espace mémoire pour stocker toutes les variables du notebook. Suite à l'exemple précédent, vous verrez les variables \"x\" et \"y\" dans la mémoire. Vous pouvez afficher une liste de toutes les variables du notebook à l'aide de la commande magique `%whos`."
   ]
  },
  {
   "cell_type": "markdown",
   "metadata": {
    "lang": "fr"
   },
   "source": [
    "**ESSAYEZ-LE !** Répertoriez toutes les variables de ce cahier"
   ]
  },
  {
   "cell_type": "code",
   "execution_count": 4,
   "metadata": {
    "button": false,
    "new_sheet": false,
    "run_control": {
     "read_only": false
    }
   },
   "outputs": [
    {
     "name": "stdout",
     "output_type": "stream",
     "text": [
      "Variable   Type    Data/Info\n",
      "----------------------------\n",
      "x          int     1\n",
      "y          int     2\n"
     ]
    }
   ],
   "source": [
    "%whos"
   ]
  },
  {
   "cell_type": "markdown",
   "metadata": {
    "lang": "fr"
   },
   "source": [
    "Notez que le signe égal en programmation n'est *pas* la même chose qu'une déclaration de vérité en mathématiques. En mathématiques, l'énoncé *x = 2* déclare la vérité universelle dans le cadre donné, *x vaut 2*. En programmation, l'instruction `x=2` signifie qu'une valeur connue est associée à un nom de variable, *store* 2 dans x. Bien qu'il soit parfaitement valable de dire *1 = x* en mathématiques, les affectations en Python vont toujours *gauche* : ce qui signifie que la valeur à droite du signe égal est affectée à la variable de gauche du signe égal. Par conséquent, *1=x* générera une erreur en Python. L'opérateur d'affectation est toujours le dernier dans l'ordre des opérations par rapport aux opérateurs mathématiques, logiques et de comparaison."
   ]
  },
  {
   "cell_type": "markdown",
   "metadata": {
    "lang": "fr"
   },
   "source": [
    "**ESSAYEZ-LE !** L'énoncé mathématique x=x+1 n'a de solution pour aucune valeur de *x*. En programmation, si nous initialisons la valeur de _x_ à 1, alors l'instruction est parfaitement logique. Cela signifie \"Ajoutez x et 1, qui vaut 2, puis attribuez cette valeur à la variable x\". Notez que cette opération écrase la valeur précédente stockée dans _x_."
   ]
  },
  {
   "cell_type": "code",
   "execution_count": 5,
   "metadata": {
    "button": false,
    "new_sheet": false,
    "run_control": {
     "read_only": false
    }
   },
   "outputs": [
    {
     "data": {
      "text/plain": [
       "2"
      ]
     },
     "execution_count": 5,
     "metadata": {},
     "output_type": "execute_result"
    }
   ],
   "source": [
    "x = x + 1\n",
    "x"
   ]
  },
  {
   "cell_type": "markdown",
   "metadata": {
    "lang": "fr"
   },
   "source": [
    "Il existe certaines restrictions sur les noms que peuvent prendre les variables. Les variables ne peuvent contenir que des caractères alphanumériques (lettres et chiffres) ainsi que des traits de soulignement. Cependant, le premier caractère d'un nom de variable doit être une lettre ou un trait de soulignement. Les espaces dans un nom de variable ne sont pas autorisés et les noms de variables sont sensibles à la casse (par exemple, _x_ et *X* seront considérés comme des variables différentes)."
   ]
  },
  {
   "cell_type": "markdown",
   "metadata": {
    "lang": "fr"
   },
   "source": [
    "**CONSEIL !** Contrairement aux mathématiques pures, les variables en programmation représentent presque toujours _quelque chose_ tangible. Il peut s'agir de la distance entre deux points de l'espace ou du nombre de lapins dans une population. Par conséquent, à mesure que votre code devient de plus en plus complexe, il est très important que vos variables portent un nom qui puisse facilement être associé à ce qu'elles représentent. Par exemple, la distance entre deux points dans l'espace est mieux représentée par la variable _dist_ ​​que *x*, et le nombre de lapins dans une population est mieux représenté par _nRabbits_ than _y_."
   ]
  },
  {
   "cell_type": "markdown",
   "metadata": {
    "lang": "fr"
   },
   "source": [
    "Notez que lorsqu'une variable est affectée, elle n'a aucune mémoire sur _comment_ elle a été affectée. Autrement dit, si la valeur d'une variable, undéfiniy_*, est construite à partir d'autres variables, comme_*xundéfini, la réaffectation de la valeur de _x_ ne modifiera pas la valeur de *y*."
   ]
  },
  {
   "cell_type": "markdown",
   "metadata": {
    "lang": "fr"
   },
   "source": [
    "**EXEMPLE :** Quelle valeur aura *y* après l'exécution des lignes de code suivantes ?"
   ]
  },
  {
   "cell_type": "code",
   "execution_count": 7,
   "metadata": {
    "button": false,
    "new_sheet": false,
    "run_control": {
     "read_only": false
    }
   },
   "outputs": [
    {
     "data": {
      "text/plain": [
       "2"
      ]
     },
     "execution_count": 7,
     "metadata": {},
     "output_type": "execute_result"
    }
   ],
   "source": [
    "x = 1\n",
    "y = x + 1\n",
    "x = 2\n",
    "y"
   ]
  },
  {
   "cell_type": "markdown",
   "metadata": {
    "lang": "fr"
   },
   "source": [
    "**ATTENTION !** Vous pouvez écraser des variables ou des fonctions qui ont été stockées dans Python. Par exemple, la commande `help = 2` stockera la valeur 2 dans la variable de nom *help*. Après cette affectation, *help* se comportera comme la valeur 2 au lieu de la fonction *help*. Par conséquent, vous devez toujours faire attention à ne pas donner à vos variables le même nom que les fonctions ou valeurs intégrées."
   ]
  },
  {
   "cell_type": "markdown",
   "metadata": {
    "lang": "fr"
   },
   "source": [
    "**CONSEIL !** Maintenant que vous savez comment attribuer des variables, il est important que vous appreniez à *ne jamais* laisser des commandes non attribuées. Une **commande non affectée** est une opération qui a un résultat, mais ce résultat n'est pas affecté à une variable. Par exemple, vous ne devez jamais utiliser *2+2*. Vous devriez plutôt l'attribuer à une variable « x=2+2 ». Cela vous permet de « conserver » les résultats des commandes précédentes et rendra votre interaction avec Python moins déroutante."
   ]
  },
  {
   "cell_type": "markdown",
   "metadata": {
    "lang": "fr"
   },
   "source": [
    "Vous pouvez effacer une variable du notebook à l'aide de la fonction *del*. Taper `del x` effacera la variable *_x_* de l'espace de travail. Si vous souhaitez supprimer toutes les variables du notebook, vous pouvez utiliser la commande magique *%reset*.\n",
    "\n",
    "En mathématiques, les variables sont généralement associées à des nombres inconnus ; en programmation, les variables sont associées à une valeur d'un certain type. De nombreux types de données peuvent être attribués à des variables. Un **type de données** est une classification du type d'informations stockées dans une variable. Les types de données de base que vous utiliserez tout au long de ce livre sont booléen, int, float, string, list, tuple, Dictionary, set. Une description formelle de ces types de données est donnée dans les sections suivantes."
   ]
  }
 ],
 "metadata": {
  "kernelspec": {
   "display_name": "Python 3 (ipykernel)",
   "language": "python",
   "name": "python3"
  },
  "language_info": {
   "codemirror_mode": {
    "name": "ipython",
    "version": 3
   },
   "file_extension": ".py",
   "mimetype": "text/x-python",
   "name": "python",
   "nbconvert_exporter": "python",
   "pygments_lexer": "ipython3",
   "version": "3.12.2"
  },
  "nbTranslate": {
   "displayLangs": [
    "*"
   ],
   "hotkey": "alt-t",
   "langInMainMenu": true,
   "sourceLang": "en",
   "targetLang": "fr",
   "useGoogleTranslate": true
  }
 },
 "nbformat": 4,
 "nbformat_minor": 4
}
