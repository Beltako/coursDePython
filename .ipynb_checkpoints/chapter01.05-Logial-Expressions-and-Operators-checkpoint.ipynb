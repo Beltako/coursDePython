{
 "cells": [
  {
   "cell_type": "markdown",
   "metadata": {
    "lang": "fr"
   },
   "source": [
    "# Expressions logiques et opérateurs"
   ]
  },
  {
   "cell_type": "markdown",
   "metadata": {
    "lang": "fr"
   },
   "source": [
    "Une **expression logique** est une affirmation qui peut être vraie ou fausse. Par exemple, $a < b$ est une expression logique. Cela peut être vrai ou faux selon les valeurs données de $a$ et $b$. Notez que cela diffère d'une **expression mathématique** qui désigne une déclaration de vérité. Dans l'exemple précédent, l'expression mathématique $a < b$ signifie que $a$ est inférieur à $b$ et les valeurs de $a$ et $b$ où $a \\ge b$ ne sont pas autorisées. Les expressions logiques constituent la base de l'informatique, donc pour les besoins de ce livre, toutes les déclarations sont supposées logiques plutôt que mathématiques, sauf indication contraire.\n",
    "\n",
    "En Python, une expression logique vraie donnera la valeur « True ». Une expression fausse donnera la valeur « False ». Il s'agit d'un nouveau type de données que nous rencontrons - **boolean**, qui a les valeurs intégrées « True » et « False ». Pour les besoins de ce livre, « Vrai » est équivalent à 1 et « Faux » est équivalent à 0. La distinction entre les nombres 1 et 0 et les valeurs logiques « Vrai » et « Faux » dépasse le cadre de ce livre. mais cela est traité dans des livres plus avancés sur l'informatique. Les expressions logiques sont utilisées pour poser des questions à Python. Par exemple, \"$3 < 4$\" équivaut à \"Est-ce que 3 est inférieur à 4 ?\" Puisque cette affirmation est vraie, Python la calculera comme 1. Cependant, $3 > 4$ est faux, donc Python la calculera comme 0.\n",
    "\n",
    "**Opérateurs de comparaison** comparent la valeur de deux nombres et sont utilisés pour créer des expressions logiques. Python réserve les symboles $>, >=, <, <=, !=, ==$, pour désigner respectivement \"supérieur à\", \"supérieur ou égal\", \"inférieur à\", \"inférieur ou égal\", \"pas égal\" et \"égal\". Commençons par un exemple a = 4, b = 2, et regardons le tableau suivant :\n",
    "\n",
    "non défini Opérateur non défini Description non défini Exemple non défini Résultats non défini\n",
    "non défini :---: non défini :---: non défini :---: non défini :---: non défini\n",
    "non défini > non défini supérieur à non défini a > b non défini Vrainon défini\n",
    "indéfini >= indéfini supérieur ou égal à indéfini a >= b indéfini Trueindéfini\n",
    "non défini < non défini inférieur à non défini a < b non défini Faux non défini\n",
    "non défini <= non défini \"inférieur ou égal non défini a <= b non défini Faux non défini\n",
    "non défini != non défini n'est pas égal à non défini a != b non défini Vrainon défini\n",
    "non défini == non défini égal non défini a == b non défini Faux non défini"
   ]
  },
  {
   "cell_type": "markdown",
   "metadata": {
    "lang": "fr"
   },
   "source": [
    "**ESSAYEZ-LE !** Calculez l'expression logique pour « Est-ce que 5 est égal à 4 ? » et \"Est-ce que 2 est plus petit que 3 ?\""
   ]
  },
  {
   "cell_type": "code",
   "execution_count": 1,
   "metadata": {
    "button": false,
    "new_sheet": false,
    "run_control": {
     "read_only": false
    }
   },
   "outputs": [
    {
     "data": {
      "text/plain": [
       "False"
      ]
     },
     "execution_count": 1,
     "metadata": {},
     "output_type": "execute_result"
    }
   ],
   "source": [
    "5 == 4"
   ]
  },
  {
   "cell_type": "code",
   "execution_count": 2,
   "metadata": {
    "button": false,
    "new_sheet": false,
    "run_control": {
     "read_only": false
    }
   },
   "outputs": [
    {
     "data": {
      "text/plain": [
       "True"
      ]
     },
     "execution_count": 2,
     "metadata": {},
     "output_type": "execute_result"
    }
   ],
   "source": [
    "2 < 3"
   ]
  },
  {
   "cell_type": "markdown",
   "metadata": {
    "lang": "fr"
   },
   "source": [
    "**Les opérateurs logiques** sont des opérations entre deux expressions logiques que, par souci de discussion, nous appelons $P$ et $Q$. Les opérateurs logiques fondamentaux que nous utiliserons ici sont **et**, **ou** et **not**.\n",
    "\n",
    "| Operator | Description | Example | Results | \n",
    "| :---: | :---: | :---: | :---: |\n",
    "| et | greather than | P and Q | True if both P and Q are True<br>False otherwise|\n",
    "| ou | greater than or equal | P or Q | True if either P or Q is True<br>False otherwise|\n",
    "| non | less than | not P | True if P is False<br>False if P is True| \n",
    "\n",
    "La **table de vérité** d'un opérateur ou d'une expression logique donne le résultat de chaque combinaison de vérité de $P$ et $Q$. Les tables de vérité pour « et » et « ou » sont données dans la figure suivante.\n",
    "\n",
    "![truth_table](./images/01.05.01-truth_table.png \"Tables de Turth pour le logique et/ou.\")"
   ]
  },
  {
   "cell_type": "markdown",
   "metadata": {
    "lang": "fr"
   },
   "source": [
    "**ESSAYEZ-LE !** En supposant que $P$ est vrai, utilisez Python pour déterminer si l'expression $(P\\ AND\\ NOT(Q))\\ OR\\ (P\\ AND\\ Q)$ est toujours vraie, que $Q$ soit vrai ou non. Logiquement, voyez-vous pourquoi c’est le cas ? Supposons d’abord que $Q$ est vrai :"
   ]
  },
  {
   "cell_type": "code",
   "execution_count": 3,
   "metadata": {
    "button": false,
    "new_sheet": false,
    "run_control": {
     "read_only": false
    }
   },
   "outputs": [
    {
     "data": {
      "text/plain": [
       "1"
      ]
     },
     "execution_count": 3,
     "metadata": {},
     "output_type": "execute_result"
    }
   ],
   "source": [
    "(1 and not 1) or (1 and 1)"
   ]
  },
  {
   "cell_type": "markdown",
   "metadata": {
    "lang": "fr"
   },
   "source": [
    "Supposons maintenant que $Q$ est faux"
   ]
  },
  {
   "cell_type": "code",
   "execution_count": 4,
   "metadata": {
    "button": false,
    "new_sheet": false,
    "run_control": {
     "read_only": false
    }
   },
   "outputs": [
    {
     "data": {
      "text/plain": [
       "True"
      ]
     },
     "execution_count": 4,
     "metadata": {},
     "output_type": "execute_result"
    }
   ],
   "source": [
    "(1 and not 0) or (1 and 0)"
   ]
  },
  {
   "cell_type": "markdown",
   "metadata": {
    "lang": "fr"
   },
   "source": [
    "Tout comme les opérateurs arithmétiques, les opérateurs logiques ont un ordre d'opérations les uns par rapport aux autres et par rapport aux opérateurs arithmétiques. Toutes les opérations arithmétiques seront exécutées avant les opérations de comparaison, qui seront exécutées avant les opérations logiques. Les parenthèses peuvent être utilisées pour modifier l'ordre des opérations."
   ]
  },
  {
   "cell_type": "markdown",
   "metadata": {
    "lang": "fr"
   },
   "source": [
    "**ESSAYEZ-LE !** Calculez (1 + 3)>(2 + 5)"
   ]
  },
  {
   "cell_type": "code",
   "execution_count": 5,
   "metadata": {
    "button": false,
    "new_sheet": false,
    "run_control": {
     "read_only": false
    }
   },
   "outputs": [
    {
     "data": {
      "text/plain": [
       "False"
      ]
     },
     "execution_count": 5,
     "metadata": {},
     "output_type": "execute_result"
    }
   ],
   "source": [
    "1 + 3 > 2 + 5"
   ]
  },
  {
   "cell_type": "markdown",
   "metadata": {
    "lang": "fr"
   },
   "source": [
    "**CONSEIL !** Même lorsque l'ordre des opérations est connu, il est généralement utile pour vous et ceux qui lisent votre code d'utiliser des parenthèses pour rendre vos intentions plus claires. Dans l’exemple précédent (1 + 3) > (2 + 5) est plus clair."
   ]
  },
  {
   "cell_type": "markdown",
   "metadata": {
    "lang": "fr"
   },
   "source": [
    "**ATTENTION !** Dans l'implémentation logique de Python, 1 est utilisé pour désigner vrai et 0 pour faux. Cependant, 1 et 0 restent des nombres. Par conséquent, Python autorisera des abus tels que : (3 > 2) + (5 > 4), qui se résoudront à 2."
   ]
  },
  {
   "cell_type": "code",
   "execution_count": 6,
   "metadata": {
    "button": false,
    "new_sheet": false,
    "run_control": {
     "read_only": false
    }
   },
   "outputs": [
    {
     "data": {
      "text/plain": [
       "2"
      ]
     },
     "execution_count": 6,
     "metadata": {},
     "output_type": "execute_result"
    }
   ],
   "source": [
    "(3 > 2) + (5 > 4)"
   ]
  },
  {
   "cell_type": "markdown",
   "metadata": {
    "lang": "fr"
   },
   "source": [
    "**ATTENTION !** Bien qu'en logique formelle, 1 soit utilisé pour désigner vrai et 0 pour désigner faux, Python abuse légèrement de la notation et il faudra que tout nombre différent de 0 signifie vrai lorsqu'il est utilisé dans une opération logique . Par exemple, 3 et 1 seront calculés comme étant vrais. N'utilisez pas cette fonctionnalité de Python. Utilisez toujours 1 pour désigner une déclaration vraie."
   ]
  },
  {
   "cell_type": "markdown",
   "metadata": {
    "lang": "fr"
   },
   "source": [
    "**ESSAYEZ-LE !** Une quinzaine est une durée composée de 14 jours. Utilisez une expression logique pour déterminer s'il y a plus de 100 000 secondes dans une quinzaine."
   ]
  },
  {
   "cell_type": "code",
   "execution_count": 7,
   "metadata": {
    "button": false,
    "new_sheet": false,
    "run_control": {
     "read_only": false
    }
   },
   "outputs": [
    {
     "data": {
      "text/plain": [
       "True"
      ]
     },
     "execution_count": 7,
     "metadata": {},
     "output_type": "execute_result"
    }
   ],
   "source": [
    "(14*24*60*60) > 100000"
   ]
  }
 ],
 "metadata": {
  "kernelspec": {
   "display_name": "Python 3 (ipykernel)",
   "language": "python",
   "name": "python3"
  },
  "language_info": {
   "codemirror_mode": {
    "name": "ipython",
    "version": 3
   },
   "file_extension": ".py",
   "mimetype": "text/x-python",
   "name": "python",
   "nbconvert_exporter": "python",
   "pygments_lexer": "ipython3",
   "version": "3.12.2"
  },
  "nbTranslate": {
   "displayLangs": [
    "*"
   ],
   "hotkey": "alt-t",
   "langInMainMenu": true,
   "sourceLang": "en",
   "targetLang": "fr",
   "useGoogleTranslate": true
  }
 },
 "nbformat": 4,
 "nbformat_minor": 2
}
