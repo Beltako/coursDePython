{
 "cells": [
  {
   "cell_type": "markdown",
   "metadata": {
    "lang": "fr"
   },
   "source": [
    "# 11.5 Résumé\n",
    "\n",
    "\n",
    "1. Les valeurs propres et les vecteurs propres nous aident à comprendre les caractéristiques de la transformation linéaire.\n",
    "2. Les vecteurs propres d'une matrice sont les vecteurs qui ne sont mis à l'échelle qu'en longueur sans rotation après la transformation matricielle, les valeurs propres sont les facteurs de l'échelle.\n",
    "3. Nous pouvons utiliser la méthode de la puissance pour obtenir la plus grande valeur propre et le vecteur propre correspondant d'une matrice.\n",
    "4. La méthode de la puissance inverse peut nous aider à obtenir la plus petite valeur propre et le vecteur propre correspondant d'une matrice.\n",
    "5. La méthode de puissance décalée peut obtenir tous les autres vecteurs propres/vecteurs propres d'une matrice.\n",
    "6. La méthode préférée pour obtenir toutes les valeurs propres est la méthode QR."
   ]
  },
  {
   "cell_type": "markdown",
   "metadata": {
    "lang": "fr"
   },
   "source": [
    "# Problèmes\n",
    "\n",
    "1. Écrivez l’équation caractéristique de la matrice $A = \\begin{bmatrix}\n",
    "3 & 2\\\\\n",
    "5 & 3\\\\\n",
    "\\end{bmatrix}$.\n",
    "\n",
    "2. Utiliser l'équation caractéristique ci-dessus pour résoudre les valeurs propres et les vecteurs propres de la matrice $A$.\n",
    "\n",
    "3. Utiliser le premier vecteur propre dérivé du problème 2 pour vérifier que $Ax = \\lambda{x}$.\n",
    "\n",
    "4. Obtenez la plus grande valeur propre et le plus grand vecteur propre pour la matrice $A = \\begin{bmatrix}\n",
    "2 & 1 & 2\\\\\n",
    "1 & 3 & 2\\\\\n",
    "2 & 4 & 1\\\\\n",
    "\\end{bmatrix}$ en utilisant la méthode de puissance. Vous pouvez commencer avec le vecteur initial [1, 1, 1], voir ce que vous obtiendrez après 8 itérations.\n",
    "\n",
    "5. Utiliser la méthode de la puissance inverse pour obtenir la plus petite valeur propre et le plus petit vecteur propre pour la matrice du problème 4. Voyez de combien d'itérations avez-vous besoin pour qu'elle converge vers la plus petite valeur propre.\n",
    "\n",
    "6. Effectuez une décomposition QR pour la matrice $A$ dans le problème 4 et vérifiez que $A=QR$ et $Q$ sont une matrice orthogonale.\n",
    "\n",
    "7. Utilisez la méthode QR pour obtenir toutes les valeurs propres de la matrice $A$ du problème 4.\n",
    "\n",
    "8. Obtenez les valeurs propres et les vecteurs propres de la matrice $A$ du problème 4 à l'aide de la fonction intégrée de Python."
   ]
  }
 ],
 "metadata": {
  "kernelspec": {
   "display_name": "Python 3 (ipykernel)",
   "language": "python",
   "name": "python3"
  },
  "language_info": {
   "codemirror_mode": {
    "name": "ipython",
    "version": 3
   },
   "file_extension": ".py",
   "mimetype": "text/x-python",
   "name": "python",
   "nbconvert_exporter": "python",
   "pygments_lexer": "ipython3",
   "version": "3.12.2"
  },
  "nbTranslate": {
   "displayLangs": [
    "*"
   ],
   "hotkey": "alt-t",
   "langInMainMenu": true,
   "sourceLang": "en",
   "targetLang": "fr",
   "useGoogleTranslate": true
  }
 },
 "nbformat": 4,
 "nbformat_minor": 2
}
