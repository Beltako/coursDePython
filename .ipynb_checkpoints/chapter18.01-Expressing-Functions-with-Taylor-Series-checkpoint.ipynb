{
 "cells": [
  {
   "cell_type": "markdown",
   "metadata": {
    "lang": "fr"
   },
   "source": [
    "# 14.1 Exprimer des fonctions avec les séries de Taylor"
   ]
  },
  {
   "cell_type": "markdown",
   "metadata": {
    "lang": "fr"
   },
   "source": [
    "Une **séquence** est un ensemble ordonné de nombres désigné par la liste de nombres entre parenthèses. Par exemple, $s = (s_1, s_2, s_3, \\cdots)$ signifie que $s$ est la séquence $s_1, s_2, s_3, \\cdots$ et ainsi de suite. Dans ce contexte, « ordonné » signifie que $s_1$ vient *avant* $s_2$, pas que $s_1 < s_2$. De nombreuses séquences ont une structure plus compliquée. Par exemple, $s = (n^2, n\\in N)$ est la séquence 0, 1, 4, 9, $\\cdots$. Une **série** est la somme d'une séquence jusqu'à un certain élément. Une **séquence infinie** est une séquence avec un nombre infini de termes, et une **série infinie** est la somme d'une séquence infinie.\n",
    "\n",
    "Un **développement en série Taylor** est une représentation d'une fonction par une série infinie de polynômes autour d'un point. Mathématiquement, la série de Taylor d'une fonction, $f(x)$, est définie comme :\n",
    "\n",
    "$$ f(x) = \\sum_{n = 0}^{\\infty} \\frac{f^{(n)}(a)(x-a)^n}{n!},\n",
    "$$\n",
    "\n",
    "où $f^{(n)}$ est le dérivé $n^\\mathrm{th}$ de $f$ et $f^{(0)}$ est la fonction $f$"
   ]
  },
  {
   "cell_type": "markdown",
   "metadata": {
    "lang": "fr"
   },
   "source": [
    "**ESSAYEZ-LE !** Calculez l'expansion de la série Taylor pour $f(x) = 5x^2 + 3x + 5$ autour de $a = 0$ et $a = 1$. Vérifiez que $f$ et ses extensions en série Taylor sont identiques.\n",
    "\n",
    "Calculez d’abord les dérivées de manière analytique :\n",
    "\n",
    "\\begin{eqnarray*}\n",
    "f(x) &=& 5x^2 + 3x + 5\\\\\n",
    "f^{\\prime}(x) &=& 10x + 3\\\\\n",
    "f''(x) &=& 10\n",
    "\\end{eqnarray*}\n",
    "\n",
    "Autour de a = 0 :\n",
    "\n",
    "$$f(x) = \\frac{5x^0}{0!} + \\frac{3x^1}{1!} + \\frac{10x^2}{2!} + 0 + 0 + \\cdots = 5x^2 + 3x + 5\n",
    "$$\n",
    "\n",
    "Autour de a = 1 :\n",
    "\n",
    "\\begin{eqnarray*}\n",
    "f(x) &=& \\frac{13(x-1)^0}{0!} + \\frac{13(x-1)^1}{1!} + \\frac{10(x-1)^2}{2!} + 0 + \\cdots\\\\\n",
    " &=& 13 + 13x - 13 + 5x^2 - 10x + 5 = 5x^2 + 3x + 5\n",
    "\\end{eqnarray*}\n",
    "\n",
    "Remarque : Le développement en série de Taylor de tout polynôme a des termes finis car la dérivée $n^\\mathrm{th}$ de tout polynôme est 0 pour $n$ suffisamment grand."
   ]
  },
  {
   "cell_type": "markdown",
   "metadata": {
    "lang": "fr"
   },
   "source": [
    "**ESSAYEZ-LE !** Écrivez la série de Taylor pour $\\sin(x)$ autour du point $a = 0$.\n",
    "\n",
    "Laissez $f(x) = \\sin(x)$. Alors selon le développement en série de Taylor,\n",
    "$$f(x) = \\frac{\\sin(0)}{0!}x^0 + \\frac{\\cos(0)}{1!}x^1 + \\frac{-\\sin(0)}{2!}x^2 + \\frac{-\\cos(0)}{3!}x^3 + \\frac{\\sin(0)}{4!}x^4 + \\frac{\\cos(0)}{5!}x^5 + \\cdots.$$\n",
    "\n",
    "Le développement peut être écrit de manière compacte par la formule\n",
    "$$f(x) = \\sum_{n = 0}^{\\infty} \\frac{(-1)^n x^{2n+1}}{(2n+1)!},\n",
    "$$\n",
    "qui ignore les termes contenant $\\sin(0)$ (c'est-à-dire les termes pairs). Cependant, comme ces termes sont ignorés, les termes de cette série et le développement approprié de la série de Taylor sont décalés d'un facteur $2n+1$ ; par exemple, le terme $n = 0$ dans la formule est le terme $n = 1$ de la série Taylor, et le terme $n = 1$ dans la formule est le terme $n = 3$ dans la série Taylor.mm"
   ]
  }
 ],
 "metadata": {
  "kernelspec": {
   "display_name": "Python 3 (ipykernel)",
   "language": "python",
   "name": "python3"
  },
  "language_info": {
   "codemirror_mode": {
    "name": "ipython",
    "version": 3
   },
   "file_extension": ".py",
   "mimetype": "text/x-python",
   "name": "python",
   "nbconvert_exporter": "python",
   "pygments_lexer": "ipython3",
   "version": "3.12.2"
  },
  "nbTranslate": {
   "displayLangs": [
    "*"
   ],
   "hotkey": "alt-t",
   "langInMainMenu": true,
   "sourceLang": "en",
   "targetLang": "fr",
   "useGoogleTranslate": true
  }
 },
 "nbformat": 4,
 "nbformat_minor": 2
}
