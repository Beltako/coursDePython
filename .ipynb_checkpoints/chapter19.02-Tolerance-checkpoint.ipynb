{
 "cells": [
  {
   "cell_type": "markdown",
   "metadata": {
    "lang": "fr"
   },
   "source": [
    "## 15.2 Tolérance"
   ]
  },
  {
   "cell_type": "markdown",
   "metadata": {
    "lang": "fr"
   },
   "source": [
    "En ingénierie et en sciences, une **erreur** est un écart par rapport à une valeur attendue ou calculée. **Tolérance** est le niveau d'erreur acceptable pour une application d'ingénierie. On dit qu'un programme informatique a **convergé** vers une solution lorsqu'il a trouvé une solution avec une erreur inférieure à la tolérance. Lors du calcul numérique des racines ou de tout autre type d’analyse numérique, il est important d’établir à la fois une métrique d’erreur et une tolérance adaptée à une application technique/scientifique donnée.\n",
    "\n",
    "Pour le calcul des racines, nous voulons un $x_r$ tel que $f(x_r)$ soit très proche de 0. $|f(x)|$ est donc un choix possible pour la mesure de l'erreur puisque plus il est petit, plus nous avons de chances d'avoir une racine. De plus, si nous supposons que $x_i$ est la $i$ème supposition d'un algorithme pour trouver une racine, alors $|x_{i+1} - x_i|$ est un autre choix possible pour mesurer l'erreur, puisque nous nous attendons à ce que les améliorations entre les suppositions ultérieures diminuent à mesure qu'il se rapproche d'une solution. Comme le démontreront les exemples suivants, ces différents choix ont leurs avantages et leurs inconvénients.\n",
    "\n",
    "**ESSAYEZ-LE !** Laissez l'erreur être mesurée par $e = |f(x)|$ et tol soit le niveau d'erreur acceptable. La fonction $f(x) = x^2 + \\text{tol}/2$ n'a pas de véritables racines. Cependant, $|f(0)| = {\\text{tol}}/2$ est donc acceptable comme solution pour un programme de recherche de racine.\n",
    "\n",
    "**ESSAYEZ-LE !** Laissez l'erreur être mesurée par $e = |x_{i+1} - x_i|$ et tol soit le niveau d'erreur acceptable. La fonction $f(x) = 1/x$ n'a pas de racines réelles, mais les suppositions $x_i = -{\\text{tol}}/4$ et $x_{i+1} = {\\text{tol}}/4$ ont une erreur de $e = {\\text{tol}}/2$ et constituent une solution acceptable pour un programme informatique.\n",
    "\n",
    "À partir de ces observations, l’utilisation des critères de tolérance et de convergence doit se faire avec beaucoup de prudence et dans le contexte du programme qui les utilise."
   ]
  }
 ],
 "metadata": {
  "kernelspec": {
   "display_name": "Python 3 (ipykernel)",
   "language": "python",
   "name": "python3"
  },
  "language_info": {
   "codemirror_mode": {
    "name": "ipython",
    "version": 3
   },
   "file_extension": ".py",
   "mimetype": "text/x-python",
   "name": "python",
   "nbconvert_exporter": "python",
   "pygments_lexer": "ipython3",
   "version": "3.12.2"
  },
  "nbTranslate": {
   "displayLangs": [
    "*"
   ],
   "hotkey": "alt-t",
   "langInMainMenu": true,
   "sourceLang": "en",
   "targetLang": "fr",
   "useGoogleTranslate": true
  }
 },
 "nbformat": 4,
 "nbformat_minor": 2
}
