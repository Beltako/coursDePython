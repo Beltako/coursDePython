{
 "cells": [
  {
   "cell_type": "markdown",
   "metadata": {
    "lang": "fr"
   },
   "source": [
    "# Chapitre 9. Visualisation et traçage"
   ]
  },
  {
   "cell_type": "markdown",
   "metadata": {
    "lang": "fr"
   },
   "source": [
    "#### SOMMAIRE\n",
    "\n",
    "---\n",
    "\n",
    "* [**9.1 Traçage 2D**](chapter12.01-2D-Plotting.ipynb) \n",
    "* [**9.2 Traçage 3D**](chapter12.02-3D-Plotting.ipynb)\n",
    "* [**9.3 Travailler avec des cartes**](chapter12.03-Working-with-Maps.ipynb)\n",
    "* [**9.4 Animations et films**](chapitre12.04-Animaitons-and-Movies.ipynb)\n",
    "* [**9.5 Résumé et problèmes**](chapitre12.05-Résumé-et-problèmes.ipynb)"
   ]
  },
  {
   "cell_type": "markdown",
   "metadata": {
    "lang": "fr"
   },
   "source": [
    "--- \n",
    "\n",
    "## Motivation\n",
    "\n",
    "La visualisation des données est généralement le meilleur moyen de transmettre des idées et des informations importantes en matière d’ingénierie et de science, surtout si les informations sont composées de très nombreux chiffres. La possibilité de visualiser et de tracer des données rapidement et de différentes manières est l'une des fonctionnalités les plus puissantes de Python.\n",
    "\n",
    "Python dispose de nombreuses fonctions graphiques qui vous permettent d'afficher efficacement des tracés, des surfaces, des volumes, des champs vectoriels, des histogrammes, des animations et de nombreux autres tracés de données. À la fin de ce chapitre, vous devriez être familier avec les plus courants et disposer de suffisamment d’informations pour explorer le reste.\n",
    "\n",
    "---"
   ]
  }
 ],
 "metadata": {
  "kernelspec": {
   "display_name": "Python 3 (ipykernel)",
   "language": "python",
   "name": "python3"
  },
  "language_info": {
   "codemirror_mode": {
    "name": "ipython",
    "version": 3
   },
   "file_extension": ".py",
   "mimetype": "text/x-python",
   "name": "python",
   "nbconvert_exporter": "python",
   "pygments_lexer": "ipython3",
   "version": "3.12.2"
  },
  "nbTranslate": {
   "displayLangs": [
    "*"
   ],
   "hotkey": "alt-t",
   "langInMainMenu": true,
   "sourceLang": "en",
   "targetLang": "fr",
   "useGoogleTranslate": true
  }
 },
 "nbformat": 4,
 "nbformat_minor": 2
}
