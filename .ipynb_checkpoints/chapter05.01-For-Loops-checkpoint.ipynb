{
 "cells": [
  {
   "cell_type": "markdown",
   "metadata": {
    "lang": "fr"
   },
   "source": [
    "# 5.1 Boucles For"
   ]
  },
  {
   "cell_type": "markdown",
   "metadata": {
    "lang": "fr"
   },
   "source": [
    "Une **for-loop** est un ensemble d'instructions qui est répétée ou itérée pour chaque valeur d'une séquence. Parfois, les boucles for sont appelées **boucles définies** car elles ont un début et une fin prédéfinis délimités par la séquence.\n",
    "\n",
    "La syntaxe générale d'un bloc de boucle for est la suivante.\n",
    "\n",
    "**CONSTRUCTION** : Boucle For\n",
    "\n",
    "```python\n",
    "pour boucler une variable en séquence :\n",
    "    bloc de code\n",
    "```\n",
    "\n",
    "Une boucle for attribue la **variable de boucle** au premier élément de la séquence. Il exécute tout ce qui se trouve dans le bloc de code. Ensuite, il attribue la variable de bouclage à l'élément suivant de la séquence et exécute à nouveau le bloc de code. Cela continue jusqu'à ce qu'il n'y ait plus d'éléments à affecter dans la séquence."
   ]
  },
  {
   "cell_type": "markdown",
   "metadata": {
    "lang": "fr"
   },
   "source": [
    "**ESSAYEZ-LE !** Quelle est la somme de chaque nombre entier de 1 à 3 ?"
   ]
  },
  {
   "cell_type": "code",
   "execution_count": 1,
   "metadata": {
    "button": false,
    "new_sheet": false,
    "run_control": {
     "read_only": false
    }
   },
   "outputs": [
    {
     "name": "stdout",
     "output_type": "stream",
     "text": [
      "6\n"
     ]
    }
   ],
   "source": [
    "n = 0\n",
    "for i in range(1, 4):\n",
    "    n = n + i\n",
    "    \n",
    "print(n)"
   ]
  },
  {
   "cell_type": "markdown",
   "metadata": {
    "lang": "fr"
   },
   "source": [
    "**QUE SE PASSE-T-IL ?**\n",
    "\n",
    "0. Tout d'abord, la fonction *range(1, 4)* génère une liste de nombres commençant à 1 et se terminant à 3. Vérifiez la description de la fonction *range* et familiarisez-vous avec comment pour l'utiliser. Sous une forme très simple, il s'agit de *range(start, stop, step)*, et le *step* est facultatif avec 1 par défaut.\n",
    "1. La variable *n* reçoit la valeur 0.\n",
    "2. La variable *i* reçoit la valeur 1.\n",
    "3. La variable *n* reçoit la valeur *n + i* ($0 + 1 = 1$).\n",
    "4. La variable *i* reçoit la valeur 2.\n",
    "5. La variable *n* reçoit la valeur *n + i* ($1 + 2 = 3$).\n",
    "6. La variable *i* reçoit la valeur 3.\n",
    "7. La variable *n* reçoit la valeur *n + i* ($3 + 3 = 6$).\n",
    "8. N'ayant plus de valeurs à attribuer dans la liste, la boucle for se termine par\n",
    "*n = 6*."
   ]
  },
  {
   "cell_type": "markdown",
   "metadata": {
    "lang": "fr"
   },
   "source": [
    "Nous présentons plusieurs autres exemples pour vous donner une idée du fonctionnement des boucles for. D'autres exemples de séquences sur lesquelles nous pouvons parcourir incluent les éléments d'un tuple, les caractères d'une chaîne et d'autres types de données séquentielles."
   ]
  },
  {
   "cell_type": "markdown",
   "metadata": {
    "lang": "fr"
   },
   "source": [
    "__EXEMPLE :__ Imprime tous les caractères de la chaîne `\"banane\"`."
   ]
  },
  {
   "cell_type": "code",
   "execution_count": 2,
   "metadata": {
    "button": false,
    "new_sheet": false,
    "run_control": {
     "read_only": false
    }
   },
   "outputs": [
    {
     "name": "stdout",
     "output_type": "stream",
     "text": [
      "b\n",
      "a\n",
      "n\n",
      "a\n",
      "n\n",
      "a\n"
     ]
    }
   ],
   "source": [
    "for c in \"banana\":\n",
    "    print(c)"
   ]
  },
  {
   "cell_type": "markdown",
   "metadata": {
    "lang": "fr"
   },
   "source": [
    "Alternativement, vous pouvez utiliser l'index pour obtenir chaque caractère. Mais ce n’est pas aussi concis que l’exemple précédent. Rappelons que la longueur d'une chaîne peut être déterminée à l'aide de la fonction *len*. Et nous pourrions ignorer le début en ne donnant qu'un seul numéro comme arrêt."
   ]
  },
  {
   "cell_type": "code",
   "execution_count": 3,
   "metadata": {
    "button": false,
    "new_sheet": false,
    "run_control": {
     "read_only": false
    }
   },
   "outputs": [
    {
     "name": "stdout",
     "output_type": "stream",
     "text": [
      "b\n",
      "a\n",
      "n\n",
      "a\n",
      "n\n",
      "a\n"
     ]
    }
   ],
   "source": [
    "s = \"banana\"\n",
    "for i in range(len(s)):\n",
    "    print(s[i])"
   ]
  },
  {
   "cell_type": "markdown",
   "metadata": {
    "lang": "fr"
   },
   "source": [
    "**EXEMPLE** : Étant donné une liste d'entiers, *a*, ajoutez tous les éléments de *a*."
   ]
  },
  {
   "cell_type": "code",
   "execution_count": 4,
   "metadata": {
    "button": false,
    "new_sheet": false,
    "run_control": {
     "read_only": false
    }
   },
   "outputs": [
    {
     "name": "stdout",
     "output_type": "stream",
     "text": [
      "12\n"
     ]
    }
   ],
   "source": [
    "s = 0\n",
    "a = [2, 3, 1, 3, 3]\n",
    "for i in a:\n",
    "    s += i # note this is equivalent to s = s + i\n",
    "    \n",
    "print(s)"
   ]
  },
  {
   "cell_type": "markdown",
   "metadata": {
    "lang": "fr"
   },
   "source": [
    "La fonction Python *sum* a déjà été écrite pour gérer l'exemple précédent. Supposons toutefois que vous souhaitiez ajouter uniquement les nombres pairs. Que changeriez-vous au bloc de boucle for précédent pour gérer cette restriction ?"
   ]
  },
  {
   "cell_type": "code",
   "execution_count": 5,
   "metadata": {
    "button": false,
    "new_sheet": false,
    "run_control": {
     "read_only": false
    }
   },
   "outputs": [
    {
     "name": "stdout",
     "output_type": "stream",
     "text": [
      "6\n"
     ]
    }
   ],
   "source": [
    "s = 0\n",
    "for i in range(0, len(a), 2):\n",
    "    s += a[i]\n",
    "    \n",
    "print(s)"
   ]
  },
  {
   "cell_type": "markdown",
   "metadata": {
    "lang": "fr"
   },
   "source": [
    "**REMARQUE !** Nous utilisons *step* comme 2 dans la fonction *range* pour obtenir les index pairs de la liste *a*. En outre, un raccourci Python couramment utilisé est l'opérateur *+=*. En Python et dans de nombreux autres langages de programmation, une instruction comme *i += 1* est équivalente à *i = i + 1* et il en va de même pour les autres opérateurs comme *-=* , *\\*=*,*/=*."
   ]
  },
  {
   "cell_type": "markdown",
   "metadata": {
    "lang": "fr"
   },
   "source": [
    "**Exemple** Définissez un dictionnaire et parcourez toutes les clés et valeurs."
   ]
  },
  {
   "cell_type": "code",
   "execution_count": 6,
   "metadata": {
    "button": false,
    "new_sheet": false,
    "run_control": {
     "read_only": false
    }
   },
   "outputs": [
    {
     "name": "stdout",
     "output_type": "stream",
     "text": [
      "One 1\n",
      "Two 2\n",
      "Three 3\n"
     ]
    }
   ],
   "source": [
    "dict_a = {\"One\":1, \"Two\":2, \"Three\":3}\n",
    "\n",
    "for key in dict_a.keys():\n",
    "    print(key, dict_a[key])"
   ]
  },
  {
   "cell_type": "markdown",
   "metadata": {
    "lang": "fr"
   },
   "source": [
    "Dans l'exemple ci-dessus, nous obtenons d'abord toutes les clés en utilisant la méthode *keys*, puis utilisons la clé pour accéder à la valeur. Alternativement, nous pourrions utiliser la méthode *item* dans un dictionnaire et obtenir la clé et la valeur en même temps, comme le montre l'exemple suivant."
   ]
  },
  {
   "cell_type": "code",
   "execution_count": 7,
   "metadata": {
    "button": false,
    "new_sheet": false,
    "run_control": {
     "read_only": false
    }
   },
   "outputs": [
    {
     "name": "stdout",
     "output_type": "stream",
     "text": [
      "One 1\n",
      "Two 2\n",
      "Three 3\n"
     ]
    }
   ],
   "source": [
    "for key, value in dict_a.items():\n",
    "    print(key, value)"
   ]
  },
  {
   "cell_type": "markdown",
   "metadata": {
    "lang": "fr"
   },
   "source": [
    "Notez que nous pourrions attribuer deux variables de boucle différentes en même temps. Il existe d'autres cas où nous pourrions faire les choses de la même manière. Par exemple, si nous avons deux listes de même longueur et que nous voulons les parcourir en boucle, nous pourrions procéder comme dans l'exemple suivant en utilisant la fonction *zip* :"
   ]
  },
  {
   "cell_type": "code",
   "execution_count": 8,
   "metadata": {
    "button": false,
    "new_sheet": false,
    "run_control": {
     "read_only": false
    }
   },
   "outputs": [
    {
     "name": "stdout",
     "output_type": "stream",
     "text": [
      "One 1\n",
      "Two 2\n",
      "Three 3\n"
     ]
    }
   ],
   "source": [
    "a = [\"One\", \"Two\", \"Three\"]\n",
    "b = [1, 2, 3]\n",
    "\n",
    "for i, j in zip(a, b):\n",
    "    print(i, j)"
   ]
  },
  {
   "cell_type": "markdown",
   "metadata": {
    "lang": "fr"
   },
   "source": [
    "**EXEMPLE :** Laissez la fonction *have_digits* avoir l'entrée sous forme de chaîne. La sortie *out* doit prendre la valeur 1 si la chaîne contient des chiffres, et 0 sinon. Vous pouvez utiliser la méthode *isdigit* de la chaîne pour vérifier si le caractère est un chiffre."
   ]
  },
  {
   "cell_type": "code",
   "execution_count": 9,
   "metadata": {
    "button": false,
    "new_sheet": false,
    "run_control": {
     "read_only": false
    }
   },
   "outputs": [],
   "source": [
    "def have_digits(s):\n",
    "    \n",
    "    out = 0\n",
    "    \n",
    "    # loop through the string\n",
    "    for c in s:\n",
    "        # check if the character is a digit\n",
    "        if c.isdigit():\n",
    "            out = 1\n",
    "            break\n",
    "            \n",
    "    return out"
   ]
  },
  {
   "cell_type": "code",
   "execution_count": 10,
   "metadata": {
    "button": false,
    "new_sheet": false,
    "run_control": {
     "read_only": false
    }
   },
   "outputs": [
    {
     "name": "stdout",
     "output_type": "stream",
     "text": [
      "1\n"
     ]
    }
   ],
   "source": [
    "out = have_digits('only4you')\n",
    "print(out)"
   ]
  },
  {
   "cell_type": "code",
   "execution_count": 11,
   "metadata": {
    "button": false,
    "new_sheet": false,
    "run_control": {
     "read_only": false
    }
   },
   "outputs": [
    {
     "name": "stdout",
     "output_type": "stream",
     "text": [
      "0\n"
     ]
    }
   ],
   "source": [
    "out = have_digits('only for you')\n",
    "print(out)"
   ]
  },
  {
   "cell_type": "markdown",
   "metadata": {
    "lang": "fr"
   },
   "source": [
    "La première étape de la fonction *have_digits* suppose qu'il n'y a aucun chiffre dans la chaîne *s* (c'est-à-dire que la sortie est 0 ou False).\n",
    "\n",
    "Notez le nouveau mot-clé *break*. S'il est exécuté, le mot-clé *break* arrête immédiatement la boucle for la plus immédiate qui le contient ; c'est-à-dire que s'il est contenu dans une boucle for imbriquée, il n'arrêtera que la boucle for la plus interne. Dans ce cas particulier, la commande break est exécutée si jamais on trouve un chiffre dans la chaîne. Le code fonctionnera toujours correctement sans cette instruction, mais comme la tâche est de savoir s'il y a un chiffre dans *s*, nous n'avons pas besoin de continuer à chercher si nous en trouvons un. De même, si un humain se voyait confier la même tâche pour une longue chaîne de caractères, cette personne ne continuerait pas à chercher des chiffres si elle en avait déjà trouvé un. Les instructions Break sont utilisées lorsque quelque chose se produit dans une boucle for qui vous donnerait envie de l'arrêter plus tôt. Une commande moins intrusive est le mot-clé *continue*, qui ignore le code restant dans l'itération actuelle de la boucle for et passe à l'élément suivant du tableau en boucle. Voir l'exemple suivant, où nous utilisons le mot-clé *continue* pour ignorer la fonction *print* pour imprimer 2 :"
   ]
  },
  {
   "cell_type": "code",
   "execution_count": 12,
   "metadata": {
    "button": false,
    "new_sheet": false,
    "run_control": {
     "read_only": false
    }
   },
   "outputs": [
    {
     "name": "stdout",
     "output_type": "stream",
     "text": [
      "0\n",
      "1\n",
      "3\n",
      "4\n"
     ]
    }
   ],
   "source": [
    "for i in range(5):\n",
    "    \n",
    "    if i == 2:\n",
    "        continue\n",
    "        \n",
    "    print(i)"
   ]
  },
  {
   "cell_type": "markdown",
   "metadata": {
    "lang": "fr"
   },
   "source": [
    "**EXEMPLE :** Soit la fonction *my_dist_2_points(xy_points, xy)*, où l'argument d'entrée *xy_points* est une liste de coordonnées x-y d'un point dans l'espace euclidien, *xy* est une liste contenant une coordonnée x-y, et la sortie *d* est une liste contenant les distances de *xy* aux points contenus dans chaque ligne de <*>xy_points<*>."
   ]
  },
  {
   "cell_type": "code",
   "execution_count": 13,
   "metadata": {
    "button": false,
    "new_sheet": false,
    "run_control": {
     "read_only": false
    }
   },
   "outputs": [],
   "source": [
    "import math\n",
    "\n",
    "def my_dist_2_points(xy_points, xy):\n",
    "    \"\"\"\n",
    "    Returns an array of distances between xy and the points \n",
    "    contained in the rows of xy_points\n",
    "    \n",
    "    author\n",
    "    date\n",
    "    \"\"\"\n",
    "    d = []\n",
    "    for xy_point in xy_points:\n",
    "        dist = math.sqrt(\\\n",
    "            (xy_point[0] - xy[0])**2 + (xy_point[1] - xy[1])**2)\n",
    "        \n",
    "        d.append(dist)\n",
    "        \n",
    "    return d"
   ]
  },
  {
   "cell_type": "code",
   "execution_count": 14,
   "metadata": {
    "button": false,
    "new_sheet": false,
    "run_control": {
     "read_only": false
    }
   },
   "outputs": [
    {
     "data": {
      "text/plain": [
       "[2.0, 1.4142135623730951, 1.0]"
      ]
     },
     "execution_count": 14,
     "metadata": {},
     "output_type": "execute_result"
    }
   ],
   "source": [
    "xy_points = [[3,2], [2, 3], [2, 2]]\n",
    "xy = [1, 2]\n",
    "my_dist_2_points(xy_points, xy)"
   ]
  },
  {
   "cell_type": "markdown",
   "metadata": {
    "lang": "fr"
   },
   "source": [
    "Tout comme les instructions if, les boucles for peuvent être imbriquées.\n",
    "\n",
    "**EXEMPLE :** Soit *x* un tableau à deux dimensions, [5 6;7 8]. Utilisez une boucle for imbriquée pour additionner tous les éléments de *x*."
   ]
  },
  {
   "cell_type": "code",
   "execution_count": 15,
   "metadata": {
    "button": false,
    "new_sheet": false,
    "run_control": {
     "read_only": false
    }
   },
   "outputs": [
    {
     "name": "stdout",
     "output_type": "stream",
     "text": [
      "26\n"
     ]
    }
   ],
   "source": [
    "x = np.array([[5, 6], [7, 8]])\n",
    "n, m = x.shape\n",
    "s = 0\n",
    "for i in range(n):\n",
    "    for j in range(m):\n",
    "        s += x[i, j]\n",
    "        \n",
    "print(s)"
   ]
  },
  {
   "cell_type": "markdown",
   "metadata": {
    "lang": "fr"
   },
   "source": [
    "**QUE SE PASSE-T-IL ?**\n",
    "\n",
    "1. *s*, représentant la somme totale cumulée, est mis à 0.\n",
    "2. La boucle for externe commence par la variable de boucle, i, définie sur 0.\n",
    "3. La boucle for interne commence par la variable de boucle, j, définie sur 0.\n",
    "4. *s* est incrémenté de x[i,j] = x[0,0] = 5. Donc s = 5.\n",
    "5. Ensembles de boucles for internes j = 1.\n",
    "6. *s* est incrémenté de x[i,j] = x[0,1] = 6. Donc s = 11.\n",
    "7. La boucle for interne se termine.\n",
    "8. Ensembles de boucles for externes i = 1.\n",
    "9. La boucle for interne commence par la variable de boucle, j, définie sur 0.\n",
    "10. *s* est incrémenté de x[i,j] = x[1,0] = 7. Donc s = 18.\n",
    "11. Ensembles de boucles for internes j = 1.\n",
    "12. *s* est incrémenté de x[i,j] = x[1,1] = 8. Donc s = 26.\n",
    "13. La boucle for interne se termine.\n",
    "14. La boucle for externe se termine par s = 26.\n",
    "\n",
    "**ATTENTION !** Bien que cela soit possible, n'essayez pas de modifier la variable de boucle à l'intérieur de la boucle for. Cela rendra votre code très compliqué et entraînera probablement des erreurs."
   ]
  }
 ],
 "metadata": {
  "kernelspec": {
   "display_name": "Python 3 (ipykernel)",
   "language": "python",
   "name": "python3"
  },
  "language_info": {
   "codemirror_mode": {
    "name": "ipython",
    "version": 3
   },
   "file_extension": ".py",
   "mimetype": "text/x-python",
   "name": "python",
   "nbconvert_exporter": "python",
   "pygments_lexer": "ipython3",
   "version": "3.12.2"
  },
  "nbTranslate": {
   "displayLangs": [
    "*"
   ],
   "hotkey": "alt-t",
   "langInMainMenu": true,
   "sourceLang": "en",
   "targetLang": "fr",
   "useGoogleTranslate": true
  }
 },
 "nbformat": 4,
 "nbformat_minor": 2
}
