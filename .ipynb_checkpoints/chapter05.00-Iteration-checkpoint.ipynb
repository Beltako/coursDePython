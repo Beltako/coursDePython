{
 "cells": [
  {
   "cell_type": "markdown",
   "metadata": {
    "lang": "fr"
   },
   "source": [
    "# Chapitre 5. Itération"
   ]
  },
  {
   "cell_type": "markdown",
   "metadata": {
    "lang": "fr"
   },
   "source": [
    "#### SOMMAIRE\n",
    "\n",
    "---\n",
    "\n",
    "* [**5.1 Pour les boucles**](chapitre05.01-For-Loops.ipynb)\n",
    "* [**5.2 Boucles While**](chapitre05.02-While-Loops.ipynb)\n",
    "* [**5.3 Compréhensions**](chapter05.03-Comprehensions.ipynb)\n",
    "* [**5.4 Résumé et problèmes**](chapitre05.04-Résumé_et_Problèmes.ipynb)"
   ]
  },
  {
   "cell_type": "markdown",
   "metadata": {
    "lang": "fr"
   },
   "source": [
    "---\n",
    "\n",
    "## Motivation\n",
    "\n",
    "De nombreuses tâches dans la vie sont ennuyeuses ou fastidieuses parce qu’elles nécessitent de répéter encore et encore les mêmes actions de base – en les répétant – dans des contextes légèrement différents. Par exemple, envisagez de rechercher la définition de 20 mots dans le dictionnaire, de remplir un grand tableau de nombres avec des données, de classer par ordre alphabétique de nombreuses piles de papier ou de dépoussiérer chaque objet et chaque étagère de votre chambre. Étant donné que les tâches répétitives apparaissent si fréquemment, il est tout à fait naturel que les langages de programmation comme Python disposent de méthodes directes pour effectuer des itérations.\n",
    "\n",
    "Ce chapitre vous apprend à programmer des tâches itératives. Grâce au branchement et à l'itération, il est possible de programmer à peu près n'importe quelle tâche que vous pouvez imaginer.\n",
    "\n",
    "---"
   ]
  }
 ],
 "metadata": {
  "kernelspec": {
   "display_name": "Python 3 (ipykernel)",
   "language": "python",
   "name": "python3"
  },
  "language_info": {
   "codemirror_mode": {
    "name": "ipython",
    "version": 3
   },
   "file_extension": ".py",
   "mimetype": "text/x-python",
   "name": "python",
   "nbconvert_exporter": "python",
   "pygments_lexer": "ipython3",
   "version": "3.12.2"
  },
  "nbTranslate": {
   "displayLangs": [
    "*"
   ],
   "hotkey": "alt-t",
   "langInMainMenu": true,
   "sourceLang": "en",
   "targetLang": "fr",
   "useGoogleTranslate": true
  }
 },
 "nbformat": 4,
 "nbformat_minor": 2
}
