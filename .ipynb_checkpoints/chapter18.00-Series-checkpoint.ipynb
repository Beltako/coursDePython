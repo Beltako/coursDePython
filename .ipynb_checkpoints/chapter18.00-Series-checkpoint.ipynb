{
 "cells": [
  {
   "cell_type": "markdown",
   "metadata": {
    "lang": "fr"
   },
   "source": [
    "# Chapitre 14. Série"
   ]
  },
  {
   "cell_type": "markdown",
   "metadata": {
    "lang": "fr"
   },
   "source": [
    "#### SOMMAIRE\n",
    "\n",
    "---\n",
    "\n",
    "* [**14.1 Exprimer des fonctions avec la série Taylor**](chapitre18.01-Expressing-Functions-with-Taylor-Series.ipynb)\n",
    "* [**14.2 Approximations avec la série Taylor**](chapitre18.02-approximations-avec-Taylor-Series.ipynb)\n",
    "* [**14.3 Discussion sur les erreurs**](chapter18.03-Discussion-on-Errors.ipynb)\n",
    "* [**14.4 Résumé et problèmes**](chapitre18.04-Résumé-et-problèmes.ipynb)"
   ]
  },
  {
   "cell_type": "markdown",
   "metadata": {
    "lang": "fr"
   },
   "source": [
    "---\n",
    "\n",
    "## Motivation\n",
    "\n",
    "De nombreuses fonctions telles que $\\sin(x)$ et $\\cos(x)$ sont utiles aux ingénieurs et aux scientifiques, mais elles sont impossibles à calculer explicitement. En pratique, ces fonctions peuvent être approchées par des sommes de fonctions faciles à calculer, comme les polynômes. En fait, la plupart des fonctions communes aux ingénieurs et aux scientifiques ne peuvent être calculées sans de telles approximations. Étant donné que ces fonctions sont très souvent utilisées, il est important de savoir comment fonctionnent ces approximations et leurs limites.\n",
    "\n",
    "Dans ce chapitre, vous découvrirez les séries de Taylor, qui sont une méthode d'approximation de fonctions compliquées. Ce chapitre ne remplace en aucun cas un cours complet sur l’analyse fonctionnelle, mais il fournit une présentation qui sera utile pour les chapitres suivants.\n",
    "\n",
    "---"
   ]
  }
 ],
 "metadata": {
  "kernelspec": {
   "display_name": "Python 3 (ipykernel)",
   "language": "python",
   "name": "python3"
  },
  "language_info": {
   "codemirror_mode": {
    "name": "ipython",
    "version": 3
   },
   "file_extension": ".py",
   "mimetype": "text/x-python",
   "name": "python",
   "nbconvert_exporter": "python",
   "pygments_lexer": "ipython3",
   "version": "3.12.2"
  },
  "nbTranslate": {
   "displayLangs": [
    "*"
   ],
   "hotkey": "alt-t",
   "langInMainMenu": true,
   "sourceLang": "en",
   "targetLang": "fr",
   "useGoogleTranslate": true
  }
 },
 "nbformat": 4,
 "nbformat_minor": 2
}
