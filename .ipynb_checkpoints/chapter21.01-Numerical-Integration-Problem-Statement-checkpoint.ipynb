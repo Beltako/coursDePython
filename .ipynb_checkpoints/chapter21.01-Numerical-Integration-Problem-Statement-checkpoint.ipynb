{
 "cells": [
  {
   "cell_type": "markdown",
   "metadata": {
    "lang": "fr"
   },
   "source": [
    "# 17.1 Énoncé du problème d'intégration numérique"
   ]
  },
  {
   "cell_type": "markdown",
   "metadata": {
    "lang": "fr"
   },
   "source": [
    "Étant donné une fonction $f(x)$, nous voulons approximer l'intégrale de $f(x)$ sur l'**intervalle** total, $[a,b]$. La figure suivante illustre ce domaine. Pour atteindre cet objectif, nous supposons que l'intervalle a été discrétisé en une grille numérique, $x$, composée de points $n+1$ avec un espacement, $h = \\frac{b - a}{n}$. Ici, nous désignons chaque point de $x$ par $x_i$, où $x_0 = a$ et $x_n = b$. Remarque : Il existe des points de grille $n+1$ car le décompte commence à $x_0$. Nous supposons également que nous disposons d’une fonction, $f(x)$, qui peut être calculée pour n’importe lequel des points de la grille, ou que la fonction nous a été implicitement donnée sous la forme $f(x_i)$. L'intervalle $[x_i, x_{i+1}]$ est appelé **sous-intervalle**.\n",
    "\n",
    "<img src=\"images/21.01.1-Illustration_integral.png\" alt=\"Illustration integral\" title=\"Illustration of the integral. The integral from a to b of the function f is the area below the curve (shaded in grey).\" width=\"200\"/>\n",
    "\n",
    "Les sections suivantes donnent certaines des méthodes les plus courantes d'approximation de $\\int_a^b f(x) dx$. Chaque méthode approxime l'aire sous $f(x)$ pour chaque sous-intervalle par une forme pour laquelle il est facile de calculer l'aire exacte, puis additionne les contributions d'aire de chaque sous-intervalle."
   ]
  }
 ],
 "metadata": {
  "kernelspec": {
   "display_name": "Python 3 (ipykernel)",
   "language": "python",
   "name": "python3"
  },
  "language_info": {
   "codemirror_mode": {
    "name": "ipython",
    "version": 3
   },
   "file_extension": ".py",
   "mimetype": "text/x-python",
   "name": "python",
   "nbconvert_exporter": "python",
   "pygments_lexer": "ipython3",
   "version": "3.12.2"
  },
  "nbTranslate": {
   "displayLangs": [
    "*"
   ],
   "hotkey": "alt-t",
   "langInMainMenu": true,
   "sourceLang": "en",
   "targetLang": "fr",
   "useGoogleTranslate": true
  }
 },
 "nbformat": 4,
 "nbformat_minor": 2
}
