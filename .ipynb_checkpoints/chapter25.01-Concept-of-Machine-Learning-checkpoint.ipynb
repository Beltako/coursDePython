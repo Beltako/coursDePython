{
 "cells": [
  {
   "cell_type": "markdown",
   "metadata": {
    "lang": "fr"
   },
   "source": [
    "# 21.1 Concept d'apprentissage automatique"
   ]
  },
  {
   "cell_type": "markdown",
   "metadata": {
    "lang": "fr"
   },
   "source": [
    "**Machine learning**, comme son nom l'indique, est un groupe d'algorithmes qui tentent d'activer la capacité d'apprentissage des ordinateurs, afin qu'ils puissent apprendre des données ou des expériences passées. L’idée est qu’en tant qu’enfant, nous acquérons de nombreuses compétences grâce à l’apprentissage. Un exemple est que nous avons appris à reconnaître les chats et les chiens à partir de quelques cas que nos parents nous ont montrés. Nous pouvons simplement voir quelques photos de chats et de chiens, et la prochaine fois que nous verrons un chat dans la rue, même s'il peut être différent des photos que nous avons vues, nous saurons que c'est un chat. Cette capacité à apprendre des données qui nous sont présentées et à les utiliser plus tard pour généraliser et reconnaître de nouvelles données est l'une des choses que nous voulons apprendre à nos ordinateurs.\n",
    "\n",
    "Les algorithmes d’apprentissage automatique sont utilisés à de nombreux endroits de notre vie sans que vous vous en rendiez peut-être compte. Par exemple, votre assistant vocal sur votre smartphone, le distributeur automatique reconnaît les chèques de caution, votre fournisseur de messagerie sépare automatiquement les bons emails des indésirables, les voitures autonomes roulent sans chauffeur, la reconnaissance faciale à certains contrôles de sécurité, et bien d'autres exemples. Par conséquent, dans ce chapitre, nous vous présenterons certains des concepts de base de l’apprentissage automatique afin de vous motiver à en apprendre davantage au-delà de ce livre. Commençons par voir ce qui constitue un algorithme d'apprentissage automatique.\n",
    "\n",
    "## Types d'apprentissage automatique\n",
    "\n",
    "Il existe différents types d’algorithmes d’apprentissage automatique. Une façon courante de les classer est illustrée dans la figure suivante :\n",
    "\n",
    "<img src=\"images/25.01.01-types-of-ML.jpg\" alt=\"ML types\" title=\"Different types of machine learning\" width=\"500\"/>\n",
    "\n",
    "Habituellement, nous classons l'apprentissage automatique en deux catégories principales, à savoir l'**apprentissage supervisé** et l'**apprentissage non supervisé**. L'apprentissage supervisé comme son nom l'indique, c'est que lors de l'entraînement de l'algorithme, on connaît le **label** correct, ce qui signifie que l'on connaît les réponses du problème, cette information préalable sera utilisée dans l'entraînement . Au sein de l'apprentissage supervisé, selon la nature du résultat, nous pouvons diviser les algorithmes en **classification** et **régression**. Par exemple, si on nous demande de concevoir un algorithme pour reconnaître une pomme et une orange, et que nous savons quel objet est une pomme ou une orange, alors ce problème est le problème de classification, puisque le résultat sera des données catégorielles, soit orange, soit pomme. Les différents objets sont généralement appelés **classes**. Le fait que l’on connaisse la pomme ou l’orange en fait un apprentissage supervisé. Dans un autre exemple, si nous voulons prédire vos résultats à l'examen final (0 à 100) en fonction de la note de chaque devoir, le résultat est une quantité de 0 à 100, alors il s'agit d'un problème de régression. L’autre catégorie d’algorithmes est l’apprentissage non supervisé, ce qui signifie que nous n’avons pas le luxe des étiquettes. Par exemple, si je vous donne un mélange de pommes et d'oranges, mais que je ne vous dis pas laquelle est une pomme, laquelle est une orange. Il s'agira alors d'un problème de **clustering**, pour lequel vous devrez utiliser certaines des caractéristiques cachées des objets pour les regrouper. **Réduction de dimensionnalité** est un groupe d'algorithmes dans la catégorie de l'apprentissage non supervisé pour réduire les problèmes de dimension supérieure en problèmes de dimension inférieure. En tant qu'être humain, nous aimons travailler dans des dimensions inférieures. Par exemple, notre monde est un environnement en 3 dimensions, et les gens le réduisent en 2 dimensions pour le tracer sur la carte afin de faciliter les visualisations. Les algorithmes sont les mêmes, parfois il est plus facile de travailler dans les dimensions inférieures pour rendre les choses plus faciles, donc les algorithmes qui peuvent réduire la dimensionnalité seront utiles dans ces cas.\n",
    "\n",
    "Bien entendu, il existe bien d’autres types d’apprentissage automatique, comme l’apprentissage par renforcement, nous n’en parlerons pas ici. Les types ci-dessus sont les plus courants. Dans ce chapitre, nous vous donnerons un bref aperçu de la classification, de la régression et du clustering et vous montrerons comment le faire rapidement en Python à l'aide d'un seul package.\n",
    "\n",
    "## Les composants de l'apprentissage automatique\n",
    "\n",
    "<img src=\"images/25.01.03-representation_of_data.png\" alt=\"Data representation\" title=\"The representation of the data\" width=\"500\"/>\n",
    "\n",
    "La figure ci-dessus montre les principaux composants d'un algorithme d'apprentissage automatique :\n",
    "\n",
    "*représentation des données* un modèle accordable\n",
    "*algorithme d'optimisation pour affiner le modèle* un modèle entraîné\n",
    "\n",
    "**Représentation des données**\n",
    "\n",
    "Il existe de nombreux types de données, telles que des images, des séries chronologiques, des documents texte, des données numériques, etc. Nous devons transformer les données dans un format permettant aux ordinateurs de les reconnaître. Par exemple, une façon de représenter les données pour l'apprentissage automatique est illustrée par la figure suivante :\n",
    "\n",
    "<img src=\"images/25.01.03-representation_of_data.png\" alt=\"Data representation\" title=\"The representation of the data\" width=\"500\"/>\n",
    "\n",
    "Nous pouvons voir que nous représentons généralement les données d'entrée dans une matrice, chaque ligne représentant un échantillon des données (ou une instance de données). Par exemple, si nous avons du mal à reconnaître les pommes et les oranges, chaque ligne peut stocker une pomme ou une orange. Les colonnes sont différentes **caractéristiques**, caractérisent généralement les différents objets, dans ce cas, il peut s'agir de la couleur, de la texture, de la forme, de l'odeur, etc. des objets. Cette matrice est généralement appelée **matrice de fonctionnalités** qui représente nos données d'une manière qui peut alimenter l'ordinateur. Nous aurons également un tableau cible, qui stocke la sortie des valeurs. Soit ce sera l'étiquette des différentes classes, soit les quantités. Il existe également d'autres représentations des données, par exemple, les données sont toujours stockées dans un tableau, mais chaque ligne enregistre un tableau 2D pour une image.\n",
    "\n",
    "**Modèle réglable**\n",
    "Une fois que les données d’entrée et de sortie sont prêtes, nous avons besoin d’un algorithme capable d’apprendre à partir des données. Les algorithmes comportent généralement de nombreux paramètres différents qui peuvent être ajustés de manière à ce que le modèle puisse devenir meilleur pour notre objectif en fonction des données que nous lui présentons. Il existe de nombreux modèles réglables différents, tels que la machine vectorielle de support de réseau neuronal artificiel, la forêt aléatoire, la régression logistique, etc. Chaque modèle a des idées différentes derrière lui et est réglé différemment.\n",
    "\n",
    "**Algorithme d'optimisation**\n",
    "Il s’agit de la principale force de travail derrière les algorithmes d’apprentissage automatique. Nous devons affiner le modèle, mais comment ? Habituellement, nous devons définir une sorte de **fonction objective** et utiliser les algorithmes d'optimisation pour la minimiser ou la maximiser. La fonction objectif peut être calculée par la différence/erreur entre l'estimation et la cible (vraie réponse), donc généralement plus l'erreur est petite, mieux c'est. Il existe différents algorithmes d'optimisation pour affiner le modèle, tels que la descente de gradient, la minimisation des moindres carrés, etc.\n",
    "\n",
    "**Modèle formé**\n",
    "Après réglage du modèle, celui-ci a la capacité de faire une classification ou une prédiction, etc. Ce modèle entraîné peut être utilisé sur les nouvelles données pour atteindre notre objectif."
   ]
  }
 ],
 "metadata": {
  "kernelspec": {
   "display_name": "Python 3 (ipykernel)",
   "language": "python",
   "name": "python3"
  },
  "language_info": {
   "codemirror_mode": {
    "name": "ipython",
    "version": 3
   },
   "file_extension": ".py",
   "mimetype": "text/x-python",
   "name": "python",
   "nbconvert_exporter": "python",
   "pygments_lexer": "ipython3",
   "version": "3.12.2"
  },
  "nbTranslate": {
   "displayLangs": [
    "*"
   ],
   "hotkey": "alt-t",
   "langInMainMenu": true,
   "sourceLang": "en",
   "targetLang": "fr",
   "useGoogleTranslate": true
  }
 },
 "nbformat": 4,
 "nbformat_minor": 2
}
