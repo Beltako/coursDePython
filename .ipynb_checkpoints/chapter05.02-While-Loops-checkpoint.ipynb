{
 "cells": [
  {
   "cell_type": "markdown",
   "metadata": {
    "lang": "fr"
   },
   "source": [
    "# 5.2 Boucles while"
   ]
  },
  {
   "cell_type": "markdown",
   "metadata": {
    "lang": "fr"
   },
   "source": [
    "Une __boucle while__ ou __boucle indéfinie__ est un ensemble d'instructions qui se répète tant que l'expression logique associée est vraie. Ce qui suit est la syntaxe abstraite d'un bloc de boucle while."
   ]
  },
  {
   "cell_type": "markdown",
   "metadata": {
    "lang": "fr"
   },
   "source": [
    "**CONSTRUCTION :** Boucle While\n",
    "\n",
    "```python\n",
    "tandis que <logical expression> :\n",
    "    # Bloc de code à répéter jusqu'à ce que l'instruction logique soit fausse\n",
    "    bloc de code\n",
    "```"
   ]
  },
  {
   "cell_type": "markdown",
   "metadata": {
    "lang": "fr"
   },
   "source": [
    "Lorsque Python atteint un bloc de boucle while, il détermine d'abord si l'expression logique de la boucle while est vraie ou fausse. Si l'expression est vraie, le bloc de code sera exécuté et, une fois exécuté, le programme reviendra à l'expression logique au début de l'instruction while. Si c'est faux, alors la boucle while se terminera."
   ]
  },
  {
   "cell_type": "markdown",
   "metadata": {
    "lang": "fr"
   },
   "source": [
    "__ESSAYEZ-LE !__ Déterminez le nombre de fois que 8 peut être divisé par 2 jusqu'à ce que le résultat soit inférieur à 1."
   ]
  },
  {
   "cell_type": "code",
   "execution_count": 1,
   "metadata": {},
   "outputs": [
    {
     "name": "stdout",
     "output_type": "stream",
     "text": [
      "n = 0.5, i = 4\n"
     ]
    }
   ],
   "source": [
    "i = 0\n",
    "n = 8\n",
    "\n",
    "while n >= 1:\n",
    "    n /= 2\n",
    "    i += 1\n",
    "    \n",
    "print(f'n = {n}, i = {i}')"
   ]
  },
  {
   "cell_type": "markdown",
   "metadata": {
    "lang": "fr"
   },
   "source": [
    "**QUE SE PASSE-T-IL ?**\n",
    "\n",
    "1. Tout d’abord, la variable i (compte courant des divisions de n par 2) est définie sur 0.\n",
    "2. n est défini sur 8 et représente la valeur actuelle que nous divisons par 2.\n",
    "3. La boucle while commence.\n",
    "4. Python calcule n >= 1 ou 8 >= 1, ce qui est vrai donc le bloc de code est exécuté.\n",
    "5. n se voit attribuer n/2 = 8/2 = 4.\n",
    "6. i est incrémenté à 1.\n",
    "7. Python calcule n >= 1 ou 4 >= 1, ce qui est vrai donc le bloc de code est exécuté.\n",
    "8. n se voit attribuer n/2 = 4/2 = 2.\n",
    "9. i est incrémenté à 2.\n",
    "10. Python calcule n >= 1 ou 2 >= 1, ce qui est vrai donc le bloc de code est exécuté.\n",
    "11. n se voit attribuer n/2 = 2/2 = 1.\n",
    "12. i est incrémenté à 3.\n",
    "13. Python calcule n >= 1 ou 1 >= 1, ce qui est vrai donc le bloc de code est exécuté.\n",
    "14. n se voit attribuer n/2 = 1/2 = 0,5.\n",
    "15. i est incrémenté à 4.\n",
    "16. Python calcule n >= 1 ou 0,5 >= 1, ce qui est faux donc la boucle while se termine par i = 4."
   ]
  },
  {
   "cell_type": "markdown",
   "metadata": {
    "lang": "fr"
   },
   "source": [
    "Vous vous êtes peut-être demandé : « Et si l'expression logique était vraie et ne changeait jamais ? » et c'est en effet une très bonne question. Si l'expression logique est vraie et que rien dans le code de la boucle while ne modifie l'expression, alors le résultat est connu sous le nom de **boucle infinie**. Les boucles infinies s'exécutent indéfiniment ou jusqu'à ce que votre ordinateur tombe en panne ou manque de mémoire."
   ]
  },
  {
   "cell_type": "markdown",
   "metadata": {
    "lang": "fr"
   },
   "source": [
    "**EXEMPLE :** Écrivez une boucle while qui provoque une boucle infinie."
   ]
  },
  {
   "cell_type": "code",
   "execution_count": null,
   "metadata": {},
   "outputs": [],
   "source": [
    "n = 0\n",
    "while n > -1:\n",
    "    n += 1"
   ]
  },
  {
   "cell_type": "markdown",
   "metadata": {
    "lang": "fr"
   },
   "source": [
    "Puisque *n* sera toujours supérieur à −1, quel que soit le nombre de fois où la boucle est exécutée, ce code ne se terminera jamais.\n",
    "\n",
    "Vous pouvez terminer manuellement la boucle while infinie en appuyant sur *interrompre le noyau* - le bouton carré noir dans la barre d'outils ci-dessus, ou sur le menu déroulant - *Kernel* - *Interruption<*> dans le cahier. Ou si vous utilisez le shell Python, vous devez appuyer sur*cmd + c*sur Mac ou*ctrl + c<*> sur PC.\n",
    "\n",
    "Pouvez-vous modifier un seul caractère pour que la boucle while s'exécute au moins une fois mais ne fasse pas une boucle infinie ?\n",
    "\n",
    "Les boucles infinies ne sont pas toujours faciles à repérer. Considérons les deux exemples suivants : l’un fait une boucle infinie et l’autre non. Pouvez-vous déterminer lequel est lequel ? À mesure que votre code devient plus compliqué, il deviendra plus difficile à détecter."
   ]
  },
  {
   "cell_type": "markdown",
   "metadata": {
    "lang": "fr"
   },
   "source": [
    "**EXEMPLE :** Quelle boucle while provoque une boucle infinie ?"
   ]
  },
  {
   "cell_type": "code",
   "execution_count": null,
   "metadata": {},
   "outputs": [],
   "source": [
    "# Example 1\n",
    "n = 1\n",
    "while n > 0:\n",
    "    n /= 2"
   ]
  },
  {
   "cell_type": "code",
   "execution_count": null,
   "metadata": {},
   "outputs": [],
   "source": [
    "# Example 2\n",
    "n = 2\n",
    "while n > 0:\n",
    "    if n % 2 == 0:\n",
    "        n += 1\n",
    "    else:\n",
    "        n -= 1"
   ]
  },
  {
   "cell_type": "markdown",
   "metadata": {
    "lang": "fr"
   },
   "source": [
    "**Réponse :** Le premier exemple ne fera pas de boucle infinie car finalement n sera si petit que Python ne pourra pas faire la différence entre n et 0. Plus d'informations à ce sujet dans le *Chapitre 9*. Le deuxième exemple sera une boucle infinie car n oscillera entre 2 et 3 indéfiniment."
   ]
  },
  {
   "cell_type": "markdown",
   "metadata": {
    "lang": "fr"
   },
   "source": [
    "Nous connaissons maintenant deux types de boucles : *for-loops* et *while-loops*. Dans certains cas, l’un ou l’autre peut être utilisé aussi bien, mais parfois l’un est mieux adapté à la tâche que l’autre. En général, il faut utiliser *for-loops* lorsque le nombre d'itérations à effectuer est bien défini. À l’inverse, nous devrions utiliser les instructions *while-loops* lorsque le nombre d’itérations à effectuer est indéfini ou mal connu."
   ]
  }
 ],
 "metadata": {
  "kernelspec": {
   "display_name": "Python 3 (ipykernel)",
   "language": "python",
   "name": "python3"
  },
  "language_info": {
   "codemirror_mode": {
    "name": "ipython",
    "version": 3
   },
   "file_extension": ".py",
   "mimetype": "text/x-python",
   "name": "python",
   "nbconvert_exporter": "python",
   "pygments_lexer": "ipython3",
   "version": "3.12.2"
  },
  "nbTranslate": {
   "displayLangs": [
    "*"
   ],
   "hotkey": "alt-t",
   "langInMainMenu": true,
   "sourceLang": "en",
   "targetLang": "fr",
   "useGoogleTranslate": true
  }
 },
 "nbformat": 4,
 "nbformat_minor": 2
}
