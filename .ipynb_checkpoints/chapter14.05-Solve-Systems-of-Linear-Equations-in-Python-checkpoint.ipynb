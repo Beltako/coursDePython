{
 "cells": [
  {
   "cell_type": "markdown",
   "metadata": {
    "lang": "fr"
   },
   "source": [
    "# 10.5 Résoudre des systèmes d'équations linéaires en Python"
   ]
  },
  {
   "cell_type": "markdown",
   "metadata": {
    "lang": "fr"
   },
   "source": [
    "Bien que nous ayons discuté de diverses méthodes pour résoudre les systèmes d’équations linéaires, il est en fait très simple de le faire en Python. Dans cette section, nous utiliserons Python pour résoudre les systèmes d’équations. Le moyen le plus simple d'obtenir une solution consiste à utiliser la fonction *solve* dans Numpy.\n",
    "\n",
    "**ESSAYEZ-LE !** Utilisez numpy.linalg.solve pour résoudre les équations suivantes.\n",
    "\n",
    "\\begin{eqnarray*}\n",
    "4x_1 + 3x_2 - 5x_3 &=& 2 \\\\\n",
    "-2x_1 - 4x_2 + 5x_3 &=& 5 \\\\\n",
    "8x_1 + 8x_2  &=& -3 \\\\\n",
    "\\end{eqnarray*}"
   ]
  },
  {
   "cell_type": "code",
   "execution_count": 1,
   "metadata": {},
   "outputs": [
    {
     "name": "stdout",
     "output_type": "stream",
     "text": [
      "[ 2.20833333 -2.58333333 -0.18333333]\n"
     ]
    }
   ],
   "source": [
    "import numpy as np\n",
    "\n",
    "A = np.array([[4, 3, -5], \n",
    "              [-2, -4, 5], \n",
    "              [8, 8, 0]])\n",
    "y = np.array([2, 5, -3])\n",
    "\n",
    "x = np.linalg.solve(A, y)\n",
    "print(x)"
   ]
  },
  {
   "cell_type": "markdown",
   "metadata": {
    "lang": "fr"
   },
   "source": [
    "Nous pouvons voir que nous obtenons les mêmes résultats que dans la section précédente lorsque nous avons calculé manuellement. Sous le capot, le solveur effectue en fait une décomposition LU pour obtenir les résultats. Vous pouvez vérifier l'aide de la fonction, elle a besoin que la matrice d'entrée soit carrée et de rang complet, c'est-à-dire que toutes les lignes (ou, de manière équivalente, les colonnes) doivent être linéairement indépendantes.\n",
    "\n",
    "**ESSAYEZ-LE !** Essayez de résoudre les équations ci-dessus en utilisant l'approche d'inversion matricielle."
   ]
  },
  {
   "cell_type": "code",
   "execution_count": 2,
   "metadata": {},
   "outputs": [
    {
     "name": "stdout",
     "output_type": "stream",
     "text": [
      "[ 2.20833333 -2.58333333 -0.18333333]\n"
     ]
    }
   ],
   "source": [
    "A_inv = np.linalg.inv(A)\n",
    "\n",
    "x = np.dot(A_inv, y)\n",
    "print(x)"
   ]
  },
  {
   "cell_type": "markdown",
   "metadata": {
    "lang": "fr"
   },
   "source": [
    "Nous pouvons également obtenir les matrices $L$ et $U$ utilisées dans la décomposition LU en utilisant le package scipy.\n",
    "\n",
    "**ESSAYEZ-LE !** Obtenez les $L$ et $U$ pour la matrice A ci-dessus."
   ]
  },
  {
   "cell_type": "code",
   "execution_count": 3,
   "metadata": {},
   "outputs": [
    {
     "name": "stdout",
     "output_type": "stream",
     "text": [
      "P:\n",
      " [[0. 0. 1.]\n",
      " [0. 1. 0.]\n",
      " [1. 0. 0.]]\n",
      "L:\n",
      " [[ 1.    0.    0.  ]\n",
      " [-0.25  1.    0.  ]\n",
      " [ 0.5   0.5   1.  ]]\n",
      "U:\n",
      " [[ 8.   8.   0. ]\n",
      " [ 0.  -2.   5. ]\n",
      " [ 0.   0.  -7.5]]\n",
      "LU:\n",
      " [[ 8.  8.  0.]\n",
      " [-2. -4.  5.]\n",
      " [ 4.  3. -5.]]\n"
     ]
    }
   ],
   "source": [
    "from scipy.linalg import lu\n",
    "\n",
    "P, L, U = lu(A)\n",
    "print('P:\\n', P)\n",
    "print('L:\\n', L)\n",
    "print('U:\\n', U)\n",
    "print('LU:\\n',np.dot(L, U))"
   ]
  },
  {
   "cell_type": "markdown",
   "metadata": {
    "lang": "fr"
   },
   "source": [
    "Nous pouvons voir que les $L$ et $U$ que nous obtenons sont différents de ceux que nous avons obtenus manuellement dans la dernière section. Vous verrez également qu'il existe une **matrice de permutation** $P$ renvoyée par la fonction *lu*. Cette matrice de permutation enregistre comment modifier l'ordre des équations pour faciliter les calculs (par exemple, si le premier élément de la première ligne est zéro, il ne peut pas s'agir de l'équation pivot, car vous ne pouvez pas transformer les premiers éléments des autres lignes en zéro. Par conséquent, nous devons changer l’ordre des équations pour obtenir une nouvelle équation pivot). Si vous multipliez $P$ par $A$, vous verrez que cette matrice de permutation inverse l'ordre des équations dans ce cas.\n",
    "\n",
    "**ESSAYEZ-LE !** Multipliez $P$ et $A$ et voyez quel est l'effet de la matrice de permutation sur $A$."
   ]
  },
  {
   "cell_type": "code",
   "execution_count": 4,
   "metadata": {},
   "outputs": [
    {
     "name": "stdout",
     "output_type": "stream",
     "text": [
      "[[ 8.  8.  0.]\n",
      " [-2. -4.  5.]\n",
      " [ 4.  3. -5.]]\n"
     ]
    }
   ],
   "source": [
    "print(np.dot(P, A))"
   ]
  }
 ],
 "metadata": {
  "kernelspec": {
   "display_name": "Python 3 (ipykernel)",
   "language": "python",
   "name": "python3"
  },
  "language_info": {
   "codemirror_mode": {
    "name": "ipython",
    "version": 3
   },
   "file_extension": ".py",
   "mimetype": "text/x-python",
   "name": "python",
   "nbconvert_exporter": "python",
   "pygments_lexer": "ipython3",
   "version": "3.12.2"
  },
  "nbTranslate": {
   "displayLangs": [
    "*"
   ],
   "hotkey": "alt-t",
   "langInMainMenu": true,
   "sourceLang": "en",
   "targetLang": "fr",
   "useGoogleTranslate": true
  }
 },
 "nbformat": 4,
 "nbformat_minor": 2
}
