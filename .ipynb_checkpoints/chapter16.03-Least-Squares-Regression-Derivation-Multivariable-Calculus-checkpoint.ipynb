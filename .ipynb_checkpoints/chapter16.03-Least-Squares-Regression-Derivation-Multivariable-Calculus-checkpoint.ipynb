{
 "cells": [
  {
   "cell_type": "markdown",
   "metadata": {
    "lang": "fr"
   },
   "source": [
    "# 12.3 Dérivation de régression des moindres carrés (calcul multivariable)"
   ]
  },
  {
   "cell_type": "markdown",
   "metadata": {
    "lang": "fr"
   },
   "source": [
    "Rappelez-vous que l'erreur totale pour les points de données $m$ et les fonctions de base $n$ est :\n",
    "\n",
    "$$\n",
    "E = \\sum_{i=1}^m e_i^2 = \\sum_{i=1}^m (\\hat{y}(x_i) - y_i)^2 = \\sum_{i=1}^m \\left(\\sum_{j=1}^n {\\alpha}_j f_j(x_i) - y_i\\right)^2.\n",
    "$$\n",
    "\n",
    "qui est un paraboloïde $n$ dimensions dans ${\\alpha}_k$. Grâce au calcul, nous savons que le minimum d'un paraboloïde est celui où toutes les dérivées partielles sont égales à zéro. Donc, en prenant la dérivée partielle de $E$ par rapport à la variable ${\\alpha}_k$ (rappelez-vous que dans ce cas, les paramètres sont nos variables), définir le système d'équations égal à 0 et résoudre les ${\\alpha}_k$ devrait donner les résultats corrects.\n",
    "\n",
    "La dérivée partielle par rapport à ${\\alpha}_k$ et mise égale à 0 donne :\n",
    "$$\n",
    "\\frac{\\partial E}{\\partial {\\alpha}_k} = \\sum_{i=1}^m 2\\left(\\sum_{j=1}^n {\\alpha}_j f_j(x_i) - y_i\\right)f_k(x_i) = 0.\n",
    "$$\n",
    "\n",
    "Avec quelques réarrangements, l'expression précédente peut être manipulée comme suit :\n",
    "$$\n",
    "\\sum_{i=1}^m \\sum_{j=1}^n {\\alpha}_j f_j(x_i)f_k(x_i) - \\sum_{i=1}^m y_i f_k(x_i) = 0,\n",
    "$$\n",
    "\n",
    "et un réaménagement supplémentaire tirant parti du fait que l'ajout de trajets entraîne :\n",
    "$$\n",
    "\\sum_{j=1}^n {\\alpha}_j \\sum_{i=1}^m f_j(x_i)f_k(x_i) = \\sum_{i=1}^m y_i f_k(x_i).\n",
    "$$\n",
    "Supposons maintenant que $X$ soit un vecteur colonne tel que le $i$-ème élément de $X$ soit $x_i$ et $Y$ construits de la même manière, et que $F_j(X)$ soit un vecteur colonne tel que le $i$-ème élément de $F_j(X)$ soit $f_j(x_i)$. En utilisant cette notation, l'expression précédente peut être réécrite en notation vectorielle comme suit :\n",
    "$$\n",
    "\\left[F_k^T(X)F_1(X), F_k^T(X)F_2(X), \\ldots, F_k^T(X)F_j(X), \\ldots, F_k^T(X)F_n(X)\\right]\n",
    "\\left[\\begin{array}{c} {\\alpha}_1 \\\\\n",
    "{\\alpha}_2 \\\\\n",
    "\\cdots \\\\\n",
    "{\\alpha}_j \\\\\n",
    "\\cdots \\\\\n",
    "{\\alpha}_n\n",
    "\\end{array}\\right] = F_k^T(X)Y.\n",
    "$$\n",
    "Si nous répétons cette équation pour chaque $k$, nous obtenons le système d’équations linéaires suivant sous forme matricielle :\n",
    "\n",
    "$$\n",
    "\\left[\\begin{array}{cc}\n",
    "F_1^T(X)F_1(X), F_1^T(X)F_2(X), \\ldots, F_1^T(X)F_j(X), \\ldots, F_1^T(X)F_n(X)&\\\\ \n",
    "F_2^T(X)F_1(X), F_2^T(X)F_2(X), \\ldots, F_2^T(X)F_j(X), \\ldots, F_2^T(X)F_n(X)&\\\\\n",
    "& \\cdots \\ \\cdots\\\\\n",
    "F_n^T(X)F_1(X), F_n^T(X)F_2(X), \\ldots, F_n^T(X)F_j(X), \\ldots, F_n^T(X)F_n(X)\n",
    "\\end{array}\\right]\n",
    "\\left[\\begin{array}{c} {\\alpha}_1 \\\\\n",
    "{\\alpha}_2 \\\\\n",
    "\\cdots \\\\\n",
    "{\\alpha}_j \\\\\n",
    "\\cdots \\\\\n",
    "{\\alpha}_n\n",
    "\\end{array}\\right] =\n",
    "\\left[\\begin{array}{c} F_1^T(X)Y \\\\\n",
    "F_2^T(X)Y \\\\\n",
    "\\cdots \\\\\n",
    "F_n^T(X)Y\n",
    "\\end{array}\\right].\n",
    "$$\n",
    "\n",
    "Si nous laissons $A = [F_1(X), F_2(X), \\ldots, F_j(X), \\ldots, F_n(X)]$ et ${\\beta}$ être un vecteur colonne tel que $j$-ième élément de ${\\beta}$ est ${\\alpha}_j$, alors le système d'équations précédent devient\n",
    "$$\n",
    "A^T A {\\beta} = A^T Y,\n",
    "$$\n",
    "et la résolution de cette équation matricielle pour ${\\beta}$ donne ${\\beta} = (A^T A)^{-1} A^T Y$, qui est exactement la même formule que la dérivation précédente."
   ]
  }
 ],
 "metadata": {
  "kernelspec": {
   "display_name": "Python 3 (ipykernel)",
   "language": "python",
   "name": "python3"
  },
  "language_info": {
   "codemirror_mode": {
    "name": "ipython",
    "version": 3
   },
   "file_extension": ".py",
   "mimetype": "text/x-python",
   "name": "python",
   "nbconvert_exporter": "python",
   "pygments_lexer": "ipython3",
   "version": "3.12.2"
  },
  "nbTranslate": {
   "displayLangs": [
    "*"
   ],
   "hotkey": "alt-t",
   "langInMainMenu": true,
   "sourceLang": "en",
   "targetLang": "fr",
   "useGoogleTranslate": true
  }
 },
 "nbformat": 4,
 "nbformat_minor": 2
}
