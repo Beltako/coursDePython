{
 "cells": [
  {
   "cell_type": "markdown",
   "metadata": {
    "lang": "fr"
   },
   "source": [
    "# 15.5 Recherche de racine en Python"
   ]
  },
  {
   "cell_type": "markdown",
   "metadata": {
    "lang": "fr"
   },
   "source": [
    "Comme vous pouvez le penser, Python dispose des fonctions de recherche de racine existantes que nous pouvons utiliser pour faciliter les choses. La fonction que nous utiliserons pour trouver la racine est *f_solve* du *scipy.optimize*.\n",
    "\n",
    "La fonction *f_solve* reprend de nombreux arguments que vous pouvez trouver dans la [documentation](https://docs.scipy.org/doc/scipy/reference/generated/scipy.optimize.fsolve.html), mais les deux plus importants sont la fonction dont vous souhaitez trouver la racine et la supposition initiale.\n",
    "\n",
    "**ESSAYEZ-LE !** Calculez la racine de la fonction $f(x) = x^3 - 100x^2 - x + 100$ en utilisant *f_solve*."
   ]
  },
  {
   "cell_type": "code",
   "execution_count": 1,
   "metadata": {},
   "outputs": [],
   "source": [
    "from scipy.optimize import fsolve"
   ]
  },
  {
   "cell_type": "code",
   "execution_count": 2,
   "metadata": {},
   "outputs": [
    {
     "data": {
      "text/plain": [
       "array([  1., 100.])"
      ]
     },
     "execution_count": 2,
     "metadata": {},
     "output_type": "execute_result"
    }
   ],
   "source": [
    "f = lambda x: x**3-100*x**2-x+100\n",
    "\n",
    "fsolve(f, [2, 80])"
   ]
  },
  {
   "cell_type": "markdown",
   "metadata": {
    "lang": "fr"
   },
   "source": [
    "Nous savons que cette fonction a deux racines $x = 1$ et $x = 100$, nous pouvons donc extraire les deux racines assez simplement en utilisant la fonction *f_solve*."
   ]
  }
 ],
 "metadata": {
  "kernelspec": {
   "display_name": "Python 3 (ipykernel)",
   "language": "python",
   "name": "python3"
  },
  "language_info": {
   "codemirror_mode": {
    "name": "ipython",
    "version": 3
   },
   "file_extension": ".py",
   "mimetype": "text/x-python",
   "name": "python",
   "nbconvert_exporter": "python",
   "pygments_lexer": "ipython3",
   "version": "3.12.2"
  },
  "nbTranslate": {
   "displayLangs": [
    "*"
   ],
   "hotkey": "alt-t",
   "langInMainMenu": true,
   "sourceLang": "en",
   "targetLang": "fr",
   "useGoogleTranslate": true
  }
 },
 "nbformat": 4,
 "nbformat_minor": 2
}
