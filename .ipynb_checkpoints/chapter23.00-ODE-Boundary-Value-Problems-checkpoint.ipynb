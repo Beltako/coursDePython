{
 "cells": [
  {
   "cell_type": "markdown",
   "metadata": {
    "button": false,
    "new_sheet": false,
    "run_control": {
     "read_only": false
    }
   },
   "source": [
    "# Chapitre 19. Équation différentielle ordinaire - Problèmes de valeurs aux limites"
   ]
  },
  {
   "cell_type": "markdown",
   "metadata": {
    "lang": "fr"
   },
   "source": [
    "#### SOMMAIRE\n",
    "\n",
    "---\n",
    "\n",
    "* [**19.1 Énoncé du problème de valeur limite ODE**](chapter23.01-ODE-Boundary-Value-Problem-Statement.ipynb)\n",
    "* [**19.2 La méthode de prise de vue**](chapter23.02-The-Shooting-Method.ipynb)\n",
    "* [**19.3 Méthode des différences finies**](chapter23.03-Finite-Difference-Method.ipynb)\n",
    "* [**19.4 Erreur numérique et instabilité**](chapter23.04-Numerical-Error-and-Instability.ipynb)\n",
    "* [**19.5 Résumé et problèmes**](chapter23.05-Summary-and-Problems.ipynb)"
   ]
  },
  {
   "cell_type": "markdown",
   "metadata": {
    "lang": "fr"
   },
   "source": [
    "---\n",
    "\n",
    "## Motivation\n",
    "\n",
    "Après la discussion des problèmes de valeurs initiales ODE, dans ce chapitre, nous présenterons un autre type de problèmes : les problèmes de valeurs limites.\n",
    "\n",
    "Le problème des valeurs limites dans ODE est une équation différentielle ordinaire associée à un ensemble de contraintes supplémentaires, c'est-à-dire des conditions aux limites. Il existe de nombreux problèmes de valeurs limites en science et en ingénierie. Par conséquent, ce chapitre couvre les bases des équations différentielles ordinaires avec des valeurs limites spécifiées. Nous discuterons de deux méthodes pour résoudre les problèmes de valeurs limites, les méthodes de tir et les méthodes de différences finies. À la fin de ce chapitre, vous devriez comprendre ce que sont les problèmes de valeurs limites d'équations différentielles ordinaires, comment poser ces problèmes à Python et comment les résoudre.\n",
    "\n",
    "---"
   ]
  }
 ],
 "metadata": {
  "kernelspec": {
   "display_name": "Python 3 (ipykernel)",
   "language": "python",
   "name": "python3"
  },
  "language_info": {
   "codemirror_mode": {
    "name": "ipython",
    "version": 3
   },
   "file_extension": ".py",
   "mimetype": "text/x-python",
   "name": "python",
   "nbconvert_exporter": "python",
   "pygments_lexer": "ipython3",
   "version": "3.12.2"
  },
  "nbTranslate": {
   "displayLangs": [
    "*"
   ],
   "hotkey": "alt-t",
   "langInMainMenu": true,
   "sourceLang": "en",
   "targetLang": "fr",
   "useGoogleTranslate": true
  }
 },
 "nbformat": 4,
 "nbformat_minor": 2
}
