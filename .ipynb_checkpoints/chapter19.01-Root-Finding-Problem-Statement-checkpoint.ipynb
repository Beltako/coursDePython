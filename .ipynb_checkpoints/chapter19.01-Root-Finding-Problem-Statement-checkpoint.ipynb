{
 "cells": [
  {
   "cell_type": "markdown",
   "metadata": {
    "lang": "fr"
   },
   "source": [
    "# 15.1 Énoncé du problème de recherche de racine"
   ]
  },
  {
   "cell_type": "markdown",
   "metadata": {
    "lang": "fr"
   },
   "source": [
    "La **racine** ou **zéro** d'une fonction, $f(x)$, est un $x_r$ tel que $f(x_r) = 0$. Pour des fonctions telles que $f(x) = x^2 - 9$, les racines sont clairement 3 et $-3$. Cependant, pour d’autres fonctions telles que $f(x) = {\\rm cos}(x) - x$, déterminer une solution **analytique**, ou exacte, pour les racines des fonctions peut être difficile. Pour ces cas, il est utile de générer des approximations numériques des racines de $f$ et de comprendre les limites de cette opération.\n",
    "\n",
    "**ESSAYEZ-LE !** Utilisation de la fonction *fsolve* de *scipy* pour calculer la racine de $f(x) = {\\rm cos}(x) - x$ près de $-2$. Vérifiez que la solution est une racine (ou suffisamment proche)."
   ]
  },
  {
   "cell_type": "code",
   "execution_count": 1,
   "metadata": {
    "button": false,
    "new_sheet": false,
    "run_control": {
     "read_only": false
    }
   },
   "outputs": [
    {
     "name": "stdout",
     "output_type": "stream",
     "text": [
      "r = [0.73908513]\n",
      "result= [0.]\n"
     ]
    }
   ],
   "source": [
    "import numpy as np\n",
    "from scipy import optimize\n",
    "\n",
    "f = lambda x: np.cos(x) - x\n",
    "r = optimize.fsolve(f, -2)\n",
    "print(\"r =\", r)\n",
    "\n",
    "# Verify the solution is a root\n",
    "result = f(r)\n",
    "print(\"result=\", result)"
   ]
  },
  {
   "cell_type": "markdown",
   "metadata": {
    "lang": "fr"
   },
   "source": [
    "**ESSAYEZ-LE !** La fonction $f(x) = \\frac{1}{x}$ n'a pas de racine. Utilisez la fonction *fsolve* pour essayer de calculer la racine de $f(x) = \\frac{1}{x}$. Activez *full_output* pour voir ce qui se passe. N'oubliez pas de consulter la documentation pour plus de détails."
   ]
  },
  {
   "cell_type": "code",
   "execution_count": 2,
   "metadata": {
    "button": false,
    "new_sheet": false,
    "run_control": {
     "read_only": false
    }
   },
   "outputs": [
    {
     "name": "stdout",
     "output_type": "stream",
     "text": [
      "r = [-3.52047359e+83]\n",
      "result= [-2.84052692e-84]\n",
      "The number of calls to function has reached maxfev = 400.\n"
     ]
    }
   ],
   "source": [
    "f = lambda x: 1/x\n",
    "\n",
    "r, infodict, ier, mesg = optimize.fsolve(f, -2, full_output=True)\n",
    "print(\"r =\", r)\n",
    "\n",
    "result = f(r)\n",
    "print(\"result=\", result)\n",
    "\n",
    "print(mesg)"
   ]
  },
  {
   "cell_type": "markdown",
   "metadata": {
    "lang": "fr"
   },
   "source": [
    "Nous pouvons voir que la valeur *r* que nous avons obtenue n'est pas une racine, même si le *f(r)* est un très petit nombre. Depuis que nous avons activé full_output, qui contient plus d'informations. Un message sera renvoyé si aucune solution n'est trouvée, et nous pouvons voir les détails *mesg* de la cause de l'échec - \"Le nombre d'appels à la fonction a atteint maxfev = 400.\""
   ]
  }
 ],
 "metadata": {
  "kernelspec": {
   "display_name": "Python 3 (ipykernel)",
   "language": "python",
   "name": "python3"
  },
  "language_info": {
   "codemirror_mode": {
    "name": "ipython",
    "version": 3
   },
   "file_extension": ".py",
   "mimetype": "text/x-python",
   "name": "python",
   "nbconvert_exporter": "python",
   "pygments_lexer": "ipython3",
   "version": "3.12.2"
  },
  "nbTranslate": {
   "displayLangs": [
    "*"
   ],
   "hotkey": "alt-t",
   "langInMainMenu": true,
   "sourceLang": "en",
   "targetLang": "fr",
   "useGoogleTranslate": true
  }
 },
 "nbformat": 4,
 "nbformat_minor": 2
}
