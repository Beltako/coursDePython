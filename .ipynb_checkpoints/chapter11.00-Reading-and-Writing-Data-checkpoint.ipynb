{
 "cells": [
  {
   "cell_type": "markdown",
   "metadata": {
    "lang": "fr"
   },
   "source": [
    "# Chapitre 11. Lecture et écriture de données"
   ]
  },
  {
   "cell_type": "markdown",
   "metadata": {
    "lang": "fr"
   },
   "source": [
    "#### SOMMAIRE\n",
    "\n",
    "---\n",
    "\n",
    "* [**11.1 Fichiers TXT**](chapitre11.01-TXT-Files.ipynb)\n",
    "* [**11.2 Fichiers CSV**](chapitre11.02-CSV-Files.ipynb)\n",
    "* [**11.3 Fichiers Pickle**](chapitre11.03-Pickle-Files.ipynb)\n",
    "* [**11.4 Fichiers JSON**](chapitre11.04-JSON-Files.ipynb)\n",
    "* [**11.5 Fichiers HDF5**](chapitre11.05-HDF5-Files.ipynb)\n",
    "* [**11.6 Résumé et problèmes**](chapitre11.06-Summary-and-Problems.ipynb)"
   ]
  },
  {
   "cell_type": "markdown",
   "metadata": {
    "lang": "fr"
   },
   "source": [
    "---\n",
    "\n",
    "## Motivation\n",
    "\n",
    "Le stockage des données et des résultats de vos efforts de programmation est important pour travailler sur plusieurs sessions et partager vos résultats avec des collaborateurs. Puisque lorsque Python se ferme, toutes les variables de la mémoire sont perdues, les données doivent être stockées d'une autre manière. Parfois, les données doivent également être lisibles ou écrites sous une forme lisible par d'autres programmes.\n",
    "\n",
    "Ce chapitre vous montre comment utiliser Python pour lire et écrire des données dans plusieurs formats courants.\n",
    "\n",
    "---"
   ]
  }
 ],
 "metadata": {
  "kernelspec": {
   "display_name": "Python 3 (ipykernel)",
   "language": "python",
   "name": "python3"
  },
  "language_info": {
   "codemirror_mode": {
    "name": "ipython",
    "version": 3
   },
   "file_extension": ".py",
   "mimetype": "text/x-python",
   "name": "python",
   "nbconvert_exporter": "python",
   "pygments_lexer": "ipython3",
   "version": "3.12.2"
  },
  "nbTranslate": {
   "displayLangs": [
    "*"
   ],
   "hotkey": "alt-t",
   "langInMainMenu": true,
   "sourceLang": "en",
   "targetLang": "fr",
   "useGoogleTranslate": true
  }
 },
 "nbformat": 4,
 "nbformat_minor": 2
}
