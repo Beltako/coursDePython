{
 "cells": [
  {
   "cell_type": "markdown",
   "metadata": {
    "lang": "fr"
   },
   "source": [
    "# Fichiers cornichons"
   ]
  },
  {
   "cell_type": "markdown",
   "metadata": {
    "lang": "fr"
   },
   "source": [
    "Dans cette section, nous présenterons une autre façon de stocker les données sur le disque - **pickle**. Nous avons parlé de sauvegarder les données dans un fichier texte ou un fichier csv. Mais dans certains cas, nous souhaitons stocker des dictionnaires, des tuples, des listes ou tout autre type de données sur le disque et les utiliser plus tard ou les envoyer à des collègues. C'est là qu'intervient pickle, il peut sérialiser des objets afin qu'ils puissent être enregistrés dans un fichier et chargés à nouveau plus tard.\n",
    "\n",
    "Pickle peut être utilisé pour sérialiser les structures d'objets Python, qui font référence au processus de conversion d'un objet en mémoire en un flux d'octets pouvant être stocké sous forme de fichier binaire sur le disque. Lorsque nous le chargeons dans un programme Python, ce fichier binaire peut être désérialisé en un objet Python.\n",
    "\n",
    "### Écrire un fichier pickle\n",
    "\n",
    "**ESSAYEZ-LE !** Créez un dictionnaire et enregistrez-le dans un fichier pickle sur le disque. Pour utiliser un cornichon, nous devons d'abord importer le module."
   ]
  },
  {
   "cell_type": "code",
   "execution_count": 1,
   "metadata": {
    "button": false,
    "collapsed": true,
    "new_sheet": false,
    "run_control": {
     "read_only": false
    }
   },
   "outputs": [],
   "source": [
    "import pickle"
   ]
  },
  {
   "cell_type": "code",
   "execution_count": 2,
   "metadata": {
    "button": false,
    "collapsed": true,
    "new_sheet": false,
    "run_control": {
     "read_only": false
    }
   },
   "outputs": [],
   "source": [
    "dict_a = {'A':0, 'B':1, 'C':2}\n",
    "pickle.dump(dict_a, open('test.pkl', 'wb'))"
   ]
  },
  {
   "cell_type": "markdown",
   "metadata": {
    "lang": "fr"
   },
   "source": [
    "Pour utiliser pickle pour sérialiser un objet, nous utilisons la fonction *pickle.dump*, qui prend deux arguments : le premier est l'objet, et le deuxième argument est un objet fichier renvoyé par *open<*> fonction. Notez ici que le mode de la fonction*open*est 'wb' qui indique l'écriture d'un fichier binaire.\n",
    "\n",
    "### Lire un fichier pickle\n",
    "\n",
    "Chargeons maintenant le fichier pickle que nous venons de sauvegarder sur le disque à l'aide de la fonction*pickle.load<*>."
   ]
  },
  {
   "cell_type": "code",
   "execution_count": 3,
   "metadata": {
    "button": false,
    "new_sheet": false,
    "run_control": {
     "read_only": false
    }
   },
   "outputs": [
    {
     "data": {
      "text/plain": [
       "{'A': 0, 'B': 1, 'C': 2}"
      ]
     },
     "execution_count": 3,
     "metadata": {},
     "output_type": "execute_result"
    }
   ],
   "source": [
    "my_dict = pickle.load(open('./test.pkl', 'rb'))\n",
    "my_dict"
   ]
  },
  {
   "cell_type": "markdown",
   "metadata": {
    "lang": "fr"
   },
   "source": [
    "Nous pouvons voir que le chargement d'un fichier pickle est très similaire au processus de sauvegarde, mais ici le mode de la fonction *open* est 'rb' indique la lecture du fichier binaire. Et cette fonction désérialisera le fichier binaire vers l'objet d'origine, qui est un dictionnaire dans notre cas."
   ]
  },
  {
   "cell_type": "markdown",
   "metadata": {
    "lang": "fr"
   },
   "source": [
    "### Lire dans le fichier pickle Python 2\n",
    "\n",
    "Parfois, vous devrez peut-être ouvrir un fichier pickle d'un collègue qui le génère en utilisant Python 2 au lieu de Python 3. Vous pouvez soit le décaper en utilisant Python 2, soit utiliser Python 3 avec <*>encoding='latin1' dans le < Fonction*>pickle.load*.\n",
    "\n",
    "```python\n",
    "infile = ouvert (nom de fichier, 'rb')\n",
    "new_dict = pickle.load(infile, encoding='latin1')\n",
    "```"
   ]
  },
  {
   "cell_type": "markdown",
   "metadata": {
    "lang": "fr"
   },
   "source": [
    "**ATTENTION !** Un inconvénient du fichier pickle est qu’il ne s’agit pas d’un format de fichier universel, ce qui signifie qu’il n’est pas facile à utiliser pour d’autres langages de programmation. Les fichiers TXT et CSV pourraient être facilement partagés avec d'autres collègues qui n'utilisent pas Python, et ils pourraient les ouvrir en utilisant R, Matlab, Java, etc. Mais pour le fichier pickle, il est spécialement conçu pour Python, donc pas facile d'utiliser les données avec d'autres langages."
   ]
  }
 ],
 "metadata": {
  "kernelspec": {
   "display_name": "Python 3 (ipykernel)",
   "language": "python",
   "name": "python3"
  },
  "language_info": {
   "codemirror_mode": {
    "name": "ipython",
    "version": 3
   },
   "file_extension": ".py",
   "mimetype": "text/x-python",
   "name": "python",
   "nbconvert_exporter": "python",
   "pygments_lexer": "ipython3",
   "version": "3.12.2"
  },
  "nbTranslate": {
   "displayLangs": [
    "*"
   ],
   "hotkey": "alt-t",
   "langInMainMenu": true,
   "sourceLang": "en",
   "targetLang": "fr",
   "useGoogleTranslate": true
  }
 },
 "nbformat": 4,
 "nbformat_minor": 2
}
