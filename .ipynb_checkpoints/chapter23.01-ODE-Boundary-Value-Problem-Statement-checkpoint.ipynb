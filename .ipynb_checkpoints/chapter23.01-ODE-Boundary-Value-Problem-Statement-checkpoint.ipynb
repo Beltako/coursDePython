{
 "cells": [
  {
   "cell_type": "markdown",
   "metadata": {
    "lang": "fr"
   },
   "source": [
    "# 19.1 Énoncé du problème de la valeur limite de l'ODE"
   ]
  },
  {
   "cell_type": "markdown",
   "metadata": {
    "lang": "fr"
   },
   "source": [
    "Dans le chapitre précédent, nous avons parlé des problèmes de valeur initiale des équations différentielles ordinaires. Nous pouvons voir que dans les problèmes de valeurs initiales, toutes les valeurs connues sont spécifiées à la même valeur de la variable indépendante, généralement à la limite inférieure de l'intervalle, c'est donc de là que vient le terme « initiale ». Dans ce chapitre, nous aborderons un autre type de problèmes - **problèmes de valeurs limites**, comme son nom l'indique, les valeurs connues sont spécifiées aux extrémités de la variable indépendante, donc les limites de l'intervalle. \n",
    "\n",
    "Par exemple, si nous avons une simple équation différentielle ordinaire du 2ème ordre, \n",
    "\n",
    "$$\\frac{d^2f(x)}{dx^2} = \\frac{df(x)}{dx} + 3$$\n",
    "\n",
    "si la variable indépendante est sur le domaine de [0, 20], le problème de valeur initiale aura les deux conditions sur la valeur 0, c'est-à-dire que nous connaissons la valeur de $f(0)$ et $f'(0)$. En revanche, les problèmes de valeurs limites spécifieront les valeurs en $x = 0$ et $x = 20$. Notez que pour résoudre une ODE de premier ordre pour obtenir une solution particulière, nous avons besoin d'une contrainte, tandis qu'une ODE mathid d'ordre 8, nous avons besoin de contraintes $n$. \n",
    "\n",
    "L'énoncé du problème de valeur limite pour une équation différentielle ordinaire mathématique d'ordre 10 s'énonce comme suit :\n",
    "\n",
    "$$\n",
    "F\\left(x, f(x), \\frac{df(x)}{dx}, \\frac{d^2f(x)}{dx^2}, \\frac{d^3f(x)}{dx^3}, \\ldots, \\frac{d^{n-1}f(x)}{dx^{n-1}}\\right) = \\frac{d^{n}f(x)}{dx^{n}},\n",
    "$$\n",
    "\n",
    "Pour résoudre cette équation sur un intervalle de $x\\in[a, b]$, nous avons besoin de conditions aux limites connues de $n$ aux valeurs $a$ et $b$. Pour le cas du 2ème ordre, puisque nous pouvons avoir la condition aux limites soit une valeur de f(x) ou une valeur de la dérivée $f'(x)$, nous pouvons avoir plusieurs cas différents pour les valeurs spécifiées. Par exemple, nous pouvons spécifier les valeurs des conditions aux limites comme :\n",
    "\n",
    "1. Deux valeurs de $f(x)$ sont données, c'est-à-dire que $f(a)$ et $f(b)$ sont connues \n",
    "2. Deux dérivés de $f'(x)$ sont donnés, c'est-à-dire $f'(a)$ et $f'(b)$ sont connus \n",
    "3. Ou des conditions mixtes des deux cas ci-dessus sont connues, c'est-à-dire soit $f(a)$ et $f'(b)$ sont connues, soit $f'(a)$ et $f(b)$ sont connues. \n",
    "\n",
    "Quoi qu’il en soit, pour obtenir la solution particulière, nous avons besoin de deux conditions aux limites pour obtenir la solution. Le problème des valeurs limites ODE du second ordre est également appelé problèmes de valeurs limites à deux points. Les problèmes ODE d'ordre supérieur nécessitent des conditions aux limites supplémentaires, généralement les valeurs des dérivées supérieures des variables indépendantes. Dans ce chapitre, concentrons-nous sur les problèmes de valeurs limites à deux points. \n",
    "\n",
    "Voyons un exemple du problème des valeurs limites et voyons comment nous pouvons le résoudre dans les prochaines sections. \n",
    "\n",
    "<img src=\"images/23.01.01-Pin-Fin-Heat.png\" alt=\"Pin Fin system\" title=\"Heat flow in a pin fin.\" width=\"500\"/>\n",
    "\n",
    "Les ailettes sont utilisées dans de nombreuses applications pour augmenter le transfert de chaleur des surfaces. Habituellement, la conception des ailettes de refroidissement est rencontrée dans de nombreuses applications, telles que l'ailette de broche utilisée comme dissipateur thermique pour refroidir un objet. Nous pouvons modéliser la distribution de température dans une aileron comme le montre la figure ci-dessus, où la longueur de l'aileron est $L$, et le début et la fin de l'aileron sont $x=0$ ainsi que $x=L$. Les températures aux deux extrémités sont $T_0$ et $T_L$. $T_s$ est la température du milieu environnant. Si nous considérons à la fois la convection et le rayonnement, la distribution de température en régime permanent de l’aileron $T(x)$ peut être modélisée avec l’équation suivante :\n",
    "\n",
    "$$\\frac{d^2T}{dx^2} - \\alpha_1(T - T_s) - \\alpha_2(T^4 - T^4) = 0$$\n",
    "\n",
    "avec les conditions aux limites : $T(0) = T_0$ et $T(L) = T_L$, et $\\alpha_1$ et $\\alpha_2$ sont des coefficients. Il s’agit d’une EDO du second ordre avec deux conditions aux limites, nous pouvons donc la résoudre pour obtenir des solutions particulières.  \n",
    "\n",
    "Le reste de ce chapitre couvre deux méthodes d'approximation numérique de la solution de problèmes de valeurs limites sur une grille numérique. Nous aborderons les méthodes de prise de vue et les méthodes de différences finies pour résoudre les problèmes de valeurs limites ODE."
   ]
  }
 ],
 "metadata": {
  "kernelspec": {
   "display_name": "Python 3 (ipykernel)",
   "language": "python",
   "name": "python3"
  },
  "language_info": {
   "codemirror_mode": {
    "name": "ipython",
    "version": 3
   },
   "file_extension": ".py",
   "mimetype": "text/x-python",
   "name": "python",
   "nbconvert_exporter": "python",
   "pygments_lexer": "ipython3",
   "version": "3.12.2"
  },
  "nbTranslate": {
   "displayLangs": [
    "*"
   ],
   "hotkey": "alt-t",
   "langInMainMenu": true,
   "sourceLang": "en",
   "targetLang": "fr",
   "useGoogleTranslate": true
  }
 },
 "nbformat": 4,
 "nbformat_minor": 2
}
