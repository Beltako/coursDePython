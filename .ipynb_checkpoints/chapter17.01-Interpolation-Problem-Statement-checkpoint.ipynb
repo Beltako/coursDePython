{
 "cells": [
  {
   "cell_type": "markdown",
   "metadata": {
    "lang": "fr"
   },
   "source": [
    "# 13.1 Énoncé du problème d'interpolation"
   ]
  },
  {
   "cell_type": "markdown",
   "metadata": {
    "lang": "fr"
   },
   "source": [
    "Supposons que nous ayons un ensemble de données composé de valeurs de données indépendantes, $x_i$, et de valeurs de données dépendantes, $y_i$, où $i = 1,\\ldots, n$. Nous aimerions trouver une fonction d'estimation $\\hat{y}(x)$ telle que $\\hat{y}(x_i) = y_i$ pour chaque point de notre ensemble de données. Cela signifie que la fonction d'estimation passe par nos points de données. Étant donné un nouveau $x{\\ast}$, nous pouvons **interpoler** la valeur de sa fonction en utilisant $\\hat{y}(x{\\ast})$. Dans ce contexte, $\\hat{y}(x)$ est appelée une **fonction d'interpolation**. La figure suivante montre l'énoncé du problème d'interpolation.\n",
    "\n",
    "<img src=\"./images/17.01.01-Illustration_of_Interpolation.jpg\" alt=\"Interpolation\" title=\"Illustration of the interpolation problem: estimate the value of a function in between data points.\" width=\"200\"/>\n",
    "\n",
    "Contrairement à la régression, l'interpolation ne nécessite pas que l'utilisateur dispose d'un modèle sous-jacent pour les données, en particulier lorsqu'il existe de nombreux points de données fiables. Cependant, les processus qui sous-tendent les données doivent quand même informer l'utilisateur sur la qualité de l'interpolation. Par exemple, nos données peuvent être constituées des coordonnées $(x,y)$ d'une voiture au fil du temps. Puisque le mouvement est limité à la physique des manœuvres de la voiture, nous pouvons nous attendre à ce que les points situés entre les coordonnées $(x,y)$ de notre ensemble soient « lisses » plutôt que irréguliers.\n",
    "\n",
    "Dans les sections suivantes, nous dérivons plusieurs méthodes d'interpolation courantes."
   ]
  }
 ],
 "metadata": {
  "kernelspec": {
   "display_name": "Python 3 (ipykernel)",
   "language": "python",
   "name": "python3"
  },
  "language_info": {
   "codemirror_mode": {
    "name": "ipython",
    "version": 3
   },
   "file_extension": ".py",
   "mimetype": "text/x-python",
   "name": "python",
   "nbconvert_exporter": "python",
   "pygments_lexer": "ipython3",
   "version": "3.12.2"
  },
  "nbTranslate": {
   "displayLangs": [
    "*"
   ],
   "hotkey": "alt-t",
   "langInMainMenu": true,
   "sourceLang": "en",
   "targetLang": "fr",
   "useGoogleTranslate": true
  }
 },
 "nbformat": 4,
 "nbformat_minor": 2
}
