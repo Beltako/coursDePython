{
 "cells": [
  {
   "cell_type": "markdown",
   "metadata": {
    "lang": "fr"
   },
   "source": [
    "# 17.4 La règle de Simpson"
   ]
  },
  {
   "cell_type": "markdown",
   "metadata": {
    "lang": "fr"
   },
   "source": [
    "Considérons *deux* sous-intervalles consécutifs, $[x_{i-1}, x_i]$ et $[x_i, x_{i+1}]$. **La règle de Simpson** approxime l'aire sous $f(x)$ sur ces deux sous-intervalles en ajustant un polynôme quadratique via les points $(x_{i-1}, f(x_{i-1})), (x_i, f(x_i))$ et $(x_{i+1}, f(x_{i+1}))$, qui est un polynôme unique, puis en intégrant exactement le quadratique. Ce qui suit montre cette approximation intégrale pour une fonction arbitraire.\n",
    "\n",
    "<img src=\"images/21.04.1-Simpson_integral.png\" alt=\"Simpsons integral\" title=\"Illustration of the Simpson integral formula. Discretization points are grouped by three, and a parabola is fit between the three points. This can be done by a typical interpolation polynomial. The area under the curve is approximated by the area under the parabola.\" width=\"350\"/>\n",
    "\n",
    "\n",
    "Tout d’abord, nous construisons l’approximation polynomiale quadratique de la fonction sur les deux sous-intervalles. Le moyen le plus simple de procéder est d'utiliser les polynômes de Lagrange, qui ont été abordés dans le [Chapitre 17] (chapter17.04-Lagrange-Polynomial-Interpolation.ipynb). En appliquant la formule de construction des polynômes de Lagrange on obtient le polynôme\n",
    "\n",
    "\\begin{eqnarray*}P_i(x) &=& f(x_{i-1})\\frac{(x - x_i)(x - x_{i+1})}{(x_{i-1} - x_i)(x_{i-1} - x_{i+1})} + f(x_i)\\frac{(x - x_{i-1})(x - x_{i+1})}{(x_{i} - x_{i-1})(x_{i} - x_{i+1})}\\\\\n",
    "&&+ f(x_{i+1})\\frac{(x - x_{i-1})(x - x_{i})}{(x_{i+1} - x_{i-1})(x_{i+1} -\n",
    "x_{i})},\\end{eqnarray*}\n",
    "\n",
    "et avec des substitutions pour $h$, les résultats sont\n",
    "\n",
    "$$P_i(x) = \\frac{f(x_{i-1})}{2h^2} (x - x_i)(x - x_{i+1}) - \\frac{f(x_i)}{h^2} (x - x_{i-1})(x - x_{i+1}) + \\frac{f(x_{i+1})}{2h^2} (x - x_{i-1})(x - x_{i}).$$\n",
    "\n",
    "Vous pouvez confirmer que le polynôme coupe les points souhaités. Avec un peu d'algèbre et de manipulation, l'intégrale de $P_i(x)$ sur les deux sous-intervalles est\n",
    "\n",
    "$$\\int_{x_{i-1}}^{x_{i+1}} P_i(x) dx = \\frac{h}{3}(f(x_{i-1}) + 4f(x_i) + f(x_{i+1}).$$\n",
    "\n",
    "Pour approximer l'intégrale sur $(a, b)$, nous devons additionner les intégrales de $P_i(x)$ sur tous les *deux* sous-intervalles puisque $P_i(x)$ s'étend sur deux sous-intervalles. Remplacer $\\frac{h}{3}(f(x_{i-1}) + 4f(x_i) + f(x_{i+1}))$ par l'intégrale de $P_i(x)$ et regrouper les termes d'efficacité conduit à la formule\n",
    "\n",
    "$$\\int_a^b f(x) dx \\approx \\frac{h}{3} \\left[f(x_0)+4 \\left(\\sum_{i=1, i\\  {\\text{odd}}}^{n-1}f(x_i)\\right)+2 \\left(\\sum_{i=2, i\\  {\\text{even}}}^{n-2}f(x_i)\\right)+f(x_n)\\right].$$\n",
    "\n",
    "Ce regroupement est illustré dans la figure ci-dessous :\n",
    "\n",
    "<img src=\"images/21.04.2-Simpson_integral_2.png\" alt=\"Regrouping\" title=\"Illustration of the accounting procedure to approximate the function f by the Simpson rule for the entire interval [a, b].\" width=\"350\"/>\n",
    "\n",
    "\n",
    "**ATTENTION !** Notez que pour utiliser la règle de Simpson, vous **devez** avoir un nombre pair d'intervalles et, par conséquent, un nombre impair de points de grille.\n",
    "\n",
    "Pour calculer l'exactitude de la règle de Simpson, nous prenons l'approximation par série de Taylor de $f(x)$ autour de $x_i$, qui est\n",
    "\n",
    "$$f(x) = f(x_i) + f^{\\prime}(x_i)(x - x_i) + \\frac{f''(x_i)(x-x_i)^2}{2!} + \\frac{f'''(x_i)(x-x_i)^3}{3!} + \\frac{f''''(x_i)(x-x_i)^4}{4!} + \\cdots$$\n",
    "\n",
    "Le calcul de la série de Taylor en $x_{i-1}$ et $x_{i+1}$ et en remplaçant $h$ le cas échéant donne les expressions\n",
    "\n",
    "$$f(x_{i-1}) = f(x_i) - hf^{\\prime}(x_i) + \\frac{h^2f''(x_i)}{2!} - \\frac{h^3f'''(x_i)}{3!} + \\frac{h^4f''''(x_i)}{4!} - \\cdots$$\n",
    "\n",
    "et\n",
    "\n",
    "$$f(x_{i+1}) = f(x_i) + hf^{\\prime}(x_i) + \\frac{h''(x_i)}{2!} + \\frac{h^3f'''(x_i)}{3!} + \\frac{h^4f''''(x_i)}{4!} + \\cdots$$\n",
    "\n",
    "Considérons maintenant l'expression $\\frac{f(x_{i-1}) + 4f(x_i) + f(x_{i+1})}{6}$. La substitution de la série de Taylor aux valeurs respectives du numérateur produit l'équation\n",
    "\n",
    "$$\\frac{f(x_{i-1}) + 4f(x_i) + f(x_{i+1})}{6} = f(x_i) + \\frac{h^2}{6}f''(x_i) + \\frac{h^4}{72}f''''(x_i) + \\cdots$$\n",
    "\n",
    "Notez que les termes impairs s’annulent. Cela implique\n",
    "\n",
    "$$f(x_i) =\\frac{f(x_{i-1}) + 4f(x_i) + f(x_{i+1})}{6} - \\frac{h^2}{6}f''(x_i) + O(h^4).$$\n",
    "\n",
    "En substitution de la série de Taylor à $f(x)$, l'intégrale de $f(x)$ sur deux sous-intervalles est alors\n",
    "\n",
    "\\begin{eqnarray*}\\int_{x_{i-1}}^{x_{i+1}} f(x) dx &=& \\int_{x_{i-1}}^{x_{i+1}} \\left(f(x_i) + f^{\\prime}(x_i)(x - x_i) + \\frac{f''(x_i)(x-x_i)^2}{2!}\\right.\\\\\n",
    "&&\\qquad\\qquad\\left. + \\frac{f'''(x_i)(x-x_i)^3}{3!}+ \\frac{f''''(x_i)(x-x_i)^4}{4!} + \\cdots\\right)\n",
    "dx.\\end{eqnarray*}\n",
    "\n",
    "Encore une fois, on distribue l'intégrale et sans la montrer, on laisse tomber les intégrales des termes de puissances impaires car ils sont nuls.\n",
    "\n",
    "$$\\int_{x_{i-1}}^{x_{i+1}} f(x) dx = \\int_{x_{i-1}}^{x_{i+1}} f(x_i) dx + \\int_{x_{i-1}}^{x_{i+1}}\\frac{f''(x_i)(x-x_i)^2}{2!}dx + \\int_{x_{i-1}}^{x_{i+1}}\\frac{f''''(x_i)(x-x_i)^4}{4!}dx + \\cdots.$$\n",
    "\n",
    "Nous effectuons ensuite les intégrations. Comme nous le comprendrons bientôt, il nous est avantageux de calculer exactement l’intégrale du deuxième terme. L'équation résultante est\n",
    "\n",
    "$$\\int_{x_{i-1}}^{x_{i+1}} f(x) dx = 2h f(x_i) + \\frac{h^3}{3}f''(x_i) + O(h^5).$$\n",
    "\n",
    "En remplaçant l'expression de $f(x_i)$ dérivée plus tôt, le membre de droite devient\n",
    "\n",
    "$$2h \\left(\\frac{f(x_{i-1}) + 4f(x_i) + f(x_{i+1})}{6} - \\frac{h^2}{6}f''(x_i) + O(h^4)\\right) + \\frac{h^3}{3}f''(x_i) + O(h^5),$$\n",
    "\n",
    "qui peut être réorganisé pour\n",
    "\n",
    "$$\\left[\\frac{h}{3}(f(x_{i-1}) + 4f(x_i) + f(x_{i+1})) - \\frac{h^3}{3}f''(x_i) + O(h^5)\\right] + \\frac{h^3}{3}f''(x_i) + O(h^5).$$\n",
    "\n",
    "L'annulation et la combinaison des termes appropriés aboutissent à l'expression intégrale\n",
    "\n",
    "$$\\int_{x_{i-1}}^{x_{i+1}} f(x) dx = \\frac{h}{3}(f(x_{i-1}) + 4f(x_i) + f(x_{i+1})) + O(h^5).$$\n",
    "\n",
    "Reconnaissant que $\\frac{h}{3}(f(x_{i-1}) + 4f(x_i) + f(x_{i+1}))$ est exactement l'approximation de la règle de Simpson pour l'intégrale sur ce sous-intervalle, cette équation implique que la règle de Simpson est $O(h^5)$ sur un sous-intervalle et $O(h^4)$ sur tout l'intervalle. Parce que les termes $h^3$ s'annulent exactement, la règle de Simpson gagne encore *deux* ordres de précision !\n",
    "\n",
    "**ESSAYEZ-LE !** Utilisez la règle de Simpson pour approximer $\\int_{0}^{\\pi} \\text{sin} (x)dx$ avec 11 points de grille uniformément espacés sur tout l'intervalle. Comparez cette valeur à la valeur exacte de 2."
   ]
  },
  {
   "cell_type": "code",
   "execution_count": 1,
   "metadata": {
    "button": false,
    "new_sheet": false,
    "run_control": {
     "read_only": false
    }
   },
   "outputs": [
    {
     "name": "stdout",
     "output_type": "stream",
     "text": [
      "2.0001095173150043\n",
      "-0.00010951731500430384\n"
     ]
    }
   ],
   "source": [
    "import numpy as np\n",
    "\n",
    "a = 0\n",
    "b = np.pi\n",
    "n = 11\n",
    "h = (b - a) / (n - 1)\n",
    "x = np.linspace(a, b, n)\n",
    "f = np.sin(x)\n",
    "\n",
    "I_simp = (h/3) * (f[0] + 2*sum(f[:n-2:2]) \\\n",
    "            + 4*sum(f[1:n-1:2]) + f[n-1])\n",
    "err_simp = 2 - I_simp\n",
    "\n",
    "print(I_simp)\n",
    "print(err_simp)"
   ]
  }
 ],
 "metadata": {
  "kernelspec": {
   "display_name": "Python 3 (ipykernel)",
   "language": "python",
   "name": "python3"
  },
  "language_info": {
   "codemirror_mode": {
    "name": "ipython",
    "version": 3
   },
   "file_extension": ".py",
   "mimetype": "text/x-python",
   "name": "python",
   "nbconvert_exporter": "python",
   "pygments_lexer": "ipython3",
   "version": "3.12.2"
  },
  "nbTranslate": {
   "displayLangs": [
    "*"
   ],
   "hotkey": "alt-t",
   "langInMainMenu": true,
   "sourceLang": "en",
   "targetLang": "fr",
   "useGoogleTranslate": true
  }
 },
 "nbformat": 4,
 "nbformat_minor": 2
}
