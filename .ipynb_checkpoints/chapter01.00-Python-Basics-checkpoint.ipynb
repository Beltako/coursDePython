{
 "cells": [
  {
   "cell_type": "markdown",
   "metadata": {
    "lang": "fr"
   },
   "source": [
    "# Chapitre 1. Les bases de Python"
   ]
  },
  {
   "cell_type": "markdown",
   "metadata": {
    "lang": "fr"
   },
   "source": [
    "#### SOMMAIRE\n",
    "\n",
    "---\n",
    "\n",
    "* [**1.1 Premiers pas avec Python**](chapter01.01-Getting-Started-with-Python.ipynb)\n",
    "* [**1.2 Python comme calculatrice**](chapter01.02-Python-as-A-Calculator.ipynb)\n",
    "* [**1.3 Gestion des packages**](chapter01.03-Managing-Packages.ipynb)\n",
    "* [**1.4 Introduction à Jupyter Notebook**](chapter01.04-Introduction-to-Jupyter-Notebook.ipynb)\n",
    "* [**1.5 Expressions et opérateurs logiques**](chapter01.05-Logial-Expressions-and-Operators.ipynb)\n",
    "* [**1.6 Résumé et problèmes**](chapter01.06-Summary-and-Problems.ipynb)"
   ]
  },
  {
   "cell_type": "markdown",
   "metadata": {
    "lang": "fr"
   },
   "source": [
    "---\n",
    "\n",
    "## Motivation\n",
    "\n",
    "Ce chapitre vous permet de démarrer avec Python, de l'utiliser comme calculatrice, de gérer les packages Python et de vous familiariser avec Jupyter Notebook. Comme vous le verrez, Python possède une grande communauté avec des packages qui pourraient potentiellement tout faire. À la fin de ce chapitre, vous devez être familier avec Python, être capable d'exécuter des commandes en Python, d'installer et de gérer les packages Python dans le notebook Jupyter et d'utiliser les fonctionnalités mathématiques de base de Python.\n",
    "\n",
    "---"
   ]
  }
 ],
 "metadata": {
  "kernelspec": {
   "display_name": "Python 3 (ipykernel)",
   "language": "python",
   "name": "python3"
  },
  "language_info": {
   "codemirror_mode": {
    "name": "ipython",
    "version": 3
   },
   "file_extension": ".py",
   "mimetype": "text/x-python",
   "name": "python",
   "nbconvert_exporter": "python",
   "pygments_lexer": "ipython3",
   "version": "3.12.2"
  },
  "nbTranslate": {
   "displayLangs": [
    "*"
   ],
   "hotkey": "alt-t",
   "langInMainMenu": true,
   "sourceLang": "en",
   "targetLang": "fr",
   "useGoogleTranslate": true
  }
 },
 "nbformat": 4,
 "nbformat_minor": 4
}
