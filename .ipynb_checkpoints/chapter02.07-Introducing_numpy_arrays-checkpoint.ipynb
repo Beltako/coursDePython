{
 "cells": [
  {
   "cell_type": "markdown",
   "metadata": {
    "lang": "fr"
   },
   "source": [
    "# 2.7 Présentation des tableaux Numpy"
   ]
  },
  {
   "cell_type": "markdown",
   "metadata": {
    "lang": "fr"
   },
   "source": [
    "Dans la 2ème partie de ce livre, nous étudierons les méthodes numériques en utilisant Python. Nous utiliserons tableau/matrice beaucoup plus loin dans le livre. Par conséquent, nous allons présenter ici la manière la plus courante de gérer les tableaux en Python à l'aide du [module Numpy](http://www.numpy.org). Numpy est probablement le module de calcul numérique le plus fondamental de Python.\n",
    "\n",
    "NumPy est important en calcul scientifique, il est codé à la fois en Python et en C (pour la vitesse). Sur son site Web, quelques fonctionnalités importantes de Numpy sont répertoriées :\n",
    "\n",
    "*un puissant objet tableau à N dimensions* fonctions (diffusion) sophistiquées\n",
    "*outils d'intégration de code C/C++ et Fortran* capacités utiles d'algèbre linéaire, de transformation de Fourier et de nombres aléatoires\n",
    "\n",
    "Ici nous ne vous présenterons que le tableau Numpy qui est lié à la structure des données, mais nous aborderons progressivement d'autres aspects de Numpy dans les chapitres suivants."
   ]
  },
  {
   "cell_type": "markdown",
   "metadata": {
    "lang": "fr"
   },
   "source": [
    "Pour utiliser le module Numpy, nous devons d'abord l'importer. Une manière conventionnelle de l'importer consiste à utiliser \"np\" comme nom abrégé."
   ]
  },
  {
   "cell_type": "code",
   "execution_count": 1,
   "metadata": {
    "button": false,
    "collapsed": true,
    "new_sheet": false,
    "run_control": {
     "read_only": false
    }
   },
   "outputs": [],
   "source": [
    "import numpy as np"
   ]
  },
  {
   "cell_type": "markdown",
   "metadata": {
    "lang": "fr"
   },
   "source": [
    "**ATTENTION !** Bien sûr, vous pouvez l'appeler n'importe quel nom, mais conventionnellement, \"np\" est accepté par l'ensemble de la communauté et c'est une bonne pratique de l'utiliser à des fins évidentes."
   ]
  },
  {
   "cell_type": "markdown",
   "metadata": {
    "lang": "fr"
   },
   "source": [
    "Pour définir un tableau en Python, vous pouvez utiliser la fonction *np.array* pour convertir une liste.\n",
    "\n",
    "**ESSAYEZ-LE !** Créez les tableaux suivants :\n",
    "\n",
    "$x = \\begin{pmatrix} \n",
    "1 & 4 & 3 \\\\\n",
    "\\end{pmatrix}$\n",
    "\n",
    "$y = \\begin{pmatrix} \n",
    "1 & 4 & 3 \\\\\n",
    "9 & 2 & 7 \\\\\n",
    "\\end{pmatrix}$"
   ]
  },
  {
   "cell_type": "code",
   "execution_count": 2,
   "metadata": {
    "button": false,
    "new_sheet": false,
    "run_control": {
     "read_only": false
    }
   },
   "outputs": [
    {
     "data": {
      "text/plain": [
       "array([1, 4, 3])"
      ]
     },
     "execution_count": 2,
     "metadata": {},
     "output_type": "execute_result"
    }
   ],
   "source": [
    "x = np.array([1, 4, 3])\n",
    "x"
   ]
  },
  {
   "cell_type": "code",
   "execution_count": 3,
   "metadata": {
    "button": false,
    "new_sheet": false,
    "run_control": {
     "read_only": false
    }
   },
   "outputs": [
    {
     "data": {
      "text/plain": [
       "array([[1, 4, 3],\n",
       "       [9, 2, 7]])"
      ]
     },
     "execution_count": 3,
     "metadata": {},
     "output_type": "execute_result"
    }
   ],
   "source": [
    "y = np.array([[1, 4, 3], [9, 2, 7]])\n",
    "y"
   ]
  },
  {
   "cell_type": "markdown",
   "metadata": {
    "lang": "fr"
   },
   "source": [
    "**REMARQUE !** Un tableau 2D peut utiliser des listes imbriquées pour représenter, la liste interne représentant chaque ligne."
   ]
  },
  {
   "cell_type": "markdown",
   "metadata": {
    "lang": "fr"
   },
   "source": [
    "Nous aimerions souvent connaître la taille ou la longueur d’un tableau. L'attribut array *shape* est appelé sur un tableau M et renvoie un tableau 2 × 3 où le premier élément est le nombre de lignes de la matrice M et le deuxième élément est le nombre de colonnes dans M. Remarque que la sortie de l'attribut *shape* est un tuple. L'attribut *size* est appelé sur un tableau M et renvoie le nombre total d'éléments dans la matrice M.\n",
    "\n",
    "**ESSAYEZ-LE !** Recherchez les lignes, les colonnes et la taille totale du tableau y."
   ]
  },
  {
   "cell_type": "code",
   "execution_count": 4,
   "metadata": {
    "button": false,
    "new_sheet": false,
    "run_control": {
     "read_only": false
    }
   },
   "outputs": [
    {
     "data": {
      "text/plain": [
       "(2, 3)"
      ]
     },
     "execution_count": 4,
     "metadata": {},
     "output_type": "execute_result"
    }
   ],
   "source": [
    "y.shape"
   ]
  },
  {
   "cell_type": "code",
   "execution_count": 5,
   "metadata": {
    "button": false,
    "new_sheet": false,
    "run_control": {
     "read_only": false
    }
   },
   "outputs": [
    {
     "data": {
      "text/plain": [
       "6"
      ]
     },
     "execution_count": 5,
     "metadata": {},
     "output_type": "execute_result"
    }
   ],
   "source": [
    "y.size"
   ]
  },
  {
   "cell_type": "markdown",
   "metadata": {
    "lang": "fr"
   },
   "source": [
    "**REMARQUE !** Vous remarquerez peut-être la différence : nous utilisons uniquement *y.shape* au lieu de *y.shape()*, car <*>shape<*> est un attribut plutôt qu'une méthode dans cet objet tableau. Nous présenterons davantage la programmation orientée objet dans un chapitre ultérieur. Pour l'instant, vous devez vous rappeler que lorsque nous appelons une méthode dans un objet, nous devons utiliser les parenthèses, alors que l'attribut ne le fait pas."
   ]
  },
  {
   "cell_type": "markdown",
   "metadata": {
    "lang": "fr"
   },
   "source": [
    "Très souvent, nous aimerions générer des tableaux ayant une structure ou un modèle. Par exemple, nous pouvons souhaiter créer le tableau z = [1 2 3 ... 2000]. Il serait très fastidieux de taper la description complète de z en Python. Pour générer des tableaux ordonnés et régulièrement espacés, il est utile d'utiliser la fonction *arange* dans Numpy.\n",
    "\n",
    "**ESSAYEZ-LE !** Créez un tableau *z* de 1 à 2000 avec un incrément de 1."
   ]
  },
  {
   "cell_type": "code",
   "execution_count": 6,
   "metadata": {
    "button": false,
    "new_sheet": false,
    "run_control": {
     "read_only": false
    }
   },
   "outputs": [
    {
     "data": {
      "text/plain": [
       "array([   1,    2,    3, ..., 1997, 1998, 1999])"
      ]
     },
     "execution_count": 6,
     "metadata": {},
     "output_type": "execute_result"
    }
   ],
   "source": [
    "z = np.arange(1, 2000, 1)\n",
    "z"
   ]
  },
  {
   "cell_type": "markdown",
   "metadata": {
    "lang": "fr"
   },
   "source": [
    "En utilisant *np.arange*, nous pourrions créer facilement undefinedz*_. Les deux premiers nombres sont le début et la fin de la séquence, et le dernier est l'incrément. Puisqu'il est très courant d'avoir un incrément de 1, si aucun incrément n'est spécifié, Python utilisera une valeur par défaut de 1. Par conséquent,*_np.arange(1, 2000)undefined aura le même résultat que *np. arange(1, 2000, 1)*. Des incréments négatifs ou non entiers peuvent également être utilisés. Si l'incrément \"manque\" la dernière valeur, il ne s'étendra que jusqu'à la valeur juste avant la valeur finale. Par exemple, *x = np.arange(1,8,2)* serait [1, 3, 5, 7].\n",
    "\n",
    "**ESSAYEZ-LE !** Générez un tableau avec [0.5, 1, 1.5, 2, 2.5]."
   ]
  },
  {
   "cell_type": "code",
   "execution_count": 7,
   "metadata": {
    "button": false,
    "new_sheet": false,
    "run_control": {
     "read_only": false
    }
   },
   "outputs": [
    {
     "data": {
      "text/plain": [
       "array([ 0.5,  1. ,  1.5,  2. ,  2.5])"
      ]
     },
     "execution_count": 7,
     "metadata": {},
     "output_type": "execute_result"
    }
   ],
   "source": [
    "np.arange(0.5, 3, 0.5)"
   ]
  },
  {
   "cell_type": "markdown",
   "metadata": {
    "lang": "fr"
   },
   "source": [
    "Parfois, nous voulons garantir un point de début et de fin pour un tableau tout en conservant des éléments régulièrement espacés. Par exemple, nous pouvons vouloir un tableau qui commence à 1, se termine à 8 et comporte exactement 10 éléments. Pour cela vous pouvez utiliser la fonction *np.linspace*. *linspace* prend trois valeurs d'entrée séparées par des virgules. Donc *A = linspace(a,b,n)* génère un tableau de n éléments équidistants commençant à a et se terminant à b.\n",
    "\n",
    "**ESSAYEZ-LE !** Utilisez *linspace* pour générer un tableau commençant à 3, se terminant à 9 et contenant 10 éléments."
   ]
  },
  {
   "cell_type": "code",
   "execution_count": 8,
   "metadata": {
    "button": false,
    "new_sheet": false,
    "run_control": {
     "read_only": false
    }
   },
   "outputs": [
    {
     "data": {
      "text/plain": [
       "array([ 3.        ,  3.66666667,  4.33333333,  5.        ,  5.66666667,\n",
       "        6.33333333,  7.        ,  7.66666667,  8.33333333,  9.        ])"
      ]
     },
     "execution_count": 8,
     "metadata": {},
     "output_type": "execute_result"
    }
   ],
   "source": [
    "np.linspace(3, 9, 10)"
   ]
  },
  {
   "cell_type": "markdown",
   "metadata": {
    "lang": "fr"
   },
   "source": [
    "L'accès au tableau numpy 1D est similaire à ce que nous avons décrit pour les listes ou les tuples, il a un index pour indiquer l'emplacement. Par exemple:"
   ]
  },
  {
   "cell_type": "code",
   "execution_count": 9,
   "metadata": {
    "button": false,
    "new_sheet": false,
    "run_control": {
     "read_only": false
    }
   },
   "outputs": [
    {
     "data": {
      "text/plain": [
       "4"
      ]
     },
     "execution_count": 9,
     "metadata": {},
     "output_type": "execute_result"
    }
   ],
   "source": [
    "# get the 2nd element of x\n",
    "x[1]"
   ]
  },
  {
   "cell_type": "code",
   "execution_count": 10,
   "metadata": {
    "button": false,
    "new_sheet": false,
    "run_control": {
     "read_only": false
    }
   },
   "outputs": [
    {
     "data": {
      "text/plain": [
       "array([4, 3])"
      ]
     },
     "execution_count": 10,
     "metadata": {},
     "output_type": "execute_result"
    }
   ],
   "source": [
    "# get all the element after the 2nd element of x\n",
    "x[1:]"
   ]
  },
  {
   "cell_type": "code",
   "execution_count": 11,
   "metadata": {
    "button": false,
    "new_sheet": false,
    "run_control": {
     "read_only": false
    }
   },
   "outputs": [
    {
     "data": {
      "text/plain": [
       "3"
      ]
     },
     "execution_count": 11,
     "metadata": {},
     "output_type": "execute_result"
    }
   ],
   "source": [
    "# get the last element of x\n",
    "x[-1]"
   ]
  },
  {
   "cell_type": "markdown",
   "metadata": {
    "lang": "fr"
   },
   "source": [
    "Pour les tableaux 2D, c'est légèrement différent, puisque nous avons des lignes et des colonnes. Pour accéder aux données d'un tableau 2D M, nous devons utiliser M[r, c], que la ligne r et la colonne c soient séparées par une virgule. C'est ce qu'on appelle l'indexation de tableau. Le r et le c peuvent être un nombre unique, une liste, etc. Si vous pensez uniquement à l’index de ligne ou à l’index de colonne, cela ressemble au tableau 1D. Utilisons le $y = \\begin{pmatrix} \n",
    "1 & 4 & 3 \\\\\n",
    "9 & 2 & 7 \\\\\n",
    "\\end{pmatrix}$ comme exemple.\n",
    "\n",
    "**ESSAYEZ-LE !** Obtenez l'élément de la première ligne et de la 2ème colonne du tableau *y*."
   ]
  },
  {
   "cell_type": "code",
   "execution_count": 12,
   "metadata": {
    "button": false,
    "new_sheet": false,
    "run_control": {
     "read_only": false
    }
   },
   "outputs": [
    {
     "data": {
      "text/plain": [
       "4"
      ]
     },
     "execution_count": 12,
     "metadata": {},
     "output_type": "execute_result"
    }
   ],
   "source": [
    "y[0,1]"
   ]
  },
  {
   "cell_type": "markdown",
   "metadata": {
    "lang": "fr"
   },
   "source": [
    "**ESSAYEZ-LE !** Obtenez la première ligne du tableau *y*."
   ]
  },
  {
   "cell_type": "code",
   "execution_count": 13,
   "metadata": {
    "button": false,
    "new_sheet": false,
    "run_control": {
     "read_only": false
    }
   },
   "outputs": [
    {
     "data": {
      "text/plain": [
       "array([1, 4, 3])"
      ]
     },
     "execution_count": 13,
     "metadata": {},
     "output_type": "execute_result"
    }
   ],
   "source": [
    "y[0, :]"
   ]
  },
  {
   "cell_type": "markdown",
   "metadata": {
    "lang": "fr"
   },
   "source": [
    "**ESSAYEZ-LE !** Obtenez la dernière colonne du tableau *y*."
   ]
  },
  {
   "cell_type": "code",
   "execution_count": 14,
   "metadata": {
    "button": false,
    "new_sheet": false,
    "run_control": {
     "read_only": false
    }
   },
   "outputs": [
    {
     "data": {
      "text/plain": [
       "array([3, 7])"
      ]
     },
     "execution_count": 14,
     "metadata": {},
     "output_type": "execute_result"
    }
   ],
   "source": [
    "y[:, -1]"
   ]
  },
  {
   "cell_type": "markdown",
   "metadata": {
    "lang": "fr"
   },
   "source": [
    "**ESSAYEZ-LE !** Obtenez la première et la troisième colonne du tableau *y*."
   ]
  },
  {
   "cell_type": "code",
   "execution_count": 15,
   "metadata": {
    "button": false,
    "new_sheet": false,
    "run_control": {
     "read_only": false
    }
   },
   "outputs": [
    {
     "data": {
      "text/plain": [
       "array([[1, 3],\n",
       "       [9, 7]])"
      ]
     },
     "execution_count": 15,
     "metadata": {},
     "output_type": "execute_result"
    }
   ],
   "source": [
    "y[:, [0, 2]]"
   ]
  },
  {
   "cell_type": "markdown",
   "metadata": {
    "lang": "fr"
   },
   "source": [
    "Il existe des tableaux prédéfinis qui sont vraiment utiles. Par exemple, *np.zeros*, *np.ones* et *np.empty* sont 3 fonctions utiles. Voyons les exemples.\n",
    "\n",
    "**ESSAYEZ-LE !** Générez un tableau de 3 par 5 avec tous les 0."
   ]
  },
  {
   "cell_type": "code",
   "execution_count": 16,
   "metadata": {
    "button": false,
    "new_sheet": false,
    "run_control": {
     "read_only": false
    }
   },
   "outputs": [
    {
     "data": {
      "text/plain": [
       "array([[ 0.,  0.,  0.,  0.,  0.],\n",
       "       [ 0.,  0.,  0.,  0.,  0.],\n",
       "       [ 0.,  0.,  0.,  0.,  0.]])"
      ]
     },
     "execution_count": 16,
     "metadata": {},
     "output_type": "execute_result"
    }
   ],
   "source": [
    "np.zeros((3, 5))"
   ]
  },
  {
   "cell_type": "markdown",
   "metadata": {
    "lang": "fr"
   },
   "source": [
    "**ESSAYEZ-LE !** Générez un tableau de 5 par 3 avec tous les éléments à 1."
   ]
  },
  {
   "cell_type": "code",
   "execution_count": 17,
   "metadata": {
    "button": false,
    "new_sheet": false,
    "run_control": {
     "read_only": false
    }
   },
   "outputs": [
    {
     "data": {
      "text/plain": [
       "array([[ 1.,  1.,  1.],\n",
       "       [ 1.,  1.,  1.],\n",
       "       [ 1.,  1.,  1.],\n",
       "       [ 1.,  1.,  1.],\n",
       "       [ 1.,  1.,  1.]])"
      ]
     },
     "execution_count": 17,
     "metadata": {},
     "output_type": "execute_result"
    }
   ],
   "source": [
    "np.ones((5, 3))"
   ]
  },
  {
   "cell_type": "markdown",
   "metadata": {
    "lang": "fr"
   },
   "source": [
    "**REMARQUE !** La forme du tableau est définie dans un tuple avec la ligne comme premier élément et la colonne comme second. Si vous n'avez besoin que d'un tableau 1D, il ne peut s'agir que d'un seul nombre en entrée : *np.ones(5)*."
   ]
  },
  {
   "cell_type": "markdown",
   "metadata": {
    "lang": "fr"
   },
   "source": [
    "**ESSAYEZ-LE !** Générez un tableau vide 1D avec 3 éléments."
   ]
  },
  {
   "cell_type": "code",
   "execution_count": 18,
   "metadata": {
    "button": false,
    "new_sheet": false,
    "run_control": {
     "read_only": false
    }
   },
   "outputs": [
    {
     "data": {
      "text/plain": [
       "array([ 0.,  0.,  0.])"
      ]
     },
     "execution_count": 18,
     "metadata": {},
     "output_type": "execute_result"
    }
   ],
   "source": [
    "np.empty(3)"
   ]
  },
  {
   "cell_type": "markdown",
   "metadata": {
    "lang": "fr"
   },
   "source": [
    "**REMARQUE !** Le tableau vide n'est pas vraiment vide, il est rempli de très petits nombres aléatoires."
   ]
  },
  {
   "cell_type": "markdown",
   "metadata": {
    "lang": "fr"
   },
   "source": [
    "Vous pouvez réaffecter une valeur d'un tableau à l'aide de l'indexation du tableau et de l'opérateur d'affectation. Vous pouvez réaffecter plusieurs éléments à un seul numéro à l'aide de l'indexation de tableau sur le côté gauche. Vous pouvez également réaffecter plusieurs éléments d'un tableau à condition que le nombre d'éléments affectés et le nombre d'éléments affectés soient les mêmes. Vous pouvez créer un tableau en utilisant l'indexation de tableau."
   ]
  },
  {
   "cell_type": "markdown",
   "metadata": {
    "lang": "fr"
   },
   "source": [
    "**ESSAYEZ-LE !** Soit a = [1, 2, 3, 4, 5, 6]. Réaffectez le quatrième élément de A à 7. Réaffectez les premier, deuxième et troisième éléments à 1. Réaffectez les deuxième, troisième et quatrième éléments à 9, 8 et 7."
   ]
  },
  {
   "cell_type": "code",
   "execution_count": 19,
   "metadata": {
    "button": false,
    "new_sheet": false,
    "run_control": {
     "read_only": false
    }
   },
   "outputs": [
    {
     "data": {
      "text/plain": [
       "array([1, 2, 3, 4, 5, 6])"
      ]
     },
     "execution_count": 19,
     "metadata": {},
     "output_type": "execute_result"
    }
   ],
   "source": [
    "a = np.arange(1, 7)\n",
    "a"
   ]
  },
  {
   "cell_type": "code",
   "execution_count": 20,
   "metadata": {
    "button": false,
    "new_sheet": false,
    "run_control": {
     "read_only": false
    }
   },
   "outputs": [
    {
     "data": {
      "text/plain": [
       "array([1, 2, 3, 7, 5, 6])"
      ]
     },
     "execution_count": 20,
     "metadata": {},
     "output_type": "execute_result"
    }
   ],
   "source": [
    "a[3] = 7\n",
    "a"
   ]
  },
  {
   "cell_type": "code",
   "execution_count": 21,
   "metadata": {
    "button": false,
    "new_sheet": false,
    "run_control": {
     "read_only": false
    }
   },
   "outputs": [
    {
     "data": {
      "text/plain": [
       "array([1, 1, 1, 7, 5, 6])"
      ]
     },
     "execution_count": 21,
     "metadata": {},
     "output_type": "execute_result"
    }
   ],
   "source": [
    "a[:3] = 1\n",
    "a"
   ]
  },
  {
   "cell_type": "code",
   "execution_count": 22,
   "metadata": {
    "button": false,
    "new_sheet": false,
    "run_control": {
     "read_only": false
    }
   },
   "outputs": [
    {
     "data": {
      "text/plain": [
       "array([1, 9, 8, 7, 5, 6])"
      ]
     },
     "execution_count": 22,
     "metadata": {},
     "output_type": "execute_result"
    }
   ],
   "source": [
    "a[1:4] = [9, 8, 7]\n",
    "a"
   ]
  },
  {
   "cell_type": "markdown",
   "metadata": {
    "lang": "fr"
   },
   "source": [
    "**ESSAYEZ-LE !** Créez un tableau zéro b avec une forme 2 par 2 et définissez $b = \\begin{pmatrix} \n",
    "1 & 2 \\\\\n",
    "3 & 4  \\\\\n",
    "\\end{pmatrix}$ en utilisant l'indexation du tableau."
   ]
  },
  {
   "cell_type": "code",
   "execution_count": 23,
   "metadata": {
    "button": false,
    "new_sheet": false,
    "run_control": {
     "read_only": false
    }
   },
   "outputs": [
    {
     "data": {
      "text/plain": [
       "array([[ 1.,  2.],\n",
       "       [ 3.,  4.]])"
      ]
     },
     "execution_count": 23,
     "metadata": {},
     "output_type": "execute_result"
    }
   ],
   "source": [
    "b = np.zeros((2, 2))\n",
    "b[0, 0] = 1\n",
    "b[0, 1] = 2\n",
    "b[1, 0] = 3\n",
    "b[1, 1] = 4\n",
    "b"
   ]
  },
  {
   "cell_type": "markdown",
   "metadata": {
    "lang": "fr"
   },
   "source": [
    "**ATTENTION !** Bien que vous puissiez créer un tableau à partir de zéro en utilisant l'indexation, nous vous le déconseillons. Cela peut vous dérouter et les erreurs seront plus difficiles à trouver dans votre code plus tard. Par exemple, b[1, 1] = 1 donnera le résultat $b = \\begin{pmatrix} \n",
    "0 & 0 \\\\\n",
    "0 & 1  \\\\\n",
    "\\end{pmatrix}$, ce qui est étrange car b[0, 0], b[0, 1] et b[1, 0] n'ont jamais été spécifiés."
   ]
  },
  {
   "cell_type": "markdown",
   "metadata": {
    "lang": "fr"
   },
   "source": [
    "L'arithmétique de base est définie pour les tableaux. Cependant, il existe des opérations entre un scalaire (un seul nombre) et un tableau et des opérations entre deux tableaux. Nous commencerons par les opérations entre un scalaire et un tableau. Pour illustrer, soit c un scalaire et b une matrice.\n",
    "\n",
    "*b + c*, *b âˆ' c*, *b* c*et*b / c*ajoute a à chaque élément de b, soustrait c de chaque élément de b, multiplie chaque élément de b par c et divise chaque élément de b par c, respectivement.**ESSAYEZ-LE !** Laissez $b = \\begin{pmatrix} \n",
    "1 & 2 \\\\\n",
    "3 & 4  \\\\\n",
    "\\end{pmatrix}$. Ajoutez et soustrayez 2 à b. Multipliez et divisez b par 2. Mettez au carré chaque élément de b. Soit c un scalaire. Vérifiez par vous-même la réflexivité de l’addition et de la multiplication scalaire : b + c = c + b et cb = bc."
   ]
  },
  {
   "cell_type": "code",
   "execution_count": 24,
   "metadata": {
    "button": false,
    "new_sheet": false,
    "run_control": {
     "read_only": false
    }
   },
   "outputs": [
    {
     "data": {
      "text/plain": [
       "array([[ 3.,  4.],\n",
       "       [ 5.,  6.]])"
      ]
     },
     "execution_count": 24,
     "metadata": {},
     "output_type": "execute_result"
    }
   ],
   "source": [
    "b + 2"
   ]
  },
  {
   "cell_type": "code",
   "execution_count": 25,
   "metadata": {
    "button": false,
    "new_sheet": false,
    "run_control": {
     "read_only": false
    }
   },
   "outputs": [
    {
     "data": {
      "text/plain": [
       "array([[-1.,  0.],\n",
       "       [ 1.,  2.]])"
      ]
     },
     "execution_count": 25,
     "metadata": {},
     "output_type": "execute_result"
    }
   ],
   "source": [
    "b - 2"
   ]
  },
  {
   "cell_type": "code",
   "execution_count": 26,
   "metadata": {
    "button": false,
    "new_sheet": false,
    "run_control": {
     "read_only": false
    }
   },
   "outputs": [
    {
     "data": {
      "text/plain": [
       "array([[ 2.,  4.],\n",
       "       [ 6.,  8.]])"
      ]
     },
     "execution_count": 26,
     "metadata": {},
     "output_type": "execute_result"
    }
   ],
   "source": [
    "2 * b"
   ]
  },
  {
   "cell_type": "code",
   "execution_count": 27,
   "metadata": {
    "button": false,
    "new_sheet": false,
    "run_control": {
     "read_only": false
    }
   },
   "outputs": [
    {
     "data": {
      "text/plain": [
       "array([[ 0.5,  1. ],\n",
       "       [ 1.5,  2. ]])"
      ]
     },
     "execution_count": 27,
     "metadata": {},
     "output_type": "execute_result"
    }
   ],
   "source": [
    "b / 2"
   ]
  },
  {
   "cell_type": "code",
   "execution_count": 28,
   "metadata": {
    "button": false,
    "new_sheet": false,
    "run_control": {
     "read_only": false
    }
   },
   "outputs": [
    {
     "data": {
      "text/plain": [
       "array([[  1.,   4.],\n",
       "       [  9.,  16.]])"
      ]
     },
     "execution_count": 28,
     "metadata": {},
     "output_type": "execute_result"
    }
   ],
   "source": [
    "b**2"
   ]
  },
  {
   "cell_type": "markdown",
   "metadata": {
    "lang": "fr"
   },
   "source": [
    "Décrire les opérations entre deux matrices est plus compliqué. Soient b et d deux matrices de même taille. b – d prend chaque élément de b et soustrait l’élément correspondant de d. De même, b + d ajoute chaque élément de d à l’élément correspondant de b.\n",
    "\n",
    "**ESSAYEZ-LE !** Laissez $b = \\begin{pmatrix} \n",
    "1 & 2 \\\\\n",
    "3 & 4  \\\\\n",
    "\\end{pmatrix}$ et $d = \\begin{pmatrix} \n",
    "3 & 4 \\\\\n",
    "5 & 6  \\\\\n",
    "\\end{pmatrix}$. Calculez b + d et b - d."
   ]
  },
  {
   "cell_type": "code",
   "execution_count": 29,
   "metadata": {
    "button": false,
    "collapsed": true,
    "new_sheet": false,
    "run_control": {
     "read_only": false
    }
   },
   "outputs": [],
   "source": [
    "b = np.array([[1, 2], [3, 4]])\n",
    "d = np.array([[3, 4], [5, 6]])"
   ]
  },
  {
   "cell_type": "code",
   "execution_count": 30,
   "metadata": {
    "button": false,
    "new_sheet": false,
    "run_control": {
     "read_only": false
    }
   },
   "outputs": [
    {
     "data": {
      "text/plain": [
       "array([[ 4,  6],\n",
       "       [ 8, 10]])"
      ]
     },
     "execution_count": 30,
     "metadata": {},
     "output_type": "execute_result"
    }
   ],
   "source": [
    "b + d"
   ]
  },
  {
   "cell_type": "code",
   "execution_count": 31,
   "metadata": {
    "button": false,
    "new_sheet": false,
    "run_control": {
     "read_only": false
    }
   },
   "outputs": [
    {
     "data": {
      "text/plain": [
       "array([[-2, -2],\n",
       "       [-2, -2]])"
      ]
     },
     "execution_count": 31,
     "metadata": {},
     "output_type": "execute_result"
    }
   ],
   "source": [
    "b - d"
   ]
  },
  {
   "cell_type": "markdown",
   "metadata": {
    "lang": "fr"
   },
   "source": [
    "Il existe deux types différents de multiplication (et de division) matricielle. Il existe une multiplication matricielle élément par élément et une multiplication matricielle standard. Pour cette section, nous montrerons uniquement comment fonctionnent la multiplication et la division matricielles élément par élément. La multiplication matricielle standard sera décrite dans le chapitre suivant sur l'algèbre linéaire. Python prend le symbole *pour signifier une multiplication élément par élément. Pour les matrices b et d de même taille, b* d prend chaque élément de b et le multiplie par l'élément correspondant de d. Il en va de même pour / et **.**ESSAYEZ-LE !**Calculez b * d, b / d et b**d."
   ]
  },
  {
   "cell_type": "code",
   "execution_count": 32,
   "metadata": {
    "button": false,
    "new_sheet": false,
    "run_control": {
     "read_only": false
    }
   },
   "outputs": [
    {
     "data": {
      "text/plain": [
       "array([[ 3,  8],\n",
       "       [15, 24]])"
      ]
     },
     "execution_count": 32,
     "metadata": {},
     "output_type": "execute_result"
    }
   ],
   "source": [
    "b * d"
   ]
  },
  {
   "cell_type": "code",
   "execution_count": 33,
   "metadata": {
    "button": false,
    "new_sheet": false,
    "run_control": {
     "read_only": false
    }
   },
   "outputs": [
    {
     "data": {
      "text/plain": [
       "array([[ 0.33333333,  0.5       ],\n",
       "       [ 0.6       ,  0.66666667]])"
      ]
     },
     "execution_count": 33,
     "metadata": {},
     "output_type": "execute_result"
    }
   ],
   "source": [
    "b / d"
   ]
  },
  {
   "cell_type": "code",
   "execution_count": 34,
   "metadata": {
    "button": false,
    "new_sheet": false,
    "run_control": {
     "read_only": false
    }
   },
   "outputs": [
    {
     "data": {
      "text/plain": [
       "array([[   1,   16],\n",
       "       [ 243, 4096]])"
      ]
     },
     "execution_count": 34,
     "metadata": {},
     "output_type": "execute_result"
    }
   ],
   "source": [
    "b**d"
   ]
  },
  {
   "cell_type": "markdown",
   "metadata": {
    "lang": "fr"
   },
   "source": [
    "La transposée d'un tableau, b, est un tableau, d, où b[i, j] = d[j, i]. En d’autres termes, la transposition change les lignes et les colonnes de b. Vous pouvez transposer un tableau en Python en utilisant la méthode tableau *T*.\n",
    "\n",
    "**ESSAYEZ-LE !** Calculez la transposition du tableau b."
   ]
  },
  {
   "cell_type": "code",
   "execution_count": 35,
   "metadata": {
    "button": false,
    "new_sheet": false,
    "run_control": {
     "read_only": false
    }
   },
   "outputs": [
    {
     "data": {
      "text/plain": [
       "array([[1, 3],\n",
       "       [2, 4]])"
      ]
     },
     "execution_count": 35,
     "metadata": {},
     "output_type": "execute_result"
    }
   ],
   "source": [
    "b.T"
   ]
  },
  {
   "cell_type": "markdown",
   "metadata": {
    "lang": "fr"
   },
   "source": [
    "Numpy a de nombreuses fonctions arithmétiques, telles que sin, cos, etc., qui peuvent prendre des tableaux comme arguments d'entrée. La sortie est la fonction évaluée pour chaque élément du tableau d'entrée. Une fonction qui prend un tableau en entrée et exécute la fonction dessus est dite **vectorisée**.\n",
    "\n",
    "**ESSAYEZ-LE !** Calculez *np.sqrt* pour x = [1, 4, 9, 16]."
   ]
  },
  {
   "cell_type": "code",
   "execution_count": 36,
   "metadata": {
    "button": false,
    "new_sheet": false,
    "run_control": {
     "read_only": false
    }
   },
   "outputs": [
    {
     "data": {
      "text/plain": [
       "array([ 1.,  2.,  3.,  4.])"
      ]
     },
     "execution_count": 36,
     "metadata": {},
     "output_type": "execute_result"
    }
   ],
   "source": [
    "x = [1, 4, 9, 16]\n",
    "np.sqrt(x)"
   ]
  },
  {
   "cell_type": "markdown",
   "metadata": {
    "lang": "fr"
   },
   "source": [
    "Les opérations logiques ne sont définies qu'entre un scalaire et un tableau et entre deux tableaux de même taille. Entre un scalaire et un tableau, l'opération logique est effectuée entre le scalaire et chaque élément du tableau. Entre deux tableaux, l’opération logique s’effectue élément par élément.\n",
    "\n",
    "**ESSAYEZ-LE !** Vérifiez quels éléments du tableau x = [1, 2, 4, 5, 9, 3] sont supérieurs à 3. Vérifiez quels éléments de x sont plus grands que l'élément correspondant de y = [0, 2, 3, 1, 2, 3]."
   ]
  },
  {
   "cell_type": "code",
   "execution_count": 37,
   "metadata": {
    "button": false,
    "collapsed": true,
    "new_sheet": false,
    "run_control": {
     "read_only": false
    }
   },
   "outputs": [],
   "source": [
    "x = np.array([1, 2, 4, 5, 9, 3])\n",
    "y = np.array([0, 2, 3, 1, 2, 3])"
   ]
  },
  {
   "cell_type": "code",
   "execution_count": 38,
   "metadata": {
    "button": false,
    "new_sheet": false,
    "run_control": {
     "read_only": false
    }
   },
   "outputs": [
    {
     "data": {
      "text/plain": [
       "array([False, False,  True,  True,  True, False], dtype=bool)"
      ]
     },
     "execution_count": 38,
     "metadata": {},
     "output_type": "execute_result"
    }
   ],
   "source": [
    "x > 3"
   ]
  },
  {
   "cell_type": "code",
   "execution_count": 39,
   "metadata": {
    "button": false,
    "new_sheet": false,
    "run_control": {
     "read_only": false
    }
   },
   "outputs": [
    {
     "data": {
      "text/plain": [
       "array([ True, False,  True,  True,  True, False], dtype=bool)"
      ]
     },
     "execution_count": 39,
     "metadata": {},
     "output_type": "execute_result"
    }
   ],
   "source": [
    "x > y"
   ]
  },
  {
   "cell_type": "markdown",
   "metadata": {
    "lang": "fr"
   },
   "source": [
    "Python peut indexer les éléments d'un tableau qui satisfont une expression logique.\n",
    "\n",
    "**ESSAYEZ-LE !** Soit x le même tableau que dans l'exemple précédent. Créez une variable y qui contient tous les éléments de x strictement supérieurs à 3. Attribuez à toutes les valeurs de x supérieures à 3 la valeur 0."
   ]
  },
  {
   "cell_type": "code",
   "execution_count": 40,
   "metadata": {
    "button": false,
    "new_sheet": false,
    "run_control": {
     "read_only": false
    }
   },
   "outputs": [
    {
     "data": {
      "text/plain": [
       "array([4, 5, 9])"
      ]
     },
     "execution_count": 40,
     "metadata": {},
     "output_type": "execute_result"
    }
   ],
   "source": [
    "y = x[x > 3]\n",
    "y"
   ]
  },
  {
   "cell_type": "code",
   "execution_count": 41,
   "metadata": {
    "button": false,
    "new_sheet": false,
    "run_control": {
     "read_only": false
    }
   },
   "outputs": [
    {
     "data": {
      "text/plain": [
       "array([1, 2, 0, 0, 0, 3])"
      ]
     },
     "execution_count": 41,
     "metadata": {},
     "output_type": "execute_result"
    }
   ],
   "source": [
    "x[x > 3] = 0\n",
    "x"
   ]
  }
 ],
 "metadata": {
  "kernelspec": {
   "display_name": "Python 3 (ipykernel)",
   "language": "python",
   "name": "python3"
  },
  "language_info": {
   "codemirror_mode": {
    "name": "ipython",
    "version": 3
   },
   "file_extension": ".py",
   "mimetype": "text/x-python",
   "name": "python",
   "nbconvert_exporter": "python",
   "pygments_lexer": "ipython3",
   "version": "3.12.2"
  },
  "nbTranslate": {
   "displayLangs": [
    "*"
   ],
   "hotkey": "alt-t",
   "langInMainMenu": true,
   "sourceLang": "en",
   "targetLang": "fr",
   "useGoogleTranslate": true
  }
 },
 "nbformat": 4,
 "nbformat_minor": 2
}
