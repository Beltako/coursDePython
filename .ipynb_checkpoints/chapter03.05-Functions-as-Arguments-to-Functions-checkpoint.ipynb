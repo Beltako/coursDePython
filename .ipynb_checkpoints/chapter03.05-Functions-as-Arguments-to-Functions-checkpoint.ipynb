{
 "cells": [
  {
   "cell_type": "markdown",
   "metadata": {
    "lang": "fr"
   },
   "source": [
    "# 3.5 Fonctions comme arguments des fonctions"
   ]
  },
  {
   "cell_type": "markdown",
   "metadata": {
    "lang": "fr"
   },
   "source": [
    "Jusqu'à présent, vous avez attribué différentes structures de données aux noms de variables. Être capable d'attribuer une structure de données à une variable nous permet de transmettre des informations aux fonctions et d'en récupérer des informations de manière ordonnée et ordonnée. Parfois, il est utile de pouvoir passer une fonction en tant que variable à une autre fonction. En d’autres termes, l’entrée de certaines fonctions peut être d’autres fonctions. Dans la dernière section, nous avons vu que la fonction lambda renvoie un objet fonction à la variable. Dans cette section, nous continuerons à voir comment l'objet fonction peut être utilisé comme entrée dans une autre fonction.\n",
    "\n",
    "**ESSAYEZ-LE !** Affectez la fonction *max* à la variable *f*. Vérifiez le type de *f*."
   ]
  },
  {
   "cell_type": "code",
   "execution_count": 1,
   "metadata": {},
   "outputs": [
    {
     "name": "stdout",
     "output_type": "stream",
     "text": [
      "<class 'builtin_function_or_method'>\n"
     ]
    }
   ],
   "source": [
    "f = max\n",
    "print(type(f))"
   ]
  },
  {
   "cell_type": "markdown",
   "metadata": {
    "lang": "fr"
   },
   "source": [
    "Dans l'exemple précédent, *f* est désormais équivalent à la fonction *max*. Tout comme *x = 1* signifie que *x* et 1 sont interchangeables, les fonctions *f* et *max* sont désormais interchangeables.\n",
    "\n",
    "**ESSAYEZ-LE !** Obtenez la valeur maximale de la liste [2, 3, 5] en utilisant *f*. Vérifiez que le résultat est le même qu’en utilisant *max*."
   ]
  },
  {
   "cell_type": "code",
   "execution_count": 2,
   "metadata": {},
   "outputs": [
    {
     "name": "stdout",
     "output_type": "stream",
     "text": [
      "5\n",
      "5\n"
     ]
    }
   ],
   "source": [
    "print(f([2, 3, 5]))\n",
    "print(max([2, 3, 5]))"
   ]
  },
  {
   "cell_type": "markdown",
   "metadata": {
    "lang": "fr"
   },
   "source": [
    "**ESSAYEZ-LE !** Écrivez une fonction *my_fun_plus_one* qui prend un objet fonction, *f*, et un nombre flottant *x* comme arguments d'entrée. *my_fun_plus_one* devrait renvoyer *f* évalué à *x* et le résultat ajouté à la valeur 1. Vérifiez qu'il fonctionne pour diverses fonctions et valeurs de <*>x<*>."
   ]
  },
  {
   "cell_type": "code",
   "execution_count": 3,
   "metadata": {},
   "outputs": [
    {
     "name": "stdout",
     "output_type": "stream",
     "text": [
      "2.0\n",
      "1.0\n",
      "6.0\n"
     ]
    }
   ],
   "source": [
    "import numpy as np \n",
    "\n",
    "def my_fun_plus_one(f, x):\n",
    "    return f(x) + 1\n",
    "\n",
    "print(my_fun_plus_one(np.sin, np.pi/2))\n",
    "print(my_fun_plus_one(np.cos, np.pi/2))\n",
    "print(my_fun_plus_one(np.sqrt, 25))"
   ]
  },
  {
   "cell_type": "markdown",
   "metadata": {
    "lang": "fr"
   },
   "source": [
    "Nous pouvons voir dans l'exemple ci-dessus que différentes fonctions sont utilisées comme entrées dans la fonction. Bien entendu, nous pouvons également utiliser les fonctions lambda."
   ]
  },
  {
   "cell_type": "code",
   "execution_count": 4,
   "metadata": {},
   "outputs": [
    {
     "name": "stdout",
     "output_type": "stream",
     "text": [
      "5\n"
     ]
    }
   ],
   "source": [
    "print(my_fun_plus_one(lambda x: x + 2, 2))"
   ]
  }
 ],
 "metadata": {
  "kernelspec": {
   "display_name": "Python 3 (ipykernel)",
   "language": "python",
   "name": "python3"
  },
  "language_info": {
   "codemirror_mode": {
    "name": "ipython",
    "version": 3
   },
   "file_extension": ".py",
   "mimetype": "text/x-python",
   "name": "python",
   "nbconvert_exporter": "python",
   "pygments_lexer": "ipython3",
   "version": "3.12.2"
  },
  "nbTranslate": {
   "displayLangs": [
    "*"
   ],
   "hotkey": "alt-t",
   "langInMainMenu": true,
   "sourceLang": "en",
   "targetLang": "fr",
   "useGoogleTranslate": true
  }
 },
 "nbformat": 4,
 "nbformat_minor": 2
}
