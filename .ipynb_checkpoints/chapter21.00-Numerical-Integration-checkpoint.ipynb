{
 "cells": [
  {
   "cell_type": "markdown",
   "metadata": {
    "lang": "fr"
   },
   "source": [
    "# Chapitre 21. Intégration numérique"
   ]
  },
  {
   "cell_type": "markdown",
   "metadata": {
    "lang": "fr"
   },
   "source": [
    "#### SOMMAIRE\n",
    "\n",
    "---\n",
    "\n",
    "* [**21.1 Énoncé du problème d'intégration numérique**](chapter21.01-Numerical-Integration-Problem-Statement.ipynb)\n",
    "* [**21.2 Intégrale de Riemann**](chapter21.02-Riemanns-Integral.ipynb)\n",
    "* [**21.3 Règle du trapèze**](chapter21.03-Trapezoid-Rule.ipynb)\n",
    "* [**21.4 La règle de Simpson**](chapter21.04-Simpsons-Rule.ipynb)\n",
    "* [**21.5 Intégrales informatiques en Python**](chapitre21.05-Computing-Integrals-in-Python.ipynb)\n",
    "* [**21.6 Résumé et problèmes**](chapter21.06-Summary-and-Problems.ipynb)"
   ]
  },
  {
   "cell_type": "markdown",
   "metadata": {
    "lang": "fr"
   },
   "source": [
    "---\n",
    "\n",
    "## Motivation\n",
    "\n",
    "L'intégrale d'une fonction est normalement décrite comme « l'aire sous la courbe ». En ingénierie et en sciences, l'intégrale a de nombreuses applications pour la modélisation, la prévision et la compréhension des systèmes physiques. Cependant, en pratique, trouver une solution exacte pour l’intégrale d’une fonction est difficile, voire impossible.\n",
    "\n",
    "Ce chapitre décrit plusieurs méthodes d'intégration numérique de fonctions. À la fin de ce chapitre, vous devriez comprendre ces méthodes, comment elles sont dérivées, leur interprétation géométrique et leur précision.\n",
    "\n",
    "---"
   ]
  }
 ],
 "metadata": {
  "kernelspec": {
   "display_name": "Python 3 (ipykernel)",
   "language": "python",
   "name": "python3"
  },
  "language_info": {
   "codemirror_mode": {
    "name": "ipython",
    "version": 3
   },
   "file_extension": ".py",
   "mimetype": "text/x-python",
   "name": "python",
   "nbconvert_exporter": "python",
   "pygments_lexer": "ipython3",
   "version": "3.11.7"
  },
  "nbTranslate": {
   "displayLangs": [
    "*"
   ],
   "hotkey": "alt-t",
   "langInMainMenu": true,
   "sourceLang": "en",
   "targetLang": "fr",
   "useGoogleTranslate": true
  }
 },
 "nbformat": 4,
 "nbformat_minor": 2
}
