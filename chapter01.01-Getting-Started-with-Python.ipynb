{
 "cells": [
  {
   "cell_type": "markdown",
   "metadata": {
    "button": false,
    "lang": "en",
    "new_sheet": false,
    "run_control": {
     "read_only": false
    }
   },
   "source": [
    "\n"
   ]
  },
  {
   "cell_type": "markdown",
   "metadata": {
    "lang": "fr"
   },
   "source": [
    "<!--BOOK_INFORMATION-->\n",
    "<img align=\"left\" style=\"padding-right:10px;\" src=\"images/book_cover.jpg\" width=\"120\">\n",
    "\n",
    "*Ce cahier contient un extrait de [Programmation Python et méthodes numériques - Un guide pour les ingénieurs et les scientifiques](https://pythonnumericalmethods.berkeley.edu/notebooks/Index.html), le contenu est également disponible sur [Berkeley Python Numerical Methods](https://pythonnumericalmethods.berkeley.edu/notebooks/Index.html).*\n",
    "\n",
    "*Les droits d'auteur du livre appartiennent à Elsevier. Nous avons également ce livre interactif en ligne pour une meilleure expérience d'apprentissage. Le code est publié sous la [licence MIT](https://opensource.org/licenses/MIT). Si vous trouvez ce contenu utile, pensez à soutenir le travail sur [Elsevier](https://www.elsevier.com/books/python-programming-and-numerical-methods/kong/978-0-12-819549-9) ou [Amazon](https://www.amazon.com/Python-Programming-Numerical-Methods-Scientists/dp/0128195495/ref=sr_1_1?dchild=1&keywords=Python+Programming+and+Numerical+Methods+-+A+Guide+for+Engineers+and+Scientists&qid=1604761352&sr=8-1) !*"
   ]
  },
  {
   "cell_type": "markdown",
   "metadata": {
    "button": false,
    "new_sheet": false,
    "run_control": {
     "read_only": false
    }
   },
   "source": [
    "<!--NAVIGATION-->\n",
    "< [1.0 Python Basics](chapter01.00-Python-Basics.ipynb) | [Contents](Index.ipynb) | [1.2 Python as A Calculator](chapter01.02-Python-as-A-Calculator.ipynb) >"
   ]
  },
  {
   "cell_type": "markdown",
   "metadata": {
    "lang": "fr"
   },
   "source": [
    "# Débuter avec Python"
   ]
  },
  {
   "cell_type": "markdown",
   "metadata": {
    "lang": "fr"
   },
   "source": [
    "### Mettre en place un environnement de travail\n",
    "\n",
    "Avant de commencer à utiliser Python, nous devons configurer notre environnement de travail Python sur l'ordinateur. Dans cette section, nous présenterons les processus pour démarrer.\n",
    "\n",
    "Il existe différentes manières d'installer Python et les packages associés, nous vous recommandons ici d'utiliser [Anaconda](https://www.anaconda.com/download/) ou [Miniconda](https://conda.io/miniconda.html) pour installer et gérer vos packages. Selon le *système d'exploitation* (OS) que vous utilisez, c'est-à-dire Windows, Mac OS X ou Linux, vous devez télécharger un programme d'installation spécifique pour votre machine. Anaconda et Miniconda visent à fournir des moyens simples de gérer l'environnement de travail Python dans le calcul scientifique et les sciences des données.\n",
    "\n",
    "Ici, nous utiliserons Mac OS X comme exemple pour vous montrer les processus d'installation. Pour les utilisateurs de Windows, veuillez ignorer le reste de cette section et lire [Annexe A](Appendix01-Getting-Started-with-Python-Windows.ipynb) pour tous les processus. Les principales différences entre Anaconda et Miniconda sont :\n",
    "\n",
    "* **Anaconda** est un framework de distribution complet qui comprend l'interpréteur Python, le gestionnaire de packages ainsi que les packages couramment utilisés en calcul scientifique.\n",
    "* **Miniconda** est une version allégée d'Anaconda qui n'inclut pas les packages courants, vous devez donc installer tous les différents packages par vous-même. Mais il dispose de l'interpréteur Python et du gestionnaire de packages.\n",
    "\n",
    "L'option que nous choisissons ici est d'utiliser Miniconda pour gérer notre installation des packages. De cette façon, nous ne pouvons installer que ceux dont nous avons besoin."
   ]
  },
  {
   "cell_type": "markdown",
   "metadata": {
    "lang": "fr"
   },
   "source": [
    "Le processus d'installation de Miniconda est décrit ci-dessous :\n",
    "\n",
    "**Étape 1 : Téléchargez le programme d'installation de Miniconda à partir du [site Web](https://conda.io/miniconda.html)**\n",
    "\n",
    "Ici, vous pouvez choisir un programme d'installation différent en fonction de votre système d'exploitation. Nous choisissons Mac OS X et Python 3.7 comme exemple.\n",
    "\n",
    "![Miniconda_téléchargement](images/01.01.1-miniconda_page.png \"La page de téléchargement de Miniconda, choisissez le programme d'installation en fonction de votre système d'exploitation.\")\n",
    "\n",
    "**Étape 2 : Exécutez le programme d'installation depuis le terminal :**\n",
    "\n",
    "Après avoir exécuté le programme d’installation, suivez le guide et vous l’installerez avec succès.\n",
    "\n",
    "![Run_installer](images/01.01.2-run_miniconda_installer.png \"Capture d'écran de l'exécution du programme d'installation dans un terminal.\")\n",
    "\n",
    "Une chose à noter est que vous pouvez modifier l'emplacement d'installation en lui donnant un autre emplacement sur votre ordinateur, mais la valeur par défaut est votre répertoire personnel.\n",
    "\n",
    "![Default_location](images/01.01.3-default_miniconda_location.png \"L'emplacement d'installation par défaut de votre système de fichiers.\")\n",
    "\n",
    "Après l'installation, vous pouvez vérifier les packages installés en tapant les commandes suivantes :\n",
    "\n",
    "![Quick_check](images/01.01.4-miniconda_check.png \"Un moyen rapide de vérifier si votre Miniconda installé fonctionne correctement.\")\n",
    "\n",
    "**Étape 3 : Installez les packages de base utilisés dans ce livre**\n",
    "\n",
    "Installons d'abord quelques packages pour notre livre - `ipython`, `numpy`, `scipy`, `pandas`, `matplotlib` et `jupyter notebook`. Nous parlerons davantage de la gestion des packages utilisant `pip` et `conda` plus tard.\n",
    "\n",
    "![Install_packages](images/01.01.5-install_packages.png \"Processus d'installation des packages qui seront utilisés dans le reste du livre.\")"
   ]
  },
  {
   "cell_type": "markdown",
   "metadata": {
    "lang": "fr"
   },
   "source": [
    "### Trois façons d'exécuter du code Python\n",
    "\n",
    "Il existe différentes manières d'exécuter du code Python, elles ont toutes des usages différents. Dans cette section, nous présenterons rapidement les trois façons différentes de vous aider à démarrer.\n",
    "\n",
    "**Utilisation du shell Python ou du shell Ipython**\n",
    "\n",
    "Le moyen le plus simple d'exécuter du code Python consiste à utiliser le shell Python ou Ipython Shell (qui signifie Interactive Python). Le shell Ipython est plus riche que le shell Python, comme la saisie semi-automatique des onglets, les messages d'erreur surlignés en couleur, l'intégration de base du shell UNIX, etc. Puisque nous venons d'installer Ipython, essayons d'exécuter l'exemple \"hello world\" avec. La façon dont nous lançons le shell Python ou Ipython consiste à le saisir dans un terminal (voir la figure ci-dessous). Ensuite, nous pouvons exécuter la commande Python en la tapant dans le shell, en appuyant sur « Entrée », nous voyons immédiatement les résultats de la commande. Par exemple, nous pouvons imprimer « Hello World » en tapant « print(\"Hello World\") :\n",
    "\n",
    "![Hello_world](images/01.01.6-ipython_example.png \"Exécutez Hello World dans le shell Ipython en tapant la commande, print est une fonction que nous apprendrons plus tard pour imprimer tout ce qui se trouve entre parenthèses .\")\n",
    "\n",
    "Dans la commande ci-dessus, *print()* est une fonction en Python et \"Hello World\" est un type de données chaîne que nous les présenterons plus tard dans le livre.\n",
    "\n",
    "**Exécutez le script/fichier Python à partir de la ligne de commande**\n",
    "\n",
    "La deuxième façon d'exécuter du code Python consiste à placer toutes les commandes dans un fichier et à l'enregistrer sous un fichier avec l'extension « .py » (l'extension du fichier peut être n'importe quoi, mais par convention, il s'agit généralement de « .py »). . Par exemple, utilisez votre éditeur de texte préféré (ici le [Visual Studio Code](https://code.visualstudio.com)), placez la commande dans un fichier appelé *hello_world.py* :\n",
    "\n",
    "![Python_file](images/01.01.7-python_file_example.png \"Un exemple de fichier de script Python utilisant Visual Studio Code. Vous saisissez les commandes que vous souhaitez exécuter et enregistrez le fichier avec un nom propre.\")\n",
    "\n",
    "Ensuite, exécutez-le depuis le terminal :\n",
    "\n",
    "![Run_python](images/01.01.8-run_python_file.png \"Pour exécuter le script Python depuis la ligne de commande, nous pouvons taper python hello_world.py. Cette ligne dit à Python que nous exécuterons les commandes enregistrées dans ce fichier.\")\n",
    "\n",
    "\n",
    "**Utilisation du bloc-notes Jupyter**\n",
    "\n",
    "La troisième façon d'exécuter Python consiste à utiliser **Jupyter notebook**. Il s'agit d'un environnement Python basé sur un navigateur très puissant, nous en parlerons plus en détail plus tard dans ce chapitre. Ici, nous voyons rapidement comment nous pourrions exécuter le code à partir d'un notebook Jupyter. Exécutez le « jupyter notebook » dans la ligne de commande bash :\n",
    "\n",
    "```bash\n",
    "cahier jupyter\n",
    "```\n",
    "\n",
    "Ensuite, vous verrez une page Web locale apparaître, à partir du bouton supérieur droit pour créer un nouveau notebook Python3 :\n",
    "\n",
    "![Launching_jupyter](images/01.01.9-launching_jupyter.png \"Pour lancer un serveur de notebook Jupyter, tapez jupyter notebook dans la ligne de commande, ce qui ouvrira une page de navigateur comme indiqué ici. Cliquez sur Nouveau en haut, écrivez et choisissez Python3 pour créer un bloc-notes Python pour exécuter le code Python.\")\n",
    "\n",
    "Exécuter du code dans le notebook Jupyter est simple, vous tapez votre code dans la cellule et appuyez sur « Shift + Enter » pour exécuter la cellule, les résultats seront affichés sous le code.\n",
    "\n",
    "![Notebook_example](images/01.01.10-run_code_jupyter.png \"Exécutez l'exemple Hello World dans le notebook Jupyter. Tapez la commande dans la cellule de code (les cases grises) et appuyez sur shift + enter pour l'exécuter.\")"
   ]
  },
  {
   "cell_type": "markdown",
   "metadata": {
    "lang": "fr"
   },
   "source": [
    "### Le Zen de Python\n",
    "\n",
    "Ok, dans la section précédente, nous avons appris comment configurer notre environnement de travail et exécuter Python de différentes manières. Terminons cette section en voyant le fameux « Le Zen de Python » en exécutant la commande suivante de l'une des 3 manières suivantes. Vous ne comprenez peut-être pas les résultats maintenant, mais avec le temps, je suis sûr que vous découvrirez à quel point cela est utile."
   ]
  },
  {
   "cell_type": "code",
   "execution_count": 1,
   "metadata": {
    "button": false,
    "new_sheet": false,
    "run_control": {
     "read_only": false
    }
   },
   "outputs": [
    {
     "name": "stdout",
     "output_type": "stream",
     "text": [
      "The Zen of Python, by Tim Peters\n",
      "\n",
      "Beautiful is better than ugly.\n",
      "Explicit is better than implicit.\n",
      "Simple is better than complex.\n",
      "Complex is better than complicated.\n",
      "Flat is better than nested.\n",
      "Sparse is better than dense.\n",
      "Readability counts.\n",
      "Special cases aren't special enough to break the rules.\n",
      "Although practicality beats purity.\n",
      "Errors should never pass silently.\n",
      "Unless explicitly silenced.\n",
      "In the face of ambiguity, refuse the temptation to guess.\n",
      "There should be one-- and preferably only one --obvious way to do it.\n",
      "Although that way may not be obvious at first unless you're Dutch.\n",
      "Now is better than never.\n",
      "Although never is often better than *right* now.\n",
      "If the implementation is hard to explain, it's a bad idea.\n",
      "If the implementation is easy to explain, it may be a good idea.\n",
      "Namespaces are one honking great idea -- let's do more of those!\n"
     ]
    }
   ],
   "source": [
    "import this"
   ]
  },
  {
   "cell_type": "markdown",
   "metadata": {
    "button": false,
    "new_sheet": false,
    "run_control": {
     "read_only": false
    }
   },
   "source": [
    "<!--NAVIGATION-->\n",
    "< [1.0 Python Basics](chapter01.00-Python-Basics.ipynb) | [Contents](Index.ipynb) | [1.2 Python as A Calculator](chapter01.02-Python-as-A-Calculator.ipynb) >"
   ]
  }
 ],
 "metadata": {
  "kernelspec": {
   "display_name": "Python 3 (ipykernel)",
   "language": "python",
   "name": "python3"
  },
  "language_info": {
   "codemirror_mode": {
    "name": "ipython",
    "version": 3
   },
   "file_extension": ".py",
   "mimetype": "text/x-python",
   "name": "python",
   "nbconvert_exporter": "python",
   "pygments_lexer": "ipython3",
   "version": "3.11.7"
  },
  "nbTranslate": {
   "displayLangs": [
    "*"
   ],
   "hotkey": "alt-t",
   "langInMainMenu": true,
   "sourceLang": "en",
   "targetLang": "fr",
   "useGoogleTranslate": true
  }
 },
 "nbformat": 4,
 "nbformat_minor": 4
}
