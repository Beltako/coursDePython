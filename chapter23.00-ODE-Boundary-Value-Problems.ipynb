{
 "cells": [
  {
   "cell_type": "markdown",
   "metadata": {
    "button": false,
    "new_sheet": false,
    "run_control": {
     "read_only": false
    }
   },
   "source": [
    "<!--BOOK_INFORMATION-->\n",
    "<img align=\"left\" style=\"padding-right:10px;\" src=\"images/book_cover.jpg\" width=\"120\">\n",
    "\n",
    "*Ce cahier contient un extrait de [Programmation Python et méthodes numériques - Un guide pour les ingénieurs et les scientifiques](https://pythonnumericalmethods.berkeley.edu/notebooks/Index.html), le contenu est également disponible sur [Berkeley Python Numerical Methods](https://pythonnumericalmethods.berkeley.edu/notebooks/Index.html).*\n",
    "\n",
    "*Les droits d'auteur du livre appartiennent à Elsevier. Nous avons également ce livre interactif en ligne pour une meilleure expérience d'apprentissage. Le code est publié sous la [licence MIT](https://opensource.org/licenses/MIT). Si vous trouvez ce contenu utile, pensez à soutenir le travail sur [Elsevier](https://www.elsevier.com/books/python-programming-and-numerical-methods/kong/978-0-12-819549-9) ou [Amazon](https://www.amazon.com/Python-Programming-Numerical-Methods-Scientists/dp/0128195495/ref=sr_1_1?dchild=1&keywords=Python+Programming+and+Numerical+Methods+-+A+Guide+for+Engineers+and+Scientists&qid=1604761352&sr=8-1) !*"
   ]
  },
  {
   "cell_type": "markdown",
   "metadata": {
    "button": false,
    "new_sheet": false,
    "run_control": {
     "read_only": false
    }
   },
   "source": [
    "<!--NAVIGATION-->\n",
    "< [22.8 Summary and Problems](chapter22.08-Summary-and-Problems.ipynb) | [Contents](Index.ipynb) | [23.1 ODE Boundary Value Problem Statement](chapter23.01-ODE-Boundary-Value-Problem-Statement.ipynb) >"
   ]
  },
  {
   "cell_type": "markdown",
   "metadata": {
    "button": false,
    "new_sheet": false,
    "run_control": {
     "read_only": false
    }
   },
   "source": [
    "# Chapitre 23. Équation différentielle ordinaire - Problèmes de valeurs aux limites"
   ]
  },
  {
   "cell_type": "markdown",
   "metadata": {
    "lang": "fr"
   },
   "source": [
    "#### SOMMAIRE\n",
    "\n",
    "---\n",
    "\n",
    "* [**23.1 Énoncé du problème de valeur limite ODE**](chapter23.01-ODE-Boundary-Value-Problem-Statement.ipynb)\n",
    "* [**23.2 La méthode de prise de vue**](chapter23.02-The-Shooting-Method.ipynb)\n",
    "* [**23.3 Méthode des différences finies**](chapter23.03-Finite-Difference-Method.ipynb)\n",
    "* [**23.4 Erreur numérique et instabilité**](chapter23.04-Numerical-Error-and-Instability.ipynb)\n",
    "* [**23.5 Résumé et problèmes**](chapter23.05-Summary-and-Problems.ipynb)"
   ]
  },
  {
   "cell_type": "markdown",
   "metadata": {
    "lang": "fr"
   },
   "source": [
    "---\n",
    "\n",
    "## Motivation\n",
    "\n",
    "Après la discussion des problèmes de valeurs initiales ODE, dans ce chapitre, nous présenterons un autre type de problèmes : les problèmes de valeurs limites.\n",
    "\n",
    "Le problème des valeurs limites dans ODE est une équation différentielle ordinaire associée à un ensemble de contraintes supplémentaires, c'est-à-dire des conditions aux limites. Il existe de nombreux problèmes de valeurs limites en science et en ingénierie. Par conséquent, ce chapitre couvre les bases des équations différentielles ordinaires avec des valeurs limites spécifiées. Nous discuterons de deux méthodes pour résoudre les problèmes de valeurs limites, les méthodes de tir et les méthodes de différences finies. À la fin de ce chapitre, vous devriez comprendre ce que sont les problèmes de valeurs limites d'équations différentielles ordinaires, comment poser ces problèmes à Python et comment les résoudre.\n",
    "\n",
    "---"
   ]
  }
 ],
 "metadata": {
  "kernelspec": {
   "display_name": "Python 3 (ipykernel)",
   "language": "python",
   "name": "python3"
  },
  "language_info": {
   "codemirror_mode": {
    "name": "ipython",
    "version": 3
   },
   "file_extension": ".py",
   "mimetype": "text/x-python",
   "name": "python",
   "nbconvert_exporter": "python",
   "pygments_lexer": "ipython3",
   "version": "3.11.7"
  },
  "nbTranslate": {
   "displayLangs": [
    "*"
   ],
   "hotkey": "alt-t",
   "langInMainMenu": true,
   "sourceLang": "en",
   "targetLang": "fr",
   "useGoogleTranslate": true
  }
 },
 "nbformat": 4,
 "nbformat_minor": 2
}
