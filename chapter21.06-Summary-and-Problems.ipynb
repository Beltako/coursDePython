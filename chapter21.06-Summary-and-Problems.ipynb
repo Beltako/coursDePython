{
 "cells": [
  {
   "cell_type": "markdown",
   "metadata": {
    "button": false,
    "new_sheet": false,
    "run_control": {
     "read_only": false
    }
   },
   "source": [
    "<!--BOOK_INFORMATION-->\n",
    "<img align=\"left\" style=\"padding-right:10px;\" src=\"images/book_cover.jpg\" width=\"120\">\n",
    "\n",
    "*Ce cahier contient un extrait de [Programmation Python et méthodes numériques - Un guide pour les ingénieurs et les scientifiques](https://pythonnumericalmethods.berkeley.edu/notebooks/Index.html), le contenu est également disponible sur [Berkeley Python Numerical Methods](https://pythonnumericalmethods.berkeley.edu/notebooks/Index.html).*\n",
    "\n",
    "*Les droits d'auteur du livre appartiennent à Elsevier. Nous avons également ce livre interactif en ligne pour une meilleure expérience d'apprentissage. Le code est publié sous la [licence MIT](https://opensource.org/licenses/MIT). Si vous trouvez ce contenu utile, pensez à soutenir le travail sur [Elsevier](https://www.elsevier.com/books/python-programming-and-numerical-methods/kong/978-0-12-819549-9) ou [Amazon](https://www.amazon.com/Python-Programming-Numerical-Methods-Scientists/dp/0128195495/ref=sr_1_1?dchild=1&keywords=Python+Programming+and+Numerical+Methods+-+A+Guide+for+Engineers+and+Scientists&qid=1604761352&sr=8-1) !*"
   ]
  },
  {
   "cell_type": "markdown",
   "metadata": {
    "button": false,
    "new_sheet": false,
    "run_control": {
     "read_only": false
    }
   },
   "source": [
    "<!--NAVIGATION-->\n",
    "< [21.5 Computing Integrals in Python](chapter21.05-Computing-Integrals-in-Python.ipynb) | [Contents](Index.ipynb) | [CHAPTER 22. Ordinary Differential Equations (ODEs): Initial-Value Problems](chapter22.00-ODE-Initial-Value-Problems.ipynb) >"
   ]
  },
  {
   "cell_type": "markdown",
   "metadata": {
    "lang": "fr"
   },
   "source": [
    "# Résumé\n",
    "\n",
    "\n",
    "1. L’intégration explicite des fonctions est souvent impossible ou peu pratique, et des approches numériques doivent être utilisées à la place.\n",
    "2. L'intégrale de Riemann, la règle du trapèze et la règle de Simpson sont des méthodes courantes d'approximation des intégrales.\n",
    "3. Chaque méthode a un ordre de précision qui dépend de l’approximation de l’aire située sous la fonction."
   ]
  },
  {
   "cell_type": "markdown",
   "metadata": {
    "lang": "fr"
   },
   "source": [
    "# Problèmes\n",
    "\n",
    "1. Écrivez une fonction $my\\_int\\_calc(f, f0, a, b, N, option)$, où $f$ est un objet fonction, $a$ et $b$ sont des scalaires tels que a < b, $N$ est un entier positif et $option$ est la chaîne 'rect', 'trap' ou 'simp'. Soit $x$ un tableau commençant à $a$ et se terminant à $b$, contenant des éléments $N$ régulièrement espacés. L'argument de sortie, $I$, doit être une approximation de l'intégrale de $f(x)$, avec la condition initiale $f0$, calculée en fonction de l'argument d'entrée, $option$.\n",
    "\n",
    "2. Écrivez une fonction $my\\_poly\\_int(x, y)$, où $x$ et $y$ sont des tableaux unidimensionnels de même taille, et les éléments de $x$ sont uniques et classés par ordre croissant. La fonction $my\\_poly\\_int$ doit (1) calculer le polynôme de Lagrange passant par tous les points définis par $x$ et $y$ et (2) renvoyer une approximation de l'aire sous la courbe définie par $x$ et $y$, $I$, définie comme l'intégrale analytique du Lagrange polynôme interpolant.\n",
    "\n",
    "3. Quand $my\\_poly\\_int$ fonctionnera-t-il *pire* que la méthode du trapèze ?\n",
    "\n",
    "4. Écrivez une fonction $my\\_num\\_calc(f, a, b, n, option)$, où la sortie $I$ est l'intégrale numérique de $f$, un objet fonction, calculé sur une grille de $n$ points régulièrement espacés commençant à $a$ et se terminant à $b$. La méthode d'intégration utilisée doit être l'une des chaînes suivantes définies par option : 'rect', 'trap', 'simp'. Pour la méthode du rectangle, la valeur de la fonction doit être extraite de l’extrémité droite de l’intervalle. Vous pouvez supposer que $n$ est étrange.\n",
    "\n",
    " Attention : dans le lecteur, les indices $x$ commencent par $x_0$ et non par $x_1$ ; prenez-en note lors de la programmation de vos boucles. Les indices pairs et impairs seront inversés. De plus, le terme $n$ donné dans la règle de Simpsons désigne le nombre de sous-intervalles, et non le nombre de points spécifié par l'argument d'entrée, $n$.\n",
    "\n",
    " Cas de tests :\n",
    " \n",
    " ```python\n",
    " Dans : f = lambda x : x**2\n",
    "     mon_num_int(f, 0, 1, 3, 'rect')\n",
    " Sortie : 0,625\n",
    "    \n",
    " Dans : mon_num_int(f, 0, 1, 3, 'trap')\n",
    " Sortie : 0,375\n",
    "    \n",
    " Dans : mon_num_int(f, 0, 1, 3, 'simp')\n",
    " Sortie : 0,3333333333333333\n",
    "    \n",
    " Dans : f = lambda x : np.exp(x**2)\n",
    "     mon_num_int(f, -1, 1, 101, 'simp')\n",
    " Sortie : 2.9253035883926493\n",
    "    \n",
    " Dans : mon_num_int(f, -1, 1, 10001, 'simp')\n",
    " Sortant : 2.925303491814364\n",
    "    \n",
    " Dans : mon_num_int(f, -1, 1, 100001, 'simp')\n",
    " Sortie : 2.9253034918143634\n",
    " ```\n",
    " \n",
    "5. Un chapitre précédent a démontré que certaines fonctions peuvent être exprimées comme une somme infinie de polynômes (c'est-à-dire une série de Taylor). D'autres fonctions, en particulier les fonctions périodiques, peuvent être écrites comme une somme infinie d'ondes sinusoïdales et cosinusoïdales. Pour ces fonctions,\n",
    "\n",
    " $$f(x)= \\frac{A_0}{2}+\\sum_{n=1}^{\\infty}A_n\\ \\cos{(nx)} + B_n\\ \\sin{(nx)}$$\n",
    "\n",
    " On peut montrer que les valeurs de $A_n$ et $B_n$ peuvent être calculées à l’aide des formules suivantes :\n",
    "\n",
    " $$A_n= \\frac{1}{\\pi} \\int_{-\\pi}^{\\pi} f(x) \\cos{(nx)}\\ dx$$\n",
    " $$B_n= \\frac{1}{\\pi} \\int_{-\\pi}^{\\pi} f(x) \\sin{(nx)}\\ dx$$\n",
    "\n",
    " Tout comme les séries de Taylor, les fonctions peuvent être approchées en tronquant la série de Fourier à un certain $n = N$. Les séries de Fourier peuvent être utilisées pour approximer certaines fonctions particulièrement désagréables telles que la fonction échelon, et elles constituent la base de nombreuses applications d'ingénierie telles que le traitement du signal.\n",
    "\n",
    " Écrivez une fonction $my\\_fourier\\_coef(f, n)$, avec la sortie $[A_n, B_n]$, où $f$ est un objet fonction périodique $2\\pi$. La fonction $my\\_fourier\\_coef$ doit calculer les coefficients de Fourier $n$-ème, $A_n$ et $B_n$, dans la série de Fourier pour $f$ définie par les deux formules données précédemment. Vous devez utiliser la fonction $quad$ pour effectuer l'intégration.\n",
    " \n",
    " Cas de tests :\n",
    " \n",
    " Utilisez la fonction de traçage suivante pour tracer l'analyse et l'approximation des fonctions à l'aide de la série de Fourier.\n",
    " \n",
    " ```python\n",
    "  def plot_results(f, N):\n",
    "     x = np.linspace(-np.pi, np.pi, 10000)\n",
    "     [A0, B0] = mon_fourier_coef(f, 0)\n",
    "     y = A0*np.ones(len(x))/2\n",
    "     pour n dans la plage (1, N):\n",
    "         [An, Bn] = mon_fourier_coef(f, n)\n",
    "         y += An*np.cos(n*x)+Bn*np.sin(n*x)\n",
    "     plt.figure (taille de la figure = (10,6))\n",
    "     plt.plot(x, f(x), label = 'analytic')\n",
    "     plt.plot(x, y, label = 'approximatif')\n",
    "     plt.xlabel('x')\n",
    "     plt.ylabel('y')\n",
    "     plt.grid()\n",
    "     plt.legend()\n",
    "     plt.title(f'{N}ième approximation de Fourier d'ordre')\n",
    "     plt.show()\n",
    "    \n",
    "  f = lambda x : np.sin(np.exp(x))\n",
    "  N = 2\n",
    "  tracé_résultats(f, N)\n",
    " ```\n",
    " ![](images/21.06.01-Solution_for_Question_4.jpg \"Cas de test pour la question 5\")\n",
    "\n",
    " ```python\n",
    "  N = 2\n",
    "  tracé_résultats(f, N)\n",
    " ```\n",
    " ![](images/21.06.02-Solution_for_Question_4.jpg \"Cas de test pour la question 5\")\n",
    "\n",
    " ```python\n",
    "  f = lambda x : np.mod(x, np.pi/2)\n",
    "  N = 5\n",
    "  tracé_résultats(f, N)\n",
    " ```\n",
    " ![](images/21.06.03-Solution_for_Question_4.jpg \"Cas de test pour la question 5\")\n",
    "\n",
    " ```python\n",
    "  N = 20\n",
    "  tracé_résultats(f, N)\n",
    " ```\n",
    " ![](images/21.06.04-Solution_for_Question_4.jpg \"Cas de test pour la question 5\")\n",
    " \n",
    " ```python\n",
    "  f = lambda x : (x > -np.pi/2) & (x < np.pi/2)\n",
    "  N = 2\n",
    "  tracé_résultats(f, N)\n",
    " ```\n",
    " ![](images/21.06.05-Solution_for_Question_4.jpg \"Cas de test pour la question 5\")\n",
    "\n",
    " ```python\n",
    "  N = 20\n",
    "  tracé_résultats(f, N)\n",
    " ```\n",
    " ![](images/21.06.06-Solution_for_Question_4.jpg \"Cas de test pour la question 5\")\n",
    " \n",
    "6. Pour une grille numérique avec un espacement $h$, la règle de Boole pour approximer les intégrales dit que\n",
    "\n",
    " $$\\int_{x_i}^{x_{i+4}} f(x) dx \\approx \\frac{3h}{90} \\left[7f(x_i)+32f(x_{i+1})+12f(x_{i+2})+32f(x_{i+3})+7f(x_{i+4})\\right].$$\n",
    "\n",
    " Montrer que la règle de Boole est $O(h^7)$ sur un seul sous-intervalle."
   ]
  },
  {
   "cell_type": "markdown",
   "metadata": {
    "button": false,
    "new_sheet": false,
    "run_control": {
     "read_only": false
    }
   },
   "source": [
    "<!--NAVIGATION-->\n",
    "< [21.5 Computing Integrals in Python](chapter21.05-Computing-Integrals-in-Python.ipynb) | [Contents](Index.ipynb) | [CHAPTER 22. Ordinary Differential Equations (ODEs): Initial-Value Problems](chapter22.00-ODE-Initial-Value-Problems.ipynb) >"
   ]
  }
 ],
 "metadata": {
  "kernelspec": {
   "display_name": "Python 3 (ipykernel)",
   "language": "python",
   "name": "python3"
  },
  "language_info": {
   "codemirror_mode": {
    "name": "ipython",
    "version": 3
   },
   "file_extension": ".py",
   "mimetype": "text/x-python",
   "name": "python",
   "nbconvert_exporter": "python",
   "pygments_lexer": "ipython3",
   "version": "3.11.7"
  },
  "nbTranslate": {
   "displayLangs": [
    "*"
   ],
   "hotkey": "alt-t",
   "langInMainMenu": true,
   "sourceLang": "en",
   "targetLang": "fr",
   "useGoogleTranslate": true
  }
 },
 "nbformat": 4,
 "nbformat_minor": 2
}
