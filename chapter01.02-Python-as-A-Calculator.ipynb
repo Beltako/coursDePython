{
 "cells": [
  {
   "cell_type": "markdown",
   "metadata": {
    "lang": "fr"
   },
   "source": [
    "# 1.2 Python comme calculatrice\n",
    "\n",
    "Nous vous présenterons Python en démontrant les fonctionnalités trouvées dans n'importe quelle calculatrice graphique standard. Une **opération arithmétique** est soit une addition, une soustraction, une multiplication, une division ou des puissances entre deux nombres. Un **opérateur arithmétique** est un symbole que Python a réservé pour désigner l'une des opérations susmentionnées. Ces symboles sont + pour l'addition, - pour la soustraction, *pour la multiplication, / pour la division et \\**pour l'exponentiation.\n",
    "\n",
    "On dit qu'une instruction ou une opération est**exécutée** lorsqu'elle est résolue par l'ordinateur. Une instruction est exécutée à l'invite de commande en la tapant là où vous voyez le symbole >>> dans le shell Python (ou `In [1]:` connectez-vous dans Ipython), puis en appuyant sur `Entrée`. Ou tapez-le dans la cellule de code du bloc-notes Jupyter et appuyez sur « Maj + Entrée ». Puisque nous utiliserons le notebook Jupyter pour le reste du livre, nous montrerons ici tous les exemples dans le shell Ipython (le shell Python est similaire), afin que vous puissiez vous familiariser avec les différentes options."
   ]
  },
  {
   "cell_type": "markdown",
   "metadata": {
    "lang": "fr"
   },
   "source": [
    "**ESSAYEZ-LE !** Calculez la somme de 1 et 2.\n",
    "\n",
    "```python\n",
    "Dans  [1] : 1 + 2\n",
    "Sortie[1] : 3\n",
    "```"
   ]
  },
  {
   "cell_type": "markdown",
   "metadata": {
    "lang": "fr"
   },
   "source": [
    "Un **ordre des opérations** est un ordre de priorité standard que différentes opérations ont les unes par rapport aux autres. Python utilise le même ordre d'opérations que celui que vous avez appris à l'école primaire. Les puissances sont exécutées avant la multiplication et la division, qui sont exécutées avant l'addition et la soustraction. Les parenthèses, (), peuvent également être utilisées en Python pour remplacer l'ordre standard des opérations."
   ]
  },
  {
   "cell_type": "markdown",
   "metadata": {
    "lang": "fr"
   },
   "source": [
    "**ESSAYEZ-LE !** Calculez $\\frac{3*4}{(2^2+4/2)}$.\n",
    "\n",
    "```python\n",
    "Dans [2] : (3*4)/(2**2 + 4/2)\n",
    "Sortie[2] : 2,0\n",
    "```"
   ]
  },
  {
   "cell_type": "markdown",
   "metadata": {
    "lang": "fr"
   },
   "source": [
    "**CONSEIL !** Vous avez peut-être remarqué que `Out[2]` est la valeur résultante de la dernière opération exécutée. Vous pouvez utiliser le symbole _ pour représenter ce résultat afin de diviser des expressions compliquées en commandes plus simples."
   ]
  },
  {
   "cell_type": "markdown",
   "metadata": {
    "lang": "fr"
   },
   "source": [
    "**ESSAYEZ-LE !** Calculez 3 divisé par 4, puis multipliez le résultat par 2, puis augmentez le résultat à la puissance 3.\n",
    "\n",
    "```python\n",
    "Dans [3]  : 3/4\n",
    "Sortie[3] : 0,75\n",
    "\n",
    "Dans [4]  : _*2\n",
    "Sortie[4] : 1,5\n",
    "\n",
    "Dans [5]  : _**3\n",
    "Sortie[5] : 3,375\n",
    "```"
   ]
  },
  {
   "cell_type": "markdown",
   "metadata": {
    "lang": "fr"
   },
   "source": [
    "Python possède de nombreuses fonctions arithmétiques de base comme `sin`, `cos`, `tan`, `asin`, `acos`, `atan`, `exp`, `log`, `log10` et `sqrt` stockées dans un module. (Nous l'expliquerons plus tard dans ce chapitre) appelé **math**. Nous pouvons d'abord importer ce module pour accéder à ces fonctions.\n",
    "\n",
    "```python\n",
    "Dans [6] : import math\n",
    "```"
   ]
  },
  {
   "cell_type": "markdown",
   "metadata": {
    "lang": "fr"
   },
   "source": [
    "**CONSEIL !** Dans le notebook Jupyter et Ipython, vous pouvez avoir un aperçu rapide du contenu du module en tapant le « nom du module + point + TAB ». De plus, si vous tapez les premières lettres de la fonction et appuyez sur TAB, la fonction sera automatiquement complétée pour vous, ce qu'on appelle la complétion TAB.\n",
    "\n",
    "![Tab_achèvement](images/01.02.01-ipython_tab.png \"Un exemple pour montrer la recherche interactive de fonctions dans Ipython\")"
   ]
  },
  {
   "cell_type": "markdown",
   "metadata": {
    "lang": "fr"
   },
   "source": [
    "La façon dont nous utilisons ces fonctions mathématiques est `module.function`, leurs entrées sont toujours placées entre parenthèses qui sont connectées au nom de la fonction. Pour les fonctions trigonométriques, il est utile de disposer de la valeur de $\\pi$. Vous pouvez appeler cette valeur à tout moment en tapant « math.pi » dans la cellule de code. Notez que la valeur de $\\pi$ est stockée en Python sur 16 chiffres."
   ]
  },
  {
   "cell_type": "markdown",
   "metadata": {
    "lang": "fr"
   },
   "source": [
    "**ESSAYEZ-LE !** Trouvez la racine carrée de 4.\n",
    "\n",
    "```python\n",
    "Dans [7]  : math.sqrt(4)\n",
    "Sortie[7] : 2.0\n",
    "```"
   ]
  },
  {
   "cell_type": "markdown",
   "metadata": {
    "lang": "fr"
   },
   "source": [
    "**ESSAYEZ-LE !** Calculez le $sin(\\frac{\\pi}{2})$.\n",
    "\n",
    "```python\n",
    "Dans [8]  : math.sin(math.pi/2)\n",
    "Sortie[8] : 1.0\n",
    "```"
   ]
  },
  {
   "cell_type": "markdown",
   "metadata": {
    "lang": "fr"
   },
   "source": [
    "Python composera les fonctions comme prévu, la fonction la plus interne étant exécutée en premier. Il en va de même pour les appels de fonction composés d’opérations arithmétiques."
   ]
  },
  {
   "cell_type": "markdown",
   "metadata": {
    "lang": "fr"
   },
   "source": [
    "**ESSAYEZ-LE !** Calculez $e^{log10}$.\n",
    "\n",
    "```python\n",
    "Dans [9] : math.exp(math.log(10))\n",
    "Sortie[9] : 10.000000000000002\n",
    "```\n",
    "\n",
    "Notez que la fonction `log` en Python est $log_e$, ou le logarithme népérien. Ce n'est pas $log_{10}$. Si vous souhaitez utiliser $log_{10}$, vous devez utiliser `math.log10`."
   ]
  },
  {
   "cell_type": "markdown",
   "metadata": {
    "lang": "fr"
   },
   "source": [
    "**CONSEIL !** Vous pouvez voir que le résultat ci-dessus devrait être 10, mais il affiche 10.000000000000002, cela est dû à l'approximation numérique de Python, que nous apprendrons plus au chapitre 9."
   ]
  },
  {
   "cell_type": "markdown",
   "metadata": {
    "lang": "fr"
   },
   "source": [
    "**ESSAYEZ-LE !** Calculez $e^\\frac{3}{4}$\n",
    "\n",
    "```python\n",
    "Dans [10]  : math.exp(3/4)\n",
    "Sortie[10] : 2.117000016612675\n",
    "```"
   ]
  },
  {
   "cell_type": "markdown",
   "metadata": {
    "lang": "fr"
   },
   "source": [
    "**CONSEIL !** L'utilisation de la FLÈCHE VERS LE HAUT dans l'invite de commande rappelle les commandes précédentes qui ont été exécutées. Si vous tapez accidentellement une commande incorrecte, vous pouvez utiliser la FLÈCHE VERS LE HAUT pour la rappeler, puis la modifier au lieu de retaper toute la ligne."
   ]
  },
  {
   "cell_type": "markdown",
   "metadata": {
    "lang": "fr"
   },
   "source": [
    "Souvent, lorsque vous utilisez une fonction en Python, vous souhaitez obtenir de l'aide sur le contexte de la fonction. Dans le notebook Ipython ou Jupyter, vous pouvez afficher la description de n'importe quelle fonction en tapant « fonction ? », c'est-à-dire que le point d'interrogation est un raccourci pour obtenir de l'aide. Si vous voyez une fonction avec laquelle vous n'êtes pas familier, il est conseillé d'utiliser le point d'interrogation avant de demander à vos instructeurs à quoi sert une fonction spécifique."
   ]
  },
  {
   "cell_type": "markdown",
   "metadata": {
    "lang": "fr"
   },
   "source": [
    "**ATTENTION !** Pour certaines fonctions, le fichier d'aide peut être extrêmement compliqué et verbeux, même pour des fonctions simples. Dans ces cas-là, n’hésitez pas à demander de l’aide à votre moniteur."
   ]
  },
  {
   "cell_type": "markdown",
   "metadata": {
    "lang": "fr"
   },
   "source": [
    "**ESSAYEZ-LE !** Utilisez le point d'interrogation pour trouver la définition de la fonction factorielle\n",
    "\n",
    "```python\n",
    "Dans [11] : math.factorial ?\n",
    "```\n",
    "```\n",
    "Signature : math.factorial(x, /)\n",
    "Chaîne de documents :\n",
    "Trouvez x !.\n",
    "\n",
    "Lève une ValueError si x est négatif ou non intégral.\n",
    "Tapez : builtin_function_or_method\n",
    "```"
   ]
  },
  {
   "cell_type": "markdown",
   "metadata": {
    "lang": "fr"
   },
   "source": [
    "Python générera une « ZeroDivisionError » lorsque vous aurez l'expression 1/0, qui est l'infini, pour vous le rappeler.\n",
    "\n",
    "```python\n",
    "Dans [12] : 1/0\n",
    "```\n",
    "```\n",
    "-------------------------------------------------- -------------------------\n",
    "ZeroDivisionError Traceback (dernier appel le plus récent)\n",
    "<ipython-input-12-9e1622b385b6> dans <module>()\n",
    "----> 1 1/0\n",
    "\n",
    "ZeroDivisionError : division par zéro\n",
    "```"
   ]
  },
  {
   "cell_type": "markdown",
   "metadata": {
    "lang": "fr"
   },
   "source": [
    "Vous pouvez taper « math.inf » à l'invite de commande pour désigner l'infini ou « math.nan » pour désigner quelque chose qui n'est pas un nombre que vous souhaitez traiter comme un nombre. Si cela prête à confusion, cette distinction peut être ignorée pour le moment ; cela sera expliqué plus clairement lorsque cela deviendra important. Enfin, Python peut également gérer le nombre imaginaire.\n",
    "\n",
    "**ESSAYEZ-LE !** $1/\\infty$ et $\\infty*2$ pour vérifier que Python gère l'infini comme vous vous en doutez.\n",
    "\n",
    "```python\n",
    "Dans [13]  : 1/math.inf\n",
    "Sortie[13] : 0,0\n",
    "\n",
    "Dans [14]  : math.inf * 2\n",
    "Sortie[14] : fam\n",
    "```"
   ]
  },
  {
   "cell_type": "markdown",
   "metadata": {
    "lang": "fr"
   },
   "source": [
    "**ESSAYEZ-LE !** Calculez $\\infty/\\infty$\n",
    "\n",
    "```python\n",
    "Dans [15]  : math.inf/math.inf\n",
    "Sortie[15] : nan\n",
    "```"
   ]
  },
  {
   "cell_type": "markdown",
   "metadata": {
    "lang": "fr"
   },
   "source": [
    "**ESSAYEZ-LE !** Calculez la somme 2 + 5i\n",
    "\n",
    "```python\n",
    "Dans [16]  : 2 + 5j\n",
    "Sortie[16] : (2+5j)\n",
    "```\n",
    "\n",
    "Notez que, en Python, la partie imaginaire utilise j au lieu de i pour représenter.\n",
    "\n",
    "Une autre façon de représenter un nombre complexe en Python consiste à utiliser la fonction complexe.\n",
    "\n",
    "```python\n",
    "Dans [17]  : complexe(2,5)\n",
    "Sortie[17] : (2+5j)\n",
    "```"
   ]
  },
  {
   "cell_type": "markdown",
   "metadata": {
    "lang": "fr"
   },
   "source": [
    "Python peut également gérer la notation scientifique en utilisant la lettre e entre deux nombres. Par exemple, $1e6=1000000$ et $1e-3=0.001$."
   ]
  },
  {
   "cell_type": "markdown",
   "metadata": {
    "lang": "fr"
   },
   "source": [
    "**ESSAYEZ-LE !** Calculez le nombre de secondes en 3 ans en utilisant la notation scientifique.\n",
    "\n",
    "```python\n",
    "Dans [18]  : 3e0*3.65e2*2.4e1*3.6e3\n",
    "Sortie[18] : 94608000.0\n",
    "```"
   ]
  },
  {
   "cell_type": "markdown",
   "metadata": {
    "lang": "fr"
   },
   "source": [
    "**CONSEIL !** Chaque fois que nous tapons la fonction dans le module *math*, nous tapons toujours `math.function_name`. Alternativement, il existe un moyen plus simple, par exemple, si nous voulons utiliser `sin` et `log` à partir du module `math`, nous pourrions les importer de cette façon : `from math import sin, log`. Ensuite, tout ce que vous avez à faire lorsque vous utilisez ces fonctions est de les utiliser directement, par exemple, `sin(20)` ou `log(10)`."
   ]
  },
  {
   "cell_type": "markdown",
   "metadata": {
    "lang": "fr"
   },
   "source": [
    "## Types de données de base\n",
    "\n",
    "Nous venons d'apprendre à utiliser Python comme calculatrice pour gérer différentes valeurs de données. En Python, nous devons connaître quelques types de données. Pour les valeurs numériques, int, float et complexe sont les types associés aux valeurs.\n",
    "\n",
    "* **int**: nombres entiers, tels que 1, 2, 3, ...\n",
    "* **float**: nombres à virgule flottante, tels que 3.2, 6.4, ...\n",
    "* **complexe**: Nombres complexes, tels que 2 + 5j, 3 + 2j, ...\n",
    "\n",
    "Vous pouvez utiliser la fonction*type*pour vérifier le type de données pour différentes valeurs.\n",
    "\n",
    "**ESSAYEZ-LE !** Découvrez le type de données pour 1234.\n",
    "\n",
    "```python\n",
    "Dans [19]  : type(1234)\n",
    "Sortie[19] : int\n",
    "\n",
    "**ESSAYEZ-LE !** Découvrez le type de données pour 3.14.\n",
    "\n",
    "```python\n",
    "Dans [20]  : tapez(3.14)\n",
    "Sortie[20] : flottant\n",
    "    \n",
    " **ESSAYEZ-LE !** Découvrez le type de données pour 2 + 5j.\n",
    "\n",
    "```python\n",
    "Dans [21] : tapez(2 + 5j)\n",
    "Out[21] : complexe\n",
    "```"
   ]
  },
  {
   "cell_type": "markdown",
   "metadata": {
    "lang": "fr"
   },
   "source": [
    "Bien sûr, il existe d’autres types de données, tels que les booléens, les chaînes, etc., nous les présenterons plus loin dans le livre."
   ]
  },
  {
   "cell_type": "markdown",
   "metadata": {
    "lang": "fr"
   },
   "source": [
    "Dans cette section, nous avons expliqué comment utiliser Python comme calculatrice en exécutant des commandes dans le shell Python. Allons-y pour en savoir plus sur la gestion des packages, c'est-à-dire comment installer, mettre à niveau et supprimer les packages avant de procéder à plus de codage."
   ]
  },
  {
   "cell_type": "markdown",
   "metadata": {
    "button": false,
    "new_sheet": false,
    "run_control": {
     "read_only": false
    }
   },
   "source": [
    "<!--NAVIGATION-->\n",
    "< [1.1 Getting Started with Python](chapter01.01-Getting-Started-with-Python.ipynb) | [Contents](Index.ipynb) | [1.3 Managing Packages](chapter01.03-Managing-Packages.ipynb) >"
   ]
  }
 ],
 "metadata": {
  "kernelspec": {
   "display_name": "Python 3 (ipykernel)",
   "language": "python",
   "name": "python3"
  },
  "language_info": {
   "codemirror_mode": {
    "name": "ipython",
    "version": 3
   },
   "file_extension": ".py",
   "mimetype": "text/x-python",
   "name": "python",
   "nbconvert_exporter": "python",
   "pygments_lexer": "ipython3",
   "version": "3.12.2"
  },
  "nbTranslate": {
   "displayLangs": [
    "*"
   ],
   "hotkey": "alt-t",
   "langInMainMenu": true,
   "sourceLang": "en",
   "targetLang": "fr",
   "useGoogleTranslate": true
  }
 },
 "nbformat": 4,
 "nbformat_minor": 2
}
