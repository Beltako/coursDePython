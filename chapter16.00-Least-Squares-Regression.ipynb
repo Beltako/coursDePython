{
 "cells": [
  {
   "cell_type": "markdown",
   "metadata": {
    "button": false,
    "new_sheet": false,
    "run_control": {
     "read_only": false
    }
   },
   "source": [
    "<!--BOOK_INFORMATION-->\n",
    "<img align=\"left\" style=\"padding-right:10px;\" src=\"images/book_cover.jpg\" width=\"120\">\n",
    "\n",
    "*Ce cahier contient un extrait de [Programmation Python et méthodes numériques - Un guide pour les ingénieurs et les scientifiques](https://pythonnumericalmethods.berkeley.edu/notebooks/Index.html), le contenu est également disponible sur [Berkeley Python Numerical Methods](https://pythonnumericalmethods.berkeley.edu/notebooks/Index.html).*\n",
    "\n",
    "*Les droits d'auteur du livre appartiennent à Elsevier. Nous avons également ce livre interactif en ligne pour une meilleure expérience d'apprentissage. Le code est publié sous la [licence MIT](https://opensource.org/licenses/MIT). Si vous trouvez ce contenu utile, pensez à soutenir le travail sur [Elsevier](https://www.elsevier.com/books/python-programming-and-numerical-methods/kong/978-0-12-819549-9) ou [Amazon](https://www.amazon.com/Python-Programming-Numerical-Methods-Scientists/dp/0128195495/ref=sr_1_1?dchild=1&keywords=Python+Programming+and+Numerical+Methods+-+A+Guide+for+Engineers+and+Scientists&qid=1604761352&sr=8-1) !*"
   ]
  },
  {
   "cell_type": "markdown",
   "metadata": {
    "button": false,
    "new_sheet": false,
    "run_control": {
     "read_only": false
    }
   },
   "source": [
    "<!--NAVIGATION-->\n",
    "< [15.5 Summary and Problems](chapter15.05-Summary-and-Problems.ipynb) | [Contents](Index.ipynb) | [16.1 Least Squares Regression Problem Statement](chapter16.01-Least-Squares-Regression-Problem-Statement.ipynb)   >"
   ]
  },
  {
   "cell_type": "markdown",
   "metadata": {
    "lang": "fr"
   },
   "source": [
    "# Chapitre 16. Régression des moindres carrés"
   ]
  },
  {
   "cell_type": "markdown",
   "metadata": {
    "lang": "fr"
   },
   "source": [
    "#### SOMMAIRE\n",
    "\n",
    "---\n",
    "\n",
    "* [**16.1 Énoncé du problème de régression des moindres carrés**](chapter16.01-Least-Squares-Regression-Problem-Statement.ipynb)\n",
    "* [**16.2 Dérivation de régression des moindres carrés (algèbre linéaire)**](chapter16.02-Least-Squares-Regression-Dérivation-Linear-Algebra.ipynb)\n",
    "* [**16.3 Dérivation de régression des moindres carrés (calcul multivariable)**](chapter16.03-Least-Squares-Regression-Dérivation-Multivariable-Calculus.ipynb)\n",
    "* [**16.4 Régression des moindres carrés en Python**](chapter16.04-Least-Squares-Regression-in-Python.ipynb)\n",
    "* [**16.5 Régression des moindres carrés pour les fonctions non linéaires**](chapter16.05-Least-Square-Regression-for-Nonlinear-Functions.ipynb)\n",
    "* [**16.6 Résumé et problèmes**](chapter16.06-Summary-and-Problems.ipynb)"
   ]
  },
  {
   "cell_type": "markdown",
   "metadata": {
    "lang": "fr"
   },
   "source": [
    "---\n",
    "\n",
    "## Motivation\n",
    "\n",
    "Souvent, dans les cours de sciences et d’ingénierie, on nous demande de déterminer l’état d’un système en fonction de ses paramètres. Par exemple, la relation entre la force exercée par un ressort linéaire, *F*, et le déplacement du ressort par rapport à sa longueur naturelle, *x*, est généralement représentée par le modèle\n",
    "\n",
    "$$\n",
    "\\begin{align}\n",
    "F = kx\n",
    "\\end{align}\n",
    "$$\n",
    "\n",
    "où *k* est la raideur du ressort. On nous demande ensuite de calculer la force pour une valeur *k* et *x* données.\n",
    "\n",
    "Or en pratique, la raideur et d'une manière générale, la plupart des paramètres d'un système, ne sont pas connus a priori*. Au lieu de cela, on nous présente généralement des points de données sur la façon dont le système s’est comporté dans le passé. Pour\n",
    "Dans notre exemple du printemps, nous pouvons recevoir des paires de données $(x, F)$ qui ont été précédemment enregistrées à partir d'une expérience. Idéalement, tous ces points de données se trouveraient exactement sur une ligne passant par l'origine (puisqu'il n'y a pas de force à déplacement nul). Nous pourrions alors mesurer la pente de cette ligne et obtenir notre valeur de rigidité pour*k<*>. Cependant,\n",
    "les données pratiques comportent généralement un certain bruit de mesure en raison de l'imprécision du capteur, d'une erreur de mesure ou de diverses autres raisons. La figure suivante montre un exemple de ce à quoi pourraient ressembler les données pour une simple expérience printanière.\n",
    "\n",
    "<img src=\"./images/16.00.01-experiment_data.jpg\" alt=\"spring experiment\" title=\"Results from force-displacement experiment for spring (fictional). The theoretical linear relationship between force and displacement in a linear spring is F = kx . What do you think k should be given as the experimental data?\" width=\"500\"/>\n",
    "\n",
    "Ce chapitre enseigne les méthodes permettant de trouver les paramètres de modèle « les plus probables » à partir d'un ensemble de données, par exemple, comment trouver la rigidité du ressort dans notre expérience simulée. À la fin de ce chapitre, vous devriez comprendre comment ces méthodes choisissent les paramètres du modèle, l'importance de choisir le bon modèle et comment implémenter ces méthodes.\n",
    "\n",
    "---"
   ]
  },
  {
   "cell_type": "code",
   "execution_count": null,
   "metadata": {
    "collapsed": true,
    "run_control": {}
   },
   "outputs": [],
   "source": []
  }
 ],
 "metadata": {
  "kernelspec": {
   "display_name": "Python 3 (ipykernel)",
   "language": "python",
   "name": "python3"
  },
  "language_info": {
   "codemirror_mode": {
    "name": "ipython",
    "version": 3
   },
   "file_extension": ".py",
   "mimetype": "text/x-python",
   "name": "python",
   "nbconvert_exporter": "python",
   "pygments_lexer": "ipython3",
   "version": "3.11.7"
  },
  "nbTranslate": {
   "displayLangs": [
    "*"
   ],
   "hotkey": "alt-t",
   "langInMainMenu": true,
   "sourceLang": "en",
   "targetLang": "fr",
   "useGoogleTranslate": true
  }
 },
 "nbformat": 4,
 "nbformat_minor": 2
}
