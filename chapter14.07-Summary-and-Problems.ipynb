{
 "cells": [
  {
   "cell_type": "markdown",
   "metadata": {
    "button": false,
    "new_sheet": false,
    "run_control": {
     "read_only": false
    }
   },
   "source": [
    "<!--BOOK_INFORMATION-->\n",
    "<img align=\"left\" style=\"padding-right:10px;\" src=\"images/book_cover.jpg\" width=\"120\">\n",
    "\n",
    "*Ce cahier contient un extrait de [Programmation Python et méthodes numériques - Un guide pour les ingénieurs et les scientifiques](https://pythonnumericalmethods.berkeley.edu/notebooks/Index.html), le contenu est également disponible sur [Berkeley Python Numerical Methods](https://pythonnumericalmethods.berkeley.edu/notebooks/Index.html).*\n",
    "\n",
    "*Les droits d'auteur du livre appartiennent à Elsevier. Nous avons également ce livre interactif en ligne pour une meilleure expérience d'apprentissage. Le code est publié sous la [licence MIT](https://opensource.org/licenses/MIT). Si vous trouvez ce contenu utile, pensez à soutenir le travail sur [Elsevier](https://www.elsevier.com/books/python-programming-and-numerical-methods/kong/978-0-12-819549-9) ou [Amazon](https://www.amazon.com/Python-Programming-Numerical-Methods-Scientists/dp/0128195495/ref=sr_1_1?dchild=1&keywords=Python+Programming+and+Numerical+Methods+-+A+Guide+for+Engineers+and+Scientists&qid=1604761352&sr=8-1) !*"
   ]
  },
  {
   "cell_type": "markdown",
   "metadata": {
    "button": false,
    "new_sheet": false,
    "run_control": {
     "read_only": false
    }
   },
   "source": [
    "<!--NAVIGATION-->\n",
    "< [14.5 Matrix Inversion](chapter14.05-Matrix-Inversion.ipynb)  | [Contents](Index.ipynb) | [CHAPTER 15.  Eigenvalues and Eigenvectors](chapter15.00-Eigenvalues-and-Eigenvectors.ipynb) >"
   ]
  },
  {
   "cell_type": "markdown",
   "metadata": {
    "lang": "fr"
   },
   "source": [
    "# Résumé\n",
    "\n",
    "\n",
    "1. L’algèbre linéaire constitue le fondement de nombreux domaines de l’ingénierie.\n",
    "2. Les vecteurs peuvent être considérés comme des points dans ${\\mathbb{R}}^n$ ; l'addition et la multiplication y sont définies, mais pas nécessairement les mêmes que pour les scalaires.\n",
    "3. Un ensemble de vecteurs est linéairement indépendant si aucun des vecteurs ne peut être écrit comme une combinaison linéaire des autres.\n",
    "4. Les matrices sont des tableaux de nombres. Ils ont plusieurs propriétés importantes, notamment le déterminant, le rang et l'inverse.\n",
    "5. Un système d’équations linéaires peut être représenté par l’équation matricielle $Ax = y$.\n",
    "6. Le nombre de solutions d'un système d'équations linéaires est lié au rang ($A$) et au rang ($[A,y]$). Cela peut être zéro, un ou l'infini.\n",
    "7. Nous pouvons résoudre les équations en utilisant l'élimination de Gauss, l'élimination de Gauss-Jordan, la décomposition LU et la méthode de Gauss-Seidel.\n",
    "8. Nous avons introduit des méthodes pour trouver l’inversion matricielle."
   ]
  },
  {
   "cell_type": "markdown",
   "metadata": {
    "lang": "fr"
   },
   "source": [
    "# Problèmes\n",
    "\n",
    "1. Montrez que la multiplication matricielle se répartit sur l'addition matricielle : montrez $A(B + C) = AB + AC$ en supposant que $A, B$ et $C$ sont des matrices de taille compatible.\n",
    "\n",
    "2. Écrivez une fonction *my_is_orthogonal(v1,v2, tol)*, où $v1$ et $v2$ sont des vecteurs colonnes de même taille et $tol$ est une valeur scalaire strictement supérieure à 0. La sortie doit être 1 si l'angle entre $v1$ et $v2$ est dans la limite de $\\pi/2$ ; c'est-à-dire $|\\pi/2 - \\theta| < \\text{tol}$ et 0 sinon. Vous pouvez supposer que $v1$ et $v2$ sont des vecteurs colonnes de même taille et que $tol$ est un scalaire positif."
   ]
  },
  {
   "cell_type": "code",
   "execution_count": null,
   "metadata": {
    "button": false,
    "collapsed": true,
    "new_sheet": false,
    "run_control": {
     "read_only": false
    }
   },
   "outputs": [],
   "source": [
    "# Test cases for problem 2\n",
    "a = np.array([[1], [0.001]])\n",
    "b = np.array([[0.001], [1]])\n",
    "# output: 1\n",
    "my_is_orthogonal(a,b, 0.01)\n",
    "\n",
    "# output: 0\n",
    "my_is_orthogonal(a,b, 0.001)\n",
    "\n",
    "# output: 0\n",
    "a = np.array([[1], [0.001]])\n",
    "b = np.array([[1], [1]])\n",
    "my_is_orthogonal(a,b, 0.01)\n",
    "\n",
    "# output: 1\n",
    "a = np.array([[1], [1]])\n",
    "b = np.array([[-1], [1]])\n",
    "my_is_orthogonal(a,b, 1e-10)"
   ]
  },
  {
   "cell_type": "markdown",
   "metadata": {
    "lang": "fr"
   },
   "source": [
    "3. Écrivez une fonction *my_is_similar(s1,s2,tol)* où $s1$ et $s2$ sont des chaînes, pas nécessairement de la même taille, et $tol$ est une valeur scalaire strictement supérieure à 0. De $s1$ et $s2$, la fonction devrait construire deux vecteurs, $v1$ et $v2$, où $v1[0]$ est le nombre de « a » dans $s1$, $v1[1]$ est le nombre de « b » dans $s1$, et ainsi de suite jusqu'à $v1[25]$, qui est le nombre de « z » dans $v1$. Le vecteur $v2$ doit être construit de la même manière à partir de $s2$. La sortie doit être 1 si la valeur absolue de l'angle entre $v1$ et $v2$ est inférieure à tol ; c'est-à-dire $|\\theta| < \\text{tol}$."
   ]
  },
  {
   "cell_type": "markdown",
   "metadata": {
    "lang": "fr"
   },
   "source": [
    "4. Écrivez une fonction *my_make_lin_ind(A)*, où ${A}$ et ${B}$ sont des matrices. Laissez le ${rank(A) = n}$. Alors ${B}$ devrait être une matrice contenant les premières colonnes $n$ de ${A}$ qui sont toutes linéairement indépendantes. Notez que cela implique que ${B}$ est de rang complet."
   ]
  },
  {
   "cell_type": "code",
   "execution_count": null,
   "metadata": {
    "button": false,
    "collapsed": true,
    "new_sheet": false,
    "run_control": {
     "read_only": false
    }
   },
   "outputs": [],
   "source": [
    "## Test cases for problem 4\n",
    "\n",
    "A = np.array([[12,24,0,11,-24,18,15], \n",
    "              [19,38,0,10,-31,25,9], \n",
    "              [1,2,0,21,-5,3,20],\n",
    "              [6,12,0,13,-10,8,5],\n",
    "              [22,44,0,2,-12,17,23]])\n",
    "\n",
    "B = my_make_lin_ind(A)\n",
    "\n",
    "# B = [[12,11,-24,15],\n",
    "#      [19,10,-31,9],\n",
    "#      [1,21,-5,20],\n",
    "#      [6,13,-10,5],\n",
    "#      [22,2,-12,23]]"
   ]
  },
  {
   "cell_type": "markdown",
   "metadata": {
    "lang": "fr"
   },
   "source": [
    "5. La règle de Cramer est une méthode de calcul du déterminant d'une matrice. Considérons une matrice carrée ${n} \\times {n}$ $M$. Soit $M(i,j)$ l'élément de $M$ dans la $i$-ème ligne et $j$-ème colonne de $M$, et soit $m_{i,j}$ le mineur de $M$ créé en supprimant la $i$-ème ligne et $j$-ème colonne de $M$. La règle de Cramer dit que\n",
    "$$\n",
    "\\text{det(M)} = \\sum_{i = 1}^{n} (-1)^{i-1} M(1,i) \\text{det}(m_{i,j}).\n",
    "$$\n",
    "\n",
    " Écrivez une fonction *my_rec_det(M)*, où la sortie est $det(M)$. La fonction doit utiliser la règle de Cramer pour calculer le déterminant, et non la fonction de Numpy."
   ]
  },
  {
   "cell_type": "markdown",
   "metadata": {
    "lang": "fr"
   },
   "source": [
    "6. Quelle est la complexité de *my_rec_det* dans le problème précédent ? Pensez-vous que c'est un moyen efficace de déterminer si une matrice est singulière ou non ?\n",
    "\n",
    "7. Soit ${p}$ un vecteur de longueur ${L}$ contenant les coefficients d'un polynôme d'ordre ${L-1}$. Par exemple, le vecteur ${p = [1,0,2]}$ est une représentation du polynôme $f(x) = 1 x^2 + 0 x + 2$. Écrivez une fonction *my_poly_der_mat(p)*, où ${p}$ est le vecteur susmentionné, et la sortie $D$ est la matrice qui renverra les coefficients de la dérivée de ${p}$ lorsque ${p}$ est laissé multiplié par ${D}$. Par exemple, le dérivé de $f(x)$ est $f'(x) = 2x$ et, par conséquent, $d = Dp$ devrait donner ${d = [2,0]}$. Notez que cela implique que la dimension de $D$ est ${L-1} \\times {L}$. Le but de ce problème est de montrer que l’intégration de polynômes est en réalité une transformation linéaire."
   ]
  },
  {
   "cell_type": "markdown",
   "metadata": {
    "lang": "fr"
   },
   "source": [
    "8. Utilisez l’élimination de Gauss pour résoudre les équations suivantes.\n",
    "\n",
    "\\begin{eqnarray*}\n",
    "3x_1 - x_2 + 4x_3 &=& 2 \\\\\n",
    "17x_1 + 2x_2 + x_3 &=& 14 \\\\\n",
    "x_1 + 12x_2 -7z &=& 54 \\\\\n",
    "\\end{eqnarray*}\n",
    "\n",
    "9. Utilisez l'élimination de Gauss-Jordan pour résoudre les équations ci-dessus dans le problème 8.\n",
    "\n",
    "10. Obtenez la matrice triangulaire inférieure $L$ et la matrice triangulaire supérieure $U$ à partir des équations du problème 8.\n",
    "\n",
    "11. Montrez que le produit scalaire se répartit sur l'addition de vecteurs, c'est-à-dire montrez que $u \\cdot (v + w) = u \\cdot v + u \\cdot w$.\n",
    "\n",
    "12. Considérons le réseau suivant composé de deux stations d'alimentation désignées par $S1$ et $S2$ et de cinq nœuds récepteurs d'énergie désignés par $N1$ à $N5$. Les nœuds sont reliés par des lignes électriques, indiquées par des flèches, et l'énergie peut circuler entre les nœuds le long de ces lignes dans les deux sens.\n",
    "\n",
    " Soit $d_{i}$ un scalaire positif indiquant les demandes de puissance pour le nœud $i$, et supposons que cette demande doit être satisfaite exactement. La capacité des centrales électriques est désignée par $S$. Les centrales électriques doivent fonctionner à leur capacité. Pour chaque flèche, soit $f_{j}$ le flux de puissance le long de cette flèche. Un flux négatif implique que l’électricité circule dans le sens opposé de la flèche.\n",
    " \n",
    "  <img src=\"./images/14.01.01-problem_11.png\" alt=\"Problem 11\" style=\"width: 200px;\"/>\n",
    "\n",
    " Écrivez une fonction *my_flow_calculator(S, d)*, où $S$ est un vecteur $1 \\times 2$ représentant la capacité de chaque station d'alimentation, et $d$ est un vecteur de ligne $1 \\times 5$ représentant les demandes à chaque nœud (c'est-à-dire, $d[0]$ est le demande au nœud 1). L'argument de sortie, $f$, doit être un vecteur de ligne $1 \\times 7$ désignant les flux dans le réseau (c'est-à-dire $f[0] = f_1$ dans le diagramme). Les flux contenus dans $f$ doivent satisfaire toutes les contraintes du système, comme la production d'électricité et la demande. Notez qu'il peut y avoir plus d'une solution au système d'équations.\n",
    " \n",
    " Le flux total entrant dans un nœud doit être égal au flux total sortant du nœud plus la demande ; c'est-à-dire pour chaque nœud $i, f_{\\text{inflow}} = f_{\\text{outflow}} + d_{i}$. Vous pouvez supposer que $\\Sigma{S_j} = \\Sigma{d_i}$."
   ]
  },
  {
   "cell_type": "code",
   "execution_count": null,
   "metadata": {
    "button": false,
    "collapsed": true,
    "new_sheet": false,
    "run_control": {
     "read_only": false
    }
   },
   "outputs": [],
   "source": [
    "## Test cases for problem 4\n",
    "\n",
    "s = np.array([[10, 10]])\n",
    "d = np.array([[4, 4, 4, 4, 4]])\n",
    "\n",
    "# f = [[10.0, 4.0, -2.0, 4.5, 5.5, 2.5, 1.5]]\n",
    "f = my_flow_calculator(s, d)\n",
    "\n",
    "s = np.array([[10, 10]])\n",
    "d = np.array([[3, 4, 5, 4, 4]])\n",
    "# f = [[10.0, 5.0, -1.0, 4.5, 5.5, 2.5, 1.5]]\n",
    "f = my_flow_calculator(s, d)"
   ]
  },
  {
   "cell_type": "markdown",
   "metadata": {
    "button": false,
    "new_sheet": false,
    "run_control": {
     "read_only": false
    }
   },
   "source": [
    "<!--NAVIGATION-->\n",
    "< [14.5 Matrix Inversion](chapter14.05-Matrix-Inversion.ipynb)  | [Contents](Index.ipynb) | [CHAPTER 15.  Eigenvalues and Eigenvectors](chapter15.00-Eigenvalues-and-Eigenvectors.ipynb) >"
   ]
  }
 ],
 "metadata": {
  "kernelspec": {
   "display_name": "Python 3 (ipykernel)",
   "language": "python",
   "name": "python3"
  },
  "language_info": {
   "codemirror_mode": {
    "name": "ipython",
    "version": 3
   },
   "file_extension": ".py",
   "mimetype": "text/x-python",
   "name": "python",
   "nbconvert_exporter": "python",
   "pygments_lexer": "ipython3",
   "version": "3.11.7"
  },
  "nbTranslate": {
   "displayLangs": [
    "*"
   ],
   "hotkey": "alt-t",
   "langInMainMenu": true,
   "sourceLang": "en",
   "targetLang": "fr",
   "useGoogleTranslate": true
  }
 },
 "nbformat": 4,
 "nbformat_minor": 2
}
