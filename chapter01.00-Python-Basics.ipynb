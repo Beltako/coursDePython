{
 "cells": [
  {
   "cell_type": "markdown",
   "metadata": {
    "button": false,
    "new_sheet": false,
    "run_control": {
     "read_only": false
    }
   },
   "source": [
    "<!--BOOK_INFORMATION-->\n",
    "<img align=\"left\" style=\"padding-right:10px;\" src=\"images/book_cover.jpg\" width=\"120\">\n",
    "\n",
    "*Ce cahier contient un extrait de [Programmation Python et méthodes numériques - Un guide pour les ingénieurs et les scientifiques](https://pythonnumericalmethods.berkeley.edu/notebooks/Index.html), le contenu est également disponible sur [Berkeley Python Numerical Methods](https://pythonnumericalmethods.berkeley.edu/notebooks/Index.html).*\n",
    "\n",
    "*Les droits d'auteur du livre appartiennent à Elsevier. Nous avons également ce livre interactif en ligne pour une meilleure expérience d'apprentissage. Le code est publié sous la [licence MIT](https://opensource.org/licenses/MIT). Si vous trouvez ce contenu utile, pensez à soutenir le travail sur [Elsevier](https://www.elsevier.com/books/python-programming-and-numerical-methods/kong/978-0-12-819549-9) ou [Amazon](https://www.amazon.com/Python-Programming-Numerical-Methods-Scientists/dp/0128195495/ref=sr_1_1?dchild=1&keywords=Python+Programming+and+Numerical+Methods+-+A+Guide+for+Engineers+and+Scientists&qid=1604761352&sr=8-1) !*"
   ]
  },
  {
   "cell_type": "markdown",
   "metadata": {
    "lang": "fr"
   },
   "source": [
    "<!--NAVIGATION-->\n",
    "< [Préface](chapter00.00-Preface.ipynb) | [Contenu](Index.ipynb) | [1.1 Démarrer avec Python](chapter01.01-Getting-Started-with-Python.ipynb) >"
   ]
  },
  {
   "cell_type": "markdown",
   "metadata": {
    "lang": "fr"
   },
   "source": [
    "# Chapitre 1. Les bases de Python"
   ]
  },
  {
   "cell_type": "markdown",
   "metadata": {
    "lang": "fr"
   },
   "source": [
    "#### SOMMAIRE\n",
    "\n",
    "---\n",
    "\n",
    "* [**1.1 Premiers pas avec Python**](chapter01.01-Getting-Started-with-Python.ipynb)\n",
    "* [**1.2 Python comme calculatrice**](chapter01.02-Python-as-A-Calculator.ipynb)\n",
    "* [**1.3 Gestion des packages**](chapter01.03-Managing-Packages.ipynb)\n",
    "* [**1.4 Introduction à Jupyter Notebook**](chapter01.04-Introduction-to-Jupyter-Notebook.ipynb)\n",
    "* [**1.5 Expressions et opérateurs logiques**](chapter01.05-Logial-Expressions-and-Operators.ipynb)\n",
    "* [**1.6 Résumé et problèmes**](chapter01.06-Summary-and-Problems.ipynb)"
   ]
  },
  {
   "cell_type": "markdown",
   "metadata": {
    "lang": "fr"
   },
   "source": [
    "---\n",
    "\n",
    "## Motivation\n",
    "\n",
    "Ce chapitre vous permet de démarrer avec Python, de l'utiliser comme calculatrice, de gérer les packages Python et de vous familiariser avec Jupyter Notebook. Comme vous le verrez, Python possède une grande communauté avec des packages qui pourraient potentiellement tout faire. À la fin de ce chapitre, vous devez être familier avec Python, être capable d'exécuter des commandes en Python, d'installer et de gérer les packages Python dans le notebook Jupyter et d'utiliser les fonctionnalités mathématiques de base de Python.\n",
    "\n",
    "---"
   ]
  }
 ],
 "metadata": {
  "kernelspec": {
   "display_name": "Python 3 (ipykernel)",
   "language": "python",
   "name": "python3"
  },
  "language_info": {
   "codemirror_mode": {
    "name": "ipython",
    "version": 3
   },
   "file_extension": ".py",
   "mimetype": "text/x-python",
   "name": "python",
   "nbconvert_exporter": "python",
   "pygments_lexer": "ipython3",
   "version": "3.11.7"
  },
  "nbTranslate": {
   "displayLangs": [
    "*"
   ],
   "hotkey": "alt-t",
   "langInMainMenu": true,
   "sourceLang": "en",
   "targetLang": "fr",
   "useGoogleTranslate": true
  }
 },
 "nbformat": 4,
 "nbformat_minor": 4
}
