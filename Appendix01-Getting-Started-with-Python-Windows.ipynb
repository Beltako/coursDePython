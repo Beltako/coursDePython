{
 "cells": [
  {
   "cell_type": "markdown",
   "metadata": {
    "lang": "fr"
   },
   "source": [
    "<!--BOOK_INFORMATION-->\n",
    "<img align=\"left\" style=\"padding-right:10px;\" src=\"images/book_cover.jpg\" width=\"120\">\n",
    "*Ce cahier contient un extrait de [Programmation Python et méthodes numériques - Un guide pour les ingénieurs et les scientifiques](https://www.elsevier.com/books/python-programming-and-numerical-methods/kong/978 -0-12-819549-9), le contenu est également disponible sur [Berkeley Python Numerical Methods](https://pythonnumericalmethods.berkeley.edu/notebooks/Index.html).*\n",
    "\n",
    "*Les droits d'auteur du livre appartiennent à Elsevier. Nous avons également ce livre interactif en ligne pour une meilleure expérience d'apprentissage. Le code est publié sous la [licence MIT](https://opensource.org/licenses/MIT). Si vous trouvez ce contenu utile, pensez à soutenir le travail sur [Elsevier](https://www.elsevier.com/books/python-programming-and-numerical-methods/kong/978-0-12-819549-9 ) ou  [Amazon](https://www.amazon.com/Python-Programming-Numerical-Methods-Scientists/dp/0128195495/ref=sr_1_1?dchild=1&keywords=Python+Programming+and+Numerical+Methods+-+A+Guide+for+Engineers+and+Scientists&qid=1604761352&sr=8-1)! *"
   ]
  },
  {
   "cell_type": "markdown",
   "metadata": {
    "button": false,
    "new_sheet": false,
    "run_control": {
     "read_only": false
    }
   },
   "source": [
    "<!--NAVIGATION-->\n",
    "< [1.0 Python Basics](chapter01.00-Python-Basics.ipynb) | [Contents](Index.ipynb) | [1.2 Python as A Calculator](chapter01.02-Python-as-A-Calculator.ipynb) >"
   ]
  },
  {
   "cell_type": "markdown",
   "metadata": {
    "lang": "fr"
   },
   "source": [
    "# Annexe A. Premiers pas avec Python sous Windows"
   ]
  },
  {
   "cell_type": "markdown",
   "metadata": {
    "lang": "fr"
   },
   "source": [
    "### Configurer l'environnement de travail sous Windows\n",
    "\n",
    "Avant de commencer à utiliser Python, nous devons configurer notre environnement de travail Python sur l'ordinateur. Dans cette section, nous présenterons les processus pour démarrer.\n",
    "\n",
    "Il existe différentes manières d'installer Python et les packages associés, nous vous recommandons ici d'utiliser [Anaconda](https://www.anaconda.com/download/) ou [Miniconda](https://conda.io/miniconda.html) pour installer et gérer vos packages. Selon le *système d'exploitation* (OS) que vous utilisez, c'est-à-dire Windows, Mac OS X ou Linux, vous devez télécharger un programme d'installation spécifique pour votre machine. Anaconda et Miniconda visent à fournir des moyens simples de gérer l'environnement de travail Python dans le calcul scientifique et les sciences des données.\n",
    "\n",
    "Ici, nous utiliserons Windows comme exemple pour vous montrer les processus d'installation. Pour les utilisateurs Mac et Linux, veuillez lire [chapitre 1.1](chapter01.01-Getting-Started-with-Python.ipynb) pour tous les processus. Les principales différences entre Anaconda et Miniconda sont :\n",
    "\n",
    " * **Anaconda** est un framework de distribution complet qui comprend l'interpréteur Python, le gestionnaire de packages ainsi que les packages couramment utilisés en calcul scientifique.\n",
    " * **Miniconda** est une version allégée d'Anaconda qui n'inclut pas les packages courants, vous devez donc installer tous les différents packages par vous-même. Mais il dispose de l'interpréteur Python et du gestionnaire de packages.\n",
    "\n",
    "L'option que nous choisissons ici est d'utiliser Miniconda pour gérer notre installation des packages. De cette façon, nous ne pouvons installer que ceux dont nous avons besoin."
   ]
  },
  {
   "cell_type": "markdown",
   "metadata": {
    "button": false,
    "lang": "en",
    "new_sheet": false,
    "run_control": {
     "read_only": false
    }
   },
   "source": [
    "The Miniconda install process is described below:\n",
    "\n",
    "**Step 1: Download the Miniconda installer from the [website](https://conda.io/miniconda.html)** \n",
    "\n",
    "Here you can choose a different installer based on your OS. We choose the windows installer and Python 3.7 as an example. \n",
    "\n",
    "<img src=\"images/AP.01.1-miniconda_page.png\" alt=\"Miniconda_download\" title=\"The Miniconda download page, choose the installer based on your Operating System.\" width=\"500\"/>\n",
    "\n",
    "**Step 2: Run the installer by double click the installer:**\n",
    "\n",
    "After you run the installer, follow the guide and you will successfully install it.\n",
    "\n",
    "<img src=\"images/AP.01.2-run_miniconda_installer.png\" alt=\"Run_installer\" title=\"Screen shot of running the installer.\" width=\"400\"/>\n",
    "\n",
    "One thing to note is that you can change the installation location by giving it an alternative location on your machine, we will use the default path here. \n",
    "\n",
    "<img src=\"images/AP.01.3-default_miniconda_location.png\" alt=\"Default_location\" title=\"The default install location of your file system.\" width=\"400\"/>\n",
    "\n",
    "After installation, we can open the **anaconda prompt** (the equivalent terminal on Mac or Linux) from the start menue. \n",
    "\n",
    "<img src=\"images/AP.01.4-open_anaconda_prompt.png\" alt=\"Open_prompt\" title=\"Open the anaconda prompt from the start menu.\" width=\"500\"/>\n",
    "\n",
    "Then we can check whether installation is success or not by typing the following commands:\n",
    "\n",
    "<img src=\"images/AP.01.4-miniconda_check.png\" alt=\"Quick_check\" title=\"Quick way to check your if your installed Miniconda run properly.\" width=\"500\"/>\n",
    "\n",
    "\n",
    "**Step 3: Install the basic packages that used in this book**\n",
    "\n",
    "Let us first install some packages for our book - `ipython`, `numpy`, `scipy`, `pandas`, `matplotlib` and `jupyter notebook`. We will talk more about the management of the packages using `pip` and `conda` later. \n",
    "\n",
    "\n",
    "<img src=\"images/AP.01.5-install_packages.png\" alt=\"Install_packages\" title=\"Install process for the packages that will be used in the rest of the book.\" width=\"500\"/>"
   ]
  },
  {
   "cell_type": "markdown",
   "metadata": {
    "lang": "fr"
   },
   "source": [
    "Le processus d'installation de Miniconda est décrit ci-dessous :\n",
    "\n",
    "**Étape 1 : Téléchargez le programme d'installation de Miniconda à partir du [site Web](https://conda.io/miniconda.html)**\n",
    "\n",
    "Ici, vous pouvez choisir un programme d'installation différent en fonction de votre système d'exploitation. Nous choisissons le programme d'installation de Windows et Python 3.7 comme exemple.\n",
    "\n",
    "idhtml1\n",
    "\n",
    "**Étape 2 : Exécutez le programme d'installation en double-cliquant sur le programme d'installation :**\n",
    "\n",
    "Après avoir exécuté le programme d’installation, suivez le guide et vous l’installerez avec succès.\n",
    "\n",
    "idhtml2\n",
    "\n",
    "Une chose à noter est que vous pouvez modifier l'emplacement d'installation en lui donnant un emplacement alternatif sur votre machine, nous utiliserons ici le chemin par défaut.\n",
    "\n",
    "<img src=\"images/AP.01.3-default_miniconda_location.png\" alt=\"Default_location\" title=\"The default install location of your file system.\" width=\"400\"/>\n",
    "\n",
    "Après l'installation, nous pouvons ouvrir l'**invite anaconda** (le terminal équivalent sur Mac ou Linux) depuis le menu démarrer.\n",
    "\n",
    "<img src=\"images/AP.01.4-open_anaconda_prompt.png\" alt=\"Open_prompt\" title=\"Open the anaconda prompt from the start menu.\" width=\"500\"/>\n",
    "\n",
    "Ensuite, nous pouvons vérifier si l'installation réussit ou non en tapant les commandes suivantes :\n",
    "\n",
    "<img src=\"images/AP.01.4-miniconda_check.png\" alt=\"Quick_check\" title=\"Quick way to check your if your installed Miniconda run properly.\" width=\"500\"/>\n",
    "\n",
    "\n",
    "**Étape 3 : Installez les packages de base utilisés dans ce livre**\n",
    "\n",
    "Installons d'abord quelques packages pour notre livre - `ipython`, `numpy`, `scipy`, `pandas`, `matplotlib` et `jupyter notebook`. Nous parlerons davantage de la gestion des packages utilisant `pip` et `conda` plus tard.\n",
    "\n",
    "\n",
    "<img src=\"images/AP.01.5-install_packages.png\" alt=\"Install_packages\" title=\"Install process for the packages that will be used in the rest of the book.\" width=\"500\"/>"
   ]
  },
  {
   "cell_type": "markdown",
   "metadata": {
    "button": false,
    "lang": "en",
    "new_sheet": false,
    "run_control": {
     "read_only": false
    }
   },
   "source": [
    "### Three ways to run Python code \n",
    "\n",
    "There are different ways to run Python code, they all have different usages. In this section, we will quickly introduce the three different ways to get you started. \n",
    "\n",
    "**Using Python shell or Ipython shell** \n",
    "\n",
    "The easiest way to run Python code is through the Python shell or Ipython Shell (which stands for Interactive Python). The Ipython shell is richer than Python shell, such as Tab autocompletion, color-highlighted error messages, basic UNIX shell integration and so on. Since we just installed Ipython, let us try to run the \"hello world\" example with it. The way we launch either Python or Ipython shell is by typing it in a terminal (see the figure below). Then we can run Python command by typing it into the shell, by pressing `Enter`, we immediately see the results from the command. For example, we can print out \"Hello World\" by typing `print(\"Hello World\")`:\n",
    "\n",
    "<img src=\"images/AP.01.6-ipython_example.png\" alt=\"Hello_world\" title=\"Run Hello World in Ipython shell by typing the command, print is a function that we will learn later to print out anything within the parentheses.\" width=\"500\"/>\n",
    "\n",
    "In the above command, the *print()* is a function in Python, and \"Hello World\" is a string data type that we will introduce them later in the book. \n",
    "\n",
    "**Run Python script/file from command line**\n",
    "\n",
    "The second way to run Python code is to put all the commands into a file and save it as a file with extension `.py` (the extension of the file could be anything, but by convention, it is usually `.py`). For example, use your favorite text editor (Showing here is the [Visual Studio Code](https://code.visualstudio.com)), put the command in a file called *hello_world.py*:\n",
    "\n",
    "<img src=\"images/AP.01.7-python_file_example.png\" alt=\"Python_file\" title=\"A Python script file example using Visual Studio Code. You type in the commands you want to execute and save the file with a proper name.\" width=\"500\"/>\n",
    "\n",
    "Then just run it from terminal:\n",
    "\n",
    "<img src=\"images/AP.01.8-run_python_file.png\" alt=\"Run_python\" title=\"To run the Python script from command line, we can type python hello_world.py. This line tells Python that we will execute the commands that saved in this file.\" width=\"500\"/>\n",
    "\n",
    "\n",
    "**Using Jupyter Notebook**\n",
    "\n",
    "The third way to run Python is through **Jupyter notebook**. It is a very powerful browser-based Python environment, we will talk more about it in details later in this chapter. Here we just quickly see how we could run the code from a Jupyter notebook. Run the `jupyter notebook` in the bash command line:\n",
    "\n",
    "```bash\n",
    "jupyter notebook\n",
    "```\n",
    "\n",
    "Then you will see a local web page will pop up, from the upper right button to create a new Python3 notebook:\n",
    "\n",
    "<img src=\"images/AP.01.9-launching_jupyter.png\" alt=\"Launching_jupyter\" title=\"To Launch a Jupyter notebook server, type jupyter notebook in the command line, which will open a browser page as shown here. Click new button on the top write, and choose Python3 will create a Python notebook to run Python code.\" width=\"500\"/>\n",
    "\n",
    "Running code in Jupyter notebook is easy, you type your code in the cell, and press `shift + enter` to run the cell, the results will be shown below the code. \n",
    "\n",
    "<img src=\"images/AP.01.10-run_code_jupyter.png\" alt=\"Notebook_example\" title=\"Run the Hello World example within Jupyter notebook. Type the command in the code cell (the grey boxes) and press shift + enter to execute it.\" width=\"500\"/>"
   ]
  },
  {
   "cell_type": "markdown",
   "metadata": {
    "lang": "fr"
   },
   "source": [
    "### Trois façons d'exécuter du code Python\n",
    "\n",
    "Il existe différentes manières d'exécuter du code Python, elles ont toutes des usages différents. Dans cette section, nous présenterons rapidement les trois façons différentes de vous aider à démarrer.\n",
    "\n",
    "**Utilisation du shell Python ou du shell Ipython**\n",
    "\n",
    "Le moyen le plus simple d'exécuter du code Python consiste à utiliser le shell Python ou Ipython Shell (qui signifie Interactive Python). Le shell Ipython est plus riche que le shell Python, comme la saisie semi-automatique des onglets, les messages d'erreur surlignés en couleur, l'intégration de base du shell UNIX, etc. Puisque nous venons d'installer Ipython, essayons d'exécuter l'exemple \"hello world\" avec. La façon dont nous lançons le shell Python ou Ipython consiste à le saisir dans un terminal (voir la figure ci-dessous). Ensuite, nous pouvons exécuter la commande Python en la tapant dans le shell, en appuyant sur « Entrée », nous voyons immédiatement les résultats de la commande. Par exemple, nous pouvons imprimer « Hello World » en tapant « print(\"Hello World\") :\n",
    "\n",
    "idhtml1\n",
    "\n",
    "Dans la commande ci-dessus, *print()* est une fonction en Python et \"Hello World\" est un type de données chaîne que nous les présenterons plus tard dans le livre.\n",
    "\n",
    "**Exécutez le script/fichier Python à partir de la ligne de commande**\n",
    "\n",
    "La deuxième façon d'exécuter du code Python consiste à placer toutes les commandes dans un fichier et à l'enregistrer sous un fichier avec l'extension « .py » (l'extension du fichier peut être n'importe quoi, mais par convention, il s'agit généralement de « .py »). . Par exemple, utilisez votre éditeur de texte préféré (ici le [Visual Studio Code](https://code.visualstudio.com)), placez la commande dans un fichier appelé *hello_world.py* :\n",
    "\n",
    "idhtml2\n",
    "\n",
    "Ensuite, exécutez-le depuis le terminal :\n",
    "\n",
    "<img src=\"images/AP.01.8-run_python_file.png\" alt=\"Run_python\" title=\"To run the Python script from command line, we can type python hello_world.py. This line tells Python that we will execute the commands that saved in this file.\" width=\"500\"/>\n",
    "\n",
    "\n",
    "**Utiliser Jupyter Notebook**\n",
    "\n",
    "La troisième façon d'exécuter Python consiste à utiliser **Jupyter notebook**. Il s'agit d'un environnement Python basé sur un navigateur très puissant, nous en parlerons plus en détail plus tard dans ce chapitre. Ici, nous voyons rapidement comment nous pourrions exécuter le code à partir d'un notebook Jupyter. Exécutez le « jupyter notebook » dans la ligne de commande bash :\n",
    "\n",
    "```bash\n",
    "cahier jupyter\n",
    "```\n",
    "\n",
    "Ensuite, vous verrez une page Web locale apparaître, à partir du bouton supérieur droit pour créer un nouveau notebook Python3 :\n",
    "\n",
    "<img src=\"images/AP.01.9-launching_jupyter.png\" alt=\"Launching_jupyter\" title=\"To Launch a Jupyter notebook server, type jupyter notebook in the command line, which will open a browser page as shown here. Click new button on the top write, and choose Python3 will create a Python notebook to run Python code.\" width=\"500\"/>\n",
    "\n",
    "Exécuter du code dans le notebook Jupyter est simple, vous tapez votre code dans la cellule et appuyez sur « Shift + Enter » pour exécuter la cellule, les résultats seront affichés sous le code.\n",
    "\n",
    "<img src=\"images/AP.01.10-run_code_jupyter.png\" alt=\"Notebook_example\" title=\"Run the Hello World example within Jupyter notebook. Type the command in the code cell (the grey boxes) and press shift + enter to execute it.\" width=\"500\"/>"
   ]
  },
  {
   "cell_type": "markdown",
   "metadata": {
    "button": false,
    "lang": "en",
    "new_sheet": false,
    "run_control": {
     "read_only": false
    }
   },
   "source": [
    "### The Zen of Python\n",
    "\n",
    "Ok, in the previous section, we learned about how to set up our working environment and run Python in different ways. Let's end this section by seeing the famous 'The Zen of Python' with running the following command in one of the 3 ways. You may not understand the outputs now, but with time, I am sure you will find how useful it is. "
   ]
  },
  {
   "cell_type": "markdown",
   "metadata": {
    "lang": "fr"
   },
   "source": [
    "### Le Zen de Python\n",
    "\n",
    "Ok, dans la section précédente, nous avons appris comment configurer notre environnement de travail et exécuter Python de différentes manières. Terminons cette section en voyant le fameux « Le Zen de Python » en exécutant la commande suivante de l'une des 3 manières suivantes. Vous ne comprenez peut-être pas les résultats maintenant, mais avec le temps, je suis sûr que vous découvrirez à quel point cela est utile."
   ]
  },
  {
   "cell_type": "code",
   "execution_count": 1,
   "metadata": {
    "button": false,
    "new_sheet": false,
    "run_control": {
     "read_only": false
    }
   },
   "outputs": [
    {
     "name": "stdout",
     "output_type": "stream",
     "text": [
      "The Zen of Python, by Tim Peters\n",
      "\n",
      "Beautiful is better than ugly.\n",
      "Explicit is better than implicit.\n",
      "Simple is better than complex.\n",
      "Complex is better than complicated.\n",
      "Flat is better than nested.\n",
      "Sparse is better than dense.\n",
      "Readability counts.\n",
      "Special cases aren't special enough to break the rules.\n",
      "Although practicality beats purity.\n",
      "Errors should never pass silently.\n",
      "Unless explicitly silenced.\n",
      "In the face of ambiguity, refuse the temptation to guess.\n",
      "There should be one-- and preferably only one --obvious way to do it.\n",
      "Although that way may not be obvious at first unless you're Dutch.\n",
      "Now is better than never.\n",
      "Although never is often better than *right* now.\n",
      "If the implementation is hard to explain, it's a bad idea.\n",
      "If the implementation is easy to explain, it may be a good idea.\n",
      "Namespaces are one honking great idea -- let's do more of those!\n"
     ]
    }
   ],
   "source": [
    "import this"
   ]
  },
  {
   "cell_type": "markdown",
   "metadata": {
    "button": false,
    "new_sheet": false,
    "run_control": {
     "read_only": false
    }
   },
   "source": [
    "<!--NAVIGATION-->\n",
    "< [1.0 Python Basics](chapter01.00-Python-Basics.ipynb) | [Contents](Index.ipynb) | [1.2 Python as A Calculator](chapter01.02-Python-as-A-Calculator.ipynb) >"
   ]
  }
 ],
 "metadata": {
  "kernelspec": {
   "display_name": "Python 3 (ipykernel)",
   "language": "python",
   "name": "python3"
  },
  "language_info": {
   "codemirror_mode": {
    "name": "ipython",
    "version": 3
   },
   "file_extension": ".py",
   "mimetype": "text/x-python",
   "name": "python",
   "nbconvert_exporter": "python",
   "pygments_lexer": "ipython3",
   "version": "3.11.7"
  },
  "nbTranslate": {
   "displayLangs": [
    "*"
   ],
   "hotkey": "alt-t",
   "langInMainMenu": true,
   "sourceLang": "en",
   "targetLang": "fr",
   "useGoogleTranslate": true
  },
  "widgets": {
   "application/vnd.jupyter.widget-state+json": {
    "state": {},
    "version_major": 2,
    "version_minor": 0
   }
  }
 },
 "nbformat": 4,
 "nbformat_minor": 4
}
