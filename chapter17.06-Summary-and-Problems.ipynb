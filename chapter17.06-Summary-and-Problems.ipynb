{
 "cells": [
  {
   "cell_type": "markdown",
   "metadata": {
    "button": false,
    "new_sheet": false,
    "run_control": {
     "read_only": false
    }
   },
   "source": [
    "<!--BOOK_INFORMATION-->\n",
    "<img align=\"left\" style=\"padding-right:10px;\" src=\"images/book_cover.jpg\" width=\"120\">\n",
    "\n",
    "*Ce cahier contient un extrait de [Programmation Python et méthodes numériques - Un guide pour les ingénieurs et les scientifiques](https://pythonnumericalmethods.berkeley.edu/notebooks/Index.html), le contenu est également disponible sur [Berkeley Python Numerical Methods](https://pythonnumericalmethods.berkeley.edu/notebooks/Index.html).*\n",
    "\n",
    "*Les droits d'auteur du livre appartiennent à Elsevier. Nous avons également ce livre interactif en ligne pour une meilleure expérience d'apprentissage. Le code est publié sous la [licence MIT](https://opensource.org/licenses/MIT). Si vous trouvez ce contenu utile, pensez à soutenir le travail sur [Elsevier](https://www.elsevier.com/books/python-programming-and-numerical-methods/kong/978-0-12-819549-9) ou [Amazon](https://www.amazon.com/Python-Programming-Numerical-Methods-Scientists/dp/0128195495/ref=sr_1_1?dchild=1&keywords=Python+Programming+and+Numerical+Methods+-+A+Guide+for+Engineers+and+Scientists&qid=1604761352&sr=8-1) !*"
   ]
  },
  {
   "cell_type": "markdown",
   "metadata": {
    "button": false,
    "new_sheet": false,
    "run_control": {
     "read_only": false
    }
   },
   "source": [
    "<!--NAVIGATION-->\n",
    "< [17.5 Newton's Polynomial Interpolation](chapter17.05-Newtons-Polynomial-Interpolation.ipynb)  | [Contents](Index.ipynb) | [CHAPTER 18. Series](chapter18.00-Series.ipynb) >"
   ]
  },
  {
   "cell_type": "markdown",
   "metadata": {
    "lang": "fr"
   },
   "source": [
    "# Résumé\n",
    "\n",
    "\n",
    "1. Étant donné un ensemble de points de données fiables, l'interpolation est une méthode d'estimation des valeurs de variables dépendantes pour les valeurs de variables indépendantes qui ne figurent pas dans notre ensemble de données.\n",
    "2. L'interpolation linéaire, cubique spline, de Lagrange et polynomiale de Newton sont des méthodes d'interpolation courantes."
   ]
  },
  {
   "cell_type": "markdown",
   "metadata": {
    "lang": "fr"
   },
   "source": [
    "# Problèmes\n",
    "\n",
    "1. Écrivez une fonction *my_lin_interp(x, y, X)*, où *x* et *y* sont des tableaux contenant des points de données expérimentales, et *X<* > est un tableau. Supposons que*x*et*X*soient classés par ordre croissant et aient des éléments uniques. L'argument de sortie,*Y*, doit être un tableau de la même taille que*X*, où*Y[i]*est l'interpolation linéaire de*X[ je]*. Vous ne devez pas utiliser*interp*de numpy ou*interp1d*de scipy.\n",
    "\n",
    "2. Écrivez une fonction*my_cubic_spline(x, y, X)*, où*x*et*y*sont des tableaux contenant des points de données expérimentales, et*X<* > est un tableau. Supposons que *x* et *X* soient classés par ordre croissant et aient des éléments uniques. L'argument de sortie, *Y*, doit être un tableau de la même taille que *X*, où *Y[i]* est une interpolation spline cubique de *X[ je]*. Vous ne pouvez pas utiliser *interp1d* ou *CubicSpline*.\n",
    "\n",
    "3. Écrivez une fonction *my_nearest_neighbor(x, y, X)*, où *x* et *y* sont des tableaux contenant des points de données expérimentales, et *X<* > est un tableau. Supposons que*x*et*X*soient classés par ordre croissant et aient des éléments uniques. L'argument de sortie,*Y*, doit être un tableau de la même taille que*X*, où*Y[i]*est l'interpolation du voisin le plus proche de*X [je]*. Autrement dit,*Y[i]*devrait être le*y[j]*où*x[j]*est le point de données indépendant le plus proche de*X[i ]*. Vous ne pouvez pas utiliser*interp1d*depuis scipy.\n",
    "\n",
    "4. Pensez à une situation dans laquelle l'utilisation de l'interpolation du plus proche voisin serait supérieure à l'interpolation par spline cubique.\n",
    "\n",
    "5. Écrivez une fonction*my_cubic_spline_flat(x, y, X)*, où*x*et*y*sont des tableaux contenant des points de données expérimentales, et*X<* > est un tableau. Supposons que *x* et *X* soient classés par ordre croissant et aient des éléments uniques. L'argument de sortie, *Y*, doit être un tableau de la même taille que *X*, où *Y[i]* est l'interpolation spline cubique de *X [je]*. Cependant, au lieu des contraintes que nous avons introduites précédemment, utilisez $S'_1(x_1)=0$ et $S'_{n-1}(x_n)=0$.\n",
    "\n",
    "6. Écrivez une fonction *my_quintic_spline(x, y, X)*, où *x* et *y* sont des tableaux contenant des points de données expérimentales, et *X<* > est un tableau. Supposons que*x*et*X*soient classés par ordre croissant et aient des éléments uniques. L'argument de sortie,*Y*, doit être un tableau de la même taille que*X*, où*Y[i]*est l'interpolation spline quintique de*X [je]*. Vous devrez utiliser des contraintes de point de terminaison supplémentaires pour proposer suffisamment de contraintes. Vous pouvez utiliser des contraintes de point de terminaison à votre discrétion.\n",
    "\n",
    "7. Écrivez une fonction*my_interp_plotter(x, y, X, option)*, où*x*et*y*sont des tableaux contenant des points de données expérimentales, et*X*est un tableau contenant les coordonnées pour lesquelles une interpolation est souhaitée. L'option d'argument d'entrée doit être une chaîne, soit « linéaire », « spline » ou « la plus proche ». Votre fonction devrait produire un tracé des points de données $(x, y)$ marqués par des cercles rouges. et les points $(X, Y)$, où*X*est l'entrée et*Y*est l'interpolation aux points contenus dans*X*définis par l'argument d'entrée spécifié par l'option. Les points $(X, Y)$ doivent être reliés par une ligne bleue. Assurez-vous d'inclure le titre, les étiquettes des axes et une légende. Astuce : vous devez utiliser*interp1d*de scipy et récupérer l'option*kind*.\n",
    "\n",
    " Cas de tests :\n",
    " \n",
    "```python\n",
    "x = np.array([0, .1, .15, .35, .6, .7, .95, 1])\n",
    "y = np.array([1, 0,8187, 0,7408, 0,4966, 0,3012, 0,2466, 0,1496, 0,1353])\n",
    "\n",
    "mon<_>interp<_>plotter(x, y, np.linspace(0, 1, 101), 'le plus proche')\n",
    "```\n",
    "\n",
    "idhtml1\n",
    "\n",
    "```python\n",
    "mon<_>interp<_>plotter(x, y, np.linspace(0, 1, 101), 'linéaire')\n",
    "```\n",
    "idhtml2\n",
    "\n",
    "```python\n",
    "mon<_>interp<_>plotter(x, y, np.linspace(0, 1, 101), 'cubic')\n",
    "```\n",
    "<img src=\"./images/17.06.03-cubic_interpolation.jpg\" alt=\"Cubic interpolation\" title=\"Cubic interpolation\" width=\"500\"/>\n",
    "\n",
    "8. Écrivez une fonction*my_D_cubic_spline(x, y, X, D)*, où la sortie*Y*est l'interpolation de spline cubique à*X*extraite des points de données contenu dans*x*et*y*. Cependant, au lieu des conditions de point final épinglées standard (c'est-à-dire $S''_1(x_1) = 0$ et $S''_{n-1}(x_n) = 0$), vous devez utiliser les conditions de point final $S^{\\prime}_1(x_1) = D$ et $S^{\\prime}_{n-1}(x_n) = D$ (c'est-à-dire que la pente des polynômes d'interpolation aux points finaux est $D$).\n",
    "\n",
    " Cas de tests :\n",
    " \n",
    "```python\n",
    "x = [0, 1, 2, 3, 4]\n",
    "y = [0, 0, 1, 0, 0]\n",
    "X = np.linspace(0, 4, 101)\n",
    "\n",
    "#Solution : Y = 0,54017857\n",
    "Y = ma<_>D<_>cubique<_>spline(x, y, 1.5, 1)\n",
    "\n",
    "plt.figure (taille de la figure = (10, 8))\n",
    "plt.subplot(221)\n",
    "plt.plot(x, y, 'ro', X, mon<_>D<_>cubic<_>spline(x, y, X, 0), 'b')\n",
    "plt.subplot(222)\n",
    "plt.plot(x, y, 'ro', X, mon<_>D<_>cubique<_>spline(x, y, X, 1), 'b')\n",
    "plt.subplot(223)\n",
    "plt.plot(x, y, 'ro', X, mon<_>D<_>cubique<_>spline(x, y, X, -1), 'b')\n",
    "plt.subplot(224)\n",
    "plt.plot(x, y, 'ro', X, mon<_>D<_>cubique<_>spline(x, y, X, 4), 'b')\n",
    "plt.tight<_>layout()\n",
    "plt.show()\n",
    "```\n",
    "\n",
    "<img src=\"./images/17.06.04-D_cubic_interpolation.jpg\" alt=\"D cubic interpolation\" title=\"D cubic interpolation\" width=\"500\"/>\n",
    "\n",
    "9. Écrivez une fonction*my_lagrange(x, y, X)*, où la sortie*Y*est l'interpolation de Lagrange des points de données contenus dans*x*et <*>y* calculé à *X*. Astuce : utilisez une boucle for imbriquée, où la boucle for interne calcule le produit du polynôme de base de Lagrange et la boucle externe calcule la somme du polynôme de Lagrange. N'utilisez pas la fonction *lagrange* existante de scipy.\n",
    "\n",
    " Cas de tests\n",
    " \n",
    "```python\n",
    "x = [0, 1, 2, 3, 4]\n",
    "y = [2, 1, 3, 5, 1]\n",
    "\n",
    "X = np.linspace(0, 4, 101)\n",
    "\n",
    "plt.figure (taille de la figure = (10,8 ))\n",
    "plt.plot(X, my_lagrange(x, y, X), 'b', label = 'interpolation')\n",
    "plt.plot(x, y, 'ro', label = 'points de données')\n",
    "\n",
    "plt.xlabel('x')\n",
    "plt.ylabel('y')\n",
    "\n",
    "plt.title(f'Interpolation Lagrange des points de données')\n",
    "plt.legend()\n",
    "plt.show()\n",
    "```\n",
    "\n",
    "<img src=\"./images/17.06.05-Lagrange_interpolation.jpg\" alt=\"Lagrange interpolation\" title=\"Lagrange interpolation\" width=\"500\"/>\n",
    "\n",
    "10. Ajustez les données x = [0, 1, 2, 3, 4], y = [2, 1, 3, 5, 1] ​​en utilisant l'interpolation polynomiale de Newton."
   ]
  },
  {
   "cell_type": "markdown",
   "metadata": {
    "button": false,
    "new_sheet": false,
    "run_control": {
     "read_only": false
    }
   },
   "source": [
    "< [17.5 Newton's Polynomial Interpolation](chapter17.05-Newtons-Polynomial-Interpolation.ipynb)  | [Contents](Index.ipynb) | [CHAPTER 18. Series](chapter18.00-Series.ipynb) >"
   ]
  }
 ],
 "metadata": {
  "kernelspec": {
   "display_name": "Python 3 (ipykernel)",
   "language": "python",
   "name": "python3"
  },
  "language_info": {
   "codemirror_mode": {
    "name": "ipython",
    "version": 3
   },
   "file_extension": ".py",
   "mimetype": "text/x-python",
   "name": "python",
   "nbconvert_exporter": "python",
   "pygments_lexer": "ipython3",
   "version": "3.11.7"
  },
  "nbTranslate": {
   "displayLangs": [
    "*"
   ],
   "hotkey": "alt-t",
   "langInMainMenu": true,
   "sourceLang": "en",
   "targetLang": "fr",
   "useGoogleTranslate": true
  }
 },
 "nbformat": 4,
 "nbformat_minor": 2
}
