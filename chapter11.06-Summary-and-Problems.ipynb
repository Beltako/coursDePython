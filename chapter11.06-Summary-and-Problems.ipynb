{
 "cells": [
  {
   "cell_type": "markdown",
   "metadata": {
    "button": false,
    "new_sheet": false,
    "run_control": {
     "read_only": false
    }
   },
   "source": [
    "<!--BOOK_INFORMATION-->\n",
    "<img align=\"left\" style=\"padding-right:10px;\" src=\"images/book_cover.jpg\" width=\"120\">\n",
    "\n",
    "*Ce cahier contient un extrait de [Programmation Python et méthodes numériques - Un guide pour les ingénieurs et les scientifiques](https://pythonnumericalmethods.berkeley.edu/notebooks/Index.html), le contenu est également disponible sur [Berkeley Python Numerical Methods](https://pythonnumericalmethods.berkeley.edu/notebooks/Index.html).*\n",
    "\n",
    "*Les droits d'auteur du livre appartiennent à Elsevier. Nous avons également ce livre interactif en ligne pour une meilleure expérience d'apprentissage. Le code est publié sous la [licence MIT](https://opensource.org/licenses/MIT). Si vous trouvez ce contenu utile, pensez à soutenir le travail sur [Elsevier](https://www.elsevier.com/books/python-programming-and-numerical-methods/kong/978-0-12-819549-9) ou [Amazon](https://www.amazon.com/Python-Programming-Numerical-Methods-Scientists/dp/0128195495/ref=sr_1_1?dchild=1&keywords=Python+Programming+and+Numerical+Methods+-+A+Guide+for+Engineers+and+Scientists&qid=1604761352&sr=8-1) !*"
   ]
  },
  {
   "cell_type": "markdown",
   "metadata": {
    "button": false,
    "new_sheet": false,
    "run_control": {
     "read_only": false
    }
   },
   "source": [
    "<!--NAVIGATION-->\n",
    "< [11.5 HDF5 Files](chapter11.05-HDF5-Files.ipynb) | [Contents](Index.ipynb) | [CHAPTER 12.  Visualization and Plotting](chapter12.00-Visualization-and-Plotting.ipynb) >"
   ]
  },
  {
   "cell_type": "markdown",
   "metadata": {
    "lang": "fr"
   },
   "source": [
    "# Résumé\n",
    "\n",
    "\n",
    "1. Les données doivent souvent être stockées sur le disque pour une session Python ultérieure ou pour être lues par d'autres programmes.\n",
    "2. Les données créées par d'autres programmes devront peut-être être lues par Python.\n",
    "3. Python dispose de fonctions pour lire et écrire des données sous plusieurs formes standard : txt, csv, pickle et hdf5."
   ]
  },
  {
   "cell_type": "markdown",
   "metadata": {
    "lang": "fr"
   },
   "source": [
    "# Problèmes\n",
    "\n",
    "1. Créez une liste et enregistrez-la dans un fichier texte afin que chacun des éléments de la liste occupe une ligne.\n",
    "2. Enregistrez la même liste du problème 1 dans un fichier CSV.\n",
    "3. Créez un tableau `numpy` 2D, enregistrez-le dans un fichier CSV et relisez-le dans un tableau 2D.\n",
    "4. Enregistrez le même tableau du problème 2 dans un fichier pickle et chargez-le à nouveau.\n",
    "5. Créez un dictionnaire et enregistrez-le dans un fichier JSON.\n",
    "6. Créez un tableau `numpy` 1D et enregistrez-le dans un fichier JSON avec la clé nommée 'data'. Puis rechargez-le."
   ]
  },
  {
   "cell_type": "markdown",
   "metadata": {
    "button": false,
    "new_sheet": false,
    "run_control": {
     "read_only": false
    }
   },
   "source": [
    "<!--NAVIGATION-->\n",
    "< [11.4 HDF5 Files](chapter11.04-HDF5-Files.ipynb) | [Contents](Index.ipynb) | [CHAPTER 12.  Visualization and Plotting](chapter12.00-Visualization-and-Plotting.ipynb) >"
   ]
  }
 ],
 "metadata": {
  "kernelspec": {
   "display_name": "Python 3 (ipykernel)",
   "language": "python",
   "name": "python3"
  },
  "language_info": {
   "codemirror_mode": {
    "name": "ipython",
    "version": 3
   },
   "file_extension": ".py",
   "mimetype": "text/x-python",
   "name": "python",
   "nbconvert_exporter": "python",
   "pygments_lexer": "ipython3",
   "version": "3.11.7"
  },
  "nbTranslate": {
   "displayLangs": [
    "*"
   ],
   "hotkey": "alt-t",
   "langInMainMenu": true,
   "sourceLang": "en",
   "targetLang": "fr",
   "useGoogleTranslate": true
  }
 },
 "nbformat": 4,
 "nbformat_minor": 2
}
