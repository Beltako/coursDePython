{
 "cells": [
  {
   "cell_type": "markdown",
   "metadata": {
    "button": false,
    "new_sheet": false,
    "run_control": {
     "read_only": false
    }
   },
   "source": [
    "<!--BOOK_INFORMATION-->\n",
    "<img align=\"left\" style=\"padding-right:10px;\" src=\"images/book_cover.jpg\" width=\"120\">\n",
    "\n",
    "*Ce cahier contient un extrait de [Programmation Python et méthodes numériques - Un guide pour les ingénieurs et les scientifiques](https://pythonnumericalmethods.berkeley.edu/notebooks/Index.html), le contenu est également disponible sur [Berkeley Python Numerical Methods](https://pythonnumericalmethods.berkeley.edu/notebooks/Index.html).*\n",
    "\n",
    "*Les droits d'auteur du livre appartiennent à Elsevier. Nous avons également ce livre interactif en ligne pour une meilleure expérience d'apprentissage. Le code est publié sous la [licence MIT](https://opensource.org/licenses/MIT). Si vous trouvez ce contenu utile, pensez à soutenir le travail sur [Elsevier](https://www.elsevier.com/books/python-programming-and-numerical-methods/kong/978-0-12-819549-9) ou [Amazon](https://www.amazon.com/Python-Programming-Numerical-Methods-Scientists/dp/0128195495/ref=sr_1_1?dchild=1&keywords=Python+Programming+and+Numerical+Methods+-+A+Guide+for+Engineers+and+Scientists&qid=1604761352&sr=8-1) !*"
   ]
  },
  {
   "cell_type": "markdown",
   "metadata": {
    "button": false,
    "new_sheet": false,
    "run_control": {
     "read_only": false
    }
   },
   "source": [
    "<!--NAVIGATION-->\n",
    "< [14.2 Linear Transformations](chapter14.02-Linear-Transformations.ipynb) | [Contents](Index.ipynb) | [14.4 Solutions to Systems of Linear Equations](chapter14.04-Solutions-to-Systems-of-Linear-Equations.ipynb) >"
   ]
  },
  {
   "cell_type": "markdown",
   "metadata": {
    "lang": "fr"
   },
   "source": [
    "# Systèmes d'équations linéaires"
   ]
  },
  {
   "cell_type": "markdown",
   "metadata": {
    "lang": "fr"
   },
   "source": [
    "Un $\\textbf{linear equation}$ est une égalité de la forme\n",
    "$$\n",
    "\\sum_{i = 1}^{n} (a_i x_i) = y,\n",
    "$$\n",
    "où $a_i$ sont des scalaires, $x_i$ sont des variables inconnues dans $\\mathbb{R}$ et $y$ est un scalaire.\n",
    "\n",
    "**ESSAYEZ-LE !** Déterminez laquelle des équations suivantes est linéaire et laquelle ne l'est pas. Pour ceux qui ne sont pas linéaires, pouvez-vous les manipuler pour qu’ils le soient ?\n",
    "\n",
    "1. $3x_1 + 4x_2 - 3 = -5x_3$\n",
    "2. $\\frac{-x_1 + x_2}{x_3} = 2$\n",
    "3. $x_1x_2 + x_3 = 5$\n",
    "\n",
    "L’équation 1 peut être réorganisée pour être $3x_1 + 4x_2 + 5x_3= 3$, ce qui\n",
    "a clairement la forme d’une équation linéaire. L'équation 2 n'est pas linéaire\n",
    "mais peut être réorganisé pour devenir $-x_1 + x_2 - 2x_3 = 0$, ce qui est\n",
    "linéaire. L'équation 3 n'est pas linéaire.\n",
    "\n",
    "Un $\\textbf{system of linear equations}$ est un ensemble d'équations linéaires qui partagent les mêmes variables. Considérons le système d'équations linéaires suivant :\n",
    "\n",
    "\\begin{eqnarray*}\n",
    "\\begin{array}{rcrcccccrcc}\n",
    "a_{1,1} x_1 &+& a_{1,2} x_2 &+& {\\ldots}& +& a_{1,n-1} x_{n-1} &+&a_{1,n} x_n &=& y_1,\\\\\n",
    "a_{2,1} x_1 &+& a_{2,2} x_2 &+&{\\ldots}& +& a_{2,n-1} x_{n-1} &+& a_{2,n} x_n &=& y_2, \\\\\n",
    "&&&&{\\ldots} &&{\\ldots}&&&& \\\\\n",
    "a_{m-1,1}x_1 &+& a_{m-1,2}x_2&+ &{\\ldots}& +& a_{m-1,n-1} x_{n-1} &+& a_{m-1,n} x_n &=& y_{m-1},\\\\\n",
    "a_{m,1} x_1 &+& a_{m,2}x_2 &+ &{\\ldots}& +& a_{m,n-1} x_{n-1} &+& a_{m,n} x_n &=& y_{m}.\n",
    "\\end{array}\n",
    "\\end{eqnarray*}\n",
    "\n",
    "où $a_{i,j}$ et $y_i$ sont des nombres réels. Le $\\textbf{matrix form}$ d'un système d'équations linéaires est $\\textbf{$Ax = y$}$ où $A$ est une matrice ${m} \\times {n}$, $A(i,j) = a_{i,j}, y$ est un vecteur dans ${\\mathbb{R}}^m$ et $x$ est un vecteur inconnu dans ${\\mathbb{R}}^n$. Le formulaire matriciel s'affiche comme ci-dessous :\n",
    "\n",
    "$$\\begin{bmatrix}\n",
    "a_{1,1} & a_{1,2} & ... & a_{1,n}\\\\\n",
    "a_{2,1} & a_{2,2} & ... & a_{2,n}\\\\\n",
    "... & ... & ... & ... \\\\\n",
    "a_{m,1} & a_{m,2} & ... & a_{m,n}\n",
    "\\end{bmatrix}\\left[\\begin{array}{c} x_1 \\\\x_2 \\\\ ... \\\\x_n \\end{array}\\right] =\n",
    "\\left[\\begin{array}{c} y_1 \\\\y_2 \\\\ ... \\\\y_m \\end{array}\\right]$$\n",
    "\n",
    "Si vous effectuez la multiplication matricielle, vous verrez que vous revenez au système d’équations d’origine.\n",
    "\n",
    "**ESSAYEZ-LE !** Mettez le système d’équations suivant sous forme matricielle.\n",
    "\\begin{eqnarray*}\n",
    "4x + 3y - 5z &=& 2 \\\\\n",
    "-2x - 4y + 5z &=& 5 \\\\\n",
    "7x + 8y   &=& -3 \\\\\n",
    "x   + 2z &=& 1  \\\\\n",
    "9 + y - 6z &=& 6 \\\\\n",
    "\\end{eqnarray*}\n",
    "\n",
    "$$\\begin{bmatrix}\n",
    "4 & 3 & -5\\\\\n",
    "-2 & -4 & 5\\\\\n",
    "7 & 8 & 0\\\\\n",
    "1 & 0 & 2\\\\\n",
    "9 & 1 & -6\n",
    "\\end{bmatrix}\\left[\\begin{array}{c} x \\\\y \\\\z \\end{array}\\right] =\n",
    "\\left[\\begin{array}{c} 2 \\\\5 \\\\-3 \\\\1 \\\\6 \\end{array}\\right]$$"
   ]
  },
  {
   "cell_type": "markdown",
   "metadata": {
    "button": false,
    "new_sheet": false,
    "run_control": {
     "read_only": false
    }
   },
   "source": [
    "<!--NAVIGATION-->\n",
    "< [14.2 Linear Transformations](chapter14.02-Linear-Transformations.ipynb) | [Contents](Index.ipynb) | [14.4 Solutions to Systems of Linear Equations](chapter14.04-Solutions-to-Systems-of-Linear-Equations.ipynb) >"
   ]
  }
 ],
 "metadata": {
  "kernelspec": {
   "display_name": "Python 3 (ipykernel)",
   "language": "python",
   "name": "python3"
  },
  "language_info": {
   "codemirror_mode": {
    "name": "ipython",
    "version": 3
   },
   "file_extension": ".py",
   "mimetype": "text/x-python",
   "name": "python",
   "nbconvert_exporter": "python",
   "pygments_lexer": "ipython3",
   "version": "3.11.7"
  },
  "nbTranslate": {
   "displayLangs": [
    "*"
   ],
   "hotkey": "alt-t",
   "langInMainMenu": true,
   "sourceLang": "en",
   "targetLang": "fr",
   "useGoogleTranslate": true
  }
 },
 "nbformat": 4,
 "nbformat_minor": 2
}
