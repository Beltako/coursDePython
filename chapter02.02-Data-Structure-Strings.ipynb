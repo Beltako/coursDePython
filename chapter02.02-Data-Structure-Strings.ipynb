{
 "cells": [
  {
   "cell_type": "markdown",
   "metadata": {
    "button": false,
    "new_sheet": false,
    "run_control": {
     "read_only": false
    }
   },
   "source": [
    "<!--BOOK_INFORMATION-->\n",
    "<img align=\"left\" style=\"padding-right:10px;\" src=\"images/book_cover.jpg\" width=\"120\">\n",
    "\n",
    "*Ce cahier contient un extrait de [Programmation Python et méthodes numériques - Un guide pour les ingénieurs et les scientifiques](https://pythonnumericalmethods.berkeley.edu/notebooks/Index.html), le contenu est également disponible sur [Berkeley Python Numerical Methods](https://pythonnumericalmethods.berkeley.edu/notebooks/Index.html).*\n",
    "\n",
    "*Les droits d'auteur du livre appartiennent à Elsevier. Nous avons également ce livre interactif en ligne pour une meilleure expérience d'apprentissage. Le code est publié sous la [licence MIT](https://opensource.org/licenses/MIT). Si vous trouvez ce contenu utile, pensez à soutenir le travail sur [Elsevier](https://www.elsevier.com/books/python-programming-and-numerical-methods/kong/978-0-12-819549-9) ou [Amazon](https://www.amazon.com/Python-Programming-Numerical-Methods-Scientists/dp/0128195495/ref=sr_1_1?dchild=1&keywords=Python+Programming+and+Numerical+Methods+-+A+Guide+for+Engineers+and+Scientists&qid=1604761352&sr=8-1) !*"
   ]
  },
  {
   "cell_type": "markdown",
   "metadata": {
    "button": false,
    "new_sheet": false,
    "run_control": {
     "read_only": false
    }
   },
   "source": [
    "<!--NAVIGATION-->\n",
    "< [2.1 Variables and Assignment](chapter02.01-Variables-and-Assignment.ipynb) | [Contents](Index.ipynb) | [2.3 Data Structure - Lists](chapter02.03-Data-Structure-Lists.ipynb) >"
   ]
  },
  {
   "cell_type": "markdown",
   "metadata": {
    "lang": "fr"
   },
   "source": [
    "# Structure de données - Chaînes"
   ]
  },
  {
   "cell_type": "markdown",
   "metadata": {
    "lang": "fr"
   },
   "source": [
    "Nous avons parlé de différents types de données, tels que int, float et boolean, tous liés à une valeur unique. Le reste de ce chapitre vous présentera davantage de types de données afin que nous puissions stocker plusieurs valeurs. La structure de données liée à ces nouveaux types est constituée de chaînes, de listes, de tuples, d'ensembles et de dictionnaires. Nous allons commencer par les cordes."
   ]
  },
  {
   "cell_type": "markdown",
   "metadata": {
    "lang": "fr"
   },
   "source": [
    "Une chaîne est une séquence de caractères, comme « Hello World » que nous avons vu au chapitre 1. Les chaînes sont entourées de guillemets simples ou doubles. Nous pourrions utiliser la fonction *print* pour afficher les chaînes à l'écran.\n",
    "\n",
    "**ESSAYEZ-LE !** Imprimez \"J'adore Python !\" à l'écran."
   ]
  },
  {
   "cell_type": "code",
   "execution_count": 1,
   "metadata": {
    "button": false,
    "collapsed": true,
    "new_sheet": false,
    "run_control": {
     "read_only": false
    }
   },
   "outputs": [],
   "source": [
    "print(\"I love Python!\")"
   ]
  },
  {
   "cell_type": "markdown",
   "metadata": {
    "lang": "fr"
   },
   "source": [
    "**ESSAYEZ-LE !** Attribuez le caractère \"S\" à la variable portant le nom s. Attribuez la chaîne \"Hello World\" à la variable w. Vérifiez que s et w ont la chaîne de type à l'aide de la fonction *type*."
   ]
  },
  {
   "cell_type": "code",
   "execution_count": 2,
   "metadata": {
    "button": false,
    "collapsed": true,
    "new_sheet": false,
    "run_control": {
     "read_only": false
    }
   },
   "outputs": [],
   "source": [
    "s = \"S\"\n",
    "w = \"Hello World\""
   ]
  },
  {
   "cell_type": "code",
   "execution_count": 3,
   "metadata": {
    "button": false,
    "new_sheet": false,
    "run_control": {
     "read_only": false
    }
   },
   "outputs": [
    {
     "data": {
      "text/plain": [
       "str"
      ]
     },
     "execution_count": 3,
     "metadata": {},
     "output_type": "execute_result"
    }
   ],
   "source": [
    "type(s)"
   ]
  },
  {
   "cell_type": "code",
   "execution_count": 4,
   "metadata": {
    "button": false,
    "new_sheet": false,
    "run_control": {
     "read_only": false
    }
   },
   "outputs": [
    {
     "data": {
      "text/plain": [
       "str"
      ]
     },
     "execution_count": 4,
     "metadata": {},
     "output_type": "execute_result"
    }
   ],
   "source": [
    "type(w)"
   ]
  },
  {
   "cell_type": "markdown",
   "metadata": {
    "lang": "fr"
   },
   "source": [
    "Notez qu'un espace vide, \" \", entre \"Hello\" et \"World\" est également un type *str*. N'importe quel symbole peut être un caractère, même ceux réservés aux opérateurs. Notez qu'en tant que *str*, ils ne remplissent pas la même fonction. Bien qu’ils se ressemblent, Python les interprète complètement différemment."
   ]
  },
  {
   "cell_type": "markdown",
   "metadata": {
    "lang": "fr"
   },
   "source": [
    "**ESSAYEZ-LE !** Créez une chaîne vide. Vérifiez que la chaîne vide est un *str*."
   ]
  },
  {
   "cell_type": "code",
   "execution_count": 5,
   "metadata": {
    "button": false,
    "new_sheet": false,
    "run_control": {
     "read_only": false
    }
   },
   "outputs": [
    {
     "data": {
      "text/plain": [
       "str"
      ]
     },
     "execution_count": 5,
     "metadata": {},
     "output_type": "execute_result"
    }
   ],
   "source": [
    "s = \" \"\n",
    "type(s)"
   ]
  },
  {
   "cell_type": "markdown",
   "metadata": {
    "lang": "fr"
   },
   "source": [
    "Une chaîne est un tableau de caractères, elle a donc une longueur pour indiquer la taille de la chaîne. Par exemple, nous pourrions vérifier la taille de la chaîne en utilisant la fonction intégrée *len*."
   ]
  },
  {
   "cell_type": "code",
   "execution_count": 6,
   "metadata": {
    "button": false,
    "new_sheet": false,
    "run_control": {
     "read_only": false
    }
   },
   "outputs": [
    {
     "data": {
      "text/plain": [
       "11"
      ]
     },
     "execution_count": 6,
     "metadata": {},
     "output_type": "execute_result"
    }
   ],
   "source": [
    "len(w)"
   ]
  },
  {
   "cell_type": "markdown",
   "metadata": {
    "lang": "fr"
   },
   "source": [
    "Les chaînes ont également des index pour indiquer l'emplacement de chaque caractère, afin que nous puissions facilement trouver un caractère. L'index de la position commence par 0, comme le montre l'image suivante.\n",
    "\n",
    "![String_index](./images/02.02.01-hello_world_index.png \"Index de chaîne pour l'exemple de Hello World\")"
   ]
  },
  {
   "cell_type": "markdown",
   "metadata": {
    "lang": "fr"
   },
   "source": [
    "Nous pourrions accéder à n'importe quel caractère en utilisant une parenthèse et l'index de la position. Par exemple, si nous voulons obtenir le caractère 'W', alors nous devons faire :"
   ]
  },
  {
   "cell_type": "code",
   "execution_count": 7,
   "metadata": {
    "button": false,
    "new_sheet": false,
    "run_control": {
     "read_only": false
    }
   },
   "outputs": [
    {
     "data": {
      "text/plain": [
       "'W'"
      ]
     },
     "execution_count": 7,
     "metadata": {},
     "output_type": "execute_result"
    }
   ],
   "source": [
    "w[6]"
   ]
  },
  {
   "cell_type": "markdown",
   "metadata": {
    "lang": "fr"
   },
   "source": [
    "Nous pourrions également sélectionner une séquence en utilisant le découpage de chaînes. Par exemple, si nous voulons obtenir le « Monde », nous pourrions exécuter la commande suivante."
   ]
  },
  {
   "cell_type": "code",
   "execution_count": 8,
   "metadata": {
    "button": false,
    "new_sheet": false,
    "run_control": {
     "read_only": false
    }
   },
   "outputs": [
    {
     "data": {
      "text/plain": [
       "'World'"
      ]
     },
     "execution_count": 8,
     "metadata": {},
     "output_type": "execute_result"
    }
   ],
   "source": [
    "w[6:11]"
   ]
  },
  {
   "cell_type": "markdown",
   "metadata": {
    "lang": "fr"
   },
   "source": [
    "[6:11] signifie que la position de début est à partir de l'index 6 et la position de fin est l'index 10. Pour la plage de découpage de chaîne Python, la limite supérieure est exclusive, ce qui signifie que [6:11] consiste en fait à découper les caractères à partir de 6. -> 10. La syntaxe du découpage en Python est [start:end:step], la 3ème étape est facultative."
   ]
  },
  {
   "cell_type": "markdown",
   "metadata": {
    "lang": "fr"
   },
   "source": [
    "Vous pouvez ignorer la position de fin si vous souhaitez découper jusqu'à la fin de la chaîne. Par exemple, la commande suivante est la même que celle ci-dessus :"
   ]
  },
  {
   "cell_type": "code",
   "execution_count": 9,
   "metadata": {
    "button": false,
    "new_sheet": false,
    "run_control": {
     "read_only": false
    }
   },
   "outputs": [
    {
     "data": {
      "text/plain": [
       "'World'"
      ]
     },
     "execution_count": 9,
     "metadata": {},
     "output_type": "execute_result"
    }
   ],
   "source": [
    "w[6:]"
   ]
  },
  {
   "cell_type": "markdown",
   "metadata": {
    "lang": "fr"
   },
   "source": [
    "**ESSAYEZ-LE !** Récupérez le mot \"Bonjour\" à partir de la chaîne *w*."
   ]
  },
  {
   "cell_type": "code",
   "execution_count": 10,
   "metadata": {
    "button": false,
    "new_sheet": false,
    "run_control": {
     "read_only": false
    }
   },
   "outputs": [
    {
     "data": {
      "text/plain": [
       "'Hello'"
      ]
     },
     "execution_count": 10,
     "metadata": {},
     "output_type": "execute_result"
    }
   ],
   "source": [
    "w[:5]"
   ]
  },
  {
   "cell_type": "markdown",
   "metadata": {
    "lang": "fr"
   },
   "source": [
    "Vous pouvez également utiliser un index négatif lors du découpage des chaînes, ce qui signifie compter à partir de la fin de la chaîne. Par exemple, -1 signifie le dernier caractère, -2 signifie l'avant-dernier et ainsi de suite.\n",
    "\n",
    "**ESSAYEZ-LE !** Découpez le « Wor » dans le mot « Monde »."
   ]
  },
  {
   "cell_type": "code",
   "execution_count": 11,
   "metadata": {
    "button": false,
    "new_sheet": false,
    "run_control": {
     "read_only": false
    }
   },
   "outputs": [
    {
     "data": {
      "text/plain": [
       "'Wor'"
      ]
     },
     "execution_count": 11,
     "metadata": {},
     "output_type": "execute_result"
    }
   ],
   "source": [
    "w[6:-2]"
   ]
  },
  {
   "cell_type": "markdown",
   "metadata": {
    "lang": "fr"
   },
   "source": [
    "**ESSAYEZ-LE !** Récupérez tous les autres caractères de la variable *w*"
   ]
  },
  {
   "cell_type": "code",
   "execution_count": 12,
   "metadata": {
    "button": false,
    "new_sheet": false,
    "run_control": {
     "read_only": false
    }
   },
   "outputs": [
    {
     "data": {
      "text/plain": [
       "'HloWrd'"
      ]
     },
     "execution_count": 12,
     "metadata": {},
     "output_type": "execute_result"
    }
   ],
   "source": [
    "w[::2]"
   ]
  },
  {
   "cell_type": "markdown",
   "metadata": {
    "lang": "fr"
   },
   "source": [
    "Les chaînes ne peuvent pas être utilisées dans les opérations mathématiques."
   ]
  },
  {
   "cell_type": "markdown",
   "metadata": {
    "lang": "fr"
   },
   "source": [
    "**ESSAYEZ-LE !** Utilisez '+' pour ajouter deux nombres. Vérifiez que \"+\" ne se comporte pas comme l'opérateur d'addition `+`."
   ]
  },
  {
   "cell_type": "code",
   "execution_count": 13,
   "metadata": {
    "button": false,
    "new_sheet": false,
    "run_control": {
     "read_only": false
    }
   },
   "outputs": [
    {
     "ename": "SyntaxError",
     "evalue": "invalid syntax (<ipython-input-13-46b54f731e00>, line 1)",
     "output_type": "error",
     "traceback": [
      "\u001b[0;36m  File \u001b[0;32m\"<ipython-input-13-46b54f731e00>\"\u001b[0;36m, line \u001b[0;32m1\u001b[0m\n\u001b[0;31m    1 \"+\" 2\u001b[0m\n\u001b[0m        ^\u001b[0m\n\u001b[0;31mSyntaxError\u001b[0m\u001b[0;31m:\u001b[0m invalid syntax\n"
     ]
    }
   ],
   "source": [
    "1 \"+\" 2"
   ]
  },
  {
   "cell_type": "markdown",
   "metadata": {
    "lang": "fr"
   },
   "source": [
    "**ATTENTION !** Les nombres peuvent également être exprimés sous la forme *str*. Par exemple, `x = '123'` signifie que x est la chaîne 123 et non le nombre 123. Cependant, les chaînes représentent des mots ou du texte et ne doivent donc pas avoir d'addition définie."
   ]
  },
  {
   "cell_type": "markdown",
   "metadata": {
    "lang": "fr"
   },
   "source": [
    "**CONSEIL !** Vous pourriez vous retrouver dans une situation où vous souhaiteriez utiliser une apostrophe comme *str*. Ceci est problématique puisqu'une apostrophe est utilisée pour désigner des chaînes. Heureusement, une apostrophe peut être utilisée dans une chaîne de la manière suivante. La barre oblique inverse (\\) est un moyen d'indiquer à Python que cela fait partie de la chaîne, et non de désigner des chaînes. Le caractère barre oblique inverse est utilisé pour échapper les caractères qui ont autrement une signification particulière, tels que la nouvelle ligne, la barre oblique inverse elle-même ou le caractère guillemet."
   ]
  },
  {
   "cell_type": "code",
   "execution_count": 14,
   "metadata": {
    "button": false,
    "new_sheet": false,
    "run_control": {
     "read_only": false
    }
   },
   "outputs": [
    {
     "data": {
      "text/plain": [
       "\"don't\""
      ]
     },
     "execution_count": 14,
     "metadata": {},
     "output_type": "execute_result"
    }
   ],
   "source": [
    "'don\\'t'"
   ]
  },
  {
   "cell_type": "markdown",
   "metadata": {
    "lang": "fr"
   },
   "source": [
    "Une chaîne peut être concaténée à une autre chaîne. Par exemple:"
   ]
  },
  {
   "cell_type": "code",
   "execution_count": 15,
   "metadata": {
    "button": false,
    "new_sheet": false,
    "run_control": {
     "read_only": false
    }
   },
   "outputs": [
    {
     "name": "stdout",
     "output_type": "stream",
     "text": [
      "I love Python! You too!\n"
     ]
    }
   ],
   "source": [
    "str_a = \"I love Python! \"\n",
    "str_b = \"You too!\"\n",
    "\n",
    "print(str_a + str_b)"
   ]
  },
  {
   "cell_type": "markdown",
   "metadata": {
    "lang": "fr"
   },
   "source": [
    "Nous pourrions également convertir d'autres types de données en chaînes à l'aide de la fonction intégrée *str*. Ceci est utile, par exemple, nous avons une variable x qui stocke 1 comme type entier, si nous voulons l'imprimer directement avec une chaîne, nous obtiendrons une erreur indiquant que nous ne pouvons pas concaténer une chaîne avec un entier."
   ]
  },
  {
   "cell_type": "code",
   "execution_count": 16,
   "metadata": {
    "button": false,
    "new_sheet": false,
    "run_control": {
     "read_only": false
    }
   },
   "outputs": [
    {
     "ename": "TypeError",
     "evalue": "can only concatenate str (not \"int\") to str",
     "output_type": "error",
     "traceback": [
      "\u001b[0;31m---------------------------------------------------------------------------\u001b[0m",
      "\u001b[0;31mTypeError\u001b[0m                                 Traceback (most recent call last)",
      "\u001b[0;32m<ipython-input-16-3e562ba0dd83>\u001b[0m in \u001b[0;36m<module>\u001b[0;34m()\u001b[0m\n\u001b[1;32m      1\u001b[0m \u001b[0mx\u001b[0m \u001b[0;34m=\u001b[0m \u001b[0;36m1\u001b[0m\u001b[0;34m\u001b[0m\u001b[0m\n\u001b[0;32m----> 2\u001b[0;31m \u001b[0mprint\u001b[0m\u001b[0;34m(\u001b[0m\u001b[0;34m\"x = \"\u001b[0m \u001b[0;34m+\u001b[0m \u001b[0mx\u001b[0m\u001b[0;34m)\u001b[0m\u001b[0;34m\u001b[0m\u001b[0m\n\u001b[0m",
      "\u001b[0;31mTypeError\u001b[0m: can only concatenate str (not \"int\") to str"
     ]
    }
   ],
   "source": [
    "x = 1\n",
    "print(\"x = \" + x)"
   ]
  },
  {
   "cell_type": "markdown",
   "metadata": {
    "lang": "fr"
   },
   "source": [
    "La bonne façon de procéder est de convertir d’abord l’entier en chaîne, puis de l’imprimer.\n",
    "\n",
    "**ESSAYEZ-LE !** Imprimez *x = 1* à l'écran."
   ]
  },
  {
   "cell_type": "code",
   "execution_count": 17,
   "metadata": {
    "button": false,
    "new_sheet": false,
    "run_control": {
     "read_only": false
    }
   },
   "outputs": [
    {
     "name": "stdout",
     "output_type": "stream",
     "text": [
      "x = 1\n"
     ]
    }
   ],
   "source": [
    "print(\"x = \" + str(x))"
   ]
  },
  {
   "cell_type": "code",
   "execution_count": 18,
   "metadata": {
    "button": false,
    "new_sheet": false,
    "run_control": {
     "read_only": false
    }
   },
   "outputs": [
    {
     "data": {
      "text/plain": [
       "str"
      ]
     },
     "execution_count": 18,
     "metadata": {},
     "output_type": "execute_result"
    }
   ],
   "source": [
    "type(str(x))"
   ]
  },
  {
   "cell_type": "markdown",
   "metadata": {
    "lang": "fr"
   },
   "source": [
    "En Python, une chaîne est un objet doté de diverses méthodes pouvant être utilisées pour la manipuler (nous parlerons davantage de la programmation orientée objet plus tard). La façon d'accéder aux différentes méthodes consiste à utiliser ce modèle \"string.method_name\".\n",
    "\n",
    "**ESSAYEZ-LE !** Tournez la variable w en majuscule."
   ]
  },
  {
   "cell_type": "code",
   "execution_count": 19,
   "metadata": {
    "button": false,
    "new_sheet": false,
    "run_control": {
     "read_only": false
    }
   },
   "outputs": [
    {
     "data": {
      "text/plain": [
       "'HELLO WORLD'"
      ]
     },
     "execution_count": 19,
     "metadata": {},
     "output_type": "execute_result"
    }
   ],
   "source": [
    "w.upper()"
   ]
  },
  {
   "cell_type": "markdown",
   "metadata": {
    "lang": "fr"
   },
   "source": [
    "**ESSAYEZ-LE !** Comptez le nombre d'occurrences de la lettre \"l\" dans w."
   ]
  },
  {
   "cell_type": "code",
   "execution_count": 20,
   "metadata": {
    "button": false,
    "new_sheet": false,
    "run_control": {
     "read_only": false
    }
   },
   "outputs": [
    {
     "data": {
      "text/plain": [
       "3"
      ]
     },
     "execution_count": 20,
     "metadata": {},
     "output_type": "execute_result"
    }
   ],
   "source": [
    "w.count(\"l\")"
   ]
  },
  {
   "cell_type": "markdown",
   "metadata": {
    "lang": "fr"
   },
   "source": [
    "**ESSAYEZ-LE !** Remplacez le \"Monde\" dans la variable w par \"Berkeley\"."
   ]
  },
  {
   "cell_type": "code",
   "execution_count": 21,
   "metadata": {
    "button": false,
    "new_sheet": false,
    "run_control": {
     "read_only": false
    }
   },
   "outputs": [
    {
     "data": {
      "text/plain": [
       "'Hello Berkeley'"
      ]
     },
     "execution_count": 21,
     "metadata": {},
     "output_type": "execute_result"
    }
   ],
   "source": [
    "w.replace(\"World\", \"Berkeley\")"
   ]
  },
  {
   "cell_type": "markdown",
   "metadata": {
    "lang": "fr"
   },
   "source": [
    "Il existe différentes manières de préformater une chaîne. Nous présentons ici deux façons de procéder. Par exemple, si nous avons deux variables *name* et *country* et que nous voulons les imprimer dans une phrase, mais que nous ne voulons pas utiliser la concaténation de chaînes que nous avons utilisée auparavant, car il utilisera de nombreux signes « + » dans la chaîne. Nous pourrions plutôt faire ce qui suit :"
   ]
  },
  {
   "cell_type": "code",
   "execution_count": 22,
   "metadata": {
    "button": false,
    "new_sheet": false,
    "run_control": {
     "read_only": false
    }
   },
   "outputs": [
    {
     "name": "stdout",
     "output_type": "stream",
     "text": [
      "UC Berkeley is a great school in USA!\n"
     ]
    }
   ],
   "source": [
    "name = \"UC Berkeley\"\n",
    "country = 'USA'\n",
    "\n",
    "print(\"%s is a great school in %s!\"%(name, country))"
   ]
  },
  {
   "cell_type": "markdown",
   "metadata": {
    "lang": "fr"
   },
   "source": [
    "**QUE SE PASSE-T-IL ?** Dans l'exemple précédent, le %s entre guillemets doubles indique à Python que nous voulons insérer des chaînes à cet emplacement (s signifie chaîne dans ce cas). Le *%(name, country)* est l'endroit où se trouvent les deux chaînes que nous voulons insérer."
   ]
  },
  {
   "cell_type": "markdown",
   "metadata": {
    "lang": "fr"
   },
   "source": [
    "**NOUVEAU !** Il existe une méthode différente qui n'a été introduite que dans Python 3.6 et versions ultérieures, elle s'appelle f-String, ce qui signifie chaîne formatée. Vous pouvez facilement formater une chaîne avec la ligne suivante :"
   ]
  },
  {
   "cell_type": "code",
   "execution_count": 23,
   "metadata": {
    "button": false,
    "new_sheet": false,
    "run_control": {
     "read_only": false
    }
   },
   "outputs": [
    {
     "name": "stdout",
     "output_type": "stream",
     "text": [
      "UC Berkeley is a great school in USA.\n"
     ]
    }
   ],
   "source": [
    "print(f\"{name} is a great school in {country}.\")"
   ]
  },
  {
   "cell_type": "markdown",
   "metadata": {
    "lang": "fr"
   },
   "source": [
    "Vous pouvez même imprimer une expression numérique sans convertir le type de données comme nous le faisions auparavant.\n",
    "\n",
    "**ESSAYEZ-le !** Imprimez le résultat de *3*4* directement en utilisant f-String."
   ]
  },
  {
   "cell_type": "code",
   "execution_count": 24,
   "metadata": {
    "button": false,
    "new_sheet": false,
    "run_control": {
     "read_only": false
    }
   },
   "outputs": [
    {
     "name": "stdout",
     "output_type": "stream",
     "text": [
      "12\n"
     ]
    }
   ],
   "source": [
    "print(f\"{3*4}\")"
   ]
  },
  {
   "cell_type": "markdown",
   "metadata": {
    "lang": "fr"
   },
   "source": [
    "Ok, nous avons appris beaucoup de choses de la structure de données - chaîne, c'est notre première structure de données séquentielle. Apprenons-en plus maintenant."
   ]
  },
  {
   "cell_type": "markdown",
   "metadata": {
    "button": false,
    "new_sheet": false,
    "run_control": {
     "read_only": false
    }
   },
   "source": [
    "<!--NAVIGATION-->\n",
    "< [2.1 Variables and Assignment](chapter02.01-Variables-and-Assignment.ipynb) | [Contents](Index.ipynb) | [2.3 Data Structure - Lists](chapter02.03-Data-Structure-Lists.ipynb) >"
   ]
  }
 ],
 "metadata": {
  "kernelspec": {
   "display_name": "Python 3 (ipykernel)",
   "language": "python",
   "name": "python3"
  },
  "language_info": {
   "codemirror_mode": {
    "name": "ipython",
    "version": 3
   },
   "file_extension": ".py",
   "mimetype": "text/x-python",
   "name": "python",
   "nbconvert_exporter": "python",
   "pygments_lexer": "ipython3",
   "version": "3.11.7"
  },
  "nbTranslate": {
   "displayLangs": [
    "*"
   ],
   "hotkey": "alt-t",
   "langInMainMenu": true,
   "sourceLang": "en",
   "targetLang": "fr",
   "useGoogleTranslate": true
  }
 },
 "nbformat": 4,
 "nbformat_minor": 2
}
