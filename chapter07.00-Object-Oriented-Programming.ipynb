{
 "cells": [
  {
   "cell_type": "markdown",
   "metadata": {
    "button": false,
    "new_sheet": false,
    "run_control": {
     "read_only": false
    }
   },
   "source": [
    "<!--BOOK_INFORMATION-->\n",
    "<img align=\"left\" style=\"padding-right:10px;\" src=\"images/book_cover.jpg\" width=\"120\">\n",
    "\n",
    "*Ce cahier contient un extrait de [Programmation Python et méthodes numériques - Un guide pour les ingénieurs et les scientifiques](https://pythonnumericalmethods.berkeley.edu/notebooks/Index.html), le contenu est également disponible sur [Berkeley Python Numerical Methods](https://pythonnumericalmethods.berkeley.edu/notebooks/Index.html).*\n",
    "\n",
    "*Les droits d'auteur du livre appartiennent à Elsevier. Nous avons également ce livre interactif en ligne pour une meilleure expérience d'apprentissage. Le code est publié sous la [licence MIT](https://opensource.org/licenses/MIT). Si vous trouvez ce contenu utile, pensez à soutenir le travail sur [Elsevier](https://www.elsevier.com/books/python-programming-and-numerical-methods/kong/978-0-12-819549-9) ou [Amazon](https://www.amazon.com/Python-Programming-Numerical-Methods-Scientists/dp/0128195495/ref=sr_1_1?dchild=1&keywords=Python+Programming+and+Numerical+Methods+-+A+Guide+for+Engineers+and+Scientists&qid=1604761352&sr=8-1) !*"
   ]
  },
  {
   "cell_type": "markdown",
   "metadata": {
    "button": false,
    "new_sheet": false,
    "run_control": {
     "read_only": false
    }
   },
   "source": [
    "<!--NAVIGATION-->\n",
    "< [Chapter 6 Summary and Problems](chapter06.03-Summary-and-Problems.ipynb) | [Contents](Index.ipynb) | [7.1 Introduction to OOP](chapter07.01-Introduction-to-OOP.ipynb) >"
   ]
  },
  {
   "cell_type": "markdown",
   "metadata": {
    "lang": "fr"
   },
   "source": [
    "# Chapitre 7. Programmation Orientée Objet (POO)"
   ]
  },
  {
   "cell_type": "markdown",
   "metadata": {
    "lang": "fr"
   },
   "source": [
    "#### SOMMAIRE\n",
    "\n",
    "---\n",
    "\n",
    "* [**7.1 Introduction à la POO**](chapitre07.01-Introduction-to-OOP.ipynb)\n",
    "* [**7.2 Classe et objet**](chapitre07.02-Class-and-Object.ipynb)\n",
    "* [**7.3 Héritage, encapsulation et polymorphisme**](chapter07.03-Inheritance-Encapsulation-and-Polymorphism.ipynb)\n",
    "* [**7.4 Résumé et problèmes**](chapter07.04-Summary-and-Problems.ipynb)"
   ]
  },
  {
   "cell_type": "markdown",
   "metadata": {
    "lang": "fr"
   },
   "source": [
    "---\n",
    "\n",
    "## Motivation\n",
    "\n",
    "Comme démontré précédemment, nous devons souvent utiliser d'autres packages, tels que\n",
    "`scipy`, `numpy` ou d'autres packages spécifiés par le domaine.\n",
    "Lorsque vous vérifiez le code source de ces packages, vous pouvez voir de nouveaux\n",
    "des mots-clés dans le code, tels que **class**. Que sont les cours et pourquoi les utilisons-nous ? Ceci est une nouvelle programmation\n",
    "paradigme - **Programmation orientée objet** (POO) qui est couramment utilisée dans\n",
    "écrire de gros programmes ou packages. Lors de l'écriture d'un grand programme,\n",
    "La POO présente de nombreux avantages : elle simplifie le code pour mieux\n",
    "lisibilité, décrit mieux l'objectif final du projet, est réutilisable et réduit le nombre de potentiels\n",
    "bugs dans le code. Compte tenu de ces fonctionnalités, vous verrez la POO dans la plupart des packages standard du\n",
    "champ. Comprendre ses bases vous aidera à écrire un meilleur code. Ce\n",
    "Le chapitre présente les bases de la POO, en mettant l'accent sur le noyau\n",
    "composants : objet, classe et héritage, . Python est un outil hautement\n",
    "Le langage de programmation orienté objet et la compréhension de ces concepts vous aideront à programmer avec un minimum de maux de tête.\n",
    "\n",
    "---"
   ]
  },
  {
   "cell_type": "code",
   "execution_count": null,
   "metadata": {
    "button": false,
    "collapsed": true,
    "new_sheet": false,
    "run_control": {
     "read_only": false
    }
   },
   "outputs": [],
   "source": []
  }
 ],
 "metadata": {
  "kernelspec": {
   "display_name": "Python 3 (ipykernel)",
   "language": "python",
   "name": "python3"
  },
  "language_info": {
   "codemirror_mode": {
    "name": "ipython",
    "version": 3
   },
   "file_extension": ".py",
   "mimetype": "text/x-python",
   "name": "python",
   "nbconvert_exporter": "python",
   "pygments_lexer": "ipython3",
   "version": "3.11.7"
  },
  "nbTranslate": {
   "displayLangs": [
    "*"
   ],
   "hotkey": "alt-t",
   "langInMainMenu": true,
   "sourceLang": "en",
   "targetLang": "fr",
   "useGoogleTranslate": true
  }
 },
 "nbformat": 4,
 "nbformat_minor": 2
}
