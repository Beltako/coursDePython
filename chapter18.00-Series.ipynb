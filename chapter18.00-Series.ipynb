{
 "cells": [
  {
   "cell_type": "markdown",
   "metadata": {
    "button": false,
    "new_sheet": false,
    "run_control": {
     "read_only": false
    }
   },
   "source": [
    "<!--BOOK_INFORMATION-->\n",
    "<img align=\"left\" style=\"padding-right:10px;\" src=\"images/book_cover.jpg\" width=\"120\">\n",
    "\n",
    "*Ce cahier contient un extrait de [Programmation Python et méthodes numériques - Un guide pour les ingénieurs et les scientifiques](https://pythonnumericalmethods.berkeley.edu/notebooks/Index.html), le contenu est également disponible sur [Berkeley Python Numerical Methods](https://pythonnumericalmethods.berkeley.edu/notebooks/Index.html).*\n",
    "\n",
    "*Les droits d'auteur du livre appartiennent à Elsevier. Nous avons également ce livre interactif en ligne pour une meilleure expérience d'apprentissage. Le code est publié sous la [licence MIT](https://opensource.org/licenses/MIT). Si vous trouvez ce contenu utile, pensez à soutenir le travail sur [Elsevier](https://www.elsevier.com/books/python-programming-and-numerical-methods/kong/978-0-12-819549-9) ou [Amazon](https://www.amazon.com/Python-Programming-Numerical-Methods-Scientists/dp/0128195495/ref=sr_1_1?dchild=1&keywords=Python+Programming+and+Numerical+Methods+-+A+Guide+for+Engineers+and+Scientists&qid=1604761352&sr=8-1) !*"
   ]
  },
  {
   "cell_type": "markdown",
   "metadata": {
    "button": false,
    "new_sheet": false,
    "run_control": {
     "read_only": false
    }
   },
   "source": [
    "<!--NAVIGATION-->\n",
    "< [17.6 Summary and Problems](chapter17.06-Summary-and-Problems.ipynb) | [Contents](Index.ipynb) | [18.1 Expressing Functions with Taylor Series](chapter18.01-Expressing-Functions-with-Taylor-Series.ipynb)   >"
   ]
  },
  {
   "cell_type": "markdown",
   "metadata": {
    "lang": "fr"
   },
   "source": [
    "# Chapitre 18. Série"
   ]
  },
  {
   "cell_type": "markdown",
   "metadata": {
    "lang": "fr"
   },
   "source": [
    "#### SOMMAIRE\n",
    "\n",
    "---\n",
    "\n",
    "* [**18.1 Exprimer des fonctions avec la série Taylor**](chapitre18.01-Expressing-Functions-with-Taylor-Series.ipynb)\n",
    "* [**18.2 Approximations avec la série Taylor**](chapitre18.02-approximations-avec-Taylor-Series.ipynb)\n",
    "* [**18.3 Discussion sur les erreurs**](chapter18.03-Discussion-on-Errors.ipynb)\n",
    "* [**18.4 Résumé et problèmes**](chapitre18.04-Résumé-et-problèmes.ipynb)"
   ]
  },
  {
   "cell_type": "markdown",
   "metadata": {
    "lang": "fr"
   },
   "source": [
    "---\n",
    "\n",
    "## Motivation\n",
    "\n",
    "De nombreuses fonctions telles que $\\sin(x)$ et $\\cos(x)$ sont utiles aux ingénieurs et aux scientifiques, mais elles sont impossibles à calculer explicitement. En pratique, ces fonctions peuvent être approchées par des sommes de fonctions faciles à calculer, comme les polynômes. En fait, la plupart des fonctions communes aux ingénieurs et aux scientifiques ne peuvent être calculées sans de telles approximations. Étant donné que ces fonctions sont très souvent utilisées, il est important de savoir comment fonctionnent ces approximations et leurs limites.\n",
    "\n",
    "Dans ce chapitre, vous découvrirez les séries de Taylor, qui sont une méthode d'approximation de fonctions compliquées. Ce chapitre ne remplace en aucun cas un cours complet sur l’analyse fonctionnelle, mais il fournit une présentation qui sera utile pour les chapitres suivants.\n",
    "\n",
    "---"
   ]
  }
 ],
 "metadata": {
  "kernelspec": {
   "display_name": "Python 3 (ipykernel)",
   "language": "python",
   "name": "python3"
  },
  "language_info": {
   "codemirror_mode": {
    "name": "ipython",
    "version": 3
   },
   "file_extension": ".py",
   "mimetype": "text/x-python",
   "name": "python",
   "nbconvert_exporter": "python",
   "pygments_lexer": "ipython3",
   "version": "3.11.7"
  },
  "nbTranslate": {
   "displayLangs": [
    "*"
   ],
   "hotkey": "alt-t",
   "langInMainMenu": true,
   "sourceLang": "en",
   "targetLang": "fr",
   "useGoogleTranslate": true
  }
 },
 "nbformat": 4,
 "nbformat_minor": 2
}
