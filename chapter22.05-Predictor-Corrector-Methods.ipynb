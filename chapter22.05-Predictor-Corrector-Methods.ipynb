{
 "cells": [
  {
   "cell_type": "markdown",
   "metadata": {
    "button": false,
    "lang": "en",
    "new_sheet": false,
    "run_control": {
     "read_only": false
    }
   },
   "source": [
    "<!--BOOK_INFORMATION-->\n",
    "<img align=\"left\" style=\"padding-right:10px;\" src=\"images/book_cover.jpg\" width=\"120\">\n",
    "\n",
    "*Ce cahier contient un extrait de [Programmation Python et méthodes numériques - Un guide pour les ingénieurs et les scientifiques](https://pythonnumericalmethods.berkeley.edu/notebooks/Index.html), le contenu est également disponible sur [Berkeley Python Numerical Methods](https://pythonnumericalmethods.berkeley.edu/notebooks/Index.html).*\n",
    "\n",
    "*Les droits d'auteur du livre appartiennent à Elsevier. Nous avons également ce livre interactif en ligne pour une meilleure expérience d'apprentissage. Le code est publié sous la [licence MIT](https://opensource.org/licenses/MIT). Si vous trouvez ce contenu utile, pensez à soutenir le travail sur [Elsevier](https://www.elsevier.com/books/python-programming-and-numerical-methods/kong/978-0-12-819549-9) ou [Amazon](https://www.amazon.com/Python-Programming-Numerical-Methods-Scientists/dp/0128195495/ref=sr_1_1?dchild=1&keywords=Python+Programming+and+Numerical+Methods+-+A+Guide+for+Engineers+and+Scientists&qid=1604761352&sr=8-1) !*"
   ]
  },
  {
   "cell_type": "markdown",
   "metadata": {
    "button": false,
    "new_sheet": false,
    "run_control": {
     "read_only": false
    }
   },
   "source": [
    "<!--NAVIGATION-->\n",
    "< [22.4 Numerical Error and Instability](chapter22.04-Numerical-Error-and-Instability.ipynb) | [Contents](Index.ipynb) | [22.6 Python ODE Solvers](chapter22.06-Python-ODE-Solvers.ipynb) >"
   ]
  },
  {
   "cell_type": "markdown",
   "metadata": {
    "lang": "fr"
   },
   "source": [
    "# Méthodes prédicteur-correcteur et Runge Kutta"
   ]
  },
  {
   "cell_type": "markdown",
   "metadata": {
    "lang": "fr"
   },
   "source": [
    "## Méthodes prédicteurs-correcteurs\n",
    "\n",
    "Étant donné n’importe quelle valeur d’heure et d’état, la fonction $F(t, S(t))$ renvoie le changement d’état $\\frac{dS(t)}{dt}$. Les méthodes **Prédicteur-correcteur** de résolution de problèmes de valeur initiale améliorent la précision d'approximation des méthodes non prédicteurs-correcteurs en interrogeant la fonction $F$ plusieurs fois à différents emplacements (prédictions), puis en utilisant une moyenne pondérée des résultats (corrections) pour mettre à jour l’état. Essentiellement, il utilise deux formules : le **prédicteur** et le **correcteur**. Le prédicteur est une formule explicite et estime d'abord la solution à $t_{j+1}$, c'est-à-dire que nous pouvons utiliser la méthode d'Euler ou d'autres méthodes pour terminer cette étape. Après avoir obtenu la solution $S(t_{j+1})$, nous pouvons appliquer le correcteur pour améliorer la précision. En utilisant le $S(t_{j+1})$ trouvé sur le côté droit d’une formule autrement implicite, le correcteur peut calculer une nouvelle solution plus précise.\n",
    "\n",
    "La **méthode du point médian** comporte une étape de prédicteur :\n",
    "\n",
    "$$\n",
    "S\\left(t_{j} + \\frac{h}{2}\\right) = S(t_j) + \\frac{h}{2}F(t_j, S(t_j)),\n",
    "$$\n",
    "\n",
    "qui est la prédiction de la valeur de la solution à mi-chemin entre $t_j$ et $t_{j+1}$.\n",
    "\n",
    "Il calcule ensuite le pas du correcteur :\n",
    "\n",
    "$$\n",
    "S(t_{j+1}) = S(t_j) + hF\\left(t_j + \\frac{h}{2}, S\\left(t_{j} +\n",
    "\\frac{h}{2}\\right)\\right) $$\n",
    "\n",
    "qui calcule la solution à $S(t_{j+1})$ à partir de $S(t_j)$ mais en utilisant la dérivée de $S\\left(t_{j} + \\frac{h}{2}\\right)$.\n",
    "\n",
    "\n",
    "## Méthodes Runge Kutta\n",
    "\n",
    "Les méthodes **Runge Kutta** (RK) sont l'une des méthodes les plus utilisées pour résoudre les ODE. Rappelons que la méthode d'Euler utilise les deux premiers termes des séries de Taylor pour approximer l'intégration numérique, qui est linéaire : $S(t_{j+1}) = S(t_j + h) = S(t_j) + h \\cdot S'(t_j)$.\n",
    "\n",
    "Nous pouvons grandement améliorer la précision de l’intégration numérique si nous conservons davantage de termes de la série dans\n",
    "\n",
    "$$S(t_{j+1}) = S(t_j + h) = S(t_j) + S'(t_j)h + \\frac{1}{2!}S''(t_j)h^2 + \\cdots + \\frac{1}{n!}S^{(n)}(t_j)h^n \\label{eq:taylor-fr} \\tag{1}$$\n",
    "\n",
    "Afin d’obtenir cette solution plus précise, nous devons dériver les expressions de $S''(t_j), S'''(t_j), \\cdots, S^{(n)}(t_j)$. Ce travail supplémentaire peut être évité en utilisant les méthodes RK, qui sont basées sur des séries de Taylor tronquées, mais ne nécessitent pas le calcul de ces dérivées supérieures.\n",
    "\n",
    "### Méthode Runge Kutta de deuxième ordre\n",
    "\n",
    "Dérivons d’abord la méthode RK du second ordre. Soit $\\frac{dS(t)}{dt} = F(t,S(t))$, alors nous pouvons supposer une formule d'intégration sous la forme de\n",
    "\n",
    "$$ S(t + h) = S(t) + c_1F(t, S(t))h + c_2F[t+ph, S(t)+qhF(t, S(t))]h \\label{eq:integration-fr} \\tag{2}$$\n",
    "\n",
    "Nous pouvons tenter de trouver ces paramètres $c_1, c_2, p, q$ en faisant correspondre l’équation ci-dessus à la série de Taylor du second ordre, ce qui nous donne\n",
    "\n",
    "$$ S(t + h) =  S(t) + S'(t)h + \\frac{1}{2!}S''(t)h^2 = S(t) + F(t, S(t))h + \\frac{1}{2!}F'(t, S(t))h^2 \\label{eq:matching-fr} \\tag{3}$$\n",
    "\n",
    "Notant que $$F'(t, s(t)) = \\frac{\\partial F}{\\partial t} + \\frac{\\partial F}{\\partial S}\\frac{\\partial S}{\\partial t} = \\frac{\\partial F}{\\partial t} + \\frac{\\partial F}{\\partial S}F$$\n",
    "\n",
    "Par conséquent, l’équation $\\eqref{eq:matching}$ peut s’écrire comme suit :\n",
    "\n",
    "$$ S(t + h) = S + Fh + \\frac{1}{2!}\\Big(\\frac{\\partial F}{\\partial t} + \\frac{\\partial F}{\\partial S}F\\Big)h^2 \\label{eq:rewrite-matching-fr} \\tag{4}$$\n",
    "\n",
    "Dans l'équation $\\eqref{eq:integration}$, on peut réécrire le dernier terme en appliquant des séries de Taylor à plusieurs variables, ce qui nous donne :\n",
    "\n",
    "$$F[t+ph, S+qhF)] = F + \\frac{\\partial F}{\\partial t}ph + qh\\frac{\\partial F}{\\partial S}F$$\n",
    "ainsi l'équation $\\eqref{eq:integration}$ devient :\n",
    "\n",
    "$$ S(t + h) = S + (c_1+c_2)Fh + c_1\\Big[ \\frac{\\partial F}{\\partial t}p + q\\frac{\\partial F}{\\partial S}F \\Big]h^2 \\label{eq:rewrite-integration-fr} \\tag{5}$$\n",
    "\n",
    "En comparant les équations $\\eqref{eq:rewrite-matching}$ et $\\eqref{eq:rewrite-integration}$, on peut facilement obtenir :\n",
    "\n",
    "$$c_1 + c_2 = 1, \\space c_2p=\\frac{1}{2}, \\space c_2q=\\frac{1}{2} \\label{eq:result-fr} \\tag{6}$$\n",
    "\n",
    "Étant donné que $\\eqref{eq:result}$ a quatre inconnues et seulement trois équations, nous pouvons attribuer n'importe quelle valeur à l'un des paramètres et obtenir le reste des paramètres. Un choix populaire est :\n",
    "\n",
    "$$c_1 =\\frac{1}{2}, \\space c_2 =\\frac{1}{2}, \\space p =1, \\space q=1$$\n",
    "\n",
    "On peut également définir :\n",
    "$$\n",
    "\\begin{eqnarray*}\n",
    "k_1 & = & F(t_j,S(t_j))\\\\\n",
    "k_2 & = & F\\left(t_j+ph, S(t_j)+qhk_1\\right)\\\\\n",
    "\\end{eqnarray*}\n",
    "$$\n",
    "\n",
    "où nous aurons :\n",
    "\n",
    "$$S(t_{j+1}) = S(t_j) + \\frac{1}{2}(k_1+k_2)h$$\n",
    "\n",
    "\n",
    "### Méthode Runge Kutta de quatrième ordre\n",
    "\n",
    "Une méthode classique pour intégrer des ODE avec un ordre de précision élevé est la méthode **Fourth Order Runge Kutta** (RK4). Elle est obtenue à partir de la série de Taylor en utilisant une approche similaire à celle dont nous venons de parler dans la méthode du second ordre. Cette méthode utilise quatre points $k_1, k_2, k_3$ et $k_4$. Une moyenne pondérée de ceux-ci est utilisée pour produire l’approximation de la solution. La formule est la suivante.\n",
    "\n",
    "$$\n",
    "\\begin{eqnarray*}\n",
    "k_1 & = & F(t_j,S(t_j))\\\\\n",
    "k_2 & = & F\\left(t_j+\\frac{h}{2},S(t_j)+\\frac{1}{2}k_1h\\right)\\\\\n",
    "k_3 & = & F\\left(t_j+\\frac{h}{2},S(t_j)+\\frac{1}{2}k_2h\\right)\\\\\n",
    "k_4 & = & F(t_j+h,S(t_j)+k_3h)\n",
    "\\end{eqnarray*}\n",
    "$$\n",
    "\n",
    "Nous aurons donc :\n",
    "\n",
    "$$\n",
    "S(t_{j+1}) = S(t_j) + \\frac{h}{6}\\left(k_1 + 2k_2 + 2k_3 + k_4\\right).\n",
    "$$\n",
    "\n",
    "Comme son nom l'indique, la méthode RK4 est précise au quatrième ordre, ou $O(h^4)$."
   ]
  },
  {
   "cell_type": "markdown",
   "metadata": {
    "button": false,
    "new_sheet": false,
    "run_control": {
     "read_only": false
    }
   },
   "source": [
    "<!--NAVIGATION-->\n",
    "< [22.4 Numerical Error and Instability](chapter22.04-Numerical-Error-and-Instability.ipynb) | [Contents](Index.ipynb) | [22.6 Python ODE Solvers](chapter22.06-Python-ODE-Solvers.ipynb) >"
   ]
  }
 ],
 "metadata": {
  "kernelspec": {
   "display_name": "Python 3 (ipykernel)",
   "language": "python",
   "name": "python3"
  },
  "language_info": {
   "codemirror_mode": {
    "name": "ipython",
    "version": 3
   },
   "file_extension": ".py",
   "mimetype": "text/x-python",
   "name": "python",
   "nbconvert_exporter": "python",
   "pygments_lexer": "ipython3",
   "version": "3.11.7"
  },
  "nbTranslate": {
   "displayLangs": [
    "*"
   ],
   "hotkey": "alt-t",
   "langInMainMenu": true,
   "sourceLang": "en",
   "targetLang": "fr",
   "useGoogleTranslate": true
  }
 },
 "nbformat": 4,
 "nbformat_minor": 2
}
