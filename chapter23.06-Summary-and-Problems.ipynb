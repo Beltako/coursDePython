{
 "cells": [
  {
   "cell_type": "markdown",
   "metadata": {
    "button": false,
    "new_sheet": false,
    "run_control": {
     "read_only": false
    }
   },
   "source": [
    "<!--BOOK_INFORMATION-->\n",
    "<img align=\"left\" style=\"padding-right:10px;\" src=\"images/book_cover.jpg\" width=\"120\">\n",
    "\n",
    "*Ce cahier contient un extrait de [Programmation Python et méthodes numériques - Un guide pour les ingénieurs et les scientifiques](https://pythonnumericalmethods.berkeley.edu/notebooks/Index.html), le contenu est également disponible sur [Berkeley Python Numerical Methods](https://pythonnumericalmethods.berkeley.edu/notebooks/Index.html).*\n",
    "\n",
    "*Les droits d'auteur du livre appartiennent à Elsevier. Nous avons également ce livre interactif en ligne pour une meilleure expérience d'apprentissage. Le code est publié sous la [licence MIT](https://opensource.org/licenses/MIT). Si vous trouvez ce contenu utile, pensez à soutenir le travail sur [Elsevier](https://www.elsevier.com/books/python-programming-and-numerical-methods/kong/978-0-12-819549-9) ou [Amazon](https://www.amazon.com/Python-Programming-Numerical-Methods-Scientists/dp/0128195495/ref=sr_1_1?dchild=1&keywords=Python+Programming+and+Numerical+Methods+-+A+Guide+for+Engineers+and+Scientists&qid=1604761352&sr=8-1) !*"
   ]
  },
  {
   "cell_type": "markdown",
   "metadata": {
    "button": false,
    "new_sheet": false,
    "run_control": {
     "read_only": false
    }
   },
   "source": [
    "<!--NAVIGATION-->\n",
    "< [23.5 Python ODE Solvers](chapter23.05-Python-ODE-Solvers.ipynb) | [Contents](Index.ipynb) | [CHAPTER 24. Fourier Transforms](chapter24.00-Fourier-Transforms.ipynb)  >"
   ]
  },
  {
   "cell_type": "markdown",
   "metadata": {
    "lang": "fr"
   },
   "source": [
    "# Résumé\n",
    "\n",
    "\n",
    "1. Les problèmes de valeurs limites sont un type spécifique de problème de résolution d’EDO avec des conditions aux limites spécifiées au début et à la fin de l’intervalle.\n",
    "2. La méthode de prise de vue peut transformer les problèmes de valeurs limites en problèmes de valeurs initiales et utiliser la méthode de recherche de racine pour les résoudre.\n",
    "3. La méthode des différences finies utilise le schéma des différences finies pour approximer les dérivées et transforme le problème en un ensemble d'équations à résoudre.\n",
    "4. La précision et la stabilité des problèmes de valeurs limites présentent à la fois des similitudes et des différences avec les problèmes de valeurs initiales."
   ]
  },
  {
   "cell_type": "markdown",
   "metadata": {
    "lang": "fr"
   },
   "source": [
    "# Problèmes\n",
    "\n",
    "1. Décrivez la différence entre les problèmes de valeurs limites et les problèmes de valeurs initiales dans ODE.\n",
    "2. Essayez de décrire l'intuition derrière la méthode de prise de vue et son lien avec les problèmes de valeur initiaux.\n",
    "3. Quelle est la méthode des différences finies pour les problèmes de valeurs limites ? Comment le résoudre?\n",
    "4. Résolvez les problèmes de valeurs limites suivants avec $y(0)=0$ et $y(\\pi/2)=1$\n",
    " $$y''+(1-0.2x)y^2=0$$\n",
    "5. Résolvez l'ODE suivante avec $y(0)=0$ et $y(\\pi)=0$\n",
    " $$y''+siny+1=0$$\n",
    "6. Étant donné l’ODE avec les conditions aux limites $y(0) = 0$ et $y(12) =0$,\n",
    " $$ y'' + 0.5x^2 - 6x =0 $$\n",
    " quelle est la valeur de $y'(0)$ ?\n",
    "7. Résolvez l'EDO suivante avec les conditions aux limites $y(1) = 0$, $y''(1)=0$ et $y(2) = 1$\n",
    " $$y''' + \\frac{1}{x}y'' - \\frac{1}{x^2}y' - 0.1(y')^3 = 0$$\n",
    "8. Un câble flexible est suspendu entre deux points comme indiqué dans la figure suivante. La densité du câble est uniforme. La forme du câble $y(x)$ est gouvernée par l'équation différentielle :\n",
    " $$ \\frac{d^2y}{d^2x} = C \\sqrt{1 + \\Big( \\frac{dy}{dx} \\Big)^2} $$\n",
    " où $C$ est une constante égale au rapport entre le poids par unité de longueur du câble et l'ampleur de la composante horizontale de tension dans le câble à son point le plus bas. Le câble est suspendu entre deux points spécifiés par $y(0) = 8$ m et $y(10) = 10 $ m, et C = 0,039 $m^{-1}$. Pouvez-vous déterminer et tracer la forme du câble entre $x = 0$ et $x = 10$ ?\n",
    " <img src=\"images/23.05.01-problem8.png\" alt=\"Problem 8\" title=\"Figure for problem 8.\" width=\"300\"/>\n",
    "\n",
    "9. Les ailettes sont utilisées dans de nombreuses applications pour augmenter le transfert de chaleur des surfaces. Habituellement, la conception des ailettes de refroidissement est rencontrée dans de nombreuses applications, telles que l'ailette de broche utilisée comme dissipateur thermique pour refroidir un objet. Nous pouvons modéliser la distribution de température dans une aileron comme le montre la figure suivante, où la longueur de l'aileron est $L$, et le début et la fin de l'aileron sont $x=0$ ainsi que $x=L$. Les températures aux deux extrémités sont $T_0$ et $T_L$. $T_s$ est la température du milieu environnant. Si nous considérons à la fois la convection et le rayonnement, la distribution de température en régime permanent de l'aileron $T(x)$ entre $x=0$ et $x=L$ peut être modélisée avec l'équation suivante :\n",
    "\n",
    " $$\\frac{d^2T}{dx^2} - \\alpha_1(T - T_s) - \\alpha_2(T^4 - T^4) = 0$$\n",
    "\n",
    " avec les conditions aux limites : $T(0) = T_0$ et $T(L) = T_L$, et $\\alpha_1$ et $\\alpha_2$ sont des coefficients. Et ils sont définis comme $\\alpha_1 = \\frac{h_cP}{kA_c}$ et $\\alpha_2 = \\frac{\\epsilon\\sigma_{SB}P}{kA_c}$, où $h_c$ est le coefficient de transfert de chaleur par convection, $P$ est le périmètre délimitant la section transversale de l'aileron, $\\epsilon$ est l'émissivité radiative de la surface de l'aileron, $k$ est la conductivité thermique de l'aileron. matériau, $A_c$ est la section transversale de l'aileron et $\\sigma_{SB} = 5.67 \\times 10^{-8} W/(m^2K^2)$ est la constante de Stefan-Boltzmann.\n",
    "\n",
    " Déterminez la distribution de température si $L=0.2$ m, $T(0)=475K$, $T(0.1) = 290 K$ et $T_s = 290 K$. Utilisez les valeurs suivantes pour les paramètres $h_c = 40 W/m^2/K$, $P=0.015$ m, $\\epsilon = 0.4$, $k=240 W/m/K$ et $A_c=1.55 \\times 10^{-5} m^2$\n",
    "\n",
    " idhtml2\n",
    "\n",
    "10. La poutre simplement soutenue supporte une charge uniforme d’intensité $q$, comme le montre la figure suivante.\n",
    "\n",
    "  <img src=\"images/23.05.02-problem10.png\" alt=\"Problem 10\" title=\"Figure for problem 10.\" width=\"500\"/>\n",
    " \n",
    " La déviation du faisceau, $y$, est régie par l'ODE suivante :\n",
    " \n",
    " $$EI\\frac{d^2y}{dx^2} = \\frac{1}{2}\\omega_0(Lx-x^2)\\Big[ 1 + \\Big( \\frac{dy}{dx}^2 \\Big)\\Big]^{\\frac{3}{2}}$$\n",
    " où $EI$ est la rigidité en flexion.\n",
    " \n",
    " Si $L=5$ m et que les deux conditions aux limites sont $y(0) = 0$ et $y(L) = 0$, $EI = 1.8 \\times 10^7 N-m^2$ et $\\omega_0 = 15 \\times 10^3 N/m$, déterminez et tracez la déviation de la poutre en fonction de $x$."
   ]
  },
  {
   "cell_type": "markdown",
   "metadata": {
    "button": false,
    "new_sheet": false,
    "run_control": {
     "read_only": false
    }
   },
   "source": [
    "<!--NAVIGATION-->\n",
    "< [23.5 Python ODE Solvers](chapter23.05-Python-ODE-Solvers.ipynb) | [Contents](Index.ipynb) | [CHAPTER 24. Fourier Transforms](chapter24.00-Fourier-Transforms.ipynb)  >"
   ]
  }
 ],
 "metadata": {
  "kernelspec": {
   "display_name": "Python 3 (ipykernel)",
   "language": "python",
   "name": "python3"
  },
  "language_info": {
   "codemirror_mode": {
    "name": "ipython",
    "version": 3
   },
   "file_extension": ".py",
   "mimetype": "text/x-python",
   "name": "python",
   "nbconvert_exporter": "python",
   "pygments_lexer": "ipython3",
   "version": "3.11.7"
  },
  "nbTranslate": {
   "displayLangs": [
    "*"
   ],
   "hotkey": "alt-t",
   "langInMainMenu": true,
   "sourceLang": "en",
   "targetLang": "fr",
   "useGoogleTranslate": true
  }
 },
 "nbformat": 4,
 "nbformat_minor": 2
}
