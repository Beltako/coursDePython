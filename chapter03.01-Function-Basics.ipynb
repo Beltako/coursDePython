{
 "cells": [
  {
   "cell_type": "markdown",
   "metadata": {
    "button": false,
    "new_sheet": false,
    "run_control": {
     "read_only": false
    }
   },
   "source": [
    "<!--BOOK_INFORMATION-->\n",
    "<img align=\"left\" style=\"padding-right:10px;\" src=\"images/book_cover.jpg\" width=\"120\">\n",
    "\n",
    "*Ce cahier contient un extrait de [Programmation Python et méthodes numériques - Un guide pour les ingénieurs et les scientifiques](https://pythonnumericalmethods.berkeley.edu/notebooks/Index.html), le contenu est également disponible sur [Berkeley Python Numerical Methods](https://pythonnumericalmethods.berkeley.edu/notebooks/Index.html).*\n",
    "\n",
    "*Les droits d'auteur du livre appartiennent à Elsevier. Nous avons également ce livre interactif en ligne pour une meilleure expérience d'apprentissage. Le code est publié sous la [licence MIT](https://opensource.org/licenses/MIT). Si vous trouvez ce contenu utile, pensez à soutenir le travail sur [Elsevier](https://www.elsevier.com/books/python-programming-and-numerical-methods/kong/978-0-12-819549-9) ou [Amazon](https://www.amazon.com/Python-Programming-Numerical-Methods-Scientists/dp/0128195495/ref=sr_1_1?dchild=1&keywords=Python+Programming+and+Numerical+Methods+-+A+Guide+for+Engineers+and+Scientists&qid=1604761352&sr=8-1) !*"
   ]
  },
  {
   "cell_type": "markdown",
   "metadata": {
    "button": false,
    "new_sheet": false,
    "run_control": {
     "read_only": false
    }
   },
   "source": [
    "<!--NAVIGATION-->\n",
    "< [Chapter 3 Functions](chapter03.00-Functions.ipynb) | [Contents](Index.ipynb) | [3.2 Local Variables and Global Variables](chapter03.02-Local-Variables-and-Global-Variables.ipynb) >"
   ]
  },
  {
   "cell_type": "markdown",
   "metadata": {
    "lang": "fr"
   },
   "source": [
    "# Bases des fonctions\n",
    "\n",
    "En programmation, une **fonction** est une séquence d'instructions qui exécute une tâche spécifique. Une fonction est un bloc de code qui peut s'exécuter lorsqu'elle est appelée. Une fonction peut avoir des **arguments d'entrée**, qui sont mis à sa disposition par l'utilisateur, l'entité appelant la fonction. Les fonctions ont également des **paramètres de sortie**, qui sont les résultats de la fonction que l'utilisateur s'attend à recevoir une fois que la fonction a terminé sa tâche. Par exemple, la fonction *math.sin* a un argument d'entrée, un angle en radians, et un argument de sortie, une approximation de la fonction sin calculée à l'angle d'entrée (arrondi à 16 chiffres). La séquence d'instructions pour calculer cette approximation constitue le **corps de la fonction**, qui jusqu'à présent n'a pas été représenté.\n",
    "\n",
    "Nous avons déjà vu de nombreuses fonctions Python intégrées, telles que *type*, *len*, etc. Nous avons également vu les fonctions de certains packages, par exemple *math.sin*, *np.array* et ainsi de suite. Vous souvenez-vous encore de la manière dont nous pourrions appeler et utiliser ces fonctions.\n",
    "\n",
    "**ESSAYEZ-LE !** Vérifiez que *len* est une fonction intégrée à l'aide de la fonction *type*."
   ]
  },
  {
   "cell_type": "code",
   "execution_count": 1,
   "metadata": {
    "button": false,
    "new_sheet": false,
    "run_control": {
     "read_only": false
    }
   },
   "outputs": [
    {
     "data": {
      "text/plain": [
       "builtin_function_or_method"
      ]
     },
     "execution_count": 1,
     "metadata": {},
     "output_type": "execute_result"
    }
   ],
   "source": [
    "type(len)"
   ]
  },
  {
   "cell_type": "markdown",
   "metadata": {
    "lang": "fr"
   },
   "source": [
    "**ESSAYEZ-le !** Vérifiez que *np.linspace* est une fonction utilisant la fonction *type*. Et découvrez comment utiliser la fonction à l'aide du point d'interrogation."
   ]
  },
  {
   "cell_type": "code",
   "execution_count": 2,
   "metadata": {
    "button": false,
    "new_sheet": false,
    "run_control": {
     "read_only": false
    }
   },
   "outputs": [
    {
     "data": {
      "text/plain": [
       "function"
      ]
     },
     "execution_count": 2,
     "metadata": {},
     "output_type": "execute_result"
    }
   ],
   "source": [
    "import numpy as np\n",
    "\n",
    "type(np.linspace)"
   ]
  },
  {
   "cell_type": "code",
   "execution_count": 3,
   "metadata": {
    "button": false,
    "new_sheet": false,
    "run_control": {
     "read_only": false
    }
   },
   "outputs": [],
   "source": [
    "np.linspace?"
   ]
  },
  {
   "cell_type": "markdown",
   "metadata": {
    "lang": "fr"
   },
   "source": [
    "## Définissez votre propre fonction\n",
    "\n",
    "Nous pouvons définir nos propres fonctions. Une fonction peut être spécifiée de plusieurs manières. Nous présenterons ici la manière la plus courante de définir une fonction qui peut être spécifiée à l'aide du mot-clé *def*, comme indiqué ci-dessous :\n",
    "\n",
    "```python\n",
    "fonction def_nom(argument_1, argument_2, ...) :\n",
    "    '''\n",
    "    Chaîne descriptive\n",
    "    '''\n",
    "    # commentaires sur les déclarations\n",
    "    fonction_instructions\n",
    "    \n",
    "    renvoyer les paramètres_de_sortie (facultatif)\n",
    "\n",
    "```\n",
    "\n",
    "Nous avons pu voir que la définition d'une fonction Python nécessite les deux composants suivants :\n",
    "\n",
    "1. **En-tête de fonction :** Un en-tête de fonction commence par un mot-clé *def*, suivi d'une paire de parenthèses avec les arguments d'entrée à l'intérieur et se termine par deux points (:)\n",
    "\n",
    "2. **Corps de la fonction :** Un bloc en retrait (généralement quatre espaces blancs) pour indiquer le corps principal de la fonction. Il se compose de 3 parties :\n",
    "\n",
    "    **Chaîne descriptive :*Une chaîne qui décrit la fonction accessible par la fonction*help()*ou le point d'interrogation. Vous pouvez écrire n’importe quelle chaîne à l’intérieur, il peut s’agir de plusieurs lignes.* *Instructions de fonction :* Ce sont les instructions étape par étape que la fonction exécutera lorsque nous appellerons la fonction. Vous remarquerez peut-être également qu'il y a une ligne commençant par '#', il s'agit d'une ligne de commentaire, ce qui signifie que la fonction ne l'exécutera pas.**Instructions de retour :*Une fonction peut renvoyer certains paramètres après l'appel de la fonction, mais c'est facultatif, nous pourrions l'ignorer. N'importe quel type de données peut être renvoyé, même une fonction, nous l'expliquerons plus tard.**CONSEIL !** Lorsque votre code devient plus long et plus compliqué, les commentaires vous aident, ainsi que ceux qui lisent votre code, à le parcourir et à comprendre ce que vous essayez de faire. Prendre l'habitude de commenter fréquemment vous aidera à éviter de commettre des erreurs de codage, à comprendre où va votre code lorsque vous l'écrivez et à trouver des erreurs lorsque vous faites des erreurs. Il est également d'usage de mettre une description de la fonction, de l'auteur et de la date de création dans la chaîne descriptive sous l'en-tête de la fonction, même si cela est facultatif (vous pouvez ignorer la chaîne descriptive). Nous vous recommandons fortement de commenter fortement dans votre propre code."
   ]
  },
  {
   "cell_type": "markdown",
   "metadata": {
    "lang": "fr"
   },
   "source": [
    "**ESSAYEZ-LE !** Définissez une fonction nommée *my_adder* pour prendre 3 nombres et les additionner."
   ]
  },
  {
   "cell_type": "code",
   "execution_count": 4,
   "metadata": {
    "button": false,
    "new_sheet": false,
    "run_control": {
     "read_only": false
    }
   },
   "outputs": [],
   "source": [
    "def my_adder(a, b, c):\n",
    "    \"\"\"\n",
    "    function to sum the 3 numbers\n",
    "    Input: 3 numbers a, b, c\n",
    "    Output: the sum of a, b, and c\n",
    "    author:\n",
    "    date:\n",
    "    \"\"\"\n",
    "    \n",
    "    # this is the summation\n",
    "    out = a + b + c\n",
    "    \n",
    "    return out"
   ]
  },
  {
   "cell_type": "markdown",
   "metadata": {
    "lang": "fr"
   },
   "source": [
    "**ATTENTION !** Si vous n'indentez pas votre code pour définir la fonction, vous obtiendrez une **IndentationError**."
   ]
  },
  {
   "cell_type": "code",
   "execution_count": 5,
   "metadata": {
    "button": false,
    "new_sheet": false,
    "run_control": {
     "read_only": false
    }
   },
   "outputs": [
    {
     "ename": "IndentationError",
     "evalue": "expected an indented block (<ipython-input-5-e6a61721f00e>, line 8)",
     "output_type": "error",
     "traceback": [
      "\u001b[0;36m  File \u001b[0;32m\"<ipython-input-5-e6a61721f00e>\"\u001b[0;36m, line \u001b[0;32m8\u001b[0m\n\u001b[0;31m    \"\"\"\u001b[0m\n\u001b[0m       \n^\u001b[0m\n\u001b[0;31mIndentationError\u001b[0m\u001b[0;31m:\u001b[0m expected an indented block\n"
     ]
    }
   ],
   "source": [
    "def my_adder(a, b, c):\n",
    "\"\"\"\n",
    "function to sum the 3 numbers\n",
    "Input: 3 numbers a, b, c\n",
    "Output: the sum of a, b, and c\n",
    "author:\n",
    "date:\n",
    "\"\"\"\n",
    "\n",
    "# this is the summation\n",
    "out = a + b + c\n",
    "\n",
    "return out"
   ]
  },
  {
   "cell_type": "markdown",
   "metadata": {
    "lang": "fr"
   },
   "source": [
    "**ASTUCE !** Les espaces blancs de type 4 constituent un niveau d'indentation, vous pouvez avoir un niveau d'indentation plus profond lorsque vous avez une fonction imbriquée ou une instruction if (vous le verrez dans le chapitre suivant). De plus, vous devez parfois mettre en retrait ou annuler l'indentation d'un bloc de code. Vous pouvez le faire en sélectionnant d’abord toutes les lignes du bloc de code et en appuyant sur *Tab* et *Shift+Tab* pour augmenter ou diminuer un niveau d’indentation."
   ]
  },
  {
   "cell_type": "markdown",
   "metadata": {
    "lang": "fr"
   },
   "source": [
    "**CONSEIL !** Élaborez de bonnes pratiques de codage en donnant des noms descriptifs aux variables et aux fonctions, en commentant souvent et en évitant les lignes de code superflues."
   ]
  },
  {
   "cell_type": "markdown",
   "metadata": {
    "lang": "fr"
   },
   "source": [
    "Par contraste, considérons la fonction suivante qui effectue la même tâche que my_adder mais est mal construite. Comme vous pouvez le constater, il est extrêmement difficile de voir ce qui se passe et l’intention de l’auteur.\n",
    "\n",
    "**EXEMPLE** : Mauvaise représentation de mon_adder."
   ]
  },
  {
   "cell_type": "code",
   "execution_count": 6,
   "metadata": {
    "button": false,
    "new_sheet": false,
    "run_control": {
     "read_only": false
    }
   },
   "outputs": [],
   "source": [
    "def abc(a, s2, d):\n",
    "    z = a + s2\n",
    "    z = z + d\n",
    "    x = z\n",
    "    return x"
   ]
  },
  {
   "cell_type": "markdown",
   "metadata": {
    "lang": "fr"
   },
   "source": [
    "Les fonctions doivent se conformer à un schéma de dénomination similaire aux variables. Ils ne peuvent contenir que des caractères alphanumériques et des traits de soulignement, et le premier caractère doit être une lettre.\n",
    "\n",
    "**CONSEIL !** Conventionnellement, comme les noms de variables, les noms de fonctions doivent être en minuscules, avec des mots séparés par des traits de soulignement si nécessaire pour améliorer la lisibilité.\n",
    "\n",
    "**CONSEIL !** C'est une bonne pratique de programmation de sauvegarder souvent pendant que vous écrivez votre fonction. En fait, de nombreux programmeurs déclarent sauvegarder en utilisant le raccourci ctrl+s (PC) ou cmd+s (Mac) à chaque fois qu'ils arrêtent de taper !\n",
    "\n",
    "**ESSAYEZ-LE !** Utilisez votre fonction my_adder pour calculer la somme de quelques nombres. Vérifiez que le résultat est correct. Essayez d'appeler la fonction d'aide sur mon_adder."
   ]
  },
  {
   "cell_type": "code",
   "execution_count": 7,
   "metadata": {
    "button": false,
    "new_sheet": false,
    "run_control": {
     "read_only": false
    }
   },
   "outputs": [
    {
     "data": {
      "text/plain": [
       "6"
      ]
     },
     "execution_count": 7,
     "metadata": {},
     "output_type": "execute_result"
    }
   ],
   "source": [
    "d = my_adder(1, 2, 3)\n",
    "d"
   ]
  },
  {
   "cell_type": "code",
   "execution_count": 8,
   "metadata": {
    "button": false,
    "new_sheet": false,
    "run_control": {
     "read_only": false
    }
   },
   "outputs": [
    {
     "data": {
      "text/plain": [
       "15"
      ]
     },
     "execution_count": 8,
     "metadata": {},
     "output_type": "execute_result"
    }
   ],
   "source": [
    "d = my_adder(4, 5, 6)\n",
    "d"
   ]
  },
  {
   "cell_type": "code",
   "execution_count": 9,
   "metadata": {
    "button": false,
    "new_sheet": false,
    "run_control": {
     "read_only": false
    }
   },
   "outputs": [
    {
     "name": "stdout",
     "output_type": "stream",
     "text": [
      "Help on function my_adder in module __main__:\n",
      "\n",
      "my_adder(a, b, c)\n",
      "    function to sum the 3 numbers\n",
      "    Input: 3 numbers a, b, c\n",
      "    Output: the sum of a, b, and c\n",
      "    author:\n",
      "    date:\n",
      "\n"
     ]
    }
   ],
   "source": [
    "help(my_adder)"
   ]
  },
  {
   "cell_type": "markdown",
   "metadata": {
    "lang": "fr"
   },
   "source": [
    "**QUE SE PASSE-T-IL ?** Rappelons d’abord que l’opérateur d’affectation travaille de droite à gauche. Cela signifie que *my_adder(1,2,3)* est résolu avant l'affectation à *d*.\n",
    "\n",
    "1. Python trouve la fonction *my_adder*.\n",
    "2. *my_adder* prend la valeur du premier argument d'entrée 1 et l'affecte à la variable portant le nom *a* (premier nom de variable dans la liste des arguments d'entrée).\n",
    "3. *my_adder* prend la valeur du deuxième argument d'entrée 2 et l'affecte à la variable portant le nom *b* (deuxième nom de variable dans la liste des arguments d'entrée).\n",
    "4. *my_adder* prend la troisième valeur d'argument d'entrée 3 et l'affecte à la variable portant le nom *c* (troisième nom de variable dans la liste des arguments d'entrée).\n",
    "5. *my_adder* calcule la somme de *a*, *b* et *c*, qui est 1 + 2 + 3 = 6.\n",
    "6. *my_adder* attribue la valeur 6 à la variable *out*.\n",
    "7. *my_adder* affiche la valeur contenue dans la variable de sortie *out*, qui est 6.\n",
    "10. *my_adder(1,2,3)* est équivalent à la valeur 6, et cette valeur est attribuée à la variable de nom *d*."
   ]
  },
  {
   "cell_type": "markdown",
   "metadata": {
    "lang": "fr"
   },
   "source": [
    "Python donne à l'utilisateur une immense liberté pour attribuer des variables à différents types de données. Par exemple, il est possible de donner à la variable x une valeur dictionnaire ou une valeur flottante. Dans d'autres langages de programmation, ce n'est pas toujours le cas, vous devez déclarer au début d'une session si x sera un dictionnaire ou un type flottant, et vous vous retrouvez alors coincé avec cela. Cela peut être à la fois un avantage et un inconvénient (plus de détails à ce sujet au chapitre XXX). Par exemple, *my_adder* a été construit en supposant que les arguments d'entrée étaient de type numérique, int ou float. Cependant, l'utilisateur peut accidentellement saisir une liste ou une chaîne dans *my_adder*, ce qui n'est pas correct. Si vous essayez de saisir un argument d'entrée de type non numérique dans *my_adder*, Python continuera à exécuter la fonction jusqu'à ce que quelque chose se passe mal."
   ]
  },
  {
   "cell_type": "markdown",
   "metadata": {
    "lang": "fr"
   },
   "source": [
    "**ESSAYEZ-LE !** Utilisez la chaîne « 1 » comme l'un des arguments d'entrée de *my_adder*. Utilisez également une liste comme l'un des arguments d'entrée de *my_adder*."
   ]
  },
  {
   "cell_type": "code",
   "execution_count": 10,
   "metadata": {
    "button": false,
    "new_sheet": false,
    "run_control": {
     "read_only": false
    }
   },
   "outputs": [
    {
     "ename": "TypeError",
     "evalue": "must be str, not int",
     "output_type": "error",
     "traceback": [
      "\u001b[0;31m---------------------------------------------------------------------------\u001b[0m",
      "\u001b[0;31mTypeError\u001b[0m                                 Traceback (most recent call last)",
      "\u001b[0;32m<ipython-input-10-245d0f4254a9>\u001b[0m in \u001b[0;36m<module>\u001b[0;34m\u001b[0m\n\u001b[0;32m----> 1\u001b[0;31m \u001b[0md\u001b[0m \u001b[0;34m=\u001b[0m \u001b[0mmy_adder\u001b[0m\u001b[0;34m(\u001b[0m\u001b[0;34m'1'\u001b[0m\u001b[0;34m,\u001b[0m \u001b[0;36m2\u001b[0m\u001b[0;34m,\u001b[0m \u001b[0;36m3\u001b[0m\u001b[0;34m)\u001b[0m\u001b[0;34m\u001b[0m\u001b[0;34m\u001b[0m\u001b[0m\n\u001b[0m",
      "\u001b[0;32m<ipython-input-4-72d064c3ba7a>\u001b[0m in \u001b[0;36mmy_adder\u001b[0;34m(a, b, c)\u001b[0m\n\u001b[1;32m      9\u001b[0m \u001b[0;34m\u001b[0m\u001b[0m\n\u001b[1;32m     10\u001b[0m     \u001b[0;31m# this is the summation\u001b[0m\u001b[0;34m\u001b[0m\u001b[0;34m\u001b[0m\u001b[0;34m\u001b[0m\u001b[0m\n\u001b[0;32m---> 11\u001b[0;31m     \u001b[0mout\u001b[0m \u001b[0;34m=\u001b[0m \u001b[0ma\u001b[0m \u001b[0;34m+\u001b[0m \u001b[0mb\u001b[0m \u001b[0;34m+\u001b[0m \u001b[0mc\u001b[0m\u001b[0;34m\u001b[0m\u001b[0;34m\u001b[0m\u001b[0m\n\u001b[0m\u001b[1;32m     12\u001b[0m \u001b[0;34m\u001b[0m\u001b[0m\n\u001b[1;32m     13\u001b[0m     \u001b[0;32mreturn\u001b[0m \u001b[0mout\u001b[0m\u001b[0;34m\u001b[0m\u001b[0;34m\u001b[0m\u001b[0m\n",
      "\u001b[0;31mTypeError\u001b[0m: must be str, not int"
     ]
    }
   ],
   "source": [
    "d = my_adder('1', 2, 3)"
   ]
  },
  {
   "cell_type": "code",
   "execution_count": 11,
   "metadata": {
    "button": false,
    "new_sheet": false,
    "run_control": {
     "read_only": false
    }
   },
   "outputs": [
    {
     "ename": "TypeError",
     "evalue": "unsupported operand type(s) for +: 'int' and 'list'",
     "output_type": "error",
     "traceback": [
      "\u001b[0;31m---------------------------------------------------------------------------\u001b[0m",
      "\u001b[0;31mTypeError\u001b[0m                                 Traceback (most recent call last)",
      "\u001b[0;32m<ipython-input-11-04f0428ffc51>\u001b[0m in \u001b[0;36m<module>\u001b[0;34m\u001b[0m\n\u001b[0;32m----> 1\u001b[0;31m \u001b[0md\u001b[0m \u001b[0;34m=\u001b[0m \u001b[0mmy_adder\u001b[0m\u001b[0;34m(\u001b[0m\u001b[0;36m1\u001b[0m\u001b[0;34m,\u001b[0m \u001b[0;36m2\u001b[0m\u001b[0;34m,\u001b[0m \u001b[0;34m[\u001b[0m\u001b[0;36m2\u001b[0m\u001b[0;34m,\u001b[0m \u001b[0;36m3\u001b[0m\u001b[0;34m]\u001b[0m\u001b[0;34m)\u001b[0m\u001b[0;34m\u001b[0m\u001b[0;34m\u001b[0m\u001b[0m\n\u001b[0m",
      "\u001b[0;32m<ipython-input-4-72d064c3ba7a>\u001b[0m in \u001b[0;36mmy_adder\u001b[0;34m(a, b, c)\u001b[0m\n\u001b[1;32m      9\u001b[0m \u001b[0;34m\u001b[0m\u001b[0m\n\u001b[1;32m     10\u001b[0m     \u001b[0;31m# this is the summation\u001b[0m\u001b[0;34m\u001b[0m\u001b[0;34m\u001b[0m\u001b[0;34m\u001b[0m\u001b[0m\n\u001b[0;32m---> 11\u001b[0;31m     \u001b[0mout\u001b[0m \u001b[0;34m=\u001b[0m \u001b[0ma\u001b[0m \u001b[0;34m+\u001b[0m \u001b[0mb\u001b[0m \u001b[0;34m+\u001b[0m \u001b[0mc\u001b[0m\u001b[0;34m\u001b[0m\u001b[0;34m\u001b[0m\u001b[0m\n\u001b[0m\u001b[1;32m     12\u001b[0m \u001b[0;34m\u001b[0m\u001b[0m\n\u001b[1;32m     13\u001b[0m     \u001b[0;32mreturn\u001b[0m \u001b[0mout\u001b[0m\u001b[0;34m\u001b[0m\u001b[0;34m\u001b[0m\u001b[0m\n",
      "\u001b[0;31mTypeError\u001b[0m: unsupported operand type(s) for +: 'int' and 'list'"
     ]
    }
   ],
   "source": [
    "d = my_adder(1, 2, [2, 3])"
   ]
  },
  {
   "cell_type": "markdown",
   "metadata": {
    "lang": "fr"
   },
   "source": [
    "**CONSEIL !** N'oubliez pas de lire les erreurs que Python vous donne. Ils vous disent généralement exactement où se situe le problème. Dans ce cas, l'erreur indique *---> 11 out = a + b + c*, ce qui signifie qu'il y a eu une erreur dans my_adder sur la 11ème ligne. La raison pour laquelle une erreur s'est produite est **TypeError**, car *type(s) d'opérande non pris en charge pour + : 'int' et 'list'*, ce qui signifie que nous n'avons pas pu ajouter int et liste."
   ]
  },
  {
   "cell_type": "markdown",
   "metadata": {
    "lang": "fr"
   },
   "source": [
    "À ce stade, vous n'avez aucun contrôle sur ce que l'utilisateur attribue à votre fonction comme arguments d'entrée et s'ils correspondent à ce que vous vouliez que ces arguments d'entrée soient. Donc pour le moment, écrivez vos fonctions en supposant qu'elles seront utilisées correctement. Vous pouvez vous aider, ainsi que les autres utilisateurs, à utiliser correctement votre fonction en commentant bien votre code.\n",
    "\n",
    "Vous pouvez composer des fonctions en attribuant des appels de fonction comme entrée à d'autres fonctions. Dans l'ordre des opérations, Python exécutera en premier l'appel de fonction le plus interne. Vous pouvez également affecter des expressions mathématiques comme entrée aux fonctions. Dans ce cas, Python exécutera en premier les expressions mathématiques."
   ]
  },
  {
   "cell_type": "markdown",
   "metadata": {
    "lang": "fr"
   },
   "source": [
    "**ESSAYEZ-LE !** Utilisez la fonction *my_adder* pour calculer la somme de $sin ({\\pi})$, $cos ({\\pi})$ et $tan ({\\pi})$. Utilisez des expressions mathématiques comme entrée dans *my_adder* et vérifiez qu'il effectue correctement les opérations."
   ]
  },
  {
   "cell_type": "code",
   "execution_count": 12,
   "metadata": {
    "button": false,
    "new_sheet": false,
    "run_control": {
     "read_only": false
    }
   },
   "outputs": [
    {
     "data": {
      "text/plain": [
       "-1.0"
      ]
     },
     "execution_count": 12,
     "metadata": {},
     "output_type": "execute_result"
    }
   ],
   "source": [
    "d = my_adder(np.sin(np.pi), np.cos(np.pi), np.tan(np.pi))\n",
    "d"
   ]
  },
  {
   "cell_type": "code",
   "execution_count": 13,
   "metadata": {
    "button": false,
    "new_sheet": false,
    "run_control": {
     "read_only": false
    }
   },
   "outputs": [
    {
     "data": {
      "text/plain": [
       "21.0"
      ]
     },
     "execution_count": 13,
     "metadata": {},
     "output_type": "execute_result"
    }
   ],
   "source": [
    "d = my_adder(5 + 2, 3 * 4, 12 / 6)\n",
    "d"
   ]
  },
  {
   "cell_type": "code",
   "execution_count": 14,
   "metadata": {
    "button": false,
    "new_sheet": false,
    "run_control": {
     "read_only": false
    }
   },
   "outputs": [
    {
     "data": {
      "text/plain": [
       "21.0"
      ]
     },
     "execution_count": 14,
     "metadata": {},
     "output_type": "execute_result"
    }
   ],
   "source": [
    "d = (5 + 2) + 3 * 4 + 12 / 6\n",
    "d"
   ]
  },
  {
   "cell_type": "markdown",
   "metadata": {
    "lang": "fr"
   },
   "source": [
    "Les fonctions Python peuvent avoir plusieurs paramètres de sortie. Lorsque vous appelez une fonction avec plusieurs paramètres de sortie, vous pouvez placer les multiples variables que vous souhaitez attribuer séparées par des virgules. La fonction renverra essentiellement les multiples paramètres de résultat dans un tuple, vous pourrez donc décompresser le tuple renvoyé. Considérez la fonction suivante (notez qu'elle a plusieurs paramètres de sortie) :"
   ]
  },
  {
   "cell_type": "code",
   "execution_count": 15,
   "metadata": {
    "button": false,
    "new_sheet": false,
    "run_control": {
     "read_only": false
    }
   },
   "outputs": [],
   "source": [
    "def my_trig_sum(a, b):\n",
    "    \"\"\"\n",
    "    function to demo return multiple\n",
    "    author\n",
    "    date\n",
    "    \"\"\"\n",
    "    out1 = np.sin(a) + np.cos(b)\n",
    "    out2 = np.sin(b) + np.cos(a)\n",
    "    return out1, out2, [out1, out2]"
   ]
  },
  {
   "cell_type": "markdown",
   "metadata": {
    "lang": "fr"
   },
   "source": [
    "**ESSAYEZ-LE !** Calculez la fonction *my_trig_sum* pour *a=2* et *b=3*. Affectez le premier paramètre de sortie à la variable *c*, le deuxième paramètre de sortie à la variable *d* et le troisième paramètre à la variable *e*."
   ]
  },
  {
   "cell_type": "code",
   "execution_count": 16,
   "metadata": {
    "button": false,
    "new_sheet": false,
    "run_control": {
     "read_only": false
    }
   },
   "outputs": [
    {
     "name": "stdout",
     "output_type": "stream",
     "text": [
      "c =-0.0806950697747637, d=-0.2750268284872752, e=[-0.0806950697747637, -0.2750268284872752]\n"
     ]
    }
   ],
   "source": [
    "c, d, e = my_trig_sum(2, 3)\n",
    "print(f\"c ={c}, d={d}, e={e}\")"
   ]
  },
  {
   "cell_type": "markdown",
   "metadata": {
    "button": false,
    "new_sheet": false,
    "run_control": {
     "read_only": false
    }
   },
   "source": [
    "If you assign the results to one variable, you will get a tuple that has all the output parameters. \n",
    "\n",
    "**TRY IT!** Compute the function *my_trig_sum* for *a=2* and *b=3*. Verify the output is a tuple."
   ]
  },
  {
   "cell_type": "code",
   "execution_count": 17,
   "metadata": {
    "button": false,
    "new_sheet": false,
    "run_control": {
     "read_only": false
    }
   },
   "outputs": [
    {
     "name": "stdout",
     "output_type": "stream",
     "text": [
      "c=(-0.0806950697747637, -0.2750268284872752, [-0.0806950697747637, -0.2750268284872752]), and the returned type is <class 'tuple'>\n"
     ]
    }
   ],
   "source": [
    "c = my_trig_sum(2, 3)\n",
    "print(f\"c={c}, and the returned type is {type(c)}\")"
   ]
  },
  {
   "cell_type": "markdown",
   "metadata": {
    "button": false,
    "new_sheet": false,
    "run_control": {
     "read_only": false
    }
   },
   "source": [
    "A function could be defined without an input argument and returning any value. For example: "
   ]
  },
  {
   "cell_type": "code",
   "execution_count": 18,
   "metadata": {
    "button": false,
    "new_sheet": false,
    "run_control": {
     "read_only": false
    }
   },
   "outputs": [],
   "source": [
    "def print_hello():\n",
    "    print('Hello')"
   ]
  },
  {
   "cell_type": "code",
   "execution_count": 19,
   "metadata": {
    "button": false,
    "new_sheet": false,
    "run_control": {
     "read_only": false
    }
   },
   "outputs": [
    {
     "name": "stdout",
     "output_type": "stream",
     "text": [
      "Hello\n"
     ]
    }
   ],
   "source": [
    "print_hello()"
   ]
  },
  {
   "cell_type": "markdown",
   "metadata": {
    "button": false,
    "new_sheet": false,
    "run_control": {
     "read_only": false
    }
   },
   "source": [
    "**Note!** Even there is no input argument, when you call the function, you still need the parentheses. \n",
    "\n",
    "For the input of the argument, we can have the default value as well. See the following example. \n",
    "\n",
    "**EXAMPLE:** Run the following function with and without an input. "
   ]
  },
  {
   "cell_type": "code",
   "execution_count": 20,
   "metadata": {},
   "outputs": [],
   "source": [
    "def print_greeting(day = 'Monday', name = 'Qingkai'):\n",
    "    print(f'Greetings, {name}, today is {day}')"
   ]
  },
  {
   "cell_type": "code",
   "execution_count": 21,
   "metadata": {},
   "outputs": [
    {
     "name": "stdout",
     "output_type": "stream",
     "text": [
      "Greetings, Qingkai, today is Monday\n"
     ]
    }
   ],
   "source": [
    "print_greeting()"
   ]
  },
  {
   "cell_type": "code",
   "execution_count": 22,
   "metadata": {},
   "outputs": [
    {
     "name": "stdout",
     "output_type": "stream",
     "text": [
      "Greetings, Timmy, today is Friday\n"
     ]
    }
   ],
   "source": [
    "print_greeting(name = 'Timmy', day = 'Friday')"
   ]
  },
  {
   "cell_type": "code",
   "execution_count": 23,
   "metadata": {},
   "outputs": [
    {
     "name": "stdout",
     "output_type": "stream",
     "text": [
      "Greetings, Alex, today is Monday\n"
     ]
    }
   ],
   "source": [
    "print_greeting(name = 'Alex')"
   ]
  },
  {
   "cell_type": "markdown",
   "metadata": {},
   "source": [
    "We can see that, if we give a value to the argument when we define the function, this value will be the default value of the function. If the user doesn't provide an input to this argument, then this default value will be used during calling of the function. Besides, the order of the argument is not important when calling the function if you provide the name of the argument. "
   ]
  },
  {
   "cell_type": "markdown",
   "metadata": {
    "button": false,
    "collapsed": true,
    "new_sheet": false,
    "run_control": {
     "read_only": false
    }
   },
   "source": [
    "<!--NAVIGATION-->\n",
    "< [Chapter 3 Functions](chapter03.00-Functions.ipynb) | [Contents](Index.ipynb) | [3.2 Local Variables and Global Variables](chapter03.02-Local-Variables-and-Global-Variables.ipynb) >"
   ]
  }
 ],
 "metadata": {
  "kernelspec": {
   "display_name": "Python 3 (ipykernel)",
   "language": "python",
   "name": "python3"
  },
  "language_info": {
   "codemirror_mode": {
    "name": "ipython",
    "version": 3
   },
   "file_extension": ".py",
   "mimetype": "text/x-python",
   "name": "python",
   "nbconvert_exporter": "python",
   "pygments_lexer": "ipython3",
   "version": "3.11.7"
  },
  "nbTranslate": {
   "displayLangs": [
    "*"
   ],
   "hotkey": "alt-t",
   "langInMainMenu": true,
   "sourceLang": "en",
   "targetLang": "fr",
   "useGoogleTranslate": true
  }
 },
 "nbformat": 4,
 "nbformat_minor": 2
}
