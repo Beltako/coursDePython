{
 "cells": [
  {
   "cell_type": "markdown",
   "metadata": {
    "button": false,
    "new_sheet": false,
    "run_control": {
     "read_only": false
    }
   },
   "source": [
    "<!--BOOK_INFORMATION-->\n",
    "<img align=\"left\" style=\"padding-right:10px;\" src=\"images/book_cover.jpg\" width=\"120\">\n",
    "\n",
    "*Ce cahier contient un extrait de [Programmation Python et méthodes numériques - Un guide pour les ingénieurs et les scientifiques](https://pythonnumericalmethods.berkeley.edu/notebooks/Index.html), le contenu est également disponible sur [Berkeley Python Numerical Methods](https://pythonnumericalmethods.berkeley.edu/notebooks/Index.html).*\n",
    "\n",
    "*Les droits d'auteur du livre appartiennent à Elsevier. Nous avons également ce livre interactif en ligne pour une meilleure expérience d'apprentissage. Le code est publié sous la [licence MIT](https://opensource.org/licenses/MIT). Si vous trouvez ce contenu utile, pensez à soutenir le travail sur [Elsevier](https://www.elsevier.com/books/python-programming-and-numerical-methods/kong/978-0-12-819549-9) ou [Amazon](https://www.amazon.com/Python-Programming-Numerical-Methods-Scientists/dp/0128195495/ref=sr_1_1?dchild=1&keywords=Python+Programming+and+Numerical+Methods+-+A+Guide+for+Engineers+and+Scientists&qid=1604761352&sr=8-1) !*"
   ]
  },
  {
   "cell_type": "markdown",
   "metadata": {
    "button": false,
    "new_sheet": false,
    "run_control": {
     "read_only": false
    }
   },
   "source": [
    "<!--NAVIGATION-->\n",
    "< [CHAPTER 6. Recursion](chapter06.00-Recursion.ipynb) | [Contents](Index.ipynb) | [6.2 Divide and Conquer](chapter06.02-Divide-and-Conquer.ipynb) >"
   ]
  },
  {
   "cell_type": "markdown",
   "metadata": {
    "lang": "fr"
   },
   "source": [
    "# Fonctions récursives"
   ]
  },
  {
   "cell_type": "markdown",
   "metadata": {
    "lang": "fr"
   },
   "source": [
    "Une fonction **récursive** est une fonction qui s'appelle elle-même. Cela fonctionne comme les boucles que nous avons décrites précédemment, mais parfois, il est préférable d'utiliser la récursivité plutôt que les boucles.\n",
    "\n",
    "Chaque fonction récursive comporte deux composants : un __cas de base__ et une __étape récursive__. Le __cas de base__ est généralement la plus petite entrée et a une solution facilement vérifiable. C'est également le mécanisme qui empêche la fonction de s'appeler pour toujours. L'__étape récursive__ est l'ensemble de tous les cas où un __appel récursif__, ou un appel de fonction à elle-même, est effectué."
   ]
  },
  {
   "cell_type": "markdown",
   "metadata": {
    "lang": "fr"
   },
   "source": [
    "A titre d'exemple, nous montrons comment la récursivité peut être utilisée pour définir et calculer la factorielle d'un nombre entier. La factorielle d’un entier $n$ est $1 \\times 2 \\times 3 \\times ... \\times (n - 1) \\times n$. La définition récursive peut s’écrire :\n",
    "\n",
    "\\begin{equation}\n",
    "f(n) = \\begin{cases}\n",
    "    1 &\\text{if $n=1$}\\\\\n",
    "    n \\times f(n-1) & \\text{otherwise}\\\\\n",
    "    \\end{cases}\n",
    "\\end{equation}\n",
    "\n",
    "Le cas de base est $n = 1$, qui est trivial à calculer : $f(1) = 1$. Dans l'étape récursive, $n$ est multiplié par le résultat d'un appel récursif à la factorielle de $n - 1$.\n",
    "\n",
    "**ESSAYEZ-LE !** Écrivez la fonction factorielle en utilisant la récursion. Utilisez votre fonction pour calculer la factorielle de 3."
   ]
  },
  {
   "cell_type": "code",
   "execution_count": 1,
   "metadata": {
    "button": false,
    "new_sheet": false,
    "run_control": {
     "read_only": false
    }
   },
   "outputs": [],
   "source": [
    "def factorial(n):\n",
    "    \"\"\"Computes and returns the factorial of n, \n",
    "    a positive integer.\n",
    "    \"\"\"\n",
    "    if n == 1: # Base cases!\n",
    "        return 1\n",
    "    else: # Recursive step\n",
    "        return n * factorial(n - 1) # Recursive call     "
   ]
  },
  {
   "cell_type": "code",
   "execution_count": 2,
   "metadata": {
    "button": false,
    "new_sheet": false,
    "run_control": {
     "read_only": false
    }
   },
   "outputs": [
    {
     "data": {
      "text/plain": [
       "6"
      ]
     },
     "execution_count": 2,
     "metadata": {},
     "output_type": "execute_result"
    }
   ],
   "source": [
    "factorial(3)"
   ]
  },
  {
   "cell_type": "markdown",
   "metadata": {
    "lang": "fr"
   },
   "source": [
    "__QUE SE PASSE-T-IL ?__ Rappelez-vous d'abord que lorsque Python exécute une fonction, il crée un espace de travail pour les variables créées dans cette fonction, et chaque fois qu'une fonction appelle une autre fonction, il attendra que cette fonction renvoie une réponse. avant de continuer. En programmation, cet espace de travail est appelé pile. Semblable à une pile d'assiettes dans notre cuisine, les éléments d'une pile sont ajoutés ou supprimés du haut de la pile vers le bas, dans l'ordre « dernier entré, premier sorti ». Par exemple, dans `np.sin(np.tan(x))`, `sin` doit attendre que `tan` renvoie une réponse avant de pouvoir être évaluée. Même si une fonction récursive s'appelle elle-même, les mêmes règles s'appliquent.\n",
    "\n",
    "1. Un appel est effectué à `factorial(3)`, un nouvel espace de travail est ouvert pour calculer `factorial(3)`.\n",
    "2. La valeur de l'argument d'entrée 3 est comparée à 1. Comme elles ne sont pas égales, l'instruction else est exécutée.\n",
    "3. `3*factorial(2)` doit être calculé. Un nouvel espace de travail est ouvert pour calculer `factorial(2)`.\n",
    "4. La valeur de l'argument d'entrée 2 est comparée à 1. Comme elles ne sont pas égales, l'instruction else est exécutée.\n",
    "5. `2*factorial(1)` doit être calculé. Un nouvel espace de travail est ouvert pour calculer `factorial(1)`.\n",
    "6. La valeur de l'argument d'entrée 1 est comparée à 1. Puisqu'ils sont égaux, si l'instruction est exécutée.\n",
    "7. La variable de retour reçoit la valeur 1. `factorial(1)` se termine par la sortie 1.\n",
    "8. `2*factorial(1)` peut être résolu en $2 \\times 1 = 2$. La sortie reçoit la valeur 2. `factorial(2)` se termine par la sortie 2.\n",
    "9. `3*factorial(2)` peut être résolu en $3 \\times 2 = 6$. La sortie reçoit la valeur 6. `factorial(3)` se termine par la sortie 6."
   ]
  },
  {
   "cell_type": "markdown",
   "metadata": {
    "lang": "fr"
   },
   "source": [
    "L'ordre des appels récursifs peut être représenté par un arbre de récursivité illustré dans la figure suivante pour `factorial(3)`. Un arbre de récursivité est un diagramme des appels de fonction reliés par des flèches numérotées pour décrire l'ordre dans lequel les appels ont été effectués.\n",
    "\n",
    "<img src=\"images/06.01.01-Recursion_tree_for_factorial.png\" title=\"Recursion tree for factorial(3)\" width=\"200\"/>"
   ]
  },
  {
   "cell_type": "markdown",
   "metadata": {
    "lang": "fr"
   },
   "source": [
    "Les nombres de Fibonacci ont été initialement développés pour modéliser la croissance idéalisée de la population de lapins. Depuis lors, ils se sont révélés importants dans tous les phénomènes naturels. Les nombres de Fibonacci peuvent être générés à l'aide de la formule récursive suivante. Notez que l'étape récursive contient deux appels récursifs et qu'il existe également deux cas de base (c'est-à-dire deux cas qui provoquent l'arrêt de la récursion).\n",
    "\n",
    "\\begin{equation}\n",
    "F(n) = \\begin{cases}\n",
    "    1 &\\text{if $n=1$}\\\\\n",
    "    1 &\\text{if $n=2$}\\\\\n",
    "    F(n-1) + F(n-2) & \\text{otherwise}\\\\\n",
    "    \\end{cases}\n",
    "\\end{equation}\n",
    "\n",
    "**ESSAYEZ-LE !** Écrivez une fonction récursive pour calculer le *n-ième* nombre de Fibonacci. Utilisez votre fonction pour calculer les cinq premiers nombres de Fibonacci. Dessinez l’arbre de récursivité associé."
   ]
  },
  {
   "cell_type": "code",
   "execution_count": 3,
   "metadata": {
    "button": false,
    "new_sheet": false,
    "run_control": {
     "read_only": false
    }
   },
   "outputs": [],
   "source": [
    "def fibonacci(n):\n",
    "    \"\"\"Computes and returns the Fibonacci of n, \n",
    "    a postive integer.\n",
    "    \"\"\"\n",
    "    if n == 1: # first base case\n",
    "        return 1\n",
    "    elif n == 2: # second base case\n",
    "        return 1\n",
    "    else: # Recursive step\n",
    "        return fibonacci(n-1) + fibonacci(n-2) # Recursive call "
   ]
  },
  {
   "cell_type": "code",
   "execution_count": 4,
   "metadata": {
    "button": false,
    "new_sheet": false,
    "run_control": {
     "read_only": false
    }
   },
   "outputs": [
    {
     "name": "stdout",
     "output_type": "stream",
     "text": [
      "1\n",
      "1\n",
      "2\n",
      "3\n",
      "5\n"
     ]
    }
   ],
   "source": [
    "print(fibonacci(1))\n",
    "print(fibonacci(2))\n",
    "print(fibonacci(3))\n",
    "print(fibonacci(4))\n",
    "print(fibonacci(5))"
   ]
  },
  {
   "cell_type": "markdown",
   "metadata": {
    "button": false,
    "new_sheet": false,
    "run_control": {
     "read_only": false
    }
   },
   "source": [
    "![fibonacci(5)](images/06.01.02-Recursion_tree_for_fibonacci.png \"Recursion tree for fibonacci(5)\")"
   ]
  },
  {
   "cell_type": "markdown",
   "metadata": {
    "lang": "fr"
   },
   "source": [
    "À titre d'exercice, considérons la modification suivante de « fibonacci », où les résultats de chaque appel récursif sont affichés à l'écran.\n",
    "\n",
    "**EXEMPLE :** Écrivez une fonction `fibonacci_display` basée sur la modification de `fibonacci`. Pouvez-vous déterminer l'ordre dans lequel les nombres de Fibonacci apparaîtront à l'écran pour fibonacci(5) ?"
   ]
  },
  {
   "cell_type": "code",
   "execution_count": 5,
   "metadata": {
    "button": false,
    "new_sheet": false,
    "run_control": {
     "read_only": false
    }
   },
   "outputs": [],
   "source": [
    "def fibonacci_display(n):\n",
    "    \"\"\"Computes and returns the Fibonacci of n, \n",
    "    a postive integer.\n",
    "    \"\"\"\n",
    "    if n == 1: # first base case\n",
    "        out = 1\n",
    "        print(out)\n",
    "        return out\n",
    "    elif n == 2: # second base case\n",
    "        out = 1\n",
    "        print(out)\n",
    "        return out\n",
    "    else: # Recursive step\n",
    "        out = fibonacci_display(n-1)+fibonacci_display(n-2)\n",
    "        print(out)\n",
    "        return out # Recursive call "
   ]
  },
  {
   "cell_type": "code",
   "execution_count": 6,
   "metadata": {
    "button": false,
    "new_sheet": false,
    "run_control": {
     "read_only": false
    }
   },
   "outputs": [
    {
     "name": "stdout",
     "output_type": "stream",
     "text": [
      "1\n",
      "1\n",
      "2\n",
      "1\n",
      "3\n",
      "1\n",
      "1\n",
      "2\n",
      "5\n"
     ]
    },
    {
     "data": {
      "text/plain": [
       "5"
      ]
     },
     "execution_count": 6,
     "metadata": {},
     "output_type": "execute_result"
    }
   ],
   "source": [
    "fibonacci_display(5)"
   ]
  },
  {
   "cell_type": "markdown",
   "metadata": {
    "lang": "fr"
   },
   "source": [
    "Notez que le nombre d'appels récursifs devient très important, même pour des entrées relativement petites pour ` n `. Si vous n'êtes pas d'accord, essayez de dessiner l'arbre de récursivité pour `fibonacci(10)`. Si vous essayez votre fonction non modifiée pour des entrées autour de 35, vous remarquerez des temps de calcul importants."
   ]
  },
  {
   "cell_type": "code",
   "execution_count": 7,
   "metadata": {
    "button": false,
    "new_sheet": false,
    "run_control": {
     "read_only": false
    }
   },
   "outputs": [
    {
     "data": {
      "text/plain": [
       "9227465"
      ]
     },
     "execution_count": 7,
     "metadata": {},
     "output_type": "execute_result"
    }
   ],
   "source": [
    "fibonacci(35)"
   ]
  },
  {
   "cell_type": "markdown",
   "metadata": {
    "lang": "fr"
   },
   "source": [
    "Il existe une méthode itérative de calcul du *n-ième* nombre de Fibonacci qui ne nécessite qu'un seul espace de travail.\n",
    "\n",
    "**EXEMPLE :** Implémentation itérative pour le calcul des nombres de Fibonacci."
   ]
  },
  {
   "cell_type": "code",
   "execution_count": 8,
   "metadata": {
    "button": false,
    "new_sheet": false,
    "run_control": {
     "read_only": false
    }
   },
   "outputs": [],
   "source": [
    "import numpy as np\n",
    "\n",
    "def iter_fib(n):\n",
    "    fib = np.ones(n)\n",
    "    \n",
    "    for i in range(2, n):\n",
    "        fib[i] = fib[i - 1] + fib[i - 2]\n",
    "        \n",
    "    return fib"
   ]
  },
  {
   "cell_type": "markdown",
   "metadata": {
    "lang": "fr"
   },
   "source": [
    "**ESSAYEZ-LE !** Calculez le *25ème* nombre de Fibonacci en utilisant `iter_fib` et `fibonacci`. Et utilisez la commande magique ` timeit ` pour mesurer le temps d'exécution de chacun. Notez la grande différence dans les temps d’exécution."
   ]
  },
  {
   "cell_type": "code",
   "execution_count": 9,
   "metadata": {
    "button": false,
    "new_sheet": false,
    "run_control": {
     "read_only": false
    }
   },
   "outputs": [
    {
     "name": "stdout",
     "output_type": "stream",
     "text": [
      "8.52 µs ± 141 ns per loop (mean ± std. dev. of 7 runs, 100000 loops each)\n"
     ]
    }
   ],
   "source": [
    "%timeit iter_fib(25)"
   ]
  },
  {
   "cell_type": "code",
   "execution_count": 10,
   "metadata": {
    "button": false,
    "new_sheet": false,
    "run_control": {
     "read_only": false
    }
   },
   "outputs": [
    {
     "name": "stdout",
     "output_type": "stream",
     "text": [
      "16.5 ms ± 260 µs per loop (mean ± std. dev. of 7 runs, 100 loops each)\n"
     ]
    }
   ],
   "source": [
    "%timeit fibonacci(25)"
   ]
  },
  {
   "cell_type": "markdown",
   "metadata": {
    "lang": "fr"
   },
   "source": [
    "Vous pouvez voir dans l'exemple précédent que la version itérative s'exécute beaucoup plus rapidement que la version récursive. En général, les fonctions itératives sont plus rapides que les fonctions récursives qui effectuent la même tâche. Alors pourquoi utiliser des fonctions récursives ? Certaines méthodes de résolution ont une structure naturellement récursive. Dans ces cas-là, il est généralement très difficile d’écrire une contrepartie en utilisant des boucles. L’intérêt principal de l’écriture de fonctions récursives est qu’elles peuvent généralement être écrites de manière beaucoup plus compacte que les fonctions itératives. Le coût de la compacité améliorée est une durée de fonctionnement supplémentaire.\n",
    "\n",
    "La relation entre les arguments d'entrée et le temps d'exécution est discutée plus en détail plus loin dans le chapitre sur la complexité.\n",
    "\n",
    "**CONSEIL !** Essayez d'écrire des fonctions de manière itérative chaque fois que cela vous convient. Vos fonctions fonctionneront plus rapidement."
   ]
  },
  {
   "cell_type": "markdown",
   "metadata": {
    "lang": "fr"
   },
   "source": [
    "**REMARQUE !** Lorsque nous utilisons un appel récursif comme indiqué ci-dessus, nous devons nous assurer qu'il peut atteindre le cas de base, sinon cela entraîne une récursivité infinie. En Python, lorsque nous exécutons une fonction récursive sur une sortie volumineuse qui ne peut pas atteindre le cas de base, nous rencontrerons une « erreur de profondeur de récursion maximale dépassée ». Essayez l'exemple suivant et voyez ce que vous obtenez."
   ]
  },
  {
   "cell_type": "code",
   "execution_count": 11,
   "metadata": {},
   "outputs": [
    {
     "ename": "RecursionError",
     "evalue": "maximum recursion depth exceeded in comparison",
     "output_type": "error",
     "traceback": [
      "\u001b[0;31m---------------------------------------------------------------------------\u001b[0m",
      "\u001b[0;31mRecursionError\u001b[0m                            Traceback (most recent call last)",
      "\u001b[0;32m<ipython-input-11-4d2572cc43ba>\u001b[0m in \u001b[0;36m<module>\u001b[0;34m\u001b[0m\n\u001b[0;32m----> 1\u001b[0;31m \u001b[0mfactorial\u001b[0m\u001b[0;34m(\u001b[0m\u001b[0;36m5000\u001b[0m\u001b[0;34m)\u001b[0m\u001b[0;34m\u001b[0m\u001b[0;34m\u001b[0m\u001b[0m\n\u001b[0m",
      "\u001b[0;32m<ipython-input-1-d6624133408f>\u001b[0m in \u001b[0;36mfactorial\u001b[0;34m(n)\u001b[0m\n\u001b[1;32m      6\u001b[0m         \u001b[0;32mreturn\u001b[0m \u001b[0;36m1\u001b[0m\u001b[0;34m\u001b[0m\u001b[0;34m\u001b[0m\u001b[0m\n\u001b[1;32m      7\u001b[0m     \u001b[0;32melse\u001b[0m\u001b[0;34m:\u001b[0m \u001b[0;31m# Recursive step\u001b[0m\u001b[0;34m\u001b[0m\u001b[0;34m\u001b[0m\u001b[0m\n\u001b[0;32m----> 8\u001b[0;31m         \u001b[0;32mreturn\u001b[0m \u001b[0mn\u001b[0m \u001b[0;34m*\u001b[0m \u001b[0mfactorial\u001b[0m\u001b[0;34m(\u001b[0m\u001b[0mn\u001b[0m \u001b[0;34m-\u001b[0m \u001b[0;36m1\u001b[0m\u001b[0;34m)\u001b[0m \u001b[0;31m# Recursive call\u001b[0m\u001b[0;34m\u001b[0m\u001b[0;34m\u001b[0m\u001b[0m\n\u001b[0m",
      "... last 1 frames repeated, from the frame below ...\n",
      "\u001b[0;32m<ipython-input-1-d6624133408f>\u001b[0m in \u001b[0;36mfactorial\u001b[0;34m(n)\u001b[0m\n\u001b[1;32m      6\u001b[0m         \u001b[0;32mreturn\u001b[0m \u001b[0;36m1\u001b[0m\u001b[0;34m\u001b[0m\u001b[0;34m\u001b[0m\u001b[0m\n\u001b[1;32m      7\u001b[0m     \u001b[0;32melse\u001b[0m\u001b[0;34m:\u001b[0m \u001b[0;31m# Recursive step\u001b[0m\u001b[0;34m\u001b[0m\u001b[0;34m\u001b[0m\u001b[0m\n\u001b[0;32m----> 8\u001b[0;31m         \u001b[0;32mreturn\u001b[0m \u001b[0mn\u001b[0m \u001b[0;34m*\u001b[0m \u001b[0mfactorial\u001b[0m\u001b[0;34m(\u001b[0m\u001b[0mn\u001b[0m \u001b[0;34m-\u001b[0m \u001b[0;36m1\u001b[0m\u001b[0;34m)\u001b[0m \u001b[0;31m# Recursive call\u001b[0m\u001b[0;34m\u001b[0m\u001b[0;34m\u001b[0m\u001b[0m\n\u001b[0m",
      "\u001b[0;31mRecursionError\u001b[0m: maximum recursion depth exceeded in comparison"
     ]
    }
   ],
   "source": [
    "factorial(5000)"
   ]
  },
  {
   "cell_type": "markdown",
   "metadata": {
    "lang": "fr"
   },
   "source": [
    "Nous pouvons gérer la limite de récursion en utilisant le module `sys` en Python et définir une limite plus élevée. Exécutez le code suivant et vous ne verrez pas l'erreur."
   ]
  },
  {
   "cell_type": "code",
   "execution_count": null,
   "metadata": {},
   "outputs": [],
   "source": [
    "import sys\n",
    "sys.setrecursionlimit(10**5)\n",
    "\n",
    "factorial(5000)"
   ]
  },
  {
   "cell_type": "markdown",
   "metadata": {
    "button": false,
    "new_sheet": false,
    "run_control": {
     "read_only": false
    }
   },
   "source": [
    "<!--NAVIGATION-->\n",
    "< [CHAPTER 6. Recursion](chapter06.00-Recursion.ipynb) | [Contents](Index.ipynb) | [6.2 Divide and Conquer](chapter06.02-Divide-and-Conquer.ipynb) >"
   ]
  }
 ],
 "metadata": {
  "kernelspec": {
   "display_name": "Python 3 (ipykernel)",
   "language": "python",
   "name": "python3"
  },
  "language_info": {
   "codemirror_mode": {
    "name": "ipython",
    "version": 3
   },
   "file_extension": ".py",
   "mimetype": "text/x-python",
   "name": "python",
   "nbconvert_exporter": "python",
   "pygments_lexer": "ipython3",
   "version": "3.11.7"
  },
  "nbTranslate": {
   "displayLangs": [
    "*"
   ],
   "hotkey": "alt-t",
   "langInMainMenu": true,
   "sourceLang": "en",
   "targetLang": "fr",
   "useGoogleTranslate": true
  }
 },
 "nbformat": 4,
 "nbformat_minor": 2
}
