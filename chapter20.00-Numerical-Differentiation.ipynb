{
 "cells": [
  {
   "cell_type": "markdown",
   "metadata": {
    "button": false,
    "new_sheet": false,
    "run_control": {
     "read_only": false
    }
   },
   "source": [
    "<!--BOOK_INFORMATION-->\n",
    "<img align=\"left\" style=\"padding-right:10px;\" src=\"images/book_cover.jpg\" width=\"120\">\n",
    "\n",
    "*Ce cahier contient un extrait de [Programmation Python et méthodes numériques - Un guide pour les ingénieurs et les scientifiques](https://pythonnumericalmethods.berkeley.edu/notebooks/Index.html), le contenu est également disponible sur [Berkeley Python Numerical Methods](https://pythonnumericalmethods.berkeley.edu/notebooks/Index.html).*\n",
    "\n",
    "*Les droits d'auteur du livre appartiennent à Elsevier. Nous avons également ce livre interactif en ligne pour une meilleure expérience d'apprentissage. Le code est publié sous la [licence MIT](https://opensource.org/licenses/MIT). Si vous trouvez ce contenu utile, pensez à soutenir le travail sur [Elsevier](https://www.elsevier.com/books/python-programming-and-numerical-methods/kong/978-0-12-819549-9) ou [Amazon](https://www.amazon.com/Python-Programming-Numerical-Methods-Scientists/dp/0128195495/ref=sr_1_1?dchild=1&keywords=Python+Programming+and+Numerical+Methods+-+A+Guide+for+Engineers+and+Scientists&qid=1604761352&sr=8-1) !*"
   ]
  },
  {
   "cell_type": "markdown",
   "metadata": {
    "button": false,
    "new_sheet": false,
    "run_control": {
     "read_only": false
    }
   },
   "source": [
    "<!--NAVIGATION-->\n",
    "< [19.6 Summary and Problems](chapter19.06-Summary-and-Problems.ipynb) | [Contents](Index.ipynb) | [20.1 Numerical Differentiation Problem Statement](chapter20.01-Numerical-Differentiation-Problem-Statement.ipynb)  >"
   ]
  },
  {
   "cell_type": "markdown",
   "metadata": {
    "lang": "fr"
   },
   "source": [
    "# Chapitre 20. Différenciation numérique"
   ]
  },
  {
   "cell_type": "markdown",
   "metadata": {
    "lang": "fr"
   },
   "source": [
    "#### SOMMAIRE\n",
    "\n",
    "---\n",
    "\n",
    "* [**20.1 Énoncé du problème de différenciation numérique**](chapter20.01-Numerical-Differentiation-Problem-Statement.ipynb)\n",
    "* [**20.2 Dérivés approximatifs par différence finie**](chapter20.02-Finite-Difference-Approximating-Derivatives.ipynb)\n",
    "* [**20.3 Approximation des dérivés d'ordre supérieur**](chapter20.04-Numerical-Differentiation-with-Noise.ipynb)\n",
    "* [**20.4 Différenciation numérique avec bruit**](chapitre20.04-Numerical-Differentiation-with-Noise.ipynb)\n",
    "* [**20.5 Résumé et problèmes**](chapter20.05-Summary-and-Problems.ipynb)"
   ]
  },
  {
   "cell_type": "markdown",
   "metadata": {
    "lang": "fr"
   },
   "source": [
    "---\n",
    "\n",
    "## Motivation\n",
    "\n",
    "De nombreux systèmes d’ingénierie et scientifiques évoluent au fil du temps, de l’espace et de nombreuses autres dimensions d’intérêt. En mathématiques, les dérivées de fonctions sont souvent utilisées pour modéliser ces changements. Cependant, en pratique, la fonction peut ne pas être explicitement\n",
    "connue, ou la fonction peut être implicitement représentée par un ensemble de points de données. Dans ces cas et dans d’autres, il peut être souhaitable de calculer les dérivées numériquement plutôt qu’analytiquement.\n",
    "\n",
    "L’objet de ce chapitre est la différenciation numérique. À la fin de ce chapitre, vous devriez être capable de dériver quelques schémas de différenciation numérique de base et leur précision.\n",
    "\n",
    "---"
   ]
  }
 ],
 "metadata": {
  "kernelspec": {
   "display_name": "Python 3 (ipykernel)",
   "language": "python",
   "name": "python3"
  },
  "language_info": {
   "codemirror_mode": {
    "name": "ipython",
    "version": 3
   },
   "file_extension": ".py",
   "mimetype": "text/x-python",
   "name": "python",
   "nbconvert_exporter": "python",
   "pygments_lexer": "ipython3",
   "version": "3.11.7"
  },
  "nbTranslate": {
   "displayLangs": [
    "*"
   ],
   "hotkey": "alt-t",
   "langInMainMenu": true,
   "sourceLang": "en",
   "targetLang": "fr",
   "useGoogleTranslate": true
  }
 },
 "nbformat": 4,
 "nbformat_minor": 2
}
