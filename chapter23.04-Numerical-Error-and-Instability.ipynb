{
 "cells": [
  {
   "cell_type": "markdown",
   "metadata": {
    "button": false,
    "new_sheet": false,
    "run_control": {
     "read_only": false
    }
   },
   "source": [
    "<!--BOOK_INFORMATION-->\n",
    "<img align=\"left\" style=\"padding-right:10px;\" src=\"images/book_cover.jpg\" width=\"120\">\n",
    "\n",
    "*Ce cahier contient un extrait de [Programmation Python et méthodes numériques - Un guide pour les ingénieurs et les scientifiques](https://pythonnumericalmethods.berkeley.edu/notebooks/Index.html), le contenu est également disponible sur [Berkeley Python Numerical Methods](https://pythonnumericalmethods.berkeley.edu/notebooks/Index.html).*\n",
    "\n",
    "*Les droits d'auteur du livre appartiennent à Elsevier. Nous avons également ce livre interactif en ligne pour une meilleure expérience d'apprentissage. Le code est publié sous la [licence MIT](https://opensource.org/licenses/MIT). Si vous trouvez ce contenu utile, pensez à soutenir le travail sur [Elsevier](https://www.elsevier.com/books/python-programming-and-numerical-methods/kong/978-0-12-819549-9) ou [Amazon](https://www.amazon.com/Python-Programming-Numerical-Methods-Scientists/dp/0128195495/ref=sr_1_1?dchild=1&keywords=Python+Programming+and+Numerical+Methods+-+A+Guide+for+Engineers+and+Scientists&qid=1604761352&sr=8-1) !*"
   ]
  },
  {
   "cell_type": "markdown",
   "metadata": {
    "button": false,
    "new_sheet": false,
    "run_control": {
     "read_only": false
    }
   },
   "source": [
    "<!--NAVIGATION-->\n",
    "< [23.3 Finite Difference Method](chapter23.03-Finite-Difference-Method.ipynb) | [Contents](Index.ipynb) | [23.5 Summary and Problems](chapter23.05-Summary-and-Problems.ipynb) >"
   ]
  },
  {
   "cell_type": "markdown",
   "metadata": {
    "lang": "fr"
   },
   "source": [
    "# Erreur numérique et instabilité (BVP)"
   ]
  },
  {
   "cell_type": "markdown",
   "metadata": {
    "lang": "fr"
   },
   "source": [
    "Les problèmes de valeurs limites ont également les deux problèmes principaux dont nous avons parlé dans le chapitre précédent, l'**erreur numérique - précision** et la **stabilité**. Selon les différentes méthodes utilisées, qu'il s'agisse de la méthode de prise de vue ou de la méthode des différences finies, elles sont différentes.\n",
    "\n",
    "Pour la méthode de tir, l'*erreur numérique* est similaire à ce que nous avons décrit pour les problèmes de valeur initiale, puisque la méthode de tir consiste essentiellement à transformer le problème de valeur limite en une série de problèmes de valeur initiale. En termes de stabilité de la méthode, nous pouvons voir dans l'exemple du chapitre 23.02 que même nos suppositions initiales ne sont pas proches de la vraie réponse, la méthode renvoie une solution numérique précise. Cela est dû au fait que l’ajout de la contrainte la plus à droite empêche les erreurs d’augmenter de manière illimitée.\n",
    "\n",
    "Dans le cas des méthodes aux différences finies, l’erreur numérique est déterminée par l’ordre de précision du schéma numérique utilisé. La précision des différents schémas utilisés pour les approximations dérivées est discutée au chapitre 20.02. La précision de la méthode des différences finies est déterminée par la plus grande des deux erreurs de troncature, le schéma de différences utilisé pour l'équation différentielle ou celui du schéma de différences utilisé pour discrétiser les conditions aux limites (on voit que la taille du pas a un fort effet sur la méthode des différences finies). précision de la méthode des différences finies). Étant donné que les méthodes des différences finies transforment essentiellement le BVP en résolution d'un système d'équations, sa stabilité dépend donc de la stabilité du schéma utilisé pour résoudre simultanément le système d'équations résultant."
   ]
  },
  {
   "cell_type": "markdown",
   "metadata": {
    "button": false,
    "new_sheet": false,
    "run_control": {
     "read_only": false
    }
   },
   "source": [
    "<!--NAVIGATION-->\n",
    "< [23.3 Finite Difference Method](chapter23.03-Finite-Difference-Method.ipynb) | [Contents](Index.ipynb) | [23.5 Summary and Problems](chapter23.05-Summary-and-Problems.ipynb) >"
   ]
  }
 ],
 "metadata": {
  "kernelspec": {
   "display_name": "Python 3 (ipykernel)",
   "language": "python",
   "name": "python3"
  },
  "language_info": {
   "codemirror_mode": {
    "name": "ipython",
    "version": 3
   },
   "file_extension": ".py",
   "mimetype": "text/x-python",
   "name": "python",
   "nbconvert_exporter": "python",
   "pygments_lexer": "ipython3",
   "version": "3.11.7"
  },
  "nbTranslate": {
   "displayLangs": [
    "*"
   ],
   "hotkey": "alt-t",
   "langInMainMenu": true,
   "sourceLang": "en",
   "targetLang": "fr",
   "useGoogleTranslate": true
  }
 },
 "nbformat": 4,
 "nbformat_minor": 2
}
