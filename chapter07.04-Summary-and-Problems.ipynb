{
 "cells": [
  {
   "cell_type": "markdown",
   "metadata": {
    "button": false,
    "new_sheet": false,
    "run_control": {
     "read_only": false
    }
   },
   "source": [
    "<!--BOOK_INFORMATION-->\n",
    "<img align=\"left\" style=\"padding-right:10px;\" src=\"images/book_cover.jpg\" width=\"120\">\n",
    "\n",
    "*Ce cahier contient un extrait de [Programmation Python et méthodes numériques - Un guide pour les ingénieurs et les scientifiques](https://pythonnumericalmethods.berkeley.edu/notebooks/Index.html), le contenu est également disponible sur [Berkeley Python Numerical Methods](https://pythonnumericalmethods.berkeley.edu/notebooks/Index.html).*\n",
    "\n",
    "*Les droits d'auteur du livre appartiennent à Elsevier. Nous avons également ce livre interactif en ligne pour une meilleure expérience d'apprentissage. Le code est publié sous la [licence MIT](https://opensource.org/licenses/MIT). Si vous trouvez ce contenu utile, pensez à soutenir le travail sur [Elsevier](https://www.elsevier.com/books/python-programming-and-numerical-methods/kong/978-0-12-819549-9) ou [Amazon](https://www.amazon.com/Python-Programming-Numerical-Methods-Scientists/dp/0128195495/ref=sr_1_1?dchild=1&keywords=Python+Programming+and+Numerical+Methods+-+A+Guide+for+Engineers+and+Scientists&qid=1604761352&sr=8-1) !*"
   ]
  },
  {
   "cell_type": "markdown",
   "metadata": {
    "button": false,
    "new_sheet": false,
    "run_control": {
     "read_only": false
    }
   },
   "source": [
    "<!--NAVIGATION-->\n",
    "< [7.3 Inheritance, Encapsulation and Polymorphism](chapter07.03-Inheritance-Encapsulation-and-Polymorphism.ipynb) | [Contents](Index.ipynb) | [CHAPTER 8. Complexity](chapter08.00-Complexity.ipynb) >"
   ]
  },
  {
   "cell_type": "markdown",
   "metadata": {
    "lang": "fr"
   },
   "source": [
    "# Résumé\n",
    "\n",
    "\n",
    "1. POO et POP sont différents. La POO présente de nombreux avantages et est souvent plus appropriée pour une utilisation dans des projets à grande échelle.\n",
    "2. La classe est le modèle de la structure qui nous permet de regrouper les données et les méthodes, tandis que l'objet est une instance de la classe.\n",
    "3. Le concept d'« héritage » est la clé de la POO, qui nous permet de faire référence à des attributs ou à des méthodes de la superclasse.\n",
    "4. Le concept « d'encapsulation » nous permet de cacher certains détails privés d'une classe aux autres objets.\n",
    "5. Le concept de « polymorphisme » nous permet d'utiliser une opération commune de différentes manières pour différentes entrées de données."
   ]
  },
  {
   "cell_type": "markdown",
   "metadata": {
    "lang": "fr"
   },
   "source": [
    "# Problèmes\n",
    "\n",
    "1. Décrivez quelles sont les différences entre les classes et les objets.\n",
    "2. Décrivez pourquoi nous utilisons self comme premier argument dans les méthodes.\n",
    "3. Qu'est-ce qu'un constructeur ? Et pourquoi l’utilisons-nous ?\n",
    "4. Décrivez les différences entre les attributs de classe et d'instance.\n",
    "5. Ce qui suit est une définition de la classe *Point* qui prend la coordonnée x, y. Ajoutez une méthode *plot_point* qui trace la position du point.\n",
    "\n",
    "    ```python\n",
    "   importer matplotlib.pyplot en tant que plt\n",
    "\n",
    "   classe Point() :\n",
    "       def __init__(soi, x, y) :\n",
    "           soi.x = x\n",
    "           soi.y = y\n",
    "    ```\n",
    "6. Utilisez la classe du problème 5, ajoutez une méthode *calculate_dist* qui prend x et y à partir d'un autre point et renvoie la distance calculée entre les deux points.\n",
    "7. Qu'est-ce que l'héritage ?\n",
    "8. Comment hériter d’une superclasse et ajouter de nouvelles méthodes ?\n",
    "9. Lorsque nous héritons d’une superclasse, nous devons remplacer une méthode par une nouvelle, comment faire ?\n",
    "10. Quelle est la super méthode ? Pourquoi en avons-nous besoin?\n",
    "11. Créez une classe pour modéliser un objet du monde réel et créez une nouvelle classe pour en hériter. Un exemple peut être le suivant. Vous devez utiliser un exemple différent et utiliser autant de choses que nous avons apprises que possible."
   ]
  },
  {
   "cell_type": "code",
   "execution_count": 2,
   "metadata": {
    "button": false,
    "new_sheet": false,
    "run_control": {
     "read_only": false
    }
   },
   "outputs": [
    {
     "name": "stdout",
     "output_type": "stream",
     "text": [
      "I am ready to drive!\n",
      "I am still running!\n"
     ]
    }
   ],
   "source": [
    "class Car():\n",
    "    def __init__(self, brand, color):\n",
    "        self.brand = brand\n",
    "        self.color = color\n",
    "    \n",
    "    def start_my_car(self):\n",
    "        print('I am ready to drive!')\n",
    "        \n",
    "class Truck(Car):\n",
    "    def __init__(self, brand, color, size):\n",
    "        super().__init__(brand, color)\n",
    "        self.size = size\n",
    "        \n",
    "    def start_my_car(self, key):\n",
    "        if key == 'truck_key':\n",
    "            print('I am ready to drive!')\n",
    "        else:\n",
    "            print('Key is not right')\n",
    "            \n",
    "    def stop_my_car(self, brake):\n",
    "        if brake:\n",
    "            print('The engine is stopped!')\n",
    "        else:\n",
    "            print('I am still running!')\n",
    "            \n",
    "truck1 = Truck('Toyota', 'Silver', 'Large')\n",
    "truck1.start_my_car('truck_key')\n",
    "truck1.stop_my_car(brake = False)"
   ]
  },
  {
   "cell_type": "markdown",
   "metadata": {
    "button": false,
    "new_sheet": false,
    "run_control": {
     "read_only": false
    }
   },
   "source": [
    "<!--NAVIGATION-->\n",
    "< [7.3 Inheritance, Encapsulation and Polymorphism](chapter07.03-Inheritance-Encapsulation-and-Polymorphism.ipynb) | [Contents](Index.ipynb) | [CHAPTER 8. Complexity](chapter08.00-Complexity.ipynb) >"
   ]
  }
 ],
 "metadata": {
  "kernelspec": {
   "display_name": "Python 3 (ipykernel)",
   "language": "python",
   "name": "python3"
  },
  "language_info": {
   "codemirror_mode": {
    "name": "ipython",
    "version": 3
   },
   "file_extension": ".py",
   "mimetype": "text/x-python",
   "name": "python",
   "nbconvert_exporter": "python",
   "pygments_lexer": "ipython3",
   "version": "3.11.7"
  },
  "nbTranslate": {
   "displayLangs": [
    "*"
   ],
   "hotkey": "alt-t",
   "langInMainMenu": true,
   "sourceLang": "en",
   "targetLang": "fr",
   "useGoogleTranslate": true
  }
 },
 "nbformat": 4,
 "nbformat_minor": 2
}
