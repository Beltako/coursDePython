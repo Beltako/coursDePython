{
 "cells": [
  {
   "cell_type": "markdown",
   "metadata": {
    "button": false,
    "new_sheet": false,
    "run_control": {
     "read_only": false
    }
   },
   "source": [
    "<!--BOOK_INFORMATION-->\n",
    "<img align=\"left\" style=\"padding-right:10px;\" src=\"images/book_cover.jpg\" width=\"120\">\n",
    "\n",
    "*Ce cahier contient un extrait de [Programmation Python et méthodes numériques - Un guide pour les ingénieurs et les scientifiques](https://pythonnumericalmethods.berkeley.edu/notebooks/Index.html), le contenu est également disponible sur [Berkeley Python Numerical Methods](https://pythonnumericalmethods.berkeley.edu/notebooks/Index.html).*\n",
    "\n",
    "*Les droits d'auteur du livre appartiennent à Elsevier. Nous avons également ce livre interactif en ligne pour une meilleure expérience d'apprentissage. Le code est publié sous la [licence MIT](https://opensource.org/licenses/MIT). Si vous trouvez ce contenu utile, pensez à soutenir le travail sur [Elsevier](https://www.elsevier.com/books/python-programming-and-numerical-methods/kong/978-0-12-819549-9) ou [Amazon](https://www.amazon.com/Python-Programming-Numerical-Methods-Scientists/dp/0128195495/ref=sr_1_1?dchild=1&keywords=Python+Programming+and+Numerical+Methods+-+A+Guide+for+Engineers+and+Scientists&qid=1604761352&sr=8-1) !*"
   ]
  },
  {
   "cell_type": "markdown",
   "metadata": {
    "button": false,
    "new_sheet": false,
    "run_control": {
     "read_only": false
    }
   },
   "source": [
    "<!--NAVIGATION-->\n",
    "< [22.6 Python ODE Solvers](chapter22.06-Python-ODE-Solvers.ipynb) | [Contents](Index.ipynb) | [22.8 Summary and Problems](chapter22.08-Summary-and-Problems.ipynb) >"
   ]
  },
  {
   "cell_type": "markdown",
   "metadata": {
    "lang": "fr"
   },
   "source": [
    "# Sujets avancés\n",
    "\n",
    "Dans cette section, nous aborderons brièvement certains sujets plus avancés dans IVP ODE. Nous n'entrerons pas dans les détails, mais si vous êtes intéressé, nous vous suggérons de consulter quelques excellents livres tels que Ordinary Differential Equations de Morris Tenenbaum et Harry Pollard, Numerical Methods for Engineers and Scientists d'Amos Gilat et Vish Subramaniam. ainsi que Méthodes numériques pour les équations différentielles ordinaires par J.C. Butcher.\n",
    "\n",
    "## Méthodes en plusieurs étapes\n",
    "\n",
    "Jusqu'à présent, la plupart des méthodes dont nous avons parlé sont appelées **méthodes en une étape** car l'approximation du point suivant $t_{j+1}$ est obtenue en utilisant uniquement les informations de $S(t_{j})$ et $t_{j}$ au point précédent. Bien que certaines méthodes, telles que les méthodes RK, puissent utiliser des informations d'évaluation de fonction à des points compris entre $t_{j}$ et $t_{j+1}$, elles ne conservent pas ces informations pour une utilisation directe dans des approximations futures. Les **méthodes multi-étapes** tentent de gagner en efficacité en utilisant deux ou plusieurs points précédents pour approximer la solution au point suivant $t_{j+1}$. Pour les méthodes linéaires en plusieurs étapes, nous pouvons utiliser une combinaison linéaire des points précédents et des valeurs dérivées pour approximer le point suivant. Les coefficients peuvent être déterminés à l’aide de l’interpolation polynomiale dont nous avons parlé au chapitre 17.\n",
    "\n",
    "Il existe trois familles de méthodes linéaires à plusieurs étapes couramment utilisées : les méthodes Adams-Bashforth, les méthodes Adams-Moulton et les formules de différenciation vers l'arrière (BDF).\n",
    "\n",
    "## Rigidité ODE\n",
    "\n",
    "**Raideur** est un concept difficile et important dans la solution numérique des ODE. Une équation ODE rigide fera varier la solution recherchée lentement et de manière non stable, c'est-à-dire que s'il existe des solutions proches, la solution changera radicalement. Cela nous obligera à faire de petits pas pour obtenir des résultats raisonnables. Par conséquent, la rigidité est généralement une question d’efficacité : si nous ne nous soucions pas du coût de calcul, nous ne nous soucierions pas de la rigidité.\n",
    "\n",
    "En sciences et en ingénierie, nous avons souvent besoin de modéliser des phénomènes physiques avec des échelles de temps ou des échelles spatiales très différentes. Ces applications conduisent généralement à des systèmes d'EDO dont la solution inclut plusieurs termes dont les amplitudes varient avec le temps à un rythme significativement différent. Par exemple, comme la figure suivante montre un système de masse à ressort, dont la masse peut osciller de gauche à droite ainsi que de haut en bas grâce au ressort. Par conséquent, nous avons deux échelles de temps différentes, à savoir l’échelle de temps du mouvement de balancement ainsi que celle du mouvement d’oscillation. Si le ressort est vraiment rigide, l’échelle de temps du mouvement d’oscillation sera beaucoup plus petite que celle du mouvement de balancement. Afin d’étudier le système, nous devons utiliser un très petit pas de temps pour obtenir une bonne solution pour l’oscillation.\n",
    "\n",
    "<img src=\"images/22.07.01-Spring-mass-system.png\" alt=\"stiffness\" title=\"The illustration of the stiffness equation.\" width=\"400\"/>\n",
    "\n",
    "En fonction des propriétés de l'ODE et du niveau de précision souhaité, vous devrez peut-être utiliser différentes méthodes pour `solve_ivp`. Il existe de nombreuses méthodes parmi lesquelles choisir pour l'argument `method` dans `solve_ivp `; parcourez la [documentation](https://docs.scipy.org/doc/scipy/reference/generated/scipy.integrate.solve_ivp.html#scipy.integrate.solve_ivp) pour plus d'informations . Comme suggéré par la documentation, utilisez la méthode `\"RK45\"` ou `\"RK23\"` pour les problèmes non rigides et `\"Radau\"` ou `\"BDF\"` pour les problèmes rigides. En cas de doute, essayez d'abord d'exécuter « RK45 » . Si cette solution connaît un nombre inhabituellement élevé d'itérations, diverge ou échoue, ce problème est susceptible d'être complexe et vous devez utiliser « Radau » ou « BDF ». `\"LSODA\"` peut également être un bon choix universel, mais il peut être un peu moins pratique à utiliser car il encapsule l'ancien code Fortran."
   ]
  },
  {
   "cell_type": "markdown",
   "metadata": {
    "button": false,
    "new_sheet": false,
    "run_control": {
     "read_only": false
    }
   },
   "source": [
    "<!--NAVIGATION-->\n",
    "< [22.6 Python ODE Solvers](chapter22.06-Python-ODE-Solvers.ipynb) | [Contents](Index.ipynb) | [22.8 Summary and Problems](chapter22.08-Summary-and-Problems.ipynb) >"
   ]
  }
 ],
 "metadata": {
  "kernelspec": {
   "display_name": "Python 3 (ipykernel)",
   "language": "python",
   "name": "python3"
  },
  "language_info": {
   "codemirror_mode": {
    "name": "ipython",
    "version": 3
   },
   "file_extension": ".py",
   "mimetype": "text/x-python",
   "name": "python",
   "nbconvert_exporter": "python",
   "pygments_lexer": "ipython3",
   "version": "3.11.7"
  },
  "nbTranslate": {
   "displayLangs": [
    "*"
   ],
   "hotkey": "alt-t",
   "langInMainMenu": true,
   "sourceLang": "en",
   "targetLang": "fr",
   "useGoogleTranslate": true
  }
 },
 "nbformat": 4,
 "nbformat_minor": 2
}
